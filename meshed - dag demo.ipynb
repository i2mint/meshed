{
 "cells": [
  {
   "cell_type": "markdown",
   "metadata": {
    "toc": true
   },
   "source": [
    "<h1>Table of Contents<span class=\"tocSkip\"></span></h1>\n",
    "<div class=\"toc\"><ul class=\"toc-item\"><li><span><a href=\"#Example:-Evaluating-a-classifier\" data-toc-modified-id=\"Example:-Evaluating-a-classifier-1\"><span class=\"toc-item-num\">1&nbsp;&nbsp;</span>Example: Evaluating a classifier</a></span><ul class=\"toc-item\"><li><span><a href=\"#classifier_score\" data-toc-modified-id=\"classifier_score-1.1\"><span class=\"toc-item-num\">1.1&nbsp;&nbsp;</span>classifier_score</a></span></li><li><span><a href=\"#Making-it-more-useful\" data-toc-modified-id=\"Making-it-more-useful-1.2\"><span class=\"toc-item-num\">1.2&nbsp;&nbsp;</span>Making it more useful</a></span></li><li><span><a href=\"#And-further\" data-toc-modified-id=\"And-further-1.3\"><span class=\"toc-item-num\">1.3&nbsp;&nbsp;</span>And further</a></span></li></ul></li></ul></div>"
   ]
  },
  {
   "cell_type": "code",
   "execution_count": null,
   "metadata": {},
   "outputs": [],
   "source": []
  },
  {
   "cell_type": "markdown",
   "metadata": {},
   "source": [
    "# Example: Evaluating a classifier"
   ]
  },
  {
   "cell_type": "markdown",
   "metadata": {},
   "source": [
    "We'd like to develop some tools that will help a user to make a domain-specific metric (DSM) to evaluate binary classifiers.\n",
    "\n",
    "Often, off-the-shelf metrics are used, such as accuracy, precision, recall, false-positive-rate, etc. \n",
    "\n",
    "The number these produce may not be directly interpretable in the domain they're being applied to. \n",
    "\n",
    "It can be helpful to see what false negative, false positive, etc. mean in the given context, \n",
    "and associate a value (penalty or reward) to these \n",
    "that reflects how much they contribute towards or contravene the actual objective of the classifier. \n",
    "\n",
    "If a COVID test turns out positive, what actions will be taken and what value do their consequences have depending on whether the positive test \n",
    "was true or false? Same question for true/false negative test results. Doing this valuation then allows us to produce a formula that\n",
    "evaluates the worth of a test that has more meaning that flat false positive and false negative rates. \n"
   ]
  },
  {
   "cell_type": "markdown",
   "metadata": {},
   "source": [
    "##  classifier_score"
   ]
  },
  {
   "cell_type": "code",
   "execution_count": 3,
   "metadata": {
    "ExecuteTime": {
     "end_time": "2021-07-30T12:03:20.486135Z",
     "start_time": "2021-07-30T12:03:20.461874Z"
    }
   },
   "outputs": [],
   "source": [
    "def _aligned_items(a, b):\n",
    "    \"\"\"Yield (k, a_value, b_value) triples for all k that are both a key of a and of b\"\"\"\n",
    "    # reason for casting to dict is to make sure things like pd.Series use the right keys.\n",
    "    # could also use k in a.keys() etc. to solve this.\n",
    "    a = dict(a)\n",
    "    b = dict(b)\n",
    "    for k in a:\n",
    "        if k in b:\n",
    "            yield k, a[k], b[k]\n",
    "            \n",
    "def dot_product(a, b):\n",
    "    \"\"\"\n",
    "    >>> dot_product({'a': 1, 'b': 2, 'c': 3}, {'b': 4, 'c': -1, 'd': 'whatever'})\n",
    "    5\n",
    "    \"\"\"\n",
    "    return sum(ak * bk for _, ak, bk in _aligned_items(a, b))\n",
    "\n",
    "\n",
    "def classifier_score(confusion_count, confusion_value):\n",
    "    \"\"\"Compute a score for a classifier that produced the `confusion_count`, based on the given `confusion_value`.\n",
    "    Meant to be curried by fixing the confusion_value dict.\n",
    "    \n",
    "    The function is purposely general -- it is not specific to binary classifier outcomes, or even any classifier outcomes. \n",
    "    It simply computes a normalized dot product, depending on the inputs keys to align values to multiply and \n",
    "    considering a missing key as an expression of a null value. \n",
    "    \"\"\"\n",
    "    return dot_product(confusion_count, confusion_value) / sum(confusion_count.values())\n"
   ]
  },
  {
   "cell_type": "code",
   "execution_count": 4,
   "metadata": {
    "ExecuteTime": {
     "end_time": "2021-07-30T12:03:21.745718Z",
     "start_time": "2021-07-30T12:03:21.718909Z"
    }
   },
   "outputs": [
    {
     "data": {
      "text/plain": [
       "5"
      ]
     },
     "execution_count": 4,
     "metadata": {},
     "output_type": "execute_result"
    }
   ],
   "source": [
    "dot_product({'a': 1, 'b': 2, 'c': 3}, {'b': 4, 'c': -1, 'd': 'whatever'})"
   ]
  },
  {
   "cell_type": "code",
   "execution_count": 5,
   "metadata": {
    "ExecuteTime": {
     "end_time": "2021-07-30T12:03:22.257762Z",
     "start_time": "2021-07-30T12:03:22.232650Z"
    }
   },
   "outputs": [
    {
     "name": "stdout",
     "output_type": "stream",
     "text": [
      "dot_product(confusion_count, confusion_value)=-20, sum(confusion_count.values())=50\n"
     ]
    },
    {
     "data": {
      "text/plain": [
       "-0.4"
      ]
     },
     "execution_count": 5,
     "metadata": {},
     "output_type": "execute_result"
    }
   ],
   "source": [
    "# tp, fp, fn, tn shorthands for true positive, false positive, false nagative and true nagative\n",
    "confusion_count = {'tp': 30, 'fp': 10, 'fn': 2, 'tn': 8}\n",
    "confusion_value = {'tp': 0, 'fp': -1, 'fn': -5, 'tn': 0}\n",
    "\n",
    "print(f\"{dot_product(confusion_count, confusion_value)=}, {sum(confusion_count.values())=}\")\n",
    "classifier_score(confusion_count, confusion_value)"
   ]
  },
  {
   "cell_type": "markdown",
   "metadata": {},
   "source": [
    "See how accuracy can be expressed by setting values of true positive and negative to 1, and zero for all errors:"
   ]
  },
  {
   "cell_type": "code",
   "execution_count": 72,
   "metadata": {
    "ExecuteTime": {
     "end_time": "2021-07-30T10:13:28.501298Z",
     "start_time": "2021-07-30T10:13:28.454667Z"
    }
   },
   "outputs": [
    {
     "data": {
      "text/plain": [
       "0.76"
      ]
     },
     "execution_count": 72,
     "metadata": {},
     "output_type": "execute_result"
    }
   ],
   "source": [
    "confusion_value = {'tp': 1, 'fp': 0, 'fn': 0, 'tn': 1}  # this corresponds to the accuracy metric!\n",
    "classifier_score(confusion_count, confusion_value)"
   ]
  },
  {
   "cell_type": "markdown",
   "metadata": {},
   "source": [
    "## Making it more useful"
   ]
  },
  {
   "cell_type": "markdown",
   "metadata": {},
   "source": [
    "To make it more readily usable, we should offer ways to easily get a `confusion_count` dict from various common situations. \n",
    "\n",
    "For example, how do we get these `confusion_count`? Possibly from an array of predictions and corresponding truths.\n",
    "\n",
    "```\n",
    "truth, prediction -> confusion_count\n",
    "```\n",
    "\n",
    "These predictions might come from an array `predict_prob` of scores that were thresholded to become a binary value that we call our prediction.\n",
    "\n",
    "```\n",
    "predict_proba, threshold -> prediction\n",
    "```\n",
    "\n",
    "And those `predict_proba` scores themselves might come from a trained model who is fed `test_X` inputs, the `test_y` array being this `truth` \n",
    "that we're talking about. \n",
    "\n",
    "```\n",
    "model, test_X -> predict_proba\n",
    "test_y -> truth\n",
    "```"
   ]
  },
  {
   "cell_type": "markdown",
   "metadata": {},
   "source": [
    "Providing the user with a few util tools \n",
    "to get from where they are (e.g. they have a model and some test data) \n",
    "to where they want to get to (e.g. getting a classifier_score)\n",
    "is nice.\n",
    "\n",
    "Making it clear on how to use these functions to get from A to B is also nice.\n",
    "This can be done through documentation, examples, and (Uncle Bob style) through careful function and variable naming, as below."
   ]
  },
  {
   "cell_type": "code",
   "execution_count": 12,
   "metadata": {
    "ExecuteTime": {
     "end_time": "2021-07-30T12:06:32.700251Z",
     "start_time": "2021-07-30T12:06:32.673413Z"
    }
   },
   "outputs": [],
   "source": [
    "from collections import Counter\n",
    "import numpy as np\n",
    "\n",
    "\n",
    "def confusion_count(prediction, truth):\n",
    "    \"\"\"Get a dict containing the counts of all combinations of predicction and corresponding truth values.\n",
    "\n",
    "    >>> confusion_count(\n",
    "    ... [0, 0, 1, 0, 1, 1, 1], \n",
    "    ... [0, 0, 0, 1, 1, 1, 1]\n",
    "    ... )\n",
    "    Counter({(0, 0): 2, (1, 0): 1, (0, 1): 1, (1, 1): 3})\n",
    "    \"\"\"\n",
    "    return Counter(zip(prediction, truth))\n",
    "\n",
    "\n",
    "def prediction(predict_proba, threshold):\n",
    "    \"\"\"Get an array of predictions from thresholding the scores of predict_proba array.\n",
    "\n",
    "    >>> prediction([0.3, 0.4, 0.5, 0.6, 0.7, 0.8], threshold=0.5)\n",
    "    array([False, False,  True,  True,  True,  True])\n",
    "\n",
    "    \"\"\"\n",
    "    return np.array(predict_proba) >= threshold\n",
    "\n",
    "\n",
    "def predict_proba(model, test_X):\n",
    "    \"\"\"Get the prediction_proba scores of a model given some test data\"\"\"\n",
    "    return model.predict_proba(test_X)"
   ]
  },
  {
   "cell_type": "markdown",
   "metadata": {},
   "source": [
    "Conveniently, if we use names of functions and arguments as we did above, these can be used to indicate how they all relate to each other. \n",
    "\n",
    "That is to say, we need nothing further to make a DAG."
   ]
  },
  {
   "cell_type": "code",
   "execution_count": 27,
   "metadata": {
    "ExecuteTime": {
     "end_time": "2021-07-30T12:41:41.254063Z",
     "start_time": "2021-07-30T12:41:40.890852Z"
    }
   },
   "outputs": [
    {
     "data": {
      "image/svg+xml": [
       "<?xml version=\"1.0\" encoding=\"UTF-8\" standalone=\"no\"?>\n",
       "<!DOCTYPE svg PUBLIC \"-//W3C//DTD SVG 1.1//EN\"\n",
       " \"http://www.w3.org/Graphics/SVG/1.1/DTD/svg11.dtd\">\n",
       "<!-- Generated by graphviz version 2.48.0 (20210717.1556)\n",
       " -->\n",
       "<!-- Pages: 1 -->\n",
       "<svg width=\"345pt\" height=\"620pt\"\n",
       " viewBox=\"0.00 0.00 344.50 620.00\" xmlns=\"http://www.w3.org/2000/svg\" xmlns:xlink=\"http://www.w3.org/1999/xlink\">\n",
       "<g id=\"graph0\" class=\"graph\" transform=\"scale(1 1) rotate(0) translate(4 616)\">\n",
       "<polygon fill=\"white\" stroke=\"transparent\" points=\"-4,4 -4,-616 340.5,-616 340.5,4 -4,4\"/>\n",
       "<!-- predict_proba -->\n",
       "<g id=\"node1\" class=\"node\">\n",
       "<title>predict_proba</title>\n",
       "<text text-anchor=\"middle\" x=\"273.5\" y=\"-446.3\" font-family=\"Times,serif\" font-size=\"14.00\">predict_proba</text>\n",
       "</g>\n",
       "<!-- prediction_ -->\n",
       "<g id=\"node6\" class=\"node\">\n",
       "<title>prediction_</title>\n",
       "<polygon fill=\"none\" stroke=\"black\" points=\"263.5,-396 183.5,-396 183.5,-360 263.5,-360 263.5,-396\"/>\n",
       "<text text-anchor=\"middle\" x=\"223.5\" y=\"-374.3\" font-family=\"Times,serif\" font-size=\"14.00\">prediction_</text>\n",
       "</g>\n",
       "<!-- predict_proba&#45;&gt;prediction_ -->\n",
       "<g id=\"edge5\" class=\"edge\">\n",
       "<title>predict_proba&#45;&gt;prediction_</title>\n",
       "<path fill=\"none\" stroke=\"black\" d=\"M261.14,-431.7C255.27,-423.47 248.13,-413.48 241.66,-404.42\"/>\n",
       "<polygon fill=\"black\" stroke=\"black\" points=\"244.38,-402.21 235.72,-396.1 238.68,-406.28 244.38,-402.21\"/>\n",
       "</g>\n",
       "<!-- predict_proba_ -->\n",
       "<g id=\"node2\" class=\"node\">\n",
       "<title>predict_proba_</title>\n",
       "<polygon fill=\"none\" stroke=\"black\" points=\"324,-540 223,-540 223,-504 324,-504 324,-540\"/>\n",
       "<text text-anchor=\"middle\" x=\"273.5\" y=\"-518.3\" font-family=\"Times,serif\" font-size=\"14.00\">predict_proba_</text>\n",
       "</g>\n",
       "<!-- predict_proba_&#45;&gt;predict_proba -->\n",
       "<g id=\"edge1\" class=\"edge\">\n",
       "<title>predict_proba_&#45;&gt;predict_proba</title>\n",
       "<path fill=\"none\" stroke=\"black\" d=\"M273.5,-503.7C273.5,-495.98 273.5,-486.71 273.5,-478.11\"/>\n",
       "<polygon fill=\"black\" stroke=\"black\" points=\"277,-478.1 273.5,-468.1 270,-478.1 277,-478.1\"/>\n",
       "</g>\n",
       "<!-- model -->\n",
       "<g id=\"node3\" class=\"node\">\n",
       "<title>model</title>\n",
       "<text text-anchor=\"middle\" x=\"237.5\" y=\"-590.3\" font-family=\"Times,serif\" font-size=\"14.00\">model</text>\n",
       "</g>\n",
       "<!-- model&#45;&gt;predict_proba_ -->\n",
       "<g id=\"edge2\" class=\"edge\">\n",
       "<title>model&#45;&gt;predict_proba_</title>\n",
       "<path fill=\"none\" stroke=\"black\" d=\"M246.4,-575.7C250.5,-567.73 255.45,-558.1 259.99,-549.26\"/>\n",
       "<polygon fill=\"black\" stroke=\"black\" points=\"263.24,-550.6 264.7,-540.1 257.02,-547.4 263.24,-550.6\"/>\n",
       "</g>\n",
       "<!-- test_X -->\n",
       "<g id=\"node4\" class=\"node\">\n",
       "<title>test_X</title>\n",
       "<text text-anchor=\"middle\" x=\"309.5\" y=\"-590.3\" font-family=\"Times,serif\" font-size=\"14.00\">test_X</text>\n",
       "</g>\n",
       "<!-- test_X&#45;&gt;predict_proba_ -->\n",
       "<g id=\"edge3\" class=\"edge\">\n",
       "<title>test_X&#45;&gt;predict_proba_</title>\n",
       "<path fill=\"none\" stroke=\"black\" d=\"M300.6,-575.7C296.5,-567.73 291.55,-558.1 287.01,-549.26\"/>\n",
       "<polygon fill=\"black\" stroke=\"black\" points=\"289.98,-547.4 282.3,-540.1 283.76,-550.6 289.98,-547.4\"/>\n",
       "</g>\n",
       "<!-- prediction -->\n",
       "<g id=\"node5\" class=\"node\">\n",
       "<title>prediction</title>\n",
       "<text text-anchor=\"middle\" x=\"223.5\" y=\"-302.3\" font-family=\"Times,serif\" font-size=\"14.00\">prediction</text>\n",
       "</g>\n",
       "<!-- confusion_count_ -->\n",
       "<g id=\"node9\" class=\"node\">\n",
       "<title>confusion_count_</title>\n",
       "<polygon fill=\"none\" stroke=\"black\" points=\"241,-252 124,-252 124,-216 241,-216 241,-252\"/>\n",
       "<text text-anchor=\"middle\" x=\"182.5\" y=\"-230.3\" font-family=\"Times,serif\" font-size=\"14.00\">confusion_count_</text>\n",
       "</g>\n",
       "<!-- prediction&#45;&gt;confusion_count_ -->\n",
       "<g id=\"edge9\" class=\"edge\">\n",
       "<title>prediction&#45;&gt;confusion_count_</title>\n",
       "<path fill=\"none\" stroke=\"black\" d=\"M213.37,-287.7C208.65,-279.64 202.94,-269.89 197.72,-260.98\"/>\n",
       "<polygon fill=\"black\" stroke=\"black\" points=\"200.59,-258.96 192.52,-252.1 194.55,-262.5 200.59,-258.96\"/>\n",
       "</g>\n",
       "<!-- prediction_&#45;&gt;prediction -->\n",
       "<g id=\"edge4\" class=\"edge\">\n",
       "<title>prediction_&#45;&gt;prediction</title>\n",
       "<path fill=\"none\" stroke=\"black\" d=\"M223.5,-359.7C223.5,-351.98 223.5,-342.71 223.5,-334.11\"/>\n",
       "<polygon fill=\"black\" stroke=\"black\" points=\"227,-334.1 223.5,-324.1 220,-334.1 227,-334.1\"/>\n",
       "</g>\n",
       "<!-- threshold -->\n",
       "<g id=\"node7\" class=\"node\">\n",
       "<title>threshold</title>\n",
       "<text text-anchor=\"middle\" x=\"173.5\" y=\"-446.3\" font-family=\"Times,serif\" font-size=\"14.00\">threshold</text>\n",
       "</g>\n",
       "<!-- threshold&#45;&gt;prediction_ -->\n",
       "<g id=\"edge6\" class=\"edge\">\n",
       "<title>threshold&#45;&gt;prediction_</title>\n",
       "<path fill=\"none\" stroke=\"black\" d=\"M185.86,-431.7C191.73,-423.47 198.87,-413.48 205.34,-404.42\"/>\n",
       "<polygon fill=\"black\" stroke=\"black\" points=\"208.32,-406.28 211.28,-396.1 202.62,-402.21 208.32,-406.28\"/>\n",
       "</g>\n",
       "<!-- confusion_count -->\n",
       "<g id=\"node8\" class=\"node\">\n",
       "<title>confusion_count</title>\n",
       "<text text-anchor=\"middle\" x=\"182.5\" y=\"-158.3\" font-family=\"Times,serif\" font-size=\"14.00\">confusion_count</text>\n",
       "</g>\n",
       "<!-- classifier_score_ -->\n",
       "<g id=\"node12\" class=\"node\">\n",
       "<title>classifier_score_</title>\n",
       "<polygon fill=\"none\" stroke=\"black\" points=\"173.5,-108 63.5,-108 63.5,-72 173.5,-72 173.5,-108\"/>\n",
       "<text text-anchor=\"middle\" x=\"118.5\" y=\"-86.3\" font-family=\"Times,serif\" font-size=\"14.00\">classifier_score_</text>\n",
       "</g>\n",
       "<!-- confusion_count&#45;&gt;classifier_score_ -->\n",
       "<g id=\"edge11\" class=\"edge\">\n",
       "<title>confusion_count&#45;&gt;classifier_score_</title>\n",
       "<path fill=\"none\" stroke=\"black\" d=\"M166.68,-143.7C158.93,-135.22 149.46,-124.86 140.98,-115.58\"/>\n",
       "<polygon fill=\"black\" stroke=\"black\" points=\"143.47,-113.12 134.14,-108.1 138.3,-117.85 143.47,-113.12\"/>\n",
       "</g>\n",
       "<!-- confusion_count_&#45;&gt;confusion_count -->\n",
       "<g id=\"edge7\" class=\"edge\">\n",
       "<title>confusion_count_&#45;&gt;confusion_count</title>\n",
       "<path fill=\"none\" stroke=\"black\" d=\"M182.5,-215.7C182.5,-207.98 182.5,-198.71 182.5,-190.11\"/>\n",
       "<polygon fill=\"black\" stroke=\"black\" points=\"186,-190.1 182.5,-180.1 179,-190.1 186,-190.1\"/>\n",
       "</g>\n",
       "<!-- truth -->\n",
       "<g id=\"node10\" class=\"node\">\n",
       "<title>truth</title>\n",
       "<text text-anchor=\"middle\" x=\"141.5\" y=\"-302.3\" font-family=\"Times,serif\" font-size=\"14.00\">truth</text>\n",
       "</g>\n",
       "<!-- truth&#45;&gt;confusion_count_ -->\n",
       "<g id=\"edge8\" class=\"edge\">\n",
       "<title>truth&#45;&gt;confusion_count_</title>\n",
       "<path fill=\"none\" stroke=\"black\" d=\"M151.63,-287.7C156.35,-279.64 162.06,-269.89 167.28,-260.98\"/>\n",
       "<polygon fill=\"black\" stroke=\"black\" points=\"170.45,-262.5 172.48,-252.1 164.41,-258.96 170.45,-262.5\"/>\n",
       "</g>\n",
       "<!-- classifier_score -->\n",
       "<g id=\"node11\" class=\"node\">\n",
       "<title>classifier_score</title>\n",
       "<text text-anchor=\"middle\" x=\"118.5\" y=\"-14.3\" font-family=\"Times,serif\" font-size=\"14.00\">classifier_score</text>\n",
       "</g>\n",
       "<!-- classifier_score_&#45;&gt;classifier_score -->\n",
       "<g id=\"edge10\" class=\"edge\">\n",
       "<title>classifier_score_&#45;&gt;classifier_score</title>\n",
       "<path fill=\"none\" stroke=\"black\" d=\"M118.5,-71.7C118.5,-63.98 118.5,-54.71 118.5,-46.11\"/>\n",
       "<polygon fill=\"black\" stroke=\"black\" points=\"122,-46.1 118.5,-36.1 115,-46.1 122,-46.1\"/>\n",
       "</g>\n",
       "<!-- confusion_value -->\n",
       "<g id=\"node13\" class=\"node\">\n",
       "<title>confusion_value</title>\n",
       "<text text-anchor=\"middle\" x=\"54.5\" y=\"-158.3\" font-family=\"Times,serif\" font-size=\"14.00\">confusion_value</text>\n",
       "</g>\n",
       "<!-- confusion_value&#45;&gt;classifier_score_ -->\n",
       "<g id=\"edge12\" class=\"edge\">\n",
       "<title>confusion_value&#45;&gt;classifier_score_</title>\n",
       "<path fill=\"none\" stroke=\"black\" d=\"M70.32,-143.7C78.07,-135.22 87.54,-124.86 96.02,-115.58\"/>\n",
       "<polygon fill=\"black\" stroke=\"black\" points=\"98.7,-117.85 102.86,-108.1 93.53,-113.12 98.7,-117.85\"/>\n",
       "</g>\n",
       "</g>\n",
       "</svg>\n"
      ],
      "text/plain": [
       "<graphviz.dot.Digraph at 0x118e869d0>"
      ]
     },
     "execution_count": 27,
     "metadata": {},
     "output_type": "execute_result"
    }
   ],
   "source": [
    "from meshed import DAG\n",
    "\n",
    "dag = DAG([classifier_score, confusion_count, prediction, predict_proba])\n",
    "dag.dot_digraph()"
   ]
  },
  {
   "cell_type": "code",
   "execution_count": 31,
   "metadata": {
    "ExecuteTime": {
     "end_time": "2021-07-30T12:43:37.048738Z",
     "start_time": "2021-07-30T12:43:36.824124Z"
    }
   },
   "outputs": [
    {
     "name": "stdout",
     "output_type": "stream",
     "text": [
      "_descendants={FuncNode(truth,prediction -> confusion_count_ -> confusion_count)}\n",
      "_ancestors={FuncNode(confusion_count,confusion_value -> classifier_score_ -> classifier_score)}\n"
     ]
    },
    {
     "data": {
      "text/plain": [
       "DAG(func_nodes=[], cache_last_scope=True, parameter_merge=<function conservative_parameter_merge at 0x1192bdee0>)"
      ]
     },
     "execution_count": 31,
     "metadata": {},
     "output_type": "execute_result"
    }
   ],
   "source": [
    "dag[['truth', 'prediction'], 'classifier_score']"
   ]
  },
  {
   "cell_type": "code",
   "execution_count": null,
   "metadata": {},
   "outputs": [],
   "source": []
  },
  {
   "cell_type": "code",
   "execution_count": 17,
   "metadata": {
    "ExecuteTime": {
     "end_time": "2021-07-30T12:23:59.167336Z",
     "start_time": "2021-07-30T12:23:59.144213Z"
    }
   },
   "outputs": [],
   "source": [
    "from meshed.itools import *\n",
    "from meshed.itools import descendants, ancestors"
   ]
  },
  {
   "cell_type": "code",
   "execution_count": 25,
   "metadata": {
    "ExecuteTime": {
     "end_time": "2021-07-30T12:28:49.029629Z",
     "start_time": "2021-07-30T12:28:49.005034Z"
    }
   },
   "outputs": [
    {
     "data": {
      "text/plain": [
       "[]"
      ]
     },
     "execution_count": 25,
     "metadata": {},
     "output_type": "execute_result"
    }
   ],
   "source": [
    "list(descendants(dag.graph, [prediction]))"
   ]
  },
  {
   "cell_type": "code",
   "execution_count": 19,
   "metadata": {
    "ExecuteTime": {
     "end_time": "2021-07-30T12:24:14.037708Z",
     "start_time": "2021-07-30T12:24:14.011824Z"
    }
   },
   "outputs": [
    {
     "data": {
      "text/plain": [
       "{'confusion_count': [FuncNode(confusion_count,confusion_value -> classifier_score_ -> classifier_score)],\n",
       " 'confusion_value': [FuncNode(confusion_count,confusion_value -> classifier_score_ -> classifier_score)],\n",
       " FuncNode(confusion_count,confusion_value -> classifier_score_ -> classifier_score): ['classifier_score'],\n",
       " 'truth': [FuncNode(truth,prediction -> confusion_count_ -> confusion_count)],\n",
       " 'prediction': [FuncNode(truth,prediction -> confusion_count_ -> confusion_count)],\n",
       " FuncNode(truth,prediction -> confusion_count_ -> confusion_count): ['confusion_count'],\n",
       " 'predict_proba': [FuncNode(predict_proba,threshold -> prediction_ -> prediction)],\n",
       " 'threshold': [FuncNode(predict_proba,threshold -> prediction_ -> prediction)],\n",
       " FuncNode(predict_proba,threshold -> prediction_ -> prediction): ['prediction'],\n",
       " 'model': [FuncNode(model,test_X -> predict_proba_ -> predict_proba)],\n",
       " 'test_X': [FuncNode(model,test_X -> predict_proba_ -> predict_proba)],\n",
       " FuncNode(model,test_X -> predict_proba_ -> predict_proba): ['predict_proba']}"
      ]
     },
     "execution_count": 19,
     "metadata": {},
     "output_type": "execute_result"
    }
   ],
   "source": [
    "dag.graph"
   ]
  },
  {
   "cell_type": "code",
   "execution_count": 32,
   "metadata": {
    "ExecuteTime": {
     "end_time": "2021-07-30T12:48:34.536408Z",
     "start_time": "2021-07-30T12:48:34.407441Z"
    }
   },
   "outputs": [
    {
     "data": {
      "text/plain": [
       "['confusion_count',\n",
       " 'confusion_value',\n",
       " FuncNode(confusion_count,confusion_value -> classifier_score_ -> classifier_score),\n",
       " 'truth',\n",
       " 'prediction',\n",
       " FuncNode(truth,prediction -> confusion_count_ -> confusion_count),\n",
       " 'predict_proba',\n",
       " 'threshold',\n",
       " FuncNode(predict_proba,threshold -> prediction_ -> prediction),\n",
       " 'model',\n",
       " 'test_X',\n",
       " FuncNode(model,test_X -> predict_proba_ -> predict_proba)]"
      ]
     },
     "execution_count": 32,
     "metadata": {},
     "output_type": "execute_result"
    }
   ],
   "source": [
    "list(dag.graph)"
   ]
  },
  {
   "cell_type": "code",
   "execution_count": 26,
   "metadata": {
    "ExecuteTime": {
     "end_time": "2021-07-30T12:37:46.712300Z",
     "start_time": "2021-07-30T12:37:46.644526Z"
    }
   },
   "outputs": [],
   "source": [
    "from i2 import Sig"
   ]
  },
  {
   "cell_type": "code",
   "execution_count": null,
   "metadata": {},
   "outputs": [],
   "source": []
  },
  {
   "cell_type": "code",
   "execution_count": null,
   "metadata": {},
   "outputs": [],
   "source": []
  },
  {
   "cell_type": "markdown",
   "metadata": {},
   "source": [
    "## And further"
   ]
  },
  {
   "cell_type": "markdown",
   "metadata": {},
   "source": [
    "And how did we get those top inputs (`model`, `test_X` and `test_y`)? \n",
    "\n",
    "Well, we trained a learner on some `train_X` and `train_y` that we get by splitting some `(X, y)` arrays..."
   ]
  },
  {
   "cell_type": "code",
   "execution_count": 37,
   "metadata": {
    "ExecuteTime": {
     "end_time": "2021-07-30T13:00:06.970523Z",
     "start_time": "2021-07-30T13:00:06.636155Z"
    }
   },
   "outputs": [
    {
     "data": {
      "image/svg+xml": [
       "<?xml version=\"1.0\" encoding=\"UTF-8\" standalone=\"no\"?>\n",
       "<!DOCTYPE svg PUBLIC \"-//W3C//DTD SVG 1.1//EN\"\n",
       " \"http://www.w3.org/Graphics/SVG/1.1/DTD/svg11.dtd\">\n",
       "<!-- Generated by graphviz version 2.48.0 (20210717.1556)\n",
       " -->\n",
       "<!-- Pages: 1 -->\n",
       "<svg width=\"271pt\" height=\"908pt\"\n",
       " viewBox=\"0.00 0.00 271.00 908.00\" xmlns=\"http://www.w3.org/2000/svg\" xmlns:xlink=\"http://www.w3.org/1999/xlink\">\n",
       "<g id=\"graph0\" class=\"graph\" transform=\"scale(1 1) rotate(0) translate(4 904)\">\n",
       "<polygon fill=\"white\" stroke=\"transparent\" points=\"-4,4 -4,-904 267,-904 267,4 -4,4\"/>\n",
       "<!-- train_test_split -->\n",
       "<g id=\"node1\" class=\"node\">\n",
       "<title>train_test_split</title>\n",
       "<text text-anchor=\"middle\" x=\"195.5\" y=\"-734.3\" font-family=\"Times,serif\" font-size=\"14.00\">train_test_split</text>\n",
       "</g>\n",
       "<!-- test_y_ -->\n",
       "<g id=\"node6\" class=\"node\">\n",
       "<title>test_y_</title>\n",
       "<polygon fill=\"none\" stroke=\"black\" points=\"263,-684 206,-684 206,-648 263,-648 263,-684\"/>\n",
       "<text text-anchor=\"middle\" x=\"234.5\" y=\"-662.3\" font-family=\"Times,serif\" font-size=\"14.00\">test_y_</text>\n",
       "</g>\n",
       "<!-- train_test_split&#45;&gt;test_y_ -->\n",
       "<g id=\"edge5\" class=\"edge\">\n",
       "<title>train_test_split&#45;&gt;test_y_</title>\n",
       "<path fill=\"none\" stroke=\"black\" d=\"M205.14,-719.7C209.63,-711.64 215.06,-701.89 220.02,-692.98\"/>\n",
       "<polygon fill=\"black\" stroke=\"black\" points=\"223.16,-694.54 224.97,-684.1 217.05,-691.14 223.16,-694.54\"/>\n",
       "</g>\n",
       "<!-- test_X_ -->\n",
       "<g id=\"node10\" class=\"node\">\n",
       "<title>test_X_</title>\n",
       "<polygon fill=\"none\" stroke=\"black\" points=\"187.5,-684 127.5,-684 127.5,-648 187.5,-648 187.5,-684\"/>\n",
       "<text text-anchor=\"middle\" x=\"157.5\" y=\"-662.3\" font-family=\"Times,serif\" font-size=\"14.00\">test_X_</text>\n",
       "</g>\n",
       "<!-- train_test_split&#45;&gt;test_X_ -->\n",
       "<g id=\"edge9\" class=\"edge\">\n",
       "<title>train_test_split&#45;&gt;test_X_</title>\n",
       "<path fill=\"none\" stroke=\"black\" d=\"M186.11,-719.7C181.74,-711.64 176.44,-701.89 171.6,-692.98\"/>\n",
       "<polygon fill=\"black\" stroke=\"black\" points=\"174.63,-691.22 166.79,-684.1 168.48,-694.56 174.63,-691.22\"/>\n",
       "</g>\n",
       "<!-- train_test_split_ -->\n",
       "<g id=\"node2\" class=\"node\">\n",
       "<title>train_test_split_</title>\n",
       "<polygon fill=\"none\" stroke=\"black\" points=\"249,-828 142,-828 142,-792 249,-792 249,-828\"/>\n",
       "<text text-anchor=\"middle\" x=\"195.5\" y=\"-806.3\" font-family=\"Times,serif\" font-size=\"14.00\">train_test_split_</text>\n",
       "</g>\n",
       "<!-- train_test_split_&#45;&gt;train_test_split -->\n",
       "<g id=\"edge1\" class=\"edge\">\n",
       "<title>train_test_split_&#45;&gt;train_test_split</title>\n",
       "<path fill=\"none\" stroke=\"black\" d=\"M195.5,-791.7C195.5,-783.98 195.5,-774.71 195.5,-766.11\"/>\n",
       "<polygon fill=\"black\" stroke=\"black\" points=\"199,-766.1 195.5,-756.1 192,-766.1 199,-766.1\"/>\n",
       "</g>\n",
       "<!-- arrays -->\n",
       "<g id=\"node3\" class=\"node\">\n",
       "<title>arrays</title>\n",
       "<text text-anchor=\"middle\" x=\"158.5\" y=\"-878.3\" font-family=\"Times,serif\" font-size=\"14.00\">arrays</text>\n",
       "</g>\n",
       "<!-- arrays&#45;&gt;train_test_split_ -->\n",
       "<g id=\"edge2\" class=\"edge\">\n",
       "<title>arrays&#45;&gt;train_test_split_</title>\n",
       "<path fill=\"none\" stroke=\"black\" d=\"M167.65,-863.7C171.9,-855.64 177.06,-845.89 181.77,-836.98\"/>\n",
       "<polygon fill=\"black\" stroke=\"black\" points=\"184.88,-838.58 186.46,-828.1 178.69,-835.31 184.88,-838.58\"/>\n",
       "</g>\n",
       "<!-- options -->\n",
       "<g id=\"node4\" class=\"node\">\n",
       "<title>options</title>\n",
       "<text text-anchor=\"middle\" x=\"232.5\" y=\"-878.3\" font-family=\"Times,serif\" font-size=\"14.00\">options</text>\n",
       "</g>\n",
       "<!-- options&#45;&gt;train_test_split_ -->\n",
       "<g id=\"edge3\" class=\"edge\">\n",
       "<title>options&#45;&gt;train_test_split_</title>\n",
       "<path fill=\"none\" stroke=\"black\" d=\"M223.35,-863.7C219.1,-855.64 213.94,-845.89 209.23,-836.98\"/>\n",
       "<polygon fill=\"black\" stroke=\"black\" points=\"212.31,-835.31 204.54,-828.1 206.12,-838.58 212.31,-835.31\"/>\n",
       "</g>\n",
       "<!-- test_y -->\n",
       "<g id=\"node5\" class=\"node\">\n",
       "<title>test_y</title>\n",
       "<text text-anchor=\"middle\" x=\"234.5\" y=\"-590.3\" font-family=\"Times,serif\" font-size=\"14.00\">test_y</text>\n",
       "</g>\n",
       "<!-- truth_ -->\n",
       "<g id=\"node8\" class=\"node\">\n",
       "<title>truth_</title>\n",
       "<polygon fill=\"none\" stroke=\"black\" points=\"261.5,-540 207.5,-540 207.5,-504 261.5,-504 261.5,-540\"/>\n",
       "<text text-anchor=\"middle\" x=\"234.5\" y=\"-518.3\" font-family=\"Times,serif\" font-size=\"14.00\">truth_</text>\n",
       "</g>\n",
       "<!-- test_y&#45;&gt;truth_ -->\n",
       "<g id=\"edge7\" class=\"edge\">\n",
       "<title>test_y&#45;&gt;truth_</title>\n",
       "<path fill=\"none\" stroke=\"black\" d=\"M234.5,-575.7C234.5,-567.98 234.5,-558.71 234.5,-550.11\"/>\n",
       "<polygon fill=\"black\" stroke=\"black\" points=\"238,-550.1 234.5,-540.1 231,-550.1 238,-550.1\"/>\n",
       "</g>\n",
       "<!-- test_y_&#45;&gt;test_y -->\n",
       "<g id=\"edge4\" class=\"edge\">\n",
       "<title>test_y_&#45;&gt;test_y</title>\n",
       "<path fill=\"none\" stroke=\"black\" d=\"M234.5,-647.7C234.5,-639.98 234.5,-630.71 234.5,-622.11\"/>\n",
       "<polygon fill=\"black\" stroke=\"black\" points=\"238,-622.1 234.5,-612.1 231,-622.1 238,-622.1\"/>\n",
       "</g>\n",
       "<!-- truth -->\n",
       "<g id=\"node7\" class=\"node\">\n",
       "<title>truth</title>\n",
       "<text text-anchor=\"middle\" x=\"228.5\" y=\"-374.3\" font-family=\"Times,serif\" font-size=\"14.00\">truth</text>\n",
       "</g>\n",
       "<!-- confusion_count_ -->\n",
       "<g id=\"node18\" class=\"node\">\n",
       "<title>confusion_count_</title>\n",
       "<polygon fill=\"none\" stroke=\"black\" points=\"241,-252 124,-252 124,-216 241,-216 241,-252\"/>\n",
       "<text text-anchor=\"middle\" x=\"182.5\" y=\"-230.3\" font-family=\"Times,serif\" font-size=\"14.00\">confusion_count_</text>\n",
       "</g>\n",
       "<!-- truth&#45;&gt;confusion_count_ -->\n",
       "<g id=\"edge17\" class=\"edge\">\n",
       "<title>truth&#45;&gt;confusion_count_</title>\n",
       "<path fill=\"none\" stroke=\"black\" d=\"M222.95,-359.87C215.08,-335.56 200.58,-290.82 191.25,-262.01\"/>\n",
       "<polygon fill=\"black\" stroke=\"black\" points=\"194.48,-260.62 188.07,-252.19 187.82,-262.78 194.48,-260.62\"/>\n",
       "</g>\n",
       "<!-- truth_&#45;&gt;truth -->\n",
       "<g id=\"edge6\" class=\"edge\">\n",
       "<title>truth_&#45;&gt;truth</title>\n",
       "<path fill=\"none\" stroke=\"black\" d=\"M233.78,-503.87C232.75,-479.67 230.88,-435.21 229.66,-406.39\"/>\n",
       "<polygon fill=\"black\" stroke=\"black\" points=\"233.15,-406.03 229.23,-396.19 226.15,-406.33 233.15,-406.03\"/>\n",
       "</g>\n",
       "<!-- test_X -->\n",
       "<g id=\"node9\" class=\"node\">\n",
       "<title>test_X</title>\n",
       "<text text-anchor=\"middle\" x=\"157.5\" y=\"-590.3\" font-family=\"Times,serif\" font-size=\"14.00\">test_X</text>\n",
       "</g>\n",
       "<!-- predict_proba_ -->\n",
       "<g id=\"node12\" class=\"node\">\n",
       "<title>predict_proba_</title>\n",
       "<polygon fill=\"none\" stroke=\"black\" points=\"189,-540 88,-540 88,-504 189,-504 189,-540\"/>\n",
       "<text text-anchor=\"middle\" x=\"138.5\" y=\"-518.3\" font-family=\"Times,serif\" font-size=\"14.00\">predict_proba_</text>\n",
       "</g>\n",
       "<!-- test_X&#45;&gt;predict_proba_ -->\n",
       "<g id=\"edge12\" class=\"edge\">\n",
       "<title>test_X&#45;&gt;predict_proba_</title>\n",
       "<path fill=\"none\" stroke=\"black\" d=\"M152.8,-575.7C150.69,-567.9 148.14,-558.51 145.78,-549.83\"/>\n",
       "<polygon fill=\"black\" stroke=\"black\" points=\"149.14,-548.84 143.14,-540.1 142.38,-550.67 149.14,-548.84\"/>\n",
       "</g>\n",
       "<!-- test_X_&#45;&gt;test_X -->\n",
       "<g id=\"edge8\" class=\"edge\">\n",
       "<title>test_X_&#45;&gt;test_X</title>\n",
       "<path fill=\"none\" stroke=\"black\" d=\"M157.5,-647.7C157.5,-639.98 157.5,-630.71 157.5,-622.11\"/>\n",
       "<polygon fill=\"black\" stroke=\"black\" points=\"161,-622.1 157.5,-612.1 154,-622.1 161,-622.1\"/>\n",
       "</g>\n",
       "<!-- predict_proba -->\n",
       "<g id=\"node11\" class=\"node\">\n",
       "<title>predict_proba</title>\n",
       "<text text-anchor=\"middle\" x=\"140.5\" y=\"-446.3\" font-family=\"Times,serif\" font-size=\"14.00\">predict_proba</text>\n",
       "</g>\n",
       "<!-- prediction_ -->\n",
       "<g id=\"node15\" class=\"node\">\n",
       "<title>prediction_</title>\n",
       "<polygon fill=\"none\" stroke=\"black\" points=\"180.5,-396 100.5,-396 100.5,-360 180.5,-360 180.5,-396\"/>\n",
       "<text text-anchor=\"middle\" x=\"140.5\" y=\"-374.3\" font-family=\"Times,serif\" font-size=\"14.00\">prediction_</text>\n",
       "</g>\n",
       "<!-- predict_proba&#45;&gt;prediction_ -->\n",
       "<g id=\"edge14\" class=\"edge\">\n",
       "<title>predict_proba&#45;&gt;prediction_</title>\n",
       "<path fill=\"none\" stroke=\"black\" d=\"M140.5,-431.7C140.5,-423.98 140.5,-414.71 140.5,-406.11\"/>\n",
       "<polygon fill=\"black\" stroke=\"black\" points=\"144,-406.1 140.5,-396.1 137,-406.1 144,-406.1\"/>\n",
       "</g>\n",
       "<!-- predict_proba_&#45;&gt;predict_proba -->\n",
       "<g id=\"edge10\" class=\"edge\">\n",
       "<title>predict_proba_&#45;&gt;predict_proba</title>\n",
       "<path fill=\"none\" stroke=\"black\" d=\"M138.99,-503.7C139.21,-495.98 139.48,-486.71 139.73,-478.11\"/>\n",
       "<polygon fill=\"black\" stroke=\"black\" points=\"143.22,-478.2 140.01,-468.1 136.23,-478 143.22,-478.2\"/>\n",
       "</g>\n",
       "<!-- model -->\n",
       "<g id=\"node13\" class=\"node\">\n",
       "<title>model</title>\n",
       "<text text-anchor=\"middle\" x=\"85.5\" y=\"-590.3\" font-family=\"Times,serif\" font-size=\"14.00\">model</text>\n",
       "</g>\n",
       "<!-- model&#45;&gt;predict_proba_ -->\n",
       "<g id=\"edge11\" class=\"edge\">\n",
       "<title>model&#45;&gt;predict_proba_</title>\n",
       "<path fill=\"none\" stroke=\"black\" d=\"M98.6,-575.7C104.89,-567.39 112.55,-557.28 119.46,-548.14\"/>\n",
       "<polygon fill=\"black\" stroke=\"black\" points=\"122.3,-550.19 125.55,-540.1 116.72,-545.96 122.3,-550.19\"/>\n",
       "</g>\n",
       "<!-- prediction -->\n",
       "<g id=\"node14\" class=\"node\">\n",
       "<title>prediction</title>\n",
       "<text text-anchor=\"middle\" x=\"150.5\" y=\"-302.3\" font-family=\"Times,serif\" font-size=\"14.00\">prediction</text>\n",
       "</g>\n",
       "<!-- prediction&#45;&gt;confusion_count_ -->\n",
       "<g id=\"edge18\" class=\"edge\">\n",
       "<title>prediction&#45;&gt;confusion_count_</title>\n",
       "<path fill=\"none\" stroke=\"black\" d=\"M158.41,-287.7C162.05,-279.73 166.45,-270.1 170.49,-261.26\"/>\n",
       "<polygon fill=\"black\" stroke=\"black\" points=\"173.71,-262.65 174.68,-252.1 167.34,-259.74 173.71,-262.65\"/>\n",
       "</g>\n",
       "<!-- prediction_&#45;&gt;prediction -->\n",
       "<g id=\"edge13\" class=\"edge\">\n",
       "<title>prediction_&#45;&gt;prediction</title>\n",
       "<path fill=\"none\" stroke=\"black\" d=\"M142.97,-359.7C144.07,-351.98 145.4,-342.71 146.63,-334.11\"/>\n",
       "<polygon fill=\"black\" stroke=\"black\" points=\"150.11,-334.5 148.06,-324.1 143.18,-333.51 150.11,-334.5\"/>\n",
       "</g>\n",
       "<!-- threshold -->\n",
       "<g id=\"node16\" class=\"node\">\n",
       "<title>threshold</title>\n",
       "<text text-anchor=\"middle\" x=\"40.5\" y=\"-446.3\" font-family=\"Times,serif\" font-size=\"14.00\">threshold</text>\n",
       "</g>\n",
       "<!-- threshold&#45;&gt;prediction_ -->\n",
       "<g id=\"edge15\" class=\"edge\">\n",
       "<title>threshold&#45;&gt;prediction_</title>\n",
       "<path fill=\"none\" stroke=\"black\" d=\"M64.96,-431.88C77.8,-422.89 93.7,-411.76 107.59,-402.03\"/>\n",
       "<polygon fill=\"black\" stroke=\"black\" points=\"109.76,-404.79 115.94,-396.19 105.74,-399.06 109.76,-404.79\"/>\n",
       "</g>\n",
       "<!-- confusion_count -->\n",
       "<g id=\"node17\" class=\"node\">\n",
       "<title>confusion_count</title>\n",
       "<text text-anchor=\"middle\" x=\"182.5\" y=\"-158.3\" font-family=\"Times,serif\" font-size=\"14.00\">confusion_count</text>\n",
       "</g>\n",
       "<!-- classifier_score_ -->\n",
       "<g id=\"node20\" class=\"node\">\n",
       "<title>classifier_score_</title>\n",
       "<polygon fill=\"none\" stroke=\"black\" points=\"173.5,-108 63.5,-108 63.5,-72 173.5,-72 173.5,-108\"/>\n",
       "<text text-anchor=\"middle\" x=\"118.5\" y=\"-86.3\" font-family=\"Times,serif\" font-size=\"14.00\">classifier_score_</text>\n",
       "</g>\n",
       "<!-- confusion_count&#45;&gt;classifier_score_ -->\n",
       "<g id=\"edge20\" class=\"edge\">\n",
       "<title>confusion_count&#45;&gt;classifier_score_</title>\n",
       "<path fill=\"none\" stroke=\"black\" d=\"M166.68,-143.7C158.93,-135.22 149.46,-124.86 140.98,-115.58\"/>\n",
       "<polygon fill=\"black\" stroke=\"black\" points=\"143.47,-113.12 134.14,-108.1 138.3,-117.85 143.47,-113.12\"/>\n",
       "</g>\n",
       "<!-- confusion_count_&#45;&gt;confusion_count -->\n",
       "<g id=\"edge16\" class=\"edge\">\n",
       "<title>confusion_count_&#45;&gt;confusion_count</title>\n",
       "<path fill=\"none\" stroke=\"black\" d=\"M182.5,-215.7C182.5,-207.98 182.5,-198.71 182.5,-190.11\"/>\n",
       "<polygon fill=\"black\" stroke=\"black\" points=\"186,-190.1 182.5,-180.1 179,-190.1 186,-190.1\"/>\n",
       "</g>\n",
       "<!-- classifier_score -->\n",
       "<g id=\"node19\" class=\"node\">\n",
       "<title>classifier_score</title>\n",
       "<text text-anchor=\"middle\" x=\"118.5\" y=\"-14.3\" font-family=\"Times,serif\" font-size=\"14.00\">classifier_score</text>\n",
       "</g>\n",
       "<!-- classifier_score_&#45;&gt;classifier_score -->\n",
       "<g id=\"edge19\" class=\"edge\">\n",
       "<title>classifier_score_&#45;&gt;classifier_score</title>\n",
       "<path fill=\"none\" stroke=\"black\" d=\"M118.5,-71.7C118.5,-63.98 118.5,-54.71 118.5,-46.11\"/>\n",
       "<polygon fill=\"black\" stroke=\"black\" points=\"122,-46.1 118.5,-36.1 115,-46.1 122,-46.1\"/>\n",
       "</g>\n",
       "<!-- confusion_value -->\n",
       "<g id=\"node21\" class=\"node\">\n",
       "<title>confusion_value</title>\n",
       "<text text-anchor=\"middle\" x=\"54.5\" y=\"-158.3\" font-family=\"Times,serif\" font-size=\"14.00\">confusion_value</text>\n",
       "</g>\n",
       "<!-- confusion_value&#45;&gt;classifier_score_ -->\n",
       "<g id=\"edge21\" class=\"edge\">\n",
       "<title>confusion_value&#45;&gt;classifier_score_</title>\n",
       "<path fill=\"none\" stroke=\"black\" d=\"M70.32,-143.7C78.07,-135.22 87.54,-124.86 96.02,-115.58\"/>\n",
       "<polygon fill=\"black\" stroke=\"black\" points=\"98.7,-117.85 102.86,-108.1 93.53,-113.12 98.7,-117.85\"/>\n",
       "</g>\n",
       "</g>\n",
       "</svg>\n"
      ],
      "text/plain": [
       "<graphviz.dot.Digraph at 0x12a3a8d00>"
      ]
     },
     "execution_count": 37,
     "metadata": {},
     "output_type": "execute_result"
    }
   ],
   "source": [
    "from sklearn.model_selection import train_test_split\n",
    "from meshed import FuncNode\n",
    "# from operator import itemgetter\n",
    "\n",
    "# train_X, test_X, train_y, test_y = train_test_split(...)\n",
    "\n",
    "def test_X(train_test_split):\n",
    "    return train_test_split[1]\n",
    "\n",
    "def test_y(train_test_split):\n",
    "    return train_test_split[3]\n",
    "\n",
    "def truth(test_y):  # to link up truth and test_y\n",
    "    return test_y\n",
    "\n",
    "bigger_dag = DAG(\n",
    "    [\n",
    "        classifier_score, confusion_count, prediction, predict_proba, \n",
    "        train_test_split, test_X, test_y, truth\n",
    "        \n",
    "    ]\n",
    ")\n",
    "bigger_dag.dot_digraph()"
   ]
  },
  {
   "cell_type": "code",
   "execution_count": null,
   "metadata": {},
   "outputs": [],
   "source": [
    "bigger_dag()"
   ]
  },
  {
   "cell_type": "code",
   "execution_count": 40,
   "metadata": {
    "ExecuteTime": {
     "end_time": "2021-07-30T13:01:28.664825Z",
     "start_time": "2021-07-30T13:01:28.446879Z"
    }
   },
   "outputs": [
    {
     "data": {
      "text/plain": [
       "DAG(func_nodes=[], cache_last_scope=True, parameter_merge=<function conservative_parameter_merge at 0x119515ca0>)"
      ]
     },
     "execution_count": 40,
     "metadata": {},
     "output_type": "execute_result"
    }
   ],
   "source": [
    "bigger_dag[['arrays', 'options']]"
   ]
  },
  {
   "cell_type": "code",
   "execution_count": null,
   "metadata": {},
   "outputs": [],
   "source": []
  },
  {
   "cell_type": "code",
   "execution_count": null,
   "metadata": {},
   "outputs": [],
   "source": []
  }
 ],
 "metadata": {
  "kernelspec": {
   "display_name": "Python 3",
   "language": "python",
   "name": "python3"
  },
  "language_info": {
   "codemirror_mode": {
    "name": "ipython",
    "version": 3
   },
   "file_extension": ".py",
   "mimetype": "text/x-python",
   "name": "python",
   "nbconvert_exporter": "python",
   "pygments_lexer": "ipython3",
   "version": "3.8.6"
  },
  "latex_envs": {
   "LaTeX_envs_menu_present": true,
   "autoclose": false,
   "autocomplete": true,
   "bibliofile": "biblio.bib",
   "cite_by": "apalike",
   "current_citInitial": 1,
   "eqLabelWithNumbers": true,
   "eqNumInitial": 1,
   "hotkeys": {
    "equation": "Ctrl-E",
    "itemize": "Ctrl-I"
   },
   "labels_anchors": false,
   "latex_user_defs": false,
   "report_style_numbering": false,
   "user_envs_cfg": false
  },
  "toc": {
   "base_numbering": 1,
   "nav_menu": {},
   "number_sections": true,
   "sideBar": true,
   "skip_h1_title": false,
   "title_cell": "Table of Contents",
   "title_sidebar": "Contents",
   "toc_cell": true,
   "toc_position": {},
   "toc_section_display": true,
   "toc_window_display": true
  }
 },
 "nbformat": 4,
 "nbformat_minor": 4
}
