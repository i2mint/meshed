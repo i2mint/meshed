{
 "cells": [
  {
   "cell_type": "code",
   "execution_count": 1,
   "metadata": {},
   "outputs": [
    {
     "data": {
      "text/plain": [
       "<Sig (w, /, x: float, y='YY', *, z: str = 'ZZ', rest={})>"
      ]
     },
     "execution_count": 1,
     "metadata": {},
     "output_type": "execute_result"
    }
   ],
   "source": [
    "from meshed import DAG\n",
    "from i2 import Sig\n",
    "\n",
    "\n",
    "def foo(w, /, x: float, y=\"YY\", *, z: str = \"ZZ\", **rest):\n",
    "        pass\n",
    "\n",
    "\n",
    "sig = Sig(foo)\n",
    "d = DAG([foo])\n",
    "#foo.__signature__=sig\n",
    "d.__signature__\n"
   ]
  },
  {
   "cell_type": "code",
   "execution_count": 10,
   "metadata": {},
   "outputs": [
    {
     "data": {
      "text/plain": [
       "DAG(func_nodes=[FuncNode(w,x,y,z,rest -> foo_ -> foo)], name=None)"
      ]
     },
     "execution_count": 10,
     "metadata": {},
     "output_type": "execute_result"
    }
   ],
   "source": [
    "d.__signature__(d)\n",
    "#print(d.__signature__)"
   ]
  },
  {
   "cell_type": "code",
   "execution_count": 11,
   "metadata": {},
   "outputs": [
    {
     "data": {
      "text/plain": [
       "<Signature (w, /, x: float, y='YY', *, z: str = 'ZZ', rest={})>"
      ]
     },
     "execution_count": 11,
     "metadata": {},
     "output_type": "execute_result"
    }
   ],
   "source": [
    "d.__signature__"
   ]
  },
  {
   "cell_type": "code",
   "execution_count": 8,
   "metadata": {},
   "outputs": [
    {
     "data": {
      "text/plain": [
       "<Sig (w, /, x: float, y='YY', *, z: str = 'ZZ', **rest)>"
      ]
     },
     "execution_count": 8,
     "metadata": {},
     "output_type": "execute_result"
    }
   ],
   "source": [
    "import inspect\n",
    "inspect.signature(d)"
   ]
  },
  {
   "cell_type": "code",
   "execution_count": 1,
   "metadata": {},
   "outputs": [
    {
     "ename": "NameError",
     "evalue": "name 'DAG' is not defined",
     "output_type": "error",
     "traceback": [
      "\u001b[0;31m---------------------------------------------------------------------------\u001b[0m",
      "\u001b[0;31mNameError\u001b[0m                                 Traceback (most recent call last)",
      "\u001b[0;32m<ipython-input-1-bb8038205b79>\u001b[0m in \u001b[0;36m<module>\u001b[0;34m\u001b[0m\n\u001b[1;32m      4\u001b[0m \u001b[0;34m\u001b[0m\u001b[0m\n\u001b[1;32m      5\u001b[0m \u001b[0;34m\u001b[0m\u001b[0m\n\u001b[0;32m----> 6\u001b[0;31m \u001b[0mfoo_dag\u001b[0m \u001b[0;34m=\u001b[0m \u001b[0mDAG\u001b[0m\u001b[0;34m(\u001b[0m\u001b[0;34m[\u001b[0m\u001b[0mfoo\u001b[0m\u001b[0;34m]\u001b[0m\u001b[0;34m)\u001b[0m\u001b[0;34m\u001b[0m\u001b[0;34m\u001b[0m\u001b[0m\n\u001b[0m\u001b[1;32m      7\u001b[0m \u001b[0;32massert\u001b[0m \u001b[0mfoo_dag\u001b[0m\u001b[0;34m(\u001b[0m\u001b[0;36m0\u001b[0m\u001b[0;34m)\u001b[0m \u001b[0;34m==\u001b[0m \u001b[0;36m1\u001b[0m\u001b[0;34m\u001b[0m\u001b[0;34m\u001b[0m\u001b[0m\n\u001b[1;32m      8\u001b[0m \u001b[0mprint\u001b[0m\u001b[0;34m(\u001b[0m\u001b[0mfoo_dag\u001b[0m\u001b[0;34m.\u001b[0m\u001b[0m__signature__\u001b[0m\u001b[0;34m)\u001b[0m\u001b[0;34m\u001b[0m\u001b[0;34m\u001b[0m\u001b[0m\n",
      "\u001b[0;31mNameError\u001b[0m: name 'DAG' is not defined"
     ]
    }
   ],
   "source": [
    "d.__signature__=sig"
   ]
  },
  {
   "cell_type": "code",
   "execution_count": 3,
   "metadata": {},
   "outputs": [
    {
     "data": {
      "text/plain": [
       "['w', 'x', 'y', 'z', 'rest']"
      ]
     },
     "execution_count": 3,
     "metadata": {},
     "output_type": "execute_result"
    }
   ],
   "source": [
    "d.__signature__.names"
   ]
  },
  {
   "cell_type": "code",
   "execution_count": 4,
   "metadata": {},
   "outputs": [],
   "source": [
    "foo.__signature__ = Sig(foo)"
   ]
  },
  {
   "cell_type": "code",
   "execution_count": 5,
   "metadata": {},
   "outputs": [
    {
     "data": {
      "text/plain": [
       "<Sig (w, /, x: float, y='YY', *, z: str = 'ZZ', **rest)>"
      ]
     },
     "execution_count": 5,
     "metadata": {},
     "output_type": "execute_result"
    }
   ],
   "source": [
    "foo.__signature__"
   ]
  },
  {
   "cell_type": "code",
   "execution_count": 6,
   "metadata": {},
   "outputs": [
    {
     "data": {
      "text/plain": [
       "['w', 'x', 'y', 'z', 'rest']"
      ]
     },
     "execution_count": 6,
     "metadata": {},
     "output_type": "execute_result"
    }
   ],
   "source": [
    "foo.__signature__.names"
   ]
  },
  {
   "cell_type": "code",
   "execution_count": 16,
   "metadata": {},
   "outputs": [
    {
     "name": "stdout",
     "output_type": "stream",
     "text": [
      "<class 'i2.signatures.Sig'>\n",
      "(x, y=1)\n"
     ]
    },
    {
     "data": {
      "text/plain": [
       "<Signature (x, y=2)>"
      ]
     },
     "execution_count": 16,
     "metadata": {},
     "output_type": "execute_result"
    }
   ],
   "source": [
    "def foo(x, y=1):\n",
    "    return x + y\n",
    "\n",
    "\n",
    "\n",
    "foo_dag = DAG([foo])\n",
    "assert foo_dag(0) == 1\n",
    "print(foo_dag.__signature__)\n",
    "bar_dag = Sig(lambda x, y=2: None)(foo_dag)  # changes __signature__\n",
    "\n",
    "bar_dag.__signature__\n",
    "# bar_dag.sig = Sig(bar_dag)  # changed it manually\n",
    "#assert str(Sig(bar_dag)) == \"(x, y=2)\"\n",
    "#assert bar_dag(0) == 2  # Correct result after above change in dag._call\n",
    "#assert True"
   ]
  },
  {
   "cell_type": "code",
   "execution_count": 3,
   "metadata": {},
   "outputs": [],
   "source": [
    "from meshed import DAG\n",
    "from i2 import Sig\n",
    "\n",
    "def foo(x, y=1):\n",
    "    return x + y\n",
    "\n",
    "foo_dag = DAG([foo])\n",
    "assert foo_dag(0) == 1\n",
    "bar_dag = Sig(lambda x, y=2: None)(foo_dag)\n",
    "assert str(Sig(bar_dag)) == '(x, y=2)'\n",
    "assert bar_dag(0) == 2 # BUT WE WANT THIS TO BE 2"
   ]
  },
  {
   "cell_type": "markdown",
   "metadata": {},
   "source": [
    "# binding issue 19"
   ]
  },
  {
   "cell_type": "code",
   "execution_count": 32,
   "metadata": {},
   "outputs": [],
   "source": [
    "def foo(a, b):\n",
    "    return a + b\n",
    "\n",
    "def bar(x, y):\n",
    "    return  x * y"
   ]
  },
  {
   "cell_type": "code",
   "execution_count": 33,
   "metadata": {},
   "outputs": [
    {
     "data": {
      "image/svg+xml": [
       "<?xml version=\"1.0\" encoding=\"UTF-8\" standalone=\"no\"?>\n",
       "<!DOCTYPE svg PUBLIC \"-//W3C//DTD SVG 1.1//EN\"\n",
       " \"http://www.w3.org/Graphics/SVG/1.1/DTD/svg11.dtd\">\n",
       "<!-- Generated by graphviz version 2.40.1 (20161225.0304)\n",
       " -->\n",
       "<!-- Title: %3 Pages: 1 -->\n",
       "<svg width=\"170pt\" height=\"260pt\"\n",
       " viewBox=\"0.00 0.00 170.00 260.00\" xmlns=\"http://www.w3.org/2000/svg\" xmlns:xlink=\"http://www.w3.org/1999/xlink\">\n",
       "<g id=\"graph0\" class=\"graph\" transform=\"scale(1 1) rotate(0) translate(4 256)\">\n",
       "<title>%3</title>\n",
       "<polygon fill=\"#ffffff\" stroke=\"transparent\" points=\"-4,4 -4,-256 166,-256 166,4 -4,4\"/>\n",
       "<!-- bar -->\n",
       "<g id=\"node1\" class=\"node\">\n",
       "<title>bar</title>\n",
       "<text text-anchor=\"middle\" x=\"27\" y=\"-14.3\" font-family=\"Times,serif\" font-size=\"14.00\" fill=\"#000000\">bar</text>\n",
       "</g>\n",
       "<!-- bar_ -->\n",
       "<g id=\"node2\" class=\"node\">\n",
       "<title>bar_</title>\n",
       "<polygon fill=\"none\" stroke=\"#000000\" points=\"54,-108 0,-108 0,-72 54,-72 54,-108\"/>\n",
       "<text text-anchor=\"middle\" x=\"27\" y=\"-86.3\" font-family=\"Times,serif\" font-size=\"14.00\" fill=\"#000000\">bar_</text>\n",
       "</g>\n",
       "<!-- bar_&#45;&gt;bar -->\n",
       "<g id=\"edge1\" class=\"edge\">\n",
       "<title>bar_&#45;&gt;bar</title>\n",
       "<path fill=\"none\" stroke=\"#000000\" d=\"M27,-71.8314C27,-64.131 27,-54.9743 27,-46.4166\"/>\n",
       "<polygon fill=\"#000000\" stroke=\"#000000\" points=\"30.5001,-46.4132 27,-36.4133 23.5001,-46.4133 30.5001,-46.4132\"/>\n",
       "</g>\n",
       "<!-- x -->\n",
       "<g id=\"node3\" class=\"node\">\n",
       "<title>x</title>\n",
       "<text text-anchor=\"middle\" x=\"27\" y=\"-158.3\" font-family=\"Times,serif\" font-size=\"14.00\" fill=\"#000000\">x</text>\n",
       "</g>\n",
       "<!-- x&#45;&gt;bar_ -->\n",
       "<g id=\"edge2\" class=\"edge\">\n",
       "<title>x&#45;&gt;bar_</title>\n",
       "<path fill=\"none\" stroke=\"#000000\" d=\"M27,-143.8314C27,-136.131 27,-126.9743 27,-118.4166\"/>\n",
       "<polygon fill=\"#000000\" stroke=\"#000000\" points=\"30.5001,-118.4132 27,-108.4133 23.5001,-118.4133 30.5001,-118.4132\"/>\n",
       "</g>\n",
       "<!-- foo -->\n",
       "<g id=\"node4\" class=\"node\">\n",
       "<title>foo</title>\n",
       "<polygon fill=\"none\" stroke=\"#000000\" points=\"126,-180 72,-180 72,-144 126,-144 126,-180\"/>\n",
       "<text text-anchor=\"middle\" x=\"99\" y=\"-158.3\" font-family=\"Times,serif\" font-size=\"14.00\" fill=\"#000000\">foo</text>\n",
       "</g>\n",
       "<!-- foo&#45;&gt;bar_ -->\n",
       "<g id=\"edge3\" class=\"edge\">\n",
       "<title>foo&#45;&gt;bar_</title>\n",
       "<path fill=\"none\" stroke=\"#000000\" d=\"M80.8314,-143.8314C72.2848,-135.2848 61.9443,-124.9443 52.6198,-115.6198\"/>\n",
       "<polygon fill=\"#000000\" stroke=\"#000000\" points=\"54.9592,-113.0095 45.4133,-108.4133 50.0095,-117.9592 54.9592,-113.0095\"/>\n",
       "</g>\n",
       "<!-- _foo -->\n",
       "<g id=\"node5\" class=\"node\">\n",
       "<title>_foo</title>\n",
       "<text text-anchor=\"middle\" x=\"99\" y=\"-86.3\" font-family=\"Times,serif\" font-size=\"14.00\" fill=\"#000000\">_foo</text>\n",
       "</g>\n",
       "<!-- foo&#45;&gt;_foo -->\n",
       "<g id=\"edge4\" class=\"edge\">\n",
       "<title>foo&#45;&gt;_foo</title>\n",
       "<path fill=\"none\" stroke=\"#000000\" d=\"M99,-143.8314C99,-136.131 99,-126.9743 99,-118.4166\"/>\n",
       "<polygon fill=\"#000000\" stroke=\"#000000\" points=\"102.5001,-118.4132 99,-108.4133 95.5001,-118.4133 102.5001,-118.4132\"/>\n",
       "</g>\n",
       "<!-- a -->\n",
       "<g id=\"node6\" class=\"node\">\n",
       "<title>a</title>\n",
       "<text text-anchor=\"middle\" x=\"63\" y=\"-230.3\" font-family=\"Times,serif\" font-size=\"14.00\" fill=\"#000000\">a</text>\n",
       "</g>\n",
       "<!-- a&#45;&gt;foo -->\n",
       "<g id=\"edge5\" class=\"edge\">\n",
       "<title>a&#45;&gt;foo</title>\n",
       "<path fill=\"none\" stroke=\"#000000\" d=\"M72.0843,-215.8314C76.0615,-207.8771 80.8155,-198.369 85.2139,-189.5723\"/>\n",
       "<polygon fill=\"#000000\" stroke=\"#000000\" points=\"88.4517,-190.9228 89.7934,-180.4133 82.1907,-187.7923 88.4517,-190.9228\"/>\n",
       "</g>\n",
       "<!-- b -->\n",
       "<g id=\"node7\" class=\"node\">\n",
       "<title>b</title>\n",
       "<text text-anchor=\"middle\" x=\"135\" y=\"-230.3\" font-family=\"Times,serif\" font-size=\"14.00\" fill=\"#000000\">b</text>\n",
       "</g>\n",
       "<!-- b&#45;&gt;foo -->\n",
       "<g id=\"edge6\" class=\"edge\">\n",
       "<title>b&#45;&gt;foo</title>\n",
       "<path fill=\"none\" stroke=\"#000000\" d=\"M125.9157,-215.8314C121.9385,-207.8771 117.1845,-198.369 112.7861,-189.5723\"/>\n",
       "<polygon fill=\"#000000\" stroke=\"#000000\" points=\"115.8093,-187.7923 108.2066,-180.4133 109.5483,-190.9228 115.8093,-187.7923\"/>\n",
       "</g>\n",
       "</g>\n",
       "</svg>\n"
      ],
      "text/plain": [
       "<graphviz.dot.Digraph at 0x7ff419332970>"
      ]
     },
     "execution_count": 33,
     "metadata": {},
     "output_type": "execute_result"
    }
   ],
   "source": [
    "from meshed import DAG, FuncNode\n",
    "from i2 import Sig\n",
    "\n",
    "dag = DAG([\n",
    "    FuncNode(foo, name='foo'),\n",
    "    FuncNode(bar, bind={'y': 'foo'})\n",
    "])\n",
    "#assert str(Sig(dag)) == '(foo, x, a, b)'  # ?!?!\n",
    "#assert dag(9,1,2,3) == (9, 5) \n",
    "dag.dot_digraph()"
   ]
  },
  {
   "cell_type": "code",
   "execution_count": 44,
   "metadata": {},
   "outputs": [
    {
     "data": {
      "text/plain": [
       "['bar_', 'foo']"
      ]
     },
     "execution_count": 44,
     "metadata": {},
     "output_type": "execute_result"
    }
   ],
   "source": [
    "[node.name for node in dag.func_nodes]"
   ]
  },
  {
   "cell_type": "code",
   "execution_count": 49,
   "metadata": {},
   "outputs": [
    {
     "data": {
      "text/plain": [
       "{'y': 'foo', 'x': 'x'}"
      ]
     },
     "execution_count": 49,
     "metadata": {},
     "output_type": "execute_result"
    }
   ],
   "source": [
    "def bindings_cleaner(self):\n",
    "    funcnodes_names =  [node.name for node in self.func_nodes]\n",
    "    func = lambda v: self._func_node_for[v].out\n",
    "    cond = lambda k,v: v in funcnodes_names\n",
    "    for node in self.func_nodes:\n",
    "        \n",
    "        node.bind = change_value_on_cond(d, cond, func)\n",
    "\n",
    "        \n",
    "    \n",
    "def change_value_on_cond(d, cond, func):\n",
    "    for k,v in d.items():\n",
    "        if cond(k,v):\n",
    "            d[k]=func(v)\n",
    "    return d\n",
    "\n",
    "\n",
    "\n",
    "\n",
    "FuncNode(bar, bind={'y': 'foo'}).bind\n"
   ]
  },
  {
   "cell_type": "code",
   "execution_count": 51,
   "metadata": {},
   "outputs": [],
   "source": [
    "d = {'a':12, 'b':23}\n",
    "cond = lambda k,v: v>20\n",
    "func = lambda x:2*x\n",
    "dd = change_value_on_cond(d, cond, func)"
   ]
  },
  {
   "cell_type": "code",
   "execution_count": 52,
   "metadata": {},
   "outputs": [
    {
     "data": {
      "text/plain": [
       "{'a': 12, 'b': 46}"
      ]
     },
     "execution_count": 52,
     "metadata": {},
     "output_type": "execute_result"
    }
   ],
   "source": [
    "dd"
   ]
  },
  {
   "cell_type": "code",
   "execution_count": 42,
   "metadata": {},
   "outputs": [
    {
     "data": {
      "text/plain": [
       "'foo'"
      ]
     },
     "execution_count": 42,
     "metadata": {},
     "output_type": "execute_result"
    }
   ],
   "source": [
    "FuncNode(foo, name='foo').name"
   ]
  },
  {
   "cell_type": "code",
   "execution_count": 47,
   "metadata": {},
   "outputs": [
    {
     "data": {
      "text/plain": [
       "FuncNode(a,b -> foo -> _foo)"
      ]
     },
     "execution_count": 47,
     "metadata": {},
     "output_type": "execute_result"
    }
   ],
   "source": [
    "nn = dag._func_node_for[foo]\n",
    "nn"
   ]
  },
  {
   "cell_type": "code",
   "execution_count": 39,
   "metadata": {},
   "outputs": [
    {
     "data": {
      "text/plain": [
       "'_foo'"
      ]
     },
     "execution_count": 39,
     "metadata": {},
     "output_type": "execute_result"
    }
   ],
   "source": [
    "dag._func_node_for['foo'].out"
   ]
  },
  {
   "cell_type": "code",
   "execution_count": 16,
   "metadata": {},
   "outputs": [],
   "source": [
    "from qo import ddir"
   ]
  },
  {
   "cell_type": "code",
   "execution_count": 38,
   "metadata": {},
   "outputs": [
    {
     "data": {
      "text/plain": [
       "['bind',\n",
       " 'call_on_scope',\n",
       " 'extractor',\n",
       " 'from_dict',\n",
       " 'func',\n",
       " 'func_label',\n",
       " 'has_as_instance',\n",
       " 'name',\n",
       " 'names_maker',\n",
       " 'node_validator',\n",
       " 'out',\n",
       " 'sig',\n",
       " 'synopsis_string',\n",
       " 'to_dict']"
      ]
     },
     "execution_count": 38,
     "metadata": {},
     "output_type": "execute_result"
    }
   ],
   "source": [
    "ddir(nn)"
   ]
  },
  {
   "cell_type": "code",
   "execution_count": 23,
   "metadata": {},
   "outputs": [
    {
     "data": {
      "text/plain": [
       "{'func_nodes': [FuncNode(y=foo,x -> bar_ -> bar),\n",
       "  FuncNode(a,b -> foo -> _foo)],\n",
       " 'cache_last_scope': True,\n",
       " 'parameter_merge': <function meshed.util.conservative_parameter_merge(params, same_kind=True, same_default=True, same_annotation=True)>,\n",
       " 'new_scope': dict,\n",
       " 'name': None,\n",
       " 'extract_output_from_scope': <function meshed.util.extract_values(d: dict, keys: Iterable)>,\n",
       " 'graph': {'a': [FuncNode(a,b -> foo -> _foo)],\n",
       "  'b': [FuncNode(a,b -> foo -> _foo)],\n",
       "  FuncNode(a,b -> foo -> _foo): ['_foo'],\n",
       "  'foo': [FuncNode(y=foo,x -> bar_ -> bar)],\n",
       "  'x': [FuncNode(y=foo,x -> bar_ -> bar)],\n",
       "  FuncNode(y=foo,x -> bar_ -> bar): ['bar']},\n",
       " 'nodes': ['x',\n",
       "  'foo',\n",
       "  FuncNode(y=foo,x -> bar_ -> bar),\n",
       "  'bar',\n",
       "  'b',\n",
       "  'a',\n",
       "  FuncNode(a,b -> foo -> _foo),\n",
       "  '_foo'],\n",
       " 'var_nodes': ['x', 'foo', 'bar', 'b', 'a', '_foo'],\n",
       " '__signature__': <Sig (foo, x, a, b)>,\n",
       " 'roots': ('foo', 'x', 'a', 'b'),\n",
       " 'leafs': ('bar', '_foo'),\n",
       " 'last_scope': None}"
      ]
     },
     "execution_count": 23,
     "metadata": {},
     "output_type": "execute_result"
    }
   ],
   "source": [
    "vars(dag)"
   ]
  },
  {
   "cell_type": "code",
   "execution_count": 11,
   "metadata": {},
   "outputs": [],
   "source": [
    "node =     FuncNode(foo, name='foo')"
   ]
  },
  {
   "cell_type": "code",
   "execution_count": 12,
   "metadata": {},
   "outputs": [
    {
     "data": {
      "text/plain": [
       "{'a': 'a', 'b': 'b'}"
      ]
     },
     "execution_count": 12,
     "metadata": {},
     "output_type": "execute_result"
    }
   ],
   "source": [
    "node.bind"
   ]
  },
  {
   "cell_type": "code",
   "execution_count": 13,
   "metadata": {},
   "outputs": [
    {
     "data": {
      "text/plain": [
       "'_foo'"
      ]
     },
     "execution_count": 13,
     "metadata": {},
     "output_type": "execute_result"
    }
   ],
   "source": [
    "node.out"
   ]
  },
  {
   "cell_type": "code",
   "execution_count": 14,
   "metadata": {},
   "outputs": [
    {
     "data": {
      "text/plain": [
       "'(a, b, x)'"
      ]
     },
     "execution_count": 14,
     "metadata": {},
     "output_type": "execute_result"
    }
   ],
   "source": [
    "str(Sig(dag))"
   ]
  },
  {
   "cell_type": "code",
   "execution_count": 30,
   "metadata": {},
   "outputs": [
    {
     "data": {
      "text/plain": [
       "FuncNode(x=foo_output -> B -> b)"
      ]
     },
     "execution_count": 30,
     "metadata": {},
     "output_type": "execute_result"
    }
   ],
   "source": [
    "def foo(x): return x + 1\n",
    "def bar(x): return x * 2\n",
    "dag = DAG([\n",
    "             FuncNode(foo, out='foo_output'),\n",
    "             FuncNode(bar, name='B', out='b', bind={'x': 'foo_output'}),\n",
    "         ])\n",
    "\n",
    "        #A ``FuncNode`` instance is indexed by both its identifier (``.name``) as well as\n",
    "        #the identifier of it's output (``.out``):\n",
    "\n",
    "dag._func_node_for['foo_output']\n",
    "#        FuncNode(x -> foo -> foo_output)\n",
    "dag._func_node_for['foo']\n",
    "#        FuncNode(x -> foo -> foo_output)\n",
    "dag._func_node_for['b']\n",
    "#        FuncNode(x=foo_output -> B -> b)\n",
    "dag._func_node_for['B']\n",
    "#        FuncNode(x=foo_output -> B -> b)"
   ]
  },
  {
   "cell_type": "markdown",
   "metadata": {},
   "source": [
    "# Duplicate names error"
   ]
  },
  {
   "cell_type": "code",
   "execution_count": 1,
   "metadata": {},
   "outputs": [
    {
     "name": "stdout",
     "output_type": "stream",
     "text": [
      "f.name='foo_', ff.name='foo___2'\n",
      "f.func_label='foo_', ff.func_label='foo_'\n"
     ]
    }
   ],
   "source": [
    "from meshed import DAG, FuncNode\n",
    "\n",
    "def foo(x):\n",
    "    return x + 1\n",
    "\n",
    "t = foo\n",
    "\n",
    "def foo(y):\n",
    "    return y * 2\n",
    "\n",
    "tt = foo\n",
    "\n",
    "d = DAG([t, tt])\n",
    "d.func_nodes\n",
    "f, ff = d.func_nodes\n",
    "print(f'{f.name=}, {ff.name=}')\n",
    "print(f'{f.func_label=}, {ff.func_label=}')"
   ]
  },
  {
   "cell_type": "code",
   "execution_count": 2,
   "metadata": {},
   "outputs": [
    {
     "data": {
      "text/plain": [
       "<Sig (x, y)>"
      ]
     },
     "execution_count": 2,
     "metadata": {},
     "output_type": "execute_result"
    }
   ],
   "source": [
    "from i2 import Sig\n",
    "Sig(d)"
   ]
  },
  {
   "cell_type": "code",
   "execution_count": 73,
   "metadata": {},
   "outputs": [
    {
     "ename": "AssertionError",
     "evalue": "",
     "output_type": "error",
     "traceback": [
      "\u001b[0;31m---------------------------------------------------------------------------\u001b[0m",
      "\u001b[0;31mAssertionError\u001b[0m                            Traceback (most recent call last)",
      "\u001b[1;32m/Users/sylvain/Desktop/dev/otosense/meshed/meshed/scrap/notebook.ipynb Cell 33\u001b[0m in \u001b[0;36m<cell line: 5>\u001b[0;34m()\u001b[0m\n\u001b[1;32m      <a href='vscode-notebook-cell:/Users/sylvain/Desktop/dev/otosense/meshed/meshed/scrap/notebook.ipynb#Y116sZmlsZQ%3D%3D?line=1'>2</a>\u001b[0m \u001b[39mfrom\u001b[39;00m \u001b[39mmeshed\u001b[39;00m \u001b[39mimport\u001b[39;00m code_to_dag\n\u001b[1;32m      <a href='vscode-notebook-cell:/Users/sylvain/Desktop/dev/otosense/meshed/meshed/scrap/notebook.ipynb#Y116sZmlsZQ%3D%3D?line=2'>3</a>\u001b[0m dag \u001b[39m=\u001b[39m code_to_dag(user_story_01)\n\u001b[0;32m----> <a href='vscode-notebook-cell:/Users/sylvain/Desktop/dev/otosense/meshed/meshed/scrap/notebook.ipynb#Y116sZmlsZQ%3D%3D?line=3'>4</a>\u001b[0m \u001b[39massert\u001b[39;00m (\n\u001b[1;32m      <a href='vscode-notebook-cell:/Users/sylvain/Desktop/dev/otosense/meshed/meshed/scrap/notebook.ipynb#Y116sZmlsZQ%3D%3D?line=4'>5</a>\u001b[0m         dag\u001b[39m.\u001b[39msynopsis_string()\n\u001b[1;32m      <a href='vscode-notebook-cell:/Users/sylvain/Desktop/dev/otosense/meshed/meshed/scrap/notebook.ipynb#Y116sZmlsZQ%3D%3D?line=5'>6</a>\u001b[0m         \u001b[39m==\u001b[39m \u001b[39m\"\"\"\u001b[39m\u001b[39m -> get_data_source -> data_source\u001b[39m\n\u001b[1;32m      <a href='vscode-notebook-cell:/Users/sylvain/Desktop/dev/otosense/meshed/meshed/scrap/notebook.ipynb#Y116sZmlsZQ%3D%3D?line=6'>7</a>\u001b[0m \u001b[39mdata_source -> make_wfs -> wfs\u001b[39m\n\u001b[1;32m      <a href='vscode-notebook-cell:/Users/sylvain/Desktop/dev/otosense/meshed/meshed/scrap/notebook.ipynb#Y116sZmlsZQ%3D%3D?line=7'>8</a>\u001b[0m \u001b[39mwfs,chk_size -> chunker -> chks\u001b[39m\n\u001b[1;32m      <a href='vscode-notebook-cell:/Users/sylvain/Desktop/dev/otosense/meshed/meshed/scrap/notebook.ipynb#Y116sZmlsZQ%3D%3D?line=8'>9</a>\u001b[0m \u001b[39mchks -> splitter -> train_chks__test_chks\u001b[39m\n\u001b[1;32m     <a href='vscode-notebook-cell:/Users/sylvain/Desktop/dev/otosense/meshed/meshed/scrap/notebook.ipynb#Y116sZmlsZQ%3D%3D?line=9'>10</a>\u001b[0m \u001b[39mtrain_chks__test_chks -> test_chks__0 -> test_chks\u001b[39m\n\u001b[1;32m     <a href='vscode-notebook-cell:/Users/sylvain/Desktop/dev/otosense/meshed/meshed/scrap/notebook.ipynb#Y116sZmlsZQ%3D%3D?line=10'>11</a>\u001b[0m \u001b[39mtrain_chks__test_chks -> train_chks__1 -> train_chks\u001b[39m\n\u001b[1;32m     <a href='vscode-notebook-cell:/Users/sylvain/Desktop/dev/otosense/meshed/meshed/scrap/notebook.ipynb#Y116sZmlsZQ%3D%3D?line=11'>12</a>\u001b[0m \u001b[39mfeaturizer_learner,train_chks -> learn_featurizer -> featurizer_obj\u001b[39m\u001b[39m\"\"\"\u001b[39m\n\u001b[1;32m     <a href='vscode-notebook-cell:/Users/sylvain/Desktop/dev/otosense/meshed/meshed/scrap/notebook.ipynb#Y116sZmlsZQ%3D%3D?line=12'>13</a>\u001b[0m     )\n",
      "\u001b[0;31mAssertionError\u001b[0m: "
     ]
    }
   ],
   "source": [
    "from meshed.tests.test_makers import user_story_01\n",
    "from meshed import code_to_dag\n",
    "dag = code_to_dag(user_story_01)\n",
    "assert (\n",
    "        dag.synopsis_string()\n",
    "        == \"\"\" -> get_data_source -> data_source\n",
    "data_source -> make_wfs -> wfs\n",
    "wfs,chk_size -> chunker -> chks\n",
    "chks -> splitter -> train_chks__test_chks\n",
    "train_chks__test_chks -> test_chks__0 -> test_chks\n",
    "train_chks__test_chks -> train_chks__1 -> train_chks\n",
    "featurizer_learner,train_chks -> learn_featurizer -> featurizer_obj\"\"\"\n",
    "    )"
   ]
  },
  {
   "cell_type": "code",
   "execution_count": 76,
   "metadata": {},
   "outputs": [],
   "source": [
    "from meshed.scrap.cached_dag import NoOverwritesDict"
   ]
  },
  {
   "cell_type": "code",
   "execution_count": 80,
   "metadata": {},
   "outputs": [
    {
     "ename": "OverWritesNotAllowedError",
     "evalue": "The b key already exists and you're not allowed to change its value",
     "output_type": "error",
     "traceback": [
      "\u001b[0;31m---------------------------------------------------------------------------\u001b[0m",
      "\u001b[0;31mOverWritesNotAllowedError\u001b[0m                 Traceback (most recent call last)",
      "\u001b[1;32m/Users/sylvain/Desktop/dev/otosense/meshed/meshed/scrap/notebook.ipynb Cell 35\u001b[0m in \u001b[0;36m<cell line: 18>\u001b[0;34m()\u001b[0m\n\u001b[1;32m     <a href='vscode-notebook-cell:/Users/sylvain/Desktop/dev/otosense/meshed/meshed/scrap/notebook.ipynb#Y122sZmlsZQ%3D%3D?line=13'>14</a>\u001b[0m d[\u001b[39m'\u001b[39m\u001b[39mb\u001b[39m\u001b[39m'\u001b[39m] \u001b[39m=\u001b[39m \u001b[39m2\u001b[39m\n\u001b[1;32m     <a href='vscode-notebook-cell:/Users/sylvain/Desktop/dev/otosense/meshed/meshed/scrap/notebook.ipynb#Y122sZmlsZQ%3D%3D?line=15'>16</a>\u001b[0m \u001b[39m#But if we try to write a different value...\u001b[39;00m\n\u001b[0;32m---> <a href='vscode-notebook-cell:/Users/sylvain/Desktop/dev/otosense/meshed/meshed/scrap/notebook.ipynb#Y122sZmlsZQ%3D%3D?line=17'>18</a>\u001b[0m d[\u001b[39m'\u001b[39;49m\u001b[39mb\u001b[39;49m\u001b[39m'\u001b[39;49m] \u001b[39m=\u001b[39m \u001b[39m22\u001b[39m\n",
      "File \u001b[0;32m~/Desktop/dev/otosense/meshed/meshed/scrap/cached_dag.py:64\u001b[0m, in \u001b[0;36mNoOverwritesDict.__setitem__\u001b[0;34m(self, key, value)\u001b[0m\n\u001b[1;32m     62\u001b[0m     \u001b[39msuper\u001b[39m()\u001b[39m.\u001b[39m\u001b[39m__setitem__\u001b[39m(key, value)\n\u001b[1;32m     63\u001b[0m \u001b[39melif\u001b[39;00m value \u001b[39m!=\u001b[39m \u001b[39mself\u001b[39m[key]:\n\u001b[0;32m---> 64\u001b[0m     \u001b[39mraise\u001b[39;00m OverWritesNotAllowedError(\n\u001b[1;32m     65\u001b[0m         \u001b[39mf\u001b[39m\u001b[39m\"\u001b[39m\u001b[39mThe \u001b[39m\u001b[39m{\u001b[39;00mkey\u001b[39m}\u001b[39;00m\u001b[39m key already exists and you\u001b[39m\u001b[39m'\u001b[39m\u001b[39mre not allowed to change its \u001b[39m\u001b[39m\"\u001b[39m\n\u001b[1;32m     66\u001b[0m         \u001b[39mf\u001b[39m\u001b[39m'\u001b[39m\u001b[39mvalue\u001b[39m\u001b[39m'\u001b[39m\n\u001b[1;32m     67\u001b[0m     )\n",
      "\u001b[0;31mOverWritesNotAllowedError\u001b[0m: The b key already exists and you're not allowed to change its value"
     ]
    }
   ],
   "source": [
    ">>> d = NoOverwritesDict(a=1, b=2)\n",
    ">>> d\n",
    "# {'a': 1, 'b': 2}\n",
    "\n",
    "# Writing is allowed, in new keys\n",
    "\n",
    ">>> d['c'] = 3\n",
    ">>> d\n",
    "{'a': 1, 'b': 2, 'c': 3}\n",
    "\n",
    "# It's also okay to write into an existing key if the value it holds is identical.\n",
    "# In fact, the write doesn't even happen.\n",
    "\n",
    ">>> d['b'] = 2\n",
    "\n",
    "#But if we try to write a different value...\n",
    "\n",
    ">>> d['b'] = 22"
   ]
  },
  {
   "cell_type": "code",
   "execution_count": 82,
   "metadata": {},
   "outputs": [
    {
     "ename": "OverWritesNotAllowedError",
     "evalue": "The b key already exists and you're not allowed to change its value",
     "output_type": "error",
     "traceback": [
      "\u001b[0;31m---------------------------------------------------------------------------\u001b[0m",
      "\u001b[0;31mOverWritesNotAllowedError\u001b[0m                 Traceback (most recent call last)",
      "\u001b[1;32m/Users/sylvain/Desktop/dev/otosense/meshed/meshed/scrap/notebook.ipynb Cell 36\u001b[0m in \u001b[0;36m<cell line: 1>\u001b[0;34m()\u001b[0m\n\u001b[0;32m----> <a href='vscode-notebook-cell:/Users/sylvain/Desktop/dev/otosense/meshed/meshed/scrap/notebook.ipynb#Y123sZmlsZQ%3D%3D?line=0'>1</a>\u001b[0m d[\u001b[39m'\u001b[39;49m\u001b[39mb\u001b[39;49m\u001b[39m'\u001b[39;49m]\u001b[39m=\u001b[39m\u001b[39m22\u001b[39m\n",
      "File \u001b[0;32m~/Desktop/dev/otosense/meshed/meshed/scrap/cached_dag.py:64\u001b[0m, in \u001b[0;36mNoOverwritesDict.__setitem__\u001b[0;34m(self, key, value)\u001b[0m\n\u001b[1;32m     62\u001b[0m     \u001b[39msuper\u001b[39m()\u001b[39m.\u001b[39m\u001b[39m__setitem__\u001b[39m(key, value)\n\u001b[1;32m     63\u001b[0m \u001b[39melif\u001b[39;00m value \u001b[39m!=\u001b[39m \u001b[39mself\u001b[39m[key]:\n\u001b[0;32m---> 64\u001b[0m     \u001b[39mraise\u001b[39;00m OverWritesNotAllowedError(\n\u001b[1;32m     65\u001b[0m         \u001b[39mf\u001b[39m\u001b[39m\"\u001b[39m\u001b[39mThe \u001b[39m\u001b[39m{\u001b[39;00mkey\u001b[39m}\u001b[39;00m\u001b[39m key already exists and you\u001b[39m\u001b[39m'\u001b[39m\u001b[39mre not allowed to change its \u001b[39m\u001b[39m\"\u001b[39m\n\u001b[1;32m     66\u001b[0m         \u001b[39mf\u001b[39m\u001b[39m'\u001b[39m\u001b[39mvalue\u001b[39m\u001b[39m'\u001b[39m\n\u001b[1;32m     67\u001b[0m     )\n",
      "\u001b[0;31mOverWritesNotAllowedError\u001b[0m: The b key already exists and you're not allowed to change its value"
     ]
    }
   ],
   "source": [
    "from meshed.makers import code_to_dag\n",
    "\n",
    "\n",
    "@code_to_dag\n",
    "def dag_01():\n",
    "    b = f(a)\n",
    "    c = g(a)\n",
    "    d = h(b, c)\n",
    "\n",
    "\n",
    "@code_to_dag\n",
    "def dag_02():\n",
    "    b = f(a)\n",
    "    c = g(x=a)\n",
    "    d = h(y=b, c=c)\n",
    "\n",
    "\n",
    "_string01 = '''a -> g -> c\n",
    "a -> f -> b\n",
    "b,c -> h -> d'''\n",
    "\n",
    "_string02 = '''x=a -> g -> c\n",
    "a -> f -> b\n",
    "y=b,c -> h -> d'''\n",
    "\n",
    "\n",
    "def test_synopsis_string():\n",
    "    s11 = '\\n'.join([fn.synopsis_string() for fn in dag_01.func_nodes])\n",
    "    s21 = '\\n'.join(\n",
    "        [fn.synopsis_string(bind_info='hybrid') for fn in dag_01.func_nodes]\n",
    "    )\n",
    "    assert s11 == _string01 == s21\n",
    "    s22 = '\\n'.join(\n",
    "        [fn.synopsis_string(bind_info='hybrid') for fn in dag_02.func_nodes]\n",
    "    )\n",
    "    assert s22 == _string02"
   ]
  },
  {
   "cell_type": "code",
   "execution_count": 88,
   "metadata": {},
   "outputs": [],
   "source": [
    "from meshed.makers import code_to_dag\n",
    "\n",
    "\n",
    "@code_to_dag\n",
    "def dag_01():\n",
    "    b = f(a)\n",
    "    c = g(a)\n",
    "    d = h(b, c)\n",
    "\n",
    "\n",
    "@code_to_dag\n",
    "def dag_02():\n",
    "    b = f(a)\n",
    "    c = g(x=a)\n",
    "    d = h(y=b, c=c)\n",
    "\n",
    "\n",
    "_string01 = '''a -> g -> c\n",
    "a -> f -> b\n",
    "b,c -> h -> d'''\n",
    "\n",
    "_string02 = '''a -> f -> b\n",
    "x=a -> g -> c\n",
    "y=b,c -> h -> d'''\n",
    "\n",
    "\n",
    "def test_synopsis_string():\n",
    "    s11 = '\\n'.join([fn.synopsis_string() for fn in dag_01.func_nodes])\n",
    "    s21 = '\\n'.join(\n",
    "        [fn.synopsis_string(bind_info='hybrid') for fn in dag_01.func_nodes]\n",
    "    )\n",
    "    assert s11 == _string01 == s21\n",
    "    s22 = '\\n'.join(\n",
    "        [fn.synopsis_string(bind_info='hybrid') for fn in dag_02.func_nodes]\n",
    "    )\n",
    "    assert s22 == _string02"
   ]
  },
  {
   "cell_type": "code",
   "execution_count": 89,
   "metadata": {},
   "outputs": [],
   "source": [
    "s11 = '\\n'.join([fn.synopsis_string() for fn in dag_01.func_nodes])\n"
   ]
  },
  {
   "cell_type": "code",
   "execution_count": 90,
   "metadata": {},
   "outputs": [
    {
     "name": "stdout",
     "output_type": "stream",
     "text": [
      "a -> f -> b\n",
      "a -> g -> c\n",
      "b,c -> h -> d\n"
     ]
    }
   ],
   "source": [
    "print(s11)"
   ]
  },
  {
   "cell_type": "code",
   "execution_count": 91,
   "metadata": {},
   "outputs": [
    {
     "name": "stdout",
     "output_type": "stream",
     "text": [
      "a -> f -> b\n",
      "a -> g -> c\n",
      "b,c -> h -> d\n"
     ]
    }
   ],
   "source": [
    "s21 = '\\n'.join(\n",
    "        [fn.synopsis_string(bind_info='hybrid') for fn in dag_01.func_nodes]\n",
    "    )\n",
    "print(s21)"
   ]
  },
  {
   "cell_type": "code",
   "execution_count": 92,
   "metadata": {},
   "outputs": [
    {
     "name": "stdout",
     "output_type": "stream",
     "text": [
      "a -> f -> b\n",
      "x=a -> g -> c\n",
      "y=b,c -> h -> d\n"
     ]
    }
   ],
   "source": [
    "s22 = \"\\n\".join(\n",
    "        [fn.synopsis_string(bind_info=\"hybrid\") for fn in dag_02.func_nodes]\n",
    "    )\n",
    "print(s22)"
   ]
  },
  {
   "cell_type": "code",
   "execution_count": 2,
   "metadata": {},
   "outputs": [],
   "source": [
    "from meshed import DAG\n",
    ">>> def f(a, b): return a + b\n",
    ">>> def g(c, d=1): return c * d\n",
    ">>> def h(x, y=1): return x ** y\n",
    ">>>\n",
    ">>> three_funcs = DAG([f, g, h])\n",
    ">>> assert (\n",
    "...     three_funcs(x=1, c=2, a=3, b=4)\n",
    "...     == (7, 2, 1)\n",
    "...     == (f(a=3, b=4), g(c=2), h(x=1))\n",
    "...     == (3 + 4, 2*1, 1** 1)\n",
    "... )"
   ]
  },
  {
   "cell_type": "code",
   "execution_count": 4,
   "metadata": {},
   "outputs": [],
   "source": [
    "hg = three_funcs.add_edge('h', 'g')"
   ]
  },
  {
   "cell_type": "code",
   "execution_count": 5,
   "metadata": {},
   "outputs": [
    {
     "data": {
      "text/plain": [
       "DAG(func_nodes=[FuncNode(a,b -> f_ -> f), FuncNode(x,y -> h_ -> h), FuncNode(c=h,d -> g_ -> g)], name=None)"
      ]
     },
     "execution_count": 5,
     "metadata": {},
     "output_type": "execute_result"
    }
   ],
   "source": [
    "hg"
   ]
  },
  {
   "cell_type": "code",
   "execution_count": 7,
   "metadata": {},
   "outputs": [],
   "source": [
    "assert (\n",
    "             hg(a=3, b=4, x=1)\n",
    "             == (7, 1)\n",
    "             == (f(a=3, b=4), g(c=h(x=1)))\n",
    "             == (3 + 4, 1 * (1 ** 1))\n",
    "         )"
   ]
  },
  {
   "cell_type": "code",
   "execution_count": 8,
   "metadata": {},
   "outputs": [
    {
     "name": "stdout",
     "output_type": "stream",
     "text": [
      "a,b -> f_ -> f\n",
      "x,y -> h_ -> h\n",
      "h,d -> g_ -> g\n"
     ]
    }
   ],
   "source": [
    ">>> print(hg.synopsis_string())\n"
   ]
  },
  {
   "cell_type": "code",
   "execution_count": 9,
   "metadata": {},
   "outputs": [],
   "source": [
    "        >>> fhg = three_funcs.add_edge('h', 'g').add_edge('f', 'h')\n"
   ]
  },
  {
   "cell_type": "code",
   "execution_count": 10,
   "metadata": {},
   "outputs": [
    {
     "data": {
      "text/plain": [
       "DAG(func_nodes=[FuncNode(a,b -> f_ -> f), FuncNode(x=f,y -> h_ -> h), FuncNode(c=h,d -> g_ -> g)], name=None)"
      ]
     },
     "execution_count": 10,
     "metadata": {},
     "output_type": "execute_result"
    }
   ],
   "source": [
    "fhg"
   ]
  },
  {
   "cell_type": "code",
   "execution_count": 13,
   "metadata": {},
   "outputs": [],
   "source": [
    "assert (\n",
    "             fhg(a=3, b=4)\n",
    "             == 7\n",
    "             == g(h(f(3, 4)))\n",
    "             == ((3 + 4) * 1) ** 1\n",
    "         )"
   ]
  },
  {
   "cell_type": "code",
   "execution_count": 14,
   "metadata": {},
   "outputs": [
    {
     "name": "stdout",
     "output_type": "stream",
     "text": [
      "a,b -> f_ -> f\n",
      "f,y -> h_ -> h\n",
      "h,d -> g_ -> g\n"
     ]
    }
   ],
   "source": [
    "        >>> print(fhg.synopsis_string())\n"
   ]
  },
  {
   "cell_type": "code",
   "execution_count": 15,
   "metadata": {},
   "outputs": [],
   "source": [
    ">>> fhg = three_funcs.add_edge(h, 'g').add_edge('f_', 'h')\n"
   ]
  },
  {
   "cell_type": "code",
   "execution_count": 16,
   "metadata": {},
   "outputs": [
    {
     "data": {
      "image/svg+xml": [
       "<?xml version=\"1.0\" encoding=\"UTF-8\" standalone=\"no\"?>\n",
       "<!DOCTYPE svg PUBLIC \"-//W3C//DTD SVG 1.1//EN\"\n",
       " \"http://www.w3.org/Graphics/SVG/1.1/DTD/svg11.dtd\">\n",
       "<!-- Generated by graphviz version 2.40.1 (20161225.0304)\n",
       " -->\n",
       "<!-- Title: %3 Pages: 1 -->\n",
       "<svg width=\"206pt\" height=\"476pt\"\n",
       " viewBox=\"0.00 0.00 206.00 476.00\" xmlns=\"http://www.w3.org/2000/svg\" xmlns:xlink=\"http://www.w3.org/1999/xlink\">\n",
       "<g id=\"graph0\" class=\"graph\" transform=\"scale(1 1) rotate(0) translate(4 472)\">\n",
       "<title>%3</title>\n",
       "<polygon fill=\"#ffffff\" stroke=\"transparent\" points=\"-4,4 -4,-472 202,-472 202,4 -4,4\"/>\n",
       "<!-- f -->\n",
       "<g id=\"node1\" class=\"node\">\n",
       "<title>f</title>\n",
       "<text text-anchor=\"middle\" x=\"135\" y=\"-302.3\" font-family=\"Times,serif\" font-size=\"14.00\" fill=\"#000000\">f</text>\n",
       "</g>\n",
       "<!-- h_ -->\n",
       "<g id=\"node7\" class=\"node\">\n",
       "<title>h_</title>\n",
       "<polygon fill=\"none\" stroke=\"#000000\" points=\"126,-252 72,-252 72,-216 126,-216 126,-252\"/>\n",
       "<text text-anchor=\"middle\" x=\"99\" y=\"-230.3\" font-family=\"Times,serif\" font-size=\"14.00\" fill=\"#000000\">h_</text>\n",
       "</g>\n",
       "<!-- f&#45;&gt;h_ -->\n",
       "<g id=\"edge5\" class=\"edge\">\n",
       "<title>f&#45;&gt;h_</title>\n",
       "<path fill=\"none\" stroke=\"#000000\" d=\"M125.9157,-287.8314C121.9385,-279.8771 117.1845,-270.369 112.7861,-261.5723\"/>\n",
       "<polygon fill=\"#000000\" stroke=\"#000000\" points=\"115.8093,-259.7923 108.2066,-252.4133 109.5483,-262.9228 115.8093,-259.7923\"/>\n",
       "</g>\n",
       "<!-- a -->\n",
       "<g id=\"node2\" class=\"node\">\n",
       "<title>a</title>\n",
       "<text text-anchor=\"middle\" x=\"99\" y=\"-446.3\" font-family=\"Times,serif\" font-size=\"14.00\" fill=\"#000000\">a</text>\n",
       "</g>\n",
       "<!-- f_ -->\n",
       "<g id=\"node4\" class=\"node\">\n",
       "<title>f_</title>\n",
       "<polygon fill=\"none\" stroke=\"#000000\" points=\"162,-396 108,-396 108,-360 162,-360 162,-396\"/>\n",
       "<text text-anchor=\"middle\" x=\"135\" y=\"-374.3\" font-family=\"Times,serif\" font-size=\"14.00\" fill=\"#000000\">f_</text>\n",
       "</g>\n",
       "<!-- a&#45;&gt;f_ -->\n",
       "<g id=\"edge2\" class=\"edge\">\n",
       "<title>a&#45;&gt;f_</title>\n",
       "<path fill=\"none\" stroke=\"#000000\" d=\"M108.0843,-431.8314C112.0615,-423.8771 116.8155,-414.369 121.2139,-405.5723\"/>\n",
       "<polygon fill=\"#000000\" stroke=\"#000000\" points=\"124.4517,-406.9228 125.7934,-396.4133 118.1907,-403.7923 124.4517,-406.9228\"/>\n",
       "</g>\n",
       "<!-- b -->\n",
       "<g id=\"node3\" class=\"node\">\n",
       "<title>b</title>\n",
       "<text text-anchor=\"middle\" x=\"171\" y=\"-446.3\" font-family=\"Times,serif\" font-size=\"14.00\" fill=\"#000000\">b</text>\n",
       "</g>\n",
       "<!-- b&#45;&gt;f_ -->\n",
       "<g id=\"edge3\" class=\"edge\">\n",
       "<title>b&#45;&gt;f_</title>\n",
       "<path fill=\"none\" stroke=\"#000000\" d=\"M161.9157,-431.8314C157.9385,-423.8771 153.1845,-414.369 148.7861,-405.5723\"/>\n",
       "<polygon fill=\"#000000\" stroke=\"#000000\" points=\"151.8093,-403.7923 144.2066,-396.4133 145.5483,-406.9228 151.8093,-403.7923\"/>\n",
       "</g>\n",
       "<!-- f_&#45;&gt;f -->\n",
       "<g id=\"edge1\" class=\"edge\">\n",
       "<title>f_&#45;&gt;f</title>\n",
       "<path fill=\"none\" stroke=\"#000000\" d=\"M135,-359.8314C135,-352.131 135,-342.9743 135,-334.4166\"/>\n",
       "<polygon fill=\"#000000\" stroke=\"#000000\" points=\"138.5001,-334.4132 135,-324.4133 131.5001,-334.4133 138.5001,-334.4132\"/>\n",
       "</g>\n",
       "<!-- h -->\n",
       "<g id=\"node5\" class=\"node\">\n",
       "<title>h</title>\n",
       "<text text-anchor=\"middle\" x=\"99\" y=\"-158.3\" font-family=\"Times,serif\" font-size=\"14.00\" fill=\"#000000\">h</text>\n",
       "</g>\n",
       "<!-- g_ -->\n",
       "<g id=\"node10\" class=\"node\">\n",
       "<title>g_</title>\n",
       "<polygon fill=\"none\" stroke=\"#000000\" points=\"90,-108 36,-108 36,-72 90,-72 90,-108\"/>\n",
       "<text text-anchor=\"middle\" x=\"63\" y=\"-86.3\" font-family=\"Times,serif\" font-size=\"14.00\" fill=\"#000000\">g_</text>\n",
       "</g>\n",
       "<!-- h&#45;&gt;g_ -->\n",
       "<g id=\"edge8\" class=\"edge\">\n",
       "<title>h&#45;&gt;g_</title>\n",
       "<path fill=\"none\" stroke=\"#000000\" d=\"M89.9157,-143.8314C85.9385,-135.8771 81.1845,-126.369 76.7861,-117.5723\"/>\n",
       "<polygon fill=\"#000000\" stroke=\"#000000\" points=\"79.8093,-115.7923 72.2066,-108.4133 73.5483,-118.9228 79.8093,-115.7923\"/>\n",
       "</g>\n",
       "<!-- y -->\n",
       "<g id=\"node6\" class=\"node\">\n",
       "<title>y</title>\n",
       "<text text-anchor=\"middle\" x=\"63\" y=\"-302.3\" font-family=\"Times,serif\" font-size=\"14.00\" fill=\"#000000\">y=</text>\n",
       "</g>\n",
       "<!-- y&#45;&gt;h_ -->\n",
       "<g id=\"edge6\" class=\"edge\">\n",
       "<title>y&#45;&gt;h_</title>\n",
       "<path fill=\"none\" stroke=\"#000000\" d=\"M72.0843,-287.8314C76.0615,-279.8771 80.8155,-270.369 85.2139,-261.5723\"/>\n",
       "<polygon fill=\"#000000\" stroke=\"#000000\" points=\"88.4517,-262.9228 89.7934,-252.4133 82.1907,-259.7923 88.4517,-262.9228\"/>\n",
       "</g>\n",
       "<!-- h_&#45;&gt;h -->\n",
       "<g id=\"edge4\" class=\"edge\">\n",
       "<title>h_&#45;&gt;h</title>\n",
       "<path fill=\"none\" stroke=\"#000000\" d=\"M99,-215.8314C99,-208.131 99,-198.9743 99,-190.4166\"/>\n",
       "<polygon fill=\"#000000\" stroke=\"#000000\" points=\"102.5001,-190.4132 99,-180.4133 95.5001,-190.4133 102.5001,-190.4132\"/>\n",
       "</g>\n",
       "<!-- g -->\n",
       "<g id=\"node8\" class=\"node\">\n",
       "<title>g</title>\n",
       "<text text-anchor=\"middle\" x=\"63\" y=\"-14.3\" font-family=\"Times,serif\" font-size=\"14.00\" fill=\"#000000\">g</text>\n",
       "</g>\n",
       "<!-- d -->\n",
       "<g id=\"node9\" class=\"node\">\n",
       "<title>d</title>\n",
       "<text text-anchor=\"middle\" x=\"27\" y=\"-158.3\" font-family=\"Times,serif\" font-size=\"14.00\" fill=\"#000000\">d=</text>\n",
       "</g>\n",
       "<!-- d&#45;&gt;g_ -->\n",
       "<g id=\"edge9\" class=\"edge\">\n",
       "<title>d&#45;&gt;g_</title>\n",
       "<path fill=\"none\" stroke=\"#000000\" d=\"M36.0843,-143.8314C40.0615,-135.8771 44.8155,-126.369 49.2139,-117.5723\"/>\n",
       "<polygon fill=\"#000000\" stroke=\"#000000\" points=\"52.4517,-118.9228 53.7934,-108.4133 46.1907,-115.7923 52.4517,-118.9228\"/>\n",
       "</g>\n",
       "<!-- g_&#45;&gt;g -->\n",
       "<g id=\"edge7\" class=\"edge\">\n",
       "<title>g_&#45;&gt;g</title>\n",
       "<path fill=\"none\" stroke=\"#000000\" d=\"M63,-71.8314C63,-64.131 63,-54.9743 63,-46.4166\"/>\n",
       "<polygon fill=\"#000000\" stroke=\"#000000\" points=\"66.5001,-46.4132 63,-36.4133 59.5001,-46.4133 66.5001,-46.4132\"/>\n",
       "</g>\n",
       "</g>\n",
       "</svg>\n"
      ],
      "text/plain": [
       "<graphviz.dot.Digraph at 0x7fe4f298eb20>"
      ]
     },
     "execution_count": 16,
     "metadata": {},
     "output_type": "execute_result"
    }
   ],
   "source": [
    "fhg.dot_digraph()"
   ]
  },
  {
   "cell_type": "code",
   "execution_count": 18,
   "metadata": {},
   "outputs": [],
   "source": [
    "f_of_g_and_h = (\n",
    "             DAG([f, g, h])\n",
    "             .add_edge(g, f, to_param='a')\n",
    "             .add_edge(h, f, 'b')\n",
    "         )"
   ]
  },
  {
   "cell_type": "code",
   "execution_count": 19,
   "metadata": {},
   "outputs": [
    {
     "data": {
      "image/svg+xml": [
       "<?xml version=\"1.0\" encoding=\"UTF-8\" standalone=\"no\"?>\n",
       "<!DOCTYPE svg PUBLIC \"-//W3C//DTD SVG 1.1//EN\"\n",
       " \"http://www.w3.org/Graphics/SVG/1.1/DTD/svg11.dtd\">\n",
       "<!-- Generated by graphviz version 2.40.1 (20161225.0304)\n",
       " -->\n",
       "<!-- Title: %3 Pages: 1 -->\n",
       "<svg width=\"278pt\" height=\"332pt\"\n",
       " viewBox=\"0.00 0.00 278.00 332.00\" xmlns=\"http://www.w3.org/2000/svg\" xmlns:xlink=\"http://www.w3.org/1999/xlink\">\n",
       "<g id=\"graph0\" class=\"graph\" transform=\"scale(1 1) rotate(0) translate(4 328)\">\n",
       "<title>%3</title>\n",
       "<polygon fill=\"#ffffff\" stroke=\"transparent\" points=\"-4,4 -4,-328 274,-328 274,4 -4,4\"/>\n",
       "<!-- g -->\n",
       "<g id=\"node1\" class=\"node\">\n",
       "<title>g</title>\n",
       "<text text-anchor=\"middle\" x=\"171\" y=\"-158.3\" font-family=\"Times,serif\" font-size=\"14.00\" fill=\"#000000\">g</text>\n",
       "</g>\n",
       "<!-- f_ -->\n",
       "<g id=\"node10\" class=\"node\">\n",
       "<title>f_</title>\n",
       "<polygon fill=\"none\" stroke=\"#000000\" points=\"162,-108 108,-108 108,-72 162,-72 162,-108\"/>\n",
       "<text text-anchor=\"middle\" x=\"135\" y=\"-86.3\" font-family=\"Times,serif\" font-size=\"14.00\" fill=\"#000000\">f_</text>\n",
       "</g>\n",
       "<!-- g&#45;&gt;f_ -->\n",
       "<g id=\"edge8\" class=\"edge\">\n",
       "<title>g&#45;&gt;f_</title>\n",
       "<path fill=\"none\" stroke=\"#000000\" d=\"M161.9157,-143.8314C157.9385,-135.8771 153.1845,-126.369 148.7861,-117.5723\"/>\n",
       "<polygon fill=\"#000000\" stroke=\"#000000\" points=\"151.8093,-115.7923 144.2066,-108.4133 145.5483,-118.9228 151.8093,-115.7923\"/>\n",
       "</g>\n",
       "<!-- c -->\n",
       "<g id=\"node2\" class=\"node\">\n",
       "<title>c</title>\n",
       "<text text-anchor=\"middle\" x=\"171\" y=\"-302.3\" font-family=\"Times,serif\" font-size=\"14.00\" fill=\"#000000\">c</text>\n",
       "</g>\n",
       "<!-- g_ -->\n",
       "<g id=\"node4\" class=\"node\">\n",
       "<title>g_</title>\n",
       "<polygon fill=\"none\" stroke=\"#000000\" points=\"198,-252 144,-252 144,-216 198,-216 198,-252\"/>\n",
       "<text text-anchor=\"middle\" x=\"171\" y=\"-230.3\" font-family=\"Times,serif\" font-size=\"14.00\" fill=\"#000000\">g_</text>\n",
       "</g>\n",
       "<!-- c&#45;&gt;g_ -->\n",
       "<g id=\"edge2\" class=\"edge\">\n",
       "<title>c&#45;&gt;g_</title>\n",
       "<path fill=\"none\" stroke=\"#000000\" d=\"M171,-287.8314C171,-280.131 171,-270.9743 171,-262.4166\"/>\n",
       "<polygon fill=\"#000000\" stroke=\"#000000\" points=\"174.5001,-262.4132 171,-252.4133 167.5001,-262.4133 174.5001,-262.4132\"/>\n",
       "</g>\n",
       "<!-- d -->\n",
       "<g id=\"node3\" class=\"node\">\n",
       "<title>d</title>\n",
       "<text text-anchor=\"middle\" x=\"243\" y=\"-302.3\" font-family=\"Times,serif\" font-size=\"14.00\" fill=\"#000000\">d=</text>\n",
       "</g>\n",
       "<!-- d&#45;&gt;g_ -->\n",
       "<g id=\"edge3\" class=\"edge\">\n",
       "<title>d&#45;&gt;g_</title>\n",
       "<path fill=\"none\" stroke=\"#000000\" d=\"M224.8314,-287.8314C216.2848,-279.2848 205.9443,-268.9443 196.6198,-259.6198\"/>\n",
       "<polygon fill=\"#000000\" stroke=\"#000000\" points=\"198.9592,-257.0095 189.4133,-252.4133 194.0095,-261.9592 198.9592,-257.0095\"/>\n",
       "</g>\n",
       "<!-- g_&#45;&gt;g -->\n",
       "<g id=\"edge1\" class=\"edge\">\n",
       "<title>g_&#45;&gt;g</title>\n",
       "<path fill=\"none\" stroke=\"#000000\" d=\"M171,-215.8314C171,-208.131 171,-198.9743 171,-190.4166\"/>\n",
       "<polygon fill=\"#000000\" stroke=\"#000000\" points=\"174.5001,-190.4132 171,-180.4133 167.5001,-190.4133 174.5001,-190.4132\"/>\n",
       "</g>\n",
       "<!-- h -->\n",
       "<g id=\"node5\" class=\"node\">\n",
       "<title>h</title>\n",
       "<text text-anchor=\"middle\" x=\"99\" y=\"-158.3\" font-family=\"Times,serif\" font-size=\"14.00\" fill=\"#000000\">h</text>\n",
       "</g>\n",
       "<!-- h&#45;&gt;f_ -->\n",
       "<g id=\"edge9\" class=\"edge\">\n",
       "<title>h&#45;&gt;f_</title>\n",
       "<path fill=\"none\" stroke=\"#000000\" d=\"M108.0843,-143.8314C112.0615,-135.8771 116.8155,-126.369 121.2139,-117.5723\"/>\n",
       "<polygon fill=\"#000000\" stroke=\"#000000\" points=\"124.4517,-118.9228 125.7934,-108.4133 118.1907,-115.7923 124.4517,-118.9228\"/>\n",
       "</g>\n",
       "<!-- x -->\n",
       "<g id=\"node6\" class=\"node\">\n",
       "<title>x</title>\n",
       "<text text-anchor=\"middle\" x=\"27\" y=\"-302.3\" font-family=\"Times,serif\" font-size=\"14.00\" fill=\"#000000\">x</text>\n",
       "</g>\n",
       "<!-- h_ -->\n",
       "<g id=\"node8\" class=\"node\">\n",
       "<title>h_</title>\n",
       "<polygon fill=\"none\" stroke=\"#000000\" points=\"126,-252 72,-252 72,-216 126,-216 126,-252\"/>\n",
       "<text text-anchor=\"middle\" x=\"99\" y=\"-230.3\" font-family=\"Times,serif\" font-size=\"14.00\" fill=\"#000000\">h_</text>\n",
       "</g>\n",
       "<!-- x&#45;&gt;h_ -->\n",
       "<g id=\"edge5\" class=\"edge\">\n",
       "<title>x&#45;&gt;h_</title>\n",
       "<path fill=\"none\" stroke=\"#000000\" d=\"M45.1686,-287.8314C53.7152,-279.2848 64.0557,-268.9443 73.3802,-259.6198\"/>\n",
       "<polygon fill=\"#000000\" stroke=\"#000000\" points=\"75.9905,-261.9592 80.5867,-252.4133 71.0408,-257.0095 75.9905,-261.9592\"/>\n",
       "</g>\n",
       "<!-- y -->\n",
       "<g id=\"node7\" class=\"node\">\n",
       "<title>y</title>\n",
       "<text text-anchor=\"middle\" x=\"99\" y=\"-302.3\" font-family=\"Times,serif\" font-size=\"14.00\" fill=\"#000000\">y=</text>\n",
       "</g>\n",
       "<!-- y&#45;&gt;h_ -->\n",
       "<g id=\"edge6\" class=\"edge\">\n",
       "<title>y&#45;&gt;h_</title>\n",
       "<path fill=\"none\" stroke=\"#000000\" d=\"M99,-287.8314C99,-280.131 99,-270.9743 99,-262.4166\"/>\n",
       "<polygon fill=\"#000000\" stroke=\"#000000\" points=\"102.5001,-262.4132 99,-252.4133 95.5001,-262.4133 102.5001,-262.4132\"/>\n",
       "</g>\n",
       "<!-- h_&#45;&gt;h -->\n",
       "<g id=\"edge4\" class=\"edge\">\n",
       "<title>h_&#45;&gt;h</title>\n",
       "<path fill=\"none\" stroke=\"#000000\" d=\"M99,-215.8314C99,-208.131 99,-198.9743 99,-190.4166\"/>\n",
       "<polygon fill=\"#000000\" stroke=\"#000000\" points=\"102.5001,-190.4132 99,-180.4133 95.5001,-190.4133 102.5001,-190.4132\"/>\n",
       "</g>\n",
       "<!-- f -->\n",
       "<g id=\"node9\" class=\"node\">\n",
       "<title>f</title>\n",
       "<text text-anchor=\"middle\" x=\"135\" y=\"-14.3\" font-family=\"Times,serif\" font-size=\"14.00\" fill=\"#000000\">f</text>\n",
       "</g>\n",
       "<!-- f_&#45;&gt;f -->\n",
       "<g id=\"edge7\" class=\"edge\">\n",
       "<title>f_&#45;&gt;f</title>\n",
       "<path fill=\"none\" stroke=\"#000000\" d=\"M135,-71.8314C135,-64.131 135,-54.9743 135,-46.4166\"/>\n",
       "<polygon fill=\"#000000\" stroke=\"#000000\" points=\"138.5001,-46.4132 135,-36.4133 131.5001,-46.4133 138.5001,-46.4132\"/>\n",
       "</g>\n",
       "</g>\n",
       "</svg>\n"
      ],
      "text/plain": [
       "<graphviz.dot.Digraph at 0x7fe4f298ee20>"
      ]
     },
     "execution_count": 19,
     "metadata": {},
     "output_type": "execute_result"
    }
   ],
   "source": [
    "f_of_g_and_h.dot_digraph()"
   ]
  },
  {
   "cell_type": "code",
   "execution_count": 21,
   "metadata": {},
   "outputs": [],
   "source": [
    "assert (\n",
    "             f_of_g_and_h(x=2, c=3, y=2, d=2)\n",
    "             == 10\n",
    "             == f(g(c=3, d=2), h(x=2, y=2))\n",
    "             == 3 * 2 + 2 ** 2\n",
    "         )"
   ]
  },
  {
   "cell_type": "code",
   "execution_count": 23,
   "metadata": {},
   "outputs": [],
   "source": [
    "dag = DAG.from_funcs(\n",
    "             lambda a: a * 2,\n",
    "             x=lambda: 10,\n",
    "             y=lambda x, _0: x + _0  # _0 refers to first arg (lambda a: a * 2)\n",
    "         )"
   ]
  },
  {
   "cell_type": "code",
   "execution_count": 24,
   "metadata": {},
   "outputs": [
    {
     "name": "stdout",
     "output_type": "stream",
     "text": [
      "a -> lambda_0_ -> lambda_0\n",
      " -> x_ -> x\n",
      "x,_0 -> y_ -> y\n"
     ]
    }
   ],
   "source": [
    "        >>> print(dag.synopsis_string())\n"
   ]
  },
  {
   "cell_type": "code",
   "execution_count": 29,
   "metadata": {},
   "outputs": [],
   "source": [
    "from i2 import double_up_as_factory, MultiFunc\n",
    "\n",
    "named_funcs = dict(MultiFunc(lambda a: a * 2,\n",
    "             x=lambda: 10,\n",
    "             y=lambda x, _0: x + _0  # _0 refers to first arg (lambda a: a * 2\n",
    "             ))\n"
   ]
  },
  {
   "cell_type": "code",
   "execution_count": 30,
   "metadata": {},
   "outputs": [
    {
     "data": {
      "text/plain": [
       "{'lambda_0': <function __main__.<lambda>(a)>,\n",
       " 'x': <function __main__.<lambda>()>,\n",
       " 'y': <function __main__.<lambda>(x, _0)>}"
      ]
     },
     "execution_count": 30,
     "metadata": {},
     "output_type": "execute_result"
    }
   ],
   "source": [
    "named_funcs"
   ]
  },
  {
   "cell_type": "code",
   "execution_count": 33,
   "metadata": {},
   "outputs": [],
   "source": [
    "ff=MultiFunc(lambda a: a * 2,\n",
    "             x=lambda: 10,\n",
    "             y=lambda x, _0: x + _0  # _0 refers to first arg (lambda a: a * 2\n",
    "             )"
   ]
  },
  {
   "cell_type": "code",
   "execution_count": 34,
   "metadata": {},
   "outputs": [
    {
     "data": {
      "text/plain": [
       "{'objects': {'lambda_0': <function __main__.<lambda>(a)>,\n",
       "  'x': <function __main__.<lambda>()>,\n",
       "  'y': <function __main__.<lambda>(x, _0)>},\n",
       " 'funcs': {'lambda_0': <function __main__.<lambda>(a)>,\n",
       "  'x': <function __main__.<lambda>()>,\n",
       "  'y': <function __main__.<lambda>(x, _0)>}}"
      ]
     },
     "execution_count": 34,
     "metadata": {},
     "output_type": "execute_result"
    }
   ],
   "source": [
    "vars(ff)"
   ]
  },
  {
   "cell_type": "code",
   "execution_count": null,
   "metadata": {},
   "outputs": [],
   "source": [
    "/Users/sylvain/Desktop/dev/otosense/i2/i2/multi_object.py"
   ]
  },
  {
   "attachments": {},
   "cell_type": "markdown",
   "metadata": {},
   "source": [
    "# Change funcs"
   ]
  },
  {
   "cell_type": "code",
   "execution_count": 13,
   "metadata": {},
   "outputs": [],
   "source": [
    "import meshed as ms\n",
    "import pytest\n",
    "\n",
    "import meshed.base\n",
    "import meshed.util\n",
    "\n",
    "from meshed.tests.objects_for_testing import (f,g)\n",
    "from meshed.dag import DAG, names_and_outs, ch_funcs\n",
    "from meshed.base import (\n",
    "    FuncNode,\n",
    "    ch_func_node_func,\n",
    ")\n",
    "\n",
    "def example_func_nodes():\n",
    "\n",
    "    func_nodes = [f, g]\n",
    "    result = meshed.base._mk_func_nodes(func_nodes)\n",
    "    return result\n",
    "\n",
    "def test_ch_funcs_no_change():\n",
    "    funcs = [f,g]\n",
    "    nodes = list(example_func_nodes())\n",
    "    names = [node.name for node in nodes]\n",
    "\n",
    "    dummy_mapping = dict(zip(names, funcs))\n",
    "\n",
    "    new_dag = ch_funcs(\n",
    "        func_nodes =nodes,\n",
    "        func_mapping=dummy_mapping,\n",
    "    )\n",
    "    new_nodes = new_dag().func_nodes\n",
    "    assert nodes == new_nodes\n",
    "result  = test_ch_funcs_no_change()"
   ]
  },
  {
   "cell_type": "code",
   "execution_count": 15,
   "metadata": {},
   "outputs": [],
   "source": [
    "result"
   ]
  },
  {
   "cell_type": "code",
   "execution_count": 29,
   "metadata": {},
   "outputs": [
    {
     "data": {
      "text/plain": [
       "False"
      ]
     },
     "execution_count": 29,
     "metadata": {},
     "output_type": "execute_result"
    }
   ],
   "source": [
    "isinstance(result, DAG)"
   ]
  },
  {
   "cell_type": "code",
   "execution_count": 23,
   "metadata": {},
   "outputs": [],
   "source": [
    "nodes = list(example_func_nodes())\n",
    "names = [node.name for node in nodes]\n",
    "\n",
    "dummy_mapping = {name:value for name, value in zip(names, nodes)}"
   ]
  },
  {
   "cell_type": "code",
   "execution_count": 25,
   "metadata": {},
   "outputs": [
    {
     "data": {
      "text/plain": [
       "({'f_': FuncNode(a,b -> f_ -> f), 'g_': FuncNode(c,d -> g_ -> g)},\n",
       " {'f_': FuncNode(a,b -> f_ -> f), 'g_': FuncNode(c,d -> g_ -> g)})"
      ]
     },
     "execution_count": 25,
     "metadata": {},
     "output_type": "execute_result"
    }
   ],
   "source": [
    "dummy_mapping, dict(zip(names, nodes))"
   ]
  },
  {
   "cell_type": "code",
   "execution_count": 21,
   "metadata": {},
   "outputs": [
    {
     "data": {
      "text/plain": [
       "functools.partial(<function ch_funcs at 0x7f89b83c8e50>, func_nodes=[FuncNode(a,b -> f_ -> f), FuncNode(c,d -> g_ -> g)], mapping={'f_': FuncNode(a,b -> f_ -> f), 'g_': FuncNode(c,d -> g_ -> g)})"
      ]
     },
     "execution_count": 21,
     "metadata": {},
     "output_type": "execute_result"
    }
   ],
   "source": [
    "result"
   ]
  },
  {
   "cell_type": "code",
   "execution_count": 22,
   "metadata": {},
   "outputs": [
    {
     "data": {
      "text/plain": [
       "DAG(func_nodes=[FuncNode(a,b -> f_ -> f), FuncNode(c,d -> g_ -> g)], name=None)"
      ]
     },
     "execution_count": 22,
     "metadata": {},
     "output_type": "execute_result"
    }
   ],
   "source": [
    "d_dag =  DAG(list(example_func_nodes()))\n",
    "d_dag\n"
   ]
  },
  {
   "cell_type": "code",
   "execution_count": 16,
   "metadata": {},
   "outputs": [],
   "source": [
    "from i2 import Sig"
   ]
  },
  {
   "cell_type": "code",
   "execution_count": 25,
   "metadata": {},
   "outputs": [],
   "source": [
    "def foo(x:int, y:str)->str:\n",
    "    return x*y\n",
    "\n",
    "def goo(x:int, y:str)->str:\n",
    "    return x*y"
   ]
  },
  {
   "cell_type": "code",
   "execution_count": 26,
   "metadata": {},
   "outputs": [
    {
     "data": {
      "text/plain": [
       "True"
      ]
     },
     "execution_count": 26,
     "metadata": {},
     "output_type": "execute_result"
    }
   ],
   "source": [
    "Sig(foo)==Sig(goo)"
   ]
  },
  {
   "cell_type": "code",
   "execution_count": 34,
   "metadata": {},
   "outputs": [],
   "source": [
    "from typing import NamedTuple\n",
    "\n",
    "class FlagWithMessage(NamedTuple):\n",
    "    flag: bool\n",
    "    msg: str = \"\"\n",
    "\n",
    "def validate_func_mapping_on_signatures(func_mapping, func_nodes):\n",
    "    from meshed import DAG\n",
    "\n",
    "    #_validate_func_mapping(func_mapping, func_nodes)\n",
    "    d = dict()\n",
    "    dag = DAG(func_nodes)\n",
    "    for key, func in func_mapping.items():\n",
    "        if fnode := dag._func_node_for.get(key, None):\n",
    "            old_func = fnode.func\n",
    "            old_sig = Sig(old_func)\n",
    "            new_sig = Sig(func)\n",
    "            if old_sig == new_sig:\n",
    "                result = FlagWithMessage(flag=True)\n",
    "            else:\n",
    "                msg = f\"Signatures disagree for key={key}\"\n",
    "                result = FlagWithMessage(flag=False, msg=msg)\n",
    "\n",
    "        else:\n",
    "            msg = f\"No funcnode matching the key {key}\"\n",
    "            result = FlagWithMessage(flag=False, msg=msg)\n",
    "        d[key] = result\n",
    "    all_flags_true = all(item.flag for item in d.values())\n",
    "    return all_flags_true, d"
   ]
  },
  {
   "cell_type": "code",
   "execution_count": 35,
   "metadata": {},
   "outputs": [],
   "source": [
    "nodes = list(example_func_nodes())\n",
    "funcs =[f,g]\n",
    "func_mapping={'f_':f, 'g_':g}"
   ]
  },
  {
   "cell_type": "code",
   "execution_count": 36,
   "metadata": {},
   "outputs": [
    {
     "data": {
      "text/plain": [
       "(True,\n",
       " {'f_': FlagWithMessage(flag=True, msg=''),\n",
       "  'g_': FlagWithMessage(flag=True, msg='')})"
      ]
     },
     "execution_count": 36,
     "metadata": {},
     "output_type": "execute_result"
    }
   ],
   "source": [
    "validate_func_mapping_on_signatures(func_mapping, nodes)"
   ]
  },
  {
   "cell_type": "code",
   "execution_count": 37,
   "metadata": {},
   "outputs": [],
   "source": [
    "from meshed.dag import ch_funcs, _validate_func_mapping\n",
    "\n",
    "_validate_func_mapping(func_mapping, nodes)\n"
   ]
  },
  {
   "cell_type": "code",
   "execution_count": 38,
   "metadata": {},
   "outputs": [],
   "source": [
    "from meshed.base import ch_func_node_func, ch_func_node_attrs\n",
    "# def ch_func_node_func(\n",
    "#         fn: FuncNode,\n",
    "#         func: Callable,\n",
    "#         *,\n",
    "#         compare_func=compare_signatures,\n",
    "#         alternative=raise_error\n",
    "# ):\n",
    "#     if compare_func(fn.func, func):\n",
    "#         return ch_func_node_attrs(fn, func=func)\n",
    "#     else:\n",
    "#         return alternative(fn, func)"
   ]
  },
  {
   "cell_type": "code",
   "execution_count": 56,
   "metadata": {},
   "outputs": [],
   "source": [
    "def compare_by_kinds_compatibility(sig1, sig2):\n",
    "    k1 = sig1.names_of_kind\n",
    "    k2 = sig2.names_of_kind\n",
    "\n",
    "    return list(map(len, k1))==list(map(len,k2))\n",
    "\n",
    "\n"
   ]
  },
  {
   "cell_type": "code",
   "execution_count": 43,
   "metadata": {},
   "outputs": [
    {
     "data": {
      "text/plain": [
       "(<function __main__.foo(x: int, y: str) -> str>,\n",
       " <function __main__.zoo(x: int, msg: str) -> str>)"
      ]
     },
     "execution_count": 43,
     "metadata": {},
     "output_type": "execute_result"
    }
   ],
   "source": [
    "def zoo(x:int, msg:str)->str:\n",
    "    return '12'\n",
    "foo, zoo\n"
   ]
  },
  {
   "cell_type": "code",
   "execution_count": 57,
   "metadata": {},
   "outputs": [
    {
     "data": {
      "text/plain": [
       "True"
      ]
     },
     "execution_count": 57,
     "metadata": {},
     "output_type": "execute_result"
    }
   ],
   "source": [
    "compare_by_kinds_compatibility(Sig(foo), Sig(zoo))"
   ]
  },
  {
   "cell_type": "code",
   "execution_count": 52,
   "metadata": {},
   "outputs": [],
   "source": [
    "k1 = Sig(foo).names_of_kind\n",
    "k2 = Sig(zoo).names_of_kind\n",
    "\n"
   ]
  },
  {
   "cell_type": "code",
   "execution_count": 55,
   "metadata": {},
   "outputs": [
    {
     "data": {
      "text/plain": [
       "True"
      ]
     },
     "execution_count": 55,
     "metadata": {},
     "output_type": "execute_result"
    }
   ],
   "source": [
    "list(map(len, k1))==list(map(len,k2))"
   ]
  },
  {
   "cell_type": "markdown",
   "metadata": {},
   "source": [
    "# Parametrized dag"
   ]
  },
  {
   "cell_type": "code",
   "execution_count": 6,
   "metadata": {},
   "outputs": [],
   "source": [
    "from meshed import DAG\n",
    "from meshed.util import extract_dict\n",
    "\n",
    "from typing import Union, Iterable\n",
    "def parametrized_dag_factory(dag: DAG, param_var_nodes: Union[str, Iterable[str]]):\n",
    "    \"\"\"\n",
    "    Constructs a factory for sub-DAGs derived from the input DAG, with values of\n",
    "    specific 'parameter' variable nodes precomputed and fixed. These precomputed nodes,\n",
    "    and their ancestor nodes (unless required elsewhere), are omitted from the sub-DAG.\n",
    "\n",
    "    The factory function produced by this operation requires arguments corresponding to\n",
    "    the ancestor nodes of the parameter variable nodes. These arguments are used to\n",
    "    compute the values of the parameter nodes.\n",
    "\n",
    "    This function reflects the typical structure of a class in object-oriented\n",
    "    programming, where initialization arguments are used to set certain fixed values\n",
    "    (attributes), which are then leveraged in subsequent methods.\n",
    "\n",
    "    >>> import i2\n",
    "    >>> from meshed import code_to_dag\n",
    "    >>> @code_to_dag\n",
    "    ... def testdag():\n",
    "    ...     a = criss(aa, aaa)\n",
    "    ...     b = cross(aa, bb)\n",
    "    ...     c = apple(a, b)\n",
    "    ...     d = sauce(a, b)\n",
    "    ...     e = applesauce(c, d)\n",
    "    >>>\n",
    "    >>> dag_factory = parametrized_dag_factory(testdag, 'a')\n",
    "    >>> print(f\"{i2.Sig(dag_factory)}\")\n",
    "    (aa, aaa)\n",
    "    >>> d = dag_factory(aa=1, aaa=2)\n",
    "    >>> print(f\"{i2.Sig(d)}\")\n",
    "    (b)\n",
    "    >>> d(b='bananna')\n",
    "    'applesauce(c=apple(a=criss(aa=1, aaa=2), b=bananna), d=sauce(a=criss(aa=1, aaa=2), b=bananna))'\n",
    "\n",
    "    \"\"\"\n",
    "\n",
    "    if isinstance(param_var_nodes, str):\n",
    "        param_var_nodes = param_var_nodes.split()\n",
    "    # The dag is split into two parts:\n",
    "    #   Part whose role it is to compute the param_var_nodes from root nodes\n",
    "    param_dag = dag[:param_var_nodes]\n",
    "    #   Part that computes the rest based on these (and remaining root nodes)\n",
    "    computation_dag = dag[param_var_nodes:]\n",
    "    # Get the intersection of the two parts on the var nodes\n",
    "    common_var_nodes = set(param_dag.var_nodes) & set(computation_dag.var_nodes)\n",
    "    additional_var_nodes = set(computation_dag.var_nodes) - set(param_dag.var_nodes)\n",
    "    ancestor_dag = dag[:additional_var_nodes]\n",
    "    computation_dag = computation_dag + ancestor_dag\n",
    "\n",
    "    @Sig(param_dag)\n",
    "    def dag_factory(*parametrization_args, **parametrization_kwargs):\n",
    "        # use the param_dag to compute the values of the parameter var nodes\n",
    "        # (and what ever else happens to be in the leaves, but we'll remove that later)\n",
    "        _ = param_dag(*parametrization_args, **parametrization_kwargs)\n",
    "        # Get the values for all nodes that are common to param_dag and computation_dag\n",
    "        # (There may be more than just param_var_nodes!)\n",
    "        common_var_node_values = extract_dict(param_dag.last_scope, common_var_nodes)\n",
    "        # By fixing those values, you now have a the computation_dag you want\n",
    "        # Note: Also, remove the bound arguments\n",
    "        # (i.e. the arguments that were used to compute the values)\n",
    "        # so that the user doesn't change those and get inconsistencies!\n",
    "        d = computation_dag.partial(\n",
    "            **common_var_node_values, _remove_bound_arguments=True\n",
    "        )\n",
    "        # Remember the var nodes that parametrized the dag\n",
    "        # TODO: Is this a good idea? Meant for debugging really.\n",
    "        d._common_var_node_values = common_var_node_values\n",
    "        return d\n",
    "\n",
    "    return dag_factory"
   ]
  },
  {
   "cell_type": "code",
   "execution_count": 7,
   "metadata": {},
   "outputs": [
    {
     "name": "stdout",
     "output_type": "stream",
     "text": [
      "(aa, aaa)\n"
     ]
    }
   ],
   "source": [
    "import i2\n",
    "from i2 import Sig\n",
    "from meshed import code_to_dag\n",
    "@code_to_dag\n",
    "def testdag():\n",
    "    a = criss(aa, aaa)\n",
    "    b = cross(aa, bb)\n",
    "    c = apple(a, b)\n",
    "    d = sauce(a, b)\n",
    "    e = applesauce(c, d)\n",
    "dag_factory = parametrized_dag_factory(testdag, 'a')\n",
    "print(f\"{i2.Sig(dag_factory)}\")\n"
   ]
  },
  {
   "cell_type": "code",
   "execution_count": 9,
   "metadata": {},
   "outputs": [
    {
     "data": {
      "image/svg+xml": [
       "<?xml version=\"1.0\" encoding=\"UTF-8\" standalone=\"no\"?>\n",
       "<!DOCTYPE svg PUBLIC \"-//W3C//DTD SVG 1.1//EN\"\n",
       " \"http://www.w3.org/Graphics/SVG/1.1/DTD/svg11.dtd\">\n",
       "<!-- Generated by graphviz version 2.50.0 (0)\n",
       " -->\n",
       "<!-- Pages: 1 -->\n",
       "<svg width=\"206pt\" height=\"476pt\"\n",
       " viewBox=\"0.00 0.00 206.00 476.00\" xmlns=\"http://www.w3.org/2000/svg\" xmlns:xlink=\"http://www.w3.org/1999/xlink\">\n",
       "<g id=\"graph0\" class=\"graph\" transform=\"scale(1 1) rotate(0) translate(4 472)\">\n",
       "<polygon fill=\"white\" stroke=\"transparent\" points=\"-4,4 -4,-472 202,-472 202,4 -4,4\"/>\n",
       "<!-- a -->\n",
       "<g id=\"node1\" class=\"node\">\n",
       "<title>a</title>\n",
       "<text text-anchor=\"middle\" x=\"63\" y=\"-302.3\" font-family=\"Times,serif\" font-size=\"14.00\">a</text>\n",
       "</g>\n",
       "<!-- apple -->\n",
       "<g id=\"node9\" class=\"node\">\n",
       "<title>apple</title>\n",
       "<polygon fill=\"none\" stroke=\"black\" points=\"90,-252 36,-252 36,-216 90,-216 90,-252\"/>\n",
       "<text text-anchor=\"middle\" x=\"63\" y=\"-230.3\" font-family=\"Times,serif\" font-size=\"14.00\">apple</text>\n",
       "</g>\n",
       "<!-- a&#45;&gt;apple -->\n",
       "<g id=\"edge8\" class=\"edge\">\n",
       "<title>a&#45;&gt;apple</title>\n",
       "<path fill=\"none\" stroke=\"black\" d=\"M63,-287.7C63,-279.98 63,-270.71 63,-262.11\"/>\n",
       "<polygon fill=\"black\" stroke=\"black\" points=\"66.5,-262.1 63,-252.1 59.5,-262.1 66.5,-262.1\"/>\n",
       "</g>\n",
       "<!-- sauce -->\n",
       "<g id=\"node11\" class=\"node\">\n",
       "<title>sauce</title>\n",
       "<polygon fill=\"none\" stroke=\"black\" points=\"162,-252 108,-252 108,-216 162,-216 162,-252\"/>\n",
       "<text text-anchor=\"middle\" x=\"135\" y=\"-230.3\" font-family=\"Times,serif\" font-size=\"14.00\">sauce</text>\n",
       "</g>\n",
       "<!-- a&#45;&gt;sauce -->\n",
       "<g id=\"edge11\" class=\"edge\">\n",
       "<title>a&#45;&gt;sauce</title>\n",
       "<path fill=\"none\" stroke=\"black\" d=\"M80.8,-287.7C89.6,-279.14 100.38,-268.66 110,-259.3\"/>\n",
       "<polygon fill=\"black\" stroke=\"black\" points=\"112.68,-261.58 117.41,-252.1 107.8,-256.57 112.68,-261.58\"/>\n",
       "</g>\n",
       "<!-- aa -->\n",
       "<g id=\"node2\" class=\"node\">\n",
       "<title>aa</title>\n",
       "<text text-anchor=\"middle\" x=\"99\" y=\"-446.3\" font-family=\"Times,serif\" font-size=\"14.00\">aa</text>\n",
       "</g>\n",
       "<!-- criss -->\n",
       "<g id=\"node4\" class=\"node\">\n",
       "<title>criss</title>\n",
       "<polygon fill=\"none\" stroke=\"black\" points=\"90,-396 36,-396 36,-360 90,-360 90,-396\"/>\n",
       "<text text-anchor=\"middle\" x=\"63\" y=\"-374.3\" font-family=\"Times,serif\" font-size=\"14.00\">criss</text>\n",
       "</g>\n",
       "<!-- aa&#45;&gt;criss -->\n",
       "<g id=\"edge2\" class=\"edge\">\n",
       "<title>aa&#45;&gt;criss</title>\n",
       "<path fill=\"none\" stroke=\"black\" d=\"M90.1,-431.7C86,-423.73 81.05,-414.1 76.51,-405.26\"/>\n",
       "<polygon fill=\"black\" stroke=\"black\" points=\"79.48,-403.4 71.8,-396.1 73.26,-406.6 79.48,-403.4\"/>\n",
       "</g>\n",
       "<!-- cross -->\n",
       "<g id=\"node7\" class=\"node\">\n",
       "<title>cross</title>\n",
       "<polygon fill=\"none\" stroke=\"black\" points=\"162,-396 108,-396 108,-360 162,-360 162,-396\"/>\n",
       "<text text-anchor=\"middle\" x=\"135\" y=\"-374.3\" font-family=\"Times,serif\" font-size=\"14.00\">cross</text>\n",
       "</g>\n",
       "<!-- aa&#45;&gt;cross -->\n",
       "<g id=\"edge5\" class=\"edge\">\n",
       "<title>aa&#45;&gt;cross</title>\n",
       "<path fill=\"none\" stroke=\"black\" d=\"M107.9,-431.7C112,-423.73 116.95,-414.1 121.49,-405.26\"/>\n",
       "<polygon fill=\"black\" stroke=\"black\" points=\"124.74,-406.6 126.2,-396.1 118.52,-403.4 124.74,-406.6\"/>\n",
       "</g>\n",
       "<!-- aaa -->\n",
       "<g id=\"node3\" class=\"node\">\n",
       "<title>aaa</title>\n",
       "<text text-anchor=\"middle\" x=\"27\" y=\"-446.3\" font-family=\"Times,serif\" font-size=\"14.00\">aaa</text>\n",
       "</g>\n",
       "<!-- aaa&#45;&gt;criss -->\n",
       "<g id=\"edge3\" class=\"edge\">\n",
       "<title>aaa&#45;&gt;criss</title>\n",
       "<path fill=\"none\" stroke=\"black\" d=\"M35.9,-431.7C40,-423.73 44.95,-414.1 49.49,-405.26\"/>\n",
       "<polygon fill=\"black\" stroke=\"black\" points=\"52.74,-406.6 54.2,-396.1 46.52,-403.4 52.74,-406.6\"/>\n",
       "</g>\n",
       "<!-- criss&#45;&gt;a -->\n",
       "<g id=\"edge1\" class=\"edge\">\n",
       "<title>criss&#45;&gt;a</title>\n",
       "<path fill=\"none\" stroke=\"black\" d=\"M63,-359.7C63,-351.98 63,-342.71 63,-334.11\"/>\n",
       "<polygon fill=\"black\" stroke=\"black\" points=\"66.5,-334.1 63,-324.1 59.5,-334.1 66.5,-334.1\"/>\n",
       "</g>\n",
       "<!-- b -->\n",
       "<g id=\"node5\" class=\"node\">\n",
       "<title>b</title>\n",
       "<text text-anchor=\"middle\" x=\"135\" y=\"-302.3\" font-family=\"Times,serif\" font-size=\"14.00\">b</text>\n",
       "</g>\n",
       "<!-- b&#45;&gt;apple -->\n",
       "<g id=\"edge9\" class=\"edge\">\n",
       "<title>b&#45;&gt;apple</title>\n",
       "<path fill=\"none\" stroke=\"black\" d=\"M117.2,-287.7C108.4,-279.14 97.62,-268.66 88,-259.3\"/>\n",
       "<polygon fill=\"black\" stroke=\"black\" points=\"90.2,-256.57 80.59,-252.1 85.32,-261.58 90.2,-256.57\"/>\n",
       "</g>\n",
       "<!-- b&#45;&gt;sauce -->\n",
       "<g id=\"edge12\" class=\"edge\">\n",
       "<title>b&#45;&gt;sauce</title>\n",
       "<path fill=\"none\" stroke=\"black\" d=\"M135,-287.7C135,-279.98 135,-270.71 135,-262.11\"/>\n",
       "<polygon fill=\"black\" stroke=\"black\" points=\"138.5,-262.1 135,-252.1 131.5,-262.1 138.5,-262.1\"/>\n",
       "</g>\n",
       "<!-- bb -->\n",
       "<g id=\"node6\" class=\"node\">\n",
       "<title>bb</title>\n",
       "<text text-anchor=\"middle\" x=\"171\" y=\"-446.3\" font-family=\"Times,serif\" font-size=\"14.00\">bb</text>\n",
       "</g>\n",
       "<!-- bb&#45;&gt;cross -->\n",
       "<g id=\"edge6\" class=\"edge\">\n",
       "<title>bb&#45;&gt;cross</title>\n",
       "<path fill=\"none\" stroke=\"black\" d=\"M162.1,-431.7C158,-423.73 153.05,-414.1 148.51,-405.26\"/>\n",
       "<polygon fill=\"black\" stroke=\"black\" points=\"151.48,-403.4 143.8,-396.1 145.26,-406.6 151.48,-403.4\"/>\n",
       "</g>\n",
       "<!-- cross&#45;&gt;b -->\n",
       "<g id=\"edge4\" class=\"edge\">\n",
       "<title>cross&#45;&gt;b</title>\n",
       "<path fill=\"none\" stroke=\"black\" d=\"M135,-359.7C135,-351.98 135,-342.71 135,-334.11\"/>\n",
       "<polygon fill=\"black\" stroke=\"black\" points=\"138.5,-334.1 135,-324.1 131.5,-334.1 138.5,-334.1\"/>\n",
       "</g>\n",
       "<!-- c -->\n",
       "<g id=\"node8\" class=\"node\">\n",
       "<title>c</title>\n",
       "<text text-anchor=\"middle\" x=\"63\" y=\"-158.3\" font-family=\"Times,serif\" font-size=\"14.00\">c</text>\n",
       "</g>\n",
       "<!-- applesauce -->\n",
       "<g id=\"node13\" class=\"node\">\n",
       "<title>applesauce</title>\n",
       "<polygon fill=\"none\" stroke=\"black\" points=\"137,-108 61,-108 61,-72 137,-72 137,-108\"/>\n",
       "<text text-anchor=\"middle\" x=\"99\" y=\"-86.3\" font-family=\"Times,serif\" font-size=\"14.00\">applesauce</text>\n",
       "</g>\n",
       "<!-- c&#45;&gt;applesauce -->\n",
       "<g id=\"edge14\" class=\"edge\">\n",
       "<title>c&#45;&gt;applesauce</title>\n",
       "<path fill=\"none\" stroke=\"black\" d=\"M71.9,-143.7C76,-135.73 80.95,-126.1 85.49,-117.26\"/>\n",
       "<polygon fill=\"black\" stroke=\"black\" points=\"88.74,-118.6 90.2,-108.1 82.52,-115.4 88.74,-118.6\"/>\n",
       "</g>\n",
       "<!-- apple&#45;&gt;c -->\n",
       "<g id=\"edge7\" class=\"edge\">\n",
       "<title>apple&#45;&gt;c</title>\n",
       "<path fill=\"none\" stroke=\"black\" d=\"M63,-215.7C63,-207.98 63,-198.71 63,-190.11\"/>\n",
       "<polygon fill=\"black\" stroke=\"black\" points=\"66.5,-190.1 63,-180.1 59.5,-190.1 66.5,-190.1\"/>\n",
       "</g>\n",
       "<!-- d -->\n",
       "<g id=\"node10\" class=\"node\">\n",
       "<title>d</title>\n",
       "<text text-anchor=\"middle\" x=\"135\" y=\"-158.3\" font-family=\"Times,serif\" font-size=\"14.00\">d</text>\n",
       "</g>\n",
       "<!-- d&#45;&gt;applesauce -->\n",
       "<g id=\"edge15\" class=\"edge\">\n",
       "<title>d&#45;&gt;applesauce</title>\n",
       "<path fill=\"none\" stroke=\"black\" d=\"M126.1,-143.7C122,-135.73 117.05,-126.1 112.51,-117.26\"/>\n",
       "<polygon fill=\"black\" stroke=\"black\" points=\"115.48,-115.4 107.8,-108.1 109.26,-118.6 115.48,-115.4\"/>\n",
       "</g>\n",
       "<!-- sauce&#45;&gt;d -->\n",
       "<g id=\"edge10\" class=\"edge\">\n",
       "<title>sauce&#45;&gt;d</title>\n",
       "<path fill=\"none\" stroke=\"black\" d=\"M135,-215.7C135,-207.98 135,-198.71 135,-190.11\"/>\n",
       "<polygon fill=\"black\" stroke=\"black\" points=\"138.5,-190.1 135,-180.1 131.5,-190.1 138.5,-190.1\"/>\n",
       "</g>\n",
       "<!-- e -->\n",
       "<g id=\"node12\" class=\"node\">\n",
       "<title>e</title>\n",
       "<text text-anchor=\"middle\" x=\"99\" y=\"-14.3\" font-family=\"Times,serif\" font-size=\"14.00\">e</text>\n",
       "</g>\n",
       "<!-- applesauce&#45;&gt;e -->\n",
       "<g id=\"edge13\" class=\"edge\">\n",
       "<title>applesauce&#45;&gt;e</title>\n",
       "<path fill=\"none\" stroke=\"black\" d=\"M99,-71.7C99,-63.98 99,-54.71 99,-46.11\"/>\n",
       "<polygon fill=\"black\" stroke=\"black\" points=\"102.5,-46.1 99,-36.1 95.5,-46.1 102.5,-46.1\"/>\n",
       "</g>\n",
       "</g>\n",
       "</svg>\n"
      ],
      "text/plain": [
       "<graphviz.graphs.Digraph at 0x7fcfa9d0b190>"
      ]
     },
     "execution_count": 9,
     "metadata": {},
     "output_type": "execute_result"
    }
   ],
   "source": [
    "testdag.dot_digraph()"
   ]
  },
  {
   "cell_type": "code",
   "execution_count": 11,
   "metadata": {},
   "outputs": [
    {
     "ename": "TypeError",
     "evalue": "unsupported operand type(s) for -: 'DAG' and 'DAG'",
     "output_type": "error",
     "traceback": [
      "\u001b[0;31m---------------------------------------------------------------------------\u001b[0m",
      "\u001b[0;31mTypeError\u001b[0m                                 Traceback (most recent call last)",
      "Cell \u001b[0;32mIn[11], line 3\u001b[0m\n\u001b[1;32m      1\u001b[0m d1 \u001b[39m=\u001b[39m testdag[:\u001b[39m'\u001b[39m\u001b[39md\u001b[39m\u001b[39m'\u001b[39m]\n\u001b[1;32m      2\u001b[0m c1 \u001b[39m=\u001b[39m testdag[:\u001b[39m'\u001b[39m\u001b[39mc\u001b[39m\u001b[39m'\u001b[39m]\n\u001b[0;32m----> 3\u001b[0m d1\u001b[39m-\u001b[39;49mc1\n",
      "\u001b[0;31mTypeError\u001b[0m: unsupported operand type(s) for -: 'DAG' and 'DAG'"
     ]
    }
   ],
   "source": [
    "d1 = testdag[:'d']\n",
    "c1 = testdag[:'c']\n",
    "d1-c1"
   ]
  },
  {
   "cell_type": "code",
   "execution_count": 12,
   "metadata": {},
   "outputs": [],
   "source": [
    "@code_to_dag\n",
    "def testdag2():\n",
    "    \n",
    "    c = apple(a, b)\n",
    "    d = sauce(a, b)\n",
    "    e = applesauce(c, d)"
   ]
  },
  {
   "cell_type": "code",
   "execution_count": 13,
   "metadata": {},
   "outputs": [
    {
     "data": {
      "image/svg+xml": [
       "<?xml version=\"1.0\" encoding=\"UTF-8\" standalone=\"no\"?>\n",
       "<!DOCTYPE svg PUBLIC \"-//W3C//DTD SVG 1.1//EN\"\n",
       " \"http://www.w3.org/Graphics/SVG/1.1/DTD/svg11.dtd\">\n",
       "<!-- Generated by graphviz version 2.50.0 (0)\n",
       " -->\n",
       "<!-- Pages: 1 -->\n",
       "<svg width=\"134pt\" height=\"332pt\"\n",
       " viewBox=\"0.00 0.00 134.00 332.00\" xmlns=\"http://www.w3.org/2000/svg\" xmlns:xlink=\"http://www.w3.org/1999/xlink\">\n",
       "<g id=\"graph0\" class=\"graph\" transform=\"scale(1 1) rotate(0) translate(4 328)\">\n",
       "<polygon fill=\"white\" stroke=\"transparent\" points=\"-4,4 -4,-328 130,-328 130,4 -4,4\"/>\n",
       "<!-- c -->\n",
       "<g id=\"node1\" class=\"node\">\n",
       "<title>c</title>\n",
       "<text text-anchor=\"middle\" x=\"27\" y=\"-158.3\" font-family=\"Times,serif\" font-size=\"14.00\">c</text>\n",
       "</g>\n",
       "<!-- applesauce -->\n",
       "<g id=\"node8\" class=\"node\">\n",
       "<title>applesauce</title>\n",
       "<polygon fill=\"none\" stroke=\"black\" points=\"101,-108 25,-108 25,-72 101,-72 101,-108\"/>\n",
       "<text text-anchor=\"middle\" x=\"63\" y=\"-86.3\" font-family=\"Times,serif\" font-size=\"14.00\">applesauce</text>\n",
       "</g>\n",
       "<!-- c&#45;&gt;applesauce -->\n",
       "<g id=\"edge8\" class=\"edge\">\n",
       "<title>c&#45;&gt;applesauce</title>\n",
       "<path fill=\"none\" stroke=\"black\" d=\"M35.9,-143.7C40,-135.73 44.95,-126.1 49.49,-117.26\"/>\n",
       "<polygon fill=\"black\" stroke=\"black\" points=\"52.74,-118.6 54.2,-108.1 46.52,-115.4 52.74,-118.6\"/>\n",
       "</g>\n",
       "<!-- a -->\n",
       "<g id=\"node2\" class=\"node\">\n",
       "<title>a</title>\n",
       "<text text-anchor=\"middle\" x=\"27\" y=\"-302.3\" font-family=\"Times,serif\" font-size=\"14.00\">a</text>\n",
       "</g>\n",
       "<!-- apple -->\n",
       "<g id=\"node4\" class=\"node\">\n",
       "<title>apple</title>\n",
       "<polygon fill=\"none\" stroke=\"black\" points=\"54,-252 0,-252 0,-216 54,-216 54,-252\"/>\n",
       "<text text-anchor=\"middle\" x=\"27\" y=\"-230.3\" font-family=\"Times,serif\" font-size=\"14.00\">apple</text>\n",
       "</g>\n",
       "<!-- a&#45;&gt;apple -->\n",
       "<g id=\"edge2\" class=\"edge\">\n",
       "<title>a&#45;&gt;apple</title>\n",
       "<path fill=\"none\" stroke=\"black\" d=\"M27,-287.7C27,-279.98 27,-270.71 27,-262.11\"/>\n",
       "<polygon fill=\"black\" stroke=\"black\" points=\"30.5,-262.1 27,-252.1 23.5,-262.1 30.5,-262.1\"/>\n",
       "</g>\n",
       "<!-- sauce -->\n",
       "<g id=\"node6\" class=\"node\">\n",
       "<title>sauce</title>\n",
       "<polygon fill=\"none\" stroke=\"black\" points=\"126,-252 72,-252 72,-216 126,-216 126,-252\"/>\n",
       "<text text-anchor=\"middle\" x=\"99\" y=\"-230.3\" font-family=\"Times,serif\" font-size=\"14.00\">sauce</text>\n",
       "</g>\n",
       "<!-- a&#45;&gt;sauce -->\n",
       "<g id=\"edge5\" class=\"edge\">\n",
       "<title>a&#45;&gt;sauce</title>\n",
       "<path fill=\"none\" stroke=\"black\" d=\"M44.8,-287.7C53.6,-279.14 64.38,-268.66 74,-259.3\"/>\n",
       "<polygon fill=\"black\" stroke=\"black\" points=\"76.68,-261.58 81.41,-252.1 71.8,-256.57 76.68,-261.58\"/>\n",
       "</g>\n",
       "<!-- b -->\n",
       "<g id=\"node3\" class=\"node\">\n",
       "<title>b</title>\n",
       "<text text-anchor=\"middle\" x=\"99\" y=\"-302.3\" font-family=\"Times,serif\" font-size=\"14.00\">b</text>\n",
       "</g>\n",
       "<!-- b&#45;&gt;apple -->\n",
       "<g id=\"edge3\" class=\"edge\">\n",
       "<title>b&#45;&gt;apple</title>\n",
       "<path fill=\"none\" stroke=\"black\" d=\"M81.2,-287.7C72.4,-279.14 61.62,-268.66 52,-259.3\"/>\n",
       "<polygon fill=\"black\" stroke=\"black\" points=\"54.2,-256.57 44.59,-252.1 49.32,-261.58 54.2,-256.57\"/>\n",
       "</g>\n",
       "<!-- b&#45;&gt;sauce -->\n",
       "<g id=\"edge6\" class=\"edge\">\n",
       "<title>b&#45;&gt;sauce</title>\n",
       "<path fill=\"none\" stroke=\"black\" d=\"M99,-287.7C99,-279.98 99,-270.71 99,-262.11\"/>\n",
       "<polygon fill=\"black\" stroke=\"black\" points=\"102.5,-262.1 99,-252.1 95.5,-262.1 102.5,-262.1\"/>\n",
       "</g>\n",
       "<!-- apple&#45;&gt;c -->\n",
       "<g id=\"edge1\" class=\"edge\">\n",
       "<title>apple&#45;&gt;c</title>\n",
       "<path fill=\"none\" stroke=\"black\" d=\"M27,-215.7C27,-207.98 27,-198.71 27,-190.11\"/>\n",
       "<polygon fill=\"black\" stroke=\"black\" points=\"30.5,-190.1 27,-180.1 23.5,-190.1 30.5,-190.1\"/>\n",
       "</g>\n",
       "<!-- d -->\n",
       "<g id=\"node5\" class=\"node\">\n",
       "<title>d</title>\n",
       "<text text-anchor=\"middle\" x=\"99\" y=\"-158.3\" font-family=\"Times,serif\" font-size=\"14.00\">d</text>\n",
       "</g>\n",
       "<!-- d&#45;&gt;applesauce -->\n",
       "<g id=\"edge9\" class=\"edge\">\n",
       "<title>d&#45;&gt;applesauce</title>\n",
       "<path fill=\"none\" stroke=\"black\" d=\"M90.1,-143.7C86,-135.73 81.05,-126.1 76.51,-117.26\"/>\n",
       "<polygon fill=\"black\" stroke=\"black\" points=\"79.48,-115.4 71.8,-108.1 73.26,-118.6 79.48,-115.4\"/>\n",
       "</g>\n",
       "<!-- sauce&#45;&gt;d -->\n",
       "<g id=\"edge4\" class=\"edge\">\n",
       "<title>sauce&#45;&gt;d</title>\n",
       "<path fill=\"none\" stroke=\"black\" d=\"M99,-215.7C99,-207.98 99,-198.71 99,-190.11\"/>\n",
       "<polygon fill=\"black\" stroke=\"black\" points=\"102.5,-190.1 99,-180.1 95.5,-190.1 102.5,-190.1\"/>\n",
       "</g>\n",
       "<!-- e -->\n",
       "<g id=\"node7\" class=\"node\">\n",
       "<title>e</title>\n",
       "<text text-anchor=\"middle\" x=\"63\" y=\"-14.3\" font-family=\"Times,serif\" font-size=\"14.00\">e</text>\n",
       "</g>\n",
       "<!-- applesauce&#45;&gt;e -->\n",
       "<g id=\"edge7\" class=\"edge\">\n",
       "<title>applesauce&#45;&gt;e</title>\n",
       "<path fill=\"none\" stroke=\"black\" d=\"M63,-71.7C63,-63.98 63,-54.71 63,-46.11\"/>\n",
       "<polygon fill=\"black\" stroke=\"black\" points=\"66.5,-46.1 63,-36.1 59.5,-46.1 66.5,-46.1\"/>\n",
       "</g>\n",
       "</g>\n",
       "</svg>\n"
      ],
      "text/plain": [
       "<graphviz.graphs.Digraph at 0x7fcfaa429ff0>"
      ]
     },
     "execution_count": 13,
     "metadata": {},
     "output_type": "execute_result"
    }
   ],
   "source": [
    "testdag2.dot_digraph()"
   ]
  },
  {
   "cell_type": "code",
   "execution_count": 8,
   "metadata": {},
   "outputs": [
    {
     "ename": "TypeError",
     "evalue": "Got unexpected keyword arguments: a",
     "output_type": "error",
     "traceback": [
      "\u001b[0;31m---------------------------------------------------------------------------\u001b[0m",
      "\u001b[0;31mTypeError\u001b[0m                                 Traceback (most recent call last)",
      "Cell \u001b[0;32mIn[8], line 2\u001b[0m\n\u001b[1;32m      1\u001b[0m \u001b[39m#(aa, aaa)\u001b[39;00m\n\u001b[0;32m----> 2\u001b[0m d \u001b[39m=\u001b[39m dag_factory(aa\u001b[39m=\u001b[39;49m\u001b[39m1\u001b[39;49m, aaa\u001b[39m=\u001b[39;49m\u001b[39m2\u001b[39;49m)\n\u001b[1;32m      3\u001b[0m \u001b[39mprint\u001b[39m(\u001b[39mf\u001b[39m\u001b[39m\"\u001b[39m\u001b[39m{\u001b[39;00mi2\u001b[39m.\u001b[39mSig(d)\u001b[39m}\u001b[39;00m\u001b[39m\"\u001b[39m)\n",
      "Cell \u001b[0;32mIn[6], line 65\u001b[0m, in \u001b[0;36mparametrized_dag_factory.<locals>.dag_factory\u001b[0;34m(*parametrization_args, **parametrization_kwargs)\u001b[0m\n\u001b[1;32m     60\u001b[0m common_var_node_values \u001b[39m=\u001b[39m extract_dict(param_dag\u001b[39m.\u001b[39mlast_scope, common_var_nodes)\n\u001b[1;32m     61\u001b[0m \u001b[39m# By fixing those values, you now have a the computation_dag you want\u001b[39;00m\n\u001b[1;32m     62\u001b[0m \u001b[39m# Note: Also, remove the bound arguments\u001b[39;00m\n\u001b[1;32m     63\u001b[0m \u001b[39m# (i.e. the arguments that were used to compute the values)\u001b[39;00m\n\u001b[1;32m     64\u001b[0m \u001b[39m# so that the user doesn't change those and get inconsistencies!\u001b[39;00m\n\u001b[0;32m---> 65\u001b[0m d \u001b[39m=\u001b[39m computation_dag\u001b[39m.\u001b[39;49mpartial(\n\u001b[1;32m     66\u001b[0m     \u001b[39m*\u001b[39;49m\u001b[39m*\u001b[39;49mcommon_var_node_values, _remove_bound_arguments\u001b[39m=\u001b[39;49m\u001b[39mTrue\u001b[39;49;00m\n\u001b[1;32m     67\u001b[0m )\n\u001b[1;32m     68\u001b[0m \u001b[39m# Remember the var nodes that parametrized the dag\u001b[39;00m\n\u001b[1;32m     69\u001b[0m \u001b[39m# TODO: Is this a good idea? Meant for debugging really.\u001b[39;00m\n\u001b[1;32m     70\u001b[0m d\u001b[39m.\u001b[39m_common_var_node_values \u001b[39m=\u001b[39m common_var_node_values\n",
      "File \u001b[0;32m~/Desktop/dev/otosense/meshed/meshed/dag.py:842\u001b[0m, in \u001b[0;36mDAG.partial\u001b[0;34m(self, _remove_bound_arguments, _consider_defaulted_arguments_as_bound, *positional_dflts, **keyword_dflts)\u001b[0m\n\u001b[1;32m    797\u001b[0m \u001b[39mdef\u001b[39;00m \u001b[39mpartial\u001b[39m(\n\u001b[1;32m    798\u001b[0m     \u001b[39mself\u001b[39m,\n\u001b[1;32m    799\u001b[0m     \u001b[39m*\u001b[39mpositional_dflts,\n\u001b[0;32m   (...)\u001b[0m\n\u001b[1;32m    802\u001b[0m     \u001b[39m*\u001b[39m\u001b[39m*\u001b[39mkeyword_dflts,\n\u001b[1;32m    803\u001b[0m ):\n\u001b[1;32m    804\u001b[0m \u001b[39m    \u001b[39m\u001b[39m\"\"\"Get a curried version of the DAG.\u001b[39;00m\n\u001b[1;32m    805\u001b[0m \n\u001b[1;32m    806\u001b[0m \u001b[39m    Like ``functools.partial``, but returns a DAG (not just a callable) and allows\u001b[39;00m\n\u001b[0;32m   (...)\u001b[0m\n\u001b[1;32m    839\u001b[0m \u001b[39m    9\u001b[39;00m\n\u001b[1;32m    840\u001b[0m \u001b[39m    \"\"\"\u001b[39;00m\n\u001b[0;32m--> 842\u001b[0m     keyword_dflts \u001b[39m=\u001b[39m \u001b[39mself\u001b[39;49m\u001b[39m.\u001b[39;49m__signature__\u001b[39m.\u001b[39;49mkwargs_from_args_and_kwargs(\n\u001b[1;32m    843\u001b[0m         args\u001b[39m=\u001b[39;49mpositional_dflts,\n\u001b[1;32m    844\u001b[0m         kwargs\u001b[39m=\u001b[39;49mkeyword_dflts,\n\u001b[1;32m    845\u001b[0m         apply_defaults\u001b[39m=\u001b[39;49m_consider_defaulted_arguments_as_bound,\n\u001b[1;32m    846\u001b[0m         \u001b[39m# positional_dflts and keyword_dflts usually don't cover all arguments, so:\u001b[39;49;00m\n\u001b[1;32m    847\u001b[0m         allow_partial\u001b[39m=\u001b[39;49m\u001b[39mTrue\u001b[39;49;00m,\n\u001b[1;32m    848\u001b[0m         \u001b[39m# we prefer to let the user know if they're trying to bind arguments\u001b[39;49;00m\n\u001b[1;32m    849\u001b[0m         \u001b[39m# that don't exist, so:\u001b[39;49;00m\n\u001b[1;32m    850\u001b[0m         allow_excess\u001b[39m=\u001b[39;49m\u001b[39mFalse\u001b[39;49;00m,\n\u001b[1;32m    851\u001b[0m         \u001b[39m# we don't really care about kind, so:\u001b[39;49;00m\n\u001b[1;32m    852\u001b[0m         ignore_kind\u001b[39m=\u001b[39;49m\u001b[39mTrue\u001b[39;49;00m,\n\u001b[1;32m    853\u001b[0m     )\n\u001b[1;32m    854\u001b[0m     \u001b[39m# TODO: mk_instance: What about other init args (cache_last_scope, ...)?\u001b[39;00m\n\u001b[1;32m    855\u001b[0m     mk_instance \u001b[39m=\u001b[39m \u001b[39mtype\u001b[39m(\u001b[39mself\u001b[39m)\n",
      "File \u001b[0;32m~/Desktop/dev/otosense/i2/i2/signatures.py:2360\u001b[0m, in \u001b[0;36mSig.kwargs_from_args_and_kwargs\u001b[0;34m(self, args, kwargs, apply_defaults, allow_partial, allow_excess, ignore_kind, debug)\u001b[0m\n\u001b[1;32m   2358\u001b[0m     \u001b[39mif\u001b[39;00m excess:\n\u001b[1;32m   2359\u001b[0m         excess_str \u001b[39m=\u001b[39m \u001b[39m'\u001b[39m\u001b[39m, \u001b[39m\u001b[39m'\u001b[39m\u001b[39m.\u001b[39mjoin(excess)\n\u001b[0;32m-> 2360\u001b[0m         \u001b[39mraise\u001b[39;00m \u001b[39mTypeError\u001b[39;00m(\u001b[39mf\u001b[39m\u001b[39m'\u001b[39m\u001b[39mGot unexpected keyword arguments: \u001b[39m\u001b[39m{\u001b[39;00mexcess_str\u001b[39m}\u001b[39;00m\u001b[39m'\u001b[39m)\n\u001b[1;32m   2362\u001b[0m var_kw_name \u001b[39m=\u001b[39m name_of_var_kw_argument(\u001b[39mself\u001b[39m)\n\u001b[1;32m   2364\u001b[0m flattened_kvs \u001b[39m=\u001b[39m expand_nested_key(b\u001b[39m.\u001b[39marguments, var_kw_name)\n",
      "\u001b[0;31mTypeError\u001b[0m: Got unexpected keyword arguments: a"
     ]
    }
   ],
   "source": [
    "#(aa, aaa)\n",
    "d = dag_factory(aa=1, aaa=2)\n",
    "print(f\"{i2.Sig(d)}\")\n",
    "#(b)\n",
    "#d(b='bananna')"
   ]
  },
  {
   "cell_type": "code",
   "execution_count": 14,
   "metadata": {},
   "outputs": [
    {
     "data": {
      "text/plain": [
       "{'func_nodes': [FuncNode(a,b -> apple -> c),\n",
       "  FuncNode(a,b -> sauce -> d),\n",
       "  FuncNode(c,d -> applesauce -> e)],\n",
       " 'cache_last_scope': True,\n",
       " 'parameter_merge': functools.partial(<function parameter_merger at 0x7fcfa9365990>, same_kind=True, same_default=True, same_annotation=True),\n",
       " 'new_scope': dict,\n",
       " 'name': 'testdag2',\n",
       " 'extract_output_from_scope': <function meshed.util.extract_values(d: dict, keys: Iterable)>,\n",
       " 'graph': {'a': [FuncNode(a,b -> apple -> c), FuncNode(a,b -> sauce -> d)],\n",
       "  'b': [FuncNode(a,b -> apple -> c), FuncNode(a,b -> sauce -> d)],\n",
       "  FuncNode(a,b -> apple -> c): ['c'],\n",
       "  FuncNode(a,b -> sauce -> d): ['d'],\n",
       "  'c': [FuncNode(c,d -> applesauce -> e)],\n",
       "  'd': [FuncNode(c,d -> applesauce -> e)],\n",
       "  FuncNode(c,d -> applesauce -> e): ['e']},\n",
       " 'nodes': ['a',\n",
       "  'b',\n",
       "  FuncNode(a,b -> apple -> c),\n",
       "  FuncNode(a,b -> sauce -> d),\n",
       "  'c',\n",
       "  'd',\n",
       "  FuncNode(c,d -> applesauce -> e),\n",
       "  'e'],\n",
       " 'var_nodes': ['a', 'b', 'c', 'd', 'e'],\n",
       " '__signature__': <Sig (a, b)>,\n",
       " 'roots': ('a', 'b'),\n",
       " 'leafs': ('e',),\n",
       " 'last_scope': None,\n",
       " '__name__': 'testdag2'}"
      ]
     },
     "execution_count": 14,
     "metadata": {},
     "output_type": "execute_result"
    }
   ],
   "source": [
    "vars(testdag2)"
   ]
  },
  {
   "cell_type": "code",
   "execution_count": 18,
   "metadata": {},
   "outputs": [
    {
     "data": {
      "image/svg+xml": [
       "<?xml version=\"1.0\" encoding=\"UTF-8\" standalone=\"no\"?>\n",
       "<!DOCTYPE svg PUBLIC \"-//W3C//DTD SVG 1.1//EN\"\n",
       " \"http://www.w3.org/Graphics/SVG/1.1/DTD/svg11.dtd\">\n",
       "<!-- Generated by graphviz version 2.50.0 (0)\n",
       " -->\n",
       "<!-- Pages: 1 -->\n",
       "<svg width=\"134pt\" height=\"332pt\"\n",
       " viewBox=\"0.00 0.00 134.00 332.00\" xmlns=\"http://www.w3.org/2000/svg\" xmlns:xlink=\"http://www.w3.org/1999/xlink\">\n",
       "<g id=\"graph0\" class=\"graph\" transform=\"scale(1 1) rotate(0) translate(4 328)\">\n",
       "<polygon fill=\"white\" stroke=\"transparent\" points=\"-4,4 -4,-328 130,-328 130,4 -4,4\"/>\n",
       "<!-- c -->\n",
       "<g id=\"node1\" class=\"node\">\n",
       "<title>c</title>\n",
       "<text text-anchor=\"middle\" x=\"27\" y=\"-158.3\" font-family=\"Times,serif\" font-size=\"14.00\">c</text>\n",
       "</g>\n",
       "<!-- applesauce -->\n",
       "<g id=\"node8\" class=\"node\">\n",
       "<title>applesauce</title>\n",
       "<polygon fill=\"none\" stroke=\"black\" points=\"101,-108 25,-108 25,-72 101,-72 101,-108\"/>\n",
       "<text text-anchor=\"middle\" x=\"63\" y=\"-86.3\" font-family=\"Times,serif\" font-size=\"14.00\">applesauce</text>\n",
       "</g>\n",
       "<!-- c&#45;&gt;applesauce -->\n",
       "<g id=\"edge8\" class=\"edge\">\n",
       "<title>c&#45;&gt;applesauce</title>\n",
       "<path fill=\"none\" stroke=\"black\" d=\"M35.9,-143.7C40,-135.73 44.95,-126.1 49.49,-117.26\"/>\n",
       "<polygon fill=\"black\" stroke=\"black\" points=\"52.74,-118.6 54.2,-108.1 46.52,-115.4 52.74,-118.6\"/>\n",
       "</g>\n",
       "<!-- a -->\n",
       "<g id=\"node2\" class=\"node\">\n",
       "<title>a</title>\n",
       "<text text-anchor=\"middle\" x=\"27\" y=\"-302.3\" font-family=\"Times,serif\" font-size=\"14.00\">a</text>\n",
       "</g>\n",
       "<!-- apple -->\n",
       "<g id=\"node4\" class=\"node\">\n",
       "<title>apple</title>\n",
       "<polygon fill=\"none\" stroke=\"black\" points=\"54,-252 0,-252 0,-216 54,-216 54,-252\"/>\n",
       "<text text-anchor=\"middle\" x=\"27\" y=\"-230.3\" font-family=\"Times,serif\" font-size=\"14.00\">apple</text>\n",
       "</g>\n",
       "<!-- a&#45;&gt;apple -->\n",
       "<g id=\"edge2\" class=\"edge\">\n",
       "<title>a&#45;&gt;apple</title>\n",
       "<path fill=\"none\" stroke=\"black\" d=\"M27,-287.7C27,-279.98 27,-270.71 27,-262.11\"/>\n",
       "<polygon fill=\"black\" stroke=\"black\" points=\"30.5,-262.1 27,-252.1 23.5,-262.1 30.5,-262.1\"/>\n",
       "</g>\n",
       "<!-- sauce -->\n",
       "<g id=\"node6\" class=\"node\">\n",
       "<title>sauce</title>\n",
       "<polygon fill=\"none\" stroke=\"black\" points=\"126,-252 72,-252 72,-216 126,-216 126,-252\"/>\n",
       "<text text-anchor=\"middle\" x=\"99\" y=\"-230.3\" font-family=\"Times,serif\" font-size=\"14.00\">sauce</text>\n",
       "</g>\n",
       "<!-- a&#45;&gt;sauce -->\n",
       "<g id=\"edge5\" class=\"edge\">\n",
       "<title>a&#45;&gt;sauce</title>\n",
       "<path fill=\"none\" stroke=\"black\" d=\"M44.8,-287.7C53.6,-279.14 64.38,-268.66 74,-259.3\"/>\n",
       "<polygon fill=\"black\" stroke=\"black\" points=\"76.68,-261.58 81.41,-252.1 71.8,-256.57 76.68,-261.58\"/>\n",
       "</g>\n",
       "<!-- b -->\n",
       "<g id=\"node3\" class=\"node\">\n",
       "<title>b</title>\n",
       "<text text-anchor=\"middle\" x=\"99\" y=\"-302.3\" font-family=\"Times,serif\" font-size=\"14.00\">b</text>\n",
       "</g>\n",
       "<!-- b&#45;&gt;apple -->\n",
       "<g id=\"edge3\" class=\"edge\">\n",
       "<title>b&#45;&gt;apple</title>\n",
       "<path fill=\"none\" stroke=\"black\" d=\"M81.2,-287.7C72.4,-279.14 61.62,-268.66 52,-259.3\"/>\n",
       "<polygon fill=\"black\" stroke=\"black\" points=\"54.2,-256.57 44.59,-252.1 49.32,-261.58 54.2,-256.57\"/>\n",
       "</g>\n",
       "<!-- b&#45;&gt;sauce -->\n",
       "<g id=\"edge6\" class=\"edge\">\n",
       "<title>b&#45;&gt;sauce</title>\n",
       "<path fill=\"none\" stroke=\"black\" d=\"M99,-287.7C99,-279.98 99,-270.71 99,-262.11\"/>\n",
       "<polygon fill=\"black\" stroke=\"black\" points=\"102.5,-262.1 99,-252.1 95.5,-262.1 102.5,-262.1\"/>\n",
       "</g>\n",
       "<!-- apple&#45;&gt;c -->\n",
       "<g id=\"edge1\" class=\"edge\">\n",
       "<title>apple&#45;&gt;c</title>\n",
       "<path fill=\"none\" stroke=\"black\" d=\"M27,-215.7C27,-207.98 27,-198.71 27,-190.11\"/>\n",
       "<polygon fill=\"black\" stroke=\"black\" points=\"30.5,-190.1 27,-180.1 23.5,-190.1 30.5,-190.1\"/>\n",
       "</g>\n",
       "<!-- d -->\n",
       "<g id=\"node5\" class=\"node\">\n",
       "<title>d</title>\n",
       "<text text-anchor=\"middle\" x=\"99\" y=\"-158.3\" font-family=\"Times,serif\" font-size=\"14.00\">d</text>\n",
       "</g>\n",
       "<!-- d&#45;&gt;applesauce -->\n",
       "<g id=\"edge9\" class=\"edge\">\n",
       "<title>d&#45;&gt;applesauce</title>\n",
       "<path fill=\"none\" stroke=\"black\" d=\"M90.1,-143.7C86,-135.73 81.05,-126.1 76.51,-117.26\"/>\n",
       "<polygon fill=\"black\" stroke=\"black\" points=\"79.48,-115.4 71.8,-108.1 73.26,-118.6 79.48,-115.4\"/>\n",
       "</g>\n",
       "<!-- sauce&#45;&gt;d -->\n",
       "<g id=\"edge4\" class=\"edge\">\n",
       "<title>sauce&#45;&gt;d</title>\n",
       "<path fill=\"none\" stroke=\"black\" d=\"M99,-215.7C99,-207.98 99,-198.71 99,-190.11\"/>\n",
       "<polygon fill=\"black\" stroke=\"black\" points=\"102.5,-190.1 99,-180.1 95.5,-190.1 102.5,-190.1\"/>\n",
       "</g>\n",
       "<!-- e -->\n",
       "<g id=\"node7\" class=\"node\">\n",
       "<title>e</title>\n",
       "<text text-anchor=\"middle\" x=\"63\" y=\"-14.3\" font-family=\"Times,serif\" font-size=\"14.00\">e</text>\n",
       "</g>\n",
       "<!-- applesauce&#45;&gt;e -->\n",
       "<g id=\"edge7\" class=\"edge\">\n",
       "<title>applesauce&#45;&gt;e</title>\n",
       "<path fill=\"none\" stroke=\"black\" d=\"M63,-71.7C63,-63.98 63,-54.71 63,-46.11\"/>\n",
       "<polygon fill=\"black\" stroke=\"black\" points=\"66.5,-46.1 63,-36.1 59.5,-46.1 66.5,-46.1\"/>\n",
       "</g>\n",
       "</g>\n",
       "</svg>\n"
      ],
      "text/plain": [
       "<graphviz.graphs.Digraph at 0x7fcfaa42b2b0>"
      ]
     },
     "execution_count": 18,
     "metadata": {},
     "output_type": "execute_result"
    }
   ],
   "source": [
    "testdag2.dot_digraph()"
   ]
  },
  {
   "cell_type": "code",
   "execution_count": 15,
   "metadata": {},
   "outputs": [],
   "source": [
    "from meshed.itools import predecessors"
   ]
  },
  {
   "cell_type": "code",
   "execution_count": 17,
   "metadata": {},
   "outputs": [
    {
     "data": {
      "text/plain": [
       "{'a': [FuncNode(a,b -> apple -> c), FuncNode(a,b -> sauce -> d)],\n",
       " 'b': [FuncNode(a,b -> apple -> c), FuncNode(a,b -> sauce -> d)],\n",
       " FuncNode(a,b -> apple -> c): ['c'],\n",
       " FuncNode(a,b -> sauce -> d): ['d'],\n",
       " 'c': [FuncNode(c,d -> applesauce -> e)],\n",
       " 'd': [FuncNode(c,d -> applesauce -> e)],\n",
       " FuncNode(c,d -> applesauce -> e): ['e']}"
      ]
     },
     "execution_count": 17,
     "metadata": {},
     "output_type": "execute_result"
    }
   ],
   "source": [
    "g = testdag2.graph\n",
    "g"
   ]
  },
  {
   "cell_type": "code",
   "execution_count": 20,
   "metadata": {},
   "outputs": [
    {
     "data": {
      "text/plain": [
       "[FuncNode(c,d -> applesauce -> e),\n",
       " 'c',\n",
       " 'd',\n",
       " FuncNode(a,b -> apple -> c),\n",
       " 'a',\n",
       " 'b',\n",
       " FuncNode(a,b -> sauce -> d)]"
      ]
     },
     "execution_count": 20,
     "metadata": {},
     "output_type": "execute_result"
    }
   ],
   "source": [
    "list(predecessors(g, 'e'))"
   ]
  },
  {
   "cell_type": "code",
   "execution_count": 39,
   "metadata": {},
   "outputs": [
    {
     "name": "stdout",
     "output_type": "stream",
     "text": [
      "{'e', 'd'}\n"
     ]
    },
    {
     "data": {
      "image/svg+xml": [
       "<?xml version=\"1.0\" encoding=\"UTF-8\" standalone=\"no\"?>\n",
       "<!DOCTYPE svg PUBLIC \"-//W3C//DTD SVG 1.1//EN\"\n",
       " \"http://www.w3.org/Graphics/SVG/1.1/DTD/svg11.dtd\">\n",
       "<!-- Generated by graphviz version 2.50.0 (0)\n",
       " -->\n",
       "<!-- Pages: 1 -->\n",
       "<svg width=\"134pt\" height=\"188pt\"\n",
       " viewBox=\"0.00 0.00 134.00 188.00\" xmlns=\"http://www.w3.org/2000/svg\" xmlns:xlink=\"http://www.w3.org/1999/xlink\">\n",
       "<g id=\"graph0\" class=\"graph\" transform=\"scale(1 1) rotate(0) translate(4 184)\">\n",
       "<polygon fill=\"white\" stroke=\"transparent\" points=\"-4,4 -4,-184 130,-184 130,4 -4,4\"/>\n",
       "<!-- e -->\n",
       "<g id=\"node1\" class=\"node\">\n",
       "<title>e</title>\n",
       "<text text-anchor=\"middle\" x=\"63\" y=\"-14.3\" font-family=\"Times,serif\" font-size=\"14.00\">e</text>\n",
       "</g>\n",
       "<!-- c -->\n",
       "<g id=\"node2\" class=\"node\">\n",
       "<title>c</title>\n",
       "<text text-anchor=\"middle\" x=\"27\" y=\"-158.3\" font-family=\"Times,serif\" font-size=\"14.00\">c</text>\n",
       "</g>\n",
       "<!-- applesauce -->\n",
       "<g id=\"node4\" class=\"node\">\n",
       "<title>applesauce</title>\n",
       "<polygon fill=\"none\" stroke=\"black\" points=\"101,-108 25,-108 25,-72 101,-72 101,-108\"/>\n",
       "<text text-anchor=\"middle\" x=\"63\" y=\"-86.3\" font-family=\"Times,serif\" font-size=\"14.00\">applesauce</text>\n",
       "</g>\n",
       "<!-- c&#45;&gt;applesauce -->\n",
       "<g id=\"edge2\" class=\"edge\">\n",
       "<title>c&#45;&gt;applesauce</title>\n",
       "<path fill=\"none\" stroke=\"black\" d=\"M35.9,-143.7C40,-135.73 44.95,-126.1 49.49,-117.26\"/>\n",
       "<polygon fill=\"black\" stroke=\"black\" points=\"52.74,-118.6 54.2,-108.1 46.52,-115.4 52.74,-118.6\"/>\n",
       "</g>\n",
       "<!-- d -->\n",
       "<g id=\"node3\" class=\"node\">\n",
       "<title>d</title>\n",
       "<text text-anchor=\"middle\" x=\"99\" y=\"-158.3\" font-family=\"Times,serif\" font-size=\"14.00\">d</text>\n",
       "</g>\n",
       "<!-- d&#45;&gt;applesauce -->\n",
       "<g id=\"edge3\" class=\"edge\">\n",
       "<title>d&#45;&gt;applesauce</title>\n",
       "<path fill=\"none\" stroke=\"black\" d=\"M90.1,-143.7C86,-135.73 81.05,-126.1 76.51,-117.26\"/>\n",
       "<polygon fill=\"black\" stroke=\"black\" points=\"79.48,-115.4 71.8,-108.1 73.26,-118.6 79.48,-115.4\"/>\n",
       "</g>\n",
       "<!-- applesauce&#45;&gt;e -->\n",
       "<g id=\"edge1\" class=\"edge\">\n",
       "<title>applesauce&#45;&gt;e</title>\n",
       "<path fill=\"none\" stroke=\"black\" d=\"M63,-71.7C63,-63.98 63,-54.71 63,-46.11\"/>\n",
       "<polygon fill=\"black\" stroke=\"black\" points=\"66.5,-46.1 63,-36.1 59.5,-46.1 66.5,-46.1\"/>\n",
       "</g>\n",
       "</g>\n",
       "</svg>\n"
      ],
      "text/plain": [
       "<graphviz.graphs.Digraph at 0x7fcfa86cae90>"
      ]
     },
     "execution_count": 39,
     "metadata": {},
     "output_type": "execute_result"
    }
   ],
   "source": [
    "from meshed.itools import ancestors\n",
    "\n",
    "def cut_subdag_and_ancestors(dag, subdag):\n",
    "    subdag_nodes = subdag.var_nodes\n",
    "    subdag = dag[:subdag_nodes] #to catch all ancestors\n",
    "    subdag_nodes = subdag.var_nodes\n",
    "\n",
    "    dag_nodes = dag.var_nodes\n",
    "    difference = set(dag_nodes) - set(subdag_nodes)\n",
    "    return dag[difference: ]\n",
    "\n",
    "\n",
    "cut_subdag_and_ancestors(testdag2, testdag2[:'c']).dot_digraph()"
   ]
  },
  {
   "cell_type": "code",
   "execution_count": 41,
   "metadata": {},
   "outputs": [],
   "source": [
    "@code_to_dag\n",
    "def testdag3():\n",
    "    \n",
    "    c = apple(a, b)\n",
    "    d = sauce(x, y)\n",
    "    e = applesauce(c, d)"
   ]
  },
  {
   "cell_type": "code",
   "execution_count": 42,
   "metadata": {},
   "outputs": [
    {
     "name": "stdout",
     "output_type": "stream",
     "text": [
      "{'x', 'y', 'e', 'd'}\n"
     ]
    },
    {
     "data": {
      "image/svg+xml": [
       "<?xml version=\"1.0\" encoding=\"UTF-8\" standalone=\"no\"?>\n",
       "<!DOCTYPE svg PUBLIC \"-//W3C//DTD SVG 1.1//EN\"\n",
       " \"http://www.w3.org/Graphics/SVG/1.1/DTD/svg11.dtd\">\n",
       "<!-- Generated by graphviz version 2.50.0 (0)\n",
       " -->\n",
       "<!-- Pages: 1 -->\n",
       "<svg width=\"170pt\" height=\"332pt\"\n",
       " viewBox=\"0.00 0.00 170.00 332.00\" xmlns=\"http://www.w3.org/2000/svg\" xmlns:xlink=\"http://www.w3.org/1999/xlink\">\n",
       "<g id=\"graph0\" class=\"graph\" transform=\"scale(1 1) rotate(0) translate(4 328)\">\n",
       "<polygon fill=\"white\" stroke=\"transparent\" points=\"-4,4 -4,-328 166,-328 166,4 -4,4\"/>\n",
       "<!-- d -->\n",
       "<g id=\"node1\" class=\"node\">\n",
       "<title>d</title>\n",
       "<text text-anchor=\"middle\" x=\"99\" y=\"-158.3\" font-family=\"Times,serif\" font-size=\"14.00\">d</text>\n",
       "</g>\n",
       "<!-- applesauce -->\n",
       "<g id=\"node7\" class=\"node\">\n",
       "<title>applesauce</title>\n",
       "<polygon fill=\"none\" stroke=\"black\" points=\"101,-108 25,-108 25,-72 101,-72 101,-108\"/>\n",
       "<text text-anchor=\"middle\" x=\"63\" y=\"-86.3\" font-family=\"Times,serif\" font-size=\"14.00\">applesauce</text>\n",
       "</g>\n",
       "<!-- d&#45;&gt;applesauce -->\n",
       "<g id=\"edge6\" class=\"edge\">\n",
       "<title>d&#45;&gt;applesauce</title>\n",
       "<path fill=\"none\" stroke=\"black\" d=\"M90.1,-143.7C86,-135.73 81.05,-126.1 76.51,-117.26\"/>\n",
       "<polygon fill=\"black\" stroke=\"black\" points=\"79.48,-115.4 71.8,-108.1 73.26,-118.6 79.48,-115.4\"/>\n",
       "</g>\n",
       "<!-- x -->\n",
       "<g id=\"node2\" class=\"node\">\n",
       "<title>x</title>\n",
       "<text text-anchor=\"middle\" x=\"63\" y=\"-302.3\" font-family=\"Times,serif\" font-size=\"14.00\">x</text>\n",
       "</g>\n",
       "<!-- sauce -->\n",
       "<g id=\"node4\" class=\"node\">\n",
       "<title>sauce</title>\n",
       "<polygon fill=\"none\" stroke=\"black\" points=\"126,-252 72,-252 72,-216 126,-216 126,-252\"/>\n",
       "<text text-anchor=\"middle\" x=\"99\" y=\"-230.3\" font-family=\"Times,serif\" font-size=\"14.00\">sauce</text>\n",
       "</g>\n",
       "<!-- x&#45;&gt;sauce -->\n",
       "<g id=\"edge2\" class=\"edge\">\n",
       "<title>x&#45;&gt;sauce</title>\n",
       "<path fill=\"none\" stroke=\"black\" d=\"M71.9,-287.7C76,-279.73 80.95,-270.1 85.49,-261.26\"/>\n",
       "<polygon fill=\"black\" stroke=\"black\" points=\"88.74,-262.6 90.2,-252.1 82.52,-259.4 88.74,-262.6\"/>\n",
       "</g>\n",
       "<!-- y -->\n",
       "<g id=\"node3\" class=\"node\">\n",
       "<title>y</title>\n",
       "<text text-anchor=\"middle\" x=\"135\" y=\"-302.3\" font-family=\"Times,serif\" font-size=\"14.00\">y</text>\n",
       "</g>\n",
       "<!-- y&#45;&gt;sauce -->\n",
       "<g id=\"edge3\" class=\"edge\">\n",
       "<title>y&#45;&gt;sauce</title>\n",
       "<path fill=\"none\" stroke=\"black\" d=\"M126.1,-287.7C122,-279.73 117.05,-270.1 112.51,-261.26\"/>\n",
       "<polygon fill=\"black\" stroke=\"black\" points=\"115.48,-259.4 107.8,-252.1 109.26,-262.6 115.48,-259.4\"/>\n",
       "</g>\n",
       "<!-- sauce&#45;&gt;d -->\n",
       "<g id=\"edge1\" class=\"edge\">\n",
       "<title>sauce&#45;&gt;d</title>\n",
       "<path fill=\"none\" stroke=\"black\" d=\"M99,-215.7C99,-207.98 99,-198.71 99,-190.11\"/>\n",
       "<polygon fill=\"black\" stroke=\"black\" points=\"102.5,-190.1 99,-180.1 95.5,-190.1 102.5,-190.1\"/>\n",
       "</g>\n",
       "<!-- e -->\n",
       "<g id=\"node5\" class=\"node\">\n",
       "<title>e</title>\n",
       "<text text-anchor=\"middle\" x=\"63\" y=\"-14.3\" font-family=\"Times,serif\" font-size=\"14.00\">e</text>\n",
       "</g>\n",
       "<!-- c -->\n",
       "<g id=\"node6\" class=\"node\">\n",
       "<title>c</title>\n",
       "<text text-anchor=\"middle\" x=\"27\" y=\"-158.3\" font-family=\"Times,serif\" font-size=\"14.00\">c</text>\n",
       "</g>\n",
       "<!-- c&#45;&gt;applesauce -->\n",
       "<g id=\"edge5\" class=\"edge\">\n",
       "<title>c&#45;&gt;applesauce</title>\n",
       "<path fill=\"none\" stroke=\"black\" d=\"M35.9,-143.7C40,-135.73 44.95,-126.1 49.49,-117.26\"/>\n",
       "<polygon fill=\"black\" stroke=\"black\" points=\"52.74,-118.6 54.2,-108.1 46.52,-115.4 52.74,-118.6\"/>\n",
       "</g>\n",
       "<!-- applesauce&#45;&gt;e -->\n",
       "<g id=\"edge4\" class=\"edge\">\n",
       "<title>applesauce&#45;&gt;e</title>\n",
       "<path fill=\"none\" stroke=\"black\" d=\"M63,-71.7C63,-63.98 63,-54.71 63,-46.11\"/>\n",
       "<polygon fill=\"black\" stroke=\"black\" points=\"66.5,-46.1 63,-36.1 59.5,-46.1 66.5,-46.1\"/>\n",
       "</g>\n",
       "</g>\n",
       "</svg>\n"
      ],
      "text/plain": [
       "<graphviz.graphs.Digraph at 0x7fcfa85365c0>"
      ]
     },
     "execution_count": 42,
     "metadata": {},
     "output_type": "execute_result"
    }
   ],
   "source": [
    "cut_subdag_and_ancestors(testdag3, testdag3[:'c']).dot_digraph()"
   ]
  },
  {
   "cell_type": "code",
   "execution_count": 45,
   "metadata": {},
   "outputs": [],
   "source": [
    "def comp_dag(dag, param_var_nodes):   \n",
    "    param_dag = dag[:param_var_nodes]\n",
    "    print(f\"{i2.Sig(param_dag)=}\")\n",
    "    #   Part that computes the rest based on these (and remaining root nodes)\n",
    "    computation_dag = dag[param_var_nodes:]\n",
    "    print(f\"{i2.Sig(computation_dag)=}\")\n",
    "    # Get the intersection of the two parts on the var nodes\n",
    "    common_var_nodes = set(param_dag.var_nodes) & set(computation_dag.var_nodes)\n",
    "    print(f\"{i2.Sig(common_var_nodes)=}\")\n",
    "    additional_var_nodes = set(computation_dag.var_nodes) - set(param_dag.var_nodes)\n",
    "    print(f\"{i2.Sig(additional_var_nodes)=}\")\n",
    "    ancestor_dag = dag[:additional_var_nodes]\n",
    "    print(f\"{i2.Sig(ancestor_dag)=}\")\n",
    "    computation_dag = computation_dag + ancestor_dag\n",
    "            \n",
    "    return computation_dag"
   ]
  },
  {
   "cell_type": "code",
   "execution_count": 46,
   "metadata": {},
   "outputs": [
    {
     "name": "stdout",
     "output_type": "stream",
     "text": [
      "i2.Sig(param_dag)=<Sig (a, b)>\n",
      "i2.Sig(computation_dag)=<Sig (c, d)>\n",
      "i2.Sig(common_var_nodes)=<Sig (c)>\n",
      "i2.Sig(additional_var_nodes)=<Sig (e, d)>\n",
      "i2.Sig(ancestor_dag)=<Sig (a, b, x, y)>\n"
     ]
    },
    {
     "data": {
      "image/svg+xml": [
       "<?xml version=\"1.0\" encoding=\"UTF-8\" standalone=\"no\"?>\n",
       "<!DOCTYPE svg PUBLIC \"-//W3C//DTD SVG 1.1//EN\"\n",
       " \"http://www.w3.org/Graphics/SVG/1.1/DTD/svg11.dtd\">\n",
       "<!-- Generated by graphviz version 2.50.0 (0)\n",
       " -->\n",
       "<!-- Pages: 1 -->\n",
       "<svg width=\"278pt\" height=\"332pt\"\n",
       " viewBox=\"0.00 0.00 278.00 332.00\" xmlns=\"http://www.w3.org/2000/svg\" xmlns:xlink=\"http://www.w3.org/1999/xlink\">\n",
       "<g id=\"graph0\" class=\"graph\" transform=\"scale(1 1) rotate(0) translate(4 328)\">\n",
       "<polygon fill=\"white\" stroke=\"transparent\" points=\"-4,4 -4,-328 274,-328 274,4 -4,4\"/>\n",
       "<!-- c -->\n",
       "<g id=\"node1\" class=\"node\">\n",
       "<title>c</title>\n",
       "<text text-anchor=\"middle\" x=\"171\" y=\"-158.3\" font-family=\"Times,serif\" font-size=\"14.00\">c</text>\n",
       "</g>\n",
       "<!-- applesauce -->\n",
       "<g id=\"node10\" class=\"node\">\n",
       "<title>applesauce</title>\n",
       "<polygon fill=\"none\" stroke=\"black\" points=\"173,-108 97,-108 97,-72 173,-72 173,-108\"/>\n",
       "<text text-anchor=\"middle\" x=\"135\" y=\"-86.3\" font-family=\"Times,serif\" font-size=\"14.00\">applesauce</text>\n",
       "</g>\n",
       "<!-- c&#45;&gt;applesauce -->\n",
       "<g id=\"edge8\" class=\"edge\">\n",
       "<title>c&#45;&gt;applesauce</title>\n",
       "<path fill=\"none\" stroke=\"black\" d=\"M162.1,-143.7C158,-135.73 153.05,-126.1 148.51,-117.26\"/>\n",
       "<polygon fill=\"black\" stroke=\"black\" points=\"151.48,-115.4 143.8,-108.1 145.26,-118.6 151.48,-115.4\"/>\n",
       "</g>\n",
       "<!-- a -->\n",
       "<g id=\"node2\" class=\"node\">\n",
       "<title>a</title>\n",
       "<text text-anchor=\"middle\" x=\"171\" y=\"-302.3\" font-family=\"Times,serif\" font-size=\"14.00\">a</text>\n",
       "</g>\n",
       "<!-- apple -->\n",
       "<g id=\"node4\" class=\"node\">\n",
       "<title>apple</title>\n",
       "<polygon fill=\"none\" stroke=\"black\" points=\"198,-252 144,-252 144,-216 198,-216 198,-252\"/>\n",
       "<text text-anchor=\"middle\" x=\"171\" y=\"-230.3\" font-family=\"Times,serif\" font-size=\"14.00\">apple</text>\n",
       "</g>\n",
       "<!-- a&#45;&gt;apple -->\n",
       "<g id=\"edge2\" class=\"edge\">\n",
       "<title>a&#45;&gt;apple</title>\n",
       "<path fill=\"none\" stroke=\"black\" d=\"M171,-287.7C171,-279.98 171,-270.71 171,-262.11\"/>\n",
       "<polygon fill=\"black\" stroke=\"black\" points=\"174.5,-262.1 171,-252.1 167.5,-262.1 174.5,-262.1\"/>\n",
       "</g>\n",
       "<!-- b -->\n",
       "<g id=\"node3\" class=\"node\">\n",
       "<title>b</title>\n",
       "<text text-anchor=\"middle\" x=\"243\" y=\"-302.3\" font-family=\"Times,serif\" font-size=\"14.00\">b</text>\n",
       "</g>\n",
       "<!-- b&#45;&gt;apple -->\n",
       "<g id=\"edge3\" class=\"edge\">\n",
       "<title>b&#45;&gt;apple</title>\n",
       "<path fill=\"none\" stroke=\"black\" d=\"M225.2,-287.7C216.4,-279.14 205.62,-268.66 196,-259.3\"/>\n",
       "<polygon fill=\"black\" stroke=\"black\" points=\"198.2,-256.57 188.59,-252.1 193.32,-261.58 198.2,-256.57\"/>\n",
       "</g>\n",
       "<!-- apple&#45;&gt;c -->\n",
       "<g id=\"edge1\" class=\"edge\">\n",
       "<title>apple&#45;&gt;c</title>\n",
       "<path fill=\"none\" stroke=\"black\" d=\"M171,-215.7C171,-207.98 171,-198.71 171,-190.11\"/>\n",
       "<polygon fill=\"black\" stroke=\"black\" points=\"174.5,-190.1 171,-180.1 167.5,-190.1 174.5,-190.1\"/>\n",
       "</g>\n",
       "<!-- d -->\n",
       "<g id=\"node5\" class=\"node\">\n",
       "<title>d</title>\n",
       "<text text-anchor=\"middle\" x=\"99\" y=\"-158.3\" font-family=\"Times,serif\" font-size=\"14.00\">d</text>\n",
       "</g>\n",
       "<!-- d&#45;&gt;applesauce -->\n",
       "<g id=\"edge9\" class=\"edge\">\n",
       "<title>d&#45;&gt;applesauce</title>\n",
       "<path fill=\"none\" stroke=\"black\" d=\"M107.9,-143.7C112,-135.73 116.95,-126.1 121.49,-117.26\"/>\n",
       "<polygon fill=\"black\" stroke=\"black\" points=\"124.74,-118.6 126.2,-108.1 118.52,-115.4 124.74,-118.6\"/>\n",
       "</g>\n",
       "<!-- x -->\n",
       "<g id=\"node6\" class=\"node\">\n",
       "<title>x</title>\n",
       "<text text-anchor=\"middle\" x=\"27\" y=\"-302.3\" font-family=\"Times,serif\" font-size=\"14.00\">x</text>\n",
       "</g>\n",
       "<!-- sauce -->\n",
       "<g id=\"node8\" class=\"node\">\n",
       "<title>sauce</title>\n",
       "<polygon fill=\"none\" stroke=\"black\" points=\"126,-252 72,-252 72,-216 126,-216 126,-252\"/>\n",
       "<text text-anchor=\"middle\" x=\"99\" y=\"-230.3\" font-family=\"Times,serif\" font-size=\"14.00\">sauce</text>\n",
       "</g>\n",
       "<!-- x&#45;&gt;sauce -->\n",
       "<g id=\"edge5\" class=\"edge\">\n",
       "<title>x&#45;&gt;sauce</title>\n",
       "<path fill=\"none\" stroke=\"black\" d=\"M44.8,-287.7C53.6,-279.14 64.38,-268.66 74,-259.3\"/>\n",
       "<polygon fill=\"black\" stroke=\"black\" points=\"76.68,-261.58 81.41,-252.1 71.8,-256.57 76.68,-261.58\"/>\n",
       "</g>\n",
       "<!-- y -->\n",
       "<g id=\"node7\" class=\"node\">\n",
       "<title>y</title>\n",
       "<text text-anchor=\"middle\" x=\"99\" y=\"-302.3\" font-family=\"Times,serif\" font-size=\"14.00\">y</text>\n",
       "</g>\n",
       "<!-- y&#45;&gt;sauce -->\n",
       "<g id=\"edge6\" class=\"edge\">\n",
       "<title>y&#45;&gt;sauce</title>\n",
       "<path fill=\"none\" stroke=\"black\" d=\"M99,-287.7C99,-279.98 99,-270.71 99,-262.11\"/>\n",
       "<polygon fill=\"black\" stroke=\"black\" points=\"102.5,-262.1 99,-252.1 95.5,-262.1 102.5,-262.1\"/>\n",
       "</g>\n",
       "<!-- sauce&#45;&gt;d -->\n",
       "<g id=\"edge4\" class=\"edge\">\n",
       "<title>sauce&#45;&gt;d</title>\n",
       "<path fill=\"none\" stroke=\"black\" d=\"M99,-215.7C99,-207.98 99,-198.71 99,-190.11\"/>\n",
       "<polygon fill=\"black\" stroke=\"black\" points=\"102.5,-190.1 99,-180.1 95.5,-190.1 102.5,-190.1\"/>\n",
       "</g>\n",
       "<!-- e -->\n",
       "<g id=\"node9\" class=\"node\">\n",
       "<title>e</title>\n",
       "<text text-anchor=\"middle\" x=\"135\" y=\"-14.3\" font-family=\"Times,serif\" font-size=\"14.00\">e</text>\n",
       "</g>\n",
       "<!-- applesauce&#45;&gt;e -->\n",
       "<g id=\"edge7\" class=\"edge\">\n",
       "<title>applesauce&#45;&gt;e</title>\n",
       "<path fill=\"none\" stroke=\"black\" d=\"M135,-71.7C135,-63.98 135,-54.71 135,-46.11\"/>\n",
       "<polygon fill=\"black\" stroke=\"black\" points=\"138.5,-46.1 135,-36.1 131.5,-46.1 138.5,-46.1\"/>\n",
       "</g>\n",
       "</g>\n",
       "</svg>\n"
      ],
      "text/plain": [
       "<graphviz.graphs.Digraph at 0x7fcfa84efe80>"
      ]
     },
     "execution_count": 46,
     "metadata": {},
     "output_type": "execute_result"
    }
   ],
   "source": [
    "comp_dag(testdag3, 'c').dot_digraph()"
   ]
  },
  {
   "cell_type": "code",
   "execution_count": 47,
   "metadata": {},
   "outputs": [
    {
     "ename": "ImportError",
     "evalue": "cannot import name 'str_to_dag' from 'meshed' (/Users/sylvain/Desktop/dev/otosense/meshed/meshed/__init__.py)",
     "output_type": "error",
     "traceback": [
      "\u001b[0;31m---------------------------------------------------------------------------\u001b[0m",
      "\u001b[0;31mImportError\u001b[0m                               Traceback (most recent call last)",
      "Cell \u001b[0;32mIn[47], line 1\u001b[0m\n\u001b[0;32m----> 1\u001b[0m \u001b[39mfrom\u001b[39;00m \u001b[39mmeshed\u001b[39;00m \u001b[39mimport\u001b[39;00m str_to_dag\n\u001b[1;32m      3\u001b[0m d \u001b[39m=\u001b[39m str_to_dag(\u001b[39m'\u001b[39m\u001b[39ma = 1\u001b[39m\u001b[39m\\n\u001b[39;00m\u001b[39mb = 2\u001b[39m\u001b[39m\\n\u001b[39;00m\u001b[39mc = a + b\u001b[39m\u001b[39m'\u001b[39m)\n",
      "\u001b[0;31mImportError\u001b[0m: cannot import name 'str_to_dag' from 'meshed' (/Users/sylvain/Desktop/dev/otosense/meshed/meshed/__init__.py)"
     ]
    }
   ],
   "source": [
    "from meshed import str_to_dag\n",
    "\n",
    "d = str_to_dag('a = 1\\nb = 2\\nc = a + b')"
   ]
  },
  {
   "cell_type": "code",
   "execution_count": 53,
   "metadata": {},
   "outputs": [
    {
     "data": {
      "text/plain": [
       "<Sig (a, b)>"
      ]
     },
     "execution_count": 53,
     "metadata": {},
     "output_type": "execute_result"
    }
   ],
   "source": [
    "@code_to_dag\n",
    "def testdag3():\n",
    "    c = apple(a, b)\n",
    "    d = sauce(x, y)\n",
    "    e = applesauce(c, d)\n",
    "\n",
    "Sig(parametrized_dag_factory(testdag3, 'c'))"
   ]
  },
  {
   "cell_type": "code",
   "execution_count": 52,
   "metadata": {},
   "outputs": [
    {
     "ename": "TypeError",
     "evalue": "Got unexpected keyword arguments: c",
     "output_type": "error",
     "traceback": [
      "\u001b[0;31m---------------------------------------------------------------------------\u001b[0m",
      "\u001b[0;31mTypeError\u001b[0m                                 Traceback (most recent call last)",
      "Cell \u001b[0;32mIn[52], line 1\u001b[0m\n\u001b[0;32m----> 1\u001b[0m parametrized_dag_factory(testdag3, \u001b[39m'\u001b[39;49m\u001b[39mc\u001b[39;49m\u001b[39m'\u001b[39;49m)(a\u001b[39m=\u001b[39;49m\u001b[39m1\u001b[39;49m,b\u001b[39m=\u001b[39;49m\u001b[39m2\u001b[39;49m)\n",
      "Cell \u001b[0;32mIn[6], line 65\u001b[0m, in \u001b[0;36mparametrized_dag_factory.<locals>.dag_factory\u001b[0;34m(*parametrization_args, **parametrization_kwargs)\u001b[0m\n\u001b[1;32m     60\u001b[0m common_var_node_values \u001b[39m=\u001b[39m extract_dict(param_dag\u001b[39m.\u001b[39mlast_scope, common_var_nodes)\n\u001b[1;32m     61\u001b[0m \u001b[39m# By fixing those values, you now have a the computation_dag you want\u001b[39;00m\n\u001b[1;32m     62\u001b[0m \u001b[39m# Note: Also, remove the bound arguments\u001b[39;00m\n\u001b[1;32m     63\u001b[0m \u001b[39m# (i.e. the arguments that were used to compute the values)\u001b[39;00m\n\u001b[1;32m     64\u001b[0m \u001b[39m# so that the user doesn't change those and get inconsistencies!\u001b[39;00m\n\u001b[0;32m---> 65\u001b[0m d \u001b[39m=\u001b[39m computation_dag\u001b[39m.\u001b[39;49mpartial(\n\u001b[1;32m     66\u001b[0m     \u001b[39m*\u001b[39;49m\u001b[39m*\u001b[39;49mcommon_var_node_values, _remove_bound_arguments\u001b[39m=\u001b[39;49m\u001b[39mTrue\u001b[39;49;00m\n\u001b[1;32m     67\u001b[0m )\n\u001b[1;32m     68\u001b[0m \u001b[39m# Remember the var nodes that parametrized the dag\u001b[39;00m\n\u001b[1;32m     69\u001b[0m \u001b[39m# TODO: Is this a good idea? Meant for debugging really.\u001b[39;00m\n\u001b[1;32m     70\u001b[0m d\u001b[39m.\u001b[39m_common_var_node_values \u001b[39m=\u001b[39m common_var_node_values\n",
      "File \u001b[0;32m~/Desktop/dev/otosense/meshed/meshed/dag.py:842\u001b[0m, in \u001b[0;36mDAG.partial\u001b[0;34m(self, _remove_bound_arguments, _consider_defaulted_arguments_as_bound, *positional_dflts, **keyword_dflts)\u001b[0m\n\u001b[1;32m    797\u001b[0m \u001b[39mdef\u001b[39;00m \u001b[39mpartial\u001b[39m(\n\u001b[1;32m    798\u001b[0m     \u001b[39mself\u001b[39m,\n\u001b[1;32m    799\u001b[0m     \u001b[39m*\u001b[39mpositional_dflts,\n\u001b[0;32m   (...)\u001b[0m\n\u001b[1;32m    802\u001b[0m     \u001b[39m*\u001b[39m\u001b[39m*\u001b[39mkeyword_dflts,\n\u001b[1;32m    803\u001b[0m ):\n\u001b[1;32m    804\u001b[0m \u001b[39m    \u001b[39m\u001b[39m\"\"\"Get a curried version of the DAG.\u001b[39;00m\n\u001b[1;32m    805\u001b[0m \n\u001b[1;32m    806\u001b[0m \u001b[39m    Like ``functools.partial``, but returns a DAG (not just a callable) and allows\u001b[39;00m\n\u001b[0;32m   (...)\u001b[0m\n\u001b[1;32m    839\u001b[0m \u001b[39m    9\u001b[39;00m\n\u001b[1;32m    840\u001b[0m \u001b[39m    \"\"\"\u001b[39;00m\n\u001b[0;32m--> 842\u001b[0m     keyword_dflts \u001b[39m=\u001b[39m \u001b[39mself\u001b[39;49m\u001b[39m.\u001b[39;49m__signature__\u001b[39m.\u001b[39;49mkwargs_from_args_and_kwargs(\n\u001b[1;32m    843\u001b[0m         args\u001b[39m=\u001b[39;49mpositional_dflts,\n\u001b[1;32m    844\u001b[0m         kwargs\u001b[39m=\u001b[39;49mkeyword_dflts,\n\u001b[1;32m    845\u001b[0m         apply_defaults\u001b[39m=\u001b[39;49m_consider_defaulted_arguments_as_bound,\n\u001b[1;32m    846\u001b[0m         \u001b[39m# positional_dflts and keyword_dflts usually don't cover all arguments, so:\u001b[39;49;00m\n\u001b[1;32m    847\u001b[0m         allow_partial\u001b[39m=\u001b[39;49m\u001b[39mTrue\u001b[39;49;00m,\n\u001b[1;32m    848\u001b[0m         \u001b[39m# we prefer to let the user know if they're trying to bind arguments\u001b[39;49;00m\n\u001b[1;32m    849\u001b[0m         \u001b[39m# that don't exist, so:\u001b[39;49;00m\n\u001b[1;32m    850\u001b[0m         allow_excess\u001b[39m=\u001b[39;49m\u001b[39mFalse\u001b[39;49;00m,\n\u001b[1;32m    851\u001b[0m         \u001b[39m# we don't really care about kind, so:\u001b[39;49;00m\n\u001b[1;32m    852\u001b[0m         ignore_kind\u001b[39m=\u001b[39;49m\u001b[39mTrue\u001b[39;49;00m,\n\u001b[1;32m    853\u001b[0m     )\n\u001b[1;32m    854\u001b[0m     \u001b[39m# TODO: mk_instance: What about other init args (cache_last_scope, ...)?\u001b[39;00m\n\u001b[1;32m    855\u001b[0m     mk_instance \u001b[39m=\u001b[39m \u001b[39mtype\u001b[39m(\u001b[39mself\u001b[39m)\n",
      "File \u001b[0;32m~/Desktop/dev/otosense/i2/i2/signatures.py:2360\u001b[0m, in \u001b[0;36mSig.kwargs_from_args_and_kwargs\u001b[0;34m(self, args, kwargs, apply_defaults, allow_partial, allow_excess, ignore_kind, debug)\u001b[0m\n\u001b[1;32m   2358\u001b[0m     \u001b[39mif\u001b[39;00m excess:\n\u001b[1;32m   2359\u001b[0m         excess_str \u001b[39m=\u001b[39m \u001b[39m'\u001b[39m\u001b[39m, \u001b[39m\u001b[39m'\u001b[39m\u001b[39m.\u001b[39mjoin(excess)\n\u001b[0;32m-> 2360\u001b[0m         \u001b[39mraise\u001b[39;00m \u001b[39mTypeError\u001b[39;00m(\u001b[39mf\u001b[39m\u001b[39m'\u001b[39m\u001b[39mGot unexpected keyword arguments: \u001b[39m\u001b[39m{\u001b[39;00mexcess_str\u001b[39m}\u001b[39;00m\u001b[39m'\u001b[39m)\n\u001b[1;32m   2362\u001b[0m var_kw_name \u001b[39m=\u001b[39m name_of_var_kw_argument(\u001b[39mself\u001b[39m)\n\u001b[1;32m   2364\u001b[0m flattened_kvs \u001b[39m=\u001b[39m expand_nested_key(b\u001b[39m.\u001b[39marguments, var_kw_name)\n",
      "\u001b[0;31mTypeError\u001b[0m: Got unexpected keyword arguments: c"
     ]
    }
   ],
   "source": [
    "parametrized_dag_factory(testdag3, 'c')(a=1,b=2)"
   ]
  },
  {
   "cell_type": "code",
   "execution_count": 2,
   "metadata": {},
   "outputs": [
    {
     "name": "stdout",
     "output_type": "stream",
     "text": [
      "(aa, aaa)\n"
     ]
    }
   ],
   "source": [
    "import i2\n",
    "from meshed import code_to_dag\n",
    "\n",
    "from meshed.dag import parametrized_dag_factory\n",
    "@code_to_dag\n",
    "def testdag():\n",
    "    a = criss(aa, aaa)\n",
    "    b = cross(aa, bb)\n",
    "    c = apple(a, b)\n",
    "    d = sauce(a, b)\n",
    "    e = applesauce(c, d)\n",
    "\n",
    "dag_factory = parametrized_dag_factory(testdag, 'a')\n",
    "print(f\"{i2.Sig(dag_factory)}\")\n",
    "#(aa, aaa)\n"
   ]
  },
  {
   "cell_type": "code",
   "execution_count": 4,
   "metadata": {},
   "outputs": [
    {
     "ename": "TypeError",
     "evalue": "Got unexpected keyword arguments: a",
     "output_type": "error",
     "traceback": [
      "\u001b[0;31m---------------------------------------------------------------------------\u001b[0m",
      "\u001b[0;31mTypeError\u001b[0m                                 Traceback (most recent call last)",
      "Cell \u001b[0;32mIn[4], line 1\u001b[0m\n\u001b[0;32m----> 1\u001b[0m d \u001b[39m=\u001b[39m dag_factory(aa\u001b[39m=\u001b[39;49m\u001b[39m1\u001b[39;49m, aaa\u001b[39m=\u001b[39;49m\u001b[39m2\u001b[39;49m)\n\u001b[1;32m      2\u001b[0m \u001b[39mprint\u001b[39m(\u001b[39mf\u001b[39m\u001b[39m\"\u001b[39m\u001b[39m{\u001b[39;00mi2\u001b[39m.\u001b[39mSig(d)\u001b[39m}\u001b[39;00m\u001b[39m\"\u001b[39m)\n",
      "File \u001b[0;32m~/Desktop/dev/otosense/meshed/meshed/dag.py:1814\u001b[0m, in \u001b[0;36mparametrized_dag_factory.<locals>.dag_factory\u001b[0;34m(*parametrization_args, **parametrization_kwargs)\u001b[0m\n\u001b[1;32m   1809\u001b[0m common_var_node_values \u001b[39m=\u001b[39m extract_dict(param_dag\u001b[39m.\u001b[39mlast_scope, common_var_nodes)\n\u001b[1;32m   1810\u001b[0m \u001b[39m# By fixing those values, you now have a the computation_dag you want\u001b[39;00m\n\u001b[1;32m   1811\u001b[0m \u001b[39m# Note: Also, remove the bound arguments\u001b[39;00m\n\u001b[1;32m   1812\u001b[0m \u001b[39m# (i.e. the arguments that were used to compute the values)\u001b[39;00m\n\u001b[1;32m   1813\u001b[0m \u001b[39m# so that the user doesn't change those and get inconsistencies!\u001b[39;00m\n\u001b[0;32m-> 1814\u001b[0m d \u001b[39m=\u001b[39m computation_dag\u001b[39m.\u001b[39;49mpartial(\n\u001b[1;32m   1815\u001b[0m     \u001b[39m*\u001b[39;49m\u001b[39m*\u001b[39;49mcommon_var_node_values, _remove_bound_arguments\u001b[39m=\u001b[39;49m\u001b[39mTrue\u001b[39;49;00m\n\u001b[1;32m   1816\u001b[0m )\n\u001b[1;32m   1817\u001b[0m \u001b[39m# Remember the var nodes that parametrized the dag\u001b[39;00m\n\u001b[1;32m   1818\u001b[0m \u001b[39m# TODO: Is this a good idea? Meant for debugging really.\u001b[39;00m\n\u001b[1;32m   1819\u001b[0m d\u001b[39m.\u001b[39m_common_var_node_values \u001b[39m=\u001b[39m common_var_node_values\n",
      "File \u001b[0;32m~/Desktop/dev/otosense/meshed/meshed/dag.py:842\u001b[0m, in \u001b[0;36mDAG.partial\u001b[0;34m(self, _remove_bound_arguments, _consider_defaulted_arguments_as_bound, *positional_dflts, **keyword_dflts)\u001b[0m\n\u001b[1;32m    797\u001b[0m \u001b[39mdef\u001b[39;00m \u001b[39mpartial\u001b[39m(\n\u001b[1;32m    798\u001b[0m     \u001b[39mself\u001b[39m,\n\u001b[1;32m    799\u001b[0m     \u001b[39m*\u001b[39mpositional_dflts,\n\u001b[0;32m   (...)\u001b[0m\n\u001b[1;32m    802\u001b[0m     \u001b[39m*\u001b[39m\u001b[39m*\u001b[39mkeyword_dflts,\n\u001b[1;32m    803\u001b[0m ):\n\u001b[1;32m    804\u001b[0m \u001b[39m    \u001b[39m\u001b[39m\"\"\"Get a curried version of the DAG.\u001b[39;00m\n\u001b[1;32m    805\u001b[0m \n\u001b[1;32m    806\u001b[0m \u001b[39m    Like ``functools.partial``, but returns a DAG (not just a callable) and allows\u001b[39;00m\n\u001b[0;32m   (...)\u001b[0m\n\u001b[1;32m    839\u001b[0m \u001b[39m    9\u001b[39;00m\n\u001b[1;32m    840\u001b[0m \u001b[39m    \"\"\"\u001b[39;00m\n\u001b[0;32m--> 842\u001b[0m     keyword_dflts \u001b[39m=\u001b[39m \u001b[39mself\u001b[39;49m\u001b[39m.\u001b[39;49m__signature__\u001b[39m.\u001b[39;49mkwargs_from_args_and_kwargs(\n\u001b[1;32m    843\u001b[0m         args\u001b[39m=\u001b[39;49mpositional_dflts,\n\u001b[1;32m    844\u001b[0m         kwargs\u001b[39m=\u001b[39;49mkeyword_dflts,\n\u001b[1;32m    845\u001b[0m         apply_defaults\u001b[39m=\u001b[39;49m_consider_defaulted_arguments_as_bound,\n\u001b[1;32m    846\u001b[0m         \u001b[39m# positional_dflts and keyword_dflts usually don't cover all arguments, so:\u001b[39;49;00m\n\u001b[1;32m    847\u001b[0m         allow_partial\u001b[39m=\u001b[39;49m\u001b[39mTrue\u001b[39;49;00m,\n\u001b[1;32m    848\u001b[0m         \u001b[39m# we prefer to let the user know if they're trying to bind arguments\u001b[39;49;00m\n\u001b[1;32m    849\u001b[0m         \u001b[39m# that don't exist, so:\u001b[39;49;00m\n\u001b[1;32m    850\u001b[0m         allow_excess\u001b[39m=\u001b[39;49m\u001b[39mFalse\u001b[39;49;00m,\n\u001b[1;32m    851\u001b[0m         \u001b[39m# we don't really care about kind, so:\u001b[39;49;00m\n\u001b[1;32m    852\u001b[0m         ignore_kind\u001b[39m=\u001b[39;49m\u001b[39mTrue\u001b[39;49;00m,\n\u001b[1;32m    853\u001b[0m     )\n\u001b[1;32m    854\u001b[0m     \u001b[39m# TODO: mk_instance: What about other init args (cache_last_scope, ...)?\u001b[39;00m\n\u001b[1;32m    855\u001b[0m     mk_instance \u001b[39m=\u001b[39m \u001b[39mtype\u001b[39m(\u001b[39mself\u001b[39m)\n",
      "File \u001b[0;32m~/Desktop/dev/otosense/i2/i2/signatures.py:2360\u001b[0m, in \u001b[0;36mSig.kwargs_from_args_and_kwargs\u001b[0;34m(self, args, kwargs, apply_defaults, allow_partial, allow_excess, ignore_kind, debug)\u001b[0m\n\u001b[1;32m   2358\u001b[0m     \u001b[39mif\u001b[39;00m excess:\n\u001b[1;32m   2359\u001b[0m         excess_str \u001b[39m=\u001b[39m \u001b[39m'\u001b[39m\u001b[39m, \u001b[39m\u001b[39m'\u001b[39m\u001b[39m.\u001b[39mjoin(excess)\n\u001b[0;32m-> 2360\u001b[0m         \u001b[39mraise\u001b[39;00m \u001b[39mTypeError\u001b[39;00m(\u001b[39mf\u001b[39m\u001b[39m'\u001b[39m\u001b[39mGot unexpected keyword arguments: \u001b[39m\u001b[39m{\u001b[39;00mexcess_str\u001b[39m}\u001b[39;00m\u001b[39m'\u001b[39m)\n\u001b[1;32m   2362\u001b[0m var_kw_name \u001b[39m=\u001b[39m name_of_var_kw_argument(\u001b[39mself\u001b[39m)\n\u001b[1;32m   2364\u001b[0m flattened_kvs \u001b[39m=\u001b[39m expand_nested_key(b\u001b[39m.\u001b[39marguments, var_kw_name)\n",
      "\u001b[0;31mTypeError\u001b[0m: Got unexpected keyword arguments: a"
     ]
    }
   ],
   "source": [
    "d = dag_factory(aa=1, aaa=2)\n",
    "print(f\"{i2.Sig(d)}\")\n",
    "#(b)\n",
    "#d(b='bananna')\n",
    "#'applesauce(c=apple(a=criss(aa=1, aaa=2), b=bananna), d=sauce(a=criss(aa=1, aaa=2), b=bananna))'\n"
   ]
  },
  {
   "cell_type": "code",
   "execution_count": null,
   "metadata": {},
   "outputs": [],
   "source": []
  }
 ],
 "metadata": {
  "kernelspec": {
   "display_name": "Python 3",
   "language": "python",
   "name": "python3"
  },
  "language_info": {
   "codemirror_mode": {
    "name": "ipython",
    "version": 3
   },
   "file_extension": ".py",
   "mimetype": "text/x-python",
   "name": "python",
   "nbconvert_exporter": "python",
   "pygments_lexer": "ipython3",
   "version": "3.10.0"
  },
  "orig_nbformat": 4
 },
 "nbformat": 4,
 "nbformat_minor": 2
}
