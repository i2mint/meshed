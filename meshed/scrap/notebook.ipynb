{
 "cells": [
  {
   "cell_type": "code",
   "execution_count": 1,
   "metadata": {},
   "outputs": [
    {
     "data": {
      "text/plain": [
       "<Sig (w, /, x: float, y='YY', *, z: str = 'ZZ', rest={})>"
      ]
     },
     "execution_count": 1,
     "metadata": {},
     "output_type": "execute_result"
    }
   ],
   "source": [
    "from meshed import DAG\n",
    "from i2 import Sig\n",
    "\n",
    "\n",
    "def foo(w, /, x: float, y=\"YY\", *, z: str = \"ZZ\", **rest):\n",
    "        pass\n",
    "\n",
    "\n",
    "sig = Sig(foo)\n",
    "d = DAG([foo])\n",
    "#foo.__signature__=sig\n",
    "d.__signature__\n"
   ]
  },
  {
   "cell_type": "code",
   "execution_count": 10,
   "metadata": {},
   "outputs": [
    {
     "data": {
      "text/plain": [
       "DAG(func_nodes=[FuncNode(w,x,y,z,rest -> foo_ -> foo)], name=None)"
      ]
     },
     "execution_count": 10,
     "metadata": {},
     "output_type": "execute_result"
    }
   ],
   "source": [
    "d.__signature__(d)\n",
    "#print(d.__signature__)"
   ]
  },
  {
   "cell_type": "code",
   "execution_count": 11,
   "metadata": {},
   "outputs": [
    {
     "data": {
      "text/plain": [
       "<Signature (w, /, x: float, y='YY', *, z: str = 'ZZ', rest={})>"
      ]
     },
     "execution_count": 11,
     "metadata": {},
     "output_type": "execute_result"
    }
   ],
   "source": [
    "d.__signature__"
   ]
  },
  {
   "cell_type": "code",
   "execution_count": 8,
   "metadata": {},
   "outputs": [
    {
     "data": {
      "text/plain": [
       "<Sig (w, /, x: float, y='YY', *, z: str = 'ZZ', **rest)>"
      ]
     },
     "execution_count": 8,
     "metadata": {},
     "output_type": "execute_result"
    }
   ],
   "source": [
    "import inspect\n",
    "inspect.signature(d)"
   ]
  },
  {
   "cell_type": "code",
   "execution_count": 1,
   "metadata": {},
   "outputs": [
    {
     "ename": "NameError",
     "evalue": "name 'DAG' is not defined",
     "output_type": "error",
     "traceback": [
      "\u001b[0;31m---------------------------------------------------------------------------\u001b[0m",
      "\u001b[0;31mNameError\u001b[0m                                 Traceback (most recent call last)",
      "\u001b[0;32m<ipython-input-1-bb8038205b79>\u001b[0m in \u001b[0;36m<module>\u001b[0;34m\u001b[0m\n\u001b[1;32m      4\u001b[0m \u001b[0;34m\u001b[0m\u001b[0m\n\u001b[1;32m      5\u001b[0m \u001b[0;34m\u001b[0m\u001b[0m\n\u001b[0;32m----> 6\u001b[0;31m \u001b[0mfoo_dag\u001b[0m \u001b[0;34m=\u001b[0m \u001b[0mDAG\u001b[0m\u001b[0;34m(\u001b[0m\u001b[0;34m[\u001b[0m\u001b[0mfoo\u001b[0m\u001b[0;34m]\u001b[0m\u001b[0;34m)\u001b[0m\u001b[0;34m\u001b[0m\u001b[0;34m\u001b[0m\u001b[0m\n\u001b[0m\u001b[1;32m      7\u001b[0m \u001b[0;32massert\u001b[0m \u001b[0mfoo_dag\u001b[0m\u001b[0;34m(\u001b[0m\u001b[0;36m0\u001b[0m\u001b[0;34m)\u001b[0m \u001b[0;34m==\u001b[0m \u001b[0;36m1\u001b[0m\u001b[0;34m\u001b[0m\u001b[0;34m\u001b[0m\u001b[0m\n\u001b[1;32m      8\u001b[0m \u001b[0mprint\u001b[0m\u001b[0;34m(\u001b[0m\u001b[0mfoo_dag\u001b[0m\u001b[0;34m.\u001b[0m\u001b[0m__signature__\u001b[0m\u001b[0;34m)\u001b[0m\u001b[0;34m\u001b[0m\u001b[0;34m\u001b[0m\u001b[0m\n",
      "\u001b[0;31mNameError\u001b[0m: name 'DAG' is not defined"
     ]
    }
   ],
   "source": [
    "d.__signature__=sig"
   ]
  },
  {
   "cell_type": "code",
   "execution_count": 3,
   "metadata": {},
   "outputs": [
    {
     "data": {
      "text/plain": [
       "['w', 'x', 'y', 'z', 'rest']"
      ]
     },
     "execution_count": 3,
     "metadata": {},
     "output_type": "execute_result"
    }
   ],
   "source": [
    "d.__signature__.names"
   ]
  },
  {
   "cell_type": "code",
   "execution_count": 4,
   "metadata": {},
   "outputs": [],
   "source": [
    "foo.__signature__ = Sig(foo)"
   ]
  },
  {
   "cell_type": "code",
   "execution_count": 5,
   "metadata": {},
   "outputs": [
    {
     "data": {
      "text/plain": [
       "<Sig (w, /, x: float, y='YY', *, z: str = 'ZZ', **rest)>"
      ]
     },
     "execution_count": 5,
     "metadata": {},
     "output_type": "execute_result"
    }
   ],
   "source": [
    "foo.__signature__"
   ]
  },
  {
   "cell_type": "code",
   "execution_count": 6,
   "metadata": {},
   "outputs": [
    {
     "data": {
      "text/plain": [
       "['w', 'x', 'y', 'z', 'rest']"
      ]
     },
     "execution_count": 6,
     "metadata": {},
     "output_type": "execute_result"
    }
   ],
   "source": [
    "foo.__signature__.names"
   ]
  },
  {
   "cell_type": "code",
   "execution_count": 16,
   "metadata": {},
   "outputs": [
    {
     "name": "stdout",
     "output_type": "stream",
     "text": [
      "<class 'i2.signatures.Sig'>\n",
      "(x, y=1)\n"
     ]
    },
    {
     "data": {
      "text/plain": [
       "<Signature (x, y=2)>"
      ]
     },
     "execution_count": 16,
     "metadata": {},
     "output_type": "execute_result"
    }
   ],
   "source": [
    "def foo(x, y=1):\n",
    "    return x + y\n",
    "\n",
    "\n",
    "\n",
    "foo_dag = DAG([foo])\n",
    "assert foo_dag(0) == 1\n",
    "print(foo_dag.__signature__)\n",
    "bar_dag = Sig(lambda x, y=2: None)(foo_dag)  # changes __signature__\n",
    "\n",
    "bar_dag.__signature__\n",
    "# bar_dag.sig = Sig(bar_dag)  # changed it manually\n",
    "#assert str(Sig(bar_dag)) == \"(x, y=2)\"\n",
    "#assert bar_dag(0) == 2  # Correct result after above change in dag._call\n",
    "#assert True"
   ]
  },
  {
   "cell_type": "code",
   "execution_count": 3,
   "metadata": {},
   "outputs": [],
   "source": [
    "from meshed import DAG\n",
    "from i2 import Sig\n",
    "\n",
    "def foo(x, y=1):\n",
    "    return x + y\n",
    "\n",
    "foo_dag = DAG([foo])\n",
    "assert foo_dag(0) == 1\n",
    "bar_dag = Sig(lambda x, y=2: None)(foo_dag)\n",
    "assert str(Sig(bar_dag)) == '(x, y=2)'\n",
    "assert bar_dag(0) == 2 # BUT WE WANT THIS TO BE 2"
   ]
  },
  {
   "cell_type": "markdown",
   "metadata": {},
   "source": [
    "# binding issue 19"
   ]
  },
  {
   "cell_type": "code",
   "execution_count": 32,
   "metadata": {},
   "outputs": [],
   "source": [
    "def foo(a, b):\n",
    "    return a + b\n",
    "\n",
    "def bar(x, y):\n",
    "    return  x * y"
   ]
  },
  {
   "cell_type": "code",
   "execution_count": 33,
   "metadata": {},
   "outputs": [
    {
     "data": {
      "image/svg+xml": "<?xml version=\"1.0\" encoding=\"UTF-8\" standalone=\"no\"?>\n<!DOCTYPE svg PUBLIC \"-//W3C//DTD SVG 1.1//EN\"\n \"http://www.w3.org/Graphics/SVG/1.1/DTD/svg11.dtd\">\n<!-- Generated by graphviz version 2.40.1 (20161225.0304)\n -->\n<!-- Title: %3 Pages: 1 -->\n<svg width=\"170pt\" height=\"260pt\"\n viewBox=\"0.00 0.00 170.00 260.00\" xmlns=\"http://www.w3.org/2000/svg\" xmlns:xlink=\"http://www.w3.org/1999/xlink\">\n<g id=\"graph0\" class=\"graph\" transform=\"scale(1 1) rotate(0) translate(4 256)\">\n<title>%3</title>\n<polygon fill=\"#ffffff\" stroke=\"transparent\" points=\"-4,4 -4,-256 166,-256 166,4 -4,4\"/>\n<!-- bar -->\n<g id=\"node1\" class=\"node\">\n<title>bar</title>\n<text text-anchor=\"middle\" x=\"27\" y=\"-14.3\" font-family=\"Times,serif\" font-size=\"14.00\" fill=\"#000000\">bar</text>\n</g>\n<!-- bar_ -->\n<g id=\"node2\" class=\"node\">\n<title>bar_</title>\n<polygon fill=\"none\" stroke=\"#000000\" points=\"54,-108 0,-108 0,-72 54,-72 54,-108\"/>\n<text text-anchor=\"middle\" x=\"27\" y=\"-86.3\" font-family=\"Times,serif\" font-size=\"14.00\" fill=\"#000000\">bar_</text>\n</g>\n<!-- bar_&#45;&gt;bar -->\n<g id=\"edge1\" class=\"edge\">\n<title>bar_&#45;&gt;bar</title>\n<path fill=\"none\" stroke=\"#000000\" d=\"M27,-71.8314C27,-64.131 27,-54.9743 27,-46.4166\"/>\n<polygon fill=\"#000000\" stroke=\"#000000\" points=\"30.5001,-46.4132 27,-36.4133 23.5001,-46.4133 30.5001,-46.4132\"/>\n</g>\n<!-- x -->\n<g id=\"node3\" class=\"node\">\n<title>x</title>\n<text text-anchor=\"middle\" x=\"27\" y=\"-158.3\" font-family=\"Times,serif\" font-size=\"14.00\" fill=\"#000000\">x</text>\n</g>\n<!-- x&#45;&gt;bar_ -->\n<g id=\"edge2\" class=\"edge\">\n<title>x&#45;&gt;bar_</title>\n<path fill=\"none\" stroke=\"#000000\" d=\"M27,-143.8314C27,-136.131 27,-126.9743 27,-118.4166\"/>\n<polygon fill=\"#000000\" stroke=\"#000000\" points=\"30.5001,-118.4132 27,-108.4133 23.5001,-118.4133 30.5001,-118.4132\"/>\n</g>\n<!-- foo -->\n<g id=\"node4\" class=\"node\">\n<title>foo</title>\n<polygon fill=\"none\" stroke=\"#000000\" points=\"126,-180 72,-180 72,-144 126,-144 126,-180\"/>\n<text text-anchor=\"middle\" x=\"99\" y=\"-158.3\" font-family=\"Times,serif\" font-size=\"14.00\" fill=\"#000000\">foo</text>\n</g>\n<!-- foo&#45;&gt;bar_ -->\n<g id=\"edge3\" class=\"edge\">\n<title>foo&#45;&gt;bar_</title>\n<path fill=\"none\" stroke=\"#000000\" d=\"M80.8314,-143.8314C72.2848,-135.2848 61.9443,-124.9443 52.6198,-115.6198\"/>\n<polygon fill=\"#000000\" stroke=\"#000000\" points=\"54.9592,-113.0095 45.4133,-108.4133 50.0095,-117.9592 54.9592,-113.0095\"/>\n</g>\n<!-- _foo -->\n<g id=\"node5\" class=\"node\">\n<title>_foo</title>\n<text text-anchor=\"middle\" x=\"99\" y=\"-86.3\" font-family=\"Times,serif\" font-size=\"14.00\" fill=\"#000000\">_foo</text>\n</g>\n<!-- foo&#45;&gt;_foo -->\n<g id=\"edge4\" class=\"edge\">\n<title>foo&#45;&gt;_foo</title>\n<path fill=\"none\" stroke=\"#000000\" d=\"M99,-143.8314C99,-136.131 99,-126.9743 99,-118.4166\"/>\n<polygon fill=\"#000000\" stroke=\"#000000\" points=\"102.5001,-118.4132 99,-108.4133 95.5001,-118.4133 102.5001,-118.4132\"/>\n</g>\n<!-- a -->\n<g id=\"node6\" class=\"node\">\n<title>a</title>\n<text text-anchor=\"middle\" x=\"63\" y=\"-230.3\" font-family=\"Times,serif\" font-size=\"14.00\" fill=\"#000000\">a</text>\n</g>\n<!-- a&#45;&gt;foo -->\n<g id=\"edge5\" class=\"edge\">\n<title>a&#45;&gt;foo</title>\n<path fill=\"none\" stroke=\"#000000\" d=\"M72.0843,-215.8314C76.0615,-207.8771 80.8155,-198.369 85.2139,-189.5723\"/>\n<polygon fill=\"#000000\" stroke=\"#000000\" points=\"88.4517,-190.9228 89.7934,-180.4133 82.1907,-187.7923 88.4517,-190.9228\"/>\n</g>\n<!-- b -->\n<g id=\"node7\" class=\"node\">\n<title>b</title>\n<text text-anchor=\"middle\" x=\"135\" y=\"-230.3\" font-family=\"Times,serif\" font-size=\"14.00\" fill=\"#000000\">b</text>\n</g>\n<!-- b&#45;&gt;foo -->\n<g id=\"edge6\" class=\"edge\">\n<title>b&#45;&gt;foo</title>\n<path fill=\"none\" stroke=\"#000000\" d=\"M125.9157,-215.8314C121.9385,-207.8771 117.1845,-198.369 112.7861,-189.5723\"/>\n<polygon fill=\"#000000\" stroke=\"#000000\" points=\"115.8093,-187.7923 108.2066,-180.4133 109.5483,-190.9228 115.8093,-187.7923\"/>\n</g>\n</g>\n</svg>\n",
      "text/plain": [
       "<graphviz.dot.Digraph at 0x7ff419332970>"
      ]
     },
     "execution_count": 33,
     "metadata": {},
     "output_type": "execute_result"
    }
   ],
   "source": [
    "from meshed import DAG, FuncNode\n",
    "from i2 import Sig\n",
    "\n",
    "dag = DAG([\n",
    "    FuncNode(foo, name='foo'),\n",
    "    FuncNode(bar, bind={'y': 'foo'})\n",
    "])\n",
    "#assert str(Sig(dag)) == '(foo, x, a, b)'  # ?!?!\n",
    "#assert dag(9,1,2,3) == (9, 5) \n",
    "dag.dot_digraph()"
   ]
  },
  {
   "cell_type": "code",
   "execution_count": 44,
   "metadata": {},
   "outputs": [
    {
     "data": {
      "text/plain": [
       "['bar_', 'foo']"
      ]
     },
     "execution_count": 44,
     "metadata": {},
     "output_type": "execute_result"
    }
   ],
   "source": [
    "[node.name for node in dag.func_nodes]"
   ]
  },
  {
   "cell_type": "code",
   "execution_count": 49,
   "metadata": {},
   "outputs": [
    {
     "data": {
      "text/plain": [
       "{'y': 'foo', 'x': 'x'}"
      ]
     },
     "execution_count": 49,
     "metadata": {},
     "output_type": "execute_result"
    }
   ],
   "source": [
    "def bindings_cleaner(self):\n",
    "    funcnodes_names =  [node.name for node in self.func_nodes]\n",
    "    func = lambda v: self._func_node_for[v].out\n",
    "    cond = lambda k,v: v in funcnodes_names\n",
    "    for node in self.func_nodes:\n",
    "        \n",
    "        node.bind = change_value_on_cond(d, cond, func)\n",
    "\n",
    "        \n",
    "    \n",
    "def change_value_on_cond(d, cond, func):\n",
    "    for k,v in d.items():\n",
    "        if cond(k,v):\n",
    "            d[k]=func(v)\n",
    "    return d\n",
    "\n",
    "\n",
    "\n",
    "\n",
    "FuncNode(bar, bind={'y': 'foo'}).bind\n"
   ]
  },
  {
   "cell_type": "code",
   "execution_count": 51,
   "metadata": {},
   "outputs": [],
   "source": [
    "d = {'a':12, 'b':23}\n",
    "cond = lambda k,v: v>20\n",
    "func = lambda x:2*x\n",
    "dd = change_value_on_cond(d, cond, func)"
   ]
  },
  {
   "cell_type": "code",
   "execution_count": 52,
   "metadata": {},
   "outputs": [
    {
     "data": {
      "text/plain": [
       "{'a': 12, 'b': 46}"
      ]
     },
     "execution_count": 52,
     "metadata": {},
     "output_type": "execute_result"
    }
   ],
   "source": [
    "dd"
   ]
  },
  {
   "cell_type": "code",
   "execution_count": 42,
   "metadata": {},
   "outputs": [
    {
     "data": {
      "text/plain": [
       "'foo'"
      ]
     },
     "execution_count": 42,
     "metadata": {},
     "output_type": "execute_result"
    }
   ],
   "source": [
    "FuncNode(foo, name='foo').name"
   ]
  },
  {
   "cell_type": "code",
   "execution_count": 47,
   "metadata": {},
   "outputs": [
    {
     "data": {
      "text/plain": [
       "FuncNode(a,b -> foo -> _foo)"
      ]
     },
     "execution_count": 47,
     "metadata": {},
     "output_type": "execute_result"
    }
   ],
   "source": [
    "nn = dag._func_node_for[foo]\n",
    "nn"
   ]
  },
  {
   "cell_type": "code",
   "execution_count": 39,
   "metadata": {},
   "outputs": [
    {
     "data": {
      "text/plain": [
       "'_foo'"
      ]
     },
     "execution_count": 39,
     "metadata": {},
     "output_type": "execute_result"
    }
   ],
   "source": [
    "dag._func_node_for['foo'].out"
   ]
  },
  {
   "cell_type": "code",
   "execution_count": 16,
   "metadata": {},
   "outputs": [],
   "source": [
    "from qo import ddir"
   ]
  },
  {
   "cell_type": "code",
   "execution_count": 38,
   "metadata": {},
   "outputs": [
    {
     "data": {
      "text/plain": [
       "['bind',\n",
       " 'call_on_scope',\n",
       " 'extractor',\n",
       " 'from_dict',\n",
       " 'func',\n",
       " 'func_label',\n",
       " 'has_as_instance',\n",
       " 'name',\n",
       " 'names_maker',\n",
       " 'node_validator',\n",
       " 'out',\n",
       " 'sig',\n",
       " 'synopsis_string',\n",
       " 'to_dict']"
      ]
     },
     "execution_count": 38,
     "metadata": {},
     "output_type": "execute_result"
    }
   ],
   "source": [
    "ddir(nn)"
   ]
  },
  {
   "cell_type": "code",
   "execution_count": 23,
   "metadata": {},
   "outputs": [
    {
     "data": {
      "text/plain": [
       "{'func_nodes': [FuncNode(y=foo,x -> bar_ -> bar),\n",
       "  FuncNode(a,b -> foo -> _foo)],\n",
       " 'cache_last_scope': True,\n",
       " 'parameter_merge': <function meshed.util.conservative_parameter_merge(params, same_kind=True, same_default=True, same_annotation=True)>,\n",
       " 'new_scope': dict,\n",
       " 'name': None,\n",
       " 'extract_output_from_scope': <function meshed.util.extract_values(d: dict, keys: Iterable)>,\n",
       " 'graph': {'a': [FuncNode(a,b -> foo -> _foo)],\n",
       "  'b': [FuncNode(a,b -> foo -> _foo)],\n",
       "  FuncNode(a,b -> foo -> _foo): ['_foo'],\n",
       "  'foo': [FuncNode(y=foo,x -> bar_ -> bar)],\n",
       "  'x': [FuncNode(y=foo,x -> bar_ -> bar)],\n",
       "  FuncNode(y=foo,x -> bar_ -> bar): ['bar']},\n",
       " 'nodes': ['x',\n",
       "  'foo',\n",
       "  FuncNode(y=foo,x -> bar_ -> bar),\n",
       "  'bar',\n",
       "  'b',\n",
       "  'a',\n",
       "  FuncNode(a,b -> foo -> _foo),\n",
       "  '_foo'],\n",
       " 'var_nodes': ['x', 'foo', 'bar', 'b', 'a', '_foo'],\n",
       " '__signature__': <Sig (foo, x, a, b)>,\n",
       " 'roots': ('foo', 'x', 'a', 'b'),\n",
       " 'leafs': ('bar', '_foo'),\n",
       " 'last_scope': None}"
      ]
     },
     "execution_count": 23,
     "metadata": {},
     "output_type": "execute_result"
    }
   ],
   "source": [
    "vars(dag)"
   ]
  },
  {
   "cell_type": "code",
   "execution_count": 11,
   "metadata": {},
   "outputs": [],
   "source": [
    "node =     FuncNode(foo, name='foo')"
   ]
  },
  {
   "cell_type": "code",
   "execution_count": 12,
   "metadata": {},
   "outputs": [
    {
     "data": {
      "text/plain": [
       "{'a': 'a', 'b': 'b'}"
      ]
     },
     "execution_count": 12,
     "metadata": {},
     "output_type": "execute_result"
    }
   ],
   "source": [
    "node.bind"
   ]
  },
  {
   "cell_type": "code",
   "execution_count": 13,
   "metadata": {},
   "outputs": [
    {
     "data": {
      "text/plain": [
       "'_foo'"
      ]
     },
     "execution_count": 13,
     "metadata": {},
     "output_type": "execute_result"
    }
   ],
   "source": [
    "node.out"
   ]
  },
  {
   "cell_type": "code",
   "execution_count": 14,
   "metadata": {},
   "outputs": [
    {
     "data": {
      "text/plain": [
       "'(a, b, x)'"
      ]
     },
     "execution_count": 14,
     "metadata": {},
     "output_type": "execute_result"
    }
   ],
   "source": [
    "str(Sig(dag))"
   ]
  },
  {
   "cell_type": "code",
   "execution_count": 30,
   "metadata": {},
   "outputs": [
    {
     "data": {
      "text/plain": [
       "FuncNode(x=foo_output -> B -> b)"
      ]
     },
     "execution_count": 30,
     "metadata": {},
     "output_type": "execute_result"
    }
   ],
   "source": [
    "def foo(x): return x + 1\n",
    "def bar(x): return x * 2\n",
    "dag = DAG([\n",
    "             FuncNode(foo, out='foo_output'),\n",
    "             FuncNode(bar, name='B', out='b', bind={'x': 'foo_output'}),\n",
    "         ])\n",
    "\n",
    "        #A ``FuncNode`` instance is indexed by both its identifier (``.name``) as well as\n",
    "        #the identifier of it's output (``.out``):\n",
    "\n",
    "dag._func_node_for['foo_output']\n",
    "#        FuncNode(x -> foo -> foo_output)\n",
    "dag._func_node_for['foo']\n",
    "#        FuncNode(x -> foo -> foo_output)\n",
    "dag._func_node_for['b']\n",
    "#        FuncNode(x=foo_output -> B -> b)\n",
    "dag._func_node_for['B']\n",
    "#        FuncNode(x=foo_output -> B -> b)"
   ]
  },
  {
   "cell_type": "markdown",
   "metadata": {},
   "source": [
    "# Duplicate names error"
   ]
  },
  {
   "cell_type": "code",
   "execution_count": 13,
   "metadata": {},
   "outputs": [
    {
     "name": "stdout",
     "output_type": "stream",
     "text": [
      "f.name='foo_', ff.name='foo___2'\n",
      "f.func_label='foo_', ff.func_label='foo_'\n"
     ]
    }
   ],
   "source": [
    "from meshed import DAG, FuncNode\n",
    "\n",
    "def foo(x):\n",
    "    return x + 1\n",
    "\n",
    "t = foo\n",
    "\n",
    "def foo(y):\n",
    "    return y * 2\n",
    "\n",
    "tt = foo\n",
    "\n",
    "d = DAG([t, tt])\n",
    "d.func_nodes\n",
    "f, ff = d.func_nodes\n",
    "print(f'{f.name=}, {ff.name=}')\n",
    "print(f'{f.func_label=}, {ff.func_label=}')"
   ]
  },
  {
   "cell_type": "code",
   "execution_count": 18,
   "metadata": {},
   "outputs": [
    {
     "data": {
      "text/plain": [
       "<Sig (y, x)>"
      ]
     },
     "execution_count": 18,
     "metadata": {},
     "output_type": "execute_result"
    }
   ],
   "source": [
    "from i2 import Sig\n",
    "Sig(d)"
   ]
  },
  {
   "cell_type": "code",
   "execution_count": 14,
   "metadata": {},
   "outputs": [],
   "source": [
    "it=d.debugger()"
   ]
  },
  {
   "cell_type": "code",
   "execution_count": 16,
   "metadata": {},
   "outputs": [
    {
     "name": "stdout",
     "output_type": "stream",
     "text": [
      "0 --------------------------------------------------------------\n",
      "\tfunc_node=FuncNode(y -> foo_ -> foo)\n",
      "\tscope={'y': 3, 'x': 4, 'foo': 6}\n",
      "1 --------------------------------------------------------------\n",
      "\tfunc_node=FuncNode(x -> foo___2 -> foo)\n",
      "\tscope={'y': 3, 'x': 4, 'foo': 5}\n"
     ]
    },
    {
     "data": {
      "text/plain": [
       "[6, 5]"
      ]
     },
     "execution_count": 16,
     "metadata": {},
     "output_type": "execute_result"
    }
   ],
   "source": [
    "g=it(3,4)\n",
    "list(g)"
   ]
  },
  {
   "cell_type": "code",
   "execution_count": 19,
   "metadata": {},
   "outputs": [
    {
     "ename": "ValueError",
     "evalue": "Some of your node names and/or outs where used more than once. They shouldn't. These are the names I find offensive: ['foo']",
     "output_type": "error",
     "traceback": [
      "\u001b[0;31m---------------------------------------------------------------------------\u001b[0m",
      "\u001b[0;31mValueError\u001b[0m                                Traceback (most recent call last)",
      "\u001b[1;32m/Users/sylvain/Desktop/dev/otosense/meshed/meshed/scrap/notebook.ipynb Cell 35\u001b[0m in \u001b[0;36m<cell line: 1>\u001b[0;34m()\u001b[0m\n\u001b[0;32m----> <a href='vscode-notebook-cell:/Users/sylvain/Desktop/dev/otosense/meshed/meshed/scrap/notebook.ipynb#Y104sZmlsZQ%3D%3D?line=0'>1</a>\u001b[0m d\u001b[39m.\u001b[39;49mdot_digraph()\n",
      "File \u001b[0;32m~/Desktop/dev/otosense/meshed/meshed/dag.py:1306\u001b[0m, in \u001b[0;36mDAG.dot_digraph\u001b[0;34m(self, *args, **kwargs)\u001b[0m\n\u001b[1;32m   1301\u001b[0m     \u001b[39mraise\u001b[39;00m \u001b[39mModuleNotFoundError\u001b[39;00m(\n\u001b[1;32m   1302\u001b[0m         \u001b[39mf\u001b[39m\u001b[39m'\u001b[39m\u001b[39m{\u001b[39;00me\u001b[39m}\u001b[39;00m\u001b[39m\\n\u001b[39;00m\u001b[39mYou may not have graphviz installed. \u001b[39m\u001b[39m'\u001b[39m\n\u001b[1;32m   1303\u001b[0m         \u001b[39mf\u001b[39m\u001b[39m'\u001b[39m\u001b[39mSee https://pypi.org/project/graphviz/.\u001b[39m\u001b[39m'\u001b[39m\n\u001b[1;32m   1304\u001b[0m     )\n\u001b[1;32m   1305\u001b[0m \u001b[39m# Note: Since graphviz 0.18, need to have a newline in body lines!\u001b[39;00m\n\u001b[0;32m-> 1306\u001b[0m body \u001b[39m=\u001b[39m \u001b[39mlist\u001b[39;49m(\u001b[39mmap\u001b[39;49m(_add_new_line_if_none, \u001b[39mself\u001b[39;49m\u001b[39m.\u001b[39;49mdot_digraph_body(\u001b[39m*\u001b[39;49margs, \u001b[39m*\u001b[39;49m\u001b[39m*\u001b[39;49mkwargs)))\n\u001b[1;32m   1307\u001b[0m \u001b[39mreturn\u001b[39;00m graphviz\u001b[39m.\u001b[39mDigraph(body\u001b[39m=\u001b[39mbody)\n",
      "File \u001b[0;32m~/Desktop/dev/otosense/meshed/meshed/dag.py:1285\u001b[0m, in \u001b[0;36mDAG.dot_digraph_body\u001b[0;34m(self, start_lines, end_lines, vnode_shape, fnode_shape, func_display)\u001b[0m\n\u001b[1;32m   1281\u001b[0m     end_lines \u001b[39m=\u001b[39m end_lines\u001b[39m.\u001b[39msplit()\n\u001b[1;32m   1282\u001b[0m kwargs \u001b[39m=\u001b[39m \u001b[39mdict\u001b[39m(\n\u001b[1;32m   1283\u001b[0m     vnode_shape\u001b[39m=\u001b[39mvnode_shape, fnode_shape\u001b[39m=\u001b[39mfnode_shape, func_display\u001b[39m=\u001b[39mfunc_display\n\u001b[1;32m   1284\u001b[0m )\n\u001b[0;32m-> 1285\u001b[0m \u001b[39myield from\u001b[39;00m dot_lines_of_func_nodes(\n\u001b[1;32m   1286\u001b[0m     \u001b[39mself\u001b[39m\u001b[39m.\u001b[39mfunc_nodes, start_lines\u001b[39m=\u001b[39mstart_lines, end_lines\u001b[39m=\u001b[39mend_lines, \u001b[39m*\u001b[39m\u001b[39m*\u001b[39mkwargs\n\u001b[1;32m   1287\u001b[0m )\n",
      "File \u001b[0;32m~/Desktop/dev/otosense/meshed/meshed/dag.py:1465\u001b[0m, in \u001b[0;36mdot_lines_of_func_nodes\u001b[0;34m(func_nodes, start_lines, end_lines, **kwargs)\u001b[0m\n\u001b[1;32m   1382\u001b[0m \u001b[39mr\u001b[39m\u001b[39m\"\"\"Got lines generator for the graphviz.DiGraph(body=list(...))\u001b[39;00m\n\u001b[1;32m   1383\u001b[0m \n\u001b[1;32m   1384\u001b[0m \u001b[39m>>> def add(a, b=1):\u001b[39;00m\n\u001b[0;32m   (...)\u001b[0m\n\u001b[1;32m   1462\u001b[0m \n\u001b[1;32m   1463\u001b[0m \u001b[39m\"\"\"\u001b[39;00m\n\u001b[1;32m   1464\u001b[0m \u001b[39myield from\u001b[39;00m start_lines\n\u001b[0;32m-> 1465\u001b[0m validate_that_func_node_names_are_sane(func_nodes)\n\u001b[1;32m   1466\u001b[0m \u001b[39mfor\u001b[39;00m func_node \u001b[39min\u001b[39;00m func_nodes:\n\u001b[1;32m   1467\u001b[0m     \u001b[39myield from\u001b[39;00m dot_lines_of_func_node(func_node, \u001b[39m*\u001b[39m\u001b[39m*\u001b[39mkwargs)\n",
      "File \u001b[0;32m~/Desktop/dev/otosense/meshed/meshed/base.py:358\u001b[0m, in \u001b[0;36mvalidate_that_func_node_names_are_sane\u001b[0;34m(func_nodes)\u001b[0m\n\u001b[1;32m    356\u001b[0m c \u001b[39m=\u001b[39m Counter(node_names \u001b[39m+\u001b[39m outs)\n\u001b[1;32m    357\u001b[0m offending_names \u001b[39m=\u001b[39m [name \u001b[39mfor\u001b[39;00m name, count \u001b[39min\u001b[39;00m c\u001b[39m.\u001b[39mitems() \u001b[39mif\u001b[39;00m count \u001b[39m>\u001b[39m \u001b[39m1\u001b[39m]\n\u001b[0;32m--> 358\u001b[0m \u001b[39mraise\u001b[39;00m \u001b[39mValueError\u001b[39;00m(\n\u001b[1;32m    359\u001b[0m     \u001b[39mf\u001b[39m\u001b[39m'\u001b[39m\u001b[39mSome of your node names and/or outs where used more than once. \u001b[39m\u001b[39m'\u001b[39m\n\u001b[1;32m    360\u001b[0m     \u001b[39mf\u001b[39m\u001b[39m\"\u001b[39m\u001b[39mThey shouldn\u001b[39m\u001b[39m'\u001b[39m\u001b[39mt. These are the names I find offensive: \u001b[39m\u001b[39m{\u001b[39;00moffending_names\u001b[39m}\u001b[39;00m\u001b[39m\"\u001b[39m\n\u001b[1;32m    361\u001b[0m )\n",
      "\u001b[0;31mValueError\u001b[0m: Some of your node names and/or outs where used more than once. They shouldn't. These are the names I find offensive: ['foo']"
     ]
    }
   ],
   "source": [
    "d.dot_digraph()"
   ]
  },
  {
   "cell_type": "code",
   "execution_count": null,
   "metadata": {},
   "outputs": [],
   "source": []
  }
 ],
 "metadata": {
  "interpreter": {
   "hash": "1a569799154504b406baf5195ac89fceebc6fb1ed8aa567618566bf3d18c8582"
  },
  "kernelspec": {
   "display_name": "Python 3.8.11 ('otopy38')",
   "language": "python",
   "name": "python3"
  },
  "language_info": {
   "codemirror_mode": {
    "name": "ipython",
    "version": 3
   },
   "file_extension": ".py",
   "mimetype": "text/x-python",
   "name": "python",
   "nbconvert_exporter": "python",
   "pygments_lexer": "ipython3",
   "version": "3.8.11"
  },
  "orig_nbformat": 4
 },
 "nbformat": 4,
 "nbformat_minor": 2
}
