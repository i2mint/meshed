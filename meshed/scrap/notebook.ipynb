{
 "cells": [
  {
   "cell_type": "code",
   "execution_count": 1,
   "metadata": {},
   "outputs": [
    {
     "data": {
      "text/plain": [
       "<Sig (w, /, x: float, y='YY', *, z: str = 'ZZ', rest={})>"
      ]
     },
     "execution_count": 1,
     "metadata": {},
     "output_type": "execute_result"
    }
   ],
   "source": [
    "from meshed import DAG\n",
    "from i2 import Sig\n",
    "\n",
    "\n",
    "def foo(w, /, x: float, y=\"YY\", *, z: str = \"ZZ\", **rest):\n",
    "        pass\n",
    "\n",
    "\n",
    "sig = Sig(foo)\n",
    "d = DAG([foo])\n",
    "#foo.__signature__=sig\n",
    "d.__signature__\n"
   ]
  },
  {
   "cell_type": "code",
   "execution_count": 10,
   "metadata": {},
   "outputs": [
    {
     "data": {
      "text/plain": [
       "DAG(func_nodes=[FuncNode(w,x,y,z,rest -> foo_ -> foo)], name=None)"
      ]
     },
     "execution_count": 10,
     "metadata": {},
     "output_type": "execute_result"
    }
   ],
   "source": [
    "d.__signature__(d)\n",
    "#print(d.__signature__)"
   ]
  },
  {
   "cell_type": "code",
   "execution_count": 11,
   "metadata": {},
   "outputs": [
    {
     "data": {
      "text/plain": [
       "<Signature (w, /, x: float, y='YY', *, z: str = 'ZZ', rest={})>"
      ]
     },
     "execution_count": 11,
     "metadata": {},
     "output_type": "execute_result"
    }
   ],
   "source": [
    "d.__signature__"
   ]
  },
  {
   "cell_type": "code",
   "execution_count": 8,
   "metadata": {},
   "outputs": [
    {
     "data": {
      "text/plain": [
       "<Sig (w, /, x: float, y='YY', *, z: str = 'ZZ', **rest)>"
      ]
     },
     "execution_count": 8,
     "metadata": {},
     "output_type": "execute_result"
    }
   ],
   "source": [
    "import inspect\n",
    "inspect.signature(d)"
   ]
  },
  {
   "cell_type": "code",
   "execution_count": 1,
   "metadata": {},
   "outputs": [
    {
     "ename": "NameError",
     "evalue": "name 'DAG' is not defined",
     "output_type": "error",
     "traceback": [
      "\u001b[0;31m---------------------------------------------------------------------------\u001b[0m",
      "\u001b[0;31mNameError\u001b[0m                                 Traceback (most recent call last)",
      "\u001b[0;32m<ipython-input-1-bb8038205b79>\u001b[0m in \u001b[0;36m<module>\u001b[0;34m\u001b[0m\n\u001b[1;32m      4\u001b[0m \u001b[0;34m\u001b[0m\u001b[0m\n\u001b[1;32m      5\u001b[0m \u001b[0;34m\u001b[0m\u001b[0m\n\u001b[0;32m----> 6\u001b[0;31m \u001b[0mfoo_dag\u001b[0m \u001b[0;34m=\u001b[0m \u001b[0mDAG\u001b[0m\u001b[0;34m(\u001b[0m\u001b[0;34m[\u001b[0m\u001b[0mfoo\u001b[0m\u001b[0;34m]\u001b[0m\u001b[0;34m)\u001b[0m\u001b[0;34m\u001b[0m\u001b[0;34m\u001b[0m\u001b[0m\n\u001b[0m\u001b[1;32m      7\u001b[0m \u001b[0;32massert\u001b[0m \u001b[0mfoo_dag\u001b[0m\u001b[0;34m(\u001b[0m\u001b[0;36m0\u001b[0m\u001b[0;34m)\u001b[0m \u001b[0;34m==\u001b[0m \u001b[0;36m1\u001b[0m\u001b[0;34m\u001b[0m\u001b[0;34m\u001b[0m\u001b[0m\n\u001b[1;32m      8\u001b[0m \u001b[0mprint\u001b[0m\u001b[0;34m(\u001b[0m\u001b[0mfoo_dag\u001b[0m\u001b[0;34m.\u001b[0m\u001b[0m__signature__\u001b[0m\u001b[0;34m)\u001b[0m\u001b[0;34m\u001b[0m\u001b[0;34m\u001b[0m\u001b[0m\n",
      "\u001b[0;31mNameError\u001b[0m: name 'DAG' is not defined"
     ]
    }
   ],
   "source": [
    "d.__signature__=sig"
   ]
  },
  {
   "cell_type": "code",
   "execution_count": 3,
   "metadata": {},
   "outputs": [
    {
     "data": {
      "text/plain": [
       "['w', 'x', 'y', 'z', 'rest']"
      ]
     },
     "execution_count": 3,
     "metadata": {},
     "output_type": "execute_result"
    }
   ],
   "source": [
    "d.__signature__.names"
   ]
  },
  {
   "cell_type": "code",
   "execution_count": 4,
   "metadata": {},
   "outputs": [],
   "source": [
    "foo.__signature__ = Sig(foo)"
   ]
  },
  {
   "cell_type": "code",
   "execution_count": 5,
   "metadata": {},
   "outputs": [
    {
     "data": {
      "text/plain": [
       "<Sig (w, /, x: float, y='YY', *, z: str = 'ZZ', **rest)>"
      ]
     },
     "execution_count": 5,
     "metadata": {},
     "output_type": "execute_result"
    }
   ],
   "source": [
    "foo.__signature__"
   ]
  },
  {
   "cell_type": "code",
   "execution_count": 6,
   "metadata": {},
   "outputs": [
    {
     "data": {
      "text/plain": [
       "['w', 'x', 'y', 'z', 'rest']"
      ]
     },
     "execution_count": 6,
     "metadata": {},
     "output_type": "execute_result"
    }
   ],
   "source": [
    "foo.__signature__.names"
   ]
  },
  {
   "cell_type": "code",
   "execution_count": 16,
   "metadata": {},
   "outputs": [
    {
     "name": "stdout",
     "output_type": "stream",
     "text": [
      "<class 'i2.signatures.Sig'>\n",
      "(x, y=1)\n"
     ]
    },
    {
     "data": {
      "text/plain": [
       "<Signature (x, y=2)>"
      ]
     },
     "execution_count": 16,
     "metadata": {},
     "output_type": "execute_result"
    }
   ],
   "source": [
    "def foo(x, y=1):\n",
    "    return x + y\n",
    "\n",
    "\n",
    "\n",
    "foo_dag = DAG([foo])\n",
    "assert foo_dag(0) == 1\n",
    "print(foo_dag.__signature__)\n",
    "bar_dag = Sig(lambda x, y=2: None)(foo_dag)  # changes __signature__\n",
    "\n",
    "bar_dag.__signature__\n",
    "# bar_dag.sig = Sig(bar_dag)  # changed it manually\n",
    "#assert str(Sig(bar_dag)) == \"(x, y=2)\"\n",
    "#assert bar_dag(0) == 2  # Correct result after above change in dag._call\n",
    "#assert True"
   ]
  },
  {
   "cell_type": "code",
   "execution_count": 3,
   "metadata": {},
   "outputs": [],
   "source": [
    "from meshed import DAG\n",
    "from i2 import Sig\n",
    "\n",
    "def foo(x, y=1):\n",
    "    return x + y\n",
    "\n",
    "foo_dag = DAG([foo])\n",
    "assert foo_dag(0) == 1\n",
    "bar_dag = Sig(lambda x, y=2: None)(foo_dag)\n",
    "assert str(Sig(bar_dag)) == '(x, y=2)'\n",
    "assert bar_dag(0) == 2 # BUT WE WANT THIS TO BE 2"
   ]
  },
  {
   "cell_type": "markdown",
   "metadata": {},
   "source": [
    "# binding issue 19"
   ]
  },
  {
   "cell_type": "code",
   "execution_count": 32,
   "metadata": {},
   "outputs": [],
   "source": [
    "def foo(a, b):\n",
    "    return a + b\n",
    "\n",
    "def bar(x, y):\n",
    "    return  x * y"
   ]
  },
  {
   "cell_type": "code",
   "execution_count": 33,
   "metadata": {},
   "outputs": [
    {
     "data": {
      "image/svg+xml": "<?xml version=\"1.0\" encoding=\"UTF-8\" standalone=\"no\"?>\n<!DOCTYPE svg PUBLIC \"-//W3C//DTD SVG 1.1//EN\"\n \"http://www.w3.org/Graphics/SVG/1.1/DTD/svg11.dtd\">\n<!-- Generated by graphviz version 2.40.1 (20161225.0304)\n -->\n<!-- Title: %3 Pages: 1 -->\n<svg width=\"170pt\" height=\"260pt\"\n viewBox=\"0.00 0.00 170.00 260.00\" xmlns=\"http://www.w3.org/2000/svg\" xmlns:xlink=\"http://www.w3.org/1999/xlink\">\n<g id=\"graph0\" class=\"graph\" transform=\"scale(1 1) rotate(0) translate(4 256)\">\n<title>%3</title>\n<polygon fill=\"#ffffff\" stroke=\"transparent\" points=\"-4,4 -4,-256 166,-256 166,4 -4,4\"/>\n<!-- bar -->\n<g id=\"node1\" class=\"node\">\n<title>bar</title>\n<text text-anchor=\"middle\" x=\"27\" y=\"-14.3\" font-family=\"Times,serif\" font-size=\"14.00\" fill=\"#000000\">bar</text>\n</g>\n<!-- bar_ -->\n<g id=\"node2\" class=\"node\">\n<title>bar_</title>\n<polygon fill=\"none\" stroke=\"#000000\" points=\"54,-108 0,-108 0,-72 54,-72 54,-108\"/>\n<text text-anchor=\"middle\" x=\"27\" y=\"-86.3\" font-family=\"Times,serif\" font-size=\"14.00\" fill=\"#000000\">bar_</text>\n</g>\n<!-- bar_&#45;&gt;bar -->\n<g id=\"edge1\" class=\"edge\">\n<title>bar_&#45;&gt;bar</title>\n<path fill=\"none\" stroke=\"#000000\" d=\"M27,-71.8314C27,-64.131 27,-54.9743 27,-46.4166\"/>\n<polygon fill=\"#000000\" stroke=\"#000000\" points=\"30.5001,-46.4132 27,-36.4133 23.5001,-46.4133 30.5001,-46.4132\"/>\n</g>\n<!-- x -->\n<g id=\"node3\" class=\"node\">\n<title>x</title>\n<text text-anchor=\"middle\" x=\"27\" y=\"-158.3\" font-family=\"Times,serif\" font-size=\"14.00\" fill=\"#000000\">x</text>\n</g>\n<!-- x&#45;&gt;bar_ -->\n<g id=\"edge2\" class=\"edge\">\n<title>x&#45;&gt;bar_</title>\n<path fill=\"none\" stroke=\"#000000\" d=\"M27,-143.8314C27,-136.131 27,-126.9743 27,-118.4166\"/>\n<polygon fill=\"#000000\" stroke=\"#000000\" points=\"30.5001,-118.4132 27,-108.4133 23.5001,-118.4133 30.5001,-118.4132\"/>\n</g>\n<!-- foo -->\n<g id=\"node4\" class=\"node\">\n<title>foo</title>\n<polygon fill=\"none\" stroke=\"#000000\" points=\"126,-180 72,-180 72,-144 126,-144 126,-180\"/>\n<text text-anchor=\"middle\" x=\"99\" y=\"-158.3\" font-family=\"Times,serif\" font-size=\"14.00\" fill=\"#000000\">foo</text>\n</g>\n<!-- foo&#45;&gt;bar_ -->\n<g id=\"edge3\" class=\"edge\">\n<title>foo&#45;&gt;bar_</title>\n<path fill=\"none\" stroke=\"#000000\" d=\"M80.8314,-143.8314C72.2848,-135.2848 61.9443,-124.9443 52.6198,-115.6198\"/>\n<polygon fill=\"#000000\" stroke=\"#000000\" points=\"54.9592,-113.0095 45.4133,-108.4133 50.0095,-117.9592 54.9592,-113.0095\"/>\n</g>\n<!-- _foo -->\n<g id=\"node5\" class=\"node\">\n<title>_foo</title>\n<text text-anchor=\"middle\" x=\"99\" y=\"-86.3\" font-family=\"Times,serif\" font-size=\"14.00\" fill=\"#000000\">_foo</text>\n</g>\n<!-- foo&#45;&gt;_foo -->\n<g id=\"edge4\" class=\"edge\">\n<title>foo&#45;&gt;_foo</title>\n<path fill=\"none\" stroke=\"#000000\" d=\"M99,-143.8314C99,-136.131 99,-126.9743 99,-118.4166\"/>\n<polygon fill=\"#000000\" stroke=\"#000000\" points=\"102.5001,-118.4132 99,-108.4133 95.5001,-118.4133 102.5001,-118.4132\"/>\n</g>\n<!-- a -->\n<g id=\"node6\" class=\"node\">\n<title>a</title>\n<text text-anchor=\"middle\" x=\"63\" y=\"-230.3\" font-family=\"Times,serif\" font-size=\"14.00\" fill=\"#000000\">a</text>\n</g>\n<!-- a&#45;&gt;foo -->\n<g id=\"edge5\" class=\"edge\">\n<title>a&#45;&gt;foo</title>\n<path fill=\"none\" stroke=\"#000000\" d=\"M72.0843,-215.8314C76.0615,-207.8771 80.8155,-198.369 85.2139,-189.5723\"/>\n<polygon fill=\"#000000\" stroke=\"#000000\" points=\"88.4517,-190.9228 89.7934,-180.4133 82.1907,-187.7923 88.4517,-190.9228\"/>\n</g>\n<!-- b -->\n<g id=\"node7\" class=\"node\">\n<title>b</title>\n<text text-anchor=\"middle\" x=\"135\" y=\"-230.3\" font-family=\"Times,serif\" font-size=\"14.00\" fill=\"#000000\">b</text>\n</g>\n<!-- b&#45;&gt;foo -->\n<g id=\"edge6\" class=\"edge\">\n<title>b&#45;&gt;foo</title>\n<path fill=\"none\" stroke=\"#000000\" d=\"M125.9157,-215.8314C121.9385,-207.8771 117.1845,-198.369 112.7861,-189.5723\"/>\n<polygon fill=\"#000000\" stroke=\"#000000\" points=\"115.8093,-187.7923 108.2066,-180.4133 109.5483,-190.9228 115.8093,-187.7923\"/>\n</g>\n</g>\n</svg>\n",
      "text/plain": [
       "<graphviz.dot.Digraph at 0x7ff419332970>"
      ]
     },
     "execution_count": 33,
     "metadata": {},
     "output_type": "execute_result"
    }
   ],
   "source": [
    "from meshed import DAG, FuncNode\n",
    "from i2 import Sig\n",
    "\n",
    "dag = DAG([\n",
    "    FuncNode(foo, name='foo'),\n",
    "    FuncNode(bar, bind={'y': 'foo'})\n",
    "])\n",
    "#assert str(Sig(dag)) == '(foo, x, a, b)'  # ?!?!\n",
    "#assert dag(9,1,2,3) == (9, 5) \n",
    "dag.dot_digraph()"
   ]
  },
  {
   "cell_type": "code",
   "execution_count": 44,
   "metadata": {},
   "outputs": [
    {
     "data": {
      "text/plain": [
       "['bar_', 'foo']"
      ]
     },
     "execution_count": 44,
     "metadata": {},
     "output_type": "execute_result"
    }
   ],
   "source": [
    "[node.name for node in dag.func_nodes]"
   ]
  },
  {
   "cell_type": "code",
   "execution_count": 49,
   "metadata": {},
   "outputs": [
    {
     "data": {
      "text/plain": [
       "{'y': 'foo', 'x': 'x'}"
      ]
     },
     "execution_count": 49,
     "metadata": {},
     "output_type": "execute_result"
    }
   ],
   "source": [
    "def bindings_cleaner(self):\n",
    "    funcnodes_names =  [node.name for node in self.func_nodes]\n",
    "    func = lambda v: self._func_node_for[v].out\n",
    "    cond = lambda k,v: v in funcnodes_names\n",
    "    for node in self.func_nodes:\n",
    "        \n",
    "        node.bind = change_value_on_cond(d, cond, func)\n",
    "\n",
    "        \n",
    "    \n",
    "def change_value_on_cond(d, cond, func):\n",
    "    for k,v in d.items():\n",
    "        if cond(k,v):\n",
    "            d[k]=func(v)\n",
    "    return d\n",
    "\n",
    "\n",
    "\n",
    "\n",
    "FuncNode(bar, bind={'y': 'foo'}).bind\n"
   ]
  },
  {
   "cell_type": "code",
   "execution_count": 51,
   "metadata": {},
   "outputs": [],
   "source": [
    "d = {'a':12, 'b':23}\n",
    "cond = lambda k,v: v>20\n",
    "func = lambda x:2*x\n",
    "dd = change_value_on_cond(d, cond, func)"
   ]
  },
  {
   "cell_type": "code",
   "execution_count": 52,
   "metadata": {},
   "outputs": [
    {
     "data": {
      "text/plain": [
       "{'a': 12, 'b': 46}"
      ]
     },
     "execution_count": 52,
     "metadata": {},
     "output_type": "execute_result"
    }
   ],
   "source": [
    "dd"
   ]
  },
  {
   "cell_type": "code",
   "execution_count": 42,
   "metadata": {},
   "outputs": [
    {
     "data": {
      "text/plain": [
       "'foo'"
      ]
     },
     "execution_count": 42,
     "metadata": {},
     "output_type": "execute_result"
    }
   ],
   "source": [
    "FuncNode(foo, name='foo').name"
   ]
  },
  {
   "cell_type": "code",
   "execution_count": 47,
   "metadata": {},
   "outputs": [
    {
     "data": {
      "text/plain": [
       "FuncNode(a,b -> foo -> _foo)"
      ]
     },
     "execution_count": 47,
     "metadata": {},
     "output_type": "execute_result"
    }
   ],
   "source": [
    "nn = dag._func_node_for[foo]\n",
    "nn"
   ]
  },
  {
   "cell_type": "code",
   "execution_count": 39,
   "metadata": {},
   "outputs": [
    {
     "data": {
      "text/plain": [
       "'_foo'"
      ]
     },
     "execution_count": 39,
     "metadata": {},
     "output_type": "execute_result"
    }
   ],
   "source": [
    "dag._func_node_for['foo'].out"
   ]
  },
  {
   "cell_type": "code",
   "execution_count": 16,
   "metadata": {},
   "outputs": [],
   "source": [
    "from qo import ddir"
   ]
  },
  {
   "cell_type": "code",
   "execution_count": 38,
   "metadata": {},
   "outputs": [
    {
     "data": {
      "text/plain": [
       "['bind',\n",
       " 'call_on_scope',\n",
       " 'extractor',\n",
       " 'from_dict',\n",
       " 'func',\n",
       " 'func_label',\n",
       " 'has_as_instance',\n",
       " 'name',\n",
       " 'names_maker',\n",
       " 'node_validator',\n",
       " 'out',\n",
       " 'sig',\n",
       " 'synopsis_string',\n",
       " 'to_dict']"
      ]
     },
     "execution_count": 38,
     "metadata": {},
     "output_type": "execute_result"
    }
   ],
   "source": [
    "ddir(nn)"
   ]
  },
  {
   "cell_type": "code",
   "execution_count": 23,
   "metadata": {},
   "outputs": [
    {
     "data": {
      "text/plain": [
       "{'func_nodes': [FuncNode(y=foo,x -> bar_ -> bar),\n",
       "  FuncNode(a,b -> foo -> _foo)],\n",
       " 'cache_last_scope': True,\n",
       " 'parameter_merge': <function meshed.util.conservative_parameter_merge(params, same_kind=True, same_default=True, same_annotation=True)>,\n",
       " 'new_scope': dict,\n",
       " 'name': None,\n",
       " 'extract_output_from_scope': <function meshed.util.extract_values(d: dict, keys: Iterable)>,\n",
       " 'graph': {'a': [FuncNode(a,b -> foo -> _foo)],\n",
       "  'b': [FuncNode(a,b -> foo -> _foo)],\n",
       "  FuncNode(a,b -> foo -> _foo): ['_foo'],\n",
       "  'foo': [FuncNode(y=foo,x -> bar_ -> bar)],\n",
       "  'x': [FuncNode(y=foo,x -> bar_ -> bar)],\n",
       "  FuncNode(y=foo,x -> bar_ -> bar): ['bar']},\n",
       " 'nodes': ['x',\n",
       "  'foo',\n",
       "  FuncNode(y=foo,x -> bar_ -> bar),\n",
       "  'bar',\n",
       "  'b',\n",
       "  'a',\n",
       "  FuncNode(a,b -> foo -> _foo),\n",
       "  '_foo'],\n",
       " 'var_nodes': ['x', 'foo', 'bar', 'b', 'a', '_foo'],\n",
       " '__signature__': <Sig (foo, x, a, b)>,\n",
       " 'roots': ('foo', 'x', 'a', 'b'),\n",
       " 'leafs': ('bar', '_foo'),\n",
       " 'last_scope': None}"
      ]
     },
     "execution_count": 23,
     "metadata": {},
     "output_type": "execute_result"
    }
   ],
   "source": [
    "vars(dag)"
   ]
  },
  {
   "cell_type": "code",
   "execution_count": 11,
   "metadata": {},
   "outputs": [],
   "source": [
    "node =     FuncNode(foo, name='foo')"
   ]
  },
  {
   "cell_type": "code",
   "execution_count": 12,
   "metadata": {},
   "outputs": [
    {
     "data": {
      "text/plain": [
       "{'a': 'a', 'b': 'b'}"
      ]
     },
     "execution_count": 12,
     "metadata": {},
     "output_type": "execute_result"
    }
   ],
   "source": [
    "node.bind"
   ]
  },
  {
   "cell_type": "code",
   "execution_count": 13,
   "metadata": {},
   "outputs": [
    {
     "data": {
      "text/plain": [
       "'_foo'"
      ]
     },
     "execution_count": 13,
     "metadata": {},
     "output_type": "execute_result"
    }
   ],
   "source": [
    "node.out"
   ]
  },
  {
   "cell_type": "code",
   "execution_count": 14,
   "metadata": {},
   "outputs": [
    {
     "data": {
      "text/plain": [
       "'(a, b, x)'"
      ]
     },
     "execution_count": 14,
     "metadata": {},
     "output_type": "execute_result"
    }
   ],
   "source": [
    "str(Sig(dag))"
   ]
  },
  {
   "cell_type": "code",
   "execution_count": 30,
   "metadata": {},
   "outputs": [
    {
     "data": {
      "text/plain": [
       "FuncNode(x=foo_output -> B -> b)"
      ]
     },
     "execution_count": 30,
     "metadata": {},
     "output_type": "execute_result"
    }
   ],
   "source": [
    "def foo(x): return x + 1\n",
    "def bar(x): return x * 2\n",
    "dag = DAG([\n",
    "             FuncNode(foo, out='foo_output'),\n",
    "             FuncNode(bar, name='B', out='b', bind={'x': 'foo_output'}),\n",
    "         ])\n",
    "\n",
    "        #A ``FuncNode`` instance is indexed by both its identifier (``.name``) as well as\n",
    "        #the identifier of it's output (``.out``):\n",
    "\n",
    "dag._func_node_for['foo_output']\n",
    "#        FuncNode(x -> foo -> foo_output)\n",
    "dag._func_node_for['foo']\n",
    "#        FuncNode(x -> foo -> foo_output)\n",
    "dag._func_node_for['b']\n",
    "#        FuncNode(x=foo_output -> B -> b)\n",
    "dag._func_node_for['B']\n",
    "#        FuncNode(x=foo_output -> B -> b)"
   ]
  },
  {
   "cell_type": "markdown",
   "metadata": {},
   "source": [
    "# Duplicate names error"
   ]
  },
  {
   "cell_type": "code",
   "execution_count": 1,
   "metadata": {},
   "outputs": [
    {
     "name": "stdout",
     "output_type": "stream",
     "text": [
      "f.name='foo_', ff.name='foo___2'\n",
      "f.func_label='foo_', ff.func_label='foo_'\n"
     ]
    }
   ],
   "source": [
    "from meshed import DAG, FuncNode\n",
    "\n",
    "def foo(x):\n",
    "    return x + 1\n",
    "\n",
    "t = foo\n",
    "\n",
    "def foo(y):\n",
    "    return y * 2\n",
    "\n",
    "tt = foo\n",
    "\n",
    "d = DAG([t, tt])\n",
    "d.func_nodes\n",
    "f, ff = d.func_nodes\n",
    "print(f'{f.name=}, {ff.name=}')\n",
    "print(f'{f.func_label=}, {ff.func_label=}')"
   ]
  },
  {
   "cell_type": "code",
   "execution_count": 2,
   "metadata": {},
   "outputs": [
    {
     "data": {
      "text/plain": [
       "<Sig (x, y)>"
      ]
     },
     "execution_count": 2,
     "metadata": {},
     "output_type": "execute_result"
    }
   ],
   "source": [
    "from i2 import Sig\n",
    "Sig(d)"
   ]
  },
  {
   "cell_type": "code",
   "execution_count": 73,
   "metadata": {},
   "outputs": [
    {
     "ename": "AssertionError",
     "evalue": "",
     "output_type": "error",
     "traceback": [
      "\u001b[0;31m---------------------------------------------------------------------------\u001b[0m",
      "\u001b[0;31mAssertionError\u001b[0m                            Traceback (most recent call last)",
      "\u001b[1;32m/Users/sylvain/Desktop/dev/otosense/meshed/meshed/scrap/notebook.ipynb Cell 33\u001b[0m in \u001b[0;36m<cell line: 5>\u001b[0;34m()\u001b[0m\n\u001b[1;32m      <a href='vscode-notebook-cell:/Users/sylvain/Desktop/dev/otosense/meshed/meshed/scrap/notebook.ipynb#Y116sZmlsZQ%3D%3D?line=1'>2</a>\u001b[0m \u001b[39mfrom\u001b[39;00m \u001b[39mmeshed\u001b[39;00m \u001b[39mimport\u001b[39;00m code_to_dag\n\u001b[1;32m      <a href='vscode-notebook-cell:/Users/sylvain/Desktop/dev/otosense/meshed/meshed/scrap/notebook.ipynb#Y116sZmlsZQ%3D%3D?line=2'>3</a>\u001b[0m dag \u001b[39m=\u001b[39m code_to_dag(user_story_01)\n\u001b[0;32m----> <a href='vscode-notebook-cell:/Users/sylvain/Desktop/dev/otosense/meshed/meshed/scrap/notebook.ipynb#Y116sZmlsZQ%3D%3D?line=3'>4</a>\u001b[0m \u001b[39massert\u001b[39;00m (\n\u001b[1;32m      <a href='vscode-notebook-cell:/Users/sylvain/Desktop/dev/otosense/meshed/meshed/scrap/notebook.ipynb#Y116sZmlsZQ%3D%3D?line=4'>5</a>\u001b[0m         dag\u001b[39m.\u001b[39msynopsis_string()\n\u001b[1;32m      <a href='vscode-notebook-cell:/Users/sylvain/Desktop/dev/otosense/meshed/meshed/scrap/notebook.ipynb#Y116sZmlsZQ%3D%3D?line=5'>6</a>\u001b[0m         \u001b[39m==\u001b[39m \u001b[39m\"\"\"\u001b[39m\u001b[39m -> get_data_source -> data_source\u001b[39m\n\u001b[1;32m      <a href='vscode-notebook-cell:/Users/sylvain/Desktop/dev/otosense/meshed/meshed/scrap/notebook.ipynb#Y116sZmlsZQ%3D%3D?line=6'>7</a>\u001b[0m \u001b[39mdata_source -> make_wfs -> wfs\u001b[39m\n\u001b[1;32m      <a href='vscode-notebook-cell:/Users/sylvain/Desktop/dev/otosense/meshed/meshed/scrap/notebook.ipynb#Y116sZmlsZQ%3D%3D?line=7'>8</a>\u001b[0m \u001b[39mwfs,chk_size -> chunker -> chks\u001b[39m\n\u001b[1;32m      <a href='vscode-notebook-cell:/Users/sylvain/Desktop/dev/otosense/meshed/meshed/scrap/notebook.ipynb#Y116sZmlsZQ%3D%3D?line=8'>9</a>\u001b[0m \u001b[39mchks -> splitter -> train_chks__test_chks\u001b[39m\n\u001b[1;32m     <a href='vscode-notebook-cell:/Users/sylvain/Desktop/dev/otosense/meshed/meshed/scrap/notebook.ipynb#Y116sZmlsZQ%3D%3D?line=9'>10</a>\u001b[0m \u001b[39mtrain_chks__test_chks -> test_chks__0 -> test_chks\u001b[39m\n\u001b[1;32m     <a href='vscode-notebook-cell:/Users/sylvain/Desktop/dev/otosense/meshed/meshed/scrap/notebook.ipynb#Y116sZmlsZQ%3D%3D?line=10'>11</a>\u001b[0m \u001b[39mtrain_chks__test_chks -> train_chks__1 -> train_chks\u001b[39m\n\u001b[1;32m     <a href='vscode-notebook-cell:/Users/sylvain/Desktop/dev/otosense/meshed/meshed/scrap/notebook.ipynb#Y116sZmlsZQ%3D%3D?line=11'>12</a>\u001b[0m \u001b[39mfeaturizer_learner,train_chks -> learn_featurizer -> featurizer_obj\u001b[39m\u001b[39m\"\"\"\u001b[39m\n\u001b[1;32m     <a href='vscode-notebook-cell:/Users/sylvain/Desktop/dev/otosense/meshed/meshed/scrap/notebook.ipynb#Y116sZmlsZQ%3D%3D?line=12'>13</a>\u001b[0m     )\n",
      "\u001b[0;31mAssertionError\u001b[0m: "
     ]
    }
   ],
   "source": [
    "from meshed.tests.test_makers import user_story_01\n",
    "from meshed import code_to_dag\n",
    "dag = code_to_dag(user_story_01)\n",
    "assert (\n",
    "        dag.synopsis_string()\n",
    "        == \"\"\" -> get_data_source -> data_source\n",
    "data_source -> make_wfs -> wfs\n",
    "wfs,chk_size -> chunker -> chks\n",
    "chks -> splitter -> train_chks__test_chks\n",
    "train_chks__test_chks -> test_chks__0 -> test_chks\n",
    "train_chks__test_chks -> train_chks__1 -> train_chks\n",
    "featurizer_learner,train_chks -> learn_featurizer -> featurizer_obj\"\"\"\n",
    "    )"
   ]
  },
  {
   "cell_type": "code",
   "execution_count": 76,
   "metadata": {},
   "outputs": [],
   "source": [
    "from meshed.scrap.cached_dag import NoOverwritesDict"
   ]
  },
  {
   "cell_type": "code",
   "execution_count": 80,
   "metadata": {},
   "outputs": [
    {
     "ename": "OverWritesNotAllowedError",
     "evalue": "The b key already exists and you're not allowed to change its value",
     "output_type": "error",
     "traceback": [
      "\u001b[0;31m---------------------------------------------------------------------------\u001b[0m",
      "\u001b[0;31mOverWritesNotAllowedError\u001b[0m                 Traceback (most recent call last)",
      "\u001b[1;32m/Users/sylvain/Desktop/dev/otosense/meshed/meshed/scrap/notebook.ipynb Cell 35\u001b[0m in \u001b[0;36m<cell line: 18>\u001b[0;34m()\u001b[0m\n\u001b[1;32m     <a href='vscode-notebook-cell:/Users/sylvain/Desktop/dev/otosense/meshed/meshed/scrap/notebook.ipynb#Y122sZmlsZQ%3D%3D?line=13'>14</a>\u001b[0m d[\u001b[39m'\u001b[39m\u001b[39mb\u001b[39m\u001b[39m'\u001b[39m] \u001b[39m=\u001b[39m \u001b[39m2\u001b[39m\n\u001b[1;32m     <a href='vscode-notebook-cell:/Users/sylvain/Desktop/dev/otosense/meshed/meshed/scrap/notebook.ipynb#Y122sZmlsZQ%3D%3D?line=15'>16</a>\u001b[0m \u001b[39m#But if we try to write a different value...\u001b[39;00m\n\u001b[0;32m---> <a href='vscode-notebook-cell:/Users/sylvain/Desktop/dev/otosense/meshed/meshed/scrap/notebook.ipynb#Y122sZmlsZQ%3D%3D?line=17'>18</a>\u001b[0m d[\u001b[39m'\u001b[39;49m\u001b[39mb\u001b[39;49m\u001b[39m'\u001b[39;49m] \u001b[39m=\u001b[39m \u001b[39m22\u001b[39m\n",
      "File \u001b[0;32m~/Desktop/dev/otosense/meshed/meshed/scrap/cached_dag.py:64\u001b[0m, in \u001b[0;36mNoOverwritesDict.__setitem__\u001b[0;34m(self, key, value)\u001b[0m\n\u001b[1;32m     62\u001b[0m     \u001b[39msuper\u001b[39m()\u001b[39m.\u001b[39m\u001b[39m__setitem__\u001b[39m(key, value)\n\u001b[1;32m     63\u001b[0m \u001b[39melif\u001b[39;00m value \u001b[39m!=\u001b[39m \u001b[39mself\u001b[39m[key]:\n\u001b[0;32m---> 64\u001b[0m     \u001b[39mraise\u001b[39;00m OverWritesNotAllowedError(\n\u001b[1;32m     65\u001b[0m         \u001b[39mf\u001b[39m\u001b[39m\"\u001b[39m\u001b[39mThe \u001b[39m\u001b[39m{\u001b[39;00mkey\u001b[39m}\u001b[39;00m\u001b[39m key already exists and you\u001b[39m\u001b[39m'\u001b[39m\u001b[39mre not allowed to change its \u001b[39m\u001b[39m\"\u001b[39m\n\u001b[1;32m     66\u001b[0m         \u001b[39mf\u001b[39m\u001b[39m'\u001b[39m\u001b[39mvalue\u001b[39m\u001b[39m'\u001b[39m\n\u001b[1;32m     67\u001b[0m     )\n",
      "\u001b[0;31mOverWritesNotAllowedError\u001b[0m: The b key already exists and you're not allowed to change its value"
     ]
    }
   ],
   "source": [
    ">>> d = NoOverwritesDict(a=1, b=2)\n",
    ">>> d\n",
    "# {'a': 1, 'b': 2}\n",
    "\n",
    "# Writing is allowed, in new keys\n",
    "\n",
    ">>> d['c'] = 3\n",
    ">>> d\n",
    "{'a': 1, 'b': 2, 'c': 3}\n",
    "\n",
    "# It's also okay to write into an existing key if the value it holds is identical.\n",
    "# In fact, the write doesn't even happen.\n",
    "\n",
    ">>> d['b'] = 2\n",
    "\n",
    "#But if we try to write a different value...\n",
    "\n",
    ">>> d['b'] = 22"
   ]
  },
  {
   "cell_type": "code",
   "execution_count": 82,
   "metadata": {},
   "outputs": [
    {
     "ename": "OverWritesNotAllowedError",
     "evalue": "The b key already exists and you're not allowed to change its value",
     "output_type": "error",
     "traceback": [
      "\u001b[0;31m---------------------------------------------------------------------------\u001b[0m",
      "\u001b[0;31mOverWritesNotAllowedError\u001b[0m                 Traceback (most recent call last)",
      "\u001b[1;32m/Users/sylvain/Desktop/dev/otosense/meshed/meshed/scrap/notebook.ipynb Cell 36\u001b[0m in \u001b[0;36m<cell line: 1>\u001b[0;34m()\u001b[0m\n\u001b[0;32m----> <a href='vscode-notebook-cell:/Users/sylvain/Desktop/dev/otosense/meshed/meshed/scrap/notebook.ipynb#Y123sZmlsZQ%3D%3D?line=0'>1</a>\u001b[0m d[\u001b[39m'\u001b[39;49m\u001b[39mb\u001b[39;49m\u001b[39m'\u001b[39;49m]\u001b[39m=\u001b[39m\u001b[39m22\u001b[39m\n",
      "File \u001b[0;32m~/Desktop/dev/otosense/meshed/meshed/scrap/cached_dag.py:64\u001b[0m, in \u001b[0;36mNoOverwritesDict.__setitem__\u001b[0;34m(self, key, value)\u001b[0m\n\u001b[1;32m     62\u001b[0m     \u001b[39msuper\u001b[39m()\u001b[39m.\u001b[39m\u001b[39m__setitem__\u001b[39m(key, value)\n\u001b[1;32m     63\u001b[0m \u001b[39melif\u001b[39;00m value \u001b[39m!=\u001b[39m \u001b[39mself\u001b[39m[key]:\n\u001b[0;32m---> 64\u001b[0m     \u001b[39mraise\u001b[39;00m OverWritesNotAllowedError(\n\u001b[1;32m     65\u001b[0m         \u001b[39mf\u001b[39m\u001b[39m\"\u001b[39m\u001b[39mThe \u001b[39m\u001b[39m{\u001b[39;00mkey\u001b[39m}\u001b[39;00m\u001b[39m key already exists and you\u001b[39m\u001b[39m'\u001b[39m\u001b[39mre not allowed to change its \u001b[39m\u001b[39m\"\u001b[39m\n\u001b[1;32m     66\u001b[0m         \u001b[39mf\u001b[39m\u001b[39m'\u001b[39m\u001b[39mvalue\u001b[39m\u001b[39m'\u001b[39m\n\u001b[1;32m     67\u001b[0m     )\n",
      "\u001b[0;31mOverWritesNotAllowedError\u001b[0m: The b key already exists and you're not allowed to change its value"
     ]
    }
   ],
   "source": [
    "from meshed.makers import code_to_dag\n",
    "\n",
    "\n",
    "@code_to_dag\n",
    "def dag_01():\n",
    "    b = f(a)\n",
    "    c = g(a)\n",
    "    d = h(b, c)\n",
    "\n",
    "\n",
    "@code_to_dag\n",
    "def dag_02():\n",
    "    b = f(a)\n",
    "    c = g(x=a)\n",
    "    d = h(y=b, c=c)\n",
    "\n",
    "\n",
    "_string01 = '''a -> g -> c\n",
    "a -> f -> b\n",
    "b,c -> h -> d'''\n",
    "\n",
    "_string02 = '''x=a -> g -> c\n",
    "a -> f -> b\n",
    "y=b,c -> h -> d'''\n",
    "\n",
    "\n",
    "def test_synopsis_string():\n",
    "    s11 = '\\n'.join([fn.synopsis_string() for fn in dag_01.func_nodes])\n",
    "    s21 = '\\n'.join(\n",
    "        [fn.synopsis_string(bind_info='hybrid') for fn in dag_01.func_nodes]\n",
    "    )\n",
    "    assert s11 == _string01 == s21\n",
    "    s22 = '\\n'.join(\n",
    "        [fn.synopsis_string(bind_info='hybrid') for fn in dag_02.func_nodes]\n",
    "    )\n",
    "    assert s22 == _string02"
   ]
  },
  {
   "cell_type": "code",
   "execution_count": 88,
   "metadata": {},
   "outputs": [],
   "source": [
    "from meshed.makers import code_to_dag\n",
    "\n",
    "\n",
    "@code_to_dag\n",
    "def dag_01():\n",
    "    b = f(a)\n",
    "    c = g(a)\n",
    "    d = h(b, c)\n",
    "\n",
    "\n",
    "@code_to_dag\n",
    "def dag_02():\n",
    "    b = f(a)\n",
    "    c = g(x=a)\n",
    "    d = h(y=b, c=c)\n",
    "\n",
    "\n",
    "_string01 = '''a -> g -> c\n",
    "a -> f -> b\n",
    "b,c -> h -> d'''\n",
    "\n",
    "_string02 = '''a -> f -> b\n",
    "x=a -> g -> c\n",
    "y=b,c -> h -> d'''\n",
    "\n",
    "\n",
    "def test_synopsis_string():\n",
    "    s11 = '\\n'.join([fn.synopsis_string() for fn in dag_01.func_nodes])\n",
    "    s21 = '\\n'.join(\n",
    "        [fn.synopsis_string(bind_info='hybrid') for fn in dag_01.func_nodes]\n",
    "    )\n",
    "    assert s11 == _string01 == s21\n",
    "    s22 = '\\n'.join(\n",
    "        [fn.synopsis_string(bind_info='hybrid') for fn in dag_02.func_nodes]\n",
    "    )\n",
    "    assert s22 == _string02"
   ]
  },
  {
   "cell_type": "code",
   "execution_count": 89,
   "metadata": {},
   "outputs": [],
   "source": [
    "s11 = '\\n'.join([fn.synopsis_string() for fn in dag_01.func_nodes])\n"
   ]
  },
  {
   "cell_type": "code",
   "execution_count": 90,
   "metadata": {},
   "outputs": [
    {
     "name": "stdout",
     "output_type": "stream",
     "text": [
      "a -> f -> b\n",
      "a -> g -> c\n",
      "b,c -> h -> d\n"
     ]
    }
   ],
   "source": [
    "print(s11)"
   ]
  },
  {
   "cell_type": "code",
   "execution_count": 91,
   "metadata": {},
   "outputs": [
    {
     "name": "stdout",
     "output_type": "stream",
     "text": [
      "a -> f -> b\n",
      "a -> g -> c\n",
      "b,c -> h -> d\n"
     ]
    }
   ],
   "source": [
    "s21 = '\\n'.join(\n",
    "        [fn.synopsis_string(bind_info='hybrid') for fn in dag_01.func_nodes]\n",
    "    )\n",
    "print(s21)"
   ]
  },
  {
   "cell_type": "code",
   "execution_count": 92,
   "metadata": {},
   "outputs": [
    {
     "name": "stdout",
     "output_type": "stream",
     "text": [
      "a -> f -> b\n",
      "x=a -> g -> c\n",
      "y=b,c -> h -> d\n"
     ]
    }
   ],
   "source": [
    "s22 = \"\\n\".join(\n",
    "        [fn.synopsis_string(bind_info=\"hybrid\") for fn in dag_02.func_nodes]\n",
    "    )\n",
    "print(s22)"
   ]
  },
  {
   "cell_type": "code",
   "execution_count": 2,
   "metadata": {},
   "outputs": [],
   "source": [
    "from meshed import DAG\n",
    ">>> def f(a, b): return a + b\n",
    ">>> def g(c, d=1): return c * d\n",
    ">>> def h(x, y=1): return x ** y\n",
    ">>>\n",
    ">>> three_funcs = DAG([f, g, h])\n",
    ">>> assert (\n",
    "...     three_funcs(x=1, c=2, a=3, b=4)\n",
    "...     == (7, 2, 1)\n",
    "...     == (f(a=3, b=4), g(c=2), h(x=1))\n",
    "...     == (3 + 4, 2*1, 1** 1)\n",
    "... )"
   ]
  },
  {
   "cell_type": "code",
   "execution_count": 4,
   "metadata": {},
   "outputs": [],
   "source": [
    "hg = three_funcs.add_edge('h', 'g')"
   ]
  },
  {
   "cell_type": "code",
   "execution_count": 5,
   "metadata": {},
   "outputs": [
    {
     "data": {
      "text/plain": [
       "DAG(func_nodes=[FuncNode(a,b -> f_ -> f), FuncNode(x,y -> h_ -> h), FuncNode(c=h,d -> g_ -> g)], name=None)"
      ]
     },
     "execution_count": 5,
     "metadata": {},
     "output_type": "execute_result"
    }
   ],
   "source": [
    "hg"
   ]
  },
  {
   "cell_type": "code",
   "execution_count": 7,
   "metadata": {},
   "outputs": [],
   "source": [
    "assert (\n",
    "             hg(a=3, b=4, x=1)\n",
    "             == (7, 1)\n",
    "             == (f(a=3, b=4), g(c=h(x=1)))\n",
    "             == (3 + 4, 1 * (1 ** 1))\n",
    "         )"
   ]
  },
  {
   "cell_type": "code",
   "execution_count": 8,
   "metadata": {},
   "outputs": [
    {
     "name": "stdout",
     "output_type": "stream",
     "text": [
      "a,b -> f_ -> f\n",
      "x,y -> h_ -> h\n",
      "h,d -> g_ -> g\n"
     ]
    }
   ],
   "source": [
    ">>> print(hg.synopsis_string())\n"
   ]
  },
  {
   "cell_type": "code",
   "execution_count": 9,
   "metadata": {},
   "outputs": [],
   "source": [
    "        >>> fhg = three_funcs.add_edge('h', 'g').add_edge('f', 'h')\n"
   ]
  },
  {
   "cell_type": "code",
   "execution_count": 10,
   "metadata": {},
   "outputs": [
    {
     "data": {
      "text/plain": [
       "DAG(func_nodes=[FuncNode(a,b -> f_ -> f), FuncNode(x=f,y -> h_ -> h), FuncNode(c=h,d -> g_ -> g)], name=None)"
      ]
     },
     "execution_count": 10,
     "metadata": {},
     "output_type": "execute_result"
    }
   ],
   "source": [
    "fhg"
   ]
  },
  {
   "cell_type": "code",
   "execution_count": 13,
   "metadata": {},
   "outputs": [],
   "source": [
    "assert (\n",
    "             fhg(a=3, b=4)\n",
    "             == 7\n",
    "             == g(h(f(3, 4)))\n",
    "             == ((3 + 4) * 1) ** 1\n",
    "         )"
   ]
  },
  {
   "cell_type": "code",
   "execution_count": 14,
   "metadata": {},
   "outputs": [
    {
     "name": "stdout",
     "output_type": "stream",
     "text": [
      "a,b -> f_ -> f\n",
      "f,y -> h_ -> h\n",
      "h,d -> g_ -> g\n"
     ]
    }
   ],
   "source": [
    "        >>> print(fhg.synopsis_string())\n"
   ]
  },
  {
   "cell_type": "code",
   "execution_count": 15,
   "metadata": {},
   "outputs": [],
   "source": [
    ">>> fhg = three_funcs.add_edge(h, 'g').add_edge('f_', 'h')\n"
   ]
  },
  {
   "cell_type": "code",
   "execution_count": 16,
   "metadata": {},
   "outputs": [
    {
     "data": {
      "image/svg+xml": "<?xml version=\"1.0\" encoding=\"UTF-8\" standalone=\"no\"?>\n<!DOCTYPE svg PUBLIC \"-//W3C//DTD SVG 1.1//EN\"\n \"http://www.w3.org/Graphics/SVG/1.1/DTD/svg11.dtd\">\n<!-- Generated by graphviz version 2.40.1 (20161225.0304)\n -->\n<!-- Title: %3 Pages: 1 -->\n<svg width=\"206pt\" height=\"476pt\"\n viewBox=\"0.00 0.00 206.00 476.00\" xmlns=\"http://www.w3.org/2000/svg\" xmlns:xlink=\"http://www.w3.org/1999/xlink\">\n<g id=\"graph0\" class=\"graph\" transform=\"scale(1 1) rotate(0) translate(4 472)\">\n<title>%3</title>\n<polygon fill=\"#ffffff\" stroke=\"transparent\" points=\"-4,4 -4,-472 202,-472 202,4 -4,4\"/>\n<!-- f -->\n<g id=\"node1\" class=\"node\">\n<title>f</title>\n<text text-anchor=\"middle\" x=\"135\" y=\"-302.3\" font-family=\"Times,serif\" font-size=\"14.00\" fill=\"#000000\">f</text>\n</g>\n<!-- h_ -->\n<g id=\"node7\" class=\"node\">\n<title>h_</title>\n<polygon fill=\"none\" stroke=\"#000000\" points=\"126,-252 72,-252 72,-216 126,-216 126,-252\"/>\n<text text-anchor=\"middle\" x=\"99\" y=\"-230.3\" font-family=\"Times,serif\" font-size=\"14.00\" fill=\"#000000\">h_</text>\n</g>\n<!-- f&#45;&gt;h_ -->\n<g id=\"edge5\" class=\"edge\">\n<title>f&#45;&gt;h_</title>\n<path fill=\"none\" stroke=\"#000000\" d=\"M125.9157,-287.8314C121.9385,-279.8771 117.1845,-270.369 112.7861,-261.5723\"/>\n<polygon fill=\"#000000\" stroke=\"#000000\" points=\"115.8093,-259.7923 108.2066,-252.4133 109.5483,-262.9228 115.8093,-259.7923\"/>\n</g>\n<!-- a -->\n<g id=\"node2\" class=\"node\">\n<title>a</title>\n<text text-anchor=\"middle\" x=\"99\" y=\"-446.3\" font-family=\"Times,serif\" font-size=\"14.00\" fill=\"#000000\">a</text>\n</g>\n<!-- f_ -->\n<g id=\"node4\" class=\"node\">\n<title>f_</title>\n<polygon fill=\"none\" stroke=\"#000000\" points=\"162,-396 108,-396 108,-360 162,-360 162,-396\"/>\n<text text-anchor=\"middle\" x=\"135\" y=\"-374.3\" font-family=\"Times,serif\" font-size=\"14.00\" fill=\"#000000\">f_</text>\n</g>\n<!-- a&#45;&gt;f_ -->\n<g id=\"edge2\" class=\"edge\">\n<title>a&#45;&gt;f_</title>\n<path fill=\"none\" stroke=\"#000000\" d=\"M108.0843,-431.8314C112.0615,-423.8771 116.8155,-414.369 121.2139,-405.5723\"/>\n<polygon fill=\"#000000\" stroke=\"#000000\" points=\"124.4517,-406.9228 125.7934,-396.4133 118.1907,-403.7923 124.4517,-406.9228\"/>\n</g>\n<!-- b -->\n<g id=\"node3\" class=\"node\">\n<title>b</title>\n<text text-anchor=\"middle\" x=\"171\" y=\"-446.3\" font-family=\"Times,serif\" font-size=\"14.00\" fill=\"#000000\">b</text>\n</g>\n<!-- b&#45;&gt;f_ -->\n<g id=\"edge3\" class=\"edge\">\n<title>b&#45;&gt;f_</title>\n<path fill=\"none\" stroke=\"#000000\" d=\"M161.9157,-431.8314C157.9385,-423.8771 153.1845,-414.369 148.7861,-405.5723\"/>\n<polygon fill=\"#000000\" stroke=\"#000000\" points=\"151.8093,-403.7923 144.2066,-396.4133 145.5483,-406.9228 151.8093,-403.7923\"/>\n</g>\n<!-- f_&#45;&gt;f -->\n<g id=\"edge1\" class=\"edge\">\n<title>f_&#45;&gt;f</title>\n<path fill=\"none\" stroke=\"#000000\" d=\"M135,-359.8314C135,-352.131 135,-342.9743 135,-334.4166\"/>\n<polygon fill=\"#000000\" stroke=\"#000000\" points=\"138.5001,-334.4132 135,-324.4133 131.5001,-334.4133 138.5001,-334.4132\"/>\n</g>\n<!-- h -->\n<g id=\"node5\" class=\"node\">\n<title>h</title>\n<text text-anchor=\"middle\" x=\"99\" y=\"-158.3\" font-family=\"Times,serif\" font-size=\"14.00\" fill=\"#000000\">h</text>\n</g>\n<!-- g_ -->\n<g id=\"node10\" class=\"node\">\n<title>g_</title>\n<polygon fill=\"none\" stroke=\"#000000\" points=\"90,-108 36,-108 36,-72 90,-72 90,-108\"/>\n<text text-anchor=\"middle\" x=\"63\" y=\"-86.3\" font-family=\"Times,serif\" font-size=\"14.00\" fill=\"#000000\">g_</text>\n</g>\n<!-- h&#45;&gt;g_ -->\n<g id=\"edge8\" class=\"edge\">\n<title>h&#45;&gt;g_</title>\n<path fill=\"none\" stroke=\"#000000\" d=\"M89.9157,-143.8314C85.9385,-135.8771 81.1845,-126.369 76.7861,-117.5723\"/>\n<polygon fill=\"#000000\" stroke=\"#000000\" points=\"79.8093,-115.7923 72.2066,-108.4133 73.5483,-118.9228 79.8093,-115.7923\"/>\n</g>\n<!-- y -->\n<g id=\"node6\" class=\"node\">\n<title>y</title>\n<text text-anchor=\"middle\" x=\"63\" y=\"-302.3\" font-family=\"Times,serif\" font-size=\"14.00\" fill=\"#000000\">y=</text>\n</g>\n<!-- y&#45;&gt;h_ -->\n<g id=\"edge6\" class=\"edge\">\n<title>y&#45;&gt;h_</title>\n<path fill=\"none\" stroke=\"#000000\" d=\"M72.0843,-287.8314C76.0615,-279.8771 80.8155,-270.369 85.2139,-261.5723\"/>\n<polygon fill=\"#000000\" stroke=\"#000000\" points=\"88.4517,-262.9228 89.7934,-252.4133 82.1907,-259.7923 88.4517,-262.9228\"/>\n</g>\n<!-- h_&#45;&gt;h -->\n<g id=\"edge4\" class=\"edge\">\n<title>h_&#45;&gt;h</title>\n<path fill=\"none\" stroke=\"#000000\" d=\"M99,-215.8314C99,-208.131 99,-198.9743 99,-190.4166\"/>\n<polygon fill=\"#000000\" stroke=\"#000000\" points=\"102.5001,-190.4132 99,-180.4133 95.5001,-190.4133 102.5001,-190.4132\"/>\n</g>\n<!-- g -->\n<g id=\"node8\" class=\"node\">\n<title>g</title>\n<text text-anchor=\"middle\" x=\"63\" y=\"-14.3\" font-family=\"Times,serif\" font-size=\"14.00\" fill=\"#000000\">g</text>\n</g>\n<!-- d -->\n<g id=\"node9\" class=\"node\">\n<title>d</title>\n<text text-anchor=\"middle\" x=\"27\" y=\"-158.3\" font-family=\"Times,serif\" font-size=\"14.00\" fill=\"#000000\">d=</text>\n</g>\n<!-- d&#45;&gt;g_ -->\n<g id=\"edge9\" class=\"edge\">\n<title>d&#45;&gt;g_</title>\n<path fill=\"none\" stroke=\"#000000\" d=\"M36.0843,-143.8314C40.0615,-135.8771 44.8155,-126.369 49.2139,-117.5723\"/>\n<polygon fill=\"#000000\" stroke=\"#000000\" points=\"52.4517,-118.9228 53.7934,-108.4133 46.1907,-115.7923 52.4517,-118.9228\"/>\n</g>\n<!-- g_&#45;&gt;g -->\n<g id=\"edge7\" class=\"edge\">\n<title>g_&#45;&gt;g</title>\n<path fill=\"none\" stroke=\"#000000\" d=\"M63,-71.8314C63,-64.131 63,-54.9743 63,-46.4166\"/>\n<polygon fill=\"#000000\" stroke=\"#000000\" points=\"66.5001,-46.4132 63,-36.4133 59.5001,-46.4133 66.5001,-46.4132\"/>\n</g>\n</g>\n</svg>\n",
      "text/plain": [
       "<graphviz.dot.Digraph at 0x7fe4f298eb20>"
      ]
     },
     "execution_count": 16,
     "metadata": {},
     "output_type": "execute_result"
    }
   ],
   "source": [
    "fhg.dot_digraph()"
   ]
  },
  {
   "cell_type": "code",
   "execution_count": 18,
   "metadata": {},
   "outputs": [],
   "source": [
    "f_of_g_and_h = (\n",
    "             DAG([f, g, h])\n",
    "             .add_edge(g, f, to_param='a')\n",
    "             .add_edge(h, f, 'b')\n",
    "         )"
   ]
  },
  {
   "cell_type": "code",
   "execution_count": 19,
   "metadata": {},
   "outputs": [
    {
     "data": {
      "image/svg+xml": "<?xml version=\"1.0\" encoding=\"UTF-8\" standalone=\"no\"?>\n<!DOCTYPE svg PUBLIC \"-//W3C//DTD SVG 1.1//EN\"\n \"http://www.w3.org/Graphics/SVG/1.1/DTD/svg11.dtd\">\n<!-- Generated by graphviz version 2.40.1 (20161225.0304)\n -->\n<!-- Title: %3 Pages: 1 -->\n<svg width=\"278pt\" height=\"332pt\"\n viewBox=\"0.00 0.00 278.00 332.00\" xmlns=\"http://www.w3.org/2000/svg\" xmlns:xlink=\"http://www.w3.org/1999/xlink\">\n<g id=\"graph0\" class=\"graph\" transform=\"scale(1 1) rotate(0) translate(4 328)\">\n<title>%3</title>\n<polygon fill=\"#ffffff\" stroke=\"transparent\" points=\"-4,4 -4,-328 274,-328 274,4 -4,4\"/>\n<!-- g -->\n<g id=\"node1\" class=\"node\">\n<title>g</title>\n<text text-anchor=\"middle\" x=\"171\" y=\"-158.3\" font-family=\"Times,serif\" font-size=\"14.00\" fill=\"#000000\">g</text>\n</g>\n<!-- f_ -->\n<g id=\"node10\" class=\"node\">\n<title>f_</title>\n<polygon fill=\"none\" stroke=\"#000000\" points=\"162,-108 108,-108 108,-72 162,-72 162,-108\"/>\n<text text-anchor=\"middle\" x=\"135\" y=\"-86.3\" font-family=\"Times,serif\" font-size=\"14.00\" fill=\"#000000\">f_</text>\n</g>\n<!-- g&#45;&gt;f_ -->\n<g id=\"edge8\" class=\"edge\">\n<title>g&#45;&gt;f_</title>\n<path fill=\"none\" stroke=\"#000000\" d=\"M161.9157,-143.8314C157.9385,-135.8771 153.1845,-126.369 148.7861,-117.5723\"/>\n<polygon fill=\"#000000\" stroke=\"#000000\" points=\"151.8093,-115.7923 144.2066,-108.4133 145.5483,-118.9228 151.8093,-115.7923\"/>\n</g>\n<!-- c -->\n<g id=\"node2\" class=\"node\">\n<title>c</title>\n<text text-anchor=\"middle\" x=\"171\" y=\"-302.3\" font-family=\"Times,serif\" font-size=\"14.00\" fill=\"#000000\">c</text>\n</g>\n<!-- g_ -->\n<g id=\"node4\" class=\"node\">\n<title>g_</title>\n<polygon fill=\"none\" stroke=\"#000000\" points=\"198,-252 144,-252 144,-216 198,-216 198,-252\"/>\n<text text-anchor=\"middle\" x=\"171\" y=\"-230.3\" font-family=\"Times,serif\" font-size=\"14.00\" fill=\"#000000\">g_</text>\n</g>\n<!-- c&#45;&gt;g_ -->\n<g id=\"edge2\" class=\"edge\">\n<title>c&#45;&gt;g_</title>\n<path fill=\"none\" stroke=\"#000000\" d=\"M171,-287.8314C171,-280.131 171,-270.9743 171,-262.4166\"/>\n<polygon fill=\"#000000\" stroke=\"#000000\" points=\"174.5001,-262.4132 171,-252.4133 167.5001,-262.4133 174.5001,-262.4132\"/>\n</g>\n<!-- d -->\n<g id=\"node3\" class=\"node\">\n<title>d</title>\n<text text-anchor=\"middle\" x=\"243\" y=\"-302.3\" font-family=\"Times,serif\" font-size=\"14.00\" fill=\"#000000\">d=</text>\n</g>\n<!-- d&#45;&gt;g_ -->\n<g id=\"edge3\" class=\"edge\">\n<title>d&#45;&gt;g_</title>\n<path fill=\"none\" stroke=\"#000000\" d=\"M224.8314,-287.8314C216.2848,-279.2848 205.9443,-268.9443 196.6198,-259.6198\"/>\n<polygon fill=\"#000000\" stroke=\"#000000\" points=\"198.9592,-257.0095 189.4133,-252.4133 194.0095,-261.9592 198.9592,-257.0095\"/>\n</g>\n<!-- g_&#45;&gt;g -->\n<g id=\"edge1\" class=\"edge\">\n<title>g_&#45;&gt;g</title>\n<path fill=\"none\" stroke=\"#000000\" d=\"M171,-215.8314C171,-208.131 171,-198.9743 171,-190.4166\"/>\n<polygon fill=\"#000000\" stroke=\"#000000\" points=\"174.5001,-190.4132 171,-180.4133 167.5001,-190.4133 174.5001,-190.4132\"/>\n</g>\n<!-- h -->\n<g id=\"node5\" class=\"node\">\n<title>h</title>\n<text text-anchor=\"middle\" x=\"99\" y=\"-158.3\" font-family=\"Times,serif\" font-size=\"14.00\" fill=\"#000000\">h</text>\n</g>\n<!-- h&#45;&gt;f_ -->\n<g id=\"edge9\" class=\"edge\">\n<title>h&#45;&gt;f_</title>\n<path fill=\"none\" stroke=\"#000000\" d=\"M108.0843,-143.8314C112.0615,-135.8771 116.8155,-126.369 121.2139,-117.5723\"/>\n<polygon fill=\"#000000\" stroke=\"#000000\" points=\"124.4517,-118.9228 125.7934,-108.4133 118.1907,-115.7923 124.4517,-118.9228\"/>\n</g>\n<!-- x -->\n<g id=\"node6\" class=\"node\">\n<title>x</title>\n<text text-anchor=\"middle\" x=\"27\" y=\"-302.3\" font-family=\"Times,serif\" font-size=\"14.00\" fill=\"#000000\">x</text>\n</g>\n<!-- h_ -->\n<g id=\"node8\" class=\"node\">\n<title>h_</title>\n<polygon fill=\"none\" stroke=\"#000000\" points=\"126,-252 72,-252 72,-216 126,-216 126,-252\"/>\n<text text-anchor=\"middle\" x=\"99\" y=\"-230.3\" font-family=\"Times,serif\" font-size=\"14.00\" fill=\"#000000\">h_</text>\n</g>\n<!-- x&#45;&gt;h_ -->\n<g id=\"edge5\" class=\"edge\">\n<title>x&#45;&gt;h_</title>\n<path fill=\"none\" stroke=\"#000000\" d=\"M45.1686,-287.8314C53.7152,-279.2848 64.0557,-268.9443 73.3802,-259.6198\"/>\n<polygon fill=\"#000000\" stroke=\"#000000\" points=\"75.9905,-261.9592 80.5867,-252.4133 71.0408,-257.0095 75.9905,-261.9592\"/>\n</g>\n<!-- y -->\n<g id=\"node7\" class=\"node\">\n<title>y</title>\n<text text-anchor=\"middle\" x=\"99\" y=\"-302.3\" font-family=\"Times,serif\" font-size=\"14.00\" fill=\"#000000\">y=</text>\n</g>\n<!-- y&#45;&gt;h_ -->\n<g id=\"edge6\" class=\"edge\">\n<title>y&#45;&gt;h_</title>\n<path fill=\"none\" stroke=\"#000000\" d=\"M99,-287.8314C99,-280.131 99,-270.9743 99,-262.4166\"/>\n<polygon fill=\"#000000\" stroke=\"#000000\" points=\"102.5001,-262.4132 99,-252.4133 95.5001,-262.4133 102.5001,-262.4132\"/>\n</g>\n<!-- h_&#45;&gt;h -->\n<g id=\"edge4\" class=\"edge\">\n<title>h_&#45;&gt;h</title>\n<path fill=\"none\" stroke=\"#000000\" d=\"M99,-215.8314C99,-208.131 99,-198.9743 99,-190.4166\"/>\n<polygon fill=\"#000000\" stroke=\"#000000\" points=\"102.5001,-190.4132 99,-180.4133 95.5001,-190.4133 102.5001,-190.4132\"/>\n</g>\n<!-- f -->\n<g id=\"node9\" class=\"node\">\n<title>f</title>\n<text text-anchor=\"middle\" x=\"135\" y=\"-14.3\" font-family=\"Times,serif\" font-size=\"14.00\" fill=\"#000000\">f</text>\n</g>\n<!-- f_&#45;&gt;f -->\n<g id=\"edge7\" class=\"edge\">\n<title>f_&#45;&gt;f</title>\n<path fill=\"none\" stroke=\"#000000\" d=\"M135,-71.8314C135,-64.131 135,-54.9743 135,-46.4166\"/>\n<polygon fill=\"#000000\" stroke=\"#000000\" points=\"138.5001,-46.4132 135,-36.4133 131.5001,-46.4133 138.5001,-46.4132\"/>\n</g>\n</g>\n</svg>\n",
      "text/plain": [
       "<graphviz.dot.Digraph at 0x7fe4f298ee20>"
      ]
     },
     "execution_count": 19,
     "metadata": {},
     "output_type": "execute_result"
    }
   ],
   "source": [
    "f_of_g_and_h.dot_digraph()"
   ]
  },
  {
   "cell_type": "code",
   "execution_count": 21,
   "metadata": {},
   "outputs": [],
   "source": [
    "assert (\n",
    "             f_of_g_and_h(x=2, c=3, y=2, d=2)\n",
    "             == 10\n",
    "             == f(g(c=3, d=2), h(x=2, y=2))\n",
    "             == 3 * 2 + 2 ** 2\n",
    "         )"
   ]
  },
  {
   "cell_type": "code",
   "execution_count": 23,
   "metadata": {},
   "outputs": [],
   "source": [
    "dag = DAG.from_funcs(\n",
    "             lambda a: a * 2,\n",
    "             x=lambda: 10,\n",
    "             y=lambda x, _0: x + _0  # _0 refers to first arg (lambda a: a * 2)\n",
    "         )"
   ]
  },
  {
   "cell_type": "code",
   "execution_count": 24,
   "metadata": {},
   "outputs": [
    {
     "name": "stdout",
     "output_type": "stream",
     "text": [
      "a -> lambda_0_ -> lambda_0\n",
      " -> x_ -> x\n",
      "x,_0 -> y_ -> y\n"
     ]
    }
   ],
   "source": [
    "        >>> print(dag.synopsis_string())\n"
   ]
  },
  {
   "cell_type": "code",
   "execution_count": 29,
   "metadata": {},
   "outputs": [],
   "source": [
    "from i2 import double_up_as_factory, MultiFunc\n",
    "\n",
    "named_funcs = dict(MultiFunc(lambda a: a * 2,\n",
    "             x=lambda: 10,\n",
    "             y=lambda x, _0: x + _0  # _0 refers to first arg (lambda a: a * 2\n",
    "             ))\n"
   ]
  },
  {
   "cell_type": "code",
   "execution_count": 30,
   "metadata": {},
   "outputs": [
    {
     "data": {
      "text/plain": [
       "{'lambda_0': <function __main__.<lambda>(a)>,\n",
       " 'x': <function __main__.<lambda>()>,\n",
       " 'y': <function __main__.<lambda>(x, _0)>}"
      ]
     },
     "execution_count": 30,
     "metadata": {},
     "output_type": "execute_result"
    }
   ],
   "source": [
    "named_funcs"
   ]
  },
  {
   "cell_type": "code",
   "execution_count": 33,
   "metadata": {},
   "outputs": [],
   "source": [
    "ff=MultiFunc(lambda a: a * 2,\n",
    "             x=lambda: 10,\n",
    "             y=lambda x, _0: x + _0  # _0 refers to first arg (lambda a: a * 2\n",
    "             )"
   ]
  },
  {
   "cell_type": "code",
   "execution_count": 34,
   "metadata": {},
   "outputs": [
    {
     "data": {
      "text/plain": [
       "{'objects': {'lambda_0': <function __main__.<lambda>(a)>,\n",
       "  'x': <function __main__.<lambda>()>,\n",
       "  'y': <function __main__.<lambda>(x, _0)>},\n",
       " 'funcs': {'lambda_0': <function __main__.<lambda>(a)>,\n",
       "  'x': <function __main__.<lambda>()>,\n",
       "  'y': <function __main__.<lambda>(x, _0)>}}"
      ]
     },
     "execution_count": 34,
     "metadata": {},
     "output_type": "execute_result"
    }
   ],
   "source": [
    "vars(ff)"
   ]
  },
  {
   "cell_type": "code",
   "execution_count": null,
   "metadata": {},
   "outputs": [],
   "source": [
    "/Users/sylvain/Desktop/dev/otosense/i2/i2/multi_object.py"
   ]
  }
 ],
 "metadata": {
  "interpreter": {
   "hash": "1a569799154504b406baf5195ac89fceebc6fb1ed8aa567618566bf3d18c8582"
  },
  "kernelspec": {
   "display_name": "Python 3.8.11 ('otopy38')",
   "language": "python",
   "name": "python3"
  },
  "language_info": {
   "codemirror_mode": {
    "name": "ipython",
    "version": 3
   },
   "file_extension": ".py",
   "mimetype": "text/x-python",
   "name": "python",
   "nbconvert_exporter": "python",
   "pygments_lexer": "ipython3",
   "version": "3.8.11"
  },
  "orig_nbformat": 4
 },
 "nbformat": 4,
 "nbformat_minor": 2
}
