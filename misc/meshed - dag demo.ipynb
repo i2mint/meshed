{
 "cells": [
  {
   "attachments": {},
   "cell_type": "markdown",
   "metadata": {
    "toc": true
   },
   "source": [
    "<h1>Table of Contents<span class=\"tocSkip\"></span></h1>\n",
    "<div class=\"toc\"><ul class=\"toc-item\"><li><span><a href=\"#Intro\" data-toc-modified-id=\"Intro-1\"><span class=\"toc-item-num\">1&nbsp;&nbsp;</span>Intro</a></span></li><li><span><a href=\"#FuncNode\" data-toc-modified-id=\"FuncNode-2\"><span class=\"toc-item-num\">2&nbsp;&nbsp;</span>FuncNode</a></span><ul class=\"toc-item\"><li><span><a href=\"#What-for?\" data-toc-modified-id=\"What-for?-2.1\"><span class=\"toc-item-num\">2.1&nbsp;&nbsp;</span>What for?</a></span></li><li><span><a href=\"#What-can-FuncNode-do?\" data-toc-modified-id=\"What-can-FuncNode-do?-2.2\"><span class=\"toc-item-num\">2.2&nbsp;&nbsp;</span>What can <code>FuncNode</code> do?</a></span></li><li><span><a href=\"#What's-with-the-names?\" data-toc-modified-id=\"What's-with-the-names?-2.3\"><span class=\"toc-item-num\">2.3&nbsp;&nbsp;</span>What's with the names?</a></span></li></ul></li><li><span><a href=\"#A-DAG\" data-toc-modified-id=\"A-DAG-3\"><span class=\"toc-item-num\">3&nbsp;&nbsp;</span>A DAG</a></span><ul class=\"toc-item\"><li><span><a href=\"#Extending-an-existing-dag\" data-toc-modified-id=\"Extending-an-existing-dag-3.1\"><span class=\"toc-item-num\">3.1&nbsp;&nbsp;</span>Extending an existing dag</a></span></li></ul></li><li><span><a href=\"#Example:-Evaluating-a-classifier\" data-toc-modified-id=\"Example:-Evaluating-a-classifier-4\"><span class=\"toc-item-num\">4&nbsp;&nbsp;</span>Example: Evaluating a classifier</a></span><ul class=\"toc-item\"><li><span><a href=\"#classifier_score\" data-toc-modified-id=\"classifier_score-4.1\"><span class=\"toc-item-num\">4.1&nbsp;&nbsp;</span>classifier_score</a></span></li><li><span><a href=\"#Making-it-more-useful\" data-toc-modified-id=\"Making-it-more-useful-4.2\"><span class=\"toc-item-num\">4.2&nbsp;&nbsp;</span>Making it more useful</a></span></li><li><span><a href=\"#Making-the-DAG-bigger\" data-toc-modified-id=\"Making-the-DAG-bigger-4.3\"><span class=\"toc-item-num\">4.3&nbsp;&nbsp;</span>Making the DAG bigger</a></span></li><li><span><a href=\"#Getting-a-sub-dag\" data-toc-modified-id=\"Getting-a-sub-dag-4.4\"><span class=\"toc-item-num\">4.4&nbsp;&nbsp;</span>Getting a sub-dag</a></span></li></ul></li><li><span><a href=\"#Scrap\" data-toc-modified-id=\"Scrap-5\"><span class=\"toc-item-num\">5&nbsp;&nbsp;</span>Scrap</a></span></li><li><span><a href=\"#Miscellaneous\" data-toc-modified-id=\"Miscellaneous-6\"><span class=\"toc-item-num\">6&nbsp;&nbsp;</span>Miscellaneous</a></span><ul class=\"toc-item\"><li><span><a href=\"#iterize-DAGs\" data-toc-modified-id=\"iterize-DAGs-6.1\"><span class=\"toc-item-num\">6.1&nbsp;&nbsp;</span>iterize DAGs</a></span></li></ul></li></ul></div>"
   ]
  },
  {
   "attachments": {},
   "cell_type": "markdown",
   "metadata": {},
   "source": [
    "# Intro"
   ]
  },
  {
   "attachments": {},
   "cell_type": "markdown",
   "metadata": {},
   "source": [
    "As a matter of introduction, we'll show you how `DAG` composes a set of functions,\n",
    "connecting them (by default) via their argument and function names,\n",
    "resulting in another function.\n",
    "\n",
    "There's a lot more control to making `DAG`s, a lot more to a `DAG`s than just making \n",
    "a function, and a lot more to meshed than just making `DAG`s. \n",
    "But let's keep it simple at first."
   ]
  },
  {
   "cell_type": "code",
   "execution_count": 17,
   "metadata": {
    "ExecuteTime": {
     "end_time": "2021-08-01T17:03:41.180650Z",
     "start_time": "2021-08-01T17:03:40.693256Z"
    },
    "tags": []
   },
   "outputs": [
    {
     "name": "stdout",
     "output_type": "stream",
     "text": [
      "a,b -> this_ -> this\n",
      "x,b -> that_ -> that\n",
      "this,that -> combine_ -> combine\n"
     ]
    }
   ],
   "source": [
    "from meshed import DAG\n",
    "\n",
    "def this(a, b=1):\n",
    "    return a + b\n",
    "def that(x, b=1):\n",
    "    return x * b\n",
    "def combine(this, that):\n",
    "    return (this, that)\n",
    "\n",
    "dag = DAG((this, that, combine))\n",
    "print(dag.synopsis_string())"
   ]
  },
  {
   "attachments": {},
   "cell_type": "markdown",
   "metadata": {},
   "source": [
    "But what does it do?\n",
    "\n",
    "It's a callable, with a signature:"
   ]
  },
  {
   "cell_type": "code",
   "execution_count": 18,
   "metadata": {
    "ExecuteTime": {
     "end_time": "2021-08-01T17:03:55.074138Z",
     "start_time": "2021-08-01T17:03:55.041575Z"
    }
   },
   "outputs": [
    {
     "data": {
      "text/plain": [
       "<Sig (a, x, b=1)>"
      ]
     },
     "execution_count": 18,
     "metadata": {},
     "output_type": "execute_result"
    }
   ],
   "source": [
    "from inspect import signature\n",
    "signature(dag)"
   ]
  },
  {
   "attachments": {},
   "cell_type": "markdown",
   "metadata": {
    "ExecuteTime": {
     "end_time": "2021-08-01T17:04:37.323188Z",
     "start_time": "2021-08-01T17:04:37.292109Z"
    },
    "jupyter": {
     "source_hidden": true
    },
    "tags": []
   },
   "source": [
    "And when you call it, it executes the dag from the root values you give it and\n",
    "returns the leaf output values."
   ]
  },
  {
   "cell_type": "code",
   "execution_count": 23,
   "metadata": {
    "ExecuteTime": {
     "end_time": "2021-08-01T17:04:19.349960Z",
     "start_time": "2021-08-01T17:04:19.318092Z"
    }
   },
   "outputs": [
    {
     "data": {
      "text/plain": [
       "(5, 3)"
      ]
     },
     "execution_count": 23,
     "metadata": {},
     "output_type": "execute_result"
    }
   ],
   "source": [
    "dag(2, 1, 3)  # dag(a=2, x=1, b=3) == dag((a+b,x*b) == (2+3,1*3) == (5, 3)"
   ]
  },
  {
   "cell_type": "code",
   "execution_count": 22,
   "metadata": {
    "ExecuteTime": {
     "end_time": "2021-08-01T17:04:28.476015Z",
     "start_time": "2021-08-01T17:04:28.444183Z"
    }
   },
   "outputs": [
    {
     "data": {
      "text/plain": [
       "(3, 1)"
      ]
     },
     "execution_count": 22,
     "metadata": {},
     "output_type": "execute_result"
    }
   ],
   "source": [
    "dag(2, 1)  # dag(a=2, x=1) == dag(a=2, x=1, b=1) == (a+b,x*b) == (2+1,1*1) == (3, 1)"
   ]
  },
  {
   "attachments": {},
   "cell_type": "markdown",
   "metadata": {},
   "source": [
    "You can see (and save image, or ascii art) the dag:"
   ]
  },
  {
   "cell_type": "code",
   "execution_count": 24,
   "metadata": {
    "ExecuteTime": {
     "end_time": "2021-08-01T17:06:45.148655Z",
     "start_time": "2021-08-01T17:06:44.194296Z"
    }
   },
   "outputs": [
    {
     "data": {
      "image/svg+xml": [
       "<?xml version=\"1.0\" encoding=\"UTF-8\" standalone=\"no\"?>\n",
       "<!DOCTYPE svg PUBLIC \"-//W3C//DTD SVG 1.1//EN\"\n",
       " \"http://www.w3.org/Graphics/SVG/1.1/DTD/svg11.dtd\">\n",
       "<!-- Generated by graphviz version 7.1.0 (20230121.1956)\n",
       " -->\n",
       "<!-- Pages: 1 -->\n",
       "<svg width=\"206pt\" height=\"332pt\"\n",
       " viewBox=\"0.00 0.00 206.00 332.00\" xmlns=\"http://www.w3.org/2000/svg\" xmlns:xlink=\"http://www.w3.org/1999/xlink\">\n",
       "<g id=\"graph0\" class=\"graph\" transform=\"scale(1 1) rotate(0) translate(4 328)\">\n",
       "<polygon fill=\"white\" stroke=\"none\" points=\"-4,4 -4,-328 202,-328 202,4 -4,4\"/>\n",
       "<!-- this -->\n",
       "<g id=\"node1\" class=\"node\">\n",
       "<title>this</title>\n",
       "<text text-anchor=\"middle\" x=\"63\" y=\"-158.3\" font-family=\"Times,serif\" font-size=\"14.00\">this</text>\n",
       "</g>\n",
       "<!-- combine_ -->\n",
       "<g id=\"node9\" class=\"node\">\n",
       "<title>combine_</title>\n",
       "<polygon fill=\"none\" stroke=\"black\" points=\"134.5,-108 63.5,-108 63.5,-72 134.5,-72 134.5,-108\"/>\n",
       "<text text-anchor=\"middle\" x=\"99\" y=\"-86.3\" font-family=\"Times,serif\" font-size=\"14.00\">combine_</text>\n",
       "</g>\n",
       "<!-- this&#45;&gt;combine_ -->\n",
       "<g id=\"edge8\" class=\"edge\">\n",
       "<title>this&#45;&gt;combine_</title>\n",
       "<path fill=\"none\" stroke=\"black\" d=\"M71.71,-144.05C75.68,-136.35 80.47,-127.03 84.93,-118.36\"/>\n",
       "<polygon fill=\"black\" stroke=\"black\" points=\"87.96,-120.11 89.42,-109.62 81.74,-116.91 87.96,-120.11\"/>\n",
       "</g>\n",
       "<!-- a -->\n",
       "<g id=\"node2\" class=\"node\">\n",
       "<title>a</title>\n",
       "<text text-anchor=\"middle\" x=\"27\" y=\"-302.3\" font-family=\"Times,serif\" font-size=\"14.00\">a</text>\n",
       "</g>\n",
       "<!-- this_ -->\n",
       "<g id=\"node4\" class=\"node\">\n",
       "<title>this_</title>\n",
       "<polygon fill=\"none\" stroke=\"black\" points=\"90,-252 36,-252 36,-216 90,-216 90,-252\"/>\n",
       "<text text-anchor=\"middle\" x=\"63\" y=\"-230.3\" font-family=\"Times,serif\" font-size=\"14.00\">this_</text>\n",
       "</g>\n",
       "<!-- a&#45;&gt;this_ -->\n",
       "<g id=\"edge2\" class=\"edge\">\n",
       "<title>a&#45;&gt;this_</title>\n",
       "<path fill=\"none\" stroke=\"black\" d=\"M35.71,-288.05C39.68,-280.35 44.47,-271.03 48.93,-262.36\"/>\n",
       "<polygon fill=\"black\" stroke=\"black\" points=\"51.96,-264.11 53.42,-253.62 45.74,-260.91 51.96,-264.11\"/>\n",
       "</g>\n",
       "<!-- b -->\n",
       "<g id=\"node3\" class=\"node\">\n",
       "<title>b</title>\n",
       "<text text-anchor=\"middle\" x=\"99\" y=\"-302.3\" font-family=\"Times,serif\" font-size=\"14.00\">b=</text>\n",
       "</g>\n",
       "<!-- b&#45;&gt;this_ -->\n",
       "<g id=\"edge3\" class=\"edge\">\n",
       "<title>b&#45;&gt;this_</title>\n",
       "<path fill=\"none\" stroke=\"black\" d=\"M90.29,-288.05C86.32,-280.35 81.53,-271.03 77.07,-262.36\"/>\n",
       "<polygon fill=\"black\" stroke=\"black\" points=\"80.26,-260.91 72.58,-253.62 74.04,-264.11 80.26,-260.91\"/>\n",
       "</g>\n",
       "<!-- that_ -->\n",
       "<g id=\"node7\" class=\"node\">\n",
       "<title>that_</title>\n",
       "<polygon fill=\"none\" stroke=\"black\" points=\"162,-252 108,-252 108,-216 162,-216 162,-252\"/>\n",
       "<text text-anchor=\"middle\" x=\"135\" y=\"-230.3\" font-family=\"Times,serif\" font-size=\"14.00\">that_</text>\n",
       "</g>\n",
       "<!-- b&#45;&gt;that_ -->\n",
       "<g id=\"edge6\" class=\"edge\">\n",
       "<title>b&#45;&gt;that_</title>\n",
       "<path fill=\"none\" stroke=\"black\" d=\"M107.71,-288.05C111.68,-280.35 116.47,-271.03 120.93,-262.36\"/>\n",
       "<polygon fill=\"black\" stroke=\"black\" points=\"123.96,-264.11 125.42,-253.62 117.74,-260.91 123.96,-264.11\"/>\n",
       "</g>\n",
       "<!-- this_&#45;&gt;this -->\n",
       "<g id=\"edge1\" class=\"edge\">\n",
       "<title>this_&#45;&gt;this</title>\n",
       "<path fill=\"none\" stroke=\"black\" d=\"M63,-215.7C63,-208.21 63,-199.26 63,-190.88\"/>\n",
       "<polygon fill=\"black\" stroke=\"black\" points=\"66.5,-191.14 63,-181.14 59.5,-191.14 66.5,-191.14\"/>\n",
       "</g>\n",
       "<!-- that -->\n",
       "<g id=\"node5\" class=\"node\">\n",
       "<title>that</title>\n",
       "<text text-anchor=\"middle\" x=\"135\" y=\"-158.3\" font-family=\"Times,serif\" font-size=\"14.00\">that</text>\n",
       "</g>\n",
       "<!-- that&#45;&gt;combine_ -->\n",
       "<g id=\"edge9\" class=\"edge\">\n",
       "<title>that&#45;&gt;combine_</title>\n",
       "<path fill=\"none\" stroke=\"black\" d=\"M126.29,-144.05C122.32,-136.35 117.53,-127.03 113.07,-118.36\"/>\n",
       "<polygon fill=\"black\" stroke=\"black\" points=\"116.26,-116.91 108.58,-109.62 110.04,-120.11 116.26,-116.91\"/>\n",
       "</g>\n",
       "<!-- x -->\n",
       "<g id=\"node6\" class=\"node\">\n",
       "<title>x</title>\n",
       "<text text-anchor=\"middle\" x=\"171\" y=\"-302.3\" font-family=\"Times,serif\" font-size=\"14.00\">x</text>\n",
       "</g>\n",
       "<!-- x&#45;&gt;that_ -->\n",
       "<g id=\"edge5\" class=\"edge\">\n",
       "<title>x&#45;&gt;that_</title>\n",
       "<path fill=\"none\" stroke=\"black\" d=\"M162.29,-288.05C158.32,-280.35 153.53,-271.03 149.07,-262.36\"/>\n",
       "<polygon fill=\"black\" stroke=\"black\" points=\"152.26,-260.91 144.58,-253.62 146.04,-264.11 152.26,-260.91\"/>\n",
       "</g>\n",
       "<!-- that_&#45;&gt;that -->\n",
       "<g id=\"edge4\" class=\"edge\">\n",
       "<title>that_&#45;&gt;that</title>\n",
       "<path fill=\"none\" stroke=\"black\" d=\"M135,-215.7C135,-208.21 135,-199.26 135,-190.88\"/>\n",
       "<polygon fill=\"black\" stroke=\"black\" points=\"138.5,-191.14 135,-181.14 131.5,-191.14 138.5,-191.14\"/>\n",
       "</g>\n",
       "<!-- combine -->\n",
       "<g id=\"node8\" class=\"node\">\n",
       "<title>combine</title>\n",
       "<text text-anchor=\"middle\" x=\"99\" y=\"-14.3\" font-family=\"Times,serif\" font-size=\"14.00\">combine</text>\n",
       "</g>\n",
       "<!-- combine_&#45;&gt;combine -->\n",
       "<g id=\"edge7\" class=\"edge\">\n",
       "<title>combine_&#45;&gt;combine</title>\n",
       "<path fill=\"none\" stroke=\"black\" d=\"M99,-71.7C99,-64.21 99,-55.26 99,-46.88\"/>\n",
       "<polygon fill=\"black\" stroke=\"black\" points=\"102.5,-47.14 99,-37.14 95.5,-47.14 102.5,-47.14\"/>\n",
       "</g>\n",
       "</g>\n",
       "</svg>\n"
      ],
      "text/plain": [
       "<graphviz.graphs.Digraph at 0x10763f8e0>"
      ]
     },
     "execution_count": 24,
     "metadata": {},
     "output_type": "execute_result"
    }
   ],
   "source": [
    "dag.dot_digraph()"
   ]
  },
  {
   "attachments": {},
   "cell_type": "markdown",
   "metadata": {},
   "source": [
    "You also have a some amount of control over this view (see https://graphviz.org/ for more)"
   ]
  },
  {
   "cell_type": "code",
   "execution_count": 43,
   "metadata": {},
   "outputs": [
    {
     "data": {
      "image/svg+xml": [
       "<?xml version=\"1.0\" encoding=\"UTF-8\" standalone=\"no\"?>\n",
       "<!DOCTYPE svg PUBLIC \"-//W3C//DTD SVG 1.1//EN\"\n",
       " \"http://www.w3.org/Graphics/SVG/1.1/DTD/svg11.dtd\">\n",
       "<!-- Generated by graphviz version 7.1.0 (20230121.1956)\n",
       " -->\n",
       "<!-- Pages: 1 -->\n",
       "<svg width=\"642pt\" height=\"152pt\"\n",
       " viewBox=\"0.00 0.00 642.17 152.00\" xmlns=\"http://www.w3.org/2000/svg\" xmlns:xlink=\"http://www.w3.org/1999/xlink\">\n",
       "<g id=\"graph0\" class=\"graph\" transform=\"scale(1 1) rotate(0) translate(4 148)\">\n",
       "<polygon fill=\"white\" stroke=\"none\" points=\"-4,4 -4,-148 638.17,-148 638.17,4 -4,4\"/>\n",
       "<!-- this -->\n",
       "<g id=\"node1\" class=\"node\">\n",
       "<title>this</title>\n",
       "<ellipse fill=\"none\" stroke=\"black\" cx=\"267.39\" cy=\"-101\" rx=\"27\" ry=\"18\"/>\n",
       "<text text-anchor=\"middle\" x=\"267.39\" y=\"-97.3\" font-family=\"Times,serif\" font-size=\"14.00\">this</text>\n",
       "</g>\n",
       "<!-- combine_ -->\n",
       "<g id=\"node9\" class=\"node\">\n",
       "<title>combine_</title>\n",
       "<polygon fill=\"none\" stroke=\"black\" points=\"422.68,-95 330.6,-60.5 514.77,-60.5 422.68,-95\"/>\n",
       "<text text-anchor=\"middle\" x=\"422.68\" y=\"-68.3\" font-family=\"Times,serif\" font-size=\"14.00\">combine_</text>\n",
       "</g>\n",
       "<!-- this&#45;&gt;combine_ -->\n",
       "<g id=\"edge8\" class=\"edge\">\n",
       "<title>this&#45;&gt;combine_</title>\n",
       "<path fill=\"none\" stroke=\"black\" d=\"M293.7,-96.21C314.3,-92.32 344.04,-86.69 369.67,-81.84\"/>\n",
       "<polygon fill=\"black\" stroke=\"black\" points=\"370.07,-85.33 379.25,-80.03 368.77,-78.45 370.07,-85.33\"/>\n",
       "</g>\n",
       "<!-- a -->\n",
       "<g id=\"node2\" class=\"node\">\n",
       "<title>a</title>\n",
       "<ellipse fill=\"blue\" stroke=\"black\" cx=\"27\" cy=\"-126\" rx=\"27\" ry=\"18\"/>\n",
       "<text text-anchor=\"middle\" x=\"27\" y=\"-122.3\" font-family=\"Times,serif\" font-size=\"14.00\">a</text>\n",
       "</g>\n",
       "<!-- this_ -->\n",
       "<g id=\"node4\" class=\"node\">\n",
       "<title>this_</title>\n",
       "<polygon fill=\"none\" stroke=\"black\" points=\"147.19,-127 91.4,-92.5 202.99,-92.5 147.19,-127\"/>\n",
       "<text text-anchor=\"middle\" x=\"147.19\" y=\"-100.3\" font-family=\"Times,serif\" font-size=\"14.00\">this_</text>\n",
       "</g>\n",
       "<!-- a&#45;&gt;this_ -->\n",
       "<g id=\"edge2\" class=\"edge\">\n",
       "<title>a&#45;&gt;this_</title>\n",
       "<path fill=\"none\" stroke=\"black\" d=\"M53.36,-121.28C68.94,-118.38 89.22,-114.6 106.85,-111.32\"/>\n",
       "<polygon fill=\"black\" stroke=\"black\" points=\"107.3,-114.8 116.49,-109.53 106.02,-107.92 107.3,-114.8\"/>\n",
       "</g>\n",
       "<!-- b -->\n",
       "<g id=\"node3\" class=\"node\">\n",
       "<title>b</title>\n",
       "<ellipse fill=\"none\" stroke=\"black\" cx=\"27\" cy=\"-72\" rx=\"27\" ry=\"18\"/>\n",
       "<text text-anchor=\"middle\" x=\"27\" y=\"-68.3\" font-family=\"Times,serif\" font-size=\"14.00\">b=</text>\n",
       "</g>\n",
       "<!-- b&#45;&gt;this_ -->\n",
       "<g id=\"edge3\" class=\"edge\">\n",
       "<title>b&#45;&gt;this_</title>\n",
       "<path fill=\"none\" stroke=\"black\" d=\"M52.49,-78.63C63.8,-81.69 77.72,-85.46 91.34,-89.15\"/>\n",
       "<polygon fill=\"black\" stroke=\"black\" points=\"90.12,-92.44 100.69,-91.68 91.95,-85.69 90.12,-92.44\"/>\n",
       "</g>\n",
       "<!-- that_ -->\n",
       "<g id=\"node7\" class=\"node\">\n",
       "<title>that_</title>\n",
       "<polygon fill=\"none\" stroke=\"black\" points=\"147.19,-63 89.8,-28.5 204.59,-28.5 147.19,-63\"/>\n",
       "<text text-anchor=\"middle\" x=\"147.19\" y=\"-36.3\" font-family=\"Times,serif\" font-size=\"14.00\">that_</text>\n",
       "</g>\n",
       "<!-- b&#45;&gt;that_ -->\n",
       "<g id=\"edge6\" class=\"edge\">\n",
       "<title>b&#45;&gt;that_</title>\n",
       "<path fill=\"none\" stroke=\"black\" d=\"M52.49,-65.37C68.84,-60.94 90.65,-55.04 109.11,-50.04\"/>\n",
       "<polygon fill=\"black\" stroke=\"black\" points=\"109.9,-53.45 118.64,-47.46 108.07,-46.7 109.9,-53.45\"/>\n",
       "</g>\n",
       "<!-- this_&#45;&gt;this -->\n",
       "<g id=\"edge1\" class=\"edge\">\n",
       "<title>this_&#45;&gt;this</title>\n",
       "<path fill=\"none\" stroke=\"black\" d=\"M186.9,-103.02C200.33,-102.68 215.37,-102.3 228.72,-101.96\"/>\n",
       "<polygon fill=\"black\" stroke=\"black\" points=\"228.51,-105.46 238.42,-101.71 228.33,-98.46 228.51,-105.46\"/>\n",
       "</g>\n",
       "<!-- that -->\n",
       "<g id=\"node5\" class=\"node\">\n",
       "<title>that</title>\n",
       "<ellipse fill=\"none\" stroke=\"black\" cx=\"267.39\" cy=\"-45\" rx=\"27\" ry=\"18\"/>\n",
       "<text text-anchor=\"middle\" x=\"267.39\" y=\"-41.3\" font-family=\"Times,serif\" font-size=\"14.00\">that</text>\n",
       "</g>\n",
       "<!-- that&#45;&gt;combine_ -->\n",
       "<g id=\"edge9\" class=\"edge\">\n",
       "<title>that&#45;&gt;combine_</title>\n",
       "<path fill=\"none\" stroke=\"black\" d=\"M294.05,-49.52C307.6,-51.91 325.04,-54.98 342.65,-58.08\"/>\n",
       "<polygon fill=\"black\" stroke=\"black\" points=\"341.66,-61.46 352.12,-59.75 342.88,-54.57 341.66,-61.46\"/>\n",
       "</g>\n",
       "<!-- x -->\n",
       "<g id=\"node6\" class=\"node\">\n",
       "<title>x</title>\n",
       "<ellipse fill=\"blue\" stroke=\"black\" cx=\"27\" cy=\"-18\" rx=\"27\" ry=\"18\"/>\n",
       "<text text-anchor=\"middle\" x=\"27\" y=\"-14.3\" font-family=\"Times,serif\" font-size=\"14.00\">x</text>\n",
       "</g>\n",
       "<!-- x&#45;&gt;that_ -->\n",
       "<g id=\"edge5\" class=\"edge\">\n",
       "<title>x&#45;&gt;that_</title>\n",
       "<path fill=\"none\" stroke=\"black\" d=\"M53.36,-22.72C61.35,-24.21 70.59,-25.93 80.07,-27.69\"/>\n",
       "<polygon fill=\"black\" stroke=\"black\" points=\"79.29,-31.11 89.76,-29.5 80.57,-24.22 79.29,-31.11\"/>\n",
       "</g>\n",
       "<!-- that_&#45;&gt;that -->\n",
       "<g id=\"edge4\" class=\"edge\">\n",
       "<title>that_&#45;&gt;that</title>\n",
       "<path fill=\"none\" stroke=\"black\" d=\"M183.66,-41.5C197.93,-42.1 214.4,-42.8 228.88,-43.41\"/>\n",
       "<polygon fill=\"black\" stroke=\"black\" points=\"228.32,-46.89 238.46,-43.82 228.62,-39.9 228.32,-46.89\"/>\n",
       "</g>\n",
       "<!-- combine -->\n",
       "<g id=\"node8\" class=\"node\">\n",
       "<title>combine</title>\n",
       "<ellipse fill=\"none\" stroke=\"black\" cx=\"592.57\" cy=\"-72\" rx=\"41.69\" ry=\"18\"/>\n",
       "<text text-anchor=\"middle\" x=\"592.57\" y=\"-68.3\" font-family=\"Times,serif\" font-size=\"14.00\">combine</text>\n",
       "</g>\n",
       "<!-- combine_&#45;&gt;combine -->\n",
       "<g id=\"edge7\" class=\"edge\">\n",
       "<title>combine_&#45;&gt;combine</title>\n",
       "<path fill=\"none\" stroke=\"black\" d=\"M485.24,-72C502.88,-72 521.95,-72 538.99,-72\"/>\n",
       "<polygon fill=\"black\" stroke=\"black\" points=\"538.92,-75.5 548.92,-72 538.92,-68.5 538.92,-75.5\"/>\n",
       "</g>\n",
       "</g>\n",
       "</svg>\n"
      ],
      "text/plain": [
       "<graphviz.graphs.Digraph at 0x10c9ff0a0>"
      ]
     },
     "execution_count": 43,
     "metadata": {},
     "output_type": "execute_result"
    }
   ],
   "source": [
    "dag.dot_digraph(\n",
    "    start_lines=\"rankdir=LR\", \n",
    "    end_lines='a, x [style=filled fillcolor=blue]', \n",
    "    vnode_shape='ellipse', \n",
    "    fnode_shape='triangle'\n",
    ")"
   ]
  },
  {
   "attachments": {},
   "cell_type": "markdown",
   "metadata": {},
   "source": [
    "You can extend a dag"
   ]
  },
  {
   "cell_type": "code",
   "execution_count": 47,
   "metadata": {
    "ExecuteTime": {
     "end_time": "2021-08-01T17:12:56.491504Z",
     "start_time": "2021-08-01T17:12:56.213990Z"
    }
   },
   "outputs": [
    {
     "data": {
      "image/svg+xml": [
       "<?xml version=\"1.0\" encoding=\"UTF-8\" standalone=\"no\"?>\n",
       "<!DOCTYPE svg PUBLIC \"-//W3C//DTD SVG 1.1//EN\"\n",
       " \"http://www.w3.org/Graphics/SVG/1.1/DTD/svg11.dtd\">\n",
       "<!-- Generated by graphviz version 7.1.0 (20230121.1956)\n",
       " -->\n",
       "<!-- Pages: 1 -->\n",
       "<svg width=\"211pt\" height=\"332pt\"\n",
       " viewBox=\"0.00 0.00 210.50 332.00\" xmlns=\"http://www.w3.org/2000/svg\" xmlns:xlink=\"http://www.w3.org/1999/xlink\">\n",
       "<g id=\"graph0\" class=\"graph\" transform=\"scale(1 1) rotate(0) translate(4 328)\">\n",
       "<polygon fill=\"white\" stroke=\"none\" points=\"-4,4 -4,-328 206.5,-328 206.5,4 -4,4\"/>\n",
       "<!-- this -->\n",
       "<g id=\"node1\" class=\"node\">\n",
       "<title>this</title>\n",
       "<text text-anchor=\"middle\" x=\"86.5\" y=\"-158.3\" font-family=\"Times,serif\" font-size=\"14.00\">this</text>\n",
       "</g>\n",
       "<!-- combine_ -->\n",
       "<g id=\"node9\" class=\"node\">\n",
       "<title>combine_</title>\n",
       "<polygon fill=\"none\" stroke=\"black\" points=\"187,-108 116,-108 116,-72 187,-72 187,-108\"/>\n",
       "<text text-anchor=\"middle\" x=\"151.5\" y=\"-86.3\" font-family=\"Times,serif\" font-size=\"14.00\">combine_</text>\n",
       "</g>\n",
       "<!-- this&#45;&gt;combine_ -->\n",
       "<g id=\"edge8\" class=\"edge\">\n",
       "<title>this&#45;&gt;combine_</title>\n",
       "<path fill=\"none\" stroke=\"black\" d=\"M102.23,-144.05C109.87,-135.84 119.19,-125.79 127.67,-116.66\"/>\n",
       "<polygon fill=\"black\" stroke=\"black\" points=\"130.19,-119.09 134.43,-109.38 125.06,-114.33 130.19,-119.09\"/>\n",
       "</g>\n",
       "<!-- lambda_007_ -->\n",
       "<g id=\"node11\" class=\"node\">\n",
       "<title>lambda_007_</title>\n",
       "<polygon fill=\"none\" stroke=\"black\" points=\"91,-108 0,-108 0,-72 91,-72 91,-108\"/>\n",
       "<text text-anchor=\"middle\" x=\"45.5\" y=\"-86.3\" font-family=\"Times,serif\" font-size=\"14.00\">lambda_007_</text>\n",
       "</g>\n",
       "<!-- this&#45;&gt;lambda_007_ -->\n",
       "<g id=\"edge11\" class=\"edge\">\n",
       "<title>this&#45;&gt;lambda_007_</title>\n",
       "<path fill=\"none\" stroke=\"black\" d=\"M76.58,-144.05C72.01,-136.26 66.48,-126.82 61.36,-118.08\"/>\n",
       "<polygon fill=\"black\" stroke=\"black\" points=\"64.46,-116.44 56.38,-109.58 58.42,-119.98 64.46,-116.44\"/>\n",
       "</g>\n",
       "<!-- a -->\n",
       "<g id=\"node2\" class=\"node\">\n",
       "<title>a</title>\n",
       "<text text-anchor=\"middle\" x=\"31.5\" y=\"-302.3\" font-family=\"Times,serif\" font-size=\"14.00\">a</text>\n",
       "</g>\n",
       "<!-- this_ -->\n",
       "<g id=\"node4\" class=\"node\">\n",
       "<title>this_</title>\n",
       "<polygon fill=\"none\" stroke=\"black\" points=\"113.5,-252 59.5,-252 59.5,-216 113.5,-216 113.5,-252\"/>\n",
       "<text text-anchor=\"middle\" x=\"86.5\" y=\"-230.3\" font-family=\"Times,serif\" font-size=\"14.00\">this_</text>\n",
       "</g>\n",
       "<!-- a&#45;&gt;this_ -->\n",
       "<g id=\"edge2\" class=\"edge\">\n",
       "<title>a&#45;&gt;this_</title>\n",
       "<path fill=\"none\" stroke=\"black\" d=\"M44.81,-288.05C51.14,-280.01 58.84,-270.2 65.89,-261.23\"/>\n",
       "<polygon fill=\"black\" stroke=\"black\" points=\"68.57,-263.49 71.99,-253.47 63.06,-259.17 68.57,-263.49\"/>\n",
       "</g>\n",
       "<!-- a&#45;&gt;lambda_007_ -->\n",
       "<g id=\"edge12\" class=\"edge\">\n",
       "<title>a&#45;&gt;lambda_007_</title>\n",
       "<path fill=\"none\" stroke=\"black\" d=\"M32.6,-288.21C34.98,-251.74 40.66,-164.96 43.63,-119.65\"/>\n",
       "<polygon fill=\"black\" stroke=\"black\" points=\"47.11,-120.03 44.27,-109.82 40.12,-119.57 47.11,-120.03\"/>\n",
       "</g>\n",
       "<!-- b -->\n",
       "<g id=\"node3\" class=\"node\">\n",
       "<title>b</title>\n",
       "<text text-anchor=\"middle\" x=\"103.5\" y=\"-302.3\" font-family=\"Times,serif\" font-size=\"14.00\">b=</text>\n",
       "</g>\n",
       "<!-- b&#45;&gt;this_ -->\n",
       "<g id=\"edge3\" class=\"edge\">\n",
       "<title>b&#45;&gt;this_</title>\n",
       "<path fill=\"none\" stroke=\"black\" d=\"M99.38,-288.05C97.57,-280.6 95.4,-271.64 93.35,-263.22\"/>\n",
       "<polygon fill=\"black\" stroke=\"black\" points=\"96.81,-262.64 91.05,-253.75 90.01,-264.29 96.81,-262.64\"/>\n",
       "</g>\n",
       "<!-- that_ -->\n",
       "<g id=\"node7\" class=\"node\">\n",
       "<title>that_</title>\n",
       "<polygon fill=\"none\" stroke=\"black\" points=\"185.5,-252 131.5,-252 131.5,-216 185.5,-216 185.5,-252\"/>\n",
       "<text text-anchor=\"middle\" x=\"158.5\" y=\"-230.3\" font-family=\"Times,serif\" font-size=\"14.00\">that_</text>\n",
       "</g>\n",
       "<!-- b&#45;&gt;that_ -->\n",
       "<g id=\"edge6\" class=\"edge\">\n",
       "<title>b&#45;&gt;that_</title>\n",
       "<path fill=\"none\" stroke=\"black\" d=\"M116.81,-288.05C123.14,-280.01 130.84,-270.2 137.89,-261.23\"/>\n",
       "<polygon fill=\"black\" stroke=\"black\" points=\"140.57,-263.49 143.99,-253.47 135.06,-259.17 140.57,-263.49\"/>\n",
       "</g>\n",
       "<!-- this_&#45;&gt;this -->\n",
       "<g id=\"edge1\" class=\"edge\">\n",
       "<title>this_&#45;&gt;this</title>\n",
       "<path fill=\"none\" stroke=\"black\" d=\"M86.5,-215.7C86.5,-208.21 86.5,-199.26 86.5,-190.88\"/>\n",
       "<polygon fill=\"black\" stroke=\"black\" points=\"90,-191.14 86.5,-181.14 83,-191.14 90,-191.14\"/>\n",
       "</g>\n",
       "<!-- that -->\n",
       "<g id=\"node5\" class=\"node\">\n",
       "<title>that</title>\n",
       "<text text-anchor=\"middle\" x=\"158.5\" y=\"-158.3\" font-family=\"Times,serif\" font-size=\"14.00\">that</text>\n",
       "</g>\n",
       "<!-- that&#45;&gt;combine_ -->\n",
       "<g id=\"edge9\" class=\"edge\">\n",
       "<title>that&#45;&gt;combine_</title>\n",
       "<path fill=\"none\" stroke=\"black\" d=\"M156.81,-144.05C156.07,-136.68 155.18,-127.84 154.35,-119.51\"/>\n",
       "<polygon fill=\"black\" stroke=\"black\" points=\"157.86,-119.38 153.38,-109.78 150.89,-120.08 157.86,-119.38\"/>\n",
       "</g>\n",
       "<!-- x -->\n",
       "<g id=\"node6\" class=\"node\">\n",
       "<title>x</title>\n",
       "<text text-anchor=\"middle\" x=\"175.5\" y=\"-302.3\" font-family=\"Times,serif\" font-size=\"14.00\">x</text>\n",
       "</g>\n",
       "<!-- x&#45;&gt;that_ -->\n",
       "<g id=\"edge5\" class=\"edge\">\n",
       "<title>x&#45;&gt;that_</title>\n",
       "<path fill=\"none\" stroke=\"black\" d=\"M171.38,-288.05C169.57,-280.6 167.4,-271.64 165.35,-263.22\"/>\n",
       "<polygon fill=\"black\" stroke=\"black\" points=\"168.81,-262.64 163.05,-253.75 162.01,-264.29 168.81,-262.64\"/>\n",
       "</g>\n",
       "<!-- that_&#45;&gt;that -->\n",
       "<g id=\"edge4\" class=\"edge\">\n",
       "<title>that_&#45;&gt;that</title>\n",
       "<path fill=\"none\" stroke=\"black\" d=\"M158.5,-215.7C158.5,-208.21 158.5,-199.26 158.5,-190.88\"/>\n",
       "<polygon fill=\"black\" stroke=\"black\" points=\"162,-191.14 158.5,-181.14 155,-191.14 162,-191.14\"/>\n",
       "</g>\n",
       "<!-- combine -->\n",
       "<g id=\"node8\" class=\"node\">\n",
       "<title>combine</title>\n",
       "<text text-anchor=\"middle\" x=\"151.5\" y=\"-14.3\" font-family=\"Times,serif\" font-size=\"14.00\">combine</text>\n",
       "</g>\n",
       "<!-- combine_&#45;&gt;combine -->\n",
       "<g id=\"edge7\" class=\"edge\">\n",
       "<title>combine_&#45;&gt;combine</title>\n",
       "<path fill=\"none\" stroke=\"black\" d=\"M151.5,-71.7C151.5,-64.21 151.5,-55.26 151.5,-46.88\"/>\n",
       "<polygon fill=\"black\" stroke=\"black\" points=\"155,-47.14 151.5,-37.14 148,-47.14 155,-47.14\"/>\n",
       "</g>\n",
       "<!-- lambda_007 -->\n",
       "<g id=\"node10\" class=\"node\">\n",
       "<title>lambda_007</title>\n",
       "<text text-anchor=\"middle\" x=\"45.5\" y=\"-14.3\" font-family=\"Times,serif\" font-size=\"14.00\">lambda_007</text>\n",
       "</g>\n",
       "<!-- lambda_007_&#45;&gt;lambda_007 -->\n",
       "<g id=\"edge10\" class=\"edge\">\n",
       "<title>lambda_007_&#45;&gt;lambda_007</title>\n",
       "<path fill=\"none\" stroke=\"black\" d=\"M45.5,-71.7C45.5,-64.21 45.5,-55.26 45.5,-46.88\"/>\n",
       "<polygon fill=\"black\" stroke=\"black\" points=\"49,-47.14 45.5,-37.14 42,-47.14 49,-47.14\"/>\n",
       "</g>\n",
       "</g>\n",
       "</svg>\n"
      ],
      "text/plain": [
       "<graphviz.graphs.Digraph at 0x10763f1f0>"
      ]
     },
     "execution_count": 47,
     "metadata": {},
     "output_type": "execute_result"
    }
   ],
   "source": [
    "dag2 = DAG([*dag, lambda this, a: this + a])  # Note that [*dag] is a list of func nodes\n",
    "# dag2 = dag + (lambda this, a: this + a)  # equivalently (adding dags, and functions)\n",
    "dag2.dot_digraph()"
   ]
  },
  {
   "attachments": {},
   "cell_type": "markdown",
   "metadata": {},
   "source": [
    "You can get a sub-dag by specifying desired input(s) and outputs."
   ]
  },
  {
   "cell_type": "code",
   "execution_count": 16,
   "metadata": {},
   "outputs": [
    {
     "data": {
      "image/svg+xml": [
       "<?xml version=\"1.0\" encoding=\"UTF-8\" standalone=\"no\"?>\n",
       "<!DOCTYPE svg PUBLIC \"-//W3C//DTD SVG 1.1//EN\"\n",
       " \"http://www.w3.org/Graphics/SVG/1.1/DTD/svg11.dtd\">\n",
       "<!-- Generated by graphviz version 7.1.0 (20230121.1956)\n",
       " -->\n",
       "<!-- Pages: 1 -->\n",
       "<svg width=\"134pt\" height=\"188pt\"\n",
       " viewBox=\"0.00 0.00 134.00 188.00\" xmlns=\"http://www.w3.org/2000/svg\" xmlns:xlink=\"http://www.w3.org/1999/xlink\">\n",
       "<g id=\"graph0\" class=\"graph\" transform=\"scale(1 1) rotate(0) translate(4 184)\">\n",
       "<polygon fill=\"white\" stroke=\"none\" points=\"-4,4 -4,-184 130,-184 130,4 -4,4\"/>\n",
       "<!-- combine -->\n",
       "<g id=\"node1\" class=\"node\">\n",
       "<title>combine</title>\n",
       "<text text-anchor=\"middle\" x=\"63\" y=\"-14.3\" font-family=\"Times,serif\" font-size=\"14.00\">combine</text>\n",
       "</g>\n",
       "<!-- this -->\n",
       "<g id=\"node2\" class=\"node\">\n",
       "<title>this</title>\n",
       "<text text-anchor=\"middle\" x=\"27\" y=\"-158.3\" font-family=\"Times,serif\" font-size=\"14.00\">this</text>\n",
       "</g>\n",
       "<!-- combine_ -->\n",
       "<g id=\"node4\" class=\"node\">\n",
       "<title>combine_</title>\n",
       "<polygon fill=\"none\" stroke=\"black\" points=\"98.5,-108 27.5,-108 27.5,-72 98.5,-72 98.5,-108\"/>\n",
       "<text text-anchor=\"middle\" x=\"63\" y=\"-86.3\" font-family=\"Times,serif\" font-size=\"14.00\">combine_</text>\n",
       "</g>\n",
       "<!-- this&#45;&gt;combine_ -->\n",
       "<g id=\"edge2\" class=\"edge\">\n",
       "<title>this&#45;&gt;combine_</title>\n",
       "<path fill=\"none\" stroke=\"black\" d=\"M35.71,-144.05C39.68,-136.35 44.47,-127.03 48.93,-118.36\"/>\n",
       "<polygon fill=\"black\" stroke=\"black\" points=\"51.96,-120.11 53.42,-109.62 45.74,-116.91 51.96,-120.11\"/>\n",
       "</g>\n",
       "<!-- that -->\n",
       "<g id=\"node3\" class=\"node\">\n",
       "<title>that</title>\n",
       "<text text-anchor=\"middle\" x=\"99\" y=\"-158.3\" font-family=\"Times,serif\" font-size=\"14.00\">that</text>\n",
       "</g>\n",
       "<!-- that&#45;&gt;combine_ -->\n",
       "<g id=\"edge3\" class=\"edge\">\n",
       "<title>that&#45;&gt;combine_</title>\n",
       "<path fill=\"none\" stroke=\"black\" d=\"M90.29,-144.05C86.32,-136.35 81.53,-127.03 77.07,-118.36\"/>\n",
       "<polygon fill=\"black\" stroke=\"black\" points=\"80.26,-116.91 72.58,-109.62 74.04,-120.11 80.26,-116.91\"/>\n",
       "</g>\n",
       "<!-- combine_&#45;&gt;combine -->\n",
       "<g id=\"edge1\" class=\"edge\">\n",
       "<title>combine_&#45;&gt;combine</title>\n",
       "<path fill=\"none\" stroke=\"black\" d=\"M63,-71.7C63,-64.21 63,-55.26 63,-46.88\"/>\n",
       "<polygon fill=\"black\" stroke=\"black\" points=\"66.5,-47.14 63,-37.14 59.5,-47.14 66.5,-47.14\"/>\n",
       "</g>\n",
       "</g>\n",
       "</svg>\n"
      ],
      "text/plain": [
       "<graphviz.graphs.Digraph at 0x10cc4f4c0>"
      ]
     },
     "execution_count": 16,
     "metadata": {},
     "output_type": "execute_result"
    }
   ],
   "source": [
    "dag2['that this':'combine'].dot_digraph()  # or dag2[['that', 'this']:'combine'].dot_digraph()"
   ]
  },
  {
   "cell_type": "code",
   "execution_count": null,
   "metadata": {},
   "outputs": [],
   "source": []
  },
  {
   "attachments": {},
   "cell_type": "markdown",
   "metadata": {},
   "source": [
    "# FuncNode"
   ]
  },
  {
   "attachments": {},
   "cell_type": "markdown",
   "metadata": {},
   "source": [
    "The `FuncNode` class is a cornerstone class of `meshed`. \n",
    "\n",
    "It wraps a function with information on how to interact with its environment. \n",
    "\n",
    "Or more precisely, where, in a scope (where variables/data is recorded), it sources its inputs and writes its results."
   ]
  },
  {
   "cell_type": "code",
   "execution_count": 9,
   "metadata": {
    "ExecuteTime": {
     "end_time": "2021-08-01T14:47:43.657430Z",
     "start_time": "2021-08-01T14:47:43.562796Z"
    }
   },
   "outputs": [],
   "source": [
    "from meshed import FuncNode"
   ]
  },
  {
   "attachments": {},
   "cell_type": "markdown",
   "metadata": {},
   "source": [
    "## What for?"
   ]
  },
  {
   "attachments": {},
   "cell_type": "markdown",
   "metadata": {},
   "source": [
    "Say you have a function to multiply numbers"
   ]
  },
  {
   "cell_type": "code",
   "execution_count": 10,
   "metadata": {
    "ExecuteTime": {
     "end_time": "2021-08-01T14:47:43.680086Z",
     "start_time": "2021-08-01T14:47:43.659533Z"
    }
   },
   "outputs": [],
   "source": [
    "def multiply(x, y):\n",
    "    return x * y"
   ]
  },
  {
   "attachments": {},
   "cell_type": "markdown",
   "metadata": {},
   "source": [
    "And you use it in some code like this:"
   ]
  },
  {
   "cell_type": "code",
   "execution_count": 11,
   "metadata": {
    "ExecuteTime": {
     "end_time": "2021-08-01T14:47:43.703718Z",
     "start_time": "2021-08-01T14:47:43.681947Z"
    }
   },
   "outputs": [],
   "source": [
    "item_price = 3.5\n",
    "num_of_items = 2\n",
    "total_price = multiply(item_price, num_of_items)"
   ]
  },
  {
   "attachments": {},
   "cell_type": "markdown",
   "metadata": {},
   "source": [
    "What the execution of `total_price = multiply(item_price, num_of_items)` does is\n",
    "- grab the values (in the locals scope -- a dict), of ``item_price`` and ``num_of_items``,\n",
    "- call the multiply function on these, and then\n",
    "- write the result to a variable (in locals) named ``total_price``"
   ]
  },
  {
   "attachments": {},
   "cell_type": "markdown",
   "metadata": {},
   "source": [
    "`FuncNode` is a function wrapper that specification of such a `output = function(...inputs...)` assignment statement \n",
    "in such a way that it can carry it out on a `scope`. A `scope` is a `dict` where the function can find it's input values and write it's output values \n",
    "(if the user so chooses). \n",
    "\n",
    "For example, the `FuncNode` form of the above statement would be:"
   ]
  },
  {
   "cell_type": "code",
   "execution_count": 12,
   "metadata": {
    "ExecuteTime": {
     "end_time": "2021-08-01T14:47:43.729619Z",
     "start_time": "2021-08-01T14:47:43.705924Z"
    }
   },
   "outputs": [
    {
     "data": {
      "text/plain": [
       "FuncNode(item_price,num_of_items -> multiply_ -> multiply)"
      ]
     },
     "execution_count": 12,
     "metadata": {},
     "output_type": "execute_result"
    }
   ],
   "source": [
    "func_node = FuncNode(\n",
    "    func=multiply, \n",
    "    bind={'x': 'item_price', 'y': 'num_of_items'}, \n",
    ")\n",
    "func_node"
   ]
  },
  {
   "attachments": {},
   "cell_type": "markdown",
   "metadata": {
    "ExecuteTime": {
     "end_time": "2021-07-31T13:52:37.549962Z",
     "start_time": "2021-07-31T13:52:37.408573Z"
    }
   },
   "source": [
    "Note the `bind` is a mapping **from** the variable names of the wrapped function **to** the names of the scope.\n",
    "\n",
    "That is, when it's time to execute, it tells the `FuncNode` where to find the values of its inputs. \n",
    "\n",
    "If an input is not specified in this `bind` mapping, the scope (external) name is supposed to be the same as the function's (internal) name."
   ]
  },
  {
   "attachments": {},
   "cell_type": "markdown",
   "metadata": {},
   "source": [
    "## What can `FuncNode` do?"
   ]
  },
  {
   "attachments": {},
   "cell_type": "markdown",
   "metadata": {},
   "source": [
    "The purpose of a `FuncNode` is to source some inputs somewhere, compute something\n",
    "with these, and write the result somewhere. That somewhere is what we call a\n",
    "scope. \n",
    "\n",
    "A scope is a dictionary (or any mutuable mapping to be precise) and it works\n",
    "like this:"
   ]
  },
  {
   "cell_type": "code",
   "execution_count": 13,
   "metadata": {
    "ExecuteTime": {
     "end_time": "2021-08-01T14:47:44.717985Z",
     "start_time": "2021-08-01T14:47:44.693560Z"
    }
   },
   "outputs": [
    {
     "data": {
      "text/plain": [
       "7.0"
      ]
     },
     "execution_count": 13,
     "metadata": {},
     "output_type": "execute_result"
    }
   ],
   "source": [
    "scope = {'item_price': 3.5, 'num_of_items': 2}\n",
    "func_node(scope)  # returns 7.0"
   ]
  },
  {
   "cell_type": "code",
   "execution_count": 14,
   "metadata": {
    "ExecuteTime": {
     "end_time": "2021-08-01T14:47:45.133384Z",
     "start_time": "2021-08-01T14:47:45.109213Z"
    }
   },
   "outputs": [
    {
     "data": {
      "text/plain": [
       "{'item_price': 3.5, 'num_of_items': 2, 'multiply': 7.0}"
      ]
     },
     "execution_count": 14,
     "metadata": {},
     "output_type": "execute_result"
    }
   ],
   "source": [
    "scope  # and 7.0 was written in the scope"
   ]
  },
  {
   "attachments": {},
   "cell_type": "markdown",
   "metadata": {},
   "source": [
    "## What's with the names?"
   ]
  },
  {
   "attachments": {},
   "cell_type": "markdown",
   "metadata": {},
   "source": [
    "Consider ``item_price,num_of_items -> multiply_ -> multiply``.\n",
    "\n",
    "See that the name of the function is used for the name of its output,\n",
    "and an underscore-suffixed name for its function name.\n",
    "\n",
    "That's the default behavior if you don't specify either a name (of the function)\n",
    "for the `FuncNode`, or a `output_name`.\n",
    "\n",
    "The underscore is to distinguish from the name of the function itself.\n",
    "\n",
    "The function gets the underscore because this favors particular naming style. "
   ]
  },
  {
   "attachments": {},
   "cell_type": "markdown",
   "metadata": {},
   "source": [
    "The\n",
    "\n",
    "```\n",
    "item_price,num_of_items -> multiply_ -> total_price\n",
    "```\n",
    "\n",
    "shows you what the `FuncNode` node looks like on the outside. Note the `multiply_` with the underscore. \n",
    "That's the default name the `FuncNode` gave to the function. The underscore is to distinguish from the name of the function itself. \n",
    "\n",
    "You can give it a custom name as well:"
   ]
  },
  {
   "cell_type": "code",
   "execution_count": 15,
   "metadata": {
    "ExecuteTime": {
     "end_time": "2021-08-01T14:47:54.120610Z",
     "start_time": "2021-08-01T14:47:54.096147Z"
    }
   },
   "outputs": [
    {
     "data": {
      "text/plain": [
       "FuncNode(item_price,num_of_items -> multiply -> daily_expense)"
      ]
     },
     "execution_count": 15,
     "metadata": {},
     "output_type": "execute_result"
    }
   ],
   "source": [
    "FuncNode(\n",
    "    func=multiply, \n",
    "    bind={'x': 'item_price', 'y': 'num_of_items'}, \n",
    "    out='daily_expense'\n",
    ")"
   ]
  },
  {
   "cell_type": "code",
   "execution_count": 16,
   "metadata": {
    "ExecuteTime": {
     "end_time": "2021-08-01T14:47:59.629497Z",
     "start_time": "2021-08-01T14:47:59.604909Z"
    }
   },
   "outputs": [
    {
     "data": {
      "text/plain": [
       "FuncNode(item_price,num_of_items -> total_price -> _total_price)"
      ]
     },
     "execution_count": 16,
     "metadata": {},
     "output_type": "execute_result"
    }
   ],
   "source": [
    "FuncNode(\n",
    "    func=multiply, \n",
    "    name='total_price',\n",
    "    bind={'x': 'item_price', 'y': 'num_of_items'}, \n",
    ")"
   ]
  },
  {
   "cell_type": "code",
   "execution_count": 17,
   "metadata": {
    "ExecuteTime": {
     "end_time": "2021-08-01T14:47:59.913881Z",
     "start_time": "2021-08-01T14:47:59.889231Z"
    }
   },
   "outputs": [
    {
     "data": {
      "text/plain": [
       "FuncNode(item_price,num_of_items -> total_price -> daily_expense)"
      ]
     },
     "execution_count": 17,
     "metadata": {},
     "output_type": "execute_result"
    }
   ],
   "source": [
    "FuncNode(\n",
    "    func=multiply, \n",
    "    name='total_price',\n",
    "    bind={'x': 'item_price', 'y': 'num_of_items'}, \n",
    "    out='daily_expense'\n",
    ")"
   ]
  },
  {
   "attachments": {},
   "cell_type": "markdown",
   "metadata": {},
   "source": [
    "Note: In the context of networks if you want to reuse a same function (say, `multiply`) in multiple places \n",
    "you'll **need** to give it a custom name because the functions are identified by this name in the network. "
   ]
  },
  {
   "attachments": {},
   "cell_type": "markdown",
   "metadata": {},
   "source": [
    "Note: These default name rules are determined by (and therefore can be changed through) the `names_maker` argument of `FuncNode`."
   ]
  },
  {
   "attachments": {},
   "cell_type": "markdown",
   "metadata": {},
   "source": [
    "# A DAG"
   ]
  },
  {
   "attachments": {},
   "cell_type": "markdown",
   "metadata": {},
   "source": [
    "A DAG (Direct Acyclic Graph) is determined by a bunch of `FuncNode`s. \n",
    "\n",
    "The `FuncNode`s alone determine what computations can take place and how these computation units interact with each other, \n",
    "and even what names are used by the interface of the DAG.\n",
    "\n",
    "Therefore you can control all those aspects by specifying what you want in the `FuncNode`s. "
   ]
  },
  {
   "cell_type": "code",
   "execution_count": 18,
   "metadata": {
    "ExecuteTime": {
     "end_time": "2021-08-01T14:48:03.576405Z",
     "start_time": "2021-08-01T14:48:03.553315Z"
    }
   },
   "outputs": [],
   "source": [
    "def add(x, y):\n",
    "    return x * y\n",
    "\n",
    "def mul(x, y):\n",
    "    return x * y"
   ]
  },
  {
   "cell_type": "code",
   "execution_count": 19,
   "metadata": {
    "ExecuteTime": {
     "end_time": "2021-08-01T14:48:04.994208Z",
     "start_time": "2021-08-01T14:48:04.130308Z"
    }
   },
   "outputs": [
    {
     "data": {
      "image/svg+xml": [
       "<?xml version=\"1.0\" encoding=\"UTF-8\" standalone=\"no\"?>\n",
       "<!DOCTYPE svg PUBLIC \"-//W3C//DTD SVG 1.1//EN\"\n",
       " \"http://www.w3.org/Graphics/SVG/1.1/DTD/svg11.dtd\">\n",
       "<!-- Generated by graphviz version 2.49.0 (20210828.1703)\n",
       " -->\n",
       "<!-- Pages: 1 -->\n",
       "<svg width=\"170pt\" height=\"476pt\"\n",
       " viewBox=\"0.00 0.00 170.00 476.00\" xmlns=\"http://www.w3.org/2000/svg\" xmlns:xlink=\"http://www.w3.org/1999/xlink\">\n",
       "<g id=\"graph0\" class=\"graph\" transform=\"scale(1 1) rotate(0) translate(4 472)\">\n",
       "<polygon fill=\"white\" stroke=\"transparent\" points=\"-4,4 -4,-472 166,-472 166,4 -4,4\"/>\n",
       "<!-- c -->\n",
       "<g id=\"node1\" class=\"node\">\n",
       "<title>c</title>\n",
       "<text text-anchor=\"middle\" x=\"99\" y=\"-302.3\" font-family=\"Times,serif\" font-size=\"14.00\">c</text>\n",
       "</g>\n",
       "<!-- times -->\n",
       "<g id=\"node6\" class=\"node\">\n",
       "<title>times</title>\n",
       "<polygon fill=\"none\" stroke=\"black\" points=\"71,-252 17,-252 17,-216 71,-216 71,-252\"/>\n",
       "<text text-anchor=\"middle\" x=\"44\" y=\"-230.3\" font-family=\"Times,serif\" font-size=\"14.00\">times</text>\n",
       "</g>\n",
       "<!-- c&#45;&gt;times -->\n",
       "<g id=\"edge5\" class=\"edge\">\n",
       "<title>c&#45;&gt;times</title>\n",
       "<path fill=\"none\" stroke=\"black\" d=\"M85.4,-287.7C78.88,-279.39 70.93,-269.28 63.75,-260.14\"/>\n",
       "<polygon fill=\"black\" stroke=\"black\" points=\"66.37,-257.81 57.44,-252.1 60.87,-262.13 66.37,-257.81\"/>\n",
       "</g>\n",
       "<!-- plus -->\n",
       "<g id=\"node9\" class=\"node\">\n",
       "<title>plus</title>\n",
       "<polygon fill=\"none\" stroke=\"black\" points=\"98,-108 44,-108 44,-72 98,-72 98,-108\"/>\n",
       "<text text-anchor=\"middle\" x=\"71\" y=\"-86.3\" font-family=\"Times,serif\" font-size=\"14.00\">plus</text>\n",
       "</g>\n",
       "<!-- c&#45;&gt;plus -->\n",
       "<g id=\"edge8\" class=\"edge\">\n",
       "<title>c&#45;&gt;plus</title>\n",
       "<path fill=\"none\" stroke=\"black\" d=\"M97.24,-287.57C94.18,-257.99 87.49,-196.1 80,-144 78.79,-135.56 77.29,-126.38 75.87,-118.08\"/>\n",
       "<polygon fill=\"black\" stroke=\"black\" points=\"79.31,-117.4 74.14,-108.15 72.41,-118.6 79.31,-117.4\"/>\n",
       "</g>\n",
       "<!-- sum -->\n",
       "<g id=\"node2\" class=\"node\">\n",
       "<title>sum</title>\n",
       "<polygon fill=\"none\" stroke=\"black\" points=\"126,-396 72,-396 72,-360 126,-360 126,-396\"/>\n",
       "<text text-anchor=\"middle\" x=\"99\" y=\"-374.3\" font-family=\"Times,serif\" font-size=\"14.00\">sum</text>\n",
       "</g>\n",
       "<!-- sum&#45;&gt;c -->\n",
       "<g id=\"edge1\" class=\"edge\">\n",
       "<title>sum&#45;&gt;c</title>\n",
       "<path fill=\"none\" stroke=\"black\" d=\"M99,-359.7C99,-351.98 99,-342.71 99,-334.11\"/>\n",
       "<polygon fill=\"black\" stroke=\"black\" points=\"102.5,-334.1 99,-324.1 95.5,-334.1 102.5,-334.1\"/>\n",
       "</g>\n",
       "<!-- a -->\n",
       "<g id=\"node3\" class=\"node\">\n",
       "<title>a</title>\n",
       "<text text-anchor=\"middle\" x=\"63\" y=\"-446.3\" font-family=\"Times,serif\" font-size=\"14.00\">a</text>\n",
       "</g>\n",
       "<!-- a&#45;&gt;sum -->\n",
       "<g id=\"edge2\" class=\"edge\">\n",
       "<title>a&#45;&gt;sum</title>\n",
       "<path fill=\"none\" stroke=\"black\" d=\"M71.9,-431.7C76,-423.73 80.95,-414.1 85.49,-405.26\"/>\n",
       "<polygon fill=\"black\" stroke=\"black\" points=\"88.74,-406.6 90.2,-396.1 82.52,-403.4 88.74,-406.6\"/>\n",
       "</g>\n",
       "<!-- b -->\n",
       "<g id=\"node4\" class=\"node\">\n",
       "<title>b</title>\n",
       "<text text-anchor=\"middle\" x=\"135\" y=\"-446.3\" font-family=\"Times,serif\" font-size=\"14.00\">b</text>\n",
       "</g>\n",
       "<!-- b&#45;&gt;sum -->\n",
       "<g id=\"edge3\" class=\"edge\">\n",
       "<title>b&#45;&gt;sum</title>\n",
       "<path fill=\"none\" stroke=\"black\" d=\"M126.1,-431.7C122,-423.73 117.05,-414.1 112.51,-405.26\"/>\n",
       "<polygon fill=\"black\" stroke=\"black\" points=\"115.48,-403.4 107.8,-396.1 109.26,-406.6 115.48,-403.4\"/>\n",
       "</g>\n",
       "<!-- e -->\n",
       "<g id=\"node5\" class=\"node\">\n",
       "<title>e</title>\n",
       "<text text-anchor=\"middle\" x=\"44\" y=\"-158.3\" font-family=\"Times,serif\" font-size=\"14.00\">e</text>\n",
       "</g>\n",
       "<!-- e&#45;&gt;plus -->\n",
       "<g id=\"edge9\" class=\"edge\">\n",
       "<title>e&#45;&gt;plus</title>\n",
       "<path fill=\"none\" stroke=\"black\" d=\"M50.67,-143.7C53.71,-135.81 57.38,-126.3 60.76,-117.55\"/>\n",
       "<polygon fill=\"black\" stroke=\"black\" points=\"64.07,-118.69 64.4,-108.1 57.54,-116.17 64.07,-118.69\"/>\n",
       "</g>\n",
       "<!-- times&#45;&gt;e -->\n",
       "<g id=\"edge4\" class=\"edge\">\n",
       "<title>times&#45;&gt;e</title>\n",
       "<path fill=\"none\" stroke=\"black\" d=\"M44,-215.7C44,-207.98 44,-198.71 44,-190.11\"/>\n",
       "<polygon fill=\"black\" stroke=\"black\" points=\"47.5,-190.1 44,-180.1 40.5,-190.1 47.5,-190.1\"/>\n",
       "</g>\n",
       "<!-- d -->\n",
       "<g id=\"node7\" class=\"node\">\n",
       "<title>d</title>\n",
       "<text text-anchor=\"middle\" x=\"27\" y=\"-302.3\" font-family=\"Times,serif\" font-size=\"14.00\">d</text>\n",
       "</g>\n",
       "<!-- d&#45;&gt;times -->\n",
       "<g id=\"edge6\" class=\"edge\">\n",
       "<title>d&#45;&gt;times</title>\n",
       "<path fill=\"none\" stroke=\"black\" d=\"M31.2,-287.7C33.1,-279.9 35.38,-270.51 37.48,-261.83\"/>\n",
       "<polygon fill=\"black\" stroke=\"black\" points=\"40.89,-262.65 39.85,-252.1 34.08,-261 40.89,-262.65\"/>\n",
       "</g>\n",
       "<!-- f -->\n",
       "<g id=\"node8\" class=\"node\">\n",
       "<title>f</title>\n",
       "<text text-anchor=\"middle\" x=\"71\" y=\"-14.3\" font-family=\"Times,serif\" font-size=\"14.00\">f</text>\n",
       "</g>\n",
       "<!-- plus&#45;&gt;f -->\n",
       "<g id=\"edge7\" class=\"edge\">\n",
       "<title>plus&#45;&gt;f</title>\n",
       "<path fill=\"none\" stroke=\"black\" d=\"M71,-71.7C71,-63.98 71,-54.71 71,-46.11\"/>\n",
       "<polygon fill=\"black\" stroke=\"black\" points=\"74.5,-46.1 71,-36.1 67.5,-46.1 74.5,-46.1\"/>\n",
       "</g>\n",
       "</g>\n",
       "</svg>\n"
      ],
      "text/plain": [
       "<graphviz.dot.Digraph at 0x124c68a30>"
      ]
     },
     "execution_count": 19,
     "metadata": {},
     "output_type": "execute_result"
    }
   ],
   "source": [
    "from meshed import DAG, FuncNode\n",
    "\n",
    "dag = DAG(\n",
    "    [\n",
    "        FuncNode(add, 'sum',   {'x': 'a', 'y': 'b'}, 'c'),\n",
    "        FuncNode(mul, 'times', {'x': 'c', 'y': 'd'}, 'e'),\n",
    "        FuncNode(add, 'plus',  {'x': 'c', 'y': 'e'}, 'f'),\n",
    "    ]\n",
    ")\n",
    "dag.dot_digraph()"
   ]
  },
  {
   "cell_type": "code",
   "execution_count": 20,
   "metadata": {
    "ExecuteTime": {
     "end_time": "2021-08-01T14:48:05.020721Z",
     "start_time": "2021-08-01T14:48:04.996601Z"
    }
   },
   "outputs": [
    {
     "data": {
      "text/plain": [
       "12"
      ]
     },
     "execution_count": 20,
     "metadata": {},
     "output_type": "execute_result"
    }
   ],
   "source": [
    "dag(a=1, b=2, d=3)  # ((a + b) * d) + (a + b) = ((1 + 2) * 3) + (1 + 2) = 12"
   ]
  },
  {
   "attachments": {},
   "cell_type": "markdown",
   "metadata": {},
   "source": [
    "Note two things in the example above.\n",
    "\n",
    "We reused `add` twice, but gave it a different name both times.\n",
    "\n",
    "The functions all had the same input names (`x` and `y`), \n",
    "but these were mapped to other names which determined the dag's argument names (`a`, `b` and `d`) \n",
    "and computational flow (the `c` routing the output of `sum` to `times` and `plus`).\n",
    "\n",
    "But as long as there are no name conflicts, there's a same bag of functions will result in the same unique `DAG`."
   ]
  },
  {
   "cell_type": "code",
   "execution_count": 21,
   "metadata": {
    "ExecuteTime": {
     "end_time": "2021-08-01T14:48:06.760251Z",
     "start_time": "2021-08-01T14:48:06.455070Z"
    }
   },
   "outputs": [
    {
     "data": {
      "image/svg+xml": [
       "<?xml version=\"1.0\" encoding=\"UTF-8\" standalone=\"no\"?>\n",
       "<!DOCTYPE svg PUBLIC \"-//W3C//DTD SVG 1.1//EN\"\n",
       " \"http://www.w3.org/Graphics/SVG/1.1/DTD/svg11.dtd\">\n",
       "<!-- Generated by graphviz version 2.49.0 (20210828.1703)\n",
       " -->\n",
       "<!-- Pages: 1 -->\n",
       "<svg width=\"134pt\" height=\"188pt\"\n",
       " viewBox=\"0.00 0.00 134.00 188.00\" xmlns=\"http://www.w3.org/2000/svg\" xmlns:xlink=\"http://www.w3.org/1999/xlink\">\n",
       "<g id=\"graph0\" class=\"graph\" transform=\"scale(1 1) rotate(0) translate(4 184)\">\n",
       "<polygon fill=\"white\" stroke=\"transparent\" points=\"-4,4 -4,-184 130,-184 130,4 -4,4\"/>\n",
       "<!-- mul -->\n",
       "<g id=\"node1\" class=\"node\">\n",
       "<title>mul</title>\n",
       "<text text-anchor=\"middle\" x=\"27\" y=\"-14.3\" font-family=\"Times,serif\" font-size=\"14.00\">mul</text>\n",
       "</g>\n",
       "<!-- mul_ -->\n",
       "<g id=\"node2\" class=\"node\">\n",
       "<title>mul_</title>\n",
       "<polygon fill=\"none\" stroke=\"black\" points=\"54,-108 0,-108 0,-72 54,-72 54,-108\"/>\n",
       "<text text-anchor=\"middle\" x=\"27\" y=\"-86.3\" font-family=\"Times,serif\" font-size=\"14.00\">mul_</text>\n",
       "</g>\n",
       "<!-- mul_&#45;&gt;mul -->\n",
       "<g id=\"edge1\" class=\"edge\">\n",
       "<title>mul_&#45;&gt;mul</title>\n",
       "<path fill=\"none\" stroke=\"black\" d=\"M27,-71.7C27,-63.98 27,-54.71 27,-46.11\"/>\n",
       "<polygon fill=\"black\" stroke=\"black\" points=\"30.5,-46.1 27,-36.1 23.5,-46.1 30.5,-46.1\"/>\n",
       "</g>\n",
       "<!-- x -->\n",
       "<g id=\"node3\" class=\"node\">\n",
       "<title>x</title>\n",
       "<text text-anchor=\"middle\" x=\"27\" y=\"-158.3\" font-family=\"Times,serif\" font-size=\"14.00\">x</text>\n",
       "</g>\n",
       "<!-- x&#45;&gt;mul_ -->\n",
       "<g id=\"edge2\" class=\"edge\">\n",
       "<title>x&#45;&gt;mul_</title>\n",
       "<path fill=\"none\" stroke=\"black\" d=\"M27,-143.7C27,-135.98 27,-126.71 27,-118.11\"/>\n",
       "<polygon fill=\"black\" stroke=\"black\" points=\"30.5,-118.1 27,-108.1 23.5,-118.1 30.5,-118.1\"/>\n",
       "</g>\n",
       "<!-- add_ -->\n",
       "<g id=\"node6\" class=\"node\">\n",
       "<title>add_</title>\n",
       "<polygon fill=\"none\" stroke=\"black\" points=\"126,-108 72,-108 72,-72 126,-72 126,-108\"/>\n",
       "<text text-anchor=\"middle\" x=\"99\" y=\"-86.3\" font-family=\"Times,serif\" font-size=\"14.00\">add_</text>\n",
       "</g>\n",
       "<!-- x&#45;&gt;add_ -->\n",
       "<g id=\"edge5\" class=\"edge\">\n",
       "<title>x&#45;&gt;add_</title>\n",
       "<path fill=\"none\" stroke=\"black\" d=\"M44.8,-143.7C53.6,-135.14 64.38,-124.66 74,-115.3\"/>\n",
       "<polygon fill=\"black\" stroke=\"black\" points=\"76.68,-117.58 81.41,-108.1 71.8,-112.57 76.68,-117.58\"/>\n",
       "</g>\n",
       "<!-- y -->\n",
       "<g id=\"node4\" class=\"node\">\n",
       "<title>y</title>\n",
       "<text text-anchor=\"middle\" x=\"99\" y=\"-158.3\" font-family=\"Times,serif\" font-size=\"14.00\">y</text>\n",
       "</g>\n",
       "<!-- y&#45;&gt;mul_ -->\n",
       "<g id=\"edge3\" class=\"edge\">\n",
       "<title>y&#45;&gt;mul_</title>\n",
       "<path fill=\"none\" stroke=\"black\" d=\"M81.2,-143.7C72.4,-135.14 61.62,-124.66 52,-115.3\"/>\n",
       "<polygon fill=\"black\" stroke=\"black\" points=\"54.2,-112.57 44.59,-108.1 49.32,-117.58 54.2,-112.57\"/>\n",
       "</g>\n",
       "<!-- y&#45;&gt;add_ -->\n",
       "<g id=\"edge6\" class=\"edge\">\n",
       "<title>y&#45;&gt;add_</title>\n",
       "<path fill=\"none\" stroke=\"black\" d=\"M99,-143.7C99,-135.98 99,-126.71 99,-118.11\"/>\n",
       "<polygon fill=\"black\" stroke=\"black\" points=\"102.5,-118.1 99,-108.1 95.5,-118.1 102.5,-118.1\"/>\n",
       "</g>\n",
       "<!-- add -->\n",
       "<g id=\"node5\" class=\"node\">\n",
       "<title>add</title>\n",
       "<text text-anchor=\"middle\" x=\"99\" y=\"-14.3\" font-family=\"Times,serif\" font-size=\"14.00\">add</text>\n",
       "</g>\n",
       "<!-- add_&#45;&gt;add -->\n",
       "<g id=\"edge4\" class=\"edge\">\n",
       "<title>add_&#45;&gt;add</title>\n",
       "<path fill=\"none\" stroke=\"black\" d=\"M99,-71.7C99,-63.98 99,-54.71 99,-46.11\"/>\n",
       "<polygon fill=\"black\" stroke=\"black\" points=\"102.5,-46.1 99,-36.1 95.5,-46.1 102.5,-46.1\"/>\n",
       "</g>\n",
       "</g>\n",
       "</svg>\n"
      ],
      "text/plain": [
       "<graphviz.dot.Digraph at 0x124c689a0>"
      ]
     },
     "execution_count": 21,
     "metadata": {},
     "output_type": "execute_result"
    }
   ],
   "source": [
    "DAG([add, mul]).dot_digraph()"
   ]
  },
  {
   "attachments": {},
   "cell_type": "markdown",
   "metadata": {},
   "source": [
    "## Extending an existing dag"
   ]
  },
  {
   "cell_type": "code",
   "execution_count": 22,
   "metadata": {
    "ExecuteTime": {
     "end_time": "2021-08-01T14:48:08.012884Z",
     "start_time": "2021-08-01T14:48:07.732646Z"
    }
   },
   "outputs": [
    {
     "data": {
      "image/svg+xml": [
       "<?xml version=\"1.0\" encoding=\"UTF-8\" standalone=\"no\"?>\n",
       "<!DOCTYPE svg PUBLIC \"-//W3C//DTD SVG 1.1//EN\"\n",
       " \"http://www.w3.org/Graphics/SVG/1.1/DTD/svg11.dtd\">\n",
       "<!-- Generated by graphviz version 2.49.0 (20210828.1703)\n",
       " -->\n",
       "<!-- Pages: 1 -->\n",
       "<svg width=\"134pt\" height=\"332pt\"\n",
       " viewBox=\"0.00 0.00 134.00 332.00\" xmlns=\"http://www.w3.org/2000/svg\" xmlns:xlink=\"http://www.w3.org/1999/xlink\">\n",
       "<g id=\"graph0\" class=\"graph\" transform=\"scale(1 1) rotate(0) translate(4 328)\">\n",
       "<polygon fill=\"white\" stroke=\"transparent\" points=\"-4,4 -4,-328 130,-328 130,4 -4,4\"/>\n",
       "<!-- f -->\n",
       "<g id=\"node1\" class=\"node\">\n",
       "<title>f</title>\n",
       "<text text-anchor=\"middle\" x=\"99\" y=\"-158.3\" font-family=\"Times,serif\" font-size=\"14.00\">f</text>\n",
       "</g>\n",
       "<!-- g_ -->\n",
       "<g id=\"node5\" class=\"node\">\n",
       "<title>g_</title>\n",
       "<polygon fill=\"none\" stroke=\"black\" points=\"90,-108 36,-108 36,-72 90,-72 90,-108\"/>\n",
       "<text text-anchor=\"middle\" x=\"63\" y=\"-86.3\" font-family=\"Times,serif\" font-size=\"14.00\">g_</text>\n",
       "</g>\n",
       "<!-- f&#45;&gt;g_ -->\n",
       "<g id=\"edge4\" class=\"edge\">\n",
       "<title>f&#45;&gt;g_</title>\n",
       "<path fill=\"none\" stroke=\"black\" d=\"M90.1,-143.7C86,-135.73 81.05,-126.1 76.51,-117.26\"/>\n",
       "<polygon fill=\"black\" stroke=\"black\" points=\"79.48,-115.4 71.8,-108.1 73.26,-118.6 79.48,-115.4\"/>\n",
       "</g>\n",
       "<!-- f_ -->\n",
       "<g id=\"node2\" class=\"node\">\n",
       "<title>f_</title>\n",
       "<polygon fill=\"none\" stroke=\"black\" points=\"126,-252 72,-252 72,-216 126,-216 126,-252\"/>\n",
       "<text text-anchor=\"middle\" x=\"99\" y=\"-230.3\" font-family=\"Times,serif\" font-size=\"14.00\">f_</text>\n",
       "</g>\n",
       "<!-- f_&#45;&gt;f -->\n",
       "<g id=\"edge1\" class=\"edge\">\n",
       "<title>f_&#45;&gt;f</title>\n",
       "<path fill=\"none\" stroke=\"black\" d=\"M99,-215.7C99,-207.98 99,-198.71 99,-190.11\"/>\n",
       "<polygon fill=\"black\" stroke=\"black\" points=\"102.5,-190.1 99,-180.1 95.5,-190.1 102.5,-190.1\"/>\n",
       "</g>\n",
       "<!-- a -->\n",
       "<g id=\"node3\" class=\"node\">\n",
       "<title>a</title>\n",
       "<text text-anchor=\"middle\" x=\"99\" y=\"-302.3\" font-family=\"Times,serif\" font-size=\"14.00\">a</text>\n",
       "</g>\n",
       "<!-- a&#45;&gt;f_ -->\n",
       "<g id=\"edge2\" class=\"edge\">\n",
       "<title>a&#45;&gt;f_</title>\n",
       "<path fill=\"none\" stroke=\"black\" d=\"M99,-287.7C99,-279.98 99,-270.71 99,-262.11\"/>\n",
       "<polygon fill=\"black\" stroke=\"black\" points=\"102.5,-262.1 99,-252.1 95.5,-262.1 102.5,-262.1\"/>\n",
       "</g>\n",
       "<!-- g -->\n",
       "<g id=\"node4\" class=\"node\">\n",
       "<title>g</title>\n",
       "<text text-anchor=\"middle\" x=\"63\" y=\"-14.3\" font-family=\"Times,serif\" font-size=\"14.00\">g</text>\n",
       "</g>\n",
       "<!-- g_&#45;&gt;g -->\n",
       "<g id=\"edge3\" class=\"edge\">\n",
       "<title>g_&#45;&gt;g</title>\n",
       "<path fill=\"none\" stroke=\"black\" d=\"M63,-71.7C63,-63.98 63,-54.71 63,-46.11\"/>\n",
       "<polygon fill=\"black\" stroke=\"black\" points=\"66.5,-46.1 63,-36.1 59.5,-46.1 66.5,-46.1\"/>\n",
       "</g>\n",
       "<!-- b -->\n",
       "<g id=\"node6\" class=\"node\">\n",
       "<title>b</title>\n",
       "<text text-anchor=\"middle\" x=\"27\" y=\"-158.3\" font-family=\"Times,serif\" font-size=\"14.00\">b</text>\n",
       "</g>\n",
       "<!-- b&#45;&gt;g_ -->\n",
       "<g id=\"edge5\" class=\"edge\">\n",
       "<title>b&#45;&gt;g_</title>\n",
       "<path fill=\"none\" stroke=\"black\" d=\"M35.9,-143.7C40,-135.73 44.95,-126.1 49.49,-117.26\"/>\n",
       "<polygon fill=\"black\" stroke=\"black\" points=\"52.74,-118.6 54.2,-108.1 46.52,-115.4 52.74,-118.6\"/>\n",
       "</g>\n",
       "</g>\n",
       "</svg>\n"
      ],
      "text/plain": [
       "<graphviz.dot.Digraph at 0x124c68460>"
      ]
     },
     "execution_count": 22,
     "metadata": {},
     "output_type": "execute_result"
    }
   ],
   "source": [
    "def f(a): return a * 2\n",
    "def g(f, b): return f + b\n",
    "    \n",
    "dag = DAG([f, g])\n",
    "dag.dot_digraph()"
   ]
  },
  {
   "cell_type": "code",
   "execution_count": 23,
   "metadata": {
    "ExecuteTime": {
     "end_time": "2021-08-01T14:48:08.668702Z",
     "start_time": "2021-08-01T14:48:08.640948Z"
    }
   },
   "outputs": [
    {
     "data": {
      "text/plain": [
       "7"
      ]
     },
     "execution_count": 23,
     "metadata": {},
     "output_type": "execute_result"
    }
   ],
   "source": [
    "assert dag(2, 3) == 7\n",
    "dag(a=2, b=3)  # a * 2 + b = 2 * 2 + 3 = 7"
   ]
  },
  {
   "cell_type": "code",
   "execution_count": 24,
   "metadata": {
    "ExecuteTime": {
     "end_time": "2021-08-01T14:48:09.191606Z",
     "start_time": "2021-08-01T14:48:09.164508Z"
    }
   },
   "outputs": [
    {
     "data": {
      "text/plain": [
       "'a=2 b=3 g=7'"
      ]
     },
     "execution_count": 24,
     "metadata": {},
     "output_type": "execute_result"
    }
   ],
   "source": [
    "def h(a, b, g): return f\"{a=} {b=} {g=}\"\n",
    "extended_dag = DAG([*dag, h])\n",
    "assert extended_dag(a=2, b=3) == 'a=2 b=3 g=7'\n",
    "extended_dag(a=2, b=3)"
   ]
  },
  {
   "cell_type": "code",
   "execution_count": null,
   "metadata": {},
   "outputs": [],
   "source": []
  },
  {
   "cell_type": "code",
   "execution_count": 24,
   "metadata": {},
   "outputs": [],
   "source": []
  },
  {
   "attachments": {},
   "cell_type": "markdown",
   "metadata": {},
   "source": [
    "# Example: Evaluating a classifier"
   ]
  },
  {
   "attachments": {},
   "cell_type": "markdown",
   "metadata": {},
   "source": [
    "We'd like to develop some tools that will help a user to make a domain-specific metric (DSM) to evaluate binary classifiers.\n",
    "\n",
    "Often, off-the-shelf metrics are used, such as accuracy, precision, recall, false-positive-rate, etc. \n",
    "\n",
    "The number these produce may not be directly interpretable in the domain they're being applied to. \n",
    "\n",
    "It can be helpful to see what false negative, false positive, etc. mean in the given context, \n",
    "and associate a value (penalty or reward) to these \n",
    "that reflects how much they contribute towards or contravene the actual objective of the classifier. \n",
    "\n",
    "If a COVID test turns out positive, what actions will be taken and what value do their consequences have depending on whether the positive test \n",
    "was true or false? Same question for true/false negative test results. Doing this valuation then allows us to produce a formula that\n",
    "evaluates the worth of a test that has more meaning that flat false positive and false negative rates. \n"
   ]
  },
  {
   "attachments": {},
   "cell_type": "markdown",
   "metadata": {},
   "source": [
    "##  classifier_score"
   ]
  },
  {
   "cell_type": "code",
   "execution_count": 25,
   "metadata": {
    "ExecuteTime": {
     "end_time": "2021-08-13T15:55:11.961489Z",
     "start_time": "2021-08-13T15:55:11.930916Z"
    }
   },
   "outputs": [],
   "source": [
    "def _aligned_items(a, b):\n",
    "    \"\"\"Yield (k, a_value, b_value) triples for all k that are both a key of a and of b\"\"\"\n",
    "    # reason for casting to dict is to make sure things like pd.Series use the right keys.\n",
    "    # could also use k in a.keys() etc. to solve this.\n",
    "    a = dict(a)\n",
    "    b = dict(b)\n",
    "    for k in a:\n",
    "        if k in b:\n",
    "            yield k, a[k], b[k]\n",
    "            \n",
    "def dot_product(a, b):\n",
    "    \"\"\"\n",
    "    >>> dot_product({'a': 1, 'b': 2, 'c': 3}, {'b': 4, 'c': -1, 'd': 'whatever'})\n",
    "    5\n",
    "    \"\"\"\n",
    "    return sum(ak * bk for _, ak, bk in _aligned_items(a, b))\n",
    "\n",
    "\n",
    "def classifier_score(confusion_count, confusion_value):\n",
    "    \"\"\"Compute a score for a classifier that produced the `confusion_count`, based on the given `confusion_value`.\n",
    "    Meant to be curried by fixing the confusion_value dict.\n",
    "    \n",
    "    The function is purposely general -- it is not specific to binary classifier outcomes, or even any classifier outcomes. \n",
    "    It simply computes a normalized dot product, depending on the inputs keys to align values to multiply and \n",
    "    considering a missing key as an expression of a null value. \n",
    "    \"\"\"\n",
    "    return dot_product(confusion_count, confusion_value) / sum(confusion_count.values())\n"
   ]
  },
  {
   "cell_type": "code",
   "execution_count": 26,
   "metadata": {
    "ExecuteTime": {
     "end_time": "2021-08-13T15:55:11.993965Z",
     "start_time": "2021-08-13T15:55:11.964117Z"
    }
   },
   "outputs": [
    {
     "data": {
      "text/plain": [
       "5"
      ]
     },
     "execution_count": 26,
     "metadata": {},
     "output_type": "execute_result"
    }
   ],
   "source": [
    "dot_product({'a': 1, 'b': 2, 'c': 3}, {'b': 4, 'c': -1, 'd': 'whatever'})"
   ]
  },
  {
   "cell_type": "code",
   "execution_count": 27,
   "metadata": {
    "ExecuteTime": {
     "end_time": "2021-08-13T15:55:13.252672Z",
     "start_time": "2021-08-13T15:55:13.221600Z"
    }
   },
   "outputs": [
    {
     "name": "stdout",
     "output_type": "stream",
     "text": [
      "dot_product(confusion_count, confusion_value)=-20, sum(confusion_count.values())=50\n"
     ]
    },
    {
     "data": {
      "text/plain": [
       "-0.4"
      ]
     },
     "execution_count": 27,
     "metadata": {},
     "output_type": "execute_result"
    }
   ],
   "source": [
    "# tp, fp, fn, tn shorthands for true positive, false positive, false nagative and true nagative\n",
    "confusion_count = {'tp': 30, 'fp': 10, 'fn': 2, 'tn': 8}\n",
    "confusion_value = {'tp': 0, 'fp': -1, 'fn': -5, 'tn': 0}\n",
    "\n",
    "print(f\"{dot_product(confusion_count, confusion_value)=}, {sum(confusion_count.values())=}\")\n",
    "classifier_score(confusion_count, confusion_value)"
   ]
  },
  {
   "attachments": {},
   "cell_type": "markdown",
   "metadata": {},
   "source": [
    "See how accuracy can be expressed by setting values of true positive and negative to 1, and zero for all errors:"
   ]
  },
  {
   "cell_type": "code",
   "execution_count": 28,
   "metadata": {
    "ExecuteTime": {
     "end_time": "2021-08-13T15:55:14.884640Z",
     "start_time": "2021-08-13T15:55:14.845972Z"
    }
   },
   "outputs": [
    {
     "data": {
      "text/plain": [
       "0.76"
      ]
     },
     "execution_count": 28,
     "metadata": {},
     "output_type": "execute_result"
    }
   ],
   "source": [
    "confusion_value = {'tp': 1, 'fp': 0, 'fn': 0, 'tn': 1}  # this corresponds to the accuracy metric!\n",
    "classifier_score(confusion_count, confusion_value)"
   ]
  },
  {
   "attachments": {},
   "cell_type": "markdown",
   "metadata": {},
   "source": [
    "## Making it more useful"
   ]
  },
  {
   "attachments": {},
   "cell_type": "markdown",
   "metadata": {},
   "source": [
    "To make it more readily usable, we should offer ways to easily get a `confusion_count` dict from various common situations. \n",
    "\n",
    "For example, how do we get these `confusion_count`? Possibly from an array of predictions and corresponding truths.\n",
    "\n",
    "```\n",
    "truth, prediction -> confusion_count\n",
    "```\n",
    "\n",
    "These predictions might come from an array `predict_prob` of scores that were thresholded to become a binary value that we call our prediction.\n",
    "\n",
    "```\n",
    "predict_proba, threshold -> prediction\n",
    "```\n",
    "\n",
    "And those `predict_proba` scores themselves might come from a trained model who is fed `test_X` inputs, the `test_y` array being this `truth` \n",
    "that we're talking about. \n",
    "\n",
    "```\n",
    "model, test_X -> predict_proba\n",
    "test_y -> truth\n",
    "```"
   ]
  },
  {
   "attachments": {},
   "cell_type": "markdown",
   "metadata": {},
   "source": [
    "Providing the user with a few util tools \n",
    "to get from where they are (e.g. they have a model and some test data) \n",
    "to where they want to get to (e.g. getting a classifier_score)\n",
    "is nice.\n",
    "\n",
    "Making it clear on how to use these functions to get from A to B is also nice.\n",
    "This can be done through documentation, examples, and (Uncle Bob style) through careful function and variable naming, as below."
   ]
  },
  {
   "cell_type": "code",
   "execution_count": 29,
   "metadata": {
    "ExecuteTime": {
     "end_time": "2021-08-13T15:55:07.346053Z",
     "start_time": "2021-08-13T15:55:07.313935Z"
    }
   },
   "outputs": [],
   "source": [
    "from collections import Counter\n",
    "import numpy as np\n",
    "\n",
    "\n",
    "def confusion_count(prediction, truth):\n",
    "    \"\"\"Get a dict containing the counts of all combinations of predicction and corresponding truth values.\n",
    "\n",
    "    >>> confusion_count(\n",
    "    ... [0, 0, 1, 0, 1, 1, 1], \n",
    "    ... [0, 0, 0, 1, 1, 1, 1]\n",
    "    ... )\n",
    "    Counter({(0, 0): 2, (1, 0): 1, (0, 1): 1, (1, 1): 3})\n",
    "    \"\"\"\n",
    "    return Counter(zip(prediction, truth))\n",
    "\n",
    "\n",
    "def prediction(predict_proba, threshold):\n",
    "    \"\"\"Get an array of predictions from thresholding the scores of predict_proba array.\n",
    "\n",
    "    >>> prediction([0.3, 0.4, 0.5, 0.6, 0.7, 0.8], threshold=0.5)\n",
    "    array([False, False,  True,  True,  True,  True])\n",
    "\n",
    "    \"\"\"\n",
    "    return np.array(predict_proba) >= threshold\n",
    "\n",
    "\n",
    "def predict_proba(model, test_X):\n",
    "    \"\"\"Get the prediction_proba scores of a model given some test data\"\"\"\n",
    "    return model.predict_proba(test_X)"
   ]
  },
  {
   "attachments": {},
   "cell_type": "markdown",
   "metadata": {},
   "source": [
    "Conveniently, if we use names of functions and arguments as we did above, these can be used to indicate how they all relate to each other. \n",
    "\n",
    "That is to say, we need nothing further to make a DAG."
   ]
  },
  {
   "cell_type": "code",
   "execution_count": 30,
   "metadata": {
    "ExecuteTime": {
     "end_time": "2021-08-13T15:55:21.889192Z",
     "start_time": "2021-08-13T15:55:21.834190Z"
    }
   },
   "outputs": [
    {
     "data": {
      "image/svg+xml": [
       "<?xml version=\"1.0\" encoding=\"UTF-8\" standalone=\"no\"?>\n",
       "<!DOCTYPE svg PUBLIC \"-//W3C//DTD SVG 1.1//EN\"\n",
       " \"http://www.w3.org/Graphics/SVG/1.1/DTD/svg11.dtd\">\n",
       "<!-- Generated by graphviz version 2.49.0 (20210828.1703)\n",
       " -->\n",
       "<!-- Pages: 1 -->\n",
       "<svg width=\"345pt\" height=\"620pt\"\n",
       " viewBox=\"0.00 0.00 344.50 620.00\" xmlns=\"http://www.w3.org/2000/svg\" xmlns:xlink=\"http://www.w3.org/1999/xlink\">\n",
       "<g id=\"graph0\" class=\"graph\" transform=\"scale(1 1) rotate(0) translate(4 616)\">\n",
       "<polygon fill=\"white\" stroke=\"transparent\" points=\"-4,4 -4,-616 340.5,-616 340.5,4 -4,4\"/>\n",
       "<!-- predict_proba -->\n",
       "<g id=\"node1\" class=\"node\">\n",
       "<title>predict_proba</title>\n",
       "<text text-anchor=\"middle\" x=\"273.5\" y=\"-446.3\" font-family=\"Times,serif\" font-size=\"14.00\">predict_proba</text>\n",
       "</g>\n",
       "<!-- prediction_ -->\n",
       "<g id=\"node6\" class=\"node\">\n",
       "<title>prediction_</title>\n",
       "<polygon fill=\"none\" stroke=\"black\" points=\"263.5,-396 183.5,-396 183.5,-360 263.5,-360 263.5,-396\"/>\n",
       "<text text-anchor=\"middle\" x=\"223.5\" y=\"-374.3\" font-family=\"Times,serif\" font-size=\"14.00\">prediction_</text>\n",
       "</g>\n",
       "<!-- predict_proba&#45;&gt;prediction_ -->\n",
       "<g id=\"edge5\" class=\"edge\">\n",
       "<title>predict_proba&#45;&gt;prediction_</title>\n",
       "<path fill=\"none\" stroke=\"black\" d=\"M261.14,-431.7C255.27,-423.47 248.13,-413.48 241.66,-404.42\"/>\n",
       "<polygon fill=\"black\" stroke=\"black\" points=\"244.38,-402.21 235.72,-396.1 238.68,-406.28 244.38,-402.21\"/>\n",
       "</g>\n",
       "<!-- predict_proba_ -->\n",
       "<g id=\"node2\" class=\"node\">\n",
       "<title>predict_proba_</title>\n",
       "<polygon fill=\"none\" stroke=\"black\" points=\"324,-540 223,-540 223,-504 324,-504 324,-540\"/>\n",
       "<text text-anchor=\"middle\" x=\"273.5\" y=\"-518.3\" font-family=\"Times,serif\" font-size=\"14.00\">predict_proba_</text>\n",
       "</g>\n",
       "<!-- predict_proba_&#45;&gt;predict_proba -->\n",
       "<g id=\"edge1\" class=\"edge\">\n",
       "<title>predict_proba_&#45;&gt;predict_proba</title>\n",
       "<path fill=\"none\" stroke=\"black\" d=\"M273.5,-503.7C273.5,-495.98 273.5,-486.71 273.5,-478.11\"/>\n",
       "<polygon fill=\"black\" stroke=\"black\" points=\"277,-478.1 273.5,-468.1 270,-478.1 277,-478.1\"/>\n",
       "</g>\n",
       "<!-- model -->\n",
       "<g id=\"node3\" class=\"node\">\n",
       "<title>model</title>\n",
       "<text text-anchor=\"middle\" x=\"237.5\" y=\"-590.3\" font-family=\"Times,serif\" font-size=\"14.00\">model</text>\n",
       "</g>\n",
       "<!-- model&#45;&gt;predict_proba_ -->\n",
       "<g id=\"edge2\" class=\"edge\">\n",
       "<title>model&#45;&gt;predict_proba_</title>\n",
       "<path fill=\"none\" stroke=\"black\" d=\"M246.4,-575.7C250.5,-567.73 255.45,-558.1 259.99,-549.26\"/>\n",
       "<polygon fill=\"black\" stroke=\"black\" points=\"263.24,-550.6 264.7,-540.1 257.02,-547.4 263.24,-550.6\"/>\n",
       "</g>\n",
       "<!-- test_X -->\n",
       "<g id=\"node4\" class=\"node\">\n",
       "<title>test_X</title>\n",
       "<text text-anchor=\"middle\" x=\"309.5\" y=\"-590.3\" font-family=\"Times,serif\" font-size=\"14.00\">test_X</text>\n",
       "</g>\n",
       "<!-- test_X&#45;&gt;predict_proba_ -->\n",
       "<g id=\"edge3\" class=\"edge\">\n",
       "<title>test_X&#45;&gt;predict_proba_</title>\n",
       "<path fill=\"none\" stroke=\"black\" d=\"M300.6,-575.7C296.5,-567.73 291.55,-558.1 287.01,-549.26\"/>\n",
       "<polygon fill=\"black\" stroke=\"black\" points=\"289.98,-547.4 282.3,-540.1 283.76,-550.6 289.98,-547.4\"/>\n",
       "</g>\n",
       "<!-- prediction -->\n",
       "<g id=\"node5\" class=\"node\">\n",
       "<title>prediction</title>\n",
       "<text text-anchor=\"middle\" x=\"223.5\" y=\"-302.3\" font-family=\"Times,serif\" font-size=\"14.00\">prediction</text>\n",
       "</g>\n",
       "<!-- confusion_count_ -->\n",
       "<g id=\"node9\" class=\"node\">\n",
       "<title>confusion_count_</title>\n",
       "<polygon fill=\"none\" stroke=\"black\" points=\"241,-252 124,-252 124,-216 241,-216 241,-252\"/>\n",
       "<text text-anchor=\"middle\" x=\"182.5\" y=\"-230.3\" font-family=\"Times,serif\" font-size=\"14.00\">confusion_count_</text>\n",
       "</g>\n",
       "<!-- prediction&#45;&gt;confusion_count_ -->\n",
       "<g id=\"edge8\" class=\"edge\">\n",
       "<title>prediction&#45;&gt;confusion_count_</title>\n",
       "<path fill=\"none\" stroke=\"black\" d=\"M213.37,-287.7C208.65,-279.64 202.94,-269.89 197.72,-260.98\"/>\n",
       "<polygon fill=\"black\" stroke=\"black\" points=\"200.59,-258.96 192.52,-252.1 194.55,-262.5 200.59,-258.96\"/>\n",
       "</g>\n",
       "<!-- prediction_&#45;&gt;prediction -->\n",
       "<g id=\"edge4\" class=\"edge\">\n",
       "<title>prediction_&#45;&gt;prediction</title>\n",
       "<path fill=\"none\" stroke=\"black\" d=\"M223.5,-359.7C223.5,-351.98 223.5,-342.71 223.5,-334.11\"/>\n",
       "<polygon fill=\"black\" stroke=\"black\" points=\"227,-334.1 223.5,-324.1 220,-334.1 227,-334.1\"/>\n",
       "</g>\n",
       "<!-- threshold -->\n",
       "<g id=\"node7\" class=\"node\">\n",
       "<title>threshold</title>\n",
       "<text text-anchor=\"middle\" x=\"173.5\" y=\"-446.3\" font-family=\"Times,serif\" font-size=\"14.00\">threshold</text>\n",
       "</g>\n",
       "<!-- threshold&#45;&gt;prediction_ -->\n",
       "<g id=\"edge6\" class=\"edge\">\n",
       "<title>threshold&#45;&gt;prediction_</title>\n",
       "<path fill=\"none\" stroke=\"black\" d=\"M185.86,-431.7C191.73,-423.47 198.87,-413.48 205.34,-404.42\"/>\n",
       "<polygon fill=\"black\" stroke=\"black\" points=\"208.32,-406.28 211.28,-396.1 202.62,-402.21 208.32,-406.28\"/>\n",
       "</g>\n",
       "<!-- confusion_count -->\n",
       "<g id=\"node8\" class=\"node\">\n",
       "<title>confusion_count</title>\n",
       "<text text-anchor=\"middle\" x=\"182.5\" y=\"-158.3\" font-family=\"Times,serif\" font-size=\"14.00\">confusion_count</text>\n",
       "</g>\n",
       "<!-- classifier_score_ -->\n",
       "<g id=\"node12\" class=\"node\">\n",
       "<title>classifier_score_</title>\n",
       "<polygon fill=\"none\" stroke=\"black\" points=\"173.5,-108 63.5,-108 63.5,-72 173.5,-72 173.5,-108\"/>\n",
       "<text text-anchor=\"middle\" x=\"118.5\" y=\"-86.3\" font-family=\"Times,serif\" font-size=\"14.00\">classifier_score_</text>\n",
       "</g>\n",
       "<!-- confusion_count&#45;&gt;classifier_score_ -->\n",
       "<g id=\"edge11\" class=\"edge\">\n",
       "<title>confusion_count&#45;&gt;classifier_score_</title>\n",
       "<path fill=\"none\" stroke=\"black\" d=\"M166.68,-143.7C158.93,-135.22 149.46,-124.86 140.98,-115.58\"/>\n",
       "<polygon fill=\"black\" stroke=\"black\" points=\"143.47,-113.12 134.14,-108.1 138.3,-117.85 143.47,-113.12\"/>\n",
       "</g>\n",
       "<!-- confusion_count_&#45;&gt;confusion_count -->\n",
       "<g id=\"edge7\" class=\"edge\">\n",
       "<title>confusion_count_&#45;&gt;confusion_count</title>\n",
       "<path fill=\"none\" stroke=\"black\" d=\"M182.5,-215.7C182.5,-207.98 182.5,-198.71 182.5,-190.11\"/>\n",
       "<polygon fill=\"black\" stroke=\"black\" points=\"186,-190.1 182.5,-180.1 179,-190.1 186,-190.1\"/>\n",
       "</g>\n",
       "<!-- truth -->\n",
       "<g id=\"node10\" class=\"node\">\n",
       "<title>truth</title>\n",
       "<text text-anchor=\"middle\" x=\"141.5\" y=\"-302.3\" font-family=\"Times,serif\" font-size=\"14.00\">truth</text>\n",
       "</g>\n",
       "<!-- truth&#45;&gt;confusion_count_ -->\n",
       "<g id=\"edge9\" class=\"edge\">\n",
       "<title>truth&#45;&gt;confusion_count_</title>\n",
       "<path fill=\"none\" stroke=\"black\" d=\"M151.63,-287.7C156.35,-279.64 162.06,-269.89 167.28,-260.98\"/>\n",
       "<polygon fill=\"black\" stroke=\"black\" points=\"170.45,-262.5 172.48,-252.1 164.41,-258.96 170.45,-262.5\"/>\n",
       "</g>\n",
       "<!-- classifier_score -->\n",
       "<g id=\"node11\" class=\"node\">\n",
       "<title>classifier_score</title>\n",
       "<text text-anchor=\"middle\" x=\"118.5\" y=\"-14.3\" font-family=\"Times,serif\" font-size=\"14.00\">classifier_score</text>\n",
       "</g>\n",
       "<!-- classifier_score_&#45;&gt;classifier_score -->\n",
       "<g id=\"edge10\" class=\"edge\">\n",
       "<title>classifier_score_&#45;&gt;classifier_score</title>\n",
       "<path fill=\"none\" stroke=\"black\" d=\"M118.5,-71.7C118.5,-63.98 118.5,-54.71 118.5,-46.11\"/>\n",
       "<polygon fill=\"black\" stroke=\"black\" points=\"122,-46.1 118.5,-36.1 115,-46.1 122,-46.1\"/>\n",
       "</g>\n",
       "<!-- confusion_value -->\n",
       "<g id=\"node13\" class=\"node\">\n",
       "<title>confusion_value</title>\n",
       "<text text-anchor=\"middle\" x=\"54.5\" y=\"-158.3\" font-family=\"Times,serif\" font-size=\"14.00\">confusion_value</text>\n",
       "</g>\n",
       "<!-- confusion_value&#45;&gt;classifier_score_ -->\n",
       "<g id=\"edge12\" class=\"edge\">\n",
       "<title>confusion_value&#45;&gt;classifier_score_</title>\n",
       "<path fill=\"none\" stroke=\"black\" d=\"M70.32,-143.7C78.07,-135.22 87.54,-124.86 96.02,-115.58\"/>\n",
       "<polygon fill=\"black\" stroke=\"black\" points=\"98.7,-117.85 102.86,-108.1 93.53,-113.12 98.7,-117.85\"/>\n",
       "</g>\n",
       "</g>\n",
       "</svg>\n"
      ],
      "text/plain": [
       "<graphviz.dot.Digraph at 0x124cb5cd0>"
      ]
     },
     "execution_count": 30,
     "metadata": {},
     "output_type": "execute_result"
    }
   ],
   "source": [
    "from meshed import DAG\n",
    "\n",
    "dag = DAG([classifier_score, confusion_count, prediction, predict_proba])\n",
    "dag.dot_digraph()"
   ]
  },
  {
   "attachments": {},
   "cell_type": "markdown",
   "metadata": {},
   "source": [
    "## Making the DAG bigger"
   ]
  },
  {
   "attachments": {},
   "cell_type": "markdown",
   "metadata": {},
   "source": [
    "And how did we get those top inputs (`model`, `test_X` and `test_y`)? \n",
    "\n",
    "Well, we trained a learner on some `train_X` and `train_y` that we get by splitting some `(X, y)` arrays..."
   ]
  },
  {
   "cell_type": "code",
   "execution_count": 31,
   "metadata": {
    "ExecuteTime": {
     "end_time": "2021-08-13T15:55:23.458003Z",
     "start_time": "2021-08-13T15:55:23.418343Z"
    }
   },
   "outputs": [
    {
     "data": {
      "image/svg+xml": [
       "<?xml version=\"1.0\" encoding=\"UTF-8\" standalone=\"no\"?>\n",
       "<!DOCTYPE svg PUBLIC \"-//W3C//DTD SVG 1.1//EN\"\n",
       " \"http://www.w3.org/Graphics/SVG/1.1/DTD/svg11.dtd\">\n",
       "<!-- Generated by graphviz version 2.49.0 (20210828.1703)\n",
       " -->\n",
       "<!-- Pages: 1 -->\n",
       "<svg width=\"537pt\" height=\"908pt\"\n",
       " viewBox=\"0.00 0.00 537.00 908.00\" xmlns=\"http://www.w3.org/2000/svg\" xmlns:xlink=\"http://www.w3.org/1999/xlink\">\n",
       "<g id=\"graph0\" class=\"graph\" transform=\"scale(1 1) rotate(0) translate(4 904)\">\n",
       "<polygon fill=\"white\" stroke=\"transparent\" points=\"-4,4 -4,-904 533,-904 533,4 -4,4\"/>\n",
       "<!-- train_test_split -->\n",
       "<g id=\"node1\" class=\"node\">\n",
       "<title>train_test_split</title>\n",
       "<text text-anchor=\"middle\" x=\"261\" y=\"-734.3\" font-family=\"Times,serif\" font-size=\"14.00\">train_test_split</text>\n",
       "</g>\n",
       "<!-- test_y_ -->\n",
       "<g id=\"node10\" class=\"node\">\n",
       "<title>test_y_</title>\n",
       "<polygon fill=\"none\" stroke=\"black\" points=\"328.5,-684 271.5,-684 271.5,-648 328.5,-648 328.5,-684\"/>\n",
       "<text text-anchor=\"middle\" x=\"300\" y=\"-662.3\" font-family=\"Times,serif\" font-size=\"14.00\">test_y_</text>\n",
       "</g>\n",
       "<!-- train_test_split&#45;&gt;test_y_ -->\n",
       "<g id=\"edge9\" class=\"edge\">\n",
       "<title>train_test_split&#45;&gt;test_y_</title>\n",
       "<path fill=\"none\" stroke=\"black\" d=\"M270.64,-719.7C275.13,-711.64 280.56,-701.89 285.52,-692.98\"/>\n",
       "<polygon fill=\"black\" stroke=\"black\" points=\"288.66,-694.54 290.47,-684.1 282.55,-691.14 288.66,-694.54\"/>\n",
       "</g>\n",
       "<!-- test_X_ -->\n",
       "<g id=\"node14\" class=\"node\">\n",
       "<title>test_X_</title>\n",
       "<polygon fill=\"none\" stroke=\"black\" points=\"253,-684 193,-684 193,-648 253,-648 253,-684\"/>\n",
       "<text text-anchor=\"middle\" x=\"223\" y=\"-662.3\" font-family=\"Times,serif\" font-size=\"14.00\">test_X_</text>\n",
       "</g>\n",
       "<!-- train_test_split&#45;&gt;test_X_ -->\n",
       "<g id=\"edge13\" class=\"edge\">\n",
       "<title>train_test_split&#45;&gt;test_X_</title>\n",
       "<path fill=\"none\" stroke=\"black\" d=\"M251.61,-719.7C247.24,-711.64 241.94,-701.89 237.1,-692.98\"/>\n",
       "<polygon fill=\"black\" stroke=\"black\" points=\"240.13,-691.22 232.29,-684.1 233.98,-694.56 240.13,-691.22\"/>\n",
       "</g>\n",
       "<!-- train_test_split_ -->\n",
       "<g id=\"node2\" class=\"node\">\n",
       "<title>train_test_split_</title>\n",
       "<polygon fill=\"none\" stroke=\"black\" points=\"314.5,-828 207.5,-828 207.5,-792 314.5,-792 314.5,-828\"/>\n",
       "<text text-anchor=\"middle\" x=\"261\" y=\"-806.3\" font-family=\"Times,serif\" font-size=\"14.00\">train_test_split_</text>\n",
       "</g>\n",
       "<!-- train_test_split_&#45;&gt;train_test_split -->\n",
       "<g id=\"edge1\" class=\"edge\">\n",
       "<title>train_test_split_&#45;&gt;train_test_split</title>\n",
       "<path fill=\"none\" stroke=\"black\" d=\"M261,-791.7C261,-783.98 261,-774.71 261,-766.11\"/>\n",
       "<polygon fill=\"black\" stroke=\"black\" points=\"264.5,-766.1 261,-756.1 257.5,-766.1 264.5,-766.1\"/>\n",
       "</g>\n",
       "<!-- arrays -->\n",
       "<g id=\"node3\" class=\"node\">\n",
       "<title>arrays</title>\n",
       "<text text-anchor=\"middle\" x=\"29\" y=\"-878.3\" font-family=\"Times,serif\" font-size=\"14.00\">*arrays</text>\n",
       "</g>\n",
       "<!-- arrays&#45;&gt;train_test_split_ -->\n",
       "<g id=\"edge2\" class=\"edge\">\n",
       "<title>arrays&#45;&gt;train_test_split_</title>\n",
       "<path fill=\"none\" stroke=\"black\" d=\"M58.28,-867.37C61.2,-866.17 64.14,-865.02 67,-864 109.7,-848.72 159.01,-835.3 197.24,-825.79\"/>\n",
       "<polygon fill=\"black\" stroke=\"black\" points=\"198.33,-829.12 207.2,-823.33 196.66,-822.33 198.33,-829.12\"/>\n",
       "</g>\n",
       "<!-- test_size -->\n",
       "<g id=\"node4\" class=\"node\">\n",
       "<title>test_size</title>\n",
       "<text text-anchor=\"middle\" x=\"113\" y=\"-878.3\" font-family=\"Times,serif\" font-size=\"14.00\">test_size=</text>\n",
       "</g>\n",
       "<!-- test_size&#45;&gt;train_test_split_ -->\n",
       "<g id=\"edge3\" class=\"edge\">\n",
       "<title>test_size&#45;&gt;train_test_split_</title>\n",
       "<path fill=\"none\" stroke=\"black\" d=\"M149.2,-863.88C169.26,-854.39 194.37,-842.51 215.71,-832.42\"/>\n",
       "<polygon fill=\"black\" stroke=\"black\" points=\"217.37,-835.51 224.91,-828.07 214.38,-829.18 217.37,-835.51\"/>\n",
       "</g>\n",
       "<!-- train_size -->\n",
       "<g id=\"node5\" class=\"node\">\n",
       "<title>train_size</title>\n",
       "<text text-anchor=\"middle\" x=\"207\" y=\"-878.3\" font-family=\"Times,serif\" font-size=\"14.00\">train_size=</text>\n",
       "</g>\n",
       "<!-- train_size&#45;&gt;train_test_split_ -->\n",
       "<g id=\"edge4\" class=\"edge\">\n",
       "<title>train_size&#45;&gt;train_test_split_</title>\n",
       "<path fill=\"none\" stroke=\"black\" d=\"M220.35,-863.7C226.76,-855.39 234.56,-845.28 241.61,-836.14\"/>\n",
       "<polygon fill=\"black\" stroke=\"black\" points=\"244.47,-838.16 247.81,-828.1 238.93,-833.88 244.47,-838.16\"/>\n",
       "</g>\n",
       "<!-- random_state -->\n",
       "<g id=\"node6\" class=\"node\">\n",
       "<title>random_state</title>\n",
       "<text text-anchor=\"middle\" x=\"315\" y=\"-878.3\" font-family=\"Times,serif\" font-size=\"14.00\">random_state=</text>\n",
       "</g>\n",
       "<!-- random_state&#45;&gt;train_test_split_ -->\n",
       "<g id=\"edge5\" class=\"edge\">\n",
       "<title>random_state&#45;&gt;train_test_split_</title>\n",
       "<path fill=\"none\" stroke=\"black\" d=\"M301.65,-863.7C295.24,-855.39 287.44,-845.28 280.39,-836.14\"/>\n",
       "<polygon fill=\"black\" stroke=\"black\" points=\"283.07,-833.88 274.19,-828.1 277.53,-838.16 283.07,-833.88\"/>\n",
       "</g>\n",
       "<!-- shuffle -->\n",
       "<g id=\"node7\" class=\"node\">\n",
       "<title>shuffle</title>\n",
       "<text text-anchor=\"middle\" x=\"415\" y=\"-878.3\" font-family=\"Times,serif\" font-size=\"14.00\">shuffle=</text>\n",
       "</g>\n",
       "<!-- shuffle&#45;&gt;train_test_split_ -->\n",
       "<g id=\"edge6\" class=\"edge\">\n",
       "<title>shuffle&#45;&gt;train_test_split_</title>\n",
       "<path fill=\"none\" stroke=\"black\" d=\"M383.46,-866.67C361.62,-856.73 332.16,-843.35 307.61,-832.19\"/>\n",
       "<polygon fill=\"black\" stroke=\"black\" points=\"309.02,-828.98 298.47,-828.03 306.12,-835.36 309.02,-828.98\"/>\n",
       "</g>\n",
       "<!-- stratify -->\n",
       "<g id=\"node8\" class=\"node\">\n",
       "<title>stratify</title>\n",
       "<text text-anchor=\"middle\" x=\"497\" y=\"-878.3\" font-family=\"Times,serif\" font-size=\"14.00\">stratify=</text>\n",
       "</g>\n",
       "<!-- stratify&#45;&gt;train_test_split_ -->\n",
       "<g id=\"edge7\" class=\"edge\">\n",
       "<title>stratify&#45;&gt;train_test_split_</title>\n",
       "<path fill=\"none\" stroke=\"black\" d=\"M464.92,-867.24C461.92,-866.1 458.92,-865 456,-864 412.73,-849.22 362.96,-835.75 324.54,-826.08\"/>\n",
       "<polygon fill=\"black\" stroke=\"black\" points=\"325.07,-822.61 314.52,-823.59 323.38,-829.4 325.07,-822.61\"/>\n",
       "</g>\n",
       "<!-- test_y -->\n",
       "<g id=\"node9\" class=\"node\">\n",
       "<title>test_y</title>\n",
       "<text text-anchor=\"middle\" x=\"300\" y=\"-590.3\" font-family=\"Times,serif\" font-size=\"14.00\">test_y</text>\n",
       "</g>\n",
       "<!-- truth_ -->\n",
       "<g id=\"node12\" class=\"node\">\n",
       "<title>truth_</title>\n",
       "<polygon fill=\"none\" stroke=\"black\" points=\"327,-540 273,-540 273,-504 327,-504 327,-540\"/>\n",
       "<text text-anchor=\"middle\" x=\"300\" y=\"-518.3\" font-family=\"Times,serif\" font-size=\"14.00\">truth_</text>\n",
       "</g>\n",
       "<!-- test_y&#45;&gt;truth_ -->\n",
       "<g id=\"edge11\" class=\"edge\">\n",
       "<title>test_y&#45;&gt;truth_</title>\n",
       "<path fill=\"none\" stroke=\"black\" d=\"M300,-575.7C300,-567.98 300,-558.71 300,-550.11\"/>\n",
       "<polygon fill=\"black\" stroke=\"black\" points=\"303.5,-550.1 300,-540.1 296.5,-550.1 303.5,-550.1\"/>\n",
       "</g>\n",
       "<!-- test_y_&#45;&gt;test_y -->\n",
       "<g id=\"edge8\" class=\"edge\">\n",
       "<title>test_y_&#45;&gt;test_y</title>\n",
       "<path fill=\"none\" stroke=\"black\" d=\"M300,-647.7C300,-639.98 300,-630.71 300,-622.11\"/>\n",
       "<polygon fill=\"black\" stroke=\"black\" points=\"303.5,-622.1 300,-612.1 296.5,-622.1 303.5,-622.1\"/>\n",
       "</g>\n",
       "<!-- truth -->\n",
       "<g id=\"node11\" class=\"node\">\n",
       "<title>truth</title>\n",
       "<text text-anchor=\"middle\" x=\"294\" y=\"-374.3\" font-family=\"Times,serif\" font-size=\"14.00\">truth</text>\n",
       "</g>\n",
       "<!-- confusion_count_ -->\n",
       "<g id=\"node22\" class=\"node\">\n",
       "<title>confusion_count_</title>\n",
       "<polygon fill=\"none\" stroke=\"black\" points=\"306.5,-252 189.5,-252 189.5,-216 306.5,-216 306.5,-252\"/>\n",
       "<text text-anchor=\"middle\" x=\"248\" y=\"-230.3\" font-family=\"Times,serif\" font-size=\"14.00\">confusion_count_</text>\n",
       "</g>\n",
       "<!-- truth&#45;&gt;confusion_count_ -->\n",
       "<g id=\"edge22\" class=\"edge\">\n",
       "<title>truth&#45;&gt;confusion_count_</title>\n",
       "<path fill=\"none\" stroke=\"black\" d=\"M288.45,-359.87C280.58,-335.56 266.08,-290.82 256.75,-262.01\"/>\n",
       "<polygon fill=\"black\" stroke=\"black\" points=\"259.98,-260.62 253.57,-252.19 253.32,-262.78 259.98,-260.62\"/>\n",
       "</g>\n",
       "<!-- truth_&#45;&gt;truth -->\n",
       "<g id=\"edge10\" class=\"edge\">\n",
       "<title>truth_&#45;&gt;truth</title>\n",
       "<path fill=\"none\" stroke=\"black\" d=\"M299.28,-503.87C298.25,-479.67 296.38,-435.21 295.16,-406.39\"/>\n",
       "<polygon fill=\"black\" stroke=\"black\" points=\"298.65,-406.03 294.73,-396.19 291.65,-406.33 298.65,-406.03\"/>\n",
       "</g>\n",
       "<!-- test_X -->\n",
       "<g id=\"node13\" class=\"node\">\n",
       "<title>test_X</title>\n",
       "<text text-anchor=\"middle\" x=\"223\" y=\"-590.3\" font-family=\"Times,serif\" font-size=\"14.00\">test_X</text>\n",
       "</g>\n",
       "<!-- predict_proba_ -->\n",
       "<g id=\"node16\" class=\"node\">\n",
       "<title>predict_proba_</title>\n",
       "<polygon fill=\"none\" stroke=\"black\" points=\"254.5,-540 153.5,-540 153.5,-504 254.5,-504 254.5,-540\"/>\n",
       "<text text-anchor=\"middle\" x=\"204\" y=\"-518.3\" font-family=\"Times,serif\" font-size=\"14.00\">predict_proba_</text>\n",
       "</g>\n",
       "<!-- test_X&#45;&gt;predict_proba_ -->\n",
       "<g id=\"edge16\" class=\"edge\">\n",
       "<title>test_X&#45;&gt;predict_proba_</title>\n",
       "<path fill=\"none\" stroke=\"black\" d=\"M218.3,-575.7C216.19,-567.9 213.64,-558.51 211.28,-549.83\"/>\n",
       "<polygon fill=\"black\" stroke=\"black\" points=\"214.64,-548.84 208.64,-540.1 207.88,-550.67 214.64,-548.84\"/>\n",
       "</g>\n",
       "<!-- test_X_&#45;&gt;test_X -->\n",
       "<g id=\"edge12\" class=\"edge\">\n",
       "<title>test_X_&#45;&gt;test_X</title>\n",
       "<path fill=\"none\" stroke=\"black\" d=\"M223,-647.7C223,-639.98 223,-630.71 223,-622.11\"/>\n",
       "<polygon fill=\"black\" stroke=\"black\" points=\"226.5,-622.1 223,-612.1 219.5,-622.1 226.5,-622.1\"/>\n",
       "</g>\n",
       "<!-- predict_proba -->\n",
       "<g id=\"node15\" class=\"node\">\n",
       "<title>predict_proba</title>\n",
       "<text text-anchor=\"middle\" x=\"206\" y=\"-446.3\" font-family=\"Times,serif\" font-size=\"14.00\">predict_proba</text>\n",
       "</g>\n",
       "<!-- prediction_ -->\n",
       "<g id=\"node19\" class=\"node\">\n",
       "<title>prediction_</title>\n",
       "<polygon fill=\"none\" stroke=\"black\" points=\"246,-396 166,-396 166,-360 246,-360 246,-396\"/>\n",
       "<text text-anchor=\"middle\" x=\"206\" y=\"-374.3\" font-family=\"Times,serif\" font-size=\"14.00\">prediction_</text>\n",
       "</g>\n",
       "<!-- predict_proba&#45;&gt;prediction_ -->\n",
       "<g id=\"edge18\" class=\"edge\">\n",
       "<title>predict_proba&#45;&gt;prediction_</title>\n",
       "<path fill=\"none\" stroke=\"black\" d=\"M206,-431.7C206,-423.98 206,-414.71 206,-406.11\"/>\n",
       "<polygon fill=\"black\" stroke=\"black\" points=\"209.5,-406.1 206,-396.1 202.5,-406.1 209.5,-406.1\"/>\n",
       "</g>\n",
       "<!-- predict_proba_&#45;&gt;predict_proba -->\n",
       "<g id=\"edge14\" class=\"edge\">\n",
       "<title>predict_proba_&#45;&gt;predict_proba</title>\n",
       "<path fill=\"none\" stroke=\"black\" d=\"M204.49,-503.7C204.71,-495.98 204.98,-486.71 205.23,-478.11\"/>\n",
       "<polygon fill=\"black\" stroke=\"black\" points=\"208.72,-478.2 205.51,-468.1 201.73,-478 208.72,-478.2\"/>\n",
       "</g>\n",
       "<!-- model -->\n",
       "<g id=\"node17\" class=\"node\">\n",
       "<title>model</title>\n",
       "<text text-anchor=\"middle\" x=\"151\" y=\"-590.3\" font-family=\"Times,serif\" font-size=\"14.00\">model</text>\n",
       "</g>\n",
       "<!-- model&#45;&gt;predict_proba_ -->\n",
       "<g id=\"edge15\" class=\"edge\">\n",
       "<title>model&#45;&gt;predict_proba_</title>\n",
       "<path fill=\"none\" stroke=\"black\" d=\"M164.1,-575.7C170.39,-567.39 178.05,-557.28 184.96,-548.14\"/>\n",
       "<polygon fill=\"black\" stroke=\"black\" points=\"187.8,-550.19 191.05,-540.1 182.22,-545.96 187.8,-550.19\"/>\n",
       "</g>\n",
       "<!-- prediction -->\n",
       "<g id=\"node18\" class=\"node\">\n",
       "<title>prediction</title>\n",
       "<text text-anchor=\"middle\" x=\"216\" y=\"-302.3\" font-family=\"Times,serif\" font-size=\"14.00\">prediction</text>\n",
       "</g>\n",
       "<!-- prediction&#45;&gt;confusion_count_ -->\n",
       "<g id=\"edge21\" class=\"edge\">\n",
       "<title>prediction&#45;&gt;confusion_count_</title>\n",
       "<path fill=\"none\" stroke=\"black\" d=\"M223.91,-287.7C227.55,-279.73 231.95,-270.1 235.99,-261.26\"/>\n",
       "<polygon fill=\"black\" stroke=\"black\" points=\"239.21,-262.65 240.18,-252.1 232.84,-259.74 239.21,-262.65\"/>\n",
       "</g>\n",
       "<!-- prediction_&#45;&gt;prediction -->\n",
       "<g id=\"edge17\" class=\"edge\">\n",
       "<title>prediction_&#45;&gt;prediction</title>\n",
       "<path fill=\"none\" stroke=\"black\" d=\"M208.47,-359.7C209.57,-351.98 210.9,-342.71 212.13,-334.11\"/>\n",
       "<polygon fill=\"black\" stroke=\"black\" points=\"215.61,-334.5 213.56,-324.1 208.68,-333.51 215.61,-334.5\"/>\n",
       "</g>\n",
       "<!-- threshold -->\n",
       "<g id=\"node20\" class=\"node\">\n",
       "<title>threshold</title>\n",
       "<text text-anchor=\"middle\" x=\"106\" y=\"-446.3\" font-family=\"Times,serif\" font-size=\"14.00\">threshold</text>\n",
       "</g>\n",
       "<!-- threshold&#45;&gt;prediction_ -->\n",
       "<g id=\"edge19\" class=\"edge\">\n",
       "<title>threshold&#45;&gt;prediction_</title>\n",
       "<path fill=\"none\" stroke=\"black\" d=\"M130.46,-431.88C143.3,-422.89 159.2,-411.76 173.09,-402.03\"/>\n",
       "<polygon fill=\"black\" stroke=\"black\" points=\"175.26,-404.79 181.44,-396.19 171.24,-399.06 175.26,-404.79\"/>\n",
       "</g>\n",
       "<!-- confusion_count -->\n",
       "<g id=\"node21\" class=\"node\">\n",
       "<title>confusion_count</title>\n",
       "<text text-anchor=\"middle\" x=\"248\" y=\"-158.3\" font-family=\"Times,serif\" font-size=\"14.00\">confusion_count</text>\n",
       "</g>\n",
       "<!-- classifier_score_ -->\n",
       "<g id=\"node24\" class=\"node\">\n",
       "<title>classifier_score_</title>\n",
       "<polygon fill=\"none\" stroke=\"black\" points=\"239,-108 129,-108 129,-72 239,-72 239,-108\"/>\n",
       "<text text-anchor=\"middle\" x=\"184\" y=\"-86.3\" font-family=\"Times,serif\" font-size=\"14.00\">classifier_score_</text>\n",
       "</g>\n",
       "<!-- confusion_count&#45;&gt;classifier_score_ -->\n",
       "<g id=\"edge24\" class=\"edge\">\n",
       "<title>confusion_count&#45;&gt;classifier_score_</title>\n",
       "<path fill=\"none\" stroke=\"black\" d=\"M232.18,-143.7C224.43,-135.22 214.96,-124.86 206.48,-115.58\"/>\n",
       "<polygon fill=\"black\" stroke=\"black\" points=\"208.97,-113.12 199.64,-108.1 203.8,-117.85 208.97,-113.12\"/>\n",
       "</g>\n",
       "<!-- confusion_count_&#45;&gt;confusion_count -->\n",
       "<g id=\"edge20\" class=\"edge\">\n",
       "<title>confusion_count_&#45;&gt;confusion_count</title>\n",
       "<path fill=\"none\" stroke=\"black\" d=\"M248,-215.7C248,-207.98 248,-198.71 248,-190.11\"/>\n",
       "<polygon fill=\"black\" stroke=\"black\" points=\"251.5,-190.1 248,-180.1 244.5,-190.1 251.5,-190.1\"/>\n",
       "</g>\n",
       "<!-- classifier_score -->\n",
       "<g id=\"node23\" class=\"node\">\n",
       "<title>classifier_score</title>\n",
       "<text text-anchor=\"middle\" x=\"184\" y=\"-14.3\" font-family=\"Times,serif\" font-size=\"14.00\">classifier_score</text>\n",
       "</g>\n",
       "<!-- classifier_score_&#45;&gt;classifier_score -->\n",
       "<g id=\"edge23\" class=\"edge\">\n",
       "<title>classifier_score_&#45;&gt;classifier_score</title>\n",
       "<path fill=\"none\" stroke=\"black\" d=\"M184,-71.7C184,-63.98 184,-54.71 184,-46.11\"/>\n",
       "<polygon fill=\"black\" stroke=\"black\" points=\"187.5,-46.1 184,-36.1 180.5,-46.1 187.5,-46.1\"/>\n",
       "</g>\n",
       "<!-- confusion_value -->\n",
       "<g id=\"node25\" class=\"node\">\n",
       "<title>confusion_value</title>\n",
       "<text text-anchor=\"middle\" x=\"120\" y=\"-158.3\" font-family=\"Times,serif\" font-size=\"14.00\">confusion_value</text>\n",
       "</g>\n",
       "<!-- confusion_value&#45;&gt;classifier_score_ -->\n",
       "<g id=\"edge25\" class=\"edge\">\n",
       "<title>confusion_value&#45;&gt;classifier_score_</title>\n",
       "<path fill=\"none\" stroke=\"black\" d=\"M135.82,-143.7C143.57,-135.22 153.04,-124.86 161.52,-115.58\"/>\n",
       "<polygon fill=\"black\" stroke=\"black\" points=\"164.2,-117.85 168.36,-108.1 159.03,-113.12 164.2,-117.85\"/>\n",
       "</g>\n",
       "</g>\n",
       "</svg>\n"
      ],
      "text/plain": [
       "<graphviz.dot.Digraph at 0x1351ec730>"
      ]
     },
     "execution_count": 31,
     "metadata": {},
     "output_type": "execute_result"
    }
   ],
   "source": [
    "from sklearn.model_selection import train_test_split\n",
    "from meshed import FuncNode, DAG\n",
    "# from operator import itemgetter\n",
    "\n",
    "# train_X, test_X, train_y, test_y = train_test_split(...)\n",
    "\n",
    "def test_X(train_test_split):\n",
    "    return train_test_split[1]\n",
    "\n",
    "def test_y(train_test_split):\n",
    "    return train_test_split[3]\n",
    "\n",
    "def truth(test_y):  # to link up truth and test_y\n",
    "    return test_y\n",
    "\n",
    "# Note how we extend the existing dag by adding a few functions:\n",
    "bigger_dag = DAG([*dag,  train_test_split, test_X, test_y, truth])\n",
    "bigger_dag.dot_digraph()"
   ]
  },
  {
   "attachments": {},
   "cell_type": "markdown",
   "metadata": {},
   "source": [
    "## Getting a sub-dag"
   ]
  },
  {
   "attachments": {},
   "cell_type": "markdown",
   "metadata": {},
   "source": [
    "The current `bigger_dag` will get you `classifier_score` from input `model`, `threshold`, `confusion_value`, `arrays` and (optional) `options`. \n",
    "\n",
    "But what if you just wanted the `confusion_count`, and you already had the `predict_proba` and `truth` arrays?\n",
    "\n",
    "Well, you can ask for `bigger_dag` to give you a sub-dag of your choice. We chose to use brackets `[...]` as the interface to get sub-dags, \n",
    "reminiscent of getting a sub-array of a numpy array or a sub-dataframe from a pandas dataframe."
   ]
  },
  {
   "cell_type": "code",
   "execution_count": 36,
   "metadata": {
    "ExecuteTime": {
     "end_time": "2021-08-01T14:48:30.606277Z",
     "start_time": "2021-08-01T14:48:30.317384Z"
    }
   },
   "outputs": [
    {
     "data": {
      "image/svg+xml": [
       "<?xml version=\"1.0\" encoding=\"UTF-8\" standalone=\"no\"?>\n",
       "<!DOCTYPE svg PUBLIC \"-//W3C//DTD SVG 1.1//EN\"\n",
       " \"http://www.w3.org/Graphics/SVG/1.1/DTD/svg11.dtd\">\n",
       "<!-- Generated by graphviz version 2.49.0 (20210828.1703)\n",
       " -->\n",
       "<!-- Pages: 1 -->\n",
       "<svg width=\"154pt\" height=\"188pt\"\n",
       " viewBox=\"0.00 0.00 153.50 188.00\" xmlns=\"http://www.w3.org/2000/svg\" xmlns:xlink=\"http://www.w3.org/1999/xlink\">\n",
       "<g id=\"graph0\" class=\"graph\" transform=\"scale(1 1) rotate(0) translate(4 184)\">\n",
       "<polygon fill=\"white\" stroke=\"transparent\" points=\"-4,4 -4,-184 149.5,-184 149.5,4 -4,4\"/>\n",
       "<!-- confusion_count -->\n",
       "<g id=\"node1\" class=\"node\">\n",
       "<title>confusion_count</title>\n",
       "<text text-anchor=\"middle\" x=\"77.5\" y=\"-14.3\" font-family=\"Times,serif\" font-size=\"14.00\">confusion_count</text>\n",
       "</g>\n",
       "<!-- confusion_count_ -->\n",
       "<g id=\"node2\" class=\"node\">\n",
       "<title>confusion_count_</title>\n",
       "<polygon fill=\"none\" stroke=\"black\" points=\"136,-108 19,-108 19,-72 136,-72 136,-108\"/>\n",
       "<text text-anchor=\"middle\" x=\"77.5\" y=\"-86.3\" font-family=\"Times,serif\" font-size=\"14.00\">confusion_count_</text>\n",
       "</g>\n",
       "<!-- confusion_count_&#45;&gt;confusion_count -->\n",
       "<g id=\"edge1\" class=\"edge\">\n",
       "<title>confusion_count_&#45;&gt;confusion_count</title>\n",
       "<path fill=\"none\" stroke=\"black\" d=\"M77.5,-71.7C77.5,-63.98 77.5,-54.71 77.5,-46.11\"/>\n",
       "<polygon fill=\"black\" stroke=\"black\" points=\"81,-46.1 77.5,-36.1 74,-46.1 81,-46.1\"/>\n",
       "</g>\n",
       "<!-- prediction -->\n",
       "<g id=\"node3\" class=\"node\">\n",
       "<title>prediction</title>\n",
       "<text text-anchor=\"middle\" x=\"36.5\" y=\"-158.3\" font-family=\"Times,serif\" font-size=\"14.00\">prediction</text>\n",
       "</g>\n",
       "<!-- prediction&#45;&gt;confusion_count_ -->\n",
       "<g id=\"edge2\" class=\"edge\">\n",
       "<title>prediction&#45;&gt;confusion_count_</title>\n",
       "<path fill=\"none\" stroke=\"black\" d=\"M46.63,-143.7C51.35,-135.64 57.06,-125.89 62.28,-116.98\"/>\n",
       "<polygon fill=\"black\" stroke=\"black\" points=\"65.45,-118.5 67.48,-108.1 59.41,-114.96 65.45,-118.5\"/>\n",
       "</g>\n",
       "<!-- truth -->\n",
       "<g id=\"node4\" class=\"node\">\n",
       "<title>truth</title>\n",
       "<text text-anchor=\"middle\" x=\"118.5\" y=\"-158.3\" font-family=\"Times,serif\" font-size=\"14.00\">truth</text>\n",
       "</g>\n",
       "<!-- truth&#45;&gt;confusion_count_ -->\n",
       "<g id=\"edge3\" class=\"edge\">\n",
       "<title>truth&#45;&gt;confusion_count_</title>\n",
       "<path fill=\"none\" stroke=\"black\" d=\"M108.37,-143.7C103.65,-135.64 97.94,-125.89 92.72,-116.98\"/>\n",
       "<polygon fill=\"black\" stroke=\"black\" points=\"95.59,-114.96 87.52,-108.1 89.55,-118.5 95.59,-114.96\"/>\n",
       "</g>\n",
       "</g>\n",
       "</svg>\n"
      ],
      "text/plain": [
       "<graphviz.dot.Digraph at 0x1354b46a0>"
      ]
     },
     "execution_count": 36,
     "metadata": {},
     "output_type": "execute_result"
    }
   ],
   "source": [
    "f = bigger_dag[['threshold', 'predict_proba'], 'confusion_count']  # repair\n",
    "f = bigger_dag[['threshold', 'predict_proba', 'truth'], 'confusion_count']  # repair\n",
    "f.dot_digraph()"
   ]
  },
  {
   "attachments": {},
   "cell_type": "markdown",
   "metadata": {},
   "source": [
    "Let's see what `bigger_dag[['threshold', 'predict_proba'], 'confusion_count']` means.\n",
    "\n",
    "Here we're asking to get a function (a dag really) that will get us from `threshold` and `predict_proba` inputs to the value of `confusion_count`. \n",
    "\n",
    "But you'll notice that you get a function that has three arguments, not two:"
   ]
  },
  {
   "cell_type": "code",
   "execution_count": 37,
   "metadata": {
    "ExecuteTime": {
     "end_time": "2021-08-01T14:48:43.547618Z",
     "start_time": "2021-08-01T14:48:43.515041Z"
    }
   },
   "outputs": [
    {
     "data": {
      "text/plain": [
       "<Sig (prediction, truth)>"
      ]
     },
     "execution_count": 37,
     "metadata": {},
     "output_type": "execute_result"
    }
   ],
   "source": [
    "from i2 import Sig  # i2 comes with meshed\n",
    "Sig(f)"
   ]
  },
  {
   "attachments": {},
   "cell_type": "markdown",
   "metadata": {},
   "source": [
    "That's because `threshold` and `predict_proba` are not sufficient to get you the `confusion_count`.\n",
    "\n",
    "What you actually get is smallest set of input arguments containing the ones you requested that will actually get you to the outputs you requested"
   ]
  },
  {
   "attachments": {},
   "cell_type": "markdown",
   "metadata": {},
   "source": [
    "So to get a sub-dag, you say `dag[input_args, output_args]`.\n",
    "\n",
    "Both `input_args` and `output_args` can be \n",
    "- a single argument\n",
    "- a list of arguments\n",
    "- an empty slice (i.e. `:`), which means \"no condition\", i.e. \"all possible\" (inputs or outputs)"
   ]
  },
  {
   "cell_type": "code",
   "execution_count": 38,
   "metadata": {
    "ExecuteTime": {
     "end_time": "2021-08-01T14:48:47.165764Z",
     "start_time": "2021-08-01T14:48:46.896412Z"
    }
   },
   "outputs": [
    {
     "data": {
      "image/svg+xml": [
       "<?xml version=\"1.0\" encoding=\"UTF-8\" standalone=\"no\"?>\n",
       "<!DOCTYPE svg PUBLIC \"-//W3C//DTD SVG 1.1//EN\"\n",
       " \"http://www.w3.org/Graphics/SVG/1.1/DTD/svg11.dtd\">\n",
       "<!-- Generated by graphviz version 2.49.0 (20210828.1703)\n",
       " -->\n",
       "<!-- Pages: 1 -->\n",
       "<svg width=\"144pt\" height=\"188pt\"\n",
       " viewBox=\"0.00 0.00 143.50 188.00\" xmlns=\"http://www.w3.org/2000/svg\" xmlns:xlink=\"http://www.w3.org/1999/xlink\">\n",
       "<g id=\"graph0\" class=\"graph\" transform=\"scale(1 1) rotate(0) translate(4 184)\">\n",
       "<polygon fill=\"white\" stroke=\"transparent\" points=\"-4,4 -4,-184 139.5,-184 139.5,4 -4,4\"/>\n",
       "<!-- test_y -->\n",
       "<g id=\"node1\" class=\"node\">\n",
       "<title>test_y</title>\n",
       "<text text-anchor=\"middle\" x=\"28.5\" y=\"-14.3\" font-family=\"Times,serif\" font-size=\"14.00\">test_y</text>\n",
       "</g>\n",
       "<!-- test_y_ -->\n",
       "<g id=\"node2\" class=\"node\">\n",
       "<title>test_y_</title>\n",
       "<polygon fill=\"none\" stroke=\"black\" points=\"57,-108 0,-108 0,-72 57,-72 57,-108\"/>\n",
       "<text text-anchor=\"middle\" x=\"28.5\" y=\"-86.3\" font-family=\"Times,serif\" font-size=\"14.00\">test_y_</text>\n",
       "</g>\n",
       "<!-- test_y_&#45;&gt;test_y -->\n",
       "<g id=\"edge1\" class=\"edge\">\n",
       "<title>test_y_&#45;&gt;test_y</title>\n",
       "<path fill=\"none\" stroke=\"black\" d=\"M28.5,-71.7C28.5,-63.98 28.5,-54.71 28.5,-46.11\"/>\n",
       "<polygon fill=\"black\" stroke=\"black\" points=\"32,-46.1 28.5,-36.1 25,-46.1 32,-46.1\"/>\n",
       "</g>\n",
       "<!-- train_test_split -->\n",
       "<g id=\"node3\" class=\"node\">\n",
       "<title>train_test_split</title>\n",
       "<text text-anchor=\"middle\" x=\"66.5\" y=\"-158.3\" font-family=\"Times,serif\" font-size=\"14.00\">train_test_split</text>\n",
       "</g>\n",
       "<!-- train_test_split&#45;&gt;test_y_ -->\n",
       "<g id=\"edge2\" class=\"edge\">\n",
       "<title>train_test_split&#45;&gt;test_y_</title>\n",
       "<path fill=\"none\" stroke=\"black\" d=\"M57.11,-143.7C52.74,-135.64 47.44,-125.89 42.6,-116.98\"/>\n",
       "<polygon fill=\"black\" stroke=\"black\" points=\"45.63,-115.22 37.79,-108.1 39.48,-118.56 45.63,-115.22\"/>\n",
       "</g>\n",
       "<!-- test_X_ -->\n",
       "<g id=\"node5\" class=\"node\">\n",
       "<title>test_X_</title>\n",
       "<polygon fill=\"none\" stroke=\"black\" points=\"135.5,-108 75.5,-108 75.5,-72 135.5,-72 135.5,-108\"/>\n",
       "<text text-anchor=\"middle\" x=\"105.5\" y=\"-86.3\" font-family=\"Times,serif\" font-size=\"14.00\">test_X_</text>\n",
       "</g>\n",
       "<!-- train_test_split&#45;&gt;test_X_ -->\n",
       "<g id=\"edge4\" class=\"edge\">\n",
       "<title>train_test_split&#45;&gt;test_X_</title>\n",
       "<path fill=\"none\" stroke=\"black\" d=\"M76.14,-143.7C80.63,-135.64 86.06,-125.89 91.02,-116.98\"/>\n",
       "<polygon fill=\"black\" stroke=\"black\" points=\"94.16,-118.54 95.97,-108.1 88.05,-115.14 94.16,-118.54\"/>\n",
       "</g>\n",
       "<!-- test_X -->\n",
       "<g id=\"node4\" class=\"node\">\n",
       "<title>test_X</title>\n",
       "<text text-anchor=\"middle\" x=\"105.5\" y=\"-14.3\" font-family=\"Times,serif\" font-size=\"14.00\">test_X</text>\n",
       "</g>\n",
       "<!-- test_X_&#45;&gt;test_X -->\n",
       "<g id=\"edge3\" class=\"edge\">\n",
       "<title>test_X_&#45;&gt;test_X</title>\n",
       "<path fill=\"none\" stroke=\"black\" d=\"M105.5,-71.7C105.5,-63.98 105.5,-54.71 105.5,-46.11\"/>\n",
       "<polygon fill=\"black\" stroke=\"black\" points=\"109,-46.1 105.5,-36.1 102,-46.1 109,-46.1\"/>\n",
       "</g>\n",
       "</g>\n",
       "</svg>\n"
      ],
      "text/plain": [
       "<graphviz.dot.Digraph at 0x1354b46d0>"
      ]
     },
     "execution_count": 38,
     "metadata": {},
     "output_type": "execute_result"
    }
   ],
   "source": [
    "f = bigger_dag[:, ['test_X', 'test_y']]\n",
    "f.dot_digraph()"
   ]
  },
  {
   "cell_type": "code",
   "execution_count": 39,
   "metadata": {
    "ExecuteTime": {
     "end_time": "2021-08-01T14:48:48.325014Z",
     "start_time": "2021-08-01T14:48:48.052366Z"
    }
   },
   "outputs": [
    {
     "data": {
      "image/svg+xml": [
       "<?xml version=\"1.0\" encoding=\"UTF-8\" standalone=\"no\"?>\n",
       "<!DOCTYPE svg PUBLIC \"-//W3C//DTD SVG 1.1//EN\"\n",
       " \"http://www.w3.org/Graphics/SVG/1.1/DTD/svg11.dtd\">\n",
       "<!-- Generated by graphviz version 2.49.0 (20210828.1703)\n",
       " -->\n",
       "<!-- Pages: 1 -->\n",
       "<svg width=\"154pt\" height=\"188pt\"\n",
       " viewBox=\"0.00 0.00 153.50 188.00\" xmlns=\"http://www.w3.org/2000/svg\" xmlns:xlink=\"http://www.w3.org/1999/xlink\">\n",
       "<g id=\"graph0\" class=\"graph\" transform=\"scale(1 1) rotate(0) translate(4 184)\">\n",
       "<polygon fill=\"white\" stroke=\"transparent\" points=\"-4,4 -4,-184 149.5,-184 149.5,4 -4,4\"/>\n",
       "<!-- confusion_count -->\n",
       "<g id=\"node1\" class=\"node\">\n",
       "<title>confusion_count</title>\n",
       "<text text-anchor=\"middle\" x=\"77.5\" y=\"-14.3\" font-family=\"Times,serif\" font-size=\"14.00\">confusion_count</text>\n",
       "</g>\n",
       "<!-- confusion_count_ -->\n",
       "<g id=\"node2\" class=\"node\">\n",
       "<title>confusion_count_</title>\n",
       "<polygon fill=\"none\" stroke=\"black\" points=\"136,-108 19,-108 19,-72 136,-72 136,-108\"/>\n",
       "<text text-anchor=\"middle\" x=\"77.5\" y=\"-86.3\" font-family=\"Times,serif\" font-size=\"14.00\">confusion_count_</text>\n",
       "</g>\n",
       "<!-- confusion_count_&#45;&gt;confusion_count -->\n",
       "<g id=\"edge1\" class=\"edge\">\n",
       "<title>confusion_count_&#45;&gt;confusion_count</title>\n",
       "<path fill=\"none\" stroke=\"black\" d=\"M77.5,-71.7C77.5,-63.98 77.5,-54.71 77.5,-46.11\"/>\n",
       "<polygon fill=\"black\" stroke=\"black\" points=\"81,-46.1 77.5,-36.1 74,-46.1 81,-46.1\"/>\n",
       "</g>\n",
       "<!-- prediction -->\n",
       "<g id=\"node3\" class=\"node\">\n",
       "<title>prediction</title>\n",
       "<text text-anchor=\"middle\" x=\"36.5\" y=\"-158.3\" font-family=\"Times,serif\" font-size=\"14.00\">prediction</text>\n",
       "</g>\n",
       "<!-- prediction&#45;&gt;confusion_count_ -->\n",
       "<g id=\"edge2\" class=\"edge\">\n",
       "<title>prediction&#45;&gt;confusion_count_</title>\n",
       "<path fill=\"none\" stroke=\"black\" d=\"M46.63,-143.7C51.35,-135.64 57.06,-125.89 62.28,-116.98\"/>\n",
       "<polygon fill=\"black\" stroke=\"black\" points=\"65.45,-118.5 67.48,-108.1 59.41,-114.96 65.45,-118.5\"/>\n",
       "</g>\n",
       "<!-- truth -->\n",
       "<g id=\"node4\" class=\"node\">\n",
       "<title>truth</title>\n",
       "<text text-anchor=\"middle\" x=\"118.5\" y=\"-158.3\" font-family=\"Times,serif\" font-size=\"14.00\">truth</text>\n",
       "</g>\n",
       "<!-- truth&#45;&gt;confusion_count_ -->\n",
       "<g id=\"edge3\" class=\"edge\">\n",
       "<title>truth&#45;&gt;confusion_count_</title>\n",
       "<path fill=\"none\" stroke=\"black\" d=\"M108.37,-143.7C103.65,-135.64 97.94,-125.89 92.72,-116.98\"/>\n",
       "<polygon fill=\"black\" stroke=\"black\" points=\"95.59,-114.96 87.52,-108.1 89.55,-118.5 95.59,-114.96\"/>\n",
       "</g>\n",
       "</g>\n",
       "</svg>\n"
      ],
      "text/plain": [
       "<graphviz.dot.Digraph at 0x1354b4e50>"
      ]
     },
     "execution_count": 39,
     "metadata": {},
     "output_type": "execute_result"
    }
   ],
   "source": [
    "f = bigger_dag['prediction', :]\n",
    "f.dot_digraph()"
   ]
  },
  {
   "attachments": {},
   "cell_type": "markdown",
   "metadata": {},
   "source": [
    "You can also specify your desired inputs and outputs as functions (if only used by a unique node) or func_node name. "
   ]
  },
  {
   "cell_type": "code",
   "execution_count": 40,
   "metadata": {
    "ExecuteTime": {
     "end_time": "2021-08-01T15:27:07.736178Z",
     "start_time": "2021-08-01T15:27:07.465325Z"
    }
   },
   "outputs": [
    {
     "data": {
      "image/svg+xml": [
       "<?xml version=\"1.0\" encoding=\"UTF-8\" standalone=\"no\"?>\n",
       "<!DOCTYPE svg PUBLIC \"-//W3C//DTD SVG 1.1//EN\"\n",
       " \"http://www.w3.org/Graphics/SVG/1.1/DTD/svg11.dtd\">\n",
       "<!-- Generated by graphviz version 2.49.0 (20210828.1703)\n",
       " -->\n",
       "<!-- Pages: 1 -->\n",
       "<svg width=\"8pt\" height=\"8pt\"\n",
       " viewBox=\"0.00 0.00 8.00 8.00\" xmlns=\"http://www.w3.org/2000/svg\" xmlns:xlink=\"http://www.w3.org/1999/xlink\">\n",
       "<g id=\"graph0\" class=\"graph\" transform=\"scale(1 1) rotate(0) translate(4 4)\">\n",
       "<polygon fill=\"white\" stroke=\"transparent\" points=\"-4,4 -4,-4 4,-4 4,4 -4,4\"/>\n",
       "</g>\n",
       "</svg>\n"
      ],
      "text/plain": [
       "<graphviz.dot.Digraph at 0x1354b4970>"
      ]
     },
     "execution_count": 40,
     "metadata": {},
     "output_type": "execute_result"
    }
   ],
   "source": [
    "bigger_dag['prediction_', confusion_count].dot_digraph()"
   ]
  },
  {
   "attachments": {},
   "cell_type": "markdown",
   "metadata": {
    "ExecuteTime": {
     "end_time": "2021-08-01T15:15:54.622130Z",
     "start_time": "2021-08-01T15:15:54.589735Z"
    }
   },
   "source": [
    "Make sure you understand the difference/equivalent between the above and the two following:"
   ]
  },
  {
   "cell_type": "code",
   "execution_count": 41,
   "metadata": {
    "ExecuteTime": {
     "end_time": "2021-08-01T15:28:03.227330Z",
     "start_time": "2021-08-01T15:28:02.945924Z"
    }
   },
   "outputs": [
    {
     "data": {
      "image/svg+xml": [
       "<?xml version=\"1.0\" encoding=\"UTF-8\" standalone=\"no\"?>\n",
       "<!DOCTYPE svg PUBLIC \"-//W3C//DTD SVG 1.1//EN\"\n",
       " \"http://www.w3.org/Graphics/SVG/1.1/DTD/svg11.dtd\">\n",
       "<!-- Generated by graphviz version 2.49.0 (20210828.1703)\n",
       " -->\n",
       "<!-- Pages: 1 -->\n",
       "<svg width=\"154pt\" height=\"188pt\"\n",
       " viewBox=\"0.00 0.00 153.50 188.00\" xmlns=\"http://www.w3.org/2000/svg\" xmlns:xlink=\"http://www.w3.org/1999/xlink\">\n",
       "<g id=\"graph0\" class=\"graph\" transform=\"scale(1 1) rotate(0) translate(4 184)\">\n",
       "<polygon fill=\"white\" stroke=\"transparent\" points=\"-4,4 -4,-184 149.5,-184 149.5,4 -4,4\"/>\n",
       "<!-- confusion_count -->\n",
       "<g id=\"node1\" class=\"node\">\n",
       "<title>confusion_count</title>\n",
       "<text text-anchor=\"middle\" x=\"77.5\" y=\"-14.3\" font-family=\"Times,serif\" font-size=\"14.00\">confusion_count</text>\n",
       "</g>\n",
       "<!-- confusion_count_ -->\n",
       "<g id=\"node2\" class=\"node\">\n",
       "<title>confusion_count_</title>\n",
       "<polygon fill=\"none\" stroke=\"black\" points=\"136,-108 19,-108 19,-72 136,-72 136,-108\"/>\n",
       "<text text-anchor=\"middle\" x=\"77.5\" y=\"-86.3\" font-family=\"Times,serif\" font-size=\"14.00\">confusion_count_</text>\n",
       "</g>\n",
       "<!-- confusion_count_&#45;&gt;confusion_count -->\n",
       "<g id=\"edge1\" class=\"edge\">\n",
       "<title>confusion_count_&#45;&gt;confusion_count</title>\n",
       "<path fill=\"none\" stroke=\"black\" d=\"M77.5,-71.7C77.5,-63.98 77.5,-54.71 77.5,-46.11\"/>\n",
       "<polygon fill=\"black\" stroke=\"black\" points=\"81,-46.1 77.5,-36.1 74,-46.1 81,-46.1\"/>\n",
       "</g>\n",
       "<!-- prediction -->\n",
       "<g id=\"node3\" class=\"node\">\n",
       "<title>prediction</title>\n",
       "<text text-anchor=\"middle\" x=\"36.5\" y=\"-158.3\" font-family=\"Times,serif\" font-size=\"14.00\">prediction</text>\n",
       "</g>\n",
       "<!-- prediction&#45;&gt;confusion_count_ -->\n",
       "<g id=\"edge2\" class=\"edge\">\n",
       "<title>prediction&#45;&gt;confusion_count_</title>\n",
       "<path fill=\"none\" stroke=\"black\" d=\"M46.63,-143.7C51.35,-135.64 57.06,-125.89 62.28,-116.98\"/>\n",
       "<polygon fill=\"black\" stroke=\"black\" points=\"65.45,-118.5 67.48,-108.1 59.41,-114.96 65.45,-118.5\"/>\n",
       "</g>\n",
       "<!-- truth -->\n",
       "<g id=\"node4\" class=\"node\">\n",
       "<title>truth</title>\n",
       "<text text-anchor=\"middle\" x=\"118.5\" y=\"-158.3\" font-family=\"Times,serif\" font-size=\"14.00\">truth</text>\n",
       "</g>\n",
       "<!-- truth&#45;&gt;confusion_count_ -->\n",
       "<g id=\"edge3\" class=\"edge\">\n",
       "<title>truth&#45;&gt;confusion_count_</title>\n",
       "<path fill=\"none\" stroke=\"black\" d=\"M108.37,-143.7C103.65,-135.64 97.94,-125.89 92.72,-116.98\"/>\n",
       "<polygon fill=\"black\" stroke=\"black\" points=\"95.59,-114.96 87.52,-108.1 89.55,-118.5 95.59,-114.96\"/>\n",
       "</g>\n",
       "</g>\n",
       "</svg>\n"
      ],
      "text/plain": [
       "<graphviz.dot.Digraph at 0x1354b4b50>"
      ]
     },
     "execution_count": 41,
     "metadata": {},
     "output_type": "execute_result"
    }
   ],
   "source": [
    "bigger_dag['prediction', confusion_count].dot_digraph()"
   ]
  },
  {
   "cell_type": "code",
   "execution_count": 42,
   "metadata": {
    "ExecuteTime": {
     "end_time": "2021-08-01T15:29:33.808186Z",
     "start_time": "2021-08-01T15:29:33.528440Z"
    }
   },
   "outputs": [
    {
     "data": {
      "image/svg+xml": [
       "<?xml version=\"1.0\" encoding=\"UTF-8\" standalone=\"no\"?>\n",
       "<!DOCTYPE svg PUBLIC \"-//W3C//DTD SVG 1.1//EN\"\n",
       " \"http://www.w3.org/Graphics/SVG/1.1/DTD/svg11.dtd\">\n",
       "<!-- Generated by graphviz version 2.49.0 (20210828.1703)\n",
       " -->\n",
       "<!-- Pages: 1 -->\n",
       "<svg width=\"8pt\" height=\"8pt\"\n",
       " viewBox=\"0.00 0.00 8.00 8.00\" xmlns=\"http://www.w3.org/2000/svg\" xmlns:xlink=\"http://www.w3.org/1999/xlink\">\n",
       "<g id=\"graph0\" class=\"graph\" transform=\"scale(1 1) rotate(0) translate(4 4)\">\n",
       "<polygon fill=\"white\" stroke=\"transparent\" points=\"-4,4 -4,-4 4,-4 4,4 -4,4\"/>\n",
       "</g>\n",
       "</svg>\n"
      ],
      "text/plain": [
       "<graphviz.dot.Digraph at 0x1354b4d00>"
      ]
     },
     "execution_count": 42,
     "metadata": {},
     "output_type": "execute_result"
    }
   ],
   "source": [
    "bigger_dag[prediction, confusion_count].dot_digraph()  "
   ]
  },
  {
   "attachments": {},
   "cell_type": "markdown",
   "metadata": {},
   "source": [
    "Above we used `prediction`, the function -- not `'prediction'`, the string, which indicates the output of `prediction`.\n",
    "\n",
    "If we wanted to specify the `prediction` function we a string, we should use the func_node name:  `'prediction_'`."
   ]
  },
  {
   "cell_type": "code",
   "execution_count": 43,
   "metadata": {
    "ExecuteTime": {
     "end_time": "2021-08-01T14:58:22.323482Z",
     "start_time": "2021-08-01T14:58:21.852768Z"
    }
   },
   "outputs": [
    {
     "data": {
      "image/svg+xml": [
       "<?xml version=\"1.0\" encoding=\"UTF-8\" standalone=\"no\"?>\n",
       "<!DOCTYPE svg PUBLIC \"-//W3C//DTD SVG 1.1//EN\"\n",
       " \"http://www.w3.org/Graphics/SVG/1.1/DTD/svg11.dtd\">\n",
       "<!-- Generated by graphviz version 2.49.0 (20210828.1703)\n",
       " -->\n",
       "<!-- Pages: 1 -->\n",
       "<svg width=\"246pt\" height=\"188pt\"\n",
       " viewBox=\"0.00 0.00 245.50 188.00\" xmlns=\"http://www.w3.org/2000/svg\" xmlns:xlink=\"http://www.w3.org/1999/xlink\">\n",
       "<g id=\"graph0\" class=\"graph\" transform=\"scale(1 1) rotate(0) translate(4 184)\">\n",
       "<polygon fill=\"white\" stroke=\"transparent\" points=\"-4,4 -4,-184 241.5,-184 241.5,4 -4,4\"/>\n",
       "<!-- classifier_score -->\n",
       "<g id=\"node1\" class=\"node\">\n",
       "<title>classifier_score</title>\n",
       "<text text-anchor=\"middle\" x=\"119\" y=\"-14.3\" font-family=\"Times,serif\" font-size=\"14.00\">classifier_score</text>\n",
       "</g>\n",
       "<!-- classifier_score_ -->\n",
       "<g id=\"node2\" class=\"node\">\n",
       "<title>classifier_score_</title>\n",
       "<polygon fill=\"none\" stroke=\"black\" points=\"174,-108 64,-108 64,-72 174,-72 174,-108\"/>\n",
       "<text text-anchor=\"middle\" x=\"119\" y=\"-86.3\" font-family=\"Times,serif\" font-size=\"14.00\">classifier_score_</text>\n",
       "</g>\n",
       "<!-- classifier_score_&#45;&gt;classifier_score -->\n",
       "<g id=\"edge1\" class=\"edge\">\n",
       "<title>classifier_score_&#45;&gt;classifier_score</title>\n",
       "<path fill=\"none\" stroke=\"black\" d=\"M119,-71.7C119,-63.98 119,-54.71 119,-46.11\"/>\n",
       "<polygon fill=\"black\" stroke=\"black\" points=\"122.5,-46.1 119,-36.1 115.5,-46.1 122.5,-46.1\"/>\n",
       "</g>\n",
       "<!-- confusion_count -->\n",
       "<g id=\"node3\" class=\"node\">\n",
       "<title>confusion_count</title>\n",
       "<text text-anchor=\"middle\" x=\"55\" y=\"-158.3\" font-family=\"Times,serif\" font-size=\"14.00\">confusion_count</text>\n",
       "</g>\n",
       "<!-- confusion_count&#45;&gt;classifier_score_ -->\n",
       "<g id=\"edge2\" class=\"edge\">\n",
       "<title>confusion_count&#45;&gt;classifier_score_</title>\n",
       "<path fill=\"none\" stroke=\"black\" d=\"M70.82,-143.7C78.57,-135.22 88.04,-124.86 96.52,-115.58\"/>\n",
       "<polygon fill=\"black\" stroke=\"black\" points=\"99.2,-117.85 103.36,-108.1 94.03,-113.12 99.2,-117.85\"/>\n",
       "</g>\n",
       "<!-- confusion_value -->\n",
       "<g id=\"node4\" class=\"node\">\n",
       "<title>confusion_value</title>\n",
       "<text text-anchor=\"middle\" x=\"183\" y=\"-158.3\" font-family=\"Times,serif\" font-size=\"14.00\">confusion_value</text>\n",
       "</g>\n",
       "<!-- confusion_value&#45;&gt;classifier_score_ -->\n",
       "<g id=\"edge3\" class=\"edge\">\n",
       "<title>confusion_value&#45;&gt;classifier_score_</title>\n",
       "<path fill=\"none\" stroke=\"black\" d=\"M167.18,-143.7C159.43,-135.22 149.96,-124.86 141.48,-115.58\"/>\n",
       "<polygon fill=\"black\" stroke=\"black\" points=\"143.97,-113.12 134.64,-108.1 138.8,-117.85 143.97,-113.12\"/>\n",
       "</g>\n",
       "</g>\n",
       "</svg>\n"
      ],
      "text/plain": [
       "<graphviz.dot.Digraph at 0x1354b4520>"
      ]
     },
     "execution_count": 43,
     "metadata": {},
     "output_type": "execute_result"
    }
   ],
   "source": [
    "bigger_dag[:, 'classifier_score_'].dot_digraph()"
   ]
  },
  {
   "cell_type": "code",
   "execution_count": 44,
   "metadata": {
    "ExecuteTime": {
     "end_time": "2021-08-01T14:49:08.060225Z",
     "start_time": "2021-08-01T14:49:07.767752Z"
    }
   },
   "outputs": [
    {
     "data": {
      "image/svg+xml": [
       "<?xml version=\"1.0\" encoding=\"UTF-8\" standalone=\"no\"?>\n",
       "<!DOCTYPE svg PUBLIC \"-//W3C//DTD SVG 1.1//EN\"\n",
       " \"http://www.w3.org/Graphics/SVG/1.1/DTD/svg11.dtd\">\n",
       "<!-- Generated by graphviz version 2.49.0 (20210828.1703)\n",
       " -->\n",
       "<!-- Pages: 1 -->\n",
       "<svg width=\"202pt\" height=\"332pt\"\n",
       " viewBox=\"0.00 0.00 201.50 332.00\" xmlns=\"http://www.w3.org/2000/svg\" xmlns:xlink=\"http://www.w3.org/1999/xlink\">\n",
       "<g id=\"graph0\" class=\"graph\" transform=\"scale(1 1) rotate(0) translate(4 328)\">\n",
       "<polygon fill=\"white\" stroke=\"transparent\" points=\"-4,4 -4,-328 197.5,-328 197.5,4 -4,4\"/>\n",
       "<!-- prediction -->\n",
       "<g id=\"node1\" class=\"node\">\n",
       "<title>prediction</title>\n",
       "<text text-anchor=\"middle\" x=\"109\" y=\"-158.3\" font-family=\"Times,serif\" font-size=\"14.00\">prediction</text>\n",
       "</g>\n",
       "<!-- confusion_count_ -->\n",
       "<g id=\"node6\" class=\"node\">\n",
       "<title>confusion_count_</title>\n",
       "<polygon fill=\"none\" stroke=\"black\" points=\"126.5,-108 9.5,-108 9.5,-72 126.5,-72 126.5,-108\"/>\n",
       "<text text-anchor=\"middle\" x=\"68\" y=\"-86.3\" font-family=\"Times,serif\" font-size=\"14.00\">confusion_count_</text>\n",
       "</g>\n",
       "<!-- prediction&#45;&gt;confusion_count_ -->\n",
       "<g id=\"edge5\" class=\"edge\">\n",
       "<title>prediction&#45;&gt;confusion_count_</title>\n",
       "<path fill=\"none\" stroke=\"black\" d=\"M98.87,-143.7C94.15,-135.64 88.44,-125.89 83.22,-116.98\"/>\n",
       "<polygon fill=\"black\" stroke=\"black\" points=\"86.09,-114.96 78.02,-108.1 80.05,-118.5 86.09,-114.96\"/>\n",
       "</g>\n",
       "<!-- prediction_ -->\n",
       "<g id=\"node2\" class=\"node\">\n",
       "<title>prediction_</title>\n",
       "<polygon fill=\"none\" stroke=\"black\" points=\"149,-252 69,-252 69,-216 149,-216 149,-252\"/>\n",
       "<text text-anchor=\"middle\" x=\"109\" y=\"-230.3\" font-family=\"Times,serif\" font-size=\"14.00\">prediction_</text>\n",
       "</g>\n",
       "<!-- prediction_&#45;&gt;prediction -->\n",
       "<g id=\"edge1\" class=\"edge\">\n",
       "<title>prediction_&#45;&gt;prediction</title>\n",
       "<path fill=\"none\" stroke=\"black\" d=\"M109,-215.7C109,-207.98 109,-198.71 109,-190.11\"/>\n",
       "<polygon fill=\"black\" stroke=\"black\" points=\"112.5,-190.1 109,-180.1 105.5,-190.1 112.5,-190.1\"/>\n",
       "</g>\n",
       "<!-- predict_proba -->\n",
       "<g id=\"node3\" class=\"node\">\n",
       "<title>predict_proba</title>\n",
       "<text text-anchor=\"middle\" x=\"59\" y=\"-302.3\" font-family=\"Times,serif\" font-size=\"14.00\">predict_proba</text>\n",
       "</g>\n",
       "<!-- predict_proba&#45;&gt;prediction_ -->\n",
       "<g id=\"edge2\" class=\"edge\">\n",
       "<title>predict_proba&#45;&gt;prediction_</title>\n",
       "<path fill=\"none\" stroke=\"black\" d=\"M71.36,-287.7C77.23,-279.47 84.37,-269.48 90.84,-260.42\"/>\n",
       "<polygon fill=\"black\" stroke=\"black\" points=\"93.82,-262.28 96.78,-252.1 88.12,-258.21 93.82,-262.28\"/>\n",
       "</g>\n",
       "<!-- threshold -->\n",
       "<g id=\"node4\" class=\"node\">\n",
       "<title>threshold</title>\n",
       "<text text-anchor=\"middle\" x=\"159\" y=\"-302.3\" font-family=\"Times,serif\" font-size=\"14.00\">threshold</text>\n",
       "</g>\n",
       "<!-- threshold&#45;&gt;prediction_ -->\n",
       "<g id=\"edge3\" class=\"edge\">\n",
       "<title>threshold&#45;&gt;prediction_</title>\n",
       "<path fill=\"none\" stroke=\"black\" d=\"M146.64,-287.7C140.77,-279.47 133.63,-269.48 127.16,-260.42\"/>\n",
       "<polygon fill=\"black\" stroke=\"black\" points=\"129.88,-258.21 121.22,-252.1 124.18,-262.28 129.88,-258.21\"/>\n",
       "</g>\n",
       "<!-- confusion_count -->\n",
       "<g id=\"node5\" class=\"node\">\n",
       "<title>confusion_count</title>\n",
       "<text text-anchor=\"middle\" x=\"68\" y=\"-14.3\" font-family=\"Times,serif\" font-size=\"14.00\">confusion_count</text>\n",
       "</g>\n",
       "<!-- confusion_count_&#45;&gt;confusion_count -->\n",
       "<g id=\"edge4\" class=\"edge\">\n",
       "<title>confusion_count_&#45;&gt;confusion_count</title>\n",
       "<path fill=\"none\" stroke=\"black\" d=\"M68,-71.7C68,-63.98 68,-54.71 68,-46.11\"/>\n",
       "<polygon fill=\"black\" stroke=\"black\" points=\"71.5,-46.1 68,-36.1 64.5,-46.1 71.5,-46.1\"/>\n",
       "</g>\n",
       "<!-- truth -->\n",
       "<g id=\"node7\" class=\"node\">\n",
       "<title>truth</title>\n",
       "<text text-anchor=\"middle\" x=\"27\" y=\"-158.3\" font-family=\"Times,serif\" font-size=\"14.00\">truth</text>\n",
       "</g>\n",
       "<!-- truth&#45;&gt;confusion_count_ -->\n",
       "<g id=\"edge6\" class=\"edge\">\n",
       "<title>truth&#45;&gt;confusion_count_</title>\n",
       "<path fill=\"none\" stroke=\"black\" d=\"M37.13,-143.7C41.85,-135.64 47.56,-125.89 52.78,-116.98\"/>\n",
       "<polygon fill=\"black\" stroke=\"black\" points=\"55.95,-118.5 57.98,-108.1 49.91,-114.96 55.95,-118.5\"/>\n",
       "</g>\n",
       "</g>\n",
       "</svg>\n"
      ],
      "text/plain": [
       "<graphviz.dot.Digraph at 0x124cb52b0>"
      ]
     },
     "execution_count": 44,
     "metadata": {},
     "output_type": "execute_result"
    }
   ],
   "source": [
    "f = bigger_dag[['threshold', 'predict_proba', 'truth'], :]\n",
    "f.dot_digraph()"
   ]
  },
  {
   "attachments": {},
   "cell_type": "markdown",
   "metadata": {},
   "source": [
    "# More examples"
   ]
  },
  {
   "cell_type": "code",
   "execution_count": 2,
   "metadata": {},
   "outputs": [],
   "source": [
    "from functools import partial\n",
    "\n",
    "import i2\n",
    "from meshed import DAG\n",
    "from meshed.util import objects_defined_in_module\n",
    "\n",
    "non_underscored_callables = partial(\n",
    "    objects_defined_in_module, \n",
    "    name_filt=lambda x: not x.startswith('_'),\n",
    "    obj_filt=callable\n",
    ")"
   ]
  },
  {
   "attachments": {},
   "cell_type": "markdown",
   "metadata": {},
   "source": [
    "## Vaccination and death"
   ]
  },
  {
   "attachments": {},
   "cell_type": "markdown",
   "metadata": {},
   "source": [
    "This dag models (simply!) the relationship between various vaccination variables such as\n",
    "the `r` metric, `vax` (proportion of vaccinated people), `dealth_toll`, etc.\n",
    "\n",
    "_Disclaimer: Both the relationships and the quantities involved here are sourced from my \n",
    "uninformed immagination and are not to be taken seriously, or as any indication of my \n",
    "actual beliefs about them._"
   ]
  },
  {
   "cell_type": "code",
   "execution_count": 3,
   "metadata": {
    "ExecuteTime": {
     "end_time": "2021-08-10T09:04:23.847884Z",
     "start_time": "2021-08-10T09:04:23.815004Z"
    }
   },
   "outputs": [
    {
     "data": {
      "image/svg+xml": [
       "<?xml version=\"1.0\" encoding=\"UTF-8\" standalone=\"no\"?>\n",
       "<!DOCTYPE svg PUBLIC \"-//W3C//DTD SVG 1.1//EN\"\n",
       " \"http://www.w3.org/Graphics/SVG/1.1/DTD/svg11.dtd\">\n",
       "<!-- Generated by graphviz version 7.1.0 (20230121.1956)\n",
       " -->\n",
       "<!-- Pages: 1 -->\n",
       "<svg width=\"532pt\" height=\"620pt\"\n",
       " viewBox=\"0.00 0.00 532.00 620.00\" xmlns=\"http://www.w3.org/2000/svg\" xmlns:xlink=\"http://www.w3.org/1999/xlink\">\n",
       "<g id=\"graph0\" class=\"graph\" transform=\"scale(1 1) rotate(0) translate(4 616)\">\n",
       "<polygon fill=\"white\" stroke=\"none\" points=\"-4,4 -4,-616 528,-616 528,4 -4,4\"/>\n",
       "<!-- r -->\n",
       "<g id=\"node1\" class=\"node\">\n",
       "<title>r</title>\n",
       "<text text-anchor=\"middle\" x=\"182.5\" y=\"-446.3\" font-family=\"Times,serif\" font-size=\"14.00\">r=</text>\n",
       "</g>\n",
       "<!-- infected_ -->\n",
       "<g id=\"node8\" class=\"node\">\n",
       "<title>infected_</title>\n",
       "<polygon fill=\"none\" stroke=\"black\" points=\"221,-396 154,-396 154,-360 221,-360 221,-396\"/>\n",
       "<text text-anchor=\"middle\" x=\"187.5\" y=\"-374.3\" font-family=\"Times,serif\" font-size=\"14.00\">infected_</text>\n",
       "</g>\n",
       "<!-- r&#45;&gt;infected_ -->\n",
       "<g id=\"edge5\" class=\"edge\">\n",
       "<title>r&#45;&gt;infected_</title>\n",
       "<path fill=\"none\" stroke=\"black\" d=\"M183.71,-432.05C184.24,-424.68 184.87,-415.84 185.46,-407.51\"/>\n",
       "<polygon fill=\"black\" stroke=\"black\" points=\"188.94,-408.01 186.16,-397.78 181.95,-407.51 188.94,-408.01\"/>\n",
       "</g>\n",
       "<!-- exposed -->\n",
       "<g id=\"node2\" class=\"node\">\n",
       "<title>exposed</title>\n",
       "<text text-anchor=\"middle\" x=\"127.5\" y=\"-590.3\" font-family=\"Times,serif\" font-size=\"14.00\">exposed=</text>\n",
       "</g>\n",
       "<!-- r_ -->\n",
       "<g id=\"node4\" class=\"node\">\n",
       "<title>r_</title>\n",
       "<polygon fill=\"none\" stroke=\"black\" points=\"209.5,-540 155.5,-540 155.5,-504 209.5,-504 209.5,-540\"/>\n",
       "<text text-anchor=\"middle\" x=\"182.5\" y=\"-518.3\" font-family=\"Times,serif\" font-size=\"14.00\">r_</text>\n",
       "</g>\n",
       "<!-- exposed&#45;&gt;r_ -->\n",
       "<g id=\"edge2\" class=\"edge\">\n",
       "<title>exposed&#45;&gt;r_</title>\n",
       "<path fill=\"none\" stroke=\"black\" d=\"M140.81,-576.05C147.14,-568.01 154.84,-558.2 161.89,-549.23\"/>\n",
       "<polygon fill=\"black\" stroke=\"black\" points=\"164.57,-551.49 167.99,-541.47 159.06,-547.17 164.57,-551.49\"/>\n",
       "</g>\n",
       "<!-- infect_if_expose -->\n",
       "<g id=\"node3\" class=\"node\">\n",
       "<title>infect_if_expose</title>\n",
       "<text text-anchor=\"middle\" x=\"237.5\" y=\"-590.3\" font-family=\"Times,serif\" font-size=\"14.00\">infect_if_expose=</text>\n",
       "</g>\n",
       "<!-- infect_if_expose&#45;&gt;r_ -->\n",
       "<g id=\"edge3\" class=\"edge\">\n",
       "<title>infect_if_expose&#45;&gt;r_</title>\n",
       "<path fill=\"none\" stroke=\"black\" d=\"M224.19,-576.05C217.86,-568.01 210.16,-558.2 203.11,-549.23\"/>\n",
       "<polygon fill=\"black\" stroke=\"black\" points=\"205.94,-547.17 197.01,-541.47 200.43,-551.49 205.94,-547.17\"/>\n",
       "</g>\n",
       "<!-- r_&#45;&gt;r -->\n",
       "<g id=\"edge1\" class=\"edge\">\n",
       "<title>r_&#45;&gt;r</title>\n",
       "<path fill=\"none\" stroke=\"black\" d=\"M182.5,-503.7C182.5,-496.21 182.5,-487.26 182.5,-478.88\"/>\n",
       "<polygon fill=\"black\" stroke=\"black\" points=\"186,-479.14 182.5,-469.14 179,-479.14 186,-479.14\"/>\n",
       "</g>\n",
       "<!-- infected -->\n",
       "<g id=\"node5\" class=\"node\">\n",
       "<title>infected</title>\n",
       "<text text-anchor=\"middle\" x=\"191.5\" y=\"-302.3\" font-family=\"Times,serif\" font-size=\"14.00\">infected</text>\n",
       "</g>\n",
       "<!-- die_ -->\n",
       "<g id=\"node12\" class=\"node\">\n",
       "<title>die_</title>\n",
       "<polygon fill=\"none\" stroke=\"black\" points=\"319.5,-252 265.5,-252 265.5,-216 319.5,-216 319.5,-252\"/>\n",
       "<text text-anchor=\"middle\" x=\"292.5\" y=\"-230.3\" font-family=\"Times,serif\" font-size=\"14.00\">die_</text>\n",
       "</g>\n",
       "<!-- infected&#45;&gt;die_ -->\n",
       "<g id=\"edge9\" class=\"edge\">\n",
       "<title>infected&#45;&gt;die_</title>\n",
       "<path fill=\"none\" stroke=\"black\" d=\"M215.95,-288.05C228.66,-279.24 244.41,-268.33 258.31,-258.7\"/>\n",
       "<polygon fill=\"black\" stroke=\"black\" points=\"260.1,-261.71 266.33,-253.14 256.12,-255.96 260.1,-261.71\"/>\n",
       "</g>\n",
       "<!-- vax -->\n",
       "<g id=\"node6\" class=\"node\">\n",
       "<title>vax</title>\n",
       "<text text-anchor=\"middle\" x=\"254.5\" y=\"-446.3\" font-family=\"Times,serif\" font-size=\"14.00\">vax=</text>\n",
       "</g>\n",
       "<!-- vax&#45;&gt;infected_ -->\n",
       "<g id=\"edge6\" class=\"edge\">\n",
       "<title>vax&#45;&gt;infected_</title>\n",
       "<path fill=\"none\" stroke=\"black\" d=\"M238.28,-432.05C230.33,-423.75 220.6,-413.58 211.79,-404.38\"/>\n",
       "<polygon fill=\"black\" stroke=\"black\" points=\"214.52,-402.17 205.08,-397.37 209.47,-407.01 214.52,-402.17\"/>\n",
       "</g>\n",
       "<!-- vax&#45;&gt;die_ -->\n",
       "<g id=\"edge11\" class=\"edge\">\n",
       "<title>vax&#45;&gt;die_</title>\n",
       "<path fill=\"none\" stroke=\"black\" d=\"M254.78,-432.29C255.59,-402.76 258.81,-339.58 271.5,-288 273.56,-279.64 276.64,-270.84 279.82,-262.87\"/>\n",
       "<polygon fill=\"black\" stroke=\"black\" points=\"283.03,-264.24 283.68,-253.67 276.58,-261.53 283.03,-264.24\"/>\n",
       "</g>\n",
       "<!-- infection_vax_factor -->\n",
       "<g id=\"node7\" class=\"node\">\n",
       "<title>infection_vax_factor</title>\n",
       "<text text-anchor=\"middle\" x=\"68.5\" y=\"-446.3\" font-family=\"Times,serif\" font-size=\"14.00\">infection_vax_factor=</text>\n",
       "</g>\n",
       "<!-- infection_vax_factor&#45;&gt;infected_ -->\n",
       "<g id=\"edge7\" class=\"edge\">\n",
       "<title>infection_vax_factor&#45;&gt;infected_</title>\n",
       "<path fill=\"none\" stroke=\"black\" d=\"M97.31,-432.05C112.72,-422.99 131.91,-411.7 148.62,-401.87\"/>\n",
       "<polygon fill=\"black\" stroke=\"black\" points=\"149.98,-405.13 156.83,-397.04 146.43,-399.1 149.98,-405.13\"/>\n",
       "</g>\n",
       "<!-- infected_&#45;&gt;infected -->\n",
       "<g id=\"edge4\" class=\"edge\">\n",
       "<title>infected_&#45;&gt;infected</title>\n",
       "<path fill=\"none\" stroke=\"black\" d=\"M188.49,-359.7C188.92,-352.21 189.43,-343.26 189.91,-334.88\"/>\n",
       "<polygon fill=\"black\" stroke=\"black\" points=\"193.39,-335.32 190.46,-325.13 186.4,-334.92 193.39,-335.32\"/>\n",
       "</g>\n",
       "<!-- die -->\n",
       "<g id=\"node9\" class=\"node\">\n",
       "<title>die</title>\n",
       "<text text-anchor=\"middle\" x=\"292.5\" y=\"-158.3\" font-family=\"Times,serif\" font-size=\"14.00\">die</text>\n",
       "</g>\n",
       "<!-- death_toll_ -->\n",
       "<g id=\"node15\" class=\"node\">\n",
       "<title>death_toll_</title>\n",
       "<polygon fill=\"none\" stroke=\"black\" points=\"287,-108 210,-108 210,-72 287,-72 287,-108\"/>\n",
       "<text text-anchor=\"middle\" x=\"248.5\" y=\"-86.3\" font-family=\"Times,serif\" font-size=\"14.00\">death_toll_</text>\n",
       "</g>\n",
       "<!-- die&#45;&gt;death_toll_ -->\n",
       "<g id=\"edge14\" class=\"edge\">\n",
       "<title>die&#45;&gt;death_toll_</title>\n",
       "<path fill=\"none\" stroke=\"black\" d=\"M281.85,-144.05C276.9,-136.18 270.89,-126.62 265.34,-117.79\"/>\n",
       "<polygon fill=\"black\" stroke=\"black\" points=\"268.45,-116.16 260.16,-109.56 262.52,-119.89 268.45,-116.16\"/>\n",
       "</g>\n",
       "<!-- die_if_infected -->\n",
       "<g id=\"node10\" class=\"node\">\n",
       "<title>die_if_infected</title>\n",
       "<text text-anchor=\"middle\" x=\"333.5\" y=\"-302.3\" font-family=\"Times,serif\" font-size=\"14.00\">die_if_infected=</text>\n",
       "</g>\n",
       "<!-- die_if_infected&#45;&gt;die_ -->\n",
       "<g id=\"edge10\" class=\"edge\">\n",
       "<title>die_if_infected&#45;&gt;die_</title>\n",
       "<path fill=\"none\" stroke=\"black\" d=\"M323.58,-288.05C319.01,-280.26 313.48,-270.82 308.36,-262.08\"/>\n",
       "<polygon fill=\"black\" stroke=\"black\" points=\"311.46,-260.44 303.38,-253.58 305.42,-263.98 311.46,-260.44\"/>\n",
       "</g>\n",
       "<!-- death_vax_factor -->\n",
       "<g id=\"node11\" class=\"node\">\n",
       "<title>death_vax_factor</title>\n",
       "<text text-anchor=\"middle\" x=\"464.5\" y=\"-302.3\" font-family=\"Times,serif\" font-size=\"14.00\">death_vax_factor=</text>\n",
       "</g>\n",
       "<!-- death_vax_factor&#45;&gt;die_ -->\n",
       "<g id=\"edge12\" class=\"edge\">\n",
       "<title>death_vax_factor&#45;&gt;die_</title>\n",
       "<path fill=\"none\" stroke=\"black\" d=\"M422.86,-288.05C394.6,-276.55 357.54,-261.47 330.16,-250.33\"/>\n",
       "<polygon fill=\"black\" stroke=\"black\" points=\"331.79,-247.21 321.21,-246.68 329.15,-253.7 331.79,-247.21\"/>\n",
       "</g>\n",
       "<!-- die_&#45;&gt;die -->\n",
       "<g id=\"edge8\" class=\"edge\">\n",
       "<title>die_&#45;&gt;die</title>\n",
       "<path fill=\"none\" stroke=\"black\" d=\"M292.5,-215.7C292.5,-208.21 292.5,-199.26 292.5,-190.88\"/>\n",
       "<polygon fill=\"black\" stroke=\"black\" points=\"296,-191.14 292.5,-181.14 289,-191.14 296,-191.14\"/>\n",
       "</g>\n",
       "<!-- death_toll -->\n",
       "<g id=\"node13\" class=\"node\">\n",
       "<title>death_toll</title>\n",
       "<text text-anchor=\"middle\" x=\"248.5\" y=\"-14.3\" font-family=\"Times,serif\" font-size=\"14.00\">death_toll</text>\n",
       "</g>\n",
       "<!-- population -->\n",
       "<g id=\"node14\" class=\"node\">\n",
       "<title>population</title>\n",
       "<text text-anchor=\"middle\" x=\"205.5\" y=\"-158.3\" font-family=\"Times,serif\" font-size=\"14.00\">population=</text>\n",
       "</g>\n",
       "<!-- population&#45;&gt;death_toll_ -->\n",
       "<g id=\"edge15\" class=\"edge\">\n",
       "<title>population&#45;&gt;death_toll_</title>\n",
       "<path fill=\"none\" stroke=\"black\" d=\"M215.91,-144.05C220.7,-136.26 226.5,-126.82 231.87,-118.08\"/>\n",
       "<polygon fill=\"black\" stroke=\"black\" points=\"234.84,-119.92 237.1,-109.56 228.88,-116.25 234.84,-119.92\"/>\n",
       "</g>\n",
       "<!-- death_toll_&#45;&gt;death_toll -->\n",
       "<g id=\"edge13\" class=\"edge\">\n",
       "<title>death_toll_&#45;&gt;death_toll</title>\n",
       "<path fill=\"none\" stroke=\"black\" d=\"M248.5,-71.7C248.5,-64.21 248.5,-55.26 248.5,-46.88\"/>\n",
       "<polygon fill=\"black\" stroke=\"black\" points=\"252,-47.14 248.5,-37.14 245,-47.14 252,-47.14\"/>\n",
       "</g>\n",
       "</g>\n",
       "</svg>\n"
      ],
      "text/plain": [
       "<graphviz.graphs.Digraph at 0x120a8bf70>"
      ]
     },
     "execution_count": 3,
     "metadata": {},
     "output_type": "execute_result"
    }
   ],
   "source": [
    "funcs = non_underscored_callables('meshed.examples.vaccine_vs_no_vaccine')\n",
    "\n",
    "dag = DAG.from_funcs(funcs)\n",
    "dag.dot_digraph()"
   ]
  },
  {
   "attachments": {},
   "cell_type": "markdown",
   "metadata": {},
   "source": [
    "## getting sub-DAGs conserves defaults"
   ]
  },
  {
   "attachments": {},
   "cell_type": "markdown",
   "metadata": {},
   "source": [
    "First, observe that when the functions you made a `DAG` with has arguments that had defaults, \n",
    "those defaults are conserved. \n",
    "\n",
    "Have a look at the `r` of the `infected` function for example\""
   ]
  },
  {
   "cell_type": "code",
   "execution_count": 4,
   "metadata": {},
   "outputs": [
    {
     "data": {
      "text/plain": [
       "<Sig (r: float = 1.2, vax: float = 0.5, infection_vax_factor: float = 0.15)>"
      ]
     },
     "execution_count": 4,
     "metadata": {},
     "output_type": "execute_result"
    }
   ],
   "source": [
    "i2.Sig(funcs['infected'])"
   ]
  },
  {
   "attachments": {},
   "cell_type": "markdown",
   "metadata": {},
   "source": [
    "If you call `dag`, this default will have no effect, since the input `r` of `infected` \n",
    "will then be determined by the output of the `r` function, itself determined by the \n",
    "`exposed` and `infect_if_expose` inputs. \n",
    "\n",
    "But the fact that the `FuncNode` of `infected` still has the original function with \n",
    "the original default is fortutious when you take sub-dags. For example, let's take the \n",
    "subdag that originates from `r` (the input of `infected`):"
   ]
  },
  {
   "cell_type": "code",
   "execution_count": 5,
   "metadata": {},
   "outputs": [
    {
     "data": {
      "image/svg+xml": [
       "<?xml version=\"1.0\" encoding=\"UTF-8\" standalone=\"no\"?>\n",
       "<!DOCTYPE svg PUBLIC \"-//W3C//DTD SVG 1.1//EN\"\n",
       " \"http://www.w3.org/Graphics/SVG/1.1/DTD/svg11.dtd\">\n",
       "<!-- Generated by graphviz version 7.1.0 (20230121.1956)\n",
       " -->\n",
       "<!-- Pages: 1 -->\n",
       "<svg width=\"523pt\" height=\"476pt\"\n",
       " viewBox=\"0.00 0.00 522.50 476.00\" xmlns=\"http://www.w3.org/2000/svg\" xmlns:xlink=\"http://www.w3.org/1999/xlink\">\n",
       "<g id=\"graph0\" class=\"graph\" transform=\"scale(1 1) rotate(0) translate(4 472)\">\n",
       "<polygon fill=\"white\" stroke=\"none\" points=\"-4,4 -4,-472 518.5,-472 518.5,4 -4,4\"/>\n",
       "<!-- infected -->\n",
       "<g id=\"node1\" class=\"node\">\n",
       "<title>infected</title>\n",
       "<text text-anchor=\"middle\" x=\"176\" y=\"-302.3\" font-family=\"Times,serif\" font-size=\"14.00\">infected</text>\n",
       "</g>\n",
       "<!-- die_ -->\n",
       "<g id=\"node9\" class=\"node\">\n",
       "<title>die_</title>\n",
       "<polygon fill=\"none\" stroke=\"black\" points=\"310,-252 256,-252 256,-216 310,-216 310,-252\"/>\n",
       "<text text-anchor=\"middle\" x=\"283\" y=\"-230.3\" font-family=\"Times,serif\" font-size=\"14.00\">die_</text>\n",
       "</g>\n",
       "<!-- infected&#45;&gt;die_ -->\n",
       "<g id=\"edge6\" class=\"edge\">\n",
       "<title>infected&#45;&gt;die_</title>\n",
       "<path fill=\"none\" stroke=\"black\" d=\"M201.9,-288.05C215.5,-279.16 232.37,-268.12 247.2,-258.42\"/>\n",
       "<polygon fill=\"black\" stroke=\"black\" points=\"248.87,-261.51 255.33,-253.1 245.04,-255.65 248.87,-261.51\"/>\n",
       "</g>\n",
       "<!-- r -->\n",
       "<g id=\"node2\" class=\"node\">\n",
       "<title>r</title>\n",
       "<text text-anchor=\"middle\" x=\"27\" y=\"-446.3\" font-family=\"Times,serif\" font-size=\"14.00\">r=</text>\n",
       "</g>\n",
       "<!-- infected_ -->\n",
       "<g id=\"node5\" class=\"node\">\n",
       "<title>infected_</title>\n",
       "<polygon fill=\"none\" stroke=\"black\" points=\"200.5,-396 133.5,-396 133.5,-360 200.5,-360 200.5,-396\"/>\n",
       "<text text-anchor=\"middle\" x=\"167\" y=\"-374.3\" font-family=\"Times,serif\" font-size=\"14.00\">infected_</text>\n",
       "</g>\n",
       "<!-- r&#45;&gt;infected_ -->\n",
       "<g id=\"edge2\" class=\"edge\">\n",
       "<title>r&#45;&gt;infected_</title>\n",
       "<path fill=\"none\" stroke=\"black\" d=\"M53.99,-435.5C73.56,-425.72 100.45,-412.27 123.09,-400.95\"/>\n",
       "<polygon fill=\"black\" stroke=\"black\" points=\"124.42,-404.2 131.8,-396.6 121.29,-397.94 124.42,-404.2\"/>\n",
       "</g>\n",
       "<!-- vax -->\n",
       "<g id=\"node3\" class=\"node\">\n",
       "<title>vax</title>\n",
       "<text text-anchor=\"middle\" x=\"255\" y=\"-446.3\" font-family=\"Times,serif\" font-size=\"14.00\">vax=</text>\n",
       "</g>\n",
       "<!-- vax&#45;&gt;infected_ -->\n",
       "<g id=\"edge3\" class=\"edge\">\n",
       "<title>vax&#45;&gt;infected_</title>\n",
       "<path fill=\"none\" stroke=\"black\" d=\"M233.7,-432.05C222.83,-423.41 209.43,-412.75 197.49,-403.26\"/>\n",
       "<polygon fill=\"black\" stroke=\"black\" points=\"199.91,-400.7 189.9,-397.22 195.55,-406.18 199.91,-400.7\"/>\n",
       "</g>\n",
       "<!-- vax&#45;&gt;die_ -->\n",
       "<g id=\"edge8\" class=\"edge\">\n",
       "<title>vax&#45;&gt;die_</title>\n",
       "<path fill=\"none\" stroke=\"black\" d=\"M253.7,-432.3C251.82,-402.79 249.7,-339.64 261,-288 262.87,-279.44 266.06,-270.5 269.43,-262.45\"/>\n",
       "<polygon fill=\"black\" stroke=\"black\" points=\"272.53,-264.1 273.43,-253.54 266.14,-261.23 272.53,-264.1\"/>\n",
       "</g>\n",
       "<!-- infection_vax_factor -->\n",
       "<g id=\"node4\" class=\"node\">\n",
       "<title>infection_vax_factor</title>\n",
       "<text text-anchor=\"middle\" x=\"141\" y=\"-446.3\" font-family=\"Times,serif\" font-size=\"14.00\">infection_vax_factor=</text>\n",
       "</g>\n",
       "<!-- infection_vax_factor&#45;&gt;infected_ -->\n",
       "<g id=\"edge4\" class=\"edge\">\n",
       "<title>infection_vax_factor&#45;&gt;infected_</title>\n",
       "<path fill=\"none\" stroke=\"black\" d=\"M147.29,-432.05C150.09,-424.52 153.47,-415.44 156.62,-406.94\"/>\n",
       "<polygon fill=\"black\" stroke=\"black\" points=\"159.86,-408.29 160.06,-397.69 153.29,-405.85 159.86,-408.29\"/>\n",
       "</g>\n",
       "<!-- infected_&#45;&gt;infected -->\n",
       "<g id=\"edge1\" class=\"edge\">\n",
       "<title>infected_&#45;&gt;infected</title>\n",
       "<path fill=\"none\" stroke=\"black\" d=\"M169.22,-359.7C170.19,-352.21 171.34,-343.26 172.42,-334.88\"/>\n",
       "<polygon fill=\"black\" stroke=\"black\" points=\"175.87,-335.49 173.67,-325.12 168.92,-334.6 175.87,-335.49\"/>\n",
       "</g>\n",
       "<!-- die -->\n",
       "<g id=\"node6\" class=\"node\">\n",
       "<title>die</title>\n",
       "<text text-anchor=\"middle\" x=\"283\" y=\"-158.3\" font-family=\"Times,serif\" font-size=\"14.00\">die</text>\n",
       "</g>\n",
       "<!-- death_toll_ -->\n",
       "<g id=\"node12\" class=\"node\">\n",
       "<title>death_toll_</title>\n",
       "<polygon fill=\"none\" stroke=\"black\" points=\"277.5,-108 200.5,-108 200.5,-72 277.5,-72 277.5,-108\"/>\n",
       "<text text-anchor=\"middle\" x=\"239\" y=\"-86.3\" font-family=\"Times,serif\" font-size=\"14.00\">death_toll_</text>\n",
       "</g>\n",
       "<!-- die&#45;&gt;death_toll_ -->\n",
       "<g id=\"edge11\" class=\"edge\">\n",
       "<title>die&#45;&gt;death_toll_</title>\n",
       "<path fill=\"none\" stroke=\"black\" d=\"M272.35,-144.05C267.4,-136.18 261.39,-126.62 255.84,-117.79\"/>\n",
       "<polygon fill=\"black\" stroke=\"black\" points=\"258.95,-116.16 250.66,-109.56 253.02,-119.89 258.95,-116.16\"/>\n",
       "</g>\n",
       "<!-- die_if_infected -->\n",
       "<g id=\"node7\" class=\"node\">\n",
       "<title>die_if_infected</title>\n",
       "<text text-anchor=\"middle\" x=\"324\" y=\"-302.3\" font-family=\"Times,serif\" font-size=\"14.00\">die_if_infected=</text>\n",
       "</g>\n",
       "<!-- die_if_infected&#45;&gt;die_ -->\n",
       "<g id=\"edge7\" class=\"edge\">\n",
       "<title>die_if_infected&#45;&gt;die_</title>\n",
       "<path fill=\"none\" stroke=\"black\" d=\"M314.08,-288.05C309.51,-280.26 303.98,-270.82 298.86,-262.08\"/>\n",
       "<polygon fill=\"black\" stroke=\"black\" points=\"301.96,-260.44 293.88,-253.58 295.92,-263.98 301.96,-260.44\"/>\n",
       "</g>\n",
       "<!-- death_vax_factor -->\n",
       "<g id=\"node8\" class=\"node\">\n",
       "<title>death_vax_factor</title>\n",
       "<text text-anchor=\"middle\" x=\"455\" y=\"-302.3\" font-family=\"Times,serif\" font-size=\"14.00\">death_vax_factor=</text>\n",
       "</g>\n",
       "<!-- death_vax_factor&#45;&gt;die_ -->\n",
       "<g id=\"edge9\" class=\"edge\">\n",
       "<title>death_vax_factor&#45;&gt;die_</title>\n",
       "<path fill=\"none\" stroke=\"black\" d=\"M413.36,-288.05C385.1,-276.55 348.04,-261.47 320.66,-250.33\"/>\n",
       "<polygon fill=\"black\" stroke=\"black\" points=\"322.29,-247.21 311.71,-246.68 319.65,-253.7 322.29,-247.21\"/>\n",
       "</g>\n",
       "<!-- die_&#45;&gt;die -->\n",
       "<g id=\"edge5\" class=\"edge\">\n",
       "<title>die_&#45;&gt;die</title>\n",
       "<path fill=\"none\" stroke=\"black\" d=\"M283,-215.7C283,-208.21 283,-199.26 283,-190.88\"/>\n",
       "<polygon fill=\"black\" stroke=\"black\" points=\"286.5,-191.14 283,-181.14 279.5,-191.14 286.5,-191.14\"/>\n",
       "</g>\n",
       "<!-- death_toll -->\n",
       "<g id=\"node10\" class=\"node\">\n",
       "<title>death_toll</title>\n",
       "<text text-anchor=\"middle\" x=\"239\" y=\"-14.3\" font-family=\"Times,serif\" font-size=\"14.00\">death_toll</text>\n",
       "</g>\n",
       "<!-- population -->\n",
       "<g id=\"node11\" class=\"node\">\n",
       "<title>population</title>\n",
       "<text text-anchor=\"middle\" x=\"196\" y=\"-158.3\" font-family=\"Times,serif\" font-size=\"14.00\">population=</text>\n",
       "</g>\n",
       "<!-- population&#45;&gt;death_toll_ -->\n",
       "<g id=\"edge12\" class=\"edge\">\n",
       "<title>population&#45;&gt;death_toll_</title>\n",
       "<path fill=\"none\" stroke=\"black\" d=\"M206.41,-144.05C211.2,-136.26 217,-126.82 222.37,-118.08\"/>\n",
       "<polygon fill=\"black\" stroke=\"black\" points=\"225.34,-119.92 227.6,-109.56 219.38,-116.25 225.34,-119.92\"/>\n",
       "</g>\n",
       "<!-- death_toll_&#45;&gt;death_toll -->\n",
       "<g id=\"edge10\" class=\"edge\">\n",
       "<title>death_toll_&#45;&gt;death_toll</title>\n",
       "<path fill=\"none\" stroke=\"black\" d=\"M239,-71.7C239,-64.21 239,-55.26 239,-46.88\"/>\n",
       "<polygon fill=\"black\" stroke=\"black\" points=\"242.5,-47.14 239,-37.14 235.5,-47.14 242.5,-47.14\"/>\n",
       "</g>\n",
       "</g>\n",
       "</svg>\n"
      ],
      "text/plain": [
       "<graphviz.graphs.Digraph at 0x120c3b400>"
      ]
     },
     "execution_count": 5,
     "metadata": {},
     "output_type": "execute_result"
    }
   ],
   "source": [
    "f = dag['r':]\n",
    "f.dot_digraph()"
   ]
  },
  {
   "attachments": {},
   "cell_type": "markdown",
   "metadata": {},
   "source": [
    "Notice that the default of `r` is now used in the interface of the sub-dag:"
   ]
  },
  {
   "cell_type": "code",
   "execution_count": 6,
   "metadata": {},
   "outputs": [
    {
     "data": {
      "text/plain": [
       "<Sig (r: float = 1.2, vax: float = 0.5, infection_vax_factor: float = 0.15, die_if_infected: float = 0.05, death_vax_factor: float = 0.05, population: int = 1000000.0)>"
      ]
     },
     "execution_count": 6,
     "metadata": {},
     "output_type": "execute_result"
    }
   ],
   "source": [
    "i2.Sig(f)"
   ]
  },
  {
   "attachments": {},
   "cell_type": "markdown",
   "metadata": {},
   "source": [
    "## changing the defaults (`DAG.partial`)"
   ]
  },
  {
   "attachments": {},
   "cell_type": "markdown",
   "metadata": {},
   "source": [
    "In our particular example, all our arguments have defaults"
   ]
  },
  {
   "cell_type": "code",
   "execution_count": 7,
   "metadata": {},
   "outputs": [
    {
     "data": {
      "text/plain": [
       "<Sig (exposed: float = 6, infect_if_expose: float = 0.2, vax: float = 0.5, infection_vax_factor: float = 0.15, die_if_infected: float = 0.05, death_vax_factor: float = 0.05, population: int = 1000000.0)>"
      ]
     },
     "execution_count": 7,
     "metadata": {},
     "output_type": "execute_result"
    }
   ],
   "source": [
    "i2.Sig(dag)"
   ]
  },
  {
   "attachments": {},
   "cell_type": "markdown",
   "metadata": {},
   "source": [
    "So we can just call `dag` without arguments to see the result"
   ]
  },
  {
   "cell_type": "code",
   "execution_count": 8,
   "metadata": {},
   "outputs": [
    {
     "data": {
      "text/plain": [
       "18112"
      ]
     },
     "execution_count": 8,
     "metadata": {},
     "output_type": "execute_result"
    }
   ],
   "source": [
    "dag()"
   ]
  },
  {
   "attachments": {},
   "cell_type": "markdown",
   "metadata": {},
   "source": [
    "Let's see if we specify `vax=0.8` instead of using the default of `vax=0.5`."
   ]
  },
  {
   "cell_type": "code",
   "execution_count": 9,
   "metadata": {},
   "outputs": [
    {
     "data": {
      "text/plain": [
       "4608"
      ]
     },
     "execution_count": 9,
     "metadata": {},
     "output_type": "execute_result"
    }
   ],
   "source": [
    "dag(vax=0.8)"
   ]
  },
  {
   "attachments": {},
   "cell_type": "markdown",
   "metadata": {},
   "source": [
    "Now, if we wanted to have a function that does what vax does, \n",
    "but with a default of `vax=0.8`, \n",
    "we would use `functools.partial` for this."
   ]
  },
  {
   "cell_type": "code",
   "execution_count": 10,
   "metadata": {},
   "outputs": [
    {
     "data": {
      "text/plain": [
       "4608"
      ]
     },
     "execution_count": 10,
     "metadata": {},
     "output_type": "execute_result"
    }
   ],
   "source": [
    "import functools\n",
    "\n",
    "func_vax_80 = functools.partial(dag, vax=0.8)\n",
    "func_vax_80()"
   ]
  },
  {
   "attachments": {},
   "cell_type": "markdown",
   "metadata": {},
   "source": [
    "The shame about this though, is that `func_vax_80` is no longer a `DAG`. \n",
    "We can't visualize it, take sub-dags, etc. \n",
    "\n",
    "If you want to do `partial` on a `DAG`, staying in the `DAG` world, you need to use `DAG.partial`."
   ]
  },
  {
   "cell_type": "code",
   "execution_count": 11,
   "metadata": {},
   "outputs": [
    {
     "data": {
      "text/plain": [
       "4608"
      ]
     },
     "execution_count": 11,
     "metadata": {},
     "output_type": "execute_result"
    }
   ],
   "source": [
    "dag_vax_80 = dag.partial(vax=0.8) \n",
    "# dag_vax_80 = DAG.partial(dag, vax=0.8)  # equivalent alternative\n",
    "dag_vax_80()"
   ]
  },
  {
   "attachments": {},
   "cell_type": "markdown",
   "metadata": {},
   "source": [
    "## partializing intermediate var nodes?"
   ]
  },
  {
   "attachments": {},
   "cell_type": "markdown",
   "metadata": {},
   "source": [
    "But what if you wanted to change the default of `r`?\n",
    "\n",
    "You can't just use `functools.partial` \n",
    "(or `DAG.partial`, which wants to stay aligned with the builtin)\n",
    "(_TODO: Discuss. Should we extend `DAG.partial` to be able to change defaults of non-root var nodes?_)"
   ]
  },
  {
   "cell_type": "code",
   "execution_count": 13,
   "metadata": {},
   "outputs": [],
   "source": [
    "# dag.partial(r=1.7)  # won't work! \"TypeError: Got unexpected keyword arguments: r\""
   ]
  },
  {
   "attachments": {},
   "cell_type": "markdown",
   "metadata": {},
   "source": [
    "To do this, you'll need to bring `r` to the \"surface\", so it's a proper interface argument, \n",
    "change its default, and then put it back in its original context (dag):"
   ]
  },
  {
   "cell_type": "code",
   "execution_count": 14,
   "metadata": {},
   "outputs": [],
   "source": [
    "def partialize_intermediate_nodes(dag, **name_and_default):\n",
    "    \"\"\"\n",
    "    Partializes nodes in a dag that are not leaves, using the given default values.\n",
    "    \"\"\"\n",
    "    # TODO: Could be made more efficient (maybe even O(1)), but probably not worth it\n",
    "    for name, default in name_and_default.items():\n",
    "        before_name_dag = dag[:name]\n",
    "        after_name_dag = dag[name:]\n",
    "        partialized_after_name_dag = after_name_dag.partial(**{name: default})\n",
    "        dag = before_name_dag + partialized_after_name_dag\n",
    "    return dag\n",
    "\n",
    "dag_r_1_7 = partialize_intermediate_nodes(dag, r=1.7)"
   ]
  },
  {
   "cell_type": "code",
   "execution_count": 15,
   "metadata": {},
   "outputs": [],
   "source": [
    "assert (\n",
    "    dag_r_1_7['r':]() \n",
    "    == dag['r':](r=1.7)  # which is what the sub-dag with r=1.7 would give us\n",
    "    == 25659  # namely\n",
    "    != 18112  # which is not equal to this\n",
    "    == dag['r':]()  # which is what the original sub-dag would give us if it used its default r\n",
    ")\n",
    "\n",
    "# Notice (and careful!) that dag_r_1_7 gives us the same result as dag though. \n",
    "# That's normal. Because in both, `r` is computed from the `r` function, not some default \n",
    "# `r` value (that's where they actually differ)\n",
    "assert dag_r_1_7() == dag()"
   ]
  },
  {
   "attachments": {},
   "cell_type": "markdown",
   "metadata": {},
   "source": [
    "## Using a DAG to make other (parametrized) DAGs"
   ]
  },
  {
   "attachments": {},
   "cell_type": "markdown",
   "metadata": {},
   "source": [
    "We'll remind the reader that we use the `DAG` for more than just calling it, as a function. \n",
    "\n",
    "We can operate on both functions and datas the `DAG` is composed of, which enables many possibilities. \n",
    "\n",
    "Let's divide our vaccination DAG into two parts, cutting it at the `infected` node."
   ]
  },
  {
   "cell_type": "code",
   "execution_count": 17,
   "metadata": {},
   "outputs": [],
   "source": [
    "infected = dag[:'infected']\n",
    "death_toll = dag['infected':]"
   ]
  },
  {
   "attachments": {},
   "cell_type": "markdown",
   "metadata": {},
   "source": [
    "The first part computes the `infected` value given `vax`, `infection_vax_factor`, `exposed` and `infect_if_expose`. "
   ]
  },
  {
   "cell_type": "code",
   "execution_count": 18,
   "metadata": {},
   "outputs": [
    {
     "data": {
      "image/svg+xml": [
       "<?xml version=\"1.0\" encoding=\"UTF-8\" standalone=\"no\"?>\n",
       "<!DOCTYPE svg PUBLIC \"-//W3C//DTD SVG 1.1//EN\"\n",
       " \"http://www.w3.org/Graphics/SVG/1.1/DTD/svg11.dtd\">\n",
       "<!-- Generated by graphviz version 7.1.0 (20230121.1956)\n",
       " -->\n",
       "<!-- Pages: 1 -->\n",
       "<svg width=\"376pt\" height=\"332pt\"\n",
       " viewBox=\"0.00 0.00 375.50 332.00\" xmlns=\"http://www.w3.org/2000/svg\" xmlns:xlink=\"http://www.w3.org/1999/xlink\">\n",
       "<g id=\"graph0\" class=\"graph\" transform=\"scale(1 1) rotate(0) translate(4 328)\">\n",
       "<polygon fill=\"white\" stroke=\"none\" points=\"-4,4 -4,-328 371.5,-328 371.5,4 -4,4\"/>\n",
       "<!-- r -->\n",
       "<g id=\"node1\" class=\"node\">\n",
       "<title>r</title>\n",
       "<text text-anchor=\"middle\" x=\"255\" y=\"-158.3\" font-family=\"Times,serif\" font-size=\"14.00\">r=</text>\n",
       "</g>\n",
       "<!-- infected_ -->\n",
       "<g id=\"node8\" class=\"node\">\n",
       "<title>infected_</title>\n",
       "<polygon fill=\"none\" stroke=\"black\" points=\"174.5,-108 107.5,-108 107.5,-72 174.5,-72 174.5,-108\"/>\n",
       "<text text-anchor=\"middle\" x=\"141\" y=\"-86.3\" font-family=\"Times,serif\" font-size=\"14.00\">infected_</text>\n",
       "</g>\n",
       "<!-- r&#45;&gt;infected_ -->\n",
       "<g id=\"edge5\" class=\"edge\">\n",
       "<title>r&#45;&gt;infected_</title>\n",
       "<path fill=\"none\" stroke=\"black\" d=\"M228.27,-144.59C213.56,-135.55 195.05,-124.19 178.87,-114.25\"/>\n",
       "<polygon fill=\"black\" stroke=\"black\" points=\"180.79,-111.33 170.44,-109.08 177.13,-117.29 180.79,-111.33\"/>\n",
       "</g>\n",
       "<!-- exposed -->\n",
       "<g id=\"node2\" class=\"node\">\n",
       "<title>exposed</title>\n",
       "<text text-anchor=\"middle\" x=\"200\" y=\"-302.3\" font-family=\"Times,serif\" font-size=\"14.00\">exposed=</text>\n",
       "</g>\n",
       "<!-- r_ -->\n",
       "<g id=\"node4\" class=\"node\">\n",
       "<title>r_</title>\n",
       "<polygon fill=\"none\" stroke=\"black\" points=\"282,-252 228,-252 228,-216 282,-216 282,-252\"/>\n",
       "<text text-anchor=\"middle\" x=\"255\" y=\"-230.3\" font-family=\"Times,serif\" font-size=\"14.00\">r_</text>\n",
       "</g>\n",
       "<!-- exposed&#45;&gt;r_ -->\n",
       "<g id=\"edge2\" class=\"edge\">\n",
       "<title>exposed&#45;&gt;r_</title>\n",
       "<path fill=\"none\" stroke=\"black\" d=\"M213.31,-288.05C219.64,-280.01 227.34,-270.2 234.39,-261.23\"/>\n",
       "<polygon fill=\"black\" stroke=\"black\" points=\"237.07,-263.49 240.49,-253.47 231.56,-259.17 237.07,-263.49\"/>\n",
       "</g>\n",
       "<!-- infect_if_expose -->\n",
       "<g id=\"node3\" class=\"node\">\n",
       "<title>infect_if_expose</title>\n",
       "<text text-anchor=\"middle\" x=\"310\" y=\"-302.3\" font-family=\"Times,serif\" font-size=\"14.00\">infect_if_expose=</text>\n",
       "</g>\n",
       "<!-- infect_if_expose&#45;&gt;r_ -->\n",
       "<g id=\"edge3\" class=\"edge\">\n",
       "<title>infect_if_expose&#45;&gt;r_</title>\n",
       "<path fill=\"none\" stroke=\"black\" d=\"M296.69,-288.05C290.36,-280.01 282.66,-270.2 275.61,-261.23\"/>\n",
       "<polygon fill=\"black\" stroke=\"black\" points=\"278.44,-259.17 269.51,-253.47 272.93,-263.49 278.44,-259.17\"/>\n",
       "</g>\n",
       "<!-- r_&#45;&gt;r -->\n",
       "<g id=\"edge1\" class=\"edge\">\n",
       "<title>r_&#45;&gt;r</title>\n",
       "<path fill=\"none\" stroke=\"black\" d=\"M255,-215.7C255,-208.21 255,-199.26 255,-190.88\"/>\n",
       "<polygon fill=\"black\" stroke=\"black\" points=\"258.5,-191.14 255,-181.14 251.5,-191.14 258.5,-191.14\"/>\n",
       "</g>\n",
       "<!-- infected -->\n",
       "<g id=\"node5\" class=\"node\">\n",
       "<title>infected</title>\n",
       "<text text-anchor=\"middle\" x=\"141\" y=\"-14.3\" font-family=\"Times,serif\" font-size=\"14.00\">infected</text>\n",
       "</g>\n",
       "<!-- vax -->\n",
       "<g id=\"node6\" class=\"node\">\n",
       "<title>vax</title>\n",
       "<text text-anchor=\"middle\" x=\"27\" y=\"-158.3\" font-family=\"Times,serif\" font-size=\"14.00\">vax=</text>\n",
       "</g>\n",
       "<!-- vax&#45;&gt;infected_ -->\n",
       "<g id=\"edge6\" class=\"edge\">\n",
       "<title>vax&#45;&gt;infected_</title>\n",
       "<path fill=\"none\" stroke=\"black\" d=\"M53.73,-144.59C68.44,-135.55 86.95,-124.19 103.13,-114.25\"/>\n",
       "<polygon fill=\"black\" stroke=\"black\" points=\"104.87,-117.29 111.56,-109.08 101.21,-111.33 104.87,-117.29\"/>\n",
       "</g>\n",
       "<!-- infection_vax_factor -->\n",
       "<g id=\"node7\" class=\"node\">\n",
       "<title>infection_vax_factor</title>\n",
       "<text text-anchor=\"middle\" x=\"141\" y=\"-158.3\" font-family=\"Times,serif\" font-size=\"14.00\">infection_vax_factor=</text>\n",
       "</g>\n",
       "<!-- infection_vax_factor&#45;&gt;infected_ -->\n",
       "<g id=\"edge7\" class=\"edge\">\n",
       "<title>infection_vax_factor&#45;&gt;infected_</title>\n",
       "<path fill=\"none\" stroke=\"black\" d=\"M141,-144.05C141,-136.68 141,-127.84 141,-119.51\"/>\n",
       "<polygon fill=\"black\" stroke=\"black\" points=\"144.5,-119.79 141,-109.79 137.5,-119.79 144.5,-119.79\"/>\n",
       "</g>\n",
       "<!-- infected_&#45;&gt;infected -->\n",
       "<g id=\"edge4\" class=\"edge\">\n",
       "<title>infected_&#45;&gt;infected</title>\n",
       "<path fill=\"none\" stroke=\"black\" d=\"M141,-71.7C141,-64.21 141,-55.26 141,-46.88\"/>\n",
       "<polygon fill=\"black\" stroke=\"black\" points=\"144.5,-47.14 141,-37.14 137.5,-47.14 144.5,-47.14\"/>\n",
       "</g>\n",
       "</g>\n",
       "</svg>\n"
      ],
      "text/plain": [
       "<graphviz.graphs.Digraph at 0x1214a14b0>"
      ]
     },
     "execution_count": 18,
     "metadata": {},
     "output_type": "execute_result"
    }
   ],
   "source": [
    "infected.dot_digraph()"
   ]
  },
  {
   "attachments": {},
   "cell_type": "markdown",
   "metadata": {},
   "source": [
    "The second part computes the `death_toll` given this `infected` value, along with other parameters \n",
    "(of which, `vax` again). "
   ]
  },
  {
   "cell_type": "code",
   "execution_count": 19,
   "metadata": {},
   "outputs": [
    {
     "data": {
      "image/svg+xml": [
       "<?xml version=\"1.0\" encoding=\"UTF-8\" standalone=\"no\"?>\n",
       "<!DOCTYPE svg PUBLIC \"-//W3C//DTD SVG 1.1//EN\"\n",
       " \"http://www.w3.org/Graphics/SVG/1.1/DTD/svg11.dtd\">\n",
       "<!-- Generated by graphviz version 7.1.0 (20230121.1956)\n",
       " -->\n",
       "<!-- Pages: 1 -->\n",
       "<svg width=\"404pt\" height=\"332pt\"\n",
       " viewBox=\"0.00 0.00 403.50 332.00\" xmlns=\"http://www.w3.org/2000/svg\" xmlns:xlink=\"http://www.w3.org/1999/xlink\">\n",
       "<g id=\"graph0\" class=\"graph\" transform=\"scale(1 1) rotate(0) translate(4 328)\">\n",
       "<polygon fill=\"white\" stroke=\"none\" points=\"-4,4 -4,-328 399.5,-328 399.5,4 -4,4\"/>\n",
       "<!-- die -->\n",
       "<g id=\"node1\" class=\"node\">\n",
       "<title>die</title>\n",
       "<text text-anchor=\"middle\" x=\"181\" y=\"-158.3\" font-family=\"Times,serif\" font-size=\"14.00\">die</text>\n",
       "</g>\n",
       "<!-- death_toll_ -->\n",
       "<g id=\"node9\" class=\"node\">\n",
       "<title>death_toll_</title>\n",
       "<polygon fill=\"none\" stroke=\"black\" points=\"175.5,-108 98.5,-108 98.5,-72 175.5,-72 175.5,-108\"/>\n",
       "<text text-anchor=\"middle\" x=\"137\" y=\"-86.3\" font-family=\"Times,serif\" font-size=\"14.00\">death_toll_</text>\n",
       "</g>\n",
       "<!-- die&#45;&gt;death_toll_ -->\n",
       "<g id=\"edge7\" class=\"edge\">\n",
       "<title>die&#45;&gt;death_toll_</title>\n",
       "<path fill=\"none\" stroke=\"black\" d=\"M170.35,-144.05C165.4,-136.18 159.39,-126.62 153.84,-117.79\"/>\n",
       "<polygon fill=\"black\" stroke=\"black\" points=\"156.95,-116.16 148.66,-109.56 151.02,-119.89 156.95,-116.16\"/>\n",
       "</g>\n",
       "<!-- infected -->\n",
       "<g id=\"node2\" class=\"node\">\n",
       "<title>infected</title>\n",
       "<text text-anchor=\"middle\" x=\"30\" y=\"-302.3\" font-family=\"Times,serif\" font-size=\"14.00\">infected</text>\n",
       "</g>\n",
       "<!-- die_ -->\n",
       "<g id=\"node6\" class=\"node\">\n",
       "<title>die_</title>\n",
       "<polygon fill=\"none\" stroke=\"black\" points=\"208,-252 154,-252 154,-216 208,-216 208,-252\"/>\n",
       "<text text-anchor=\"middle\" x=\"181\" y=\"-230.3\" font-family=\"Times,serif\" font-size=\"14.00\">die_</text>\n",
       "</g>\n",
       "<!-- infected&#45;&gt;die_ -->\n",
       "<g id=\"edge2\" class=\"edge\">\n",
       "<title>infected&#45;&gt;die_</title>\n",
       "<path fill=\"none\" stroke=\"black\" d=\"M59.83,-291.17C83.78,-280.07 117.54,-264.42 143.35,-252.45\"/>\n",
       "<polygon fill=\"black\" stroke=\"black\" points=\"144.54,-255.76 152.14,-248.38 141.6,-249.41 144.54,-255.76\"/>\n",
       "</g>\n",
       "<!-- die_if_infected -->\n",
       "<g id=\"node3\" class=\"node\">\n",
       "<title>die_if_infected</title>\n",
       "<text text-anchor=\"middle\" x=\"132\" y=\"-302.3\" font-family=\"Times,serif\" font-size=\"14.00\">die_if_infected=</text>\n",
       "</g>\n",
       "<!-- die_if_infected&#45;&gt;die_ -->\n",
       "<g id=\"edge3\" class=\"edge\">\n",
       "<title>die_if_infected&#45;&gt;die_</title>\n",
       "<path fill=\"none\" stroke=\"black\" d=\"M143.86,-288.05C149.44,-280.09 156.21,-270.41 162.44,-261.51\"/>\n",
       "<polygon fill=\"black\" stroke=\"black\" points=\"165.17,-263.71 168.04,-253.52 159.44,-259.7 165.17,-263.71\"/>\n",
       "</g>\n",
       "<!-- vax -->\n",
       "<g id=\"node4\" class=\"node\">\n",
       "<title>vax</title>\n",
       "<text text-anchor=\"middle\" x=\"231\" y=\"-302.3\" font-family=\"Times,serif\" font-size=\"14.00\">vax=</text>\n",
       "</g>\n",
       "<!-- vax&#45;&gt;die_ -->\n",
       "<g id=\"edge4\" class=\"edge\">\n",
       "<title>vax&#45;&gt;die_</title>\n",
       "<path fill=\"none\" stroke=\"black\" d=\"M218.9,-288.05C213.21,-280.09 206.29,-270.41 199.94,-261.51\"/>\n",
       "<polygon fill=\"black\" stroke=\"black\" points=\"202.88,-259.61 194.22,-253.51 197.18,-263.68 202.88,-259.61\"/>\n",
       "</g>\n",
       "<!-- death_vax_factor -->\n",
       "<g id=\"node5\" class=\"node\">\n",
       "<title>death_vax_factor</title>\n",
       "<text text-anchor=\"middle\" x=\"336\" y=\"-302.3\" font-family=\"Times,serif\" font-size=\"14.00\">death_vax_factor=</text>\n",
       "</g>\n",
       "<!-- death_vax_factor&#45;&gt;die_ -->\n",
       "<g id=\"edge5\" class=\"edge\">\n",
       "<title>death_vax_factor&#45;&gt;die_</title>\n",
       "<path fill=\"none\" stroke=\"black\" d=\"M298.48,-288.05C274.28,-277.13 242.93,-262.97 218.7,-252.03\"/>\n",
       "<polygon fill=\"black\" stroke=\"black\" points=\"220.39,-248.95 209.84,-248.02 217.51,-255.33 220.39,-248.95\"/>\n",
       "</g>\n",
       "<!-- die_&#45;&gt;die -->\n",
       "<g id=\"edge1\" class=\"edge\">\n",
       "<title>die_&#45;&gt;die</title>\n",
       "<path fill=\"none\" stroke=\"black\" d=\"M181,-215.7C181,-208.21 181,-199.26 181,-190.88\"/>\n",
       "<polygon fill=\"black\" stroke=\"black\" points=\"184.5,-191.14 181,-181.14 177.5,-191.14 184.5,-191.14\"/>\n",
       "</g>\n",
       "<!-- death_toll -->\n",
       "<g id=\"node7\" class=\"node\">\n",
       "<title>death_toll</title>\n",
       "<text text-anchor=\"middle\" x=\"137\" y=\"-14.3\" font-family=\"Times,serif\" font-size=\"14.00\">death_toll</text>\n",
       "</g>\n",
       "<!-- population -->\n",
       "<g id=\"node8\" class=\"node\">\n",
       "<title>population</title>\n",
       "<text text-anchor=\"middle\" x=\"94\" y=\"-158.3\" font-family=\"Times,serif\" font-size=\"14.00\">population=</text>\n",
       "</g>\n",
       "<!-- population&#45;&gt;death_toll_ -->\n",
       "<g id=\"edge8\" class=\"edge\">\n",
       "<title>population&#45;&gt;death_toll_</title>\n",
       "<path fill=\"none\" stroke=\"black\" d=\"M104.41,-144.05C109.2,-136.26 115,-126.82 120.37,-118.08\"/>\n",
       "<polygon fill=\"black\" stroke=\"black\" points=\"123.34,-119.92 125.6,-109.56 117.38,-116.25 123.34,-119.92\"/>\n",
       "</g>\n",
       "<!-- death_toll_&#45;&gt;death_toll -->\n",
       "<g id=\"edge6\" class=\"edge\">\n",
       "<title>death_toll_&#45;&gt;death_toll</title>\n",
       "<path fill=\"none\" stroke=\"black\" d=\"M137,-71.7C137,-64.21 137,-55.26 137,-46.88\"/>\n",
       "<polygon fill=\"black\" stroke=\"black\" points=\"140.5,-47.14 137,-37.14 133.5,-47.14 140.5,-47.14\"/>\n",
       "</g>\n",
       "</g>\n",
       "</svg>\n"
      ],
      "text/plain": [
       "<graphviz.graphs.Digraph at 0x1214a1450>"
      ]
     },
     "execution_count": 19,
     "metadata": {},
     "output_type": "execute_result"
    }
   ],
   "source": [
    "death_toll.dot_digraph()"
   ]
  },
  {
   "attachments": {},
   "cell_type": "markdown",
   "metadata": {},
   "source": [
    "Say you're in a situation where you wanted to compute the `infected` value using the first DAG,\n",
    "then fix the `infected` input in the second DAG, and then use it to compute the `death_toll`, varying the other inputs. \n",
    "\n",
    "You could do this:"
   ]
  },
  {
   "cell_type": "code",
   "execution_count": 23,
   "metadata": {},
   "outputs": [
    {
     "data": {
      "text/plain": [
       "<Sig (infected: float = 1.425, die_if_infected: float = 0.05, vax: float = 0.5, death_vax_factor: float = 0.05, population: int = 1000000.0)>"
      ]
     },
     "execution_count": 23,
     "metadata": {},
     "output_type": "execute_result"
    }
   ],
   "source": [
    "f = death_toll.partial(\n",
    "    infected=infected(exposed=10, infect_if_expose=0.3, vax=0.7, infection_vax_factor=0.25),\n",
    "    vax=0.7,  # CAREFUL!! Beed to be consistent with the value of vax that infected use\n",
    ")\n",
    "i2.Sig(f)"
   ]
  },
  {
   "attachments": {},
   "cell_type": "markdown",
   "metadata": {},
   "source": [
    "If you wanted to enable others to use your vaccination model that way, you could make a function to do the above:"
   ]
  },
  {
   "cell_type": "code",
   "execution_count": 28,
   "metadata": {},
   "outputs": [
    {
     "data": {
      "text/plain": [
       "<Sig (die_if_infected: float = 0.05, death_vax_factor: float = 0.05, population: int = 1000000.0)>"
      ]
     },
     "execution_count": 28,
     "metadata": {},
     "output_type": "execute_result"
    }
   ],
   "source": [
    "def mk_death_toll_model(exposed: float = 6, infect_if_expose: float = 0.2, vax: float = 0.5, infection_vax_factor: float = 0.15):\n",
    "    return death_toll.partial(\n",
    "        infected=infected(\n",
    "            exposed=exposed, infect_if_expose=infect_if_expose, vax=vax, infection_vax_factor=infection_vax_factor\n",
    "        ),\n",
    "        vax=vax,\n",
    "        _remove_bound_arguments=True  # because you might not want to see the bound arguments\n",
    "    )\n",
    "\n",
    "f = mk_death_toll_model()\n",
    "i2.Sig(f)"
   ]
  },
  {
   "attachments": {},
   "cell_type": "markdown",
   "metadata": {},
   "source": [
    "That's okay. But it takes some work to gather and copy over the types and default values of those \n",
    "arguments that are needed by infected, remembering to fix (and remove) those arguments that are shared \n",
    "(the case of `vax` here). \n",
    "\n",
    "Basically, a lot of boilerplate and error opportunities; for a pattern that in fact is quite useful.\n",
    "\n",
    "That's why we made a tool for it this."
   ]
  },
  {
   "cell_type": "code",
   "execution_count": 29,
   "metadata": {},
   "outputs": [
    {
     "data": {
      "image/svg+xml": [
       "<?xml version=\"1.0\" encoding=\"UTF-8\" standalone=\"no\"?>\n",
       "<!DOCTYPE svg PUBLIC \"-//W3C//DTD SVG 1.1//EN\"\n",
       " \"http://www.w3.org/Graphics/SVG/1.1/DTD/svg11.dtd\">\n",
       "<!-- Generated by graphviz version 7.1.0 (20230121.1956)\n",
       " -->\n",
       "<!-- Pages: 1 -->\n",
       "<svg width=\"532pt\" height=\"620pt\"\n",
       " viewBox=\"0.00 0.00 532.00 620.00\" xmlns=\"http://www.w3.org/2000/svg\" xmlns:xlink=\"http://www.w3.org/1999/xlink\">\n",
       "<g id=\"graph0\" class=\"graph\" transform=\"scale(1 1) rotate(0) translate(4 616)\">\n",
       "<polygon fill=\"white\" stroke=\"none\" points=\"-4,4 -4,-616 528,-616 528,4 -4,4\"/>\n",
       "<!-- r -->\n",
       "<g id=\"node1\" class=\"node\">\n",
       "<title>r</title>\n",
       "<text text-anchor=\"middle\" x=\"182.5\" y=\"-446.3\" font-family=\"Times,serif\" font-size=\"14.00\">r=</text>\n",
       "</g>\n",
       "<!-- infected_ -->\n",
       "<g id=\"node8\" class=\"node\">\n",
       "<title>infected_</title>\n",
       "<polygon fill=\"none\" stroke=\"black\" points=\"221,-396 154,-396 154,-360 221,-360 221,-396\"/>\n",
       "<text text-anchor=\"middle\" x=\"187.5\" y=\"-374.3\" font-family=\"Times,serif\" font-size=\"14.00\">infected_</text>\n",
       "</g>\n",
       "<!-- r&#45;&gt;infected_ -->\n",
       "<g id=\"edge5\" class=\"edge\">\n",
       "<title>r&#45;&gt;infected_</title>\n",
       "<path fill=\"none\" stroke=\"black\" d=\"M183.71,-432.05C184.24,-424.68 184.87,-415.84 185.46,-407.51\"/>\n",
       "<polygon fill=\"black\" stroke=\"black\" points=\"188.94,-408.01 186.16,-397.78 181.95,-407.51 188.94,-408.01\"/>\n",
       "</g>\n",
       "<!-- exposed -->\n",
       "<g id=\"node2\" class=\"node\">\n",
       "<title>exposed</title>\n",
       "<text text-anchor=\"middle\" x=\"127.5\" y=\"-590.3\" font-family=\"Times,serif\" font-size=\"14.00\">exposed=</text>\n",
       "</g>\n",
       "<!-- r_ -->\n",
       "<g id=\"node4\" class=\"node\">\n",
       "<title>r_</title>\n",
       "<polygon fill=\"none\" stroke=\"black\" points=\"209.5,-540 155.5,-540 155.5,-504 209.5,-504 209.5,-540\"/>\n",
       "<text text-anchor=\"middle\" x=\"182.5\" y=\"-518.3\" font-family=\"Times,serif\" font-size=\"14.00\">r_</text>\n",
       "</g>\n",
       "<!-- exposed&#45;&gt;r_ -->\n",
       "<g id=\"edge2\" class=\"edge\">\n",
       "<title>exposed&#45;&gt;r_</title>\n",
       "<path fill=\"none\" stroke=\"black\" d=\"M140.81,-576.05C147.14,-568.01 154.84,-558.2 161.89,-549.23\"/>\n",
       "<polygon fill=\"black\" stroke=\"black\" points=\"164.57,-551.49 167.99,-541.47 159.06,-547.17 164.57,-551.49\"/>\n",
       "</g>\n",
       "<!-- infect_if_expose -->\n",
       "<g id=\"node3\" class=\"node\">\n",
       "<title>infect_if_expose</title>\n",
       "<text text-anchor=\"middle\" x=\"237.5\" y=\"-590.3\" font-family=\"Times,serif\" font-size=\"14.00\">infect_if_expose=</text>\n",
       "</g>\n",
       "<!-- infect_if_expose&#45;&gt;r_ -->\n",
       "<g id=\"edge3\" class=\"edge\">\n",
       "<title>infect_if_expose&#45;&gt;r_</title>\n",
       "<path fill=\"none\" stroke=\"black\" d=\"M224.19,-576.05C217.86,-568.01 210.16,-558.2 203.11,-549.23\"/>\n",
       "<polygon fill=\"black\" stroke=\"black\" points=\"205.94,-547.17 197.01,-541.47 200.43,-551.49 205.94,-547.17\"/>\n",
       "</g>\n",
       "<!-- r_&#45;&gt;r -->\n",
       "<g id=\"edge1\" class=\"edge\">\n",
       "<title>r_&#45;&gt;r</title>\n",
       "<path fill=\"none\" stroke=\"black\" d=\"M182.5,-503.7C182.5,-496.21 182.5,-487.26 182.5,-478.88\"/>\n",
       "<polygon fill=\"black\" stroke=\"black\" points=\"186,-479.14 182.5,-469.14 179,-479.14 186,-479.14\"/>\n",
       "</g>\n",
       "<!-- infected -->\n",
       "<g id=\"node5\" class=\"node\">\n",
       "<title>infected</title>\n",
       "<text text-anchor=\"middle\" x=\"191.5\" y=\"-302.3\" font-family=\"Times,serif\" font-size=\"14.00\">infected</text>\n",
       "</g>\n",
       "<!-- die_ -->\n",
       "<g id=\"node12\" class=\"node\">\n",
       "<title>die_</title>\n",
       "<polygon fill=\"none\" stroke=\"black\" points=\"319.5,-252 265.5,-252 265.5,-216 319.5,-216 319.5,-252\"/>\n",
       "<text text-anchor=\"middle\" x=\"292.5\" y=\"-230.3\" font-family=\"Times,serif\" font-size=\"14.00\">die_</text>\n",
       "</g>\n",
       "<!-- infected&#45;&gt;die_ -->\n",
       "<g id=\"edge9\" class=\"edge\">\n",
       "<title>infected&#45;&gt;die_</title>\n",
       "<path fill=\"none\" stroke=\"black\" d=\"M215.95,-288.05C228.66,-279.24 244.41,-268.33 258.31,-258.7\"/>\n",
       "<polygon fill=\"black\" stroke=\"black\" points=\"260.1,-261.71 266.33,-253.14 256.12,-255.96 260.1,-261.71\"/>\n",
       "</g>\n",
       "<!-- vax -->\n",
       "<g id=\"node6\" class=\"node\">\n",
       "<title>vax</title>\n",
       "<text text-anchor=\"middle\" x=\"254.5\" y=\"-446.3\" font-family=\"Times,serif\" font-size=\"14.00\">vax=</text>\n",
       "</g>\n",
       "<!-- vax&#45;&gt;infected_ -->\n",
       "<g id=\"edge6\" class=\"edge\">\n",
       "<title>vax&#45;&gt;infected_</title>\n",
       "<path fill=\"none\" stroke=\"black\" d=\"M238.28,-432.05C230.33,-423.75 220.6,-413.58 211.79,-404.38\"/>\n",
       "<polygon fill=\"black\" stroke=\"black\" points=\"214.52,-402.17 205.08,-397.37 209.47,-407.01 214.52,-402.17\"/>\n",
       "</g>\n",
       "<!-- vax&#45;&gt;die_ -->\n",
       "<g id=\"edge11\" class=\"edge\">\n",
       "<title>vax&#45;&gt;die_</title>\n",
       "<path fill=\"none\" stroke=\"black\" d=\"M254.78,-432.29C255.59,-402.76 258.81,-339.58 271.5,-288 273.56,-279.64 276.64,-270.84 279.82,-262.87\"/>\n",
       "<polygon fill=\"black\" stroke=\"black\" points=\"283.03,-264.24 283.68,-253.67 276.58,-261.53 283.03,-264.24\"/>\n",
       "</g>\n",
       "<!-- infection_vax_factor -->\n",
       "<g id=\"node7\" class=\"node\">\n",
       "<title>infection_vax_factor</title>\n",
       "<text text-anchor=\"middle\" x=\"68.5\" y=\"-446.3\" font-family=\"Times,serif\" font-size=\"14.00\">infection_vax_factor=</text>\n",
       "</g>\n",
       "<!-- infection_vax_factor&#45;&gt;infected_ -->\n",
       "<g id=\"edge7\" class=\"edge\">\n",
       "<title>infection_vax_factor&#45;&gt;infected_</title>\n",
       "<path fill=\"none\" stroke=\"black\" d=\"M97.31,-432.05C112.72,-422.99 131.91,-411.7 148.62,-401.87\"/>\n",
       "<polygon fill=\"black\" stroke=\"black\" points=\"149.98,-405.13 156.83,-397.04 146.43,-399.1 149.98,-405.13\"/>\n",
       "</g>\n",
       "<!-- infected_&#45;&gt;infected -->\n",
       "<g id=\"edge4\" class=\"edge\">\n",
       "<title>infected_&#45;&gt;infected</title>\n",
       "<path fill=\"none\" stroke=\"black\" d=\"M188.49,-359.7C188.92,-352.21 189.43,-343.26 189.91,-334.88\"/>\n",
       "<polygon fill=\"black\" stroke=\"black\" points=\"193.39,-335.32 190.46,-325.13 186.4,-334.92 193.39,-335.32\"/>\n",
       "</g>\n",
       "<!-- die -->\n",
       "<g id=\"node9\" class=\"node\">\n",
       "<title>die</title>\n",
       "<text text-anchor=\"middle\" x=\"292.5\" y=\"-158.3\" font-family=\"Times,serif\" font-size=\"14.00\">die</text>\n",
       "</g>\n",
       "<!-- death_toll_ -->\n",
       "<g id=\"node15\" class=\"node\">\n",
       "<title>death_toll_</title>\n",
       "<polygon fill=\"none\" stroke=\"black\" points=\"287,-108 210,-108 210,-72 287,-72 287,-108\"/>\n",
       "<text text-anchor=\"middle\" x=\"248.5\" y=\"-86.3\" font-family=\"Times,serif\" font-size=\"14.00\">death_toll_</text>\n",
       "</g>\n",
       "<!-- die&#45;&gt;death_toll_ -->\n",
       "<g id=\"edge14\" class=\"edge\">\n",
       "<title>die&#45;&gt;death_toll_</title>\n",
       "<path fill=\"none\" stroke=\"black\" d=\"M281.85,-144.05C276.9,-136.18 270.89,-126.62 265.34,-117.79\"/>\n",
       "<polygon fill=\"black\" stroke=\"black\" points=\"268.45,-116.16 260.16,-109.56 262.52,-119.89 268.45,-116.16\"/>\n",
       "</g>\n",
       "<!-- die_if_infected -->\n",
       "<g id=\"node10\" class=\"node\">\n",
       "<title>die_if_infected</title>\n",
       "<text text-anchor=\"middle\" x=\"333.5\" y=\"-302.3\" font-family=\"Times,serif\" font-size=\"14.00\">die_if_infected=</text>\n",
       "</g>\n",
       "<!-- die_if_infected&#45;&gt;die_ -->\n",
       "<g id=\"edge10\" class=\"edge\">\n",
       "<title>die_if_infected&#45;&gt;die_</title>\n",
       "<path fill=\"none\" stroke=\"black\" d=\"M323.58,-288.05C319.01,-280.26 313.48,-270.82 308.36,-262.08\"/>\n",
       "<polygon fill=\"black\" stroke=\"black\" points=\"311.46,-260.44 303.38,-253.58 305.42,-263.98 311.46,-260.44\"/>\n",
       "</g>\n",
       "<!-- death_vax_factor -->\n",
       "<g id=\"node11\" class=\"node\">\n",
       "<title>death_vax_factor</title>\n",
       "<text text-anchor=\"middle\" x=\"464.5\" y=\"-302.3\" font-family=\"Times,serif\" font-size=\"14.00\">death_vax_factor=</text>\n",
       "</g>\n",
       "<!-- death_vax_factor&#45;&gt;die_ -->\n",
       "<g id=\"edge12\" class=\"edge\">\n",
       "<title>death_vax_factor&#45;&gt;die_</title>\n",
       "<path fill=\"none\" stroke=\"black\" d=\"M422.86,-288.05C394.6,-276.55 357.54,-261.47 330.16,-250.33\"/>\n",
       "<polygon fill=\"black\" stroke=\"black\" points=\"331.79,-247.21 321.21,-246.68 329.15,-253.7 331.79,-247.21\"/>\n",
       "</g>\n",
       "<!-- die_&#45;&gt;die -->\n",
       "<g id=\"edge8\" class=\"edge\">\n",
       "<title>die_&#45;&gt;die</title>\n",
       "<path fill=\"none\" stroke=\"black\" d=\"M292.5,-215.7C292.5,-208.21 292.5,-199.26 292.5,-190.88\"/>\n",
       "<polygon fill=\"black\" stroke=\"black\" points=\"296,-191.14 292.5,-181.14 289,-191.14 296,-191.14\"/>\n",
       "</g>\n",
       "<!-- death_toll -->\n",
       "<g id=\"node13\" class=\"node\">\n",
       "<title>death_toll</title>\n",
       "<text text-anchor=\"middle\" x=\"248.5\" y=\"-14.3\" font-family=\"Times,serif\" font-size=\"14.00\">death_toll</text>\n",
       "</g>\n",
       "<!-- population -->\n",
       "<g id=\"node14\" class=\"node\">\n",
       "<title>population</title>\n",
       "<text text-anchor=\"middle\" x=\"205.5\" y=\"-158.3\" font-family=\"Times,serif\" font-size=\"14.00\">population=</text>\n",
       "</g>\n",
       "<!-- population&#45;&gt;death_toll_ -->\n",
       "<g id=\"edge15\" class=\"edge\">\n",
       "<title>population&#45;&gt;death_toll_</title>\n",
       "<path fill=\"none\" stroke=\"black\" d=\"M215.91,-144.05C220.7,-136.26 226.5,-126.82 231.87,-118.08\"/>\n",
       "<polygon fill=\"black\" stroke=\"black\" points=\"234.84,-119.92 237.1,-109.56 228.88,-116.25 234.84,-119.92\"/>\n",
       "</g>\n",
       "<!-- death_toll_&#45;&gt;death_toll -->\n",
       "<g id=\"edge13\" class=\"edge\">\n",
       "<title>death_toll_&#45;&gt;death_toll</title>\n",
       "<path fill=\"none\" stroke=\"black\" d=\"M248.5,-71.7C248.5,-64.21 248.5,-55.26 248.5,-46.88\"/>\n",
       "<polygon fill=\"black\" stroke=\"black\" points=\"252,-47.14 248.5,-37.14 245,-47.14 252,-47.14\"/>\n",
       "</g>\n",
       "</g>\n",
       "</svg>\n"
      ],
      "text/plain": [
       "<graphviz.graphs.Digraph at 0x1215666e0>"
      ]
     },
     "execution_count": 29,
     "metadata": {},
     "output_type": "execute_result"
    }
   ],
   "source": [
    "dag.dot_digraph()"
   ]
  },
  {
   "cell_type": "code",
   "execution_count": 138,
   "metadata": {},
   "outputs": [
    {
     "name": "stdout",
     "output_type": "stream",
     "text": [
      "(exposed: float = 6, infect_if_expose: float = 0.2, vax: float = 0.5, infection_vax_factor: float = 0.15)\n",
      "(die_if_infected: float = 0.05, death_vax_factor: float = 0.05, population: int = 1000000.0)\n"
     ]
    },
    {
     "data": {
      "image/svg+xml": [
       "<?xml version=\"1.0\" encoding=\"UTF-8\" standalone=\"no\"?>\n",
       "<!DOCTYPE svg PUBLIC \"-//W3C//DTD SVG 1.1//EN\"\n",
       " \"http://www.w3.org/Graphics/SVG/1.1/DTD/svg11.dtd\">\n",
       "<!-- Generated by graphviz version 7.1.0 (20230121.1956)\n",
       " -->\n",
       "<!-- Pages: 1 -->\n",
       "<svg width=\"412pt\" height=\"332pt\"\n",
       " viewBox=\"0.00 0.00 411.50 332.00\" xmlns=\"http://www.w3.org/2000/svg\" xmlns:xlink=\"http://www.w3.org/1999/xlink\">\n",
       "<g id=\"graph0\" class=\"graph\" transform=\"scale(1 1) rotate(0) translate(4 328)\">\n",
       "<polygon fill=\"white\" stroke=\"none\" points=\"-4,4 -4,-328 407.5,-328 407.5,4 -4,4\"/>\n",
       "<!-- die -->\n",
       "<g id=\"node1\" class=\"node\">\n",
       "<title>die</title>\n",
       "<text text-anchor=\"middle\" x=\"189\" y=\"-158.3\" font-family=\"Times,serif\" font-size=\"14.00\">die</text>\n",
       "</g>\n",
       "<!-- death_toll_ -->\n",
       "<g id=\"node9\" class=\"node\">\n",
       "<title>death_toll_</title>\n",
       "<polygon fill=\"none\" stroke=\"black\" points=\"183.5,-108 106.5,-108 106.5,-72 183.5,-72 183.5,-108\"/>\n",
       "<text text-anchor=\"middle\" x=\"145\" y=\"-86.3\" font-family=\"Times,serif\" font-size=\"14.00\">death_toll_</text>\n",
       "</g>\n",
       "<!-- die&#45;&gt;death_toll_ -->\n",
       "<g id=\"edge7\" class=\"edge\">\n",
       "<title>die&#45;&gt;death_toll_</title>\n",
       "<path fill=\"none\" stroke=\"black\" d=\"M178.35,-144.05C173.4,-136.18 167.39,-126.62 161.84,-117.79\"/>\n",
       "<polygon fill=\"black\" stroke=\"black\" points=\"164.95,-116.16 156.66,-109.56 159.02,-119.89 164.95,-116.16\"/>\n",
       "</g>\n",
       "<!-- infected -->\n",
       "<g id=\"node2\" class=\"node\">\n",
       "<title>infected</title>\n",
       "<text text-anchor=\"middle\" x=\"34\" y=\"-302.3\" font-family=\"Times,serif\" font-size=\"14.00\">infected=</text>\n",
       "</g>\n",
       "<!-- die_ -->\n",
       "<g id=\"node6\" class=\"node\">\n",
       "<title>die_</title>\n",
       "<polygon fill=\"none\" stroke=\"black\" points=\"216,-252 162,-252 162,-216 216,-216 216,-252\"/>\n",
       "<text text-anchor=\"middle\" x=\"189\" y=\"-230.3\" font-family=\"Times,serif\" font-size=\"14.00\">die_</text>\n",
       "</g>\n",
       "<!-- infected&#45;&gt;die_ -->\n",
       "<g id=\"edge2\" class=\"edge\">\n",
       "<title>infected&#45;&gt;die_</title>\n",
       "<path fill=\"none\" stroke=\"black\" d=\"M67.63,-289.81C92.25,-278.69 125.68,-263.6 151.22,-252.06\"/>\n",
       "<polygon fill=\"black\" stroke=\"black\" points=\"152.58,-255.29 160.25,-247.98 149.7,-248.91 152.58,-255.29\"/>\n",
       "</g>\n",
       "<!-- die_if_infected -->\n",
       "<g id=\"node3\" class=\"node\">\n",
       "<title>die_if_infected</title>\n",
       "<text text-anchor=\"middle\" x=\"140\" y=\"-302.3\" font-family=\"Times,serif\" font-size=\"14.00\">die_if_infected=</text>\n",
       "</g>\n",
       "<!-- die_if_infected&#45;&gt;die_ -->\n",
       "<g id=\"edge3\" class=\"edge\">\n",
       "<title>die_if_infected&#45;&gt;die_</title>\n",
       "<path fill=\"none\" stroke=\"black\" d=\"M151.86,-288.05C157.44,-280.09 164.21,-270.41 170.44,-261.51\"/>\n",
       "<polygon fill=\"black\" stroke=\"black\" points=\"173.17,-263.71 176.04,-253.52 167.44,-259.7 173.17,-263.71\"/>\n",
       "</g>\n",
       "<!-- vax -->\n",
       "<g id=\"node4\" class=\"node\">\n",
       "<title>vax</title>\n",
       "<text text-anchor=\"middle\" x=\"239\" y=\"-302.3\" font-family=\"Times,serif\" font-size=\"14.00\">vax=</text>\n",
       "</g>\n",
       "<!-- vax&#45;&gt;die_ -->\n",
       "<g id=\"edge4\" class=\"edge\">\n",
       "<title>vax&#45;&gt;die_</title>\n",
       "<path fill=\"none\" stroke=\"black\" d=\"M226.9,-288.05C221.21,-280.09 214.29,-270.41 207.94,-261.51\"/>\n",
       "<polygon fill=\"black\" stroke=\"black\" points=\"210.88,-259.61 202.22,-253.51 205.18,-263.68 210.88,-259.61\"/>\n",
       "</g>\n",
       "<!-- death_vax_factor -->\n",
       "<g id=\"node5\" class=\"node\">\n",
       "<title>death_vax_factor</title>\n",
       "<text text-anchor=\"middle\" x=\"344\" y=\"-302.3\" font-family=\"Times,serif\" font-size=\"14.00\">death_vax_factor=</text>\n",
       "</g>\n",
       "<!-- death_vax_factor&#45;&gt;die_ -->\n",
       "<g id=\"edge5\" class=\"edge\">\n",
       "<title>death_vax_factor&#45;&gt;die_</title>\n",
       "<path fill=\"none\" stroke=\"black\" d=\"M306.48,-288.05C282.28,-277.13 250.93,-262.97 226.7,-252.03\"/>\n",
       "<polygon fill=\"black\" stroke=\"black\" points=\"228.39,-248.95 217.84,-248.02 225.51,-255.33 228.39,-248.95\"/>\n",
       "</g>\n",
       "<!-- die_&#45;&gt;die -->\n",
       "<g id=\"edge1\" class=\"edge\">\n",
       "<title>die_&#45;&gt;die</title>\n",
       "<path fill=\"none\" stroke=\"black\" d=\"M189,-215.7C189,-208.21 189,-199.26 189,-190.88\"/>\n",
       "<polygon fill=\"black\" stroke=\"black\" points=\"192.5,-191.14 189,-181.14 185.5,-191.14 192.5,-191.14\"/>\n",
       "</g>\n",
       "<!-- death_toll -->\n",
       "<g id=\"node7\" class=\"node\">\n",
       "<title>death_toll</title>\n",
       "<text text-anchor=\"middle\" x=\"145\" y=\"-14.3\" font-family=\"Times,serif\" font-size=\"14.00\">death_toll</text>\n",
       "</g>\n",
       "<!-- population -->\n",
       "<g id=\"node8\" class=\"node\">\n",
       "<title>population</title>\n",
       "<text text-anchor=\"middle\" x=\"102\" y=\"-158.3\" font-family=\"Times,serif\" font-size=\"14.00\">population=</text>\n",
       "</g>\n",
       "<!-- population&#45;&gt;death_toll_ -->\n",
       "<g id=\"edge8\" class=\"edge\">\n",
       "<title>population&#45;&gt;death_toll_</title>\n",
       "<path fill=\"none\" stroke=\"black\" d=\"M112.41,-144.05C117.2,-136.26 123,-126.82 128.37,-118.08\"/>\n",
       "<polygon fill=\"black\" stroke=\"black\" points=\"131.34,-119.92 133.6,-109.56 125.38,-116.25 131.34,-119.92\"/>\n",
       "</g>\n",
       "<!-- death_toll_&#45;&gt;death_toll -->\n",
       "<g id=\"edge6\" class=\"edge\">\n",
       "<title>death_toll_&#45;&gt;death_toll</title>\n",
       "<path fill=\"none\" stroke=\"black\" d=\"M145,-71.7C145,-64.21 145,-55.26 145,-46.88\"/>\n",
       "<polygon fill=\"black\" stroke=\"black\" points=\"148.5,-47.14 145,-37.14 141.5,-47.14 148.5,-47.14\"/>\n",
       "</g>\n",
       "</g>\n",
       "</svg>\n"
      ],
      "text/plain": [
       "<graphviz.graphs.Digraph at 0x1223d9630>"
      ]
     },
     "execution_count": 138,
     "metadata": {},
     "output_type": "execute_result"
    }
   ],
   "source": [
    "from meshed.dag import parametrized_dag_factory\n",
    "\n",
    "\n",
    "dag_factory = parametrized_dag_factory(dag, 'infected')\n",
    "print(f\"{Sig(dag_factory)}\")\n",
    "f = dag_factory(exposed=10)\n",
    "print(f\"{Sig(f)}\")\n",
    "f.dot_digraph()\n"
   ]
  },
  {
   "attachments": {},
   "cell_type": "markdown",
   "metadata": {},
   "source": [
    "# Jsonizing mesh objects"
   ]
  },
  {
   "cell_type": "code",
   "execution_count": 202,
   "metadata": {},
   "outputs": [],
   "source": [
    "from meshed import FuncNode, DAG\n",
    "from meshed.makers import jdict_to_fnode, fnode_to_jdict, jdict_to_dag, dag_to_jdict"
   ]
  },
  {
   "cell_type": "code",
   "execution_count": 242,
   "metadata": {},
   "outputs": [],
   "source": [
    "from py2json import obj_to_dotpath, dotpath_to_obj\n",
    "from opus.mboxes import get_module_box\n",
    "from meshed import DAG\n",
    "from meshed.examples import funcs as meshed_examples_funcs\n",
    "\n",
    "import itertools\n",
    "all_funcs = list(itertools.chain.from_iterable(meshed_examples_funcs.values()))\n",
    "# all_funcs.extend(get_module_box('opus.mboxes.wf_to_fvs').values())\n",
    "\n",
    "all_funcs\n",
    "\n",
    "dot_paths = list(map(obj_to_dotpath, all_funcs))\n",
    "dag = DAG(all_funcs)\n",
    "\n",
    "from functools import partial\n",
    "from meshed.makers import jdict_to_fnode, fnode_to_jdict, jdict_to_dag, dag_to_jdict\n",
    "from py2json import obj_to_dotpath, dotpath_to_obj\n",
    "\n",
    "dag_encode = partial(dag_to_jdict, func_to_jdict=obj_to_dotpath)\n",
    "dag_decode = partial(jdict_to_dag, jdict_to_func=dotpath_to_obj)\n",
    "\n",
    "dag_decoded = dag_decode(dag_encode(dag))"
   ]
  },
  {
   "cell_type": "code",
   "execution_count": 250,
   "metadata": {},
   "outputs": [],
   "source": [
    "from i2 import name_of_obj\n",
    "\n",
    "key_of_obj = name_of_obj\n",
    "\n",
    "store = {key_of_obj(func): func for func in all_funcs}\n",
    "\n"
   ]
  },
  {
   "cell_type": "code",
   "execution_count": 257,
   "metadata": {},
   "outputs": [
    {
     "ename": "AttributeError",
     "evalue": "'function' object has no attribute 'name'",
     "output_type": "error",
     "traceback": [
      "\u001b[0;31m---------------------------------------------------------------------------\u001b[0m",
      "\u001b[0;31mAttributeError\u001b[0m                            Traceback (most recent call last)",
      "Cell \u001b[0;32mIn[257], line 9\u001b[0m\n\u001b[1;32m      7\u001b[0m dag \u001b[39m=\u001b[39m DAG(all_funcs, name\u001b[39m=\u001b[39m\u001b[39m'\u001b[39m\u001b[39mmy_dag\u001b[39m\u001b[39m'\u001b[39m)\n\u001b[1;32m      8\u001b[0m \u001b[39m# dag_decoded = dag_decode(dag_encode(dag))\u001b[39;00m\n\u001b[0;32m----> 9\u001b[0m dag_encode(dag)\n",
      "File \u001b[0;32m~/Dropbox/py/proj/i/meshed/meshed/makers.py:755\u001b[0m, in \u001b[0;36mdag_to_jdict\u001b[0;34m(dag, func_to_jdict)\u001b[0m\n\u001b[1;32m    749\u001b[0m \u001b[39m\"\"\"\u001b[39;00m\n\u001b[1;32m    750\u001b[0m \u001b[39mWill produce a json-serializable dictionary from a dag.\u001b[39;00m\n\u001b[1;32m    751\u001b[0m \u001b[39m\"\"\"\u001b[39;00m\n\u001b[1;32m    752\u001b[0m fnode_to_jdict_ \u001b[39m=\u001b[39m partial(fnode_to_jdict, func_to_jdict\u001b[39m=\u001b[39mfunc_to_jdict)\n\u001b[1;32m    753\u001b[0m \u001b[39mreturn\u001b[39;00m {\n\u001b[1;32m    754\u001b[0m     \u001b[39m'\u001b[39m\u001b[39mname\u001b[39m\u001b[39m'\u001b[39m: dag\u001b[39m.\u001b[39mname,\n\u001b[0;32m--> 755\u001b[0m     \u001b[39m'\u001b[39m\u001b[39mfunc_nodes\u001b[39m\u001b[39m'\u001b[39m: \u001b[39mlist\u001b[39;49m(\u001b[39mmap\u001b[39;49m(fnode_to_jdict_, dag\u001b[39m.\u001b[39;49mfunc_nodes)),\n\u001b[1;32m    756\u001b[0m }\n",
      "File \u001b[0;32m~/Dropbox/py/proj/i/meshed/meshed/makers.py:731\u001b[0m, in \u001b[0;36mfnode_to_jdict\u001b[0;34m(fnode, func_to_jdict)\u001b[0m\n\u001b[1;32m    724\u001b[0m jdict \u001b[39m=\u001b[39m {\n\u001b[1;32m    725\u001b[0m     \u001b[39m'\u001b[39m\u001b[39mname\u001b[39m\u001b[39m'\u001b[39m: fnode\u001b[39m.\u001b[39mname,\n\u001b[1;32m    726\u001b[0m     \u001b[39m'\u001b[39m\u001b[39mfunc_label\u001b[39m\u001b[39m'\u001b[39m: fnode\u001b[39m.\u001b[39mfunc_label,\n\u001b[1;32m    727\u001b[0m     \u001b[39m'\u001b[39m\u001b[39mbind\u001b[39m\u001b[39m'\u001b[39m: fnode\u001b[39m.\u001b[39mbind,\n\u001b[1;32m    728\u001b[0m     \u001b[39m'\u001b[39m\u001b[39mout\u001b[39m\u001b[39m'\u001b[39m: fnode\u001b[39m.\u001b[39mout,\n\u001b[1;32m    729\u001b[0m }\n\u001b[1;32m    730\u001b[0m \u001b[39mif\u001b[39;00m func_to_jdict \u001b[39mis\u001b[39;00m \u001b[39mnot\u001b[39;00m \u001b[39mNone\u001b[39;00m:\n\u001b[0;32m--> 731\u001b[0m     jdict[\u001b[39m'\u001b[39m\u001b[39mfunc\u001b[39m\u001b[39m'\u001b[39m] \u001b[39m=\u001b[39m func_to_jdict(fnode\u001b[39m.\u001b[39;49mfunc)\n\u001b[1;32m    732\u001b[0m \u001b[39mreturn\u001b[39;00m jdict\n",
      "File \u001b[0;32m~/Dropbox/py/proj/i/meshed/meshed/makers.py:754\u001b[0m, in \u001b[0;36mdag_to_jdict\u001b[0;34m(dag, func_to_jdict)\u001b[0m\n\u001b[1;32m    749\u001b[0m \u001b[39m\"\"\"\u001b[39;00m\n\u001b[1;32m    750\u001b[0m \u001b[39mWill produce a json-serializable dictionary from a dag.\u001b[39;00m\n\u001b[1;32m    751\u001b[0m \u001b[39m\"\"\"\u001b[39;00m\n\u001b[1;32m    752\u001b[0m fnode_to_jdict_ \u001b[39m=\u001b[39m partial(fnode_to_jdict, func_to_jdict\u001b[39m=\u001b[39mfunc_to_jdict)\n\u001b[1;32m    753\u001b[0m \u001b[39mreturn\u001b[39;00m {\n\u001b[0;32m--> 754\u001b[0m     \u001b[39m'\u001b[39m\u001b[39mname\u001b[39m\u001b[39m'\u001b[39m: dag\u001b[39m.\u001b[39;49mname,\n\u001b[1;32m    755\u001b[0m     \u001b[39m'\u001b[39m\u001b[39mfunc_nodes\u001b[39m\u001b[39m'\u001b[39m: \u001b[39mlist\u001b[39m(\u001b[39mmap\u001b[39m(fnode_to_jdict_, dag\u001b[39m.\u001b[39mfunc_nodes)),\n\u001b[1;32m    756\u001b[0m }\n",
      "\u001b[0;31mAttributeError\u001b[0m: 'function' object has no attribute 'name'"
     ]
    },
    {
     "name": "stdout",
     "output_type": "stream",
     "text": [
      "> \u001b[0;32m/Users/thorwhalen/Dropbox/py/proj/i/meshed/meshed/makers.py\u001b[0m(754)\u001b[0;36mdag_to_jdict\u001b[0;34m()\u001b[0m\n",
      "\u001b[0;32m    752 \u001b[0;31m    \u001b[0mfnode_to_jdict_\u001b[0m \u001b[0;34m=\u001b[0m \u001b[0mpartial\u001b[0m\u001b[0;34m(\u001b[0m\u001b[0mfnode_to_jdict\u001b[0m\u001b[0;34m,\u001b[0m \u001b[0mfunc_to_jdict\u001b[0m\u001b[0;34m=\u001b[0m\u001b[0mfunc_to_jdict\u001b[0m\u001b[0;34m)\u001b[0m\u001b[0;34m\u001b[0m\u001b[0;34m\u001b[0m\u001b[0m\n",
      "\u001b[0m\u001b[0;32m    753 \u001b[0;31m    return {\n",
      "\u001b[0m\u001b[0;32m--> 754 \u001b[0;31m        \u001b[0;34m'name'\u001b[0m\u001b[0;34m:\u001b[0m \u001b[0mdag\u001b[0m\u001b[0;34m.\u001b[0m\u001b[0mname\u001b[0m\u001b[0;34m,\u001b[0m\u001b[0;34m\u001b[0m\u001b[0;34m\u001b[0m\u001b[0m\n",
      "\u001b[0m\u001b[0;32m    755 \u001b[0;31m        \u001b[0;34m'func_nodes'\u001b[0m\u001b[0;34m:\u001b[0m \u001b[0mlist\u001b[0m\u001b[0;34m(\u001b[0m\u001b[0mmap\u001b[0m\u001b[0;34m(\u001b[0m\u001b[0mfnode_to_jdict_\u001b[0m\u001b[0;34m,\u001b[0m \u001b[0mdag\u001b[0m\u001b[0;34m.\u001b[0m\u001b[0mfunc_nodes\u001b[0m\u001b[0;34m)\u001b[0m\u001b[0;34m)\u001b[0m\u001b[0;34m,\u001b[0m\u001b[0;34m\u001b[0m\u001b[0;34m\u001b[0m\u001b[0m\n",
      "\u001b[0m\u001b[0;32m    756 \u001b[0;31m    }\n",
      "\u001b[0m\n"
     ]
    },
    {
     "name": "stdout",
     "output_type": "stream",
     "text": [
      "> \u001b[0;32m/Users/thorwhalen/Dropbox/py/proj/i/meshed/meshed/makers.py\u001b[0m(731)\u001b[0;36mfnode_to_jdict\u001b[0;34m()\u001b[0m\n",
      "\u001b[0;32m    729 \u001b[0;31m    }\n",
      "\u001b[0m\u001b[0;32m    730 \u001b[0;31m    \u001b[0;32mif\u001b[0m \u001b[0mfunc_to_jdict\u001b[0m \u001b[0;32mis\u001b[0m \u001b[0;32mnot\u001b[0m \u001b[0;32mNone\u001b[0m\u001b[0;34m:\u001b[0m\u001b[0;34m\u001b[0m\u001b[0;34m\u001b[0m\u001b[0m\n",
      "\u001b[0m\u001b[0;32m--> 731 \u001b[0;31m        \u001b[0mjdict\u001b[0m\u001b[0;34m[\u001b[0m\u001b[0;34m'func'\u001b[0m\u001b[0;34m]\u001b[0m \u001b[0;34m=\u001b[0m \u001b[0mfunc_to_jdict\u001b[0m\u001b[0;34m(\u001b[0m\u001b[0mfnode\u001b[0m\u001b[0;34m.\u001b[0m\u001b[0mfunc\u001b[0m\u001b[0;34m)\u001b[0m\u001b[0;34m\u001b[0m\u001b[0;34m\u001b[0m\u001b[0m\n",
      "\u001b[0m\u001b[0;32m    732 \u001b[0;31m    \u001b[0;32mreturn\u001b[0m \u001b[0mjdict\u001b[0m\u001b[0;34m\u001b[0m\u001b[0;34m\u001b[0m\u001b[0m\n",
      "\u001b[0m\u001b[0;32m    733 \u001b[0;31m\u001b[0;34m\u001b[0m\u001b[0m\n",
      "\u001b[0m\n",
      "fnode = FuncNode(impressions,cost_per_impression -> cost_ -> cost)\n",
      "func_to_jdict = functools.partial(<function dag_to_jdict at 0x29e1a6dd0>, func_to_jdict=<function name_of_obj at 0x1217b5a20>)\n"
     ]
    }
   ],
   "source": [
    "func_to_jdict_w_store = partial(dag_to_jdict, func_to_jdict=key_of_obj)\n",
    "jdict_to_func_w_store = partial(jdict_to_dag, jdict_to_func=lambda func_name: store[func_name])\n",
    "\n",
    "dag_encode = partial(dag_to_jdict, func_to_jdict=func_to_jdict_w_store)\n",
    "dag_decode = partial(jdict_to_dag, jdict_to_func=jdict_to_func_w_store)\n",
    "\n",
    "dag = DAG(all_funcs, name='my_dag')\n",
    "# dag_decoded = dag_decode(dag_encode(dag))\n",
    "dag_encode(dag)"
   ]
  },
  {
   "cell_type": "code",
   "execution_count": 256,
   "metadata": {},
   "outputs": [
    {
     "name": "stdout",
     "output_type": "stream",
     "text": [
      "Automatic pdb calling has been turned ON\n"
     ]
    }
   ],
   "source": [
    "%pdb"
   ]
  },
  {
   "cell_type": "code",
   "execution_count": 225,
   "metadata": {},
   "outputs": [
    {
     "data": {
      "text/plain": [
       "DAG(func_nodes=[FuncNode(impressions,cost_per_impression -> cost_ -> cost), FuncNode(impressions,click_per_impression -> clicks_ -> clicks), FuncNode(clicks,sales_per_click -> sales_ -> sales)], name=None)"
      ]
     },
     "execution_count": 225,
     "metadata": {},
     "output_type": "execute_result"
    }
   ],
   "source": []
  },
  {
   "cell_type": "code",
   "execution_count": 198,
   "metadata": {},
   "outputs": [
    {
     "data": {
      "text/plain": [
       "module"
      ]
     },
     "execution_count": 198,
     "metadata": {},
     "output_type": "execute_result"
    }
   ],
   "source": [
    "from types import ModuleType\n",
    "isinstance(dotpath_to_obj('meshed.examples'), ModuleType)\n"
   ]
  },
  {
   "cell_type": "code",
   "execution_count": 199,
   "metadata": {},
   "outputs": [
    {
     "data": {
      "text/plain": [
       "['meshed.examples.online_marketing.cost',\n",
       " 'meshed.examples.online_marketing.clicks',\n",
       " 'meshed.examples.online_marketing.sales',\n",
       " 'meshed.examples.online_marketing.revenue',\n",
       " 'meshed.examples.online_marketing.profit',\n",
       " 'meshed.examples.vaccine_vs_no_vaccine.r',\n",
       " 'meshed.examples.vaccine_vs_no_vaccine.infected',\n",
       " 'meshed.examples.vaccine_vs_no_vaccine.die',\n",
       " 'meshed.examples.vaccine_vs_no_vaccine.death_toll',\n",
       " 'meshed.examples.price_elasticity.profit',\n",
       " 'meshed.examples.price_elasticity.revenue',\n",
       " 'meshed.examples.price_elasticity.expense',\n",
       " 'meshed.examples.price_elasticity.sold']"
      ]
     },
     "execution_count": 199,
     "metadata": {},
     "output_type": "execute_result"
    }
   ],
   "source": [
    "t"
   ]
  },
  {
   "cell_type": "code",
   "execution_count": null,
   "metadata": {},
   "outputs": [],
   "source": []
  },
  {
   "cell_type": "code",
   "execution_count": 176,
   "metadata": {},
   "outputs": [],
   "source": [
    "# fnode = FuncNode(\n",
    "#     func=map, \n",
    "#     name='map', \n",
    "#     bind={'func': 0, 'iterable': 1},\n",
    "#     out='transformed_iterable'\n",
    "# )"
   ]
  },
  {
   "cell_type": "code",
   "execution_count": null,
   "metadata": {},
   "outputs": [],
   "source": [
    "import ps"
   ]
  },
  {
   "cell_type": "code",
   "execution_count": null,
   "metadata": {},
   "outputs": [],
   "source": []
  },
  {
   "cell_type": "code",
   "execution_count": null,
   "metadata": {},
   "outputs": [],
   "source": []
  },
  {
   "attachments": {},
   "cell_type": "markdown",
   "metadata": {},
   "source": [
    "# Scrap"
   ]
  },
  {
   "attachments": {},
   "cell_type": "markdown",
   "metadata": {},
   "source": [
    "## DATA Epic: Upload and structure data"
   ]
  },
  {
   "attachments": {},
   "cell_type": "markdown",
   "metadata": {},
   "source": [
    "```python\n",
    "from dol import Files\n",
    "\n",
    "src_folder = 'some/source/folder'\n",
    "src_store = Files(src_folder)\n",
    "\n",
    "target_store = OtoSenseStore(...)  # user separated? permissions? \n",
    "target_store.save_this_shit(src_store)\n",
    "\n",
    "# Example implementation:\n",
    "# * Copies all values of src_store to {internal_key_eg_sha256: value, ...}\n",
    "# * Write (src_filepath, internal_key_eg_sha256) in metadata place\n",
    "\n",
    "# Or more explicit...\n",
    "# target_store['my_special_place_for_this']\n",
    "```\n",
    "\n",
    "```\n",
    "target_store = OtoSenseStore(\n",
    "    secret_key=..., # taken from os.environ,\n",
    "    access_key=..., # taken from os.environ,\n",
    "    root_url=...,\n",
    "    ..., \n",
    "    custom_metadata={\n",
    "        'project_name': 'danfoss', \n",
    "        'description': 'blah blah',\n",
    "        'use_case_description_file': 'tmp/sdf/dflk/',\n",
    "    },\n",
    ")\n",
    "```\n",
    "\n",
    "\n",
    "```\n",
    "signal_store = {\n",
    "    lkjdf897298398273984792793874: bytes...\n",
    "}\n",
    "\n",
    "signal_metadata_store = {\n",
    "   lkjdf897298398273984792793874: src_key (root folder path), user\n",
    "}\n",
    "```"
   ]
  },
  {
   "cell_type": "code",
   "execution_count": null,
   "metadata": {},
   "outputs": [],
   "source": []
  },
  {
   "cell_type": "code",
   "execution_count": 268,
   "metadata": {},
   "outputs": [
    {
     "data": {
      "text/plain": [
       "b'\\x89PNG\\r\\n\\x1a\\n\\x00\\x00\\x00\\rIHDR\\x00\\x00\\x00n\\x00\\x00\\x020\\x08\\x06\\x00\\x00\\x00g@^U\\x00\\x00\\x16\\xa3IDATx^\\xed\\x9d\\x07\\x90\\x14U\\xd7\\x86]\\xe2\\x02\\x92\\x11IU~\"\\x82\\x08*\\x82@\\x11E\\x05\\x04\\x04\\x17\\x91\"g\\x04\\x04I\\x92)\\x94(\\xa9H\"A\\x89R\\x05\\x08\\xa2\\xb0PdX\\x82$\\xc9a%JF\\xc2\\x12\\x97\\x1c\\x84\\xe5\\xfcun\\xd5\\xf0\\xc3\\x9d\\x8f\\x91\\xdf\\xfdwf\\xdf\\xdb\\xefSu\\n\\xbb\\xefm\\x17\\xe6\\xd9\\xee\\xe9\\xe9\\xb9\\xe7\\x9c\\xe7\\x84@\\xf2\\x9c\\xbd\\x83`@q\\xa0P\\x1c(\\x14\\x07\\n\\xc5\\x81Bq\\xa0P\\x1c(\\x14\\x07\\n\\xc5\\x81Bq\\xa0P\\x1c(\\x14\\x07\\n\\xc5\\x81Bq\\xa0P\\x1c(\\x14\\x07\\n\\xc5\\x81Bq\\xa0@\\x8b;z\\xf4\\xa8DEE\\xc9\\xae]\\xbb$..\\xce\\x1ev\\x1aHq*i\\xf0\\xe0\\xc1R\\xbati\\x19>|\\xb8T\\xacXQ\\x1a5j$\\xf7\\xee\\xdd\\xb3\\xa7:\\x0b\\xa4\\xb8S\\xa7N\\xc9s\\xcf=\\'\\xad[\\xb76\\xdbK\\x96,1\\xdb\\xbf\\xff\\xfe\\xbb5\\xd3] \\xc5\\xdd\\xb9sGF\\x8f\\x1em.\\x91\\xe7\\xcf\\x9f\\x97\\xfe\\xfd\\xfbKXX\\x98DFF\\xdaS\\x9d\\x05R\\x9c\\xa2\\xf2\\x86\\x0c\\x19\"M\\x9a4\\x91\\x96-[J\\xb2d\\xc9d\\xee\\xdc\\xb9\\xf64g\\x81\\x14w\\xf9\\xf2e\\xf3\\xfe\\xa6\\xefm\\xb1\\xb1\\xb1\\xb2q\\xe3FI\\x9a4)\\xc5%vf\\xce\\x9ci\\xde\\xd3\\xe6\\xcf\\x9fo\\xb6\\x17-Zd.\\x95\\x0b\\x16,\\xb0f\\xba\\x0b\\xa4\\xb8\\x9f\\x7f\\xfe\\xd9\\x88+Q\\xa2\\x84\\xb9\\xbb\\xfc\\xe8\\xa3\\x8f\\xccv\\xf5\\xea\\xd5e\\xf9\\xf2\\xe5\\xf6t\\'\\x81\\x14w\\xeb\\xd6-\\xe9\\xd0\\xa1\\x83\\x14-ZTZ\\xb4h!{\\xf7\\xee\\x95\\xe6\\xcd\\x9b\\x1bq\\xd1\\xd1\\xd1\\xf6t\\'\\x81\\x14\\xe7\\xe3\\xe1\\xc3\\x87\\xf6.\\xcf\\x00-\\xce\\xcbP\\x1c(\\x14\\x07\\n\\xc5\\x81Bq\\xa0P\\x1c(\\x14\\x07\\n\\xc5\\x81Bq\\xa0P\\x1c(\\x14\\x07\\n\\xc5\\x81Bq\\xa0P\\x1c(\\x14\\x07\\n\\xb48\\xfd>N\\xd7\\x9f\\xdc\\xbcy\\xd3\\x1er\\x1ehq\\xfaMx\\x81\\x02\\x05d\\xe0\\xc0\\x81\\xf6\\x90\\xf3@\\x8b\\xbbq\\xe3\\x86Y\\xdd\\xd5\\xae];{\\xc8y\\xa0\\xc5\\xe9\\x19\\x975kV\\xe9\\xd5\\xab\\x97=\\xe4<\\xd0\\xe2\\xfe\\xfe\\xfbo)V\\xac\\x98\\x8c\\x193\\xc6\\x1er\\x1exq\\xef\\xbc\\xf3\\x8e|\\xf7\\xddw\\xf6\\x90\\xf3P\\x1c(\\x14\\x07\\n\\xc5\\x81Bq\\xa0P\\x1c(\\x14\\x07\\n\\xc5\\x81Bq\\xa0P\\x1c(\\x14\\x07\\n\\xc5\\x81Bq\\xa0P\\x1c(\\x14\\x07\\n\\xc5\\x81Bq\\xa0P\\x1c(\\x14\\x07\\n\\xc5\\x81Bq\\xa0P\\x1c(\\x14\\x07\\n\\xbc8-\\xc4Fq`\\xdc\\xbe}[2f\\xcc(=z\\xf4\\xb0\\x87\\x9c\\x07J\\x9c\\x9eaZ\\xd2\\xf7\\xee\\xdd\\xbb&.]\\xba$)S\\xa64\\xb9\\x03\\x0f\\x1e<0\\xfbt\\xfc\\xfe\\xfd\\xfb\\xf6\\xa1\\xce\\x01%N\\xfb\\x0c\\xbc\\xfd\\xf6\\xdb\\xf2\\xfa\\xeb\\xaf\\x9bx\\xed\\xb5\\xd7Le\\xd8L\\x992I\\xc1\\x82\\x05\\xcd\\xbe\\xfc\\xf9\\xf3K\\x97.]\\xecC\\x9d\\x03J\\x9c\\xf6\\x15\\xd0Z\\xccZ\\r6PL\\x9d:\\xd5>\\xd49\\xa0\\xc4)#F\\x8c\\xf0\\x13\\xf5xd\\xcb\\x96M.^\\xbch\\x1f\\xe6\\x1cp\\xe2\\x0e\\x1e<(\\xa9S\\xa7\\xf6\\x13\\xe6\\x8b\\x86\\r\\x1b\\xda\\x878\\t\\x9c8\\xbd\\xf1\\xa8T\\xa9\\x92\\x9f0\\r}\\xbf\\x9b3g\\x8e}\\x88\\x93\\xc0\\x89Sf\\xcf\\x9e\\xed\\'\\xcdw\\x99\\xbcr\\xe5\\x8a=\\xddI \\xc5i[\\x96\\xec\\xd9\\xb3\\xfb\\x89k\\xd5\\xaa\\x95=\\xd5Y \\xc5)\\xf5\\xeb\\xd7\\x7fB\\x9a\\xe6\\x82\\xaf]\\xbb\\xd6\\x9e\\xe6,\\xb0\\xe2\\xe6\\xcd\\x9bg\\xde\\xd3|\\xe2\\xf4s\\x9c>I\\xf1\\n\\xb0\\xe2\\xf4\\x96?G\\x8e\\x1c\\x8f\\xc4u\\xed\\xda\\xd5\\x9e\\xe24\\xb0\\xe2\\x94\\xa6M\\x9b\\x1ai\\xc9\\x93\\'\\x97m\\xdb\\xb6\\xd9\\xc3N\\x03-n\\xf1\\xe2\\xc5\\xe6r\\xa9\\xdf\\x10x\\xad\\xebG\\xbc\\xc4\\x1d:t\\xc8|\\xa6*Y\\xb2dHB\\x85\\xe9\\x19\\xa7\\xcf*\\xf5Q\\x98=\\x1e\\x8c(U\\xaa\\x94\\xf4\\xee\\xdd\\xdb~i\\x12\\x9cx\\x89\\xdb\\xb9s\\xa7d\\xce\\x9cY:w\\xeel\\xbaJ\\r\\x1a4(\\xa8\\xa1\\x8d\\xff*T\\xa8 \\x9d:u\\n\\xd9\\xcfWy\\xda\\x8c)\\xd8\\xc4K\\x9c\\xb6\\xba\\xcc\\x993\\xa7\\x1c?~\\xdc\\x1e\\n\\x1a\\xda/5\\x94\\x97I\\xfd\\xa5\\x81\\x15\\xa7\\xcf\\x0f\\xbdJ\\xfb\\xf6\\xed)\\x0e\\x11\\x8a\\x03\\x85\\xe2@\\xa18P(\\x0e\\x14\\x8a\\x03\\x85\\xe2@\\xa18P(\\x0e\\x14\\x8a\\x03\\x85\\xe2\\xfe\\x0fh\\xd9\\xfa\\x0b\\x17.\\xd8\\xbbC\\x02\\xc5=#s\\xe7\\xce\\x95Z\\xb5j\\x99\\xafq\\xca\\x95+g\\x96\\xa5\\x87\\x12\\x8a{\\x06T\\x92.\\xc1\\xdb\\xb1c\\x87Y\\x18\\xa4y\\x04[\\xb6l\\xb1\\xa7\\x05\\x15\\x8a{\\x06\\xa6L\\x99b\\x96)\\\\\\xbdz\\xd5lkfN\\xa8\\xa1\\xb8\\x00\\xc4\\xc5\\xc5Itt\\xb4Y7\\x99$I\\x12Y\\xb9r\\xa5\\xec\\xd9\\xb3\\xc7\\xec\\x0f5\\x14\\x17\\x00\\xcd\\x8b\\xeb\\xde\\xbd\\xbb\\xb94\\xeaR\\x85F\\x8d\\x1aI\\x87\\x0e\\x1d$66\\xd6\\x9e\\x1at(\\xee\\x19\\xe8\\xd3\\xa7\\x8f\\x11\\xe7\\xbbT&\\x06(\\xee\\x19\\xd0\\xe6G*.&&\\xc6\\x1e\\n\\x19\\x14\\xf7\\x0cP\\xdc\\xffBq\\xf1\\x84\\xe2\\x9e\\x81\\xaf\\xbe\\xfa\\xca\\x88K,OM\\x14\\x8a\\xfb\\x07\\xae]\\xbb&\\xd5\\xaaU3\\xe2\\xa2\\xa2\\xa2\\xcc\\x9dfb\\x80\\xe2\\x02\\xa0Y\\xa8\\xdf~\\xfb\\xadI\\x13\\xaeS\\xa7\\x8ey\\xb1\\x96/_nO\\x0b\\t\\x14\\xf7/\\xd8\\xbe}\\xbbI\\x1d\\xd6\\xe7\\x97v\\xfc\\xf2\\xcb/\\xb2j\\xd5\\xaa\\x04\\xff\\x90Nq\\xff\\x82a\\xc3\\x86I\\xf9\\xf2\\xe5\\xa5b\\xc5\\x8a~\\xa1K\\xd3\\xdb\\xb6m\\x9b\\xe0\\x97T\\x8a\\x03\\x85\\xe2@\\xa18P(\\x0e\\x14\\x8a\\x03\\x85\\xe2@\\xa18P(\\x0e\\x14\\x8a\\x03\\x85\\xe2@\\xa18P(\\x0e\\x14\\x8a\\x03\\x05V\\\\\\xae\\\\\\xb9\\xe4\\xc8\\x91#\\xf6\\x90g\\xe8\\xd8\\xb1#\\x9e8\\xad,\\x946mZ\\x89\\x88\\x880_r6h\\xd0 \\xa8\\xa1?\\xb3e\\xcb\\x96\\xd2\\xacY3\\xbf\\xb1`D\\xe3\\xc6\\x8d%o\\xde\\xbc\\xe6\\xdf\\x1fl\\xe2%\\xee\\xe4\\xc9\\x93\\xa6Y\\x83\\xfe\\x03B\\x11\\xf5\\xea\\xd53K\\x19\\xb4\\xff\\x80=\\x16\\xach\\xd2\\xa4\\x89L\\x980\\xc1~i\\x12\\x9cx\\x89\\x0b5Z\\n*U\\xaaT\\xd2\\xad[7{\\xc8y\\xa0\\xc5i\\x9e\\x9c\\x8a\\xfb\\xf2\\xcb/\\xed!\\xe7\\x81\\x16\\xa7\\x9d?\\xde|\\xf3M\\xd3D\\xc2k@\\x8b\\xf3\\xb5!\\x1b3f\\x8c=\\xe4<\\xf0\\xe2\\xd8\\xf8\\x0f\\x10\\x8a\\x03\\x85\\xe2@\\xa18P(\\x0e\\x14\\x8a\\x03\\x85\\xe2@\\xa18P(\\x0e\\x14\\x8a\\x03\\x85\\xe2@\\xa18P(\\x0e\\x14\\x8a\\x03\\x85\\xe2@\\xa18P(\\x0e\\x14\\x8a\\x03\\x85\\xe2@\\xa18P(\\x0e\\x14\\x8a\\x03E\\xc5\\x15+V\\x8c\\xcb\\xf3\\xd0\\xb8{\\xf7\\xae\\xe4\\xc9\\x93\\xc7\\xb4v\\xf6\\x1a\\xf0\\xe2R\\xa6LiZ:{\\r(q\\x7f\\xfd\\xf5\\x97\\x91\\xa4\\xa5\\xeb5\\xda\\xb4i#\\xc9\\x92%3e\\xed}\\xfb5\\xd1p\\xdc\\xb8q!\\xed\\r\\x1e\\x0c\\xa0\\xc4]\\xb9r\\xc5d\\xc0jjU\\xa0\\xd0\\x12\\xc0\\xae\\x03%N\\x190`\\x80\\x9f\\xa8\\xc7#<<\\\\\\x0e\\x1d:d\\x1f\\xe6\\x1cp\\xe2\\xb45\\x8b\\xca\\xb1\\x85\\xf9\\xe2\\x83\\x0f>\\x90\\x07\\x0f\\x1e\\xd8\\x879\\x07\\x9c8\\x95\\xa2-\\xc8la\\xbe\\x189r\\xa4}\\x88\\x93\\xc0\\x89S\\x86\\x0f\\x1f\\xee\\'L#K\\x96,r\\xfa\\xf4i{\\xba\\x93@\\x8a\\xdb\\xbf\\x7f\\xbf\\xa4N\\x9d\\xdaO\\\\\\xcd\\x9a5\\xed\\xa9\\xce\\x02)N/\\x97\\xda\\xad\\xd1\\x167{\\xf6l{\\xaa\\xb3@\\x8aS\\xf4\\xbd\\xecqi\\xda\\xc9\\xf1\\xec\\xd9\\xb3\\xf64g\\x81\\x15w\\xf8\\xf0aI\\x93&\\xcd#q\\xf5\\xea\\xd5\\xb3\\xa78\\r\\xac8\\xed\\xfe\\xa1\\xbd\\x05TZXX\\x98DFF\\xdaS\\x9c\\x06V\\x9c2v\\xecX#N\\x9f\\xa6$\\xa6f\\x80\\xc1\\x00Z\\x9c\\xde\\xfa\\xa7O\\x9f\\xde\\x94g\\xf2\\x1a\\xd0\\xe2\\x14-\\xc9\\xa4}t\\xbc\\x06\\xbc\\xb8}\\xfb\\xf6\\x99\\nC^\\x03^\\x9cW\\xa18P(\\x0e\\x14\\x8a\\x03\\x85\\xe2@\\xa18P(\\x0e\\x14\\x8a\\x03\\x85\\xe2@\\xa18P(\\x0e\\x14\\x8a\\x03\\x05^\\x9c\\xe6\\x0fL\\x9f>]z\\xf5\\xea%\\x93&M\\x92\\xf3\\xe7\\xcf\\xdbS\\x9c\\x04Z\\x9c\\xe6\\x07ho\\x9b\\xa6M\\x9b\\xca\\xf8\\xf1\\xe3\\xcd\\x97\\xaa\\xfd\\xfa\\xf5\\xb3\\xa79\\t\\xb4\\xb8S\\xa7NI\\x86\\x0c\\x19d\\xf1\\xe2\\xc5f;**J\\x8e\\x1f?\\xfe\\xe4$G\\x81\\x16\\xa7\\xa24[g\\xc5\\x8a\\x15\\xf6\\x90\\xf3\\xc0\\x8a\\x9b8q\\xa2\\xbc\\xf7\\xde{\\xe6\\xf2X\\xb1bEi\\xd1\\xa2\\x85\\xc9+\\xf0\\n\\xb0\\xe2\\xce\\x9d;g\\xf2\\xe0T\\x9c\\xde\\x94\\xfc\\xf9\\xe7\\x9f\\x9e\\xfa&\\x1cV\\x9c\\xb2`\\xc1\\x02#n\\xd9\\xb2e\\xf6\\x90\\xf3@\\x8b\\x9b7o\\x9e\\x11\\xe7\\xbb9\\xf1\\x12\\x14\\x07\\n\\xb48]\\xbd\\xac\\xe2\\x96,Yb\\x0f9\\x0f\\xb4\\xb8Y\\xb3f\\x19qz\\xe6y\\rXqk\\xd7\\xae5\\xb9\\x03Z.C?\\x0e\\xe8Y\\xe7z\\xa5\\x85\\xc7\\x81\\x15w\\xe6\\xcc\\x199v\\xec\\x98Y\\x86\\xae\\x7fj\\xa3]/\\x01+\\xce\\xebP\\x1c(\\x14\\x07\\n\\xc5\\x81Bq\\xa0P\\x1c(\\x14\\x07\\n\\xc5\\x81Bq\\xa0P\\x1c(\\x14\\x07\\n\\xc5\\x81Bq\\xa0P\\x1c(\\x14\\x07\\n\\xc5\\x81\\x02-N+\\xe8\\xfd\\xf4\\xd3O\\xb2m\\xdb6{\\xc8y\\xa0\\xc5\\xe9\\x02\\xd8$I\\x92H\\xbbv\\xed\\xec!\\xe7\\x81\\x17\\xa7\\xb5\\x99\\xd9\\xa2\\x05\\x8c{\\xf7\\xeeI\\xa1B\\x85d\\xd4\\xa8Q\\xf6\\x90\\xf3@\\x8b\\xd36dE\\x8b\\x16e\\xff84\\xd8\\xf8\\x0f\\x14\\x8a\\x03\\x85\\xe2@\\xa18P(\\x0e\\x14\\x8a\\x03\\x85\\xe2@\\xa18P(\\x0e\\x14\\x8a\\x03\\x85\\xe2@\\xa18P(\\x0e\\x14\\x8a\\x03\\x85\\xe2@\\xa18P(\\x0e\\x14\\x8a\\x03\\x85\\xe2@\\xa18P(\\x0e\\x14\\x8a\\x03E\\xc5\\x15+V\\xcc\\xf4\\x03\\xf7\\x1a\\xd0\\xe2\\xee\\xdc\\xb9#/\\xbf\\xfc\\xb2\\x0c\\x180\\xc0\\x1er\\x1ehqz\\xc6i\\xd9\\xc3\\xce\\x9d;\\xdbC\\xce\\x03%.66V\\x16-Z$\\x0b\\x17.4\\xa1\\x8d\\xdbS\\xa4H!\\x11\\x11\\x11\\xa6\\xbc\\xaf\\xee\\xd3\\x02\\xdb\\x1b6lp\\xbev%\\x948\\xed\\x9b\\xf3\\xd2K/\\x99\\xaa\\xb0\\x81B{\\x10\\xb8\\x0e\\x948\\xa5U\\xabV~\\xa2\\x1e\\x8f\\xa4I\\x93\\xca\\xaaU\\xab\\xec\\xc3\\x9c\\x03N\\x9c\\xb6cQ9\\xb60_\\x14/^\\xdc$<\\xba\\x0e\\x9c\\xb8k\\xd7\\xaeI\\xee\\xdc\\xb9\\xfd\\x84\\xf9\\xc2+w\\x98p\\xe2\\x94\\xf6\\xed\\xdb\\xfb\\t\\xd3\\x08\\x0f\\x0f\\x97\\xdd\\xbbw\\xdb\\xd3\\x9d\\x04R\\xdc\\xea\\xd5\\xabM\\x17+[\\\\\\x992e<q\\x99T \\xc5]\\xbf~]\\xf2\\xe4\\xc9\\xe3\\'n\\xf0\\xe0\\xc1\\xf6Tg\\x81\\x14\\xa7t\\xed\\xda\\xd5\\xef2\\xb9o\\xdf>{\\x9a\\xb3\\xc0\\x8a\\xdb\\xb8q\\xa3\\xf9\\xf0\\xed\\x13\\xf7\\xfe\\xfb\\xefK\\\\\\\\\\x9c=\\xcdY`\\xc5=x\\xf0@\\xde}\\xf7\\xddG\\xe2\\x86\\r\\x1bfOq\\x1aXq\\x8a~+\\xa0\\xd2\\xd2\\xa6M+111\\xf6\\xb0\\xd3\\xc4K\\xdc\\xd5\\xabWe\\xf3\\xe6\\xcd!\\x8bi\\xd3\\xa6\\x19q\\xfa\\xd5\\x8e=\\x16\\xcc\\xd8\\xbbw\\xaf\\xfd\\xd2$8\\xf1\\x12\\xa7\\x9f\\x992g\\xce,\\x992e\\x92,Y\\xb2\\x04=\\xb2f\\xcdj\\x9e\\xa2\\xa4K\\x97N^x\\xe1\\x05\\xbf\\xf1`\\xc4\\xf3\\xcf?/u\\xeb\\xd6\\xb5_\\x9a\\x04\\'^\\xe2v\\xed\\xda%\\xd9\\xb3g\\x97M\\x9b6\\xc9\\xc5\\x8b\\x17\\xe5\\xc2\\x85\\x0bA\\r\\xfd\\x993f\\xcc0\\xbf@\\xa1\\xfa\\xf9\\x9f}\\xf6\\x99T\\xaf^\\xdd~i\\x12\\x9cx\\x8b\\xcb\\x993\\xa7i,\\xebU:t\\xe8\\x80+\\xee\\xe0\\xc1\\x83\\xf6\\x90g\\xd0\\xc7o\\x14\\x07\\x08\\xc5\\x81Bq\\xa0P\\x1c(\\x14\\x07\\n\\xc5\\x81Bq\\xa0P\\x1c(\\x14\\x07\\n\\xc5\\x81Bq\\xa0P\\x1c(\\x14\\x07\\n\\xc5\\x81Bq\\xff\\x80\\xe6\\xc2-[\\xb6L&M\\x9a$k\\xd6\\xac1\\x99;7o\\xde4\\xfbC\\t\\xc5\\x05\\xe0\\xd6\\xad[R\\xabV-\\xa9]\\xbb\\xb6Y \\x94+W.\\xc9\\x981\\xa3\\x94-[V\\x96,YbO\\x0f*\\x14\\x17\\x80Y\\xb3f\\x99EA\\xfb\\xf7\\xef7\\xdb\\x9a\\xd8\\xa1\\xdb\\x91\\x91\\x91r\\xf7\\xee]kvp\\xa1\\xb8\\x00\\x0c\\x1c8\\xd0\\x88\\xda\\xb3g\\x8f\\xd9\\x8e\\x8a\\x8a\\x92\\xb0\\xb00\\x993g\\x8e53\\xf8P\\\\\\x00TT\\xf2\\xe4\\xc9\\xa5m\\xdb\\xb6\\xe6=m\\xfa\\xf4\\xe9f\\x91\\xd2\\x89\\x13\\'\\xec\\xa9A\\x87\\xe2\\xfe\\x01]\\xa9\\xacK\\x01\\x9b5kfR\\x85\\xd7\\xae]kO\\t\\t\\x14\\x17\\x80S\\xa7NI\\xe5\\xca\\x95MR\\xbe.\\x8b\\x0b\\xf5\\x9d\\xe4\\xe3P\\\\\\x00\\xb4\\xba\\x82\\xbe\\xc7\\xe5\\xcf\\x9f\\xdf\\xe4\\x0bT\\xacXQ\\x1a4h`.\\xa1\\xa1\\x86\\xe2\\x02p\\xe0\\xc0\\x01)\\\\\\xb8\\xb0Y|Z\\xa3F\\r\\xa9T\\xa9\\x92\\x14)RDr\\xe4\\xc8!\\'O\\x9e\\xb4\\xa7\\x07\\x15\\x8a{\\n\\x9a\\x9f\\xa0g\\xd9\\xf8\\xf1\\xe3\\xed!\\xe9\\xde\\xbd\\xbbL\\x9e<Y\\xfa\\xf7\\xef/}\\xfb\\xf6\\xfd\\xaf\\xa1c\\ty\\x13CqO\\xe1\\x8f?\\xfe0\\x97\\xc9&M\\x9a\\xc8\\x8e\\x1d;\\xcc{\\xdc\\xb1c\\xc7d\\xc4\\x88\\x11\\xe6\\x0c\\xdc\\xbau\\xab\\xe9J\\xfc\\xc5\\x17_\\xfc\\xd7\\xd0\\x17\\xf6\\xc8\\x91#\\xf6\\xff\\xf6\\xff\\r\\x8a{\\n\\x9a\\xd3=|\\xf8p\\xc9\\x96-\\x9bI.\\xd1\\x9fW\\xa2D\\t\\x936\\xac\\x8f\\xbdB\\r\\xc5\\xfd\\x03W\\xae\\\\1\\xefu\\xc7\\x8f\\x1f7\\x8f\\xc0\\x12\\x0b\\x14\\x07\\n\\xc5\\x81Bq\\xa0P\\x1c(\\x14\\x07\\n\\xc5\\x81Bq\\xa0P\\x1c(\\x14\\x07\\n\\xc5\\x81\\x02-\\x8e\\xe52\\x00\\xc5\\xe9\\xda\\x0f\\xadd\\xa7\\xc5Z\\xf4\\xa1o\\xb0\\xc3W,\\xc6\\xde\\x1f\\x8c\\x80-P\\xa3\\xab\\xaeBY\\x12J\\x7f\\xb6\\x16`\\xcb\\x90!CHKB\\xd5\\xabW\\xcf~i\\x12\\x9cx\\x89\\xd3/9\\xb7l\\xd9\\x12\\xb2\\xd0\\x15\\xcd\\xba\\xfa\\xabN\\x9d:\\xb2}\\xfbv\\xbf\\xf1`E(\\n\\x9c\\xc6K\\\\\\xa8\\xd1\\xc5\\xb0\\xda\\xa2\\xa5S\\xa7N\\xf6\\x90\\xf3@\\x8bcS$P\\xd8\\x86\\x0c\\x146\\xfe\\x03\\x85\\xe2@\\xa18P(\\x0e\\x14\\x8a\\x03\\x85\\xe2@\\xa18P(\\x0e\\x14\\x8a\\x03\\x85\\xe2@\\xa18P(\\x0e\\x14\\x8a\\x03\\x85\\xe2@\\xa18P(\\x0e\\x14\\x8a\\x03\\x85\\xe2@\\xa18P(\\x0e\\x14\\x8a\\x03\\x85\\xe2@QqE\\x8b\\x16\\xa584\\xee\\xdd\\xbb\\'\\x85\\n\\x15\\x92Q\\xa3F\\xd9C\\xce\\x03-\\xee\\xf6\\xed\\xdb\\x92&M\\x1a\\xe9\\xdc\\xb9\\xb3=\\xe4<P\\xe2\\xf4\\x0c\\xbbt\\xe9\\xd2\\xa3\\xd0\\x92\\x87\\xe1\\xe1\\xe1\\xf2\\xf9\\xe7\\x9f\\xcb\\xe5\\xcb\\x97\\xcd>M}\\x8a\\x8d\\x8d\\xb5\\x0fu\\x0e(qZ)\\xf6\\xd5W_\\x95\\xacY\\xb3>\\n-\\xaa\\x9d:ujy\\xf1\\xc5\\x17\\xcd\\xb6\\xa6^u\\xec\\xd8\\xd1>\\xd49\\xa0\\xc4\\xc5\\xc5\\xc5I\\xd5\\xaaUM\\x19\\xc4@\\xb1p\\xe1B\\xfbP\\xe7\\x80\\x12\\xa7L\\x992\\xc5\\x9ce\\xb6,_\\xbc\\xf2\\xca+\\xbcT&FN\\x9f>m2Pma\\xbeh\\xdd\\xba\\xb5}\\x88\\x93\\xc0\\x89\\xd3\\xcbe\\xcd\\x9a5\\xfd\\x84i\\xe8\\x99\\xb8t\\xe9R\\xfb\\x10\\'\\x81\\x13\\xa7h\\xc3\\x08[\\x9aF\\xde\\xbcyM\\xa3$/\\x00).&&Fr\\xe7\\xce\\xed\\'N;\\x81x\\x05HqJ\\xabV\\xad\\x9e\\x90\\x96$I\\x12Y\\xbdz\\xb5=\\xcdY`\\xc5-_\\xbe\\xfc\\x89\\xbbK\\xbdL&\\xa6Z\\xcd\\t\\r\\xac\\xb8\\xeb\\xd7\\xafK\\xbe|\\xf9\\x1e\\x89\\xd3\\xfe\\x02^\\x02V\\x9c\\xa2\\xcf(U\\x9a>9\\xd1\\xfe\\x04^\\x02Z\\x9c\\x16\\xa8Qq\\xda\\tD?&x\\thq7n\\xdc0w\\x97\\xdf|\\xf3\\x8d=\\xe4<\\xd0\\xe2\\x94A\\x83\\x06\\xc9\\xee\\xdd\\xbb\\xed\\xdd\\xce\\x03/N;\\x80h\\x1b\\x17\\xaf\\x01/\\xce\\xabP\\x1c(\\x14\\x07\\n\\xc5\\x81Bq\\xa0P\\x1c(\\x14\\x07\\n\\xc5\\x81Bq\\xa0P\\x1c(\\x14\\x07\\n\\xc5\\x81Bq\\xa0P\\x1c(\\x14\\x07\\n\\xb48m\\xd1r\\xf6\\xecY\\xd3\\xf1\\xc3k\\xc0\\x8a\\xd3\\xe5y\\x9f~\\xfa\\xa94j\\xd4H\\xca\\x94)#M\\x9a4\\x91\\x1e=zHTT\\x94=\\xd5I \\xc5\\x1d=z\\xd4\\xb4\\x00\\x1b3f\\x8c\\xc9\\x03o\\xd3\\xa6\\x8dY4\\xa4\\xf2\\xb6m\\xdbfOw\\x12Hq\\xd3\\xa6M3\\xa26l\\xd8`\\xb6\\x7f\\xfb\\xed7\\xb3=n\\xdc8k\\xa6\\xbb@\\x8a[\\xb0`\\x81\\x115t\\xe8P\\xb3}\\xf8\\xf0a\\xd3Gn\\xf6\\xec\\xd9\\xd6Lw\\x81\\x14\\xa7\\x199\\xcd\\x9b77\\x9d\"\\'L\\x98`\\x92=\\xb4\\xf9\\x9f&\\xf3{\\x05Hq\\x8a\\xbe\\xbf\\xe9J\\xe6\\x993g\\xca\\xfa\\xf5\\xeb\\xeda\\xe7\\x81\\x14\\xa7\\xed-\\xb5\\xdaB\\xdf\\xbe}e\\xee\\xdc\\xb9\\xe6\\xd2\\xb9n\\xdd:\\xb3@\\xd6+@\\x8a\\xd3\\xea\\x0b\\xff\\xf9\\xcf\\x7fLc[\\xads\\xa2\\x12S\\xa4H!E\\x8a\\x141\\xb9s^\\x00R\\x9c\\xdeU\\xea\\xe7\\xb7\\xe3\\xc7\\x8f\\xcb\\xde\\xbd{Mc[\\xbd\\xb3\\xac]\\xbb\\xb6\\xcc\\x9a5\\xcb\\x9e\\xee$p\\xe2\\xf4\\x8c\\xd2\\xec\\x9c\\xaf\\xbf\\xfe\\xfa\\x89\\xfd\\x9av\\xa57)*\\xd1\\x0b\\xc0\\x89\\xd3\\xe4\\xc5\\x0f?\\xfc\\xd0\\\\\\x1e\\xf5\\x89\\x89\\x9ee\\xf5\\xea\\xd5\\x93*U\\xaa\\x98R\\x1a^\\x01N\\x9c\\xa2g\\xd7\\x8c\\x193\\xa4[\\xb7n\\xd2\\xb3gO\\x99:u\\xaa\\x9c;w\\xce\\x9e\\xe64\\x90\\xe2\\x08\\xc5\\xc1Bq\\xa0P\\x1c(\\x14\\x07\\n\\xc5\\x81Bq\\xa0P\\x1c(\\x14\\x07\\n\\xc5\\x81Bq\\xa0P\\x1c(\\xf0\\xe2\\x1e<x\\xe0\\xb9:^\\n\\xb48]\\x1cT\\xa9R%O-\\xcb\\xf3\\x01-N\\xd7\\x98h\\xb1Q/\\x95\\xf4\\xf5\\x01-N\\x97\\xe9\\xa5K\\x97N\\xbav\\xedj\\x0f9\\x0f\\xb48]~\\xae\\x0b\\x84F\\x8f\\x1em\\x0f9\\x0f\\xbc86\\xfe\\x03\\x84\\xe2@\\xa18P(\\x0e\\x14\\x8a\\x03\\x85\\xe2@\\xa18P(\\x0e\\x14\\x8a\\x03\\x85\\xe2@\\xa18P(\\x0e\\x14\\x8a\\x03\\x85\\xe2@\\xa18P(\\x0e\\x14\\x8a\\x03\\x85\\xe2@\\xa18P(\\x0e\\x14\\x8a\\x03\\x85\\xe2@\\xa18PT\\\\\\xb1b\\xc5d\\xec\\xd8\\xb1\\xf6\\x90\\xf3@\\x8b\\xd3\\xdc\\x81\\xec\\xd9\\xb3\\xfb\\xd5\\xf5\\xf2\\x02P\\xe2\\x1e>|\\xf8\\xc4\\xf6\\xbd{\\xf7$e\\xca\\x94\\xd2\\xa9S\\xa7\\'\\xf6{\\x01(qZ\\xe6\\xb0V\\xadZR\\xa3F\\r\\x13\\x1f\\x7f\\xfc\\xb1$M\\x9aT\\xf2\\xe4\\xc9\\xf3h\\xff\\'\\x9f|\"#F\\x8c\\xb0\\x0fu\\x0e(q\\x9a\\x9d\\x93/_>SH;P\\x8c\\x1a5\\xca>\\xd49\\xa0\\xc4)\\xfd\\xfb\\xf7\\xf7\\x13\\xf5x\\xa4O\\x9f^N\\x9e<i\\x1f\\xe6\\x1cp\\xe2v\\xed\\xdae\\xca\\xf8\\xda\\xc2|\\x11\\x11\\x11a\\x1f\\xe2$p\\xe2\\xb4\\x9f\\x8e\\x16\\x18\\xb5\\x85\\xf9B\\xcb\\xd9{\\x018q\\x8a\\xca\\xb1\\x85ih\\x92\\xe3\\x993g\\xec\\xe9N\\x02)N\\xef.3d\\xc8\\xe0\\'\\xaen\\xdd\\xba~\\x1f\\x19\\\\\\x05R\\x9cR\\xb5j\\xd5\\'\\xa4i.\\xf8\\xe2\\xc5\\x8b\\xedi\\xce\\x02+\\xee\\xc7\\x1f\\x7f|B\\x9c~L\\xb8v\\xed\\x9a=\\xcdY`\\xc5i\\xd3\\x88\\xc7/\\x97-[\\xb6\\xb4\\xa78\\r\\xac8}/\\xd3\\xf74\\x95\\x96$I\\x12Y\\xb9r\\xa5=\\xc5i`\\xc5)\\xbf\\xfe\\xfa\\xabyo{\\xe3\\x8d7\\xec!\\xe7\\x89\\x978}B\\xa1\\xc5a\\xb4]J\\xc3\\x86\\r\\x83\\x1e\\xfa\\\\R\\xcf\\xb8\\x1c9r\\x84\\xec\\xef\\xd0\\xb8qc\\xf9\\xe1\\x87\\x1f\\xec\\x97&\\xc1\\x89\\x97\\xb8\\x9d;w\\x9a\\xc6D\\xd5\\xabW7\\xff\\x00}\\xf1\\x82\\x19\\xdaZ\\xb3p\\xe1\\xc2F`\\xa8~~\\xde\\xbcyC\\xf2\\xb4&^\\xe2\\xf4\\xf1S\\xae\\\\\\xb9\\xe4\\xc8\\x91#\\xf6P\\xd0\\xd0n\\x8d\\xfa\\xf5N\\xa8\\xe8\\xd8\\xb1\\xa3\\xf9\\xc5\\r6\\xf1\\x16\\x973gN9x\\xf0\\xa0=\\xe4\\x19\\xda\\xb7oOq\\x88P\\x1c(\\x14\\x07\\n\\xc5\\x81Bq\\xa0P\\x1c(\\x14\\x07\\n\\xc5\\x81Bq\\xa0P\\x1c(\\x14\\x07\\n\\xc5=\\x85\\xb3g\\xcf\\x9ae\\n\\xfa\\xf4_\\x17\\t%6(\\xee)DGGK\\xb9r\\xe5\\xcc\\xf7n\\xfb\\xf6\\xed\\xb3\\x87C\\x0e\\xc5\\x05@\\xf3\\xdfT\\xdc\\xfe\\xfd\\xfb\\xed\\xa1\\x90Cq\\x01\\xd0\\x8cS\\x15w\\xf4\\xe8Q\\xd3\\xddC\\xbfy\\x0f\\xe5wp\\x8fCq\\x01\\xf0\\x89\\x1b<x\\xb0\\xb9l\\xeaR\\x85\\n\\x15*\\x98\\x95^\\xa1\\x86\\xe2\\x020f\\xcc\\x18#N\\xf3\\xe1\\xd6\\xad[\\xf7h\\tz\\xbf~\\xfd\\xec\\xa9A\\x87\\xe2\\x02\\xe0;\\xe3v\\xec\\xd8a\\xb6u\\xe1k\\xea\\xd4\\xa9\\xa5A\\x83\\x06\\xd6\\xcc\\xe0Cq\\x01\\xb0\\xc5i\\xeew\\xe6\\xcc\\x99M\\x16j\\xa8\\xa1\\xb8\\x00\\xd8\\xe2n\\xdd\\xbae\\xc4\\xd5\\xae]\\xdb\\x9a\\x19|(.\\x00\\xbe\\x8f\\x03\\xba\\x1cP\\xd13.S\\xa6LR\\xa7N\\x1dkf\\xf0\\xa1\\xb8\\x00\\xf8\\xd2\\x87}\\xcb\\xcc/]\\xba$\\xc9\\x93\\'\\x97\\xf2\\xe5\\xcb\\x87<\\xad\\x8a\\xe2\\x9e\\xc2\\xc6\\x8d\\x1b\\xa5r\\xe5\\xcaR\\xb0`A\\xa9_\\xbf\\xbe\\xec\\xdd\\xbbWz\\xf6\\xeci\\x96\\x9d\\x17/^\\\\f\\xcf\\x9em\\x1f\\x12T(\\xee)\\xdc\\xbf\\x7f\\xffQ\\xd7a\\xfdo\\xedB\\xac\\x15\\x85|\\\\\\xb9rE\\x0e\\x1c8\\x100\\xf4=1\\xa1\\xa0\\xb8\\x7f\\xc9\\xda\\xb5k\\xe5\\xad\\xb7\\xdezjh+N\\xdfMMB@q\\xff\\x12=\\xfb\\xae^\\xbd\\x1a0\\xf4,M((\\x0e\\x14\\x8a\\x03\\x85\\xe2@\\xa18P(\\x0e\\x14\\x8a\\x03\\x85\\xe2@\\xa18P(\\x0e\\x14\\x8a\\x03\\x85\\xe2@\\xa18P\\xa0\\xc5%\\xc6\\xa5\\xe1\\xc1BK\\xe7\\xc3\\x89\\xd3\\xa5\\x04\\xba\\x84@\\xff\\xf2\\x83\\x06\\r\\x92\\x81\\x03\\x07\\x06=\\x86\\r\\x1b&C\\x86\\x0c\\xf1\\xdb\\x1f\\x8c\\xd0u\\x9e%K\\x96\\xc4\\x13w\\xe8\\xd0!\\xf3\\xedt\\xe9\\xd2\\xa5\\xa5T\\xa9RA\\x8f\\x12%J\\x98\\xcay\\xba@6T\\x7f\\x07\\xfd\\xb9\\xbd{\\xf7\\xb6_\\x9a\\x04\\'^\\xe2B\\xcd\\x9d;w$U\\xaaT\\xec\\xf4\\x81\\x866\\x90Pq=z\\xf4\\xb0\\x87\\x9c\\x07Z\\x9c\\x96\\xb2\\xcf\\x9f?\\xbfY\\xa2\\xee5\\xa0\\xc5\\xe9\\xb2\\x85\\xa2E\\x8b\\xb2\\x7f\\x1c\\x1al\\xfc\\x07\\n\\xc5\\x81Bq\\xa0P\\x1c(\\x14\\x07\\n\\xc5\\x81Bq\\xa0P\\x1c(\\x14\\x07\\n\\xc5\\x81Bq\\xa0P\\x1c(\\x14\\x07\\n\\xc5\\x81Bq\\xa0P\\x1c(\\x14\\x07\\n\\xc5\\x81Bq\\xa0P\\x1c(\\x14\\x07\\n\\xc5\\x81\\xa2\\xe2ty\\x1e\\xd7U\\x82\\xa1\\x95\\xd0\\x0b\\x14(`\\x12?\\xbc\\x06\\xb48\\xad\\xa6\\x17\\x1e\\x1e.]\\xbat\\xb1\\x87\\x9c\\x07J\\\\LL\\x8cL\\x9e<Y&N\\x9chB/\\x91\\xbe\\x82\\xa3S\\xa7N5\\xfb\\xb4B\\xfa\\xe2\\xc5\\x8bC^\\x804\\xa1\\x81\\x13\\xa7\\xb5\\x98\\xb5Zl\\xa0\\xf0B\\xf6\\x0e\\x948E;\\xdd\\xdb\\xa2\\x1e\\x8fd\\xc9\\x92\\xc9\\xb6m\\xdb\\xec\\xc3\\x9c\\x03N\\x9c\\x96\\xfaU9\\xb60_ha\\xd1\\xc4\\xd2\\xbe%!\\x81\\x13\\xa7\\xc9\\x8cZ\\xf9\\xd5\\x16\\xe6\\x8b\\xd1\\xa3G\\xdb\\x878\\t\\x9c8\\xa5W\\xaf^~\\xc242d\\xc8`\\x1a\\'y\\x01Hq[\\xb7n\\x95\\x14)R\\xf8\\x89\\xabR\\xa5\\x8a=\\xd5Y \\xc5i&j\\xe1\\xc2\\x85\\xfd\\xc4}\\xff\\xfd\\xf7\\xf6Tg\\x81\\x14\\xa7\\xf4\\xe9\\xd3\\xe7\\ti\\x193f\\x94\\xd3\\xa7O\\xdb\\xd3\\x9c\\x05V\\x9c\\x16\\xc7I\\x992\\xe5#q\\xd5\\xaaU\\xb3\\xa78\\r\\xac8\\xbd\\xe5\\xd7\\x1a#>q\\xfa\\xe4\\xc4K\\xc0\\x8aS\\x86\\x0e\\x1d\\xfa\\xe82\\xa9OU\\xbc\\x04\\xb4\\xb8\\xc3\\x87\\x0f\\x9b\\xcb\\xa5\\x96dr\\xfd\\xd9\\xa4\\r\\xb48\\x95U\\xb5jU\\xf3`\\xd9k@\\x8bS6m\\xda$\\x97/_\\xb6w;\\x0f\\xbc8\\xafBq\\xa0P\\x1c(\\x14\\x07\\n\\xc5\\x81Bq\\xa0P\\x1c(\\x14\\x07\\n\\xc5\\x81Bq\\xa0P\\x1c(\\x14\\x07\\n\\xa4\\xb8\\xd8\\xd8X\\xb3\\xbe\\xf2\\xdc\\xb9s\\xf6\\x90g\\x80\\x13\\x17\\x1d\\x1dmr\\x05tQ\\xec\\xca\\x95+\\xeda\\xcf\\x00\\'...N\\xc6\\x8f\\x1fo\\xbe\\xf9^\\xb5j\\x95=\\xec\\x19\\xe0\\xc4)\\xf3\\xe7\\xcf\\x97\\xb0\\xb00Y\\xb3f\\x8d=\\xe4\\x19 \\xc5\\xcd\\x9b7O\\x92&M*\\x0b\\x17.4\\xdf~7j\\xd4H\\xc6\\x8d\\x1bg\\xd6[z\\x05Hq\\x91\\x91\\x91\\xa6\\x8b\\x95\\xe6\\x104m\\xdaT\"\"\"\\xcc\\xa5\\xd3K\\x99\\xa9\\x90\\xe2\\xf4\\x8cSQ#G\\x8e4\\xdb\\xda\\x1c)]\\xbat!\\xe9\\xe3\\x16*\\xa0\\xc5-]\\xba\\xd4lkJ\\xb1\\xa6W\\x95-[\\xd6\\xdc\\xbcx\\x01hq\\xfa\\x1e\\xa7\\xa88\\xad\\xbe@q\\x89\\x1c\\x8a\\x03\\x15\\xa77\\'*n\\xd1\\xa2E\\x8f\\xf6i\\xf6N\\x992e\\x1e\\x9b\\xe56p\\xe2\\xce\\x9e=+u\\xea\\xd41\\xe2\\xf4\\xcfS\\xa7N\\x99\\xcfu\\x9a/\\x976mZY\\xb1b\\x85\\'V5\\xc3\\x89\\xd3T*\\xbd)\\x89\\x8a\\x8a2\\x7f\\x9e8qB\\xd6\\xaf_o\\x84il\\xde\\xbc\\x99\\xe2H\\xe2\\x85\\xe2@\\xa18P(\\x0e\\x14\\x8a\\x03\\x85\\xe2@\\xa18P(\\x0e\\x14\\x8a\\x03\\x85\\xe2@\\xa18P(\\x0e\\x14\\x8a\\x03\\x85\\xe2@\\xf9\\x1f\\xd58\\xd4\\x81\\xe6\\xab\\xa3\\x99\\x00\\x00\\x00\\x00IEND\\xaeB`\\x82'"
      ]
     },
     "execution_count": 268,
     "metadata": {},
     "output_type": "execute_result"
    }
   ],
   "source": [
    "from dol import Files\n",
    "\n",
    "s = Files('/Users/thorwhalen/Dropbox/py/proj/i/meshed/misc')\n",
    "\n",
    "s['img_1.png']"
   ]
  },
  {
   "cell_type": "code",
   "execution_count": null,
   "metadata": {},
   "outputs": [],
   "source": []
  },
  {
   "cell_type": "code",
   "execution_count": null,
   "metadata": {},
   "outputs": [],
   "source": []
  },
  {
   "cell_type": "code",
   "execution_count": null,
   "metadata": {},
   "outputs": [],
   "source": []
  },
  {
   "attachments": {},
   "cell_type": "markdown",
   "metadata": {},
   "source": [
    "## parametrized_dag_factory"
   ]
  },
  {
   "cell_type": "code",
   "execution_count": 161,
   "metadata": {},
   "outputs": [
    {
     "name": "stdout",
     "output_type": "stream",
     "text": [
      "common_var_nodes={'a'}\n",
      "common_var_node_values={'a': 'criss(x=1, y=2)'}\n"
     ]
    },
    {
     "data": {
      "image/svg+xml": [
       "<?xml version=\"1.0\" encoding=\"UTF-8\" standalone=\"no\"?>\n",
       "<!DOCTYPE svg PUBLIC \"-//W3C//DTD SVG 1.1//EN\"\n",
       " \"http://www.w3.org/Graphics/SVG/1.1/DTD/svg11.dtd\">\n",
       "<!-- Generated by graphviz version 7.1.0 (20230121.1956)\n",
       " -->\n",
       "<!-- Pages: 1 -->\n",
       "<svg width=\"278pt\" height=\"332pt\"\n",
       " viewBox=\"0.00 0.00 278.00 332.00\" xmlns=\"http://www.w3.org/2000/svg\" xmlns:xlink=\"http://www.w3.org/1999/xlink\">\n",
       "<g id=\"graph0\" class=\"graph\" transform=\"scale(1 1) rotate(0) translate(4 328)\">\n",
       "<polygon fill=\"white\" stroke=\"none\" points=\"-4,4 -4,-328 274,-328 274,4 -4,4\"/>\n",
       "<!-- a -->\n",
       "<g id=\"node1\" class=\"node\">\n",
       "<title>a</title>\n",
       "<text text-anchor=\"middle\" x=\"171\" y=\"-158.3\" font-family=\"Times,serif\" font-size=\"14.00\">a</text>\n",
       "</g>\n",
       "<!-- apple -->\n",
       "<g id=\"node10\" class=\"node\">\n",
       "<title>apple</title>\n",
       "<polygon fill=\"none\" stroke=\"black\" points=\"162,-108 108,-108 108,-72 162,-72 162,-108\"/>\n",
       "<text text-anchor=\"middle\" x=\"135\" y=\"-86.3\" font-family=\"Times,serif\" font-size=\"14.00\">apple</text>\n",
       "</g>\n",
       "<!-- a&#45;&gt;apple -->\n",
       "<g id=\"edge8\" class=\"edge\">\n",
       "<title>a&#45;&gt;apple</title>\n",
       "<path fill=\"none\" stroke=\"black\" d=\"M162.29,-144.05C158.32,-136.35 153.53,-127.03 149.07,-118.36\"/>\n",
       "<polygon fill=\"black\" stroke=\"black\" points=\"152.26,-116.91 144.58,-109.62 146.04,-120.11 152.26,-116.91\"/>\n",
       "</g>\n",
       "<!-- x -->\n",
       "<g id=\"node2\" class=\"node\">\n",
       "<title>x</title>\n",
       "<text text-anchor=\"middle\" x=\"171\" y=\"-302.3\" font-family=\"Times,serif\" font-size=\"14.00\">x</text>\n",
       "</g>\n",
       "<!-- criss -->\n",
       "<g id=\"node4\" class=\"node\">\n",
       "<title>criss</title>\n",
       "<polygon fill=\"none\" stroke=\"black\" points=\"198,-252 144,-252 144,-216 198,-216 198,-252\"/>\n",
       "<text text-anchor=\"middle\" x=\"171\" y=\"-230.3\" font-family=\"Times,serif\" font-size=\"14.00\">criss</text>\n",
       "</g>\n",
       "<!-- x&#45;&gt;criss -->\n",
       "<g id=\"edge2\" class=\"edge\">\n",
       "<title>x&#45;&gt;criss</title>\n",
       "<path fill=\"none\" stroke=\"black\" d=\"M171,-288.05C171,-280.68 171,-271.84 171,-263.51\"/>\n",
       "<polygon fill=\"black\" stroke=\"black\" points=\"174.5,-263.79 171,-253.79 167.5,-263.79 174.5,-263.79\"/>\n",
       "</g>\n",
       "<!-- y -->\n",
       "<g id=\"node3\" class=\"node\">\n",
       "<title>y</title>\n",
       "<text text-anchor=\"middle\" x=\"243\" y=\"-302.3\" font-family=\"Times,serif\" font-size=\"14.00\">y</text>\n",
       "</g>\n",
       "<!-- y&#45;&gt;criss -->\n",
       "<g id=\"edge3\" class=\"edge\">\n",
       "<title>y&#45;&gt;criss</title>\n",
       "<path fill=\"none\" stroke=\"black\" d=\"M225.57,-288.05C216.94,-279.67 206.36,-269.38 196.81,-260.1\"/>\n",
       "<polygon fill=\"black\" stroke=\"black\" points=\"199.46,-257.79 189.85,-253.33 194.58,-262.81 199.46,-257.79\"/>\n",
       "</g>\n",
       "<!-- criss&#45;&gt;a -->\n",
       "<g id=\"edge1\" class=\"edge\">\n",
       "<title>criss&#45;&gt;a</title>\n",
       "<path fill=\"none\" stroke=\"black\" d=\"M171,-215.7C171,-208.21 171,-199.26 171,-190.88\"/>\n",
       "<polygon fill=\"black\" stroke=\"black\" points=\"174.5,-191.14 171,-181.14 167.5,-191.14 174.5,-191.14\"/>\n",
       "</g>\n",
       "<!-- b -->\n",
       "<g id=\"node5\" class=\"node\">\n",
       "<title>b</title>\n",
       "<text text-anchor=\"middle\" x=\"99\" y=\"-158.3\" font-family=\"Times,serif\" font-size=\"14.00\">b</text>\n",
       "</g>\n",
       "<!-- b&#45;&gt;apple -->\n",
       "<g id=\"edge9\" class=\"edge\">\n",
       "<title>b&#45;&gt;apple</title>\n",
       "<path fill=\"none\" stroke=\"black\" d=\"M107.71,-144.05C111.68,-136.35 116.47,-127.03 120.93,-118.36\"/>\n",
       "<polygon fill=\"black\" stroke=\"black\" points=\"123.96,-120.11 125.42,-109.62 117.74,-116.91 123.96,-120.11\"/>\n",
       "</g>\n",
       "<!-- aa -->\n",
       "<g id=\"node6\" class=\"node\">\n",
       "<title>aa</title>\n",
       "<text text-anchor=\"middle\" x=\"27\" y=\"-302.3\" font-family=\"Times,serif\" font-size=\"14.00\">aa</text>\n",
       "</g>\n",
       "<!-- cross -->\n",
       "<g id=\"node8\" class=\"node\">\n",
       "<title>cross</title>\n",
       "<polygon fill=\"none\" stroke=\"black\" points=\"126,-252 72,-252 72,-216 126,-216 126,-252\"/>\n",
       "<text text-anchor=\"middle\" x=\"99\" y=\"-230.3\" font-family=\"Times,serif\" font-size=\"14.00\">cross</text>\n",
       "</g>\n",
       "<!-- aa&#45;&gt;cross -->\n",
       "<g id=\"edge5\" class=\"edge\">\n",
       "<title>aa&#45;&gt;cross</title>\n",
       "<path fill=\"none\" stroke=\"black\" d=\"M44.43,-288.05C53.06,-279.67 63.64,-269.38 73.19,-260.1\"/>\n",
       "<polygon fill=\"black\" stroke=\"black\" points=\"75.42,-262.81 80.15,-253.33 70.54,-257.79 75.42,-262.81\"/>\n",
       "</g>\n",
       "<!-- bb -->\n",
       "<g id=\"node7\" class=\"node\">\n",
       "<title>bb</title>\n",
       "<text text-anchor=\"middle\" x=\"99\" y=\"-302.3\" font-family=\"Times,serif\" font-size=\"14.00\">bb</text>\n",
       "</g>\n",
       "<!-- bb&#45;&gt;cross -->\n",
       "<g id=\"edge6\" class=\"edge\">\n",
       "<title>bb&#45;&gt;cross</title>\n",
       "<path fill=\"none\" stroke=\"black\" d=\"M99,-288.05C99,-280.68 99,-271.84 99,-263.51\"/>\n",
       "<polygon fill=\"black\" stroke=\"black\" points=\"102.5,-263.79 99,-253.79 95.5,-263.79 102.5,-263.79\"/>\n",
       "</g>\n",
       "<!-- cross&#45;&gt;b -->\n",
       "<g id=\"edge4\" class=\"edge\">\n",
       "<title>cross&#45;&gt;b</title>\n",
       "<path fill=\"none\" stroke=\"black\" d=\"M99,-215.7C99,-208.21 99,-199.26 99,-190.88\"/>\n",
       "<polygon fill=\"black\" stroke=\"black\" points=\"102.5,-191.14 99,-181.14 95.5,-191.14 102.5,-191.14\"/>\n",
       "</g>\n",
       "<!-- c -->\n",
       "<g id=\"node9\" class=\"node\">\n",
       "<title>c</title>\n",
       "<text text-anchor=\"middle\" x=\"135\" y=\"-14.3\" font-family=\"Times,serif\" font-size=\"14.00\">c</text>\n",
       "</g>\n",
       "<!-- apple&#45;&gt;c -->\n",
       "<g id=\"edge7\" class=\"edge\">\n",
       "<title>apple&#45;&gt;c</title>\n",
       "<path fill=\"none\" stroke=\"black\" d=\"M135,-71.7C135,-64.21 135,-55.26 135,-46.88\"/>\n",
       "<polygon fill=\"black\" stroke=\"black\" points=\"138.5,-47.14 135,-37.14 131.5,-47.14 138.5,-47.14\"/>\n",
       "</g>\n",
       "</g>\n",
       "</svg>\n"
      ],
      "text/plain": [
       "<graphviz.graphs.Digraph at 0x1225a7940>"
      ]
     },
     "execution_count": 161,
     "metadata": {},
     "output_type": "execute_result"
    }
   ],
   "source": [
    "from meshed.base import *\n",
    "\n",
    "\n",
    "def parametrized_dag_factory(dag: DAG, param_var_nodes: Union[str, Iterable[str]]):\n",
    "    \"\"\"\n",
    "    Constructs a factory for sub-DAGs derived from the input DAG, with values of \n",
    "    specific 'parameter' variable nodes precomputed and fixed. These precomputed nodes, \n",
    "    and their ancestor nodes (unless required elsewhere), are omitted from the sub-DAG. \n",
    "\n",
    "    The factory function produced by this operation requires arguments corresponding to \n",
    "    the ancestor nodes of the parameter variable nodes. These arguments are used to \n",
    "    compute the values of the parameter nodes.\n",
    "\n",
    "    This function reflects the typical structure of a class in object-oriented \n",
    "    programming, where initialization arguments are used to set certain fixed values \n",
    "    (attributes), which are then leveraged in subsequent methods. \n",
    "\n",
    "    >>> import i2\n",
    "    >>> from meshed import code_to_dag\n",
    "    >>> @code_to_dag\n",
    "    ... def testdag():\n",
    "    ...     a = criss(aa, aaa)\n",
    "    ...     b = cross(aa, bb)\n",
    "    ...     c = apple(a, b)\n",
    "    ...     d = sauce(a, b)\n",
    "    ...     e = applesauce(c, d)\n",
    "    >>>\n",
    "    >>> dag_factory = parametrized_dag_factory(testdag, 'a')\n",
    "    >>> print(f\"{i2.Sig(dag_factory)}\")\n",
    "    (aa, aaa)\n",
    "    >>> d = dag_factory(aa=1, aaa=2)\n",
    "    >>> print(f\"{i2.Sig(d)}\")\n",
    "    (b)\n",
    "    >>> d(b='bananna')\n",
    "    'applesauce(c=apple(a=criss(aa=1, aaa=2), b=bananna), d=sauce(a=criss(aa=1, aaa=2), b=bananna))'\n",
    "\n",
    "    \"\"\"\n",
    "\n",
    "    if isinstance(param_var_nodes, str):\n",
    "        param_var_nodes = param_var_nodes.split()\n",
    "    # The dag is split into two parts:\n",
    "    #   Part whose role it is to compute the param_var_nodes from root nodes\n",
    "    param_dag = dag[:param_var_nodes]\n",
    "    #   Part that computes the rest based on these (and remaining root nodes)\n",
    "    computation_dag = dag[param_var_nodes:]\n",
    "    # Get the intersection of the two parts on the var nodes\n",
    "    common_var_nodes = set(param_dag.var_nodes) & set(computation_dag.var_nodes)\n",
    "    print(f\"{common_var_nodes=}\")\n",
    "\n",
    "    @Sig(param_dag)\n",
    "    def dag_factory(*parametrization_args, **parametrization_kwargs):\n",
    "        # use the param_dag to compute the values of the parameter var nodes\n",
    "        # (and what ever else happens to be in the leaves, but we'll remove that later)\n",
    "        _ = param_dag(*parametrization_args, **parametrization_kwargs)\n",
    "        # Get the values for all nodes that are common to param_dag and computation_dag\n",
    "        # (There may be more than just param_var_nodes!)\n",
    "        common_var_node_values = extract_dict(param_dag.last_scope, common_var_nodes)\n",
    "        print(f\"{common_var_node_values=}\")\n",
    "        # By fixing those values, you now have a the computation_dag you want\n",
    "        # Note: Also, remove the bound arguments\n",
    "        # (i.e. the arguments that were used to compute the values)\n",
    "        # so that the user doesn't change those and get inconsistencies!\n",
    "        d = computation_dag.partial(\n",
    "            **common_var_node_values, _remove_bound_arguments=True\n",
    "        )\n",
    "        # Remember the var nodes that parametrized the dag\n",
    "        # TODO: Is this a good idea? Meant for debugging really.\n",
    "        d._common_var_node_values = common_var_node_values\n",
    "        return d\n",
    "\n",
    "    return dag_factory, param_dag, computation_dag\n",
    "\n",
    "\n",
    "from meshed import code_to_dag\n",
    "\n",
    "@code_to_dag\n",
    "def dag1():\n",
    "    a = criss(x,y)\n",
    "    b = cross(aa, bb)\n",
    "    c = apple(a, b)\n",
    "\n",
    "dag_factory1, param_dag, computation_dag = parametrized_dag_factory(dag1, 'a')\n",
    "assert str(Sig(dag_factory1)) == '(x, y)'\n",
    "\n",
    "d = dag_factory1(x=1, y=2)\n",
    "assert str(Sig(d)) == '(b)'  # but we DO NOT WANT THAT.\n",
    "# assert str(Sig(d)) != '(aa, bb)'  # but we DO WANT THAT.\n",
    "dag1.dot_digraph()\n"
   ]
  },
  {
   "cell_type": "code",
   "execution_count": 166,
   "metadata": {},
   "outputs": [
    {
     "data": {
      "image/svg+xml": [
       "<?xml version=\"1.0\" encoding=\"UTF-8\" standalone=\"no\"?>\n",
       "<!DOCTYPE svg PUBLIC \"-//W3C//DTD SVG 1.1//EN\"\n",
       " \"http://www.w3.org/Graphics/SVG/1.1/DTD/svg11.dtd\">\n",
       "<!-- Generated by graphviz version 7.1.0 (20230121.1956)\n",
       " -->\n",
       "<!-- Pages: 1 -->\n",
       "<svg width=\"278pt\" height=\"332pt\"\n",
       " viewBox=\"0.00 0.00 278.00 332.00\" xmlns=\"http://www.w3.org/2000/svg\" xmlns:xlink=\"http://www.w3.org/1999/xlink\">\n",
       "<g id=\"graph0\" class=\"graph\" transform=\"scale(1 1) rotate(0) translate(4 328)\">\n",
       "<polygon fill=\"white\" stroke=\"none\" points=\"-4,4 -4,-328 274,-328 274,4 -4,4\"/>\n",
       "<!-- a -->\n",
       "<g id=\"node1\" class=\"node\">\n",
       "<title>a</title>\n",
       "<text text-anchor=\"middle\" x=\"171\" y=\"-158.3\" font-family=\"Times,serif\" font-size=\"14.00\">a</text>\n",
       "</g>\n",
       "<!-- apple -->\n",
       "<g id=\"node10\" class=\"node\">\n",
       "<title>apple</title>\n",
       "<polygon fill=\"none\" stroke=\"black\" points=\"162,-108 108,-108 108,-72 162,-72 162,-108\"/>\n",
       "<text text-anchor=\"middle\" x=\"135\" y=\"-86.3\" font-family=\"Times,serif\" font-size=\"14.00\">apple</text>\n",
       "</g>\n",
       "<!-- a&#45;&gt;apple -->\n",
       "<g id=\"edge8\" class=\"edge\">\n",
       "<title>a&#45;&gt;apple</title>\n",
       "<path fill=\"none\" stroke=\"black\" d=\"M162.29,-144.05C158.32,-136.35 153.53,-127.03 149.07,-118.36\"/>\n",
       "<polygon fill=\"black\" stroke=\"black\" points=\"152.26,-116.91 144.58,-109.62 146.04,-120.11 152.26,-116.91\"/>\n",
       "</g>\n",
       "<!-- x -->\n",
       "<g id=\"node2\" class=\"node\">\n",
       "<title>x</title>\n",
       "<text text-anchor=\"middle\" x=\"171\" y=\"-302.3\" font-family=\"Times,serif\" font-size=\"14.00\">x</text>\n",
       "</g>\n",
       "<!-- criss -->\n",
       "<g id=\"node4\" class=\"node\">\n",
       "<title>criss</title>\n",
       "<polygon fill=\"none\" stroke=\"black\" points=\"198,-252 144,-252 144,-216 198,-216 198,-252\"/>\n",
       "<text text-anchor=\"middle\" x=\"171\" y=\"-230.3\" font-family=\"Times,serif\" font-size=\"14.00\">criss</text>\n",
       "</g>\n",
       "<!-- x&#45;&gt;criss -->\n",
       "<g id=\"edge2\" class=\"edge\">\n",
       "<title>x&#45;&gt;criss</title>\n",
       "<path fill=\"none\" stroke=\"black\" d=\"M171,-288.05C171,-280.68 171,-271.84 171,-263.51\"/>\n",
       "<polygon fill=\"black\" stroke=\"black\" points=\"174.5,-263.79 171,-253.79 167.5,-263.79 174.5,-263.79\"/>\n",
       "</g>\n",
       "<!-- y -->\n",
       "<g id=\"node3\" class=\"node\">\n",
       "<title>y</title>\n",
       "<text text-anchor=\"middle\" x=\"243\" y=\"-302.3\" font-family=\"Times,serif\" font-size=\"14.00\">y</text>\n",
       "</g>\n",
       "<!-- y&#45;&gt;criss -->\n",
       "<g id=\"edge3\" class=\"edge\">\n",
       "<title>y&#45;&gt;criss</title>\n",
       "<path fill=\"none\" stroke=\"black\" d=\"M225.57,-288.05C216.94,-279.67 206.36,-269.38 196.81,-260.1\"/>\n",
       "<polygon fill=\"black\" stroke=\"black\" points=\"199.46,-257.79 189.85,-253.33 194.58,-262.81 199.46,-257.79\"/>\n",
       "</g>\n",
       "<!-- criss&#45;&gt;a -->\n",
       "<g id=\"edge1\" class=\"edge\">\n",
       "<title>criss&#45;&gt;a</title>\n",
       "<path fill=\"none\" stroke=\"black\" d=\"M171,-215.7C171,-208.21 171,-199.26 171,-190.88\"/>\n",
       "<polygon fill=\"black\" stroke=\"black\" points=\"174.5,-191.14 171,-181.14 167.5,-191.14 174.5,-191.14\"/>\n",
       "</g>\n",
       "<!-- b -->\n",
       "<g id=\"node5\" class=\"node\">\n",
       "<title>b</title>\n",
       "<text text-anchor=\"middle\" x=\"99\" y=\"-158.3\" font-family=\"Times,serif\" font-size=\"14.00\">b</text>\n",
       "</g>\n",
       "<!-- b&#45;&gt;apple -->\n",
       "<g id=\"edge9\" class=\"edge\">\n",
       "<title>b&#45;&gt;apple</title>\n",
       "<path fill=\"none\" stroke=\"black\" d=\"M107.71,-144.05C111.68,-136.35 116.47,-127.03 120.93,-118.36\"/>\n",
       "<polygon fill=\"black\" stroke=\"black\" points=\"123.96,-120.11 125.42,-109.62 117.74,-116.91 123.96,-120.11\"/>\n",
       "</g>\n",
       "<!-- aa -->\n",
       "<g id=\"node6\" class=\"node\">\n",
       "<title>aa</title>\n",
       "<text text-anchor=\"middle\" x=\"27\" y=\"-302.3\" font-family=\"Times,serif\" font-size=\"14.00\">aa</text>\n",
       "</g>\n",
       "<!-- cross -->\n",
       "<g id=\"node8\" class=\"node\">\n",
       "<title>cross</title>\n",
       "<polygon fill=\"none\" stroke=\"black\" points=\"126,-252 72,-252 72,-216 126,-216 126,-252\"/>\n",
       "<text text-anchor=\"middle\" x=\"99\" y=\"-230.3\" font-family=\"Times,serif\" font-size=\"14.00\">cross</text>\n",
       "</g>\n",
       "<!-- aa&#45;&gt;cross -->\n",
       "<g id=\"edge5\" class=\"edge\">\n",
       "<title>aa&#45;&gt;cross</title>\n",
       "<path fill=\"none\" stroke=\"black\" d=\"M44.43,-288.05C53.06,-279.67 63.64,-269.38 73.19,-260.1\"/>\n",
       "<polygon fill=\"black\" stroke=\"black\" points=\"75.42,-262.81 80.15,-253.33 70.54,-257.79 75.42,-262.81\"/>\n",
       "</g>\n",
       "<!-- bb -->\n",
       "<g id=\"node7\" class=\"node\">\n",
       "<title>bb</title>\n",
       "<text text-anchor=\"middle\" x=\"99\" y=\"-302.3\" font-family=\"Times,serif\" font-size=\"14.00\">bb</text>\n",
       "</g>\n",
       "<!-- bb&#45;&gt;cross -->\n",
       "<g id=\"edge6\" class=\"edge\">\n",
       "<title>bb&#45;&gt;cross</title>\n",
       "<path fill=\"none\" stroke=\"black\" d=\"M99,-288.05C99,-280.68 99,-271.84 99,-263.51\"/>\n",
       "<polygon fill=\"black\" stroke=\"black\" points=\"102.5,-263.79 99,-253.79 95.5,-263.79 102.5,-263.79\"/>\n",
       "</g>\n",
       "<!-- cross&#45;&gt;b -->\n",
       "<g id=\"edge4\" class=\"edge\">\n",
       "<title>cross&#45;&gt;b</title>\n",
       "<path fill=\"none\" stroke=\"black\" d=\"M99,-215.7C99,-208.21 99,-199.26 99,-190.88\"/>\n",
       "<polygon fill=\"black\" stroke=\"black\" points=\"102.5,-191.14 99,-181.14 95.5,-191.14 102.5,-191.14\"/>\n",
       "</g>\n",
       "<!-- c -->\n",
       "<g id=\"node9\" class=\"node\">\n",
       "<title>c</title>\n",
       "<text text-anchor=\"middle\" x=\"135\" y=\"-14.3\" font-family=\"Times,serif\" font-size=\"14.00\">c</text>\n",
       "</g>\n",
       "<!-- apple&#45;&gt;c -->\n",
       "<g id=\"edge7\" class=\"edge\">\n",
       "<title>apple&#45;&gt;c</title>\n",
       "<path fill=\"none\" stroke=\"black\" d=\"M135,-71.7C135,-64.21 135,-55.26 135,-46.88\"/>\n",
       "<polygon fill=\"black\" stroke=\"black\" points=\"138.5,-47.14 135,-37.14 131.5,-47.14 138.5,-47.14\"/>\n",
       "</g>\n",
       "</g>\n",
       "</svg>\n"
      ],
      "text/plain": [
       "<graphviz.graphs.Digraph at 0x121a0cdf0>"
      ]
     },
     "execution_count": 166,
     "metadata": {},
     "output_type": "execute_result"
    }
   ],
   "source": [
    "dag1.dot_digraph()"
   ]
  },
  {
   "cell_type": "code",
   "execution_count": 171,
   "metadata": {},
   "outputs": [
    {
     "data": {
      "image/svg+xml": [
       "<?xml version=\"1.0\" encoding=\"UTF-8\" standalone=\"no\"?>\n",
       "<!DOCTYPE svg PUBLIC \"-//W3C//DTD SVG 1.1//EN\"\n",
       " \"http://www.w3.org/Graphics/SVG/1.1/DTD/svg11.dtd\">\n",
       "<!-- Generated by graphviz version 7.1.0 (20230121.1956)\n",
       " -->\n",
       "<!-- Pages: 1 -->\n",
       "<svg width=\"134pt\" height=\"188pt\"\n",
       " viewBox=\"0.00 0.00 134.00 188.00\" xmlns=\"http://www.w3.org/2000/svg\" xmlns:xlink=\"http://www.w3.org/1999/xlink\">\n",
       "<g id=\"graph0\" class=\"graph\" transform=\"scale(1 1) rotate(0) translate(4 184)\">\n",
       "<polygon fill=\"white\" stroke=\"none\" points=\"-4,4 -4,-184 130,-184 130,4 -4,4\"/>\n",
       "<!-- c -->\n",
       "<g id=\"node1\" class=\"node\">\n",
       "<title>c</title>\n",
       "<text text-anchor=\"middle\" x=\"63\" y=\"-14.3\" font-family=\"Times,serif\" font-size=\"14.00\">c</text>\n",
       "</g>\n",
       "<!-- a -->\n",
       "<g id=\"node2\" class=\"node\">\n",
       "<title>a</title>\n",
       "<text text-anchor=\"middle\" x=\"27\" y=\"-158.3\" font-family=\"Times,serif\" font-size=\"14.00\">a</text>\n",
       "</g>\n",
       "<!-- apple -->\n",
       "<g id=\"node4\" class=\"node\">\n",
       "<title>apple</title>\n",
       "<polygon fill=\"none\" stroke=\"black\" points=\"90,-108 36,-108 36,-72 90,-72 90,-108\"/>\n",
       "<text text-anchor=\"middle\" x=\"63\" y=\"-86.3\" font-family=\"Times,serif\" font-size=\"14.00\">apple</text>\n",
       "</g>\n",
       "<!-- a&#45;&gt;apple -->\n",
       "<g id=\"edge2\" class=\"edge\">\n",
       "<title>a&#45;&gt;apple</title>\n",
       "<path fill=\"none\" stroke=\"black\" d=\"M35.71,-144.05C39.68,-136.35 44.47,-127.03 48.93,-118.36\"/>\n",
       "<polygon fill=\"black\" stroke=\"black\" points=\"51.96,-120.11 53.42,-109.62 45.74,-116.91 51.96,-120.11\"/>\n",
       "</g>\n",
       "<!-- b -->\n",
       "<g id=\"node3\" class=\"node\">\n",
       "<title>b</title>\n",
       "<text text-anchor=\"middle\" x=\"99\" y=\"-158.3\" font-family=\"Times,serif\" font-size=\"14.00\">b</text>\n",
       "</g>\n",
       "<!-- b&#45;&gt;apple -->\n",
       "<g id=\"edge3\" class=\"edge\">\n",
       "<title>b&#45;&gt;apple</title>\n",
       "<path fill=\"none\" stroke=\"black\" d=\"M90.29,-144.05C86.32,-136.35 81.53,-127.03 77.07,-118.36\"/>\n",
       "<polygon fill=\"black\" stroke=\"black\" points=\"80.26,-116.91 72.58,-109.62 74.04,-120.11 80.26,-116.91\"/>\n",
       "</g>\n",
       "<!-- apple&#45;&gt;c -->\n",
       "<g id=\"edge1\" class=\"edge\">\n",
       "<title>apple&#45;&gt;c</title>\n",
       "<path fill=\"none\" stroke=\"black\" d=\"M63,-71.7C63,-64.21 63,-55.26 63,-46.88\"/>\n",
       "<polygon fill=\"black\" stroke=\"black\" points=\"66.5,-47.14 63,-37.14 59.5,-47.14 66.5,-47.14\"/>\n",
       "</g>\n",
       "</g>\n",
       "</svg>\n"
      ],
      "text/plain": [
       "<graphviz.graphs.Digraph at 0x1216615a0>"
      ]
     },
     "execution_count": 171,
     "metadata": {},
     "output_type": "execute_result"
    }
   ],
   "source": [
    "computation_dag = dag1['a':]\n",
    "str(Sig(computation_dag)) == '(a, b)'\n",
    "computation_dag.dot_digraph()\n"
   ]
  },
  {
   "cell_type": "code",
   "execution_count": 168,
   "metadata": {},
   "outputs": [
    {
     "data": {
      "image/svg+xml": [
       "<?xml version=\"1.0\" encoding=\"UTF-8\" standalone=\"no\"?>\n",
       "<!DOCTYPE svg PUBLIC \"-//W3C//DTD SVG 1.1//EN\"\n",
       " \"http://www.w3.org/Graphics/SVG/1.1/DTD/svg11.dtd\">\n",
       "<!-- Generated by graphviz version 7.1.0 (20230121.1956)\n",
       " -->\n",
       "<!-- Pages: 1 -->\n",
       "<svg width=\"170pt\" height=\"332pt\"\n",
       " viewBox=\"0.00 0.00 170.00 332.00\" xmlns=\"http://www.w3.org/2000/svg\" xmlns:xlink=\"http://www.w3.org/1999/xlink\">\n",
       "<g id=\"graph0\" class=\"graph\" transform=\"scale(1 1) rotate(0) translate(4 328)\">\n",
       "<polygon fill=\"white\" stroke=\"none\" points=\"-4,4 -4,-328 166,-328 166,4 -4,4\"/>\n",
       "<!-- a -->\n",
       "<g id=\"node1\" class=\"node\">\n",
       "<title>a</title>\n",
       "<text text-anchor=\"middle\" x=\"135\" y=\"-158.3\" font-family=\"Times,serif\" font-size=\"14.00\">a</text>\n",
       "</g>\n",
       "<!-- apple -->\n",
       "<g id=\"node8\" class=\"node\">\n",
       "<title>apple</title>\n",
       "<polygon fill=\"none\" stroke=\"black\" points=\"126,-108 72,-108 72,-72 126,-72 126,-108\"/>\n",
       "<text text-anchor=\"middle\" x=\"99\" y=\"-86.3\" font-family=\"Times,serif\" font-size=\"14.00\">apple</text>\n",
       "</g>\n",
       "<!-- a&#45;&gt;apple -->\n",
       "<g id=\"edge6\" class=\"edge\">\n",
       "<title>a&#45;&gt;apple</title>\n",
       "<path fill=\"none\" stroke=\"black\" d=\"M126.29,-144.05C122.32,-136.35 117.53,-127.03 113.07,-118.36\"/>\n",
       "<polygon fill=\"black\" stroke=\"black\" points=\"116.26,-116.91 108.58,-109.62 110.04,-120.11 116.26,-116.91\"/>\n",
       "</g>\n",
       "<!-- criss -->\n",
       "<g id=\"node2\" class=\"node\">\n",
       "<title>criss</title>\n",
       "<polygon fill=\"none\" stroke=\"black\" points=\"162,-252 108,-252 108,-216 162,-216 162,-252\"/>\n",
       "<text text-anchor=\"middle\" x=\"135\" y=\"-230.3\" font-family=\"Times,serif\" font-size=\"14.00\">criss</text>\n",
       "</g>\n",
       "<!-- criss&#45;&gt;a -->\n",
       "<g id=\"edge1\" class=\"edge\">\n",
       "<title>criss&#45;&gt;a</title>\n",
       "<path fill=\"none\" stroke=\"black\" d=\"M135,-215.7C135,-208.21 135,-199.26 135,-190.88\"/>\n",
       "<polygon fill=\"black\" stroke=\"black\" points=\"138.5,-191.14 135,-181.14 131.5,-191.14 138.5,-191.14\"/>\n",
       "</g>\n",
       "<!-- b -->\n",
       "<g id=\"node3\" class=\"node\">\n",
       "<title>b</title>\n",
       "<text text-anchor=\"middle\" x=\"63\" y=\"-158.3\" font-family=\"Times,serif\" font-size=\"14.00\">b</text>\n",
       "</g>\n",
       "<!-- b&#45;&gt;apple -->\n",
       "<g id=\"edge7\" class=\"edge\">\n",
       "<title>b&#45;&gt;apple</title>\n",
       "<path fill=\"none\" stroke=\"black\" d=\"M71.71,-144.05C75.68,-136.35 80.47,-127.03 84.93,-118.36\"/>\n",
       "<polygon fill=\"black\" stroke=\"black\" points=\"87.96,-120.11 89.42,-109.62 81.74,-116.91 87.96,-120.11\"/>\n",
       "</g>\n",
       "<!-- aa -->\n",
       "<g id=\"node4\" class=\"node\">\n",
       "<title>aa</title>\n",
       "<text text-anchor=\"middle\" x=\"27\" y=\"-302.3\" font-family=\"Times,serif\" font-size=\"14.00\">aa</text>\n",
       "</g>\n",
       "<!-- cross -->\n",
       "<g id=\"node6\" class=\"node\">\n",
       "<title>cross</title>\n",
       "<polygon fill=\"none\" stroke=\"black\" points=\"90,-252 36,-252 36,-216 90,-216 90,-252\"/>\n",
       "<text text-anchor=\"middle\" x=\"63\" y=\"-230.3\" font-family=\"Times,serif\" font-size=\"14.00\">cross</text>\n",
       "</g>\n",
       "<!-- aa&#45;&gt;cross -->\n",
       "<g id=\"edge3\" class=\"edge\">\n",
       "<title>aa&#45;&gt;cross</title>\n",
       "<path fill=\"none\" stroke=\"black\" d=\"M35.71,-288.05C39.68,-280.35 44.47,-271.03 48.93,-262.36\"/>\n",
       "<polygon fill=\"black\" stroke=\"black\" points=\"51.96,-264.11 53.42,-253.62 45.74,-260.91 51.96,-264.11\"/>\n",
       "</g>\n",
       "<!-- bb -->\n",
       "<g id=\"node5\" class=\"node\">\n",
       "<title>bb</title>\n",
       "<text text-anchor=\"middle\" x=\"99\" y=\"-302.3\" font-family=\"Times,serif\" font-size=\"14.00\">bb</text>\n",
       "</g>\n",
       "<!-- bb&#45;&gt;cross -->\n",
       "<g id=\"edge4\" class=\"edge\">\n",
       "<title>bb&#45;&gt;cross</title>\n",
       "<path fill=\"none\" stroke=\"black\" d=\"M90.29,-288.05C86.32,-280.35 81.53,-271.03 77.07,-262.36\"/>\n",
       "<polygon fill=\"black\" stroke=\"black\" points=\"80.26,-260.91 72.58,-253.62 74.04,-264.11 80.26,-260.91\"/>\n",
       "</g>\n",
       "<!-- cross&#45;&gt;b -->\n",
       "<g id=\"edge2\" class=\"edge\">\n",
       "<title>cross&#45;&gt;b</title>\n",
       "<path fill=\"none\" stroke=\"black\" d=\"M63,-215.7C63,-208.21 63,-199.26 63,-190.88\"/>\n",
       "<polygon fill=\"black\" stroke=\"black\" points=\"66.5,-191.14 63,-181.14 59.5,-191.14 66.5,-191.14\"/>\n",
       "</g>\n",
       "<!-- c -->\n",
       "<g id=\"node7\" class=\"node\">\n",
       "<title>c</title>\n",
       "<text text-anchor=\"middle\" x=\"99\" y=\"-14.3\" font-family=\"Times,serif\" font-size=\"14.00\">c</text>\n",
       "</g>\n",
       "<!-- apple&#45;&gt;c -->\n",
       "<g id=\"edge5\" class=\"edge\">\n",
       "<title>apple&#45;&gt;c</title>\n",
       "<path fill=\"none\" stroke=\"black\" d=\"M99,-71.7C99,-64.21 99,-55.26 99,-46.88\"/>\n",
       "<polygon fill=\"black\" stroke=\"black\" points=\"102.5,-47.14 99,-37.14 95.5,-47.14 102.5,-47.14\"/>\n",
       "</g>\n",
       "</g>\n",
       "</svg>\n"
      ],
      "text/plain": [
       "<graphviz.graphs.Digraph at 0x121496dd0>"
      ]
     },
     "execution_count": 168,
     "metadata": {},
     "output_type": "execute_result"
    }
   ],
   "source": [
    "dag2.dot_digraph()"
   ]
  },
  {
   "cell_type": "code",
   "execution_count": 169,
   "metadata": {},
   "outputs": [
    {
     "data": {
      "image/svg+xml": [
       "<?xml version=\"1.0\" encoding=\"UTF-8\" standalone=\"no\"?>\n",
       "<!DOCTYPE svg PUBLIC \"-//W3C//DTD SVG 1.1//EN\"\n",
       " \"http://www.w3.org/Graphics/SVG/1.1/DTD/svg11.dtd\">\n",
       "<!-- Generated by graphviz version 7.1.0 (20230121.1956)\n",
       " -->\n",
       "<!-- Pages: 1 -->\n",
       "<svg width=\"134pt\" height=\"188pt\"\n",
       " viewBox=\"0.00 0.00 134.00 188.00\" xmlns=\"http://www.w3.org/2000/svg\" xmlns:xlink=\"http://www.w3.org/1999/xlink\">\n",
       "<g id=\"graph0\" class=\"graph\" transform=\"scale(1 1) rotate(0) translate(4 184)\">\n",
       "<polygon fill=\"white\" stroke=\"none\" points=\"-4,4 -4,-184 130,-184 130,4 -4,4\"/>\n",
       "<!-- c -->\n",
       "<g id=\"node1\" class=\"node\">\n",
       "<title>c</title>\n",
       "<text text-anchor=\"middle\" x=\"63\" y=\"-14.3\" font-family=\"Times,serif\" font-size=\"14.00\">c</text>\n",
       "</g>\n",
       "<!-- a -->\n",
       "<g id=\"node2\" class=\"node\">\n",
       "<title>a</title>\n",
       "<text text-anchor=\"middle\" x=\"27\" y=\"-158.3\" font-family=\"Times,serif\" font-size=\"14.00\">a</text>\n",
       "</g>\n",
       "<!-- apple -->\n",
       "<g id=\"node4\" class=\"node\">\n",
       "<title>apple</title>\n",
       "<polygon fill=\"none\" stroke=\"black\" points=\"90,-108 36,-108 36,-72 90,-72 90,-108\"/>\n",
       "<text text-anchor=\"middle\" x=\"63\" y=\"-86.3\" font-family=\"Times,serif\" font-size=\"14.00\">apple</text>\n",
       "</g>\n",
       "<!-- a&#45;&gt;apple -->\n",
       "<g id=\"edge2\" class=\"edge\">\n",
       "<title>a&#45;&gt;apple</title>\n",
       "<path fill=\"none\" stroke=\"black\" d=\"M35.71,-144.05C39.68,-136.35 44.47,-127.03 48.93,-118.36\"/>\n",
       "<polygon fill=\"black\" stroke=\"black\" points=\"51.96,-120.11 53.42,-109.62 45.74,-116.91 51.96,-120.11\"/>\n",
       "</g>\n",
       "<!-- b -->\n",
       "<g id=\"node3\" class=\"node\">\n",
       "<title>b</title>\n",
       "<text text-anchor=\"middle\" x=\"99\" y=\"-158.3\" font-family=\"Times,serif\" font-size=\"14.00\">b</text>\n",
       "</g>\n",
       "<!-- b&#45;&gt;apple -->\n",
       "<g id=\"edge3\" class=\"edge\">\n",
       "<title>b&#45;&gt;apple</title>\n",
       "<path fill=\"none\" stroke=\"black\" d=\"M90.29,-144.05C86.32,-136.35 81.53,-127.03 77.07,-118.36\"/>\n",
       "<polygon fill=\"black\" stroke=\"black\" points=\"80.26,-116.91 72.58,-109.62 74.04,-120.11 80.26,-116.91\"/>\n",
       "</g>\n",
       "<!-- apple&#45;&gt;c -->\n",
       "<g id=\"edge1\" class=\"edge\">\n",
       "<title>apple&#45;&gt;c</title>\n",
       "<path fill=\"none\" stroke=\"black\" d=\"M63,-71.7C63,-64.21 63,-55.26 63,-46.88\"/>\n",
       "<polygon fill=\"black\" stroke=\"black\" points=\"66.5,-47.14 63,-37.14 59.5,-47.14 66.5,-47.14\"/>\n",
       "</g>\n",
       "</g>\n",
       "</svg>\n"
      ],
      "text/plain": [
       "<graphviz.graphs.Digraph at 0x1223e0eb0>"
      ]
     },
     "execution_count": 169,
     "metadata": {},
     "output_type": "execute_result"
    }
   ],
   "source": [
    "computation_dag = dag2['a':]\n",
    "computation_dag.dot_digraph()"
   ]
  },
  {
   "cell_type": "code",
   "execution_count": null,
   "metadata": {},
   "outputs": [],
   "source": []
  },
  {
   "cell_type": "code",
   "execution_count": 152,
   "metadata": {},
   "outputs": [
    {
     "data": {
      "image/svg+xml": [
       "<?xml version=\"1.0\" encoding=\"UTF-8\" standalone=\"no\"?>\n",
       "<!DOCTYPE svg PUBLIC \"-//W3C//DTD SVG 1.1//EN\"\n",
       " \"http://www.w3.org/Graphics/SVG/1.1/DTD/svg11.dtd\">\n",
       "<!-- Generated by graphviz version 7.1.0 (20230121.1956)\n",
       " -->\n",
       "<!-- Pages: 1 -->\n",
       "<svg width=\"278pt\" height=\"332pt\"\n",
       " viewBox=\"0.00 0.00 278.00 332.00\" xmlns=\"http://www.w3.org/2000/svg\" xmlns:xlink=\"http://www.w3.org/1999/xlink\">\n",
       "<g id=\"graph0\" class=\"graph\" transform=\"scale(1 1) rotate(0) translate(4 328)\">\n",
       "<polygon fill=\"white\" stroke=\"none\" points=\"-4,4 -4,-328 274,-328 274,4 -4,4\"/>\n",
       "<!-- a -->\n",
       "<g id=\"node1\" class=\"node\">\n",
       "<title>a</title>\n",
       "<text text-anchor=\"middle\" x=\"171\" y=\"-158.3\" font-family=\"Times,serif\" font-size=\"14.00\">a</text>\n",
       "</g>\n",
       "<!-- apple -->\n",
       "<g id=\"node10\" class=\"node\">\n",
       "<title>apple</title>\n",
       "<polygon fill=\"none\" stroke=\"black\" points=\"162,-108 108,-108 108,-72 162,-72 162,-108\"/>\n",
       "<text text-anchor=\"middle\" x=\"135\" y=\"-86.3\" font-family=\"Times,serif\" font-size=\"14.00\">apple</text>\n",
       "</g>\n",
       "<!-- a&#45;&gt;apple -->\n",
       "<g id=\"edge8\" class=\"edge\">\n",
       "<title>a&#45;&gt;apple</title>\n",
       "<path fill=\"none\" stroke=\"black\" d=\"M162.29,-144.05C158.32,-136.35 153.53,-127.03 149.07,-118.36\"/>\n",
       "<polygon fill=\"black\" stroke=\"black\" points=\"152.26,-116.91 144.58,-109.62 146.04,-120.11 152.26,-116.91\"/>\n",
       "</g>\n",
       "<!-- x -->\n",
       "<g id=\"node2\" class=\"node\">\n",
       "<title>x</title>\n",
       "<text text-anchor=\"middle\" x=\"171\" y=\"-302.3\" font-family=\"Times,serif\" font-size=\"14.00\">x</text>\n",
       "</g>\n",
       "<!-- criss -->\n",
       "<g id=\"node4\" class=\"node\">\n",
       "<title>criss</title>\n",
       "<polygon fill=\"none\" stroke=\"black\" points=\"198,-252 144,-252 144,-216 198,-216 198,-252\"/>\n",
       "<text text-anchor=\"middle\" x=\"171\" y=\"-230.3\" font-family=\"Times,serif\" font-size=\"14.00\">criss</text>\n",
       "</g>\n",
       "<!-- x&#45;&gt;criss -->\n",
       "<g id=\"edge2\" class=\"edge\">\n",
       "<title>x&#45;&gt;criss</title>\n",
       "<path fill=\"none\" stroke=\"black\" d=\"M171,-288.05C171,-280.68 171,-271.84 171,-263.51\"/>\n",
       "<polygon fill=\"black\" stroke=\"black\" points=\"174.5,-263.79 171,-253.79 167.5,-263.79 174.5,-263.79\"/>\n",
       "</g>\n",
       "<!-- y -->\n",
       "<g id=\"node3\" class=\"node\">\n",
       "<title>y</title>\n",
       "<text text-anchor=\"middle\" x=\"243\" y=\"-302.3\" font-family=\"Times,serif\" font-size=\"14.00\">y</text>\n",
       "</g>\n",
       "<!-- y&#45;&gt;criss -->\n",
       "<g id=\"edge3\" class=\"edge\">\n",
       "<title>y&#45;&gt;criss</title>\n",
       "<path fill=\"none\" stroke=\"black\" d=\"M225.57,-288.05C216.94,-279.67 206.36,-269.38 196.81,-260.1\"/>\n",
       "<polygon fill=\"black\" stroke=\"black\" points=\"199.46,-257.79 189.85,-253.33 194.58,-262.81 199.46,-257.79\"/>\n",
       "</g>\n",
       "<!-- criss&#45;&gt;a -->\n",
       "<g id=\"edge1\" class=\"edge\">\n",
       "<title>criss&#45;&gt;a</title>\n",
       "<path fill=\"none\" stroke=\"black\" d=\"M171,-215.7C171,-208.21 171,-199.26 171,-190.88\"/>\n",
       "<polygon fill=\"black\" stroke=\"black\" points=\"174.5,-191.14 171,-181.14 167.5,-191.14 174.5,-191.14\"/>\n",
       "</g>\n",
       "<!-- b -->\n",
       "<g id=\"node5\" class=\"node\">\n",
       "<title>b</title>\n",
       "<text text-anchor=\"middle\" x=\"99\" y=\"-158.3\" font-family=\"Times,serif\" font-size=\"14.00\">b</text>\n",
       "</g>\n",
       "<!-- b&#45;&gt;apple -->\n",
       "<g id=\"edge9\" class=\"edge\">\n",
       "<title>b&#45;&gt;apple</title>\n",
       "<path fill=\"none\" stroke=\"black\" d=\"M107.71,-144.05C111.68,-136.35 116.47,-127.03 120.93,-118.36\"/>\n",
       "<polygon fill=\"black\" stroke=\"black\" points=\"123.96,-120.11 125.42,-109.62 117.74,-116.91 123.96,-120.11\"/>\n",
       "</g>\n",
       "<!-- aa -->\n",
       "<g id=\"node6\" class=\"node\">\n",
       "<title>aa</title>\n",
       "<text text-anchor=\"middle\" x=\"27\" y=\"-302.3\" font-family=\"Times,serif\" font-size=\"14.00\">aa</text>\n",
       "</g>\n",
       "<!-- cross -->\n",
       "<g id=\"node8\" class=\"node\">\n",
       "<title>cross</title>\n",
       "<polygon fill=\"none\" stroke=\"black\" points=\"126,-252 72,-252 72,-216 126,-216 126,-252\"/>\n",
       "<text text-anchor=\"middle\" x=\"99\" y=\"-230.3\" font-family=\"Times,serif\" font-size=\"14.00\">cross</text>\n",
       "</g>\n",
       "<!-- aa&#45;&gt;cross -->\n",
       "<g id=\"edge5\" class=\"edge\">\n",
       "<title>aa&#45;&gt;cross</title>\n",
       "<path fill=\"none\" stroke=\"black\" d=\"M44.43,-288.05C53.06,-279.67 63.64,-269.38 73.19,-260.1\"/>\n",
       "<polygon fill=\"black\" stroke=\"black\" points=\"75.42,-262.81 80.15,-253.33 70.54,-257.79 75.42,-262.81\"/>\n",
       "</g>\n",
       "<!-- bb -->\n",
       "<g id=\"node7\" class=\"node\">\n",
       "<title>bb</title>\n",
       "<text text-anchor=\"middle\" x=\"99\" y=\"-302.3\" font-family=\"Times,serif\" font-size=\"14.00\">bb</text>\n",
       "</g>\n",
       "<!-- bb&#45;&gt;cross -->\n",
       "<g id=\"edge6\" class=\"edge\">\n",
       "<title>bb&#45;&gt;cross</title>\n",
       "<path fill=\"none\" stroke=\"black\" d=\"M99,-288.05C99,-280.68 99,-271.84 99,-263.51\"/>\n",
       "<polygon fill=\"black\" stroke=\"black\" points=\"102.5,-263.79 99,-253.79 95.5,-263.79 102.5,-263.79\"/>\n",
       "</g>\n",
       "<!-- cross&#45;&gt;b -->\n",
       "<g id=\"edge4\" class=\"edge\">\n",
       "<title>cross&#45;&gt;b</title>\n",
       "<path fill=\"none\" stroke=\"black\" d=\"M99,-215.7C99,-208.21 99,-199.26 99,-190.88\"/>\n",
       "<polygon fill=\"black\" stroke=\"black\" points=\"102.5,-191.14 99,-181.14 95.5,-191.14 102.5,-191.14\"/>\n",
       "</g>\n",
       "<!-- c -->\n",
       "<g id=\"node9\" class=\"node\">\n",
       "<title>c</title>\n",
       "<text text-anchor=\"middle\" x=\"135\" y=\"-14.3\" font-family=\"Times,serif\" font-size=\"14.00\">c</text>\n",
       "</g>\n",
       "<!-- apple&#45;&gt;c -->\n",
       "<g id=\"edge7\" class=\"edge\">\n",
       "<title>apple&#45;&gt;c</title>\n",
       "<path fill=\"none\" stroke=\"black\" d=\"M135,-71.7C135,-64.21 135,-55.26 135,-46.88\"/>\n",
       "<polygon fill=\"black\" stroke=\"black\" points=\"138.5,-47.14 135,-37.14 131.5,-47.14 138.5,-47.14\"/>\n",
       "</g>\n",
       "</g>\n",
       "</svg>\n"
      ],
      "text/plain": [
       "<graphviz.graphs.Digraph at 0x122a5b730>"
      ]
     },
     "execution_count": 152,
     "metadata": {},
     "output_type": "execute_result"
    }
   ],
   "source": [
    "from meshed import code_to_dag\n",
    "from meshed.dag import parametrized_dag_factory\n",
    "\n",
    "@code_to_dag\n",
    "def dag1():\n",
    "    a = criss(x,y)\n",
    "    b = cross(aa, bb)\n",
    "    c = apple(a, b)\n",
    "\n",
    "\n",
    "assert str(Sig(dag_factory1(x=1,y=2))) == '(b)'  # but we DO NOT WANT THAT.\n",
    "assert str(Sig(dag_factory1(x=1,y=2))) != '(aa, bb)'  # but we DO WANT THAT.\n",
    "dag1.dot_digraph()"
   ]
  },
  {
   "cell_type": "code",
   "execution_count": 153,
   "metadata": {},
   "outputs": [
    {
     "data": {
      "image/svg+xml": [
       "<?xml version=\"1.0\" encoding=\"UTF-8\" standalone=\"no\"?>\n",
       "<!DOCTYPE svg PUBLIC \"-//W3C//DTD SVG 1.1//EN\"\n",
       " \"http://www.w3.org/Graphics/SVG/1.1/DTD/svg11.dtd\">\n",
       "<!-- Generated by graphviz version 7.1.0 (20230121.1956)\n",
       " -->\n",
       "<!-- Pages: 1 -->\n",
       "<svg width=\"170pt\" height=\"332pt\"\n",
       " viewBox=\"0.00 0.00 170.00 332.00\" xmlns=\"http://www.w3.org/2000/svg\" xmlns:xlink=\"http://www.w3.org/1999/xlink\">\n",
       "<g id=\"graph0\" class=\"graph\" transform=\"scale(1 1) rotate(0) translate(4 328)\">\n",
       "<polygon fill=\"white\" stroke=\"none\" points=\"-4,4 -4,-328 166,-328 166,4 -4,4\"/>\n",
       "<!-- a -->\n",
       "<g id=\"node1\" class=\"node\">\n",
       "<title>a</title>\n",
       "<text text-anchor=\"middle\" x=\"135\" y=\"-158.3\" font-family=\"Times,serif\" font-size=\"14.00\">a</text>\n",
       "</g>\n",
       "<!-- apple -->\n",
       "<g id=\"node8\" class=\"node\">\n",
       "<title>apple</title>\n",
       "<polygon fill=\"none\" stroke=\"black\" points=\"126,-108 72,-108 72,-72 126,-72 126,-108\"/>\n",
       "<text text-anchor=\"middle\" x=\"99\" y=\"-86.3\" font-family=\"Times,serif\" font-size=\"14.00\">apple</text>\n",
       "</g>\n",
       "<!-- a&#45;&gt;apple -->\n",
       "<g id=\"edge6\" class=\"edge\">\n",
       "<title>a&#45;&gt;apple</title>\n",
       "<path fill=\"none\" stroke=\"black\" d=\"M126.29,-144.05C122.32,-136.35 117.53,-127.03 113.07,-118.36\"/>\n",
       "<polygon fill=\"black\" stroke=\"black\" points=\"116.26,-116.91 108.58,-109.62 110.04,-120.11 116.26,-116.91\"/>\n",
       "</g>\n",
       "<!-- criss -->\n",
       "<g id=\"node2\" class=\"node\">\n",
       "<title>criss</title>\n",
       "<polygon fill=\"none\" stroke=\"black\" points=\"162,-252 108,-252 108,-216 162,-216 162,-252\"/>\n",
       "<text text-anchor=\"middle\" x=\"135\" y=\"-230.3\" font-family=\"Times,serif\" font-size=\"14.00\">criss</text>\n",
       "</g>\n",
       "<!-- criss&#45;&gt;a -->\n",
       "<g id=\"edge1\" class=\"edge\">\n",
       "<title>criss&#45;&gt;a</title>\n",
       "<path fill=\"none\" stroke=\"black\" d=\"M135,-215.7C135,-208.21 135,-199.26 135,-190.88\"/>\n",
       "<polygon fill=\"black\" stroke=\"black\" points=\"138.5,-191.14 135,-181.14 131.5,-191.14 138.5,-191.14\"/>\n",
       "</g>\n",
       "<!-- b -->\n",
       "<g id=\"node3\" class=\"node\">\n",
       "<title>b</title>\n",
       "<text text-anchor=\"middle\" x=\"63\" y=\"-158.3\" font-family=\"Times,serif\" font-size=\"14.00\">b</text>\n",
       "</g>\n",
       "<!-- b&#45;&gt;apple -->\n",
       "<g id=\"edge7\" class=\"edge\">\n",
       "<title>b&#45;&gt;apple</title>\n",
       "<path fill=\"none\" stroke=\"black\" d=\"M71.71,-144.05C75.68,-136.35 80.47,-127.03 84.93,-118.36\"/>\n",
       "<polygon fill=\"black\" stroke=\"black\" points=\"87.96,-120.11 89.42,-109.62 81.74,-116.91 87.96,-120.11\"/>\n",
       "</g>\n",
       "<!-- aa -->\n",
       "<g id=\"node4\" class=\"node\">\n",
       "<title>aa</title>\n",
       "<text text-anchor=\"middle\" x=\"27\" y=\"-302.3\" font-family=\"Times,serif\" font-size=\"14.00\">aa</text>\n",
       "</g>\n",
       "<!-- cross -->\n",
       "<g id=\"node6\" class=\"node\">\n",
       "<title>cross</title>\n",
       "<polygon fill=\"none\" stroke=\"black\" points=\"90,-252 36,-252 36,-216 90,-216 90,-252\"/>\n",
       "<text text-anchor=\"middle\" x=\"63\" y=\"-230.3\" font-family=\"Times,serif\" font-size=\"14.00\">cross</text>\n",
       "</g>\n",
       "<!-- aa&#45;&gt;cross -->\n",
       "<g id=\"edge3\" class=\"edge\">\n",
       "<title>aa&#45;&gt;cross</title>\n",
       "<path fill=\"none\" stroke=\"black\" d=\"M35.71,-288.05C39.68,-280.35 44.47,-271.03 48.93,-262.36\"/>\n",
       "<polygon fill=\"black\" stroke=\"black\" points=\"51.96,-264.11 53.42,-253.62 45.74,-260.91 51.96,-264.11\"/>\n",
       "</g>\n",
       "<!-- bb -->\n",
       "<g id=\"node5\" class=\"node\">\n",
       "<title>bb</title>\n",
       "<text text-anchor=\"middle\" x=\"99\" y=\"-302.3\" font-family=\"Times,serif\" font-size=\"14.00\">bb</text>\n",
       "</g>\n",
       "<!-- bb&#45;&gt;cross -->\n",
       "<g id=\"edge4\" class=\"edge\">\n",
       "<title>bb&#45;&gt;cross</title>\n",
       "<path fill=\"none\" stroke=\"black\" d=\"M90.29,-288.05C86.32,-280.35 81.53,-271.03 77.07,-262.36\"/>\n",
       "<polygon fill=\"black\" stroke=\"black\" points=\"80.26,-260.91 72.58,-253.62 74.04,-264.11 80.26,-260.91\"/>\n",
       "</g>\n",
       "<!-- cross&#45;&gt;b -->\n",
       "<g id=\"edge2\" class=\"edge\">\n",
       "<title>cross&#45;&gt;b</title>\n",
       "<path fill=\"none\" stroke=\"black\" d=\"M63,-215.7C63,-208.21 63,-199.26 63,-190.88\"/>\n",
       "<polygon fill=\"black\" stroke=\"black\" points=\"66.5,-191.14 63,-181.14 59.5,-191.14 66.5,-191.14\"/>\n",
       "</g>\n",
       "<!-- c -->\n",
       "<g id=\"node7\" class=\"node\">\n",
       "<title>c</title>\n",
       "<text text-anchor=\"middle\" x=\"99\" y=\"-14.3\" font-family=\"Times,serif\" font-size=\"14.00\">c</text>\n",
       "</g>\n",
       "<!-- apple&#45;&gt;c -->\n",
       "<g id=\"edge5\" class=\"edge\">\n",
       "<title>apple&#45;&gt;c</title>\n",
       "<path fill=\"none\" stroke=\"black\" d=\"M99,-71.7C99,-64.21 99,-55.26 99,-46.88\"/>\n",
       "<polygon fill=\"black\" stroke=\"black\" points=\"102.5,-47.14 99,-37.14 95.5,-47.14 102.5,-47.14\"/>\n",
       "</g>\n",
       "</g>\n",
       "</svg>\n"
      ],
      "text/plain": [
       "<graphviz.graphs.Digraph at 0x1223cc490>"
      ]
     },
     "execution_count": 153,
     "metadata": {},
     "output_type": "execute_result"
    }
   ],
   "source": [
    "@code_to_dag\n",
    "def dag2():\n",
    "    a = criss()\n",
    "    b = cross(aa, bb)\n",
    "    c = apple(a, b)\n",
    "\n",
    "dag_factory2 = parametrized_dag_factory(dag2, 'a')\n",
    "assert str(Sig(dag_factory2())) == '(a, b)'\n",
    "# <Sig (a, b)>  # to be consistent with the above, it should be Sig (b)\n",
    "dag2.dot_digraph()"
   ]
  },
  {
   "cell_type": "code",
   "execution_count": 142,
   "metadata": {},
   "outputs": [
    {
     "data": {
      "image/svg+xml": [
       "<?xml version=\"1.0\" encoding=\"UTF-8\" standalone=\"no\"?>\n",
       "<!DOCTYPE svg PUBLIC \"-//W3C//DTD SVG 1.1//EN\"\n",
       " \"http://www.w3.org/Graphics/SVG/1.1/DTD/svg11.dtd\">\n",
       "<!-- Generated by graphviz version 7.1.0 (20230121.1956)\n",
       " -->\n",
       "<!-- Pages: 1 -->\n",
       "<svg width=\"170pt\" height=\"332pt\"\n",
       " viewBox=\"0.00 0.00 170.00 332.00\" xmlns=\"http://www.w3.org/2000/svg\" xmlns:xlink=\"http://www.w3.org/1999/xlink\">\n",
       "<g id=\"graph0\" class=\"graph\" transform=\"scale(1 1) rotate(0) translate(4 328)\">\n",
       "<polygon fill=\"white\" stroke=\"none\" points=\"-4,4 -4,-328 166,-328 166,4 -4,4\"/>\n",
       "<!-- a -->\n",
       "<g id=\"node1\" class=\"node\">\n",
       "<title>a</title>\n",
       "<text text-anchor=\"middle\" x=\"135\" y=\"-158.3\" font-family=\"Times,serif\" font-size=\"14.00\">a</text>\n",
       "</g>\n",
       "<!-- apple -->\n",
       "<g id=\"node8\" class=\"node\">\n",
       "<title>apple</title>\n",
       "<polygon fill=\"none\" stroke=\"black\" points=\"126,-108 72,-108 72,-72 126,-72 126,-108\"/>\n",
       "<text text-anchor=\"middle\" x=\"99\" y=\"-86.3\" font-family=\"Times,serif\" font-size=\"14.00\">apple</text>\n",
       "</g>\n",
       "<!-- a&#45;&gt;apple -->\n",
       "<g id=\"edge6\" class=\"edge\">\n",
       "<title>a&#45;&gt;apple</title>\n",
       "<path fill=\"none\" stroke=\"black\" d=\"M126.29,-144.05C122.32,-136.35 117.53,-127.03 113.07,-118.36\"/>\n",
       "<polygon fill=\"black\" stroke=\"black\" points=\"116.26,-116.91 108.58,-109.62 110.04,-120.11 116.26,-116.91\"/>\n",
       "</g>\n",
       "<!-- criss -->\n",
       "<g id=\"node2\" class=\"node\">\n",
       "<title>criss</title>\n",
       "<polygon fill=\"none\" stroke=\"black\" points=\"162,-252 108,-252 108,-216 162,-216 162,-252\"/>\n",
       "<text text-anchor=\"middle\" x=\"135\" y=\"-230.3\" font-family=\"Times,serif\" font-size=\"14.00\">criss</text>\n",
       "</g>\n",
       "<!-- criss&#45;&gt;a -->\n",
       "<g id=\"edge1\" class=\"edge\">\n",
       "<title>criss&#45;&gt;a</title>\n",
       "<path fill=\"none\" stroke=\"black\" d=\"M135,-215.7C135,-208.21 135,-199.26 135,-190.88\"/>\n",
       "<polygon fill=\"black\" stroke=\"black\" points=\"138.5,-191.14 135,-181.14 131.5,-191.14 138.5,-191.14\"/>\n",
       "</g>\n",
       "<!-- b -->\n",
       "<g id=\"node3\" class=\"node\">\n",
       "<title>b</title>\n",
       "<text text-anchor=\"middle\" x=\"63\" y=\"-158.3\" font-family=\"Times,serif\" font-size=\"14.00\">b</text>\n",
       "</g>\n",
       "<!-- b&#45;&gt;apple -->\n",
       "<g id=\"edge7\" class=\"edge\">\n",
       "<title>b&#45;&gt;apple</title>\n",
       "<path fill=\"none\" stroke=\"black\" d=\"M71.71,-144.05C75.68,-136.35 80.47,-127.03 84.93,-118.36\"/>\n",
       "<polygon fill=\"black\" stroke=\"black\" points=\"87.96,-120.11 89.42,-109.62 81.74,-116.91 87.96,-120.11\"/>\n",
       "</g>\n",
       "<!-- aa -->\n",
       "<g id=\"node4\" class=\"node\">\n",
       "<title>aa</title>\n",
       "<text text-anchor=\"middle\" x=\"27\" y=\"-302.3\" font-family=\"Times,serif\" font-size=\"14.00\">aa</text>\n",
       "</g>\n",
       "<!-- cross -->\n",
       "<g id=\"node6\" class=\"node\">\n",
       "<title>cross</title>\n",
       "<polygon fill=\"none\" stroke=\"black\" points=\"90,-252 36,-252 36,-216 90,-216 90,-252\"/>\n",
       "<text text-anchor=\"middle\" x=\"63\" y=\"-230.3\" font-family=\"Times,serif\" font-size=\"14.00\">cross</text>\n",
       "</g>\n",
       "<!-- aa&#45;&gt;cross -->\n",
       "<g id=\"edge3\" class=\"edge\">\n",
       "<title>aa&#45;&gt;cross</title>\n",
       "<path fill=\"none\" stroke=\"black\" d=\"M35.71,-288.05C39.68,-280.35 44.47,-271.03 48.93,-262.36\"/>\n",
       "<polygon fill=\"black\" stroke=\"black\" points=\"51.96,-264.11 53.42,-253.62 45.74,-260.91 51.96,-264.11\"/>\n",
       "</g>\n",
       "<!-- bb -->\n",
       "<g id=\"node5\" class=\"node\">\n",
       "<title>bb</title>\n",
       "<text text-anchor=\"middle\" x=\"99\" y=\"-302.3\" font-family=\"Times,serif\" font-size=\"14.00\">bb</text>\n",
       "</g>\n",
       "<!-- bb&#45;&gt;cross -->\n",
       "<g id=\"edge4\" class=\"edge\">\n",
       "<title>bb&#45;&gt;cross</title>\n",
       "<path fill=\"none\" stroke=\"black\" d=\"M90.29,-288.05C86.32,-280.35 81.53,-271.03 77.07,-262.36\"/>\n",
       "<polygon fill=\"black\" stroke=\"black\" points=\"80.26,-260.91 72.58,-253.62 74.04,-264.11 80.26,-260.91\"/>\n",
       "</g>\n",
       "<!-- cross&#45;&gt;b -->\n",
       "<g id=\"edge2\" class=\"edge\">\n",
       "<title>cross&#45;&gt;b</title>\n",
       "<path fill=\"none\" stroke=\"black\" d=\"M63,-215.7C63,-208.21 63,-199.26 63,-190.88\"/>\n",
       "<polygon fill=\"black\" stroke=\"black\" points=\"66.5,-191.14 63,-181.14 59.5,-191.14 66.5,-191.14\"/>\n",
       "</g>\n",
       "<!-- c -->\n",
       "<g id=\"node7\" class=\"node\">\n",
       "<title>c</title>\n",
       "<text text-anchor=\"middle\" x=\"99\" y=\"-14.3\" font-family=\"Times,serif\" font-size=\"14.00\">c</text>\n",
       "</g>\n",
       "<!-- apple&#45;&gt;c -->\n",
       "<g id=\"edge5\" class=\"edge\">\n",
       "<title>apple&#45;&gt;c</title>\n",
       "<path fill=\"none\" stroke=\"black\" d=\"M99,-71.7C99,-64.21 99,-55.26 99,-46.88\"/>\n",
       "<polygon fill=\"black\" stroke=\"black\" points=\"102.5,-47.14 99,-37.14 95.5,-47.14 102.5,-47.14\"/>\n",
       "</g>\n",
       "</g>\n",
       "</svg>\n"
      ],
      "text/plain": [
       "<graphviz.graphs.Digraph at 0x121fd3c40>"
      ]
     },
     "execution_count": 142,
     "metadata": {},
     "output_type": "execute_result"
    }
   ],
   "source": []
  },
  {
   "cell_type": "code",
   "execution_count": null,
   "metadata": {},
   "outputs": [],
   "source": []
  },
  {
   "cell_type": "code",
   "execution_count": null,
   "metadata": {},
   "outputs": [],
   "source": []
  },
  {
   "attachments": {},
   "cell_type": "markdown",
   "metadata": {},
   "source": [
    "## graph operations"
   ]
  },
  {
   "cell_type": "code",
   "execution_count": 36,
   "metadata": {
    "ExecuteTime": {
     "end_time": "2021-07-31T08:54:21.141263Z",
     "start_time": "2021-07-31T08:54:21.109850Z"
    }
   },
   "outputs": [],
   "source": [
    "d = bigger_dag"
   ]
  },
  {
   "cell_type": "code",
   "execution_count": 127,
   "metadata": {
    "ExecuteTime": {
     "end_time": "2021-08-02T16:28:48.866333Z",
     "start_time": "2021-08-02T16:28:47.927179Z"
    }
   },
   "outputs": [
    {
     "data": {
      "image/svg+xml": [
       "<?xml version=\"1.0\" encoding=\"UTF-8\" standalone=\"no\"?>\n",
       "<!DOCTYPE svg PUBLIC \"-//W3C//DTD SVG 1.1//EN\"\n",
       " \"http://www.w3.org/Graphics/SVG/1.1/DTD/svg11.dtd\">\n",
       "<!-- Generated by graphviz version 2.48.0 (20210717.1556)\n",
       " -->\n",
       "<!-- Pages: 1 -->\n",
       "<svg width=\"282pt\" height=\"908pt\"\n",
       " viewBox=\"0.00 0.00 281.50 908.00\" xmlns=\"http://www.w3.org/2000/svg\" xmlns:xlink=\"http://www.w3.org/1999/xlink\">\n",
       "<g id=\"graph0\" class=\"graph\" transform=\"scale(1 1) rotate(0) translate(4 904)\">\n",
       "<polygon fill=\"white\" stroke=\"transparent\" points=\"-4,4 -4,-904 277.5,-904 277.5,4 -4,4\"/>\n",
       "<!-- train_test_split -->\n",
       "<g id=\"node1\" class=\"node\">\n",
       "<title>train_test_split</title>\n",
       "<text text-anchor=\"middle\" x=\"195.5\" y=\"-734.3\" font-family=\"Times,serif\" font-size=\"14.00\">train_test_split</text>\n",
       "</g>\n",
       "<!-- test_y_ -->\n",
       "<g id=\"node6\" class=\"node\">\n",
       "<title>test_y_</title>\n",
       "<polygon fill=\"none\" stroke=\"black\" points=\"263,-684 206,-684 206,-648 263,-648 263,-684\"/>\n",
       "<text text-anchor=\"middle\" x=\"234.5\" y=\"-662.3\" font-family=\"Times,serif\" font-size=\"14.00\">test_y_</text>\n",
       "</g>\n",
       "<!-- train_test_split&#45;&gt;test_y_ -->\n",
       "<g id=\"edge5\" class=\"edge\">\n",
       "<title>train_test_split&#45;&gt;test_y_</title>\n",
       "<path fill=\"none\" stroke=\"black\" d=\"M205.14,-719.7C209.63,-711.64 215.06,-701.89 220.02,-692.98\"/>\n",
       "<polygon fill=\"black\" stroke=\"black\" points=\"223.16,-694.54 224.97,-684.1 217.05,-691.14 223.16,-694.54\"/>\n",
       "</g>\n",
       "<!-- test_X_ -->\n",
       "<g id=\"node10\" class=\"node\">\n",
       "<title>test_X_</title>\n",
       "<polygon fill=\"none\" stroke=\"black\" points=\"187.5,-684 127.5,-684 127.5,-648 187.5,-648 187.5,-684\"/>\n",
       "<text text-anchor=\"middle\" x=\"157.5\" y=\"-662.3\" font-family=\"Times,serif\" font-size=\"14.00\">test_X_</text>\n",
       "</g>\n",
       "<!-- train_test_split&#45;&gt;test_X_ -->\n",
       "<g id=\"edge9\" class=\"edge\">\n",
       "<title>train_test_split&#45;&gt;test_X_</title>\n",
       "<path fill=\"none\" stroke=\"black\" d=\"M186.11,-719.7C181.74,-711.64 176.44,-701.89 171.6,-692.98\"/>\n",
       "<polygon fill=\"black\" stroke=\"black\" points=\"174.63,-691.22 166.79,-684.1 168.48,-694.56 174.63,-691.22\"/>\n",
       "</g>\n",
       "<!-- train_test_split_ -->\n",
       "<g id=\"node2\" class=\"node\">\n",
       "<title>train_test_split_</title>\n",
       "<polygon fill=\"none\" stroke=\"black\" points=\"249,-828 142,-828 142,-792 249,-792 249,-828\"/>\n",
       "<text text-anchor=\"middle\" x=\"195.5\" y=\"-806.3\" font-family=\"Times,serif\" font-size=\"14.00\">train_test_split_</text>\n",
       "</g>\n",
       "<!-- train_test_split_&#45;&gt;train_test_split -->\n",
       "<g id=\"edge1\" class=\"edge\">\n",
       "<title>train_test_split_&#45;&gt;train_test_split</title>\n",
       "<path fill=\"none\" stroke=\"black\" d=\"M195.5,-791.7C195.5,-783.98 195.5,-774.71 195.5,-766.11\"/>\n",
       "<polygon fill=\"black\" stroke=\"black\" points=\"199,-766.1 195.5,-756.1 192,-766.1 199,-766.1\"/>\n",
       "</g>\n",
       "<!-- arrays -->\n",
       "<g id=\"node3\" class=\"node\">\n",
       "<title>arrays</title>\n",
       "<text text-anchor=\"middle\" x=\"154.5\" y=\"-878.3\" font-family=\"Times,serif\" font-size=\"14.00\">*arrays</text>\n",
       "</g>\n",
       "<!-- arrays&#45;&gt;train_test_split_ -->\n",
       "<g id=\"edge2\" class=\"edge\">\n",
       "<title>arrays&#45;&gt;train_test_split_</title>\n",
       "<path fill=\"none\" stroke=\"black\" d=\"M164.63,-863.7C169.35,-855.64 175.06,-845.89 180.28,-836.98\"/>\n",
       "<polygon fill=\"black\" stroke=\"black\" points=\"183.45,-838.5 185.48,-828.1 177.41,-834.96 183.45,-838.5\"/>\n",
       "</g>\n",
       "<!-- options -->\n",
       "<g id=\"node4\" class=\"node\">\n",
       "<title>options</title>\n",
       "<text text-anchor=\"middle\" x=\"237.5\" y=\"-878.3\" font-family=\"Times,serif\" font-size=\"14.00\">**options</text>\n",
       "</g>\n",
       "<!-- options&#45;&gt;train_test_split_ -->\n",
       "<g id=\"edge3\" class=\"edge\">\n",
       "<title>options&#45;&gt;train_test_split_</title>\n",
       "<path fill=\"none\" stroke=\"black\" d=\"M227.12,-863.7C222.24,-855.56 216.31,-845.69 210.92,-836.7\"/>\n",
       "<polygon fill=\"black\" stroke=\"black\" points=\"213.91,-834.88 205.76,-828.1 207.91,-838.48 213.91,-834.88\"/>\n",
       "</g>\n",
       "<!-- test_y -->\n",
       "<g id=\"node5\" class=\"node\">\n",
       "<title>test_y</title>\n",
       "<text text-anchor=\"middle\" x=\"234.5\" y=\"-590.3\" font-family=\"Times,serif\" font-size=\"14.00\">test_y</text>\n",
       "</g>\n",
       "<!-- truth_ -->\n",
       "<g id=\"node8\" class=\"node\">\n",
       "<title>truth_</title>\n",
       "<polygon fill=\"none\" stroke=\"black\" points=\"261.5,-540 207.5,-540 207.5,-504 261.5,-504 261.5,-540\"/>\n",
       "<text text-anchor=\"middle\" x=\"234.5\" y=\"-518.3\" font-family=\"Times,serif\" font-size=\"14.00\">truth_</text>\n",
       "</g>\n",
       "<!-- test_y&#45;&gt;truth_ -->\n",
       "<g id=\"edge7\" class=\"edge\">\n",
       "<title>test_y&#45;&gt;truth_</title>\n",
       "<path fill=\"none\" stroke=\"black\" d=\"M234.5,-575.7C234.5,-567.98 234.5,-558.71 234.5,-550.11\"/>\n",
       "<polygon fill=\"black\" stroke=\"black\" points=\"238,-550.1 234.5,-540.1 231,-550.1 238,-550.1\"/>\n",
       "</g>\n",
       "<!-- test_y_&#45;&gt;test_y -->\n",
       "<g id=\"edge4\" class=\"edge\">\n",
       "<title>test_y_&#45;&gt;test_y</title>\n",
       "<path fill=\"none\" stroke=\"black\" d=\"M234.5,-647.7C234.5,-639.98 234.5,-630.71 234.5,-622.11\"/>\n",
       "<polygon fill=\"black\" stroke=\"black\" points=\"238,-622.1 234.5,-612.1 231,-622.1 238,-622.1\"/>\n",
       "</g>\n",
       "<!-- truth -->\n",
       "<g id=\"node7\" class=\"node\">\n",
       "<title>truth</title>\n",
       "<text text-anchor=\"middle\" x=\"228.5\" y=\"-374.3\" font-family=\"Times,serif\" font-size=\"14.00\">truth</text>\n",
       "</g>\n",
       "<!-- confusion_count_ -->\n",
       "<g id=\"node18\" class=\"node\">\n",
       "<title>confusion_count_</title>\n",
       "<polygon fill=\"none\" stroke=\"black\" points=\"241,-252 124,-252 124,-216 241,-216 241,-252\"/>\n",
       "<text text-anchor=\"middle\" x=\"182.5\" y=\"-230.3\" font-family=\"Times,serif\" font-size=\"14.00\">confusion_count_</text>\n",
       "</g>\n",
       "<!-- truth&#45;&gt;confusion_count_ -->\n",
       "<g id=\"edge18\" class=\"edge\">\n",
       "<title>truth&#45;&gt;confusion_count_</title>\n",
       "<path fill=\"none\" stroke=\"black\" d=\"M222.95,-359.87C215.08,-335.56 200.58,-290.82 191.25,-262.01\"/>\n",
       "<polygon fill=\"black\" stroke=\"black\" points=\"194.48,-260.62 188.07,-252.19 187.82,-262.78 194.48,-260.62\"/>\n",
       "</g>\n",
       "<!-- truth_&#45;&gt;truth -->\n",
       "<g id=\"edge6\" class=\"edge\">\n",
       "<title>truth_&#45;&gt;truth</title>\n",
       "<path fill=\"none\" stroke=\"black\" d=\"M233.78,-503.87C232.75,-479.67 230.88,-435.21 229.66,-406.39\"/>\n",
       "<polygon fill=\"black\" stroke=\"black\" points=\"233.15,-406.03 229.23,-396.19 226.15,-406.33 233.15,-406.03\"/>\n",
       "</g>\n",
       "<!-- test_X -->\n",
       "<g id=\"node9\" class=\"node\">\n",
       "<title>test_X</title>\n",
       "<text text-anchor=\"middle\" x=\"157.5\" y=\"-590.3\" font-family=\"Times,serif\" font-size=\"14.00\">test_X</text>\n",
       "</g>\n",
       "<!-- predict_proba_ -->\n",
       "<g id=\"node12\" class=\"node\">\n",
       "<title>predict_proba_</title>\n",
       "<polygon fill=\"none\" stroke=\"black\" points=\"189,-540 88,-540 88,-504 189,-504 189,-540\"/>\n",
       "<text text-anchor=\"middle\" x=\"138.5\" y=\"-518.3\" font-family=\"Times,serif\" font-size=\"14.00\">predict_proba_</text>\n",
       "</g>\n",
       "<!-- test_X&#45;&gt;predict_proba_ -->\n",
       "<g id=\"edge12\" class=\"edge\">\n",
       "<title>test_X&#45;&gt;predict_proba_</title>\n",
       "<path fill=\"none\" stroke=\"black\" d=\"M152.8,-575.7C150.69,-567.9 148.14,-558.51 145.78,-549.83\"/>\n",
       "<polygon fill=\"black\" stroke=\"black\" points=\"149.14,-548.84 143.14,-540.1 142.38,-550.67 149.14,-548.84\"/>\n",
       "</g>\n",
       "<!-- test_X_&#45;&gt;test_X -->\n",
       "<g id=\"edge8\" class=\"edge\">\n",
       "<title>test_X_&#45;&gt;test_X</title>\n",
       "<path fill=\"none\" stroke=\"black\" d=\"M157.5,-647.7C157.5,-639.98 157.5,-630.71 157.5,-622.11\"/>\n",
       "<polygon fill=\"black\" stroke=\"black\" points=\"161,-622.1 157.5,-612.1 154,-622.1 161,-622.1\"/>\n",
       "</g>\n",
       "<!-- predict_proba -->\n",
       "<g id=\"node11\" class=\"node\">\n",
       "<title>predict_proba</title>\n",
       "<text text-anchor=\"middle\" x=\"140.5\" y=\"-446.3\" font-family=\"Times,serif\" font-size=\"14.00\">predict_proba</text>\n",
       "</g>\n",
       "<!-- prediction_ -->\n",
       "<g id=\"node15\" class=\"node\">\n",
       "<title>prediction_</title>\n",
       "<polygon fill=\"none\" stroke=\"black\" points=\"180.5,-396 100.5,-396 100.5,-360 180.5,-360 180.5,-396\"/>\n",
       "<text text-anchor=\"middle\" x=\"140.5\" y=\"-374.3\" font-family=\"Times,serif\" font-size=\"14.00\">prediction_</text>\n",
       "</g>\n",
       "<!-- predict_proba&#45;&gt;prediction_ -->\n",
       "<g id=\"edge14\" class=\"edge\">\n",
       "<title>predict_proba&#45;&gt;prediction_</title>\n",
       "<path fill=\"none\" stroke=\"black\" d=\"M140.5,-431.7C140.5,-423.98 140.5,-414.71 140.5,-406.11\"/>\n",
       "<polygon fill=\"black\" stroke=\"black\" points=\"144,-406.1 140.5,-396.1 137,-406.1 144,-406.1\"/>\n",
       "</g>\n",
       "<!-- predict_proba_&#45;&gt;predict_proba -->\n",
       "<g id=\"edge10\" class=\"edge\">\n",
       "<title>predict_proba_&#45;&gt;predict_proba</title>\n",
       "<path fill=\"none\" stroke=\"black\" d=\"M138.99,-503.7C139.21,-495.98 139.48,-486.71 139.73,-478.11\"/>\n",
       "<polygon fill=\"black\" stroke=\"black\" points=\"143.22,-478.2 140.01,-468.1 136.23,-478 143.22,-478.2\"/>\n",
       "</g>\n",
       "<!-- model -->\n",
       "<g id=\"node13\" class=\"node\">\n",
       "<title>model</title>\n",
       "<text text-anchor=\"middle\" x=\"85.5\" y=\"-590.3\" font-family=\"Times,serif\" font-size=\"14.00\">model</text>\n",
       "</g>\n",
       "<!-- model&#45;&gt;predict_proba_ -->\n",
       "<g id=\"edge11\" class=\"edge\">\n",
       "<title>model&#45;&gt;predict_proba_</title>\n",
       "<path fill=\"none\" stroke=\"black\" d=\"M98.6,-575.7C104.89,-567.39 112.55,-557.28 119.46,-548.14\"/>\n",
       "<polygon fill=\"black\" stroke=\"black\" points=\"122.3,-550.19 125.55,-540.1 116.72,-545.96 122.3,-550.19\"/>\n",
       "</g>\n",
       "<!-- prediction -->\n",
       "<g id=\"node14\" class=\"node\">\n",
       "<title>prediction</title>\n",
       "<text text-anchor=\"middle\" x=\"150.5\" y=\"-302.3\" font-family=\"Times,serif\" font-size=\"14.00\">prediction</text>\n",
       "</g>\n",
       "<!-- prediction&#45;&gt;confusion_count_ -->\n",
       "<g id=\"edge17\" class=\"edge\">\n",
       "<title>prediction&#45;&gt;confusion_count_</title>\n",
       "<path fill=\"none\" stroke=\"black\" d=\"M158.41,-287.7C162.05,-279.73 166.45,-270.1 170.49,-261.26\"/>\n",
       "<polygon fill=\"black\" stroke=\"black\" points=\"173.71,-262.65 174.68,-252.1 167.34,-259.74 173.71,-262.65\"/>\n",
       "</g>\n",
       "<!-- prediction_&#45;&gt;prediction -->\n",
       "<g id=\"edge13\" class=\"edge\">\n",
       "<title>prediction_&#45;&gt;prediction</title>\n",
       "<path fill=\"none\" stroke=\"black\" d=\"M142.97,-359.7C144.07,-351.98 145.4,-342.71 146.63,-334.11\"/>\n",
       "<polygon fill=\"black\" stroke=\"black\" points=\"150.11,-334.5 148.06,-324.1 143.18,-333.51 150.11,-334.5\"/>\n",
       "</g>\n",
       "<!-- threshold -->\n",
       "<g id=\"node16\" class=\"node\">\n",
       "<title>threshold</title>\n",
       "<text text-anchor=\"middle\" x=\"40.5\" y=\"-446.3\" font-family=\"Times,serif\" font-size=\"14.00\">threshold</text>\n",
       "</g>\n",
       "<!-- threshold&#45;&gt;prediction_ -->\n",
       "<g id=\"edge15\" class=\"edge\">\n",
       "<title>threshold&#45;&gt;prediction_</title>\n",
       "<path fill=\"none\" stroke=\"black\" d=\"M64.96,-431.88C77.8,-422.89 93.7,-411.76 107.59,-402.03\"/>\n",
       "<polygon fill=\"black\" stroke=\"black\" points=\"109.76,-404.79 115.94,-396.19 105.74,-399.06 109.76,-404.79\"/>\n",
       "</g>\n",
       "<!-- confusion_count -->\n",
       "<g id=\"node17\" class=\"node\">\n",
       "<title>confusion_count</title>\n",
       "<text text-anchor=\"middle\" x=\"182.5\" y=\"-158.3\" font-family=\"Times,serif\" font-size=\"14.00\">confusion_count</text>\n",
       "</g>\n",
       "<!-- classifier_score_ -->\n",
       "<g id=\"node20\" class=\"node\">\n",
       "<title>classifier_score_</title>\n",
       "<polygon fill=\"none\" stroke=\"black\" points=\"173.5,-108 63.5,-108 63.5,-72 173.5,-72 173.5,-108\"/>\n",
       "<text text-anchor=\"middle\" x=\"118.5\" y=\"-86.3\" font-family=\"Times,serif\" font-size=\"14.00\">classifier_score_</text>\n",
       "</g>\n",
       "<!-- confusion_count&#45;&gt;classifier_score_ -->\n",
       "<g id=\"edge20\" class=\"edge\">\n",
       "<title>confusion_count&#45;&gt;classifier_score_</title>\n",
       "<path fill=\"none\" stroke=\"black\" d=\"M166.68,-143.7C158.93,-135.22 149.46,-124.86 140.98,-115.58\"/>\n",
       "<polygon fill=\"black\" stroke=\"black\" points=\"143.47,-113.12 134.14,-108.1 138.3,-117.85 143.47,-113.12\"/>\n",
       "</g>\n",
       "<!-- confusion_count_&#45;&gt;confusion_count -->\n",
       "<g id=\"edge16\" class=\"edge\">\n",
       "<title>confusion_count_&#45;&gt;confusion_count</title>\n",
       "<path fill=\"none\" stroke=\"black\" d=\"M182.5,-215.7C182.5,-207.98 182.5,-198.71 182.5,-190.11\"/>\n",
       "<polygon fill=\"black\" stroke=\"black\" points=\"186,-190.1 182.5,-180.1 179,-190.1 186,-190.1\"/>\n",
       "</g>\n",
       "<!-- classifier_score -->\n",
       "<g id=\"node19\" class=\"node\">\n",
       "<title>classifier_score</title>\n",
       "<text text-anchor=\"middle\" x=\"118.5\" y=\"-14.3\" font-family=\"Times,serif\" font-size=\"14.00\">classifier_score</text>\n",
       "</g>\n",
       "<!-- classifier_score_&#45;&gt;classifier_score -->\n",
       "<g id=\"edge19\" class=\"edge\">\n",
       "<title>classifier_score_&#45;&gt;classifier_score</title>\n",
       "<path fill=\"none\" stroke=\"black\" d=\"M118.5,-71.7C118.5,-63.98 118.5,-54.71 118.5,-46.11\"/>\n",
       "<polygon fill=\"black\" stroke=\"black\" points=\"122,-46.1 118.5,-36.1 115,-46.1 122,-46.1\"/>\n",
       "</g>\n",
       "<!-- confusion_value -->\n",
       "<g id=\"node21\" class=\"node\">\n",
       "<title>confusion_value</title>\n",
       "<text text-anchor=\"middle\" x=\"54.5\" y=\"-158.3\" font-family=\"Times,serif\" font-size=\"14.00\">confusion_value</text>\n",
       "</g>\n",
       "<!-- confusion_value&#45;&gt;classifier_score_ -->\n",
       "<g id=\"edge21\" class=\"edge\">\n",
       "<title>confusion_value&#45;&gt;classifier_score_</title>\n",
       "<path fill=\"none\" stroke=\"black\" d=\"M70.32,-143.7C78.07,-135.22 87.54,-124.86 96.02,-115.58\"/>\n",
       "<polygon fill=\"black\" stroke=\"black\" points=\"98.7,-117.85 102.86,-108.1 93.53,-113.12 98.7,-117.85\"/>\n",
       "</g>\n",
       "</g>\n",
       "</svg>\n"
      ],
      "text/plain": [
       "<graphviz.dot.Digraph at 0x12dd104f0>"
      ]
     },
     "execution_count": 127,
     "metadata": {},
     "output_type": "execute_result"
    }
   ],
   "source": [
    "d.dot_digraph()"
   ]
  },
  {
   "cell_type": "code",
   "execution_count": 139,
   "metadata": {
    "ExecuteTime": {
     "end_time": "2021-08-02T16:42:00.613672Z",
     "start_time": "2021-08-02T16:42:00.283036Z"
    }
   },
   "outputs": [
    {
     "data": {
      "image/svg+xml": [
       "<?xml version=\"1.0\" encoding=\"UTF-8\" standalone=\"no\"?>\n",
       "<!DOCTYPE svg PUBLIC \"-//W3C//DTD SVG 1.1//EN\"\n",
       " \"http://www.w3.org/Graphics/SVG/1.1/DTD/svg11.dtd\">\n",
       "<!-- Generated by graphviz version 2.48.0 (20210717.1556)\n",
       " -->\n",
       "<!-- Pages: 1 -->\n",
       "<svg width=\"202pt\" height=\"332pt\"\n",
       " viewBox=\"0.00 0.00 201.50 332.00\" xmlns=\"http://www.w3.org/2000/svg\" xmlns:xlink=\"http://www.w3.org/1999/xlink\">\n",
       "<g id=\"graph0\" class=\"graph\" transform=\"scale(1 1) rotate(0) translate(4 328)\">\n",
       "<polygon fill=\"white\" stroke=\"transparent\" points=\"-4,4 -4,-328 197.5,-328 197.5,4 -4,4\"/>\n",
       "<!-- prediction -->\n",
       "<g id=\"node1\" class=\"node\">\n",
       "<title>prediction</title>\n",
       "<text text-anchor=\"middle\" x=\"109\" y=\"-158.3\" font-family=\"Times,serif\" font-size=\"14.00\">prediction</text>\n",
       "</g>\n",
       "<!-- confusion_count_ -->\n",
       "<g id=\"node6\" class=\"node\">\n",
       "<title>confusion_count_</title>\n",
       "<polygon fill=\"none\" stroke=\"black\" points=\"126.5,-108 9.5,-108 9.5,-72 126.5,-72 126.5,-108\"/>\n",
       "<text text-anchor=\"middle\" x=\"68\" y=\"-86.3\" font-family=\"Times,serif\" font-size=\"14.00\">confusion_count_</text>\n",
       "</g>\n",
       "<!-- prediction&#45;&gt;confusion_count_ -->\n",
       "<g id=\"edge5\" class=\"edge\">\n",
       "<title>prediction&#45;&gt;confusion_count_</title>\n",
       "<path fill=\"none\" stroke=\"black\" d=\"M98.87,-143.7C94.15,-135.64 88.44,-125.89 83.22,-116.98\"/>\n",
       "<polygon fill=\"black\" stroke=\"black\" points=\"86.09,-114.96 78.02,-108.1 80.05,-118.5 86.09,-114.96\"/>\n",
       "</g>\n",
       "<!-- prediction_ -->\n",
       "<g id=\"node2\" class=\"node\">\n",
       "<title>prediction_</title>\n",
       "<polygon fill=\"none\" stroke=\"black\" points=\"149,-252 69,-252 69,-216 149,-216 149,-252\"/>\n",
       "<text text-anchor=\"middle\" x=\"109\" y=\"-230.3\" font-family=\"Times,serif\" font-size=\"14.00\">prediction_</text>\n",
       "</g>\n",
       "<!-- prediction_&#45;&gt;prediction -->\n",
       "<g id=\"edge1\" class=\"edge\">\n",
       "<title>prediction_&#45;&gt;prediction</title>\n",
       "<path fill=\"none\" stroke=\"black\" d=\"M109,-215.7C109,-207.98 109,-198.71 109,-190.11\"/>\n",
       "<polygon fill=\"black\" stroke=\"black\" points=\"112.5,-190.1 109,-180.1 105.5,-190.1 112.5,-190.1\"/>\n",
       "</g>\n",
       "<!-- predict_proba -->\n",
       "<g id=\"node3\" class=\"node\">\n",
       "<title>predict_proba</title>\n",
       "<text text-anchor=\"middle\" x=\"59\" y=\"-302.3\" font-family=\"Times,serif\" font-size=\"14.00\">predict_proba</text>\n",
       "</g>\n",
       "<!-- predict_proba&#45;&gt;prediction_ -->\n",
       "<g id=\"edge2\" class=\"edge\">\n",
       "<title>predict_proba&#45;&gt;prediction_</title>\n",
       "<path fill=\"none\" stroke=\"black\" d=\"M71.36,-287.7C77.23,-279.47 84.37,-269.48 90.84,-260.42\"/>\n",
       "<polygon fill=\"black\" stroke=\"black\" points=\"93.82,-262.28 96.78,-252.1 88.12,-258.21 93.82,-262.28\"/>\n",
       "</g>\n",
       "<!-- threshold -->\n",
       "<g id=\"node4\" class=\"node\">\n",
       "<title>threshold</title>\n",
       "<text text-anchor=\"middle\" x=\"159\" y=\"-302.3\" font-family=\"Times,serif\" font-size=\"14.00\">threshold</text>\n",
       "</g>\n",
       "<!-- threshold&#45;&gt;prediction_ -->\n",
       "<g id=\"edge3\" class=\"edge\">\n",
       "<title>threshold&#45;&gt;prediction_</title>\n",
       "<path fill=\"none\" stroke=\"black\" d=\"M146.64,-287.7C140.77,-279.47 133.63,-269.48 127.16,-260.42\"/>\n",
       "<polygon fill=\"black\" stroke=\"black\" points=\"129.88,-258.21 121.22,-252.1 124.18,-262.28 129.88,-258.21\"/>\n",
       "</g>\n",
       "<!-- confusion_count -->\n",
       "<g id=\"node5\" class=\"node\">\n",
       "<title>confusion_count</title>\n",
       "<text text-anchor=\"middle\" x=\"68\" y=\"-14.3\" font-family=\"Times,serif\" font-size=\"14.00\">confusion_count</text>\n",
       "</g>\n",
       "<!-- confusion_count_&#45;&gt;confusion_count -->\n",
       "<g id=\"edge4\" class=\"edge\">\n",
       "<title>confusion_count_&#45;&gt;confusion_count</title>\n",
       "<path fill=\"none\" stroke=\"black\" d=\"M68,-71.7C68,-63.98 68,-54.71 68,-46.11\"/>\n",
       "<polygon fill=\"black\" stroke=\"black\" points=\"71.5,-46.1 68,-36.1 64.5,-46.1 71.5,-46.1\"/>\n",
       "</g>\n",
       "<!-- truth -->\n",
       "<g id=\"node7\" class=\"node\">\n",
       "<title>truth</title>\n",
       "<text text-anchor=\"middle\" x=\"27\" y=\"-158.3\" font-family=\"Times,serif\" font-size=\"14.00\">truth</text>\n",
       "</g>\n",
       "<!-- truth&#45;&gt;confusion_count_ -->\n",
       "<g id=\"edge6\" class=\"edge\">\n",
       "<title>truth&#45;&gt;confusion_count_</title>\n",
       "<path fill=\"none\" stroke=\"black\" d=\"M37.13,-143.7C41.85,-135.64 47.56,-125.89 52.78,-116.98\"/>\n",
       "<polygon fill=\"black\" stroke=\"black\" points=\"55.95,-118.5 57.98,-108.1 49.91,-114.96 55.95,-118.5\"/>\n",
       "</g>\n",
       "</g>\n",
       "</svg>\n"
      ],
      "text/plain": [
       "<graphviz.dot.Digraph at 0x12dd10eb0>"
      ]
     },
     "execution_count": 139,
     "metadata": {},
     "output_type": "execute_result"
    }
   ],
   "source": [
    "d[['threshold', 'predict_proba', 'truth'], :].dot_digraph()"
   ]
  },
  {
   "cell_type": "code",
   "execution_count": null,
   "metadata": {},
   "outputs": [],
   "source": []
  },
  {
   "cell_type": "code",
   "execution_count": 43,
   "metadata": {
    "ExecuteTime": {
     "end_time": "2021-07-31T08:58:30.882866Z",
     "start_time": "2021-07-31T08:58:30.808752Z"
    }
   },
   "outputs": [
    {
     "data": {
      "image/svg+xml": [
       "<?xml version=\"1.0\" encoding=\"UTF-8\" standalone=\"no\"?>\n",
       "<!DOCTYPE svg PUBLIC \"-//W3C//DTD SVG 1.1//EN\"\n",
       " \"http://www.w3.org/Graphics/SVG/1.1/DTD/svg11.dtd\">\n",
       "<!-- Generated by graphviz version 2.48.0 (20210717.1556)\n",
       " -->\n",
       "<!-- Pages: 1 -->\n",
       "<svg width=\"8pt\" height=\"8pt\"\n",
       " viewBox=\"0.00 0.00 8.00 8.00\" xmlns=\"http://www.w3.org/2000/svg\" xmlns:xlink=\"http://www.w3.org/1999/xlink\">\n",
       "<g id=\"graph0\" class=\"graph\" transform=\"scale(1 1) rotate(0) translate(4 4)\">\n",
       "<polygon fill=\"white\" stroke=\"transparent\" points=\"-4,4 -4,-4 4,-4 4,4 -4,4\"/>\n",
       "</g>\n",
       "</svg>\n"
      ],
      "text/plain": [
       "<graphviz.dot.Digraph at 0x12b478130>"
      ]
     },
     "execution_count": 43,
     "metadata": {},
     "output_type": "execute_result"
    }
   ],
   "source": [
    "dd = dag_from_funcnodes(d, ['threshold', 'predict_proba', 'truth'])\n",
    "dd.dot_digraph()"
   ]
  },
  {
   "cell_type": "code",
   "execution_count": 41,
   "metadata": {
    "ExecuteTime": {
     "end_time": "2021-07-31T08:56:15.256367Z",
     "start_time": "2021-07-31T08:56:15.224161Z"
    }
   },
   "outputs": [
    {
     "data": {
      "text/plain": [
       "{FuncNode(prediction,truth -> confusion_count_ -> confusion_count),\n",
       " 'confusion_count',\n",
       " 'prediction',\n",
       " 'truth'}"
      ]
     },
     "execution_count": 41,
     "metadata": {},
     "output_type": "execute_result"
    }
   ],
   "source": [
    "extended_family(d.graph, ['prediction', 'truth'])"
   ]
  },
  {
   "cell_type": "code",
   "execution_count": 47,
   "metadata": {
    "ExecuteTime": {
     "end_time": "2021-07-31T09:03:58.218681Z",
     "start_time": "2021-07-31T09:03:58.168039Z"
    }
   },
   "outputs": [],
   "source": [
    "g = d.graph"
   ]
  },
  {
   "cell_type": "code",
   "execution_count": 59,
   "metadata": {
    "ExecuteTime": {
     "end_time": "2021-07-31T09:10:45.939053Z",
     "start_time": "2021-07-31T09:10:45.903997Z"
    }
   },
   "outputs": [
    {
     "data": {
      "text/plain": [
       "[FuncNode(train_test_split -> test_X_ -> test_X),\n",
       " FuncNode(train_test_split -> test_y_ -> test_y),\n",
       " FuncNode(prediction,truth -> confusion_count_ -> confusion_count),\n",
       " FuncNode(test_y -> truth_ -> truth),\n",
       " FuncNode(predict_proba,threshold -> prediction_ -> prediction),\n",
       " FuncNode(confusion_count,confusion_value -> classifier_score_ -> classifier_score),\n",
       " FuncNode(model,test_X -> predict_proba_ -> predict_proba)]"
      ]
     },
     "execution_count": 59,
     "metadata": {},
     "output_type": "execute_result"
    }
   ],
   "source": [
    "from functools import partial\n",
    "is_func_node = lambda x: isinstance(x, FuncNode)\n",
    "t = list(filter(is_func_node, descendants(g, ['train_test_split'])))\n",
    "t"
   ]
  },
  {
   "cell_type": "code",
   "execution_count": 60,
   "metadata": {
    "ExecuteTime": {
     "end_time": "2021-07-31T09:10:50.558129Z",
     "start_time": "2021-07-31T09:10:50.526074Z"
    }
   },
   "outputs": [
    {
     "data": {
      "text/plain": [
       "[FuncNode(train_test_split -> test_X_ -> test_X),\n",
       " FuncNode(arrays,options -> train_test_split_ -> train_test_split),\n",
       " FuncNode(predict_proba,threshold -> prediction_ -> prediction),\n",
       " FuncNode(model,test_X -> predict_proba_ -> predict_proba)]"
      ]
     },
     "execution_count": 60,
     "metadata": {},
     "output_type": "execute_result"
    }
   ],
   "source": [
    "tt = list(filter(is_func_node, ancestors(g, ['prediction'])))\n",
    "tt"
   ]
  },
  {
   "cell_type": "code",
   "execution_count": 64,
   "metadata": {
    "ExecuteTime": {
     "end_time": "2021-07-31T09:11:54.043830Z",
     "start_time": "2021-07-31T09:11:53.785258Z"
    }
   },
   "outputs": [
    {
     "data": {
      "image/svg+xml": [
       "<?xml version=\"1.0\" encoding=\"UTF-8\" standalone=\"no\"?>\n",
       "<!DOCTYPE svg PUBLIC \"-//W3C//DTD SVG 1.1//EN\"\n",
       " \"http://www.w3.org/Graphics/SVG/1.1/DTD/svg11.dtd\">\n",
       "<!-- Generated by graphviz version 2.48.0 (20210717.1556)\n",
       " -->\n",
       "<!-- Pages: 1 -->\n",
       "<svg width=\"229pt\" height=\"476pt\"\n",
       " viewBox=\"0.00 0.00 228.50 476.00\" xmlns=\"http://www.w3.org/2000/svg\" xmlns:xlink=\"http://www.w3.org/1999/xlink\">\n",
       "<g id=\"graph0\" class=\"graph\" transform=\"scale(1 1) rotate(0) translate(4 472)\">\n",
       "<polygon fill=\"white\" stroke=\"transparent\" points=\"-4,4 -4,-472 224.5,-472 224.5,4 -4,4\"/>\n",
       "<!-- test_X -->\n",
       "<g id=\"node1\" class=\"node\">\n",
       "<title>test_X</title>\n",
       "<text text-anchor=\"middle\" x=\"170.5\" y=\"-302.3\" font-family=\"Times,serif\" font-size=\"14.00\">test_X</text>\n",
       "</g>\n",
       "<!-- predict_proba_ -->\n",
       "<g id=\"node5\" class=\"node\">\n",
       "<title>predict_proba_</title>\n",
       "<polygon fill=\"none\" stroke=\"black\" points=\"185,-252 84,-252 84,-216 185,-216 185,-252\"/>\n",
       "<text text-anchor=\"middle\" x=\"134.5\" y=\"-230.3\" font-family=\"Times,serif\" font-size=\"14.00\">predict_proba_</text>\n",
       "</g>\n",
       "<!-- test_X&#45;&gt;predict_proba_ -->\n",
       "<g id=\"edge5\" class=\"edge\">\n",
       "<title>test_X&#45;&gt;predict_proba_</title>\n",
       "<path fill=\"none\" stroke=\"black\" d=\"M161.6,-287.7C157.5,-279.73 152.55,-270.1 148.01,-261.26\"/>\n",
       "<polygon fill=\"black\" stroke=\"black\" points=\"150.98,-259.4 143.3,-252.1 144.76,-262.6 150.98,-259.4\"/>\n",
       "</g>\n",
       "<!-- test_X_ -->\n",
       "<g id=\"node2\" class=\"node\">\n",
       "<title>test_X_</title>\n",
       "<polygon fill=\"none\" stroke=\"black\" points=\"200.5,-396 140.5,-396 140.5,-360 200.5,-360 200.5,-396\"/>\n",
       "<text text-anchor=\"middle\" x=\"170.5\" y=\"-374.3\" font-family=\"Times,serif\" font-size=\"14.00\">test_X_</text>\n",
       "</g>\n",
       "<!-- test_X_&#45;&gt;test_X -->\n",
       "<g id=\"edge1\" class=\"edge\">\n",
       "<title>test_X_&#45;&gt;test_X</title>\n",
       "<path fill=\"none\" stroke=\"black\" d=\"M170.5,-359.7C170.5,-351.98 170.5,-342.71 170.5,-334.11\"/>\n",
       "<polygon fill=\"black\" stroke=\"black\" points=\"174,-334.1 170.5,-324.1 167,-334.1 174,-334.1\"/>\n",
       "</g>\n",
       "<!-- train_test_split -->\n",
       "<g id=\"node3\" class=\"node\">\n",
       "<title>train_test_split</title>\n",
       "<text text-anchor=\"middle\" x=\"170.5\" y=\"-446.3\" font-family=\"Times,serif\" font-size=\"14.00\">train_test_split</text>\n",
       "</g>\n",
       "<!-- train_test_split&#45;&gt;test_X_ -->\n",
       "<g id=\"edge2\" class=\"edge\">\n",
       "<title>train_test_split&#45;&gt;test_X_</title>\n",
       "<path fill=\"none\" stroke=\"black\" d=\"M170.5,-431.7C170.5,-423.98 170.5,-414.71 170.5,-406.11\"/>\n",
       "<polygon fill=\"black\" stroke=\"black\" points=\"174,-406.1 170.5,-396.1 167,-406.1 174,-406.1\"/>\n",
       "</g>\n",
       "<!-- predict_proba -->\n",
       "<g id=\"node4\" class=\"node\">\n",
       "<title>predict_proba</title>\n",
       "<text text-anchor=\"middle\" x=\"134.5\" y=\"-158.3\" font-family=\"Times,serif\" font-size=\"14.00\">predict_proba</text>\n",
       "</g>\n",
       "<!-- prediction_ -->\n",
       "<g id=\"node8\" class=\"node\">\n",
       "<title>prediction_</title>\n",
       "<polygon fill=\"none\" stroke=\"black\" points=\"124.5,-108 44.5,-108 44.5,-72 124.5,-72 124.5,-108\"/>\n",
       "<text text-anchor=\"middle\" x=\"84.5\" y=\"-86.3\" font-family=\"Times,serif\" font-size=\"14.00\">prediction_</text>\n",
       "</g>\n",
       "<!-- predict_proba&#45;&gt;prediction_ -->\n",
       "<g id=\"edge7\" class=\"edge\">\n",
       "<title>predict_proba&#45;&gt;prediction_</title>\n",
       "<path fill=\"none\" stroke=\"black\" d=\"M122.14,-143.7C116.27,-135.47 109.13,-125.48 102.66,-116.42\"/>\n",
       "<polygon fill=\"black\" stroke=\"black\" points=\"105.38,-114.21 96.72,-108.1 99.68,-118.28 105.38,-114.21\"/>\n",
       "</g>\n",
       "<!-- predict_proba_&#45;&gt;predict_proba -->\n",
       "<g id=\"edge3\" class=\"edge\">\n",
       "<title>predict_proba_&#45;&gt;predict_proba</title>\n",
       "<path fill=\"none\" stroke=\"black\" d=\"M134.5,-215.7C134.5,-207.98 134.5,-198.71 134.5,-190.11\"/>\n",
       "<polygon fill=\"black\" stroke=\"black\" points=\"138,-190.1 134.5,-180.1 131,-190.1 138,-190.1\"/>\n",
       "</g>\n",
       "<!-- model -->\n",
       "<g id=\"node6\" class=\"node\">\n",
       "<title>model</title>\n",
       "<text text-anchor=\"middle\" x=\"98.5\" y=\"-302.3\" font-family=\"Times,serif\" font-size=\"14.00\">model</text>\n",
       "</g>\n",
       "<!-- model&#45;&gt;predict_proba_ -->\n",
       "<g id=\"edge4\" class=\"edge\">\n",
       "<title>model&#45;&gt;predict_proba_</title>\n",
       "<path fill=\"none\" stroke=\"black\" d=\"M107.4,-287.7C111.5,-279.73 116.45,-270.1 120.99,-261.26\"/>\n",
       "<polygon fill=\"black\" stroke=\"black\" points=\"124.24,-262.6 125.7,-252.1 118.02,-259.4 124.24,-262.6\"/>\n",
       "</g>\n",
       "<!-- prediction -->\n",
       "<g id=\"node7\" class=\"node\">\n",
       "<title>prediction</title>\n",
       "<text text-anchor=\"middle\" x=\"84.5\" y=\"-14.3\" font-family=\"Times,serif\" font-size=\"14.00\">prediction</text>\n",
       "</g>\n",
       "<!-- prediction_&#45;&gt;prediction -->\n",
       "<g id=\"edge6\" class=\"edge\">\n",
       "<title>prediction_&#45;&gt;prediction</title>\n",
       "<path fill=\"none\" stroke=\"black\" d=\"M84.5,-71.7C84.5,-63.98 84.5,-54.71 84.5,-46.11\"/>\n",
       "<polygon fill=\"black\" stroke=\"black\" points=\"88,-46.1 84.5,-36.1 81,-46.1 88,-46.1\"/>\n",
       "</g>\n",
       "<!-- threshold -->\n",
       "<g id=\"node9\" class=\"node\">\n",
       "<title>threshold</title>\n",
       "<text text-anchor=\"middle\" x=\"34.5\" y=\"-158.3\" font-family=\"Times,serif\" font-size=\"14.00\">threshold</text>\n",
       "</g>\n",
       "<!-- threshold&#45;&gt;prediction_ -->\n",
       "<g id=\"edge8\" class=\"edge\">\n",
       "<title>threshold&#45;&gt;prediction_</title>\n",
       "<path fill=\"none\" stroke=\"black\" d=\"M46.86,-143.7C52.73,-135.47 59.87,-125.48 66.34,-116.42\"/>\n",
       "<polygon fill=\"black\" stroke=\"black\" points=\"69.32,-118.28 72.28,-108.1 63.62,-114.21 69.32,-118.28\"/>\n",
       "</g>\n",
       "</g>\n",
       "</svg>\n"
      ],
      "text/plain": [
       "<graphviz.dot.Digraph at 0x12b899340>"
      ]
     },
     "execution_count": 64,
     "metadata": {},
     "output_type": "execute_result"
    }
   ],
   "source": [
    "DAG(set(t).intersection(tt)).dot_digraph()"
   ]
  },
  {
   "cell_type": "code",
   "execution_count": 81,
   "metadata": {
    "ExecuteTime": {
     "end_time": "2021-07-31T09:30:23.314694Z",
     "start_time": "2021-07-31T09:30:23.127365Z"
    }
   },
   "outputs": [
    {
     "data": {
      "text/plain": [
       "[FuncNode(arrays,options -> train_test_split_ -> train_test_split),\n",
       " FuncNode(train_test_split -> test_y_ -> test_y),\n",
       " FuncNode(test_y -> truth_ -> truth),\n",
       " FuncNode(train_test_split -> test_X_ -> test_X),\n",
       " FuncNode(model,test_X -> predict_proba_ -> predict_proba),\n",
       " FuncNode(predict_proba,threshold -> prediction_ -> prediction),\n",
       " FuncNode(prediction,truth -> confusion_count_ -> confusion_count),\n",
       " FuncNode(confusion_count,confusion_value -> classifier_score_ -> classifier_score)]"
      ]
     },
     "execution_count": 81,
     "metadata": {},
     "output_type": "execute_result"
    }
   ],
   "source": [
    "list(d)"
   ]
  },
  {
   "cell_type": "code",
   "execution_count": 70,
   "metadata": {
    "ExecuteTime": {
     "end_time": "2021-07-31T09:22:40.222757Z",
     "start_time": "2021-07-31T09:22:39.818627Z"
    }
   },
   "outputs": [
    {
     "data": {
      "image/svg+xml": [
       "<?xml version=\"1.0\" encoding=\"UTF-8\" standalone=\"no\"?>\n",
       "<!DOCTYPE svg PUBLIC \"-//W3C//DTD SVG 1.1//EN\"\n",
       " \"http://www.w3.org/Graphics/SVG/1.1/DTD/svg11.dtd\">\n",
       "<!-- Generated by graphviz version 2.48.0 (20210717.1556)\n",
       " -->\n",
       "<!-- Pages: 1 -->\n",
       "<svg width=\"229pt\" height=\"476pt\"\n",
       " viewBox=\"0.00 0.00 228.50 476.00\" xmlns=\"http://www.w3.org/2000/svg\" xmlns:xlink=\"http://www.w3.org/1999/xlink\">\n",
       "<g id=\"graph0\" class=\"graph\" transform=\"scale(1 1) rotate(0) translate(4 472)\">\n",
       "<polygon fill=\"white\" stroke=\"transparent\" points=\"-4,4 -4,-472 224.5,-472 224.5,4 -4,4\"/>\n",
       "<!-- test_X -->\n",
       "<g id=\"node1\" class=\"node\">\n",
       "<title>test_X</title>\n",
       "<text text-anchor=\"middle\" x=\"170.5\" y=\"-302.3\" font-family=\"Times,serif\" font-size=\"14.00\">test_X</text>\n",
       "</g>\n",
       "<!-- predict_proba_ -->\n",
       "<g id=\"node5\" class=\"node\">\n",
       "<title>predict_proba_</title>\n",
       "<polygon fill=\"none\" stroke=\"black\" points=\"185,-252 84,-252 84,-216 185,-216 185,-252\"/>\n",
       "<text text-anchor=\"middle\" x=\"134.5\" y=\"-230.3\" font-family=\"Times,serif\" font-size=\"14.00\">predict_proba_</text>\n",
       "</g>\n",
       "<!-- test_X&#45;&gt;predict_proba_ -->\n",
       "<g id=\"edge5\" class=\"edge\">\n",
       "<title>test_X&#45;&gt;predict_proba_</title>\n",
       "<path fill=\"none\" stroke=\"black\" d=\"M161.6,-287.7C157.5,-279.73 152.55,-270.1 148.01,-261.26\"/>\n",
       "<polygon fill=\"black\" stroke=\"black\" points=\"150.98,-259.4 143.3,-252.1 144.76,-262.6 150.98,-259.4\"/>\n",
       "</g>\n",
       "<!-- test_X_ -->\n",
       "<g id=\"node2\" class=\"node\">\n",
       "<title>test_X_</title>\n",
       "<polygon fill=\"none\" stroke=\"black\" points=\"200.5,-396 140.5,-396 140.5,-360 200.5,-360 200.5,-396\"/>\n",
       "<text text-anchor=\"middle\" x=\"170.5\" y=\"-374.3\" font-family=\"Times,serif\" font-size=\"14.00\">test_X_</text>\n",
       "</g>\n",
       "<!-- test_X_&#45;&gt;test_X -->\n",
       "<g id=\"edge1\" class=\"edge\">\n",
       "<title>test_X_&#45;&gt;test_X</title>\n",
       "<path fill=\"none\" stroke=\"black\" d=\"M170.5,-359.7C170.5,-351.98 170.5,-342.71 170.5,-334.11\"/>\n",
       "<polygon fill=\"black\" stroke=\"black\" points=\"174,-334.1 170.5,-324.1 167,-334.1 174,-334.1\"/>\n",
       "</g>\n",
       "<!-- train_test_split -->\n",
       "<g id=\"node3\" class=\"node\">\n",
       "<title>train_test_split</title>\n",
       "<text text-anchor=\"middle\" x=\"170.5\" y=\"-446.3\" font-family=\"Times,serif\" font-size=\"14.00\">train_test_split</text>\n",
       "</g>\n",
       "<!-- train_test_split&#45;&gt;test_X_ -->\n",
       "<g id=\"edge2\" class=\"edge\">\n",
       "<title>train_test_split&#45;&gt;test_X_</title>\n",
       "<path fill=\"none\" stroke=\"black\" d=\"M170.5,-431.7C170.5,-423.98 170.5,-414.71 170.5,-406.11\"/>\n",
       "<polygon fill=\"black\" stroke=\"black\" points=\"174,-406.1 170.5,-396.1 167,-406.1 174,-406.1\"/>\n",
       "</g>\n",
       "<!-- predict_proba -->\n",
       "<g id=\"node4\" class=\"node\">\n",
       "<title>predict_proba</title>\n",
       "<text text-anchor=\"middle\" x=\"134.5\" y=\"-158.3\" font-family=\"Times,serif\" font-size=\"14.00\">predict_proba</text>\n",
       "</g>\n",
       "<!-- prediction_ -->\n",
       "<g id=\"node8\" class=\"node\">\n",
       "<title>prediction_</title>\n",
       "<polygon fill=\"none\" stroke=\"black\" points=\"124.5,-108 44.5,-108 44.5,-72 124.5,-72 124.5,-108\"/>\n",
       "<text text-anchor=\"middle\" x=\"84.5\" y=\"-86.3\" font-family=\"Times,serif\" font-size=\"14.00\">prediction_</text>\n",
       "</g>\n",
       "<!-- predict_proba&#45;&gt;prediction_ -->\n",
       "<g id=\"edge7\" class=\"edge\">\n",
       "<title>predict_proba&#45;&gt;prediction_</title>\n",
       "<path fill=\"none\" stroke=\"black\" d=\"M122.14,-143.7C116.27,-135.47 109.13,-125.48 102.66,-116.42\"/>\n",
       "<polygon fill=\"black\" stroke=\"black\" points=\"105.38,-114.21 96.72,-108.1 99.68,-118.28 105.38,-114.21\"/>\n",
       "</g>\n",
       "<!-- predict_proba_&#45;&gt;predict_proba -->\n",
       "<g id=\"edge3\" class=\"edge\">\n",
       "<title>predict_proba_&#45;&gt;predict_proba</title>\n",
       "<path fill=\"none\" stroke=\"black\" d=\"M134.5,-215.7C134.5,-207.98 134.5,-198.71 134.5,-190.11\"/>\n",
       "<polygon fill=\"black\" stroke=\"black\" points=\"138,-190.1 134.5,-180.1 131,-190.1 138,-190.1\"/>\n",
       "</g>\n",
       "<!-- model -->\n",
       "<g id=\"node6\" class=\"node\">\n",
       "<title>model</title>\n",
       "<text text-anchor=\"middle\" x=\"98.5\" y=\"-302.3\" font-family=\"Times,serif\" font-size=\"14.00\">model</text>\n",
       "</g>\n",
       "<!-- model&#45;&gt;predict_proba_ -->\n",
       "<g id=\"edge4\" class=\"edge\">\n",
       "<title>model&#45;&gt;predict_proba_</title>\n",
       "<path fill=\"none\" stroke=\"black\" d=\"M107.4,-287.7C111.5,-279.73 116.45,-270.1 120.99,-261.26\"/>\n",
       "<polygon fill=\"black\" stroke=\"black\" points=\"124.24,-262.6 125.7,-252.1 118.02,-259.4 124.24,-262.6\"/>\n",
       "</g>\n",
       "<!-- prediction -->\n",
       "<g id=\"node7\" class=\"node\">\n",
       "<title>prediction</title>\n",
       "<text text-anchor=\"middle\" x=\"84.5\" y=\"-14.3\" font-family=\"Times,serif\" font-size=\"14.00\">prediction</text>\n",
       "</g>\n",
       "<!-- prediction_&#45;&gt;prediction -->\n",
       "<g id=\"edge6\" class=\"edge\">\n",
       "<title>prediction_&#45;&gt;prediction</title>\n",
       "<path fill=\"none\" stroke=\"black\" d=\"M84.5,-71.7C84.5,-63.98 84.5,-54.71 84.5,-46.11\"/>\n",
       "<polygon fill=\"black\" stroke=\"black\" points=\"88,-46.1 84.5,-36.1 81,-46.1 88,-46.1\"/>\n",
       "</g>\n",
       "<!-- threshold -->\n",
       "<g id=\"node9\" class=\"node\">\n",
       "<title>threshold</title>\n",
       "<text text-anchor=\"middle\" x=\"34.5\" y=\"-158.3\" font-family=\"Times,serif\" font-size=\"14.00\">threshold</text>\n",
       "</g>\n",
       "<!-- threshold&#45;&gt;prediction_ -->\n",
       "<g id=\"edge8\" class=\"edge\">\n",
       "<title>threshold&#45;&gt;prediction_</title>\n",
       "<path fill=\"none\" stroke=\"black\" d=\"M46.86,-143.7C52.73,-135.47 59.87,-125.48 66.34,-116.42\"/>\n",
       "<polygon fill=\"black\" stroke=\"black\" points=\"69.32,-118.28 72.28,-108.1 63.62,-114.21 69.32,-118.28\"/>\n",
       "</g>\n",
       "</g>\n",
       "</svg>\n"
      ],
      "text/plain": [
       "<graphviz.dot.Digraph at 0x12ba99d60>"
      ]
     },
     "execution_count": 70,
     "metadata": {},
     "output_type": "execute_result"
    }
   ],
   "source": [
    "dd = d['train_test_split', 'prediction']\n",
    "dd.dot_digraph()"
   ]
  },
  {
   "cell_type": "code",
   "execution_count": 72,
   "metadata": {
    "ExecuteTime": {
     "end_time": "2021-07-31T09:24:08.004063Z",
     "start_time": "2021-07-31T09:24:07.972093Z"
    }
   },
   "outputs": [
    {
     "data": {
      "text/plain": [
       "<Sig (train_test_split, model, threshold)>"
      ]
     },
     "execution_count": 72,
     "metadata": {},
     "output_type": "execute_result"
    }
   ],
   "source": [
    "Sig(dd)"
   ]
  },
  {
   "cell_type": "code",
   "execution_count": 84,
   "metadata": {
    "ExecuteTime": {
     "end_time": "2021-07-31T09:53:07.547956Z",
     "start_time": "2021-07-31T09:53:07.516422Z"
    }
   },
   "outputs": [
    {
     "data": {
      "text/plain": [
       "['train_test_split_',\n",
       " 'test_y_',\n",
       " 'truth_',\n",
       " 'test_X_',\n",
       " 'predict_proba_',\n",
       " 'prediction_',\n",
       " 'confusion_count_',\n",
       " 'classifier_score_']"
      ]
     },
     "execution_count": 84,
     "metadata": {},
     "output_type": "execute_result"
    }
   ],
   "source": [
    "[x.name for x in d]"
   ]
  },
  {
   "cell_type": "code",
   "execution_count": 85,
   "metadata": {
    "ExecuteTime": {
     "end_time": "2021-07-31T10:36:29.312512Z",
     "start_time": "2021-07-31T10:36:29.276274Z"
    }
   },
   "outputs": [
    {
     "data": {
      "text/plain": [
       "FuncNode(x,y -> <lambda>_ -> <lambda>)"
      ]
     },
     "execution_count": 85,
     "metadata": {},
     "output_type": "execute_result"
    }
   ],
   "source": [
    "FuncNode(lambda x, y: x + y)"
   ]
  },
  {
   "cell_type": "code",
   "execution_count": null,
   "metadata": {},
   "outputs": [],
   "source": []
  },
  {
   "attachments": {},
   "cell_type": "markdown",
   "metadata": {},
   "source": [
    "# Miscellaneous"
   ]
  },
  {
   "attachments": {},
   "cell_type": "markdown",
   "metadata": {},
   "source": [
    "## iterize DAGs"
   ]
  },
  {
   "cell_type": "code",
   "execution_count": 77,
   "metadata": {
    "ExecuteTime": {
     "end_time": "2021-08-04T09:07:34.547606Z",
     "start_time": "2021-08-04T09:07:33.617163Z"
    },
    "scrolled": true
   },
   "outputs": [
    {
     "data": {
      "image/svg+xml": [
       "<?xml version=\"1.0\" encoding=\"UTF-8\" standalone=\"no\"?>\n",
       "<!DOCTYPE svg PUBLIC \"-//W3C//DTD SVG 1.1//EN\"\n",
       " \"http://www.w3.org/Graphics/SVG/1.1/DTD/svg11.dtd\">\n",
       "<!-- Generated by graphviz version 2.48.0 (20210717.1556)\n",
       " -->\n",
       "<!-- Pages: 1 -->\n",
       "<svg width=\"170pt\" height=\"332pt\"\n",
       " viewBox=\"0.00 0.00 170.00 332.00\" xmlns=\"http://www.w3.org/2000/svg\" xmlns:xlink=\"http://www.w3.org/1999/xlink\">\n",
       "<g id=\"graph0\" class=\"graph\" transform=\"scale(1 1) rotate(0) translate(4 328)\">\n",
       "<polygon fill=\"white\" stroke=\"transparent\" points=\"-4,4 -4,-328 166,-328 166,4 -4,4\"/>\n",
       "<!-- f -->\n",
       "<g id=\"node1\" class=\"node\">\n",
       "<title>f</title>\n",
       "<text text-anchor=\"middle\" x=\"99\" y=\"-158.3\" font-family=\"Times,serif\" font-size=\"14.00\">f</text>\n",
       "</g>\n",
       "<!-- g_ -->\n",
       "<g id=\"node6\" class=\"node\">\n",
       "<title>g_</title>\n",
       "<polygon fill=\"none\" stroke=\"black\" points=\"90,-108 36,-108 36,-72 90,-72 90,-108\"/>\n",
       "<text text-anchor=\"middle\" x=\"63\" y=\"-86.3\" font-family=\"Times,serif\" font-size=\"14.00\">g_</text>\n",
       "</g>\n",
       "<!-- f&#45;&gt;g_ -->\n",
       "<g id=\"edge5\" class=\"edge\">\n",
       "<title>f&#45;&gt;g_</title>\n",
       "<path fill=\"none\" stroke=\"black\" d=\"M90.1,-143.7C86,-135.73 81.05,-126.1 76.51,-117.26\"/>\n",
       "<polygon fill=\"black\" stroke=\"black\" points=\"79.48,-115.4 71.8,-108.1 73.26,-118.6 79.48,-115.4\"/>\n",
       "</g>\n",
       "<!-- f_ -->\n",
       "<g id=\"node2\" class=\"node\">\n",
       "<title>f_</title>\n",
       "<polygon fill=\"none\" stroke=\"black\" points=\"126,-252 72,-252 72,-216 126,-216 126,-252\"/>\n",
       "<text text-anchor=\"middle\" x=\"99\" y=\"-230.3\" font-family=\"Times,serif\" font-size=\"14.00\">f_</text>\n",
       "</g>\n",
       "<!-- f_&#45;&gt;f -->\n",
       "<g id=\"edge1\" class=\"edge\">\n",
       "<title>f_&#45;&gt;f</title>\n",
       "<path fill=\"none\" stroke=\"black\" d=\"M99,-215.7C99,-207.98 99,-198.71 99,-190.11\"/>\n",
       "<polygon fill=\"black\" stroke=\"black\" points=\"102.5,-190.1 99,-180.1 95.5,-190.1 102.5,-190.1\"/>\n",
       "</g>\n",
       "<!-- a -->\n",
       "<g id=\"node3\" class=\"node\">\n",
       "<title>a</title>\n",
       "<text text-anchor=\"middle\" x=\"63\" y=\"-302.3\" font-family=\"Times,serif\" font-size=\"14.00\">a</text>\n",
       "</g>\n",
       "<!-- a&#45;&gt;f_ -->\n",
       "<g id=\"edge2\" class=\"edge\">\n",
       "<title>a&#45;&gt;f_</title>\n",
       "<path fill=\"none\" stroke=\"black\" d=\"M71.9,-287.7C76,-279.73 80.95,-270.1 85.49,-261.26\"/>\n",
       "<polygon fill=\"black\" stroke=\"black\" points=\"88.74,-262.6 90.2,-252.1 82.52,-259.4 88.74,-262.6\"/>\n",
       "</g>\n",
       "<!-- b -->\n",
       "<g id=\"node4\" class=\"node\">\n",
       "<title>b</title>\n",
       "<text text-anchor=\"middle\" x=\"135\" y=\"-302.3\" font-family=\"Times,serif\" font-size=\"14.00\">b=</text>\n",
       "</g>\n",
       "<!-- b&#45;&gt;f_ -->\n",
       "<g id=\"edge3\" class=\"edge\">\n",
       "<title>b&#45;&gt;f_</title>\n",
       "<path fill=\"none\" stroke=\"black\" d=\"M126.1,-287.7C122,-279.73 117.05,-270.1 112.51,-261.26\"/>\n",
       "<polygon fill=\"black\" stroke=\"black\" points=\"115.48,-259.4 107.8,-252.1 109.26,-262.6 115.48,-259.4\"/>\n",
       "</g>\n",
       "<!-- g -->\n",
       "<g id=\"node5\" class=\"node\">\n",
       "<title>g</title>\n",
       "<text text-anchor=\"middle\" x=\"63\" y=\"-14.3\" font-family=\"Times,serif\" font-size=\"14.00\">g</text>\n",
       "</g>\n",
       "<!-- g_&#45;&gt;g -->\n",
       "<g id=\"edge4\" class=\"edge\">\n",
       "<title>g_&#45;&gt;g</title>\n",
       "<path fill=\"none\" stroke=\"black\" d=\"M63,-71.7C63,-63.98 63,-54.71 63,-46.11\"/>\n",
       "<polygon fill=\"black\" stroke=\"black\" points=\"66.5,-46.1 63,-36.1 59.5,-46.1 66.5,-46.1\"/>\n",
       "</g>\n",
       "<!-- c -->\n",
       "<g id=\"node7\" class=\"node\">\n",
       "<title>c</title>\n",
       "<text text-anchor=\"middle\" x=\"27\" y=\"-158.3\" font-family=\"Times,serif\" font-size=\"14.00\">c=</text>\n",
       "</g>\n",
       "<!-- c&#45;&gt;g_ -->\n",
       "<g id=\"edge6\" class=\"edge\">\n",
       "<title>c&#45;&gt;g_</title>\n",
       "<path fill=\"none\" stroke=\"black\" d=\"M35.9,-143.7C40,-135.73 44.95,-126.1 49.49,-117.26\"/>\n",
       "<polygon fill=\"black\" stroke=\"black\" points=\"52.74,-118.6 54.2,-108.1 46.52,-115.4 52.74,-118.6\"/>\n",
       "</g>\n",
       "</g>\n",
       "</svg>\n"
      ],
      "text/plain": [
       "<graphviz.dot.Digraph at 0x1382dd3d0>"
      ]
     },
     "execution_count": 77,
     "metadata": {},
     "output_type": "execute_result"
    }
   ],
   "source": [
    "def f(a, b=2):\n",
    "    return a + b\n",
    "\n",
    "def g(f, c=3):\n",
    "    return f * c\n",
    "\n",
    "from meshed import DAG\n",
    "\n",
    "d = DAG([f, g])\n",
    "\n",
    "d.dot_digraph()"
   ]
  },
  {
   "cell_type": "code",
   "execution_count": 86,
   "metadata": {
    "ExecuteTime": {
     "end_time": "2021-08-04T09:10:59.658627Z",
     "start_time": "2021-08-04T09:10:59.618201Z"
    }
   },
   "outputs": [
    {
     "data": {
      "text/plain": [
       "[9, 12, 15]"
      ]
     },
     "execution_count": 86,
     "metadata": {},
     "output_type": "execute_result"
    }
   ],
   "source": [
    "# if you needed to apply d to an iterator, you'd normally do this\n",
    "list(map(d, [1, 2, 3]))"
   ]
  },
  {
   "cell_type": "code",
   "execution_count": 99,
   "metadata": {
    "ExecuteTime": {
     "end_time": "2021-08-04T09:29:28.860716Z",
     "start_time": "2021-08-04T09:29:28.818879Z"
    }
   },
   "outputs": [
    {
     "data": {
      "text/plain": [
       "<Sig (a, b=2, c=3)>"
      ]
     },
     "execution_count": 99,
     "metadata": {},
     "output_type": "execute_result"
    }
   ],
   "source": [
    "# But if you need a function that \"looks like\" d, but is \"vectorized\" (really iterized) version...\n",
    "from lined import iterize\n",
    "from i2 import Sig\n",
    "\n",
    "di = iterize(d)\n",
    "# di has the same signature as d:\n",
    "Sig(di)"
   ]
  },
  {
   "cell_type": "code",
   "execution_count": 87,
   "metadata": {
    "ExecuteTime": {
     "end_time": "2021-08-04T09:11:40.042230Z",
     "start_time": "2021-08-04T09:11:39.999015Z"
    }
   },
   "outputs": [
    {
     "data": {
      "text/plain": [
       "[9, 12, 15]"
      ]
     },
     "execution_count": 87,
     "metadata": {},
     "output_type": "execute_result"
    }
   ],
   "source": [
    "# But works with a being an iterator\n",
    "list(di([1,2,3]))"
   ]
  },
  {
   "cell_type": "code",
   "execution_count": 89,
   "metadata": {
    "ExecuteTime": {
     "end_time": "2021-08-04T09:20:12.553086Z",
     "start_time": "2021-08-04T09:20:12.510850Z"
    }
   },
   "outputs": [
    {
     "data": {
      "text/plain": [
       "[9, 12, 15]"
      ]
     },
     "execution_count": 89,
     "metadata": {},
     "output_type": "execute_result"
    }
   ],
   "source": [
    "# Note that di will return an iterator that needs to be \"consumed\" (here with list)\n",
    "# That is, no matter what the (iterable) type of the input is.\n",
    "# You could use lined.Line\n",
    "\n",
    "from lined import Line\n",
    "di_list = Line(di, list)\n",
    "di_list([1, 2, 3])"
   ]
  },
  {
   "cell_type": "code",
   "execution_count": 22,
   "metadata": {
    "ExecuteTime": {
     "end_time": "2021-08-10T13:14:56.617348Z",
     "start_time": "2021-08-10T13:14:56.351451Z"
    }
   },
   "outputs": [
    {
     "data": {
      "image/svg+xml": [
       "<?xml version=\"1.0\" encoding=\"UTF-8\" standalone=\"no\"?>\n",
       "<!DOCTYPE svg PUBLIC \"-//W3C//DTD SVG 1.1//EN\"\n",
       " \"http://www.w3.org/Graphics/SVG/1.1/DTD/svg11.dtd\">\n",
       "<!-- Generated by graphviz version 2.48.0 (20210717.1556)\n",
       " -->\n",
       "<!-- Pages: 1 -->\n",
       "<svg width=\"170pt\" height=\"332pt\"\n",
       " viewBox=\"0.00 0.00 170.00 332.00\" xmlns=\"http://www.w3.org/2000/svg\" xmlns:xlink=\"http://www.w3.org/1999/xlink\">\n",
       "<g id=\"graph0\" class=\"graph\" transform=\"scale(1 1) rotate(0) translate(4 328)\">\n",
       "<polygon fill=\"white\" stroke=\"transparent\" points=\"-4,4 -4,-328 166,-328 166,4 -4,4\"/>\n",
       "<!-- f -->\n",
       "<g id=\"node1\" class=\"node\">\n",
       "<title>f</title>\n",
       "<text text-anchor=\"middle\" x=\"99\" y=\"-158.3\" font-family=\"Times,serif\" font-size=\"14.00\">f</text>\n",
       "</g>\n",
       "<!-- g_ -->\n",
       "<g id=\"node6\" class=\"node\">\n",
       "<title>g_</title>\n",
       "<polygon fill=\"none\" stroke=\"black\" points=\"90,-108 36,-108 36,-72 90,-72 90,-108\"/>\n",
       "<text text-anchor=\"middle\" x=\"63\" y=\"-86.3\" font-family=\"Times,serif\" font-size=\"14.00\">g_</text>\n",
       "</g>\n",
       "<!-- f&#45;&gt;g_ -->\n",
       "<g id=\"edge5\" class=\"edge\">\n",
       "<title>f&#45;&gt;g_</title>\n",
       "<path fill=\"none\" stroke=\"black\" d=\"M90.1,-143.7C86,-135.73 81.05,-126.1 76.51,-117.26\"/>\n",
       "<polygon fill=\"black\" stroke=\"black\" points=\"79.48,-115.4 71.8,-108.1 73.26,-118.6 79.48,-115.4\"/>\n",
       "</g>\n",
       "<!-- f_ -->\n",
       "<g id=\"node2\" class=\"node\">\n",
       "<title>f_</title>\n",
       "<polygon fill=\"none\" stroke=\"black\" points=\"126,-252 72,-252 72,-216 126,-216 126,-252\"/>\n",
       "<text text-anchor=\"middle\" x=\"99\" y=\"-230.3\" font-family=\"Times,serif\" font-size=\"14.00\">f_</text>\n",
       "</g>\n",
       "<!-- f_&#45;&gt;f -->\n",
       "<g id=\"edge1\" class=\"edge\">\n",
       "<title>f_&#45;&gt;f</title>\n",
       "<path fill=\"none\" stroke=\"black\" d=\"M99,-215.7C99,-207.98 99,-198.71 99,-190.11\"/>\n",
       "<polygon fill=\"black\" stroke=\"black\" points=\"102.5,-190.1 99,-180.1 95.5,-190.1 102.5,-190.1\"/>\n",
       "</g>\n",
       "<!-- a -->\n",
       "<g id=\"node3\" class=\"node\">\n",
       "<title>a</title>\n",
       "<text text-anchor=\"middle\" x=\"63\" y=\"-302.3\" font-family=\"Times,serif\" font-size=\"14.00\">a</text>\n",
       "</g>\n",
       "<!-- a&#45;&gt;f_ -->\n",
       "<g id=\"edge2\" class=\"edge\">\n",
       "<title>a&#45;&gt;f_</title>\n",
       "<path fill=\"none\" stroke=\"black\" d=\"M71.9,-287.7C76,-279.73 80.95,-270.1 85.49,-261.26\"/>\n",
       "<polygon fill=\"black\" stroke=\"black\" points=\"88.74,-262.6 90.2,-252.1 82.52,-259.4 88.74,-262.6\"/>\n",
       "</g>\n",
       "<!-- b -->\n",
       "<g id=\"node4\" class=\"node\">\n",
       "<title>b</title>\n",
       "<text text-anchor=\"middle\" x=\"135\" y=\"-302.3\" font-family=\"Times,serif\" font-size=\"14.00\">b=</text>\n",
       "</g>\n",
       "<!-- b&#45;&gt;f_ -->\n",
       "<g id=\"edge3\" class=\"edge\">\n",
       "<title>b&#45;&gt;f_</title>\n",
       "<path fill=\"none\" stroke=\"black\" d=\"M126.1,-287.7C122,-279.73 117.05,-270.1 112.51,-261.26\"/>\n",
       "<polygon fill=\"black\" stroke=\"black\" points=\"115.48,-259.4 107.8,-252.1 109.26,-262.6 115.48,-259.4\"/>\n",
       "</g>\n",
       "<!-- g -->\n",
       "<g id=\"node5\" class=\"node\">\n",
       "<title>g</title>\n",
       "<text text-anchor=\"middle\" x=\"63\" y=\"-14.3\" font-family=\"Times,serif\" font-size=\"14.00\">g</text>\n",
       "</g>\n",
       "<!-- g_&#45;&gt;g -->\n",
       "<g id=\"edge4\" class=\"edge\">\n",
       "<title>g_&#45;&gt;g</title>\n",
       "<path fill=\"none\" stroke=\"black\" d=\"M63,-71.7C63,-63.98 63,-54.71 63,-46.11\"/>\n",
       "<polygon fill=\"black\" stroke=\"black\" points=\"66.5,-46.1 63,-36.1 59.5,-46.1 66.5,-46.1\"/>\n",
       "</g>\n",
       "<!-- c -->\n",
       "<g id=\"node7\" class=\"node\">\n",
       "<title>c</title>\n",
       "<text text-anchor=\"middle\" x=\"27\" y=\"-158.3\" font-family=\"Times,serif\" font-size=\"14.00\">c=</text>\n",
       "</g>\n",
       "<!-- c&#45;&gt;g_ -->\n",
       "<g id=\"edge6\" class=\"edge\">\n",
       "<title>c&#45;&gt;g_</title>\n",
       "<path fill=\"none\" stroke=\"black\" d=\"M35.9,-143.7C40,-135.73 44.95,-126.1 49.49,-117.26\"/>\n",
       "<polygon fill=\"black\" stroke=\"black\" points=\"52.74,-118.6 54.2,-108.1 46.52,-115.4 52.74,-118.6\"/>\n",
       "</g>\n",
       "</g>\n",
       "</svg>\n"
      ],
      "text/plain": [
       "<graphviz.dot.Digraph at 0x11f899250>"
      ]
     },
     "execution_count": 22,
     "metadata": {},
     "output_type": "execute_result"
    }
   ],
   "source": [
    "from lined import Line\n",
    "from meshed import DAG\n",
    "\n",
    "class DDag(DAG):\n",
    "    wrappers = ()\n",
    "    \n",
    "    def __call__(self, *args, **kwargs):\n",
    "        if not self.wrappers:\n",
    "            return super().__call__(*args, **kwargs)\n",
    "        else:\n",
    "            decorator = Line(*self.wrappers)\n",
    "            decorated_dag_call = decorator(super().__call__)\n",
    "            return decorated_dag_call(*args, **kwargs)\n",
    "        \n",
    "        \n",
    "def f(a, b=2):\n",
    "    return a + b\n",
    "\n",
    "def g(f, c=3):\n",
    "    return f * c\n",
    "\n",
    "\n",
    "# d = DDag([f, g])\n",
    "d = DDag([f, g])\n",
    "\n",
    "d.dot_digraph()"
   ]
  },
  {
   "cell_type": "code",
   "execution_count": 23,
   "metadata": {
    "ExecuteTime": {
     "end_time": "2021-08-10T13:14:57.636439Z",
     "start_time": "2021-08-10T13:14:57.609711Z"
    }
   },
   "outputs": [],
   "source": [
    "assert d(1,2,3) == 9  # can call\n",
    "from i2 import Sig\n",
    "assert str(Sig(d)) == '(a, b=2, c=3)'  # has correct signature"
   ]
  },
  {
   "cell_type": "code",
   "execution_count": 26,
   "metadata": {
    "ExecuteTime": {
     "end_time": "2021-08-10T13:15:08.740990Z",
     "start_time": "2021-08-10T13:15:08.707182Z"
    }
   },
   "outputs": [],
   "source": [
    "def dec(func):\n",
    "    def _dec(*args, **kwargs):\n",
    "        print(func.__name__, args, kwargs)\n",
    "        return func(*args, **kwargs)\n",
    "    return _dec\n",
    "\n",
    "d.wrappers = (dec,)"
   ]
  },
  {
   "cell_type": "code",
   "execution_count": 30,
   "metadata": {
    "ExecuteTime": {
     "end_time": "2021-08-10T13:30:32.754681Z",
     "start_time": "2021-08-10T13:30:32.724130Z"
    }
   },
   "outputs": [
    {
     "name": "stdout",
     "output_type": "stream",
     "text": [
      "__call__ (3, 2, 1) {}\n"
     ]
    },
    {
     "data": {
      "text/plain": [
       "5"
      ]
     },
     "execution_count": 30,
     "metadata": {},
     "output_type": "execute_result"
    }
   ],
   "source": [
    "def rev(func):\n",
    "    def _rev(*args, **kwargs):\n",
    "        assert not kwargs, \"Can't have keyword arguments with rev\"\n",
    "        return func(*args[::-1])\n",
    "\n",
    "    return _rev\n",
    "\n",
    "d.wrappers = (dec, rev)\n",
    "d(1, 2, 3)\n"
   ]
  },
  {
   "cell_type": "code",
   "execution_count": 35,
   "metadata": {
    "ExecuteTime": {
     "end_time": "2021-08-10T13:49:37.654716Z",
     "start_time": "2021-08-10T13:49:37.599568Z"
    }
   },
   "outputs": [
    {
     "name": "stdout",
     "output_type": "stream",
     "text": [
      "_call (1, 2, 3) {}\n",
      "_call (1, 2) {'c': 3}\n",
      "_call (3, 2, 1) {}\n"
     ]
    }
   ],
   "source": [
    "from meshed.scrap.wrapping_dags import test_ddag\n",
    "\n",
    "test_ddag()"
   ]
  },
  {
   "cell_type": "code",
   "execution_count": null,
   "metadata": {},
   "outputs": [],
   "source": []
  },
  {
   "cell_type": "code",
   "execution_count": null,
   "metadata": {},
   "outputs": [],
   "source": []
  },
  {
   "cell_type": "code",
   "execution_count": null,
   "metadata": {},
   "outputs": [],
   "source": []
  },
  {
   "cell_type": "code",
   "execution_count": null,
   "metadata": {},
   "outputs": [],
   "source": []
  },
  {
   "cell_type": "code",
   "execution_count": null,
   "metadata": {},
   "outputs": [],
   "source": []
  },
  {
   "cell_type": "code",
   "execution_count": null,
   "metadata": {},
   "outputs": [],
   "source": []
  },
  {
   "cell_type": "code",
   "execution_count": null,
   "metadata": {},
   "outputs": [],
   "source": []
  },
  {
   "cell_type": "code",
   "execution_count": null,
   "metadata": {},
   "outputs": [],
   "source": []
  },
  {
   "cell_type": "code",
   "execution_count": null,
   "metadata": {},
   "outputs": [],
   "source": []
  },
  {
   "cell_type": "code",
   "execution_count": null,
   "metadata": {},
   "outputs": [],
   "source": []
  },
  {
   "cell_type": "code",
   "execution_count": null,
   "metadata": {},
   "outputs": [],
   "source": []
  },
  {
   "cell_type": "code",
   "execution_count": null,
   "metadata": {},
   "outputs": [],
   "source": []
  },
  {
   "cell_type": "code",
   "execution_count": null,
   "metadata": {},
   "outputs": [],
   "source": []
  },
  {
   "cell_type": "code",
   "execution_count": null,
   "metadata": {},
   "outputs": [],
   "source": []
  },
  {
   "cell_type": "code",
   "execution_count": null,
   "metadata": {},
   "outputs": [],
   "source": []
  },
  {
   "cell_type": "code",
   "execution_count": null,
   "metadata": {},
   "outputs": [],
   "source": []
  }
 ],
 "metadata": {
  "kernelspec": {
   "display_name": "Python 3",
   "language": "python",
   "name": "python3"
  },
  "language_info": {
   "codemirror_mode": {
    "name": "ipython",
    "version": 3
   },
   "file_extension": ".py",
   "mimetype": "text/x-python",
   "name": "python",
   "nbconvert_exporter": "python",
   "pygments_lexer": "ipython3",
   "version": "3.10.8"
  },
  "latex_envs": {
   "LaTeX_envs_menu_present": true,
   "autoclose": false,
   "autocomplete": true,
   "bibliofile": "biblio.bib",
   "cite_by": "apalike",
   "current_citInitial": 1,
   "eqLabelWithNumbers": true,
   "eqNumInitial": 1,
   "hotkeys": {
    "equation": "Ctrl-E",
    "itemize": "Ctrl-I"
   },
   "labels_anchors": false,
   "latex_user_defs": false,
   "report_style_numbering": false,
   "user_envs_cfg": false
  },
  "toc": {
   "base_numbering": 1,
   "nav_menu": {},
   "number_sections": true,
   "sideBar": false,
   "skip_h1_title": false,
   "title_cell": "Table of Contents",
   "title_sidebar": "Contents",
   "toc_cell": true,
   "toc_position": {
    "height": "108.663px",
    "left": "103px",
    "top": "110.05px",
    "width": "1013.07px"
   },
   "toc_section_display": true,
   "toc_window_display": true
  }
 },
 "nbformat": 4,
 "nbformat_minor": 4
}
