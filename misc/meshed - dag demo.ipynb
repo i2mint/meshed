{
 "cells": [
  {
   "cell_type": "markdown",
   "metadata": {
    "toc": true
   },
   "source": [
    "<h1>Table of Contents<span class=\"tocSkip\"></span></h1>\n",
    "<div class=\"toc\"><ul class=\"toc-item\"><li><span><a href=\"#Intro\" data-toc-modified-id=\"Intro-1\"><span class=\"toc-item-num\">1&nbsp;&nbsp;</span>Intro</a></span></li><li><span><a href=\"#FuncNode\" data-toc-modified-id=\"FuncNode-2\"><span class=\"toc-item-num\">2&nbsp;&nbsp;</span>FuncNode</a></span><ul class=\"toc-item\"><li><span><a href=\"#What-for?\" data-toc-modified-id=\"What-for?-2.1\"><span class=\"toc-item-num\">2.1&nbsp;&nbsp;</span>What for?</a></span></li><li><span><a href=\"#What-can-FuncNode-do?\" data-toc-modified-id=\"What-can-FuncNode-do?-2.2\"><span class=\"toc-item-num\">2.2&nbsp;&nbsp;</span>What can <code>FuncNode</code> do?</a></span></li><li><span><a href=\"#What's-with-the-names?\" data-toc-modified-id=\"What's-with-the-names?-2.3\"><span class=\"toc-item-num\">2.3&nbsp;&nbsp;</span>What's with the names?</a></span></li></ul></li><li><span><a href=\"#A-DAG\" data-toc-modified-id=\"A-DAG-3\"><span class=\"toc-item-num\">3&nbsp;&nbsp;</span>A DAG</a></span><ul class=\"toc-item\"><li><span><a href=\"#Extending-an-existing-dag\" data-toc-modified-id=\"Extending-an-existing-dag-3.1\"><span class=\"toc-item-num\">3.1&nbsp;&nbsp;</span>Extending an existing dag</a></span></li></ul></li><li><span><a href=\"#Example:-Evaluating-a-classifier\" data-toc-modified-id=\"Example:-Evaluating-a-classifier-4\"><span class=\"toc-item-num\">4&nbsp;&nbsp;</span>Example: Evaluating a classifier</a></span><ul class=\"toc-item\"><li><span><a href=\"#classifier_score\" data-toc-modified-id=\"classifier_score-4.1\"><span class=\"toc-item-num\">4.1&nbsp;&nbsp;</span>classifier_score</a></span></li><li><span><a href=\"#Making-it-more-useful\" data-toc-modified-id=\"Making-it-more-useful-4.2\"><span class=\"toc-item-num\">4.2&nbsp;&nbsp;</span>Making it more useful</a></span></li><li><span><a href=\"#Making-the-DAG-bigger\" data-toc-modified-id=\"Making-the-DAG-bigger-4.3\"><span class=\"toc-item-num\">4.3&nbsp;&nbsp;</span>Making the DAG bigger</a></span></li><li><span><a href=\"#Getting-a-sub-dag\" data-toc-modified-id=\"Getting-a-sub-dag-4.4\"><span class=\"toc-item-num\">4.4&nbsp;&nbsp;</span>Getting a sub-dag</a></span></li></ul></li><li><span><a href=\"#Scrap\" data-toc-modified-id=\"Scrap-5\"><span class=\"toc-item-num\">5&nbsp;&nbsp;</span>Scrap</a></span></li></ul></div>"
   ]
  },
  {
   "cell_type": "code",
   "execution_count": null,
   "metadata": {},
   "outputs": [],
   "source": []
  },
  {
   "cell_type": "markdown",
   "metadata": {},
   "source": [
    "# Intro"
   ]
  },
  {
   "cell_type": "code",
   "execution_count": 99,
   "metadata": {
    "ExecuteTime": {
     "end_time": "2021-08-01T17:03:41.180650Z",
     "start_time": "2021-08-01T17:03:40.693256Z"
    }
   },
   "outputs": [
    {
     "name": "stdout",
     "output_type": "stream",
     "text": [
      "x,b -> that_ -> that\n",
      "a,b -> this_ -> this\n",
      "this,that -> combine_ -> combine\n"
     ]
    }
   ],
   "source": [
    "from meshed import DAG\n",
    "\n",
    "def this(a, b=1):\n",
    "    return a + b\n",
    "def that(x, b=1):\n",
    "    return x * b\n",
    "def combine(this, that):\n",
    "    return (this, that)\n",
    "\n",
    "dag = DAG((this, that, combine))\n",
    "print(dag.synopsis_string())"
   ]
  },
  {
   "cell_type": "markdown",
   "metadata": {},
   "source": [
    "But what does it do?\n",
    "\n",
    "It's a callable, with a signature:"
   ]
  },
  {
   "cell_type": "code",
   "execution_count": 100,
   "metadata": {
    "ExecuteTime": {
     "end_time": "2021-08-01T17:03:55.074138Z",
     "start_time": "2021-08-01T17:03:55.041575Z"
    }
   },
   "outputs": [
    {
     "data": {
      "text/plain": [
       "<Signature (x, a, b=1)>"
      ]
     },
     "execution_count": 100,
     "metadata": {},
     "output_type": "execute_result"
    }
   ],
   "source": [
    "from inspect import signature\n",
    "signature(dag)"
   ]
  },
  {
   "cell_type": "markdown",
   "metadata": {
    "ExecuteTime": {
     "end_time": "2021-08-01T17:04:37.323188Z",
     "start_time": "2021-08-01T17:04:37.292109Z"
    }
   },
   "source": [
    "And when you call it, it executes the dag from the root values you give it and\n",
    "returns the leaf output values."
   ]
  },
  {
   "cell_type": "code",
   "execution_count": 102,
   "metadata": {
    "ExecuteTime": {
     "end_time": "2021-08-01T17:04:19.349960Z",
     "start_time": "2021-08-01T17:04:19.318092Z"
    }
   },
   "outputs": [
    {
     "data": {
      "text/plain": [
       "(5, 3)"
      ]
     },
     "execution_count": 102,
     "metadata": {},
     "output_type": "execute_result"
    }
   ],
   "source": [
    "dag(1, 2, 3)  # (a+b,x*b) == (2+3,1*3) == (5, 3)"
   ]
  },
  {
   "cell_type": "code",
   "execution_count": 103,
   "metadata": {
    "ExecuteTime": {
     "end_time": "2021-08-01T17:04:28.476015Z",
     "start_time": "2021-08-01T17:04:28.444183Z"
    }
   },
   "outputs": [
    {
     "data": {
      "text/plain": [
       "(3, 1)"
      ]
     },
     "execution_count": 103,
     "metadata": {},
     "output_type": "execute_result"
    }
   ],
   "source": [
    "dag(1, 2)  # (a+b,x*b) == (2+1,1*1) == (3, 1)"
   ]
  },
  {
   "cell_type": "markdown",
   "metadata": {},
   "source": [
    "You can see (and save image, or ascii art) the dag:"
   ]
  },
  {
   "cell_type": "code",
   "execution_count": 110,
   "metadata": {
    "ExecuteTime": {
     "end_time": "2021-08-01T17:06:45.148655Z",
     "start_time": "2021-08-01T17:06:44.194296Z"
    }
   },
   "outputs": [
    {
     "data": {
      "image/svg+xml": [
       "<?xml version=\"1.0\" encoding=\"UTF-8\" standalone=\"no\"?>\n",
       "<!DOCTYPE svg PUBLIC \"-//W3C//DTD SVG 1.1//EN\"\n",
       " \"http://www.w3.org/Graphics/SVG/1.1/DTD/svg11.dtd\">\n",
       "<!-- Generated by graphviz version 2.48.0 (20210717.1556)\n",
       " -->\n",
       "<!-- Pages: 1 -->\n",
       "<svg width=\"206pt\" height=\"332pt\"\n",
       " viewBox=\"0.00 0.00 206.00 332.00\" xmlns=\"http://www.w3.org/2000/svg\" xmlns:xlink=\"http://www.w3.org/1999/xlink\">\n",
       "<g id=\"graph0\" class=\"graph\" transform=\"scale(1 1) rotate(0) translate(4 328)\">\n",
       "<polygon fill=\"white\" stroke=\"transparent\" points=\"-4,4 -4,-328 202,-328 202,4 -4,4\"/>\n",
       "<!-- that -->\n",
       "<g id=\"node1\" class=\"node\">\n",
       "<title>that</title>\n",
       "<text text-anchor=\"middle\" x=\"63\" y=\"-158.3\" font-family=\"Times,serif\" font-size=\"14.00\">that</text>\n",
       "</g>\n",
       "<!-- combine_ -->\n",
       "<g id=\"node9\" class=\"node\">\n",
       "<title>combine_</title>\n",
       "<polygon fill=\"none\" stroke=\"black\" points=\"135,-108 63,-108 63,-72 135,-72 135,-108\"/>\n",
       "<text text-anchor=\"middle\" x=\"99\" y=\"-86.3\" font-family=\"Times,serif\" font-size=\"14.00\">combine_</text>\n",
       "</g>\n",
       "<!-- that&#45;&gt;combine_ -->\n",
       "<g id=\"edge9\" class=\"edge\">\n",
       "<title>that&#45;&gt;combine_</title>\n",
       "<path fill=\"none\" stroke=\"black\" d=\"M71.9,-143.7C76,-135.73 80.95,-126.1 85.49,-117.26\"/>\n",
       "<polygon fill=\"black\" stroke=\"black\" points=\"88.74,-118.6 90.2,-108.1 82.52,-115.4 88.74,-118.6\"/>\n",
       "</g>\n",
       "<!-- that_ -->\n",
       "<g id=\"node2\" class=\"node\">\n",
       "<title>that_</title>\n",
       "<polygon fill=\"none\" stroke=\"black\" points=\"90,-252 36,-252 36,-216 90,-216 90,-252\"/>\n",
       "<text text-anchor=\"middle\" x=\"63\" y=\"-230.3\" font-family=\"Times,serif\" font-size=\"14.00\">that_</text>\n",
       "</g>\n",
       "<!-- that_&#45;&gt;that -->\n",
       "<g id=\"edge1\" class=\"edge\">\n",
       "<title>that_&#45;&gt;that</title>\n",
       "<path fill=\"none\" stroke=\"black\" d=\"M63,-215.7C63,-207.98 63,-198.71 63,-190.11\"/>\n",
       "<polygon fill=\"black\" stroke=\"black\" points=\"66.5,-190.1 63,-180.1 59.5,-190.1 66.5,-190.1\"/>\n",
       "</g>\n",
       "<!-- x -->\n",
       "<g id=\"node3\" class=\"node\">\n",
       "<title>x</title>\n",
       "<text text-anchor=\"middle\" x=\"27\" y=\"-302.3\" font-family=\"Times,serif\" font-size=\"14.00\">x</text>\n",
       "</g>\n",
       "<!-- x&#45;&gt;that_ -->\n",
       "<g id=\"edge2\" class=\"edge\">\n",
       "<title>x&#45;&gt;that_</title>\n",
       "<path fill=\"none\" stroke=\"black\" d=\"M35.9,-287.7C40,-279.73 44.95,-270.1 49.49,-261.26\"/>\n",
       "<polygon fill=\"black\" stroke=\"black\" points=\"52.74,-262.6 54.2,-252.1 46.52,-259.4 52.74,-262.6\"/>\n",
       "</g>\n",
       "<!-- b -->\n",
       "<g id=\"node4\" class=\"node\">\n",
       "<title>b</title>\n",
       "<text text-anchor=\"middle\" x=\"99\" y=\"-302.3\" font-family=\"Times,serif\" font-size=\"14.00\">b=</text>\n",
       "</g>\n",
       "<!-- b&#45;&gt;that_ -->\n",
       "<g id=\"edge3\" class=\"edge\">\n",
       "<title>b&#45;&gt;that_</title>\n",
       "<path fill=\"none\" stroke=\"black\" d=\"M90.1,-287.7C86,-279.73 81.05,-270.1 76.51,-261.26\"/>\n",
       "<polygon fill=\"black\" stroke=\"black\" points=\"79.48,-259.4 71.8,-252.1 73.26,-262.6 79.48,-259.4\"/>\n",
       "</g>\n",
       "<!-- this_ -->\n",
       "<g id=\"node6\" class=\"node\">\n",
       "<title>this_</title>\n",
       "<polygon fill=\"none\" stroke=\"black\" points=\"162,-252 108,-252 108,-216 162,-216 162,-252\"/>\n",
       "<text text-anchor=\"middle\" x=\"135\" y=\"-230.3\" font-family=\"Times,serif\" font-size=\"14.00\">this_</text>\n",
       "</g>\n",
       "<!-- b&#45;&gt;this_ -->\n",
       "<g id=\"edge6\" class=\"edge\">\n",
       "<title>b&#45;&gt;this_</title>\n",
       "<path fill=\"none\" stroke=\"black\" d=\"M107.9,-287.7C112,-279.73 116.95,-270.1 121.49,-261.26\"/>\n",
       "<polygon fill=\"black\" stroke=\"black\" points=\"124.74,-262.6 126.2,-252.1 118.52,-259.4 124.74,-262.6\"/>\n",
       "</g>\n",
       "<!-- this -->\n",
       "<g id=\"node5\" class=\"node\">\n",
       "<title>this</title>\n",
       "<text text-anchor=\"middle\" x=\"135\" y=\"-158.3\" font-family=\"Times,serif\" font-size=\"14.00\">this</text>\n",
       "</g>\n",
       "<!-- this&#45;&gt;combine_ -->\n",
       "<g id=\"edge8\" class=\"edge\">\n",
       "<title>this&#45;&gt;combine_</title>\n",
       "<path fill=\"none\" stroke=\"black\" d=\"M126.1,-143.7C122,-135.73 117.05,-126.1 112.51,-117.26\"/>\n",
       "<polygon fill=\"black\" stroke=\"black\" points=\"115.48,-115.4 107.8,-108.1 109.26,-118.6 115.48,-115.4\"/>\n",
       "</g>\n",
       "<!-- this_&#45;&gt;this -->\n",
       "<g id=\"edge4\" class=\"edge\">\n",
       "<title>this_&#45;&gt;this</title>\n",
       "<path fill=\"none\" stroke=\"black\" d=\"M135,-215.7C135,-207.98 135,-198.71 135,-190.11\"/>\n",
       "<polygon fill=\"black\" stroke=\"black\" points=\"138.5,-190.1 135,-180.1 131.5,-190.1 138.5,-190.1\"/>\n",
       "</g>\n",
       "<!-- a -->\n",
       "<g id=\"node7\" class=\"node\">\n",
       "<title>a</title>\n",
       "<text text-anchor=\"middle\" x=\"171\" y=\"-302.3\" font-family=\"Times,serif\" font-size=\"14.00\">a</text>\n",
       "</g>\n",
       "<!-- a&#45;&gt;this_ -->\n",
       "<g id=\"edge5\" class=\"edge\">\n",
       "<title>a&#45;&gt;this_</title>\n",
       "<path fill=\"none\" stroke=\"black\" d=\"M162.1,-287.7C158,-279.73 153.05,-270.1 148.51,-261.26\"/>\n",
       "<polygon fill=\"black\" stroke=\"black\" points=\"151.48,-259.4 143.8,-252.1 145.26,-262.6 151.48,-259.4\"/>\n",
       "</g>\n",
       "<!-- combine -->\n",
       "<g id=\"node8\" class=\"node\">\n",
       "<title>combine</title>\n",
       "<text text-anchor=\"middle\" x=\"99\" y=\"-14.3\" font-family=\"Times,serif\" font-size=\"14.00\">combine</text>\n",
       "</g>\n",
       "<!-- combine_&#45;&gt;combine -->\n",
       "<g id=\"edge7\" class=\"edge\">\n",
       "<title>combine_&#45;&gt;combine</title>\n",
       "<path fill=\"none\" stroke=\"black\" d=\"M99,-71.7C99,-63.98 99,-54.71 99,-46.11\"/>\n",
       "<polygon fill=\"black\" stroke=\"black\" points=\"102.5,-46.1 99,-36.1 95.5,-46.1 102.5,-46.1\"/>\n",
       "</g>\n",
       "</g>\n",
       "</svg>\n"
      ],
      "text/plain": [
       "<graphviz.dot.Digraph at 0x12ea02c10>"
      ]
     },
     "execution_count": 110,
     "metadata": {},
     "output_type": "execute_result"
    }
   ],
   "source": [
    "dag.dot_digraph()"
   ]
  },
  {
   "cell_type": "markdown",
   "metadata": {},
   "source": [
    "You can extend a dag"
   ]
  },
  {
   "cell_type": "code",
   "execution_count": 117,
   "metadata": {
    "ExecuteTime": {
     "end_time": "2021-08-01T17:12:56.491504Z",
     "start_time": "2021-08-01T17:12:56.213990Z"
    }
   },
   "outputs": [
    {
     "data": {
      "image/svg+xml": [
       "<?xml version=\"1.0\" encoding=\"UTF-8\" standalone=\"no\"?>\n",
       "<!DOCTYPE svg PUBLIC \"-//W3C//DTD SVG 1.1//EN\"\n",
       " \"http://www.w3.org/Graphics/SVG/1.1/DTD/svg11.dtd\">\n",
       "<!-- Generated by graphviz version 2.48.0 (20210717.1556)\n",
       " -->\n",
       "<!-- Pages: 1 -->\n",
       "<svg width=\"213pt\" height=\"332pt\"\n",
       " viewBox=\"0.00 0.00 212.50 332.00\" xmlns=\"http://www.w3.org/2000/svg\" xmlns:xlink=\"http://www.w3.org/1999/xlink\">\n",
       "<g id=\"graph0\" class=\"graph\" transform=\"scale(1 1) rotate(0) translate(4 328)\">\n",
       "<polygon fill=\"white\" stroke=\"transparent\" points=\"-4,4 -4,-328 208.5,-328 208.5,4 -4,4\"/>\n",
       "<!-- this -->\n",
       "<g id=\"node1\" class=\"node\">\n",
       "<title>this</title>\n",
       "<text text-anchor=\"middle\" x=\"88.5\" y=\"-158.3\" font-family=\"Times,serif\" font-size=\"14.00\">this</text>\n",
       "</g>\n",
       "<!-- lambda_001_ -->\n",
       "<g id=\"node6\" class=\"node\">\n",
       "<title>lambda_001_</title>\n",
       "<polygon fill=\"none\" stroke=\"black\" points=\"93,-108 0,-108 0,-72 93,-72 93,-108\"/>\n",
       "<text text-anchor=\"middle\" x=\"46.5\" y=\"-86.3\" font-family=\"Times,serif\" font-size=\"14.00\">lambda_001_</text>\n",
       "</g>\n",
       "<!-- this&#45;&gt;lambda_001_ -->\n",
       "<g id=\"edge5\" class=\"edge\">\n",
       "<title>this&#45;&gt;lambda_001_</title>\n",
       "<path fill=\"none\" stroke=\"black\" d=\"M78.12,-143.7C73.24,-135.56 67.31,-125.69 61.92,-116.7\"/>\n",
       "<polygon fill=\"black\" stroke=\"black\" points=\"64.91,-114.88 56.76,-108.1 58.91,-118.48 64.91,-114.88\"/>\n",
       "</g>\n",
       "<!-- combine_ -->\n",
       "<g id=\"node11\" class=\"node\">\n",
       "<title>combine_</title>\n",
       "<polygon fill=\"none\" stroke=\"black\" points=\"189.5,-108 117.5,-108 117.5,-72 189.5,-72 189.5,-108\"/>\n",
       "<text text-anchor=\"middle\" x=\"153.5\" y=\"-86.3\" font-family=\"Times,serif\" font-size=\"14.00\">combine_</text>\n",
       "</g>\n",
       "<!-- this&#45;&gt;combine_ -->\n",
       "<g id=\"edge11\" class=\"edge\">\n",
       "<title>this&#45;&gt;combine_</title>\n",
       "<path fill=\"none\" stroke=\"black\" d=\"M104.57,-143.7C112.44,-135.22 122.06,-124.86 130.67,-115.58\"/>\n",
       "<polygon fill=\"black\" stroke=\"black\" points=\"133.38,-117.81 137.62,-108.1 128.25,-113.05 133.38,-117.81\"/>\n",
       "</g>\n",
       "<!-- this_ -->\n",
       "<g id=\"node2\" class=\"node\">\n",
       "<title>this_</title>\n",
       "<polygon fill=\"none\" stroke=\"black\" points=\"115.5,-252 61.5,-252 61.5,-216 115.5,-216 115.5,-252\"/>\n",
       "<text text-anchor=\"middle\" x=\"88.5\" y=\"-230.3\" font-family=\"Times,serif\" font-size=\"14.00\">this_</text>\n",
       "</g>\n",
       "<!-- this_&#45;&gt;this -->\n",
       "<g id=\"edge1\" class=\"edge\">\n",
       "<title>this_&#45;&gt;this</title>\n",
       "<path fill=\"none\" stroke=\"black\" d=\"M88.5,-215.7C88.5,-207.98 88.5,-198.71 88.5,-190.11\"/>\n",
       "<polygon fill=\"black\" stroke=\"black\" points=\"92,-190.1 88.5,-180.1 85,-190.1 92,-190.1\"/>\n",
       "</g>\n",
       "<!-- a -->\n",
       "<g id=\"node3\" class=\"node\">\n",
       "<title>a</title>\n",
       "<text text-anchor=\"middle\" x=\"33.5\" y=\"-302.3\" font-family=\"Times,serif\" font-size=\"14.00\">a</text>\n",
       "</g>\n",
       "<!-- a&#45;&gt;this_ -->\n",
       "<g id=\"edge2\" class=\"edge\">\n",
       "<title>a&#45;&gt;this_</title>\n",
       "<path fill=\"none\" stroke=\"black\" d=\"M47.1,-287.7C53.62,-279.39 61.57,-269.28 68.75,-260.14\"/>\n",
       "<polygon fill=\"black\" stroke=\"black\" points=\"71.63,-262.13 75.06,-252.1 66.13,-257.81 71.63,-262.13\"/>\n",
       "</g>\n",
       "<!-- a&#45;&gt;lambda_001_ -->\n",
       "<g id=\"edge6\" class=\"edge\">\n",
       "<title>a&#45;&gt;lambda_001_</title>\n",
       "<path fill=\"none\" stroke=\"black\" d=\"M34.54,-287.85C36.79,-250.83 42.12,-163.18 44.84,-118.39\"/>\n",
       "<polygon fill=\"black\" stroke=\"black\" points=\"48.34,-118.43 45.45,-108.23 41.35,-118 48.34,-118.43\"/>\n",
       "</g>\n",
       "<!-- b -->\n",
       "<g id=\"node4\" class=\"node\">\n",
       "<title>b</title>\n",
       "<text text-anchor=\"middle\" x=\"105.5\" y=\"-302.3\" font-family=\"Times,serif\" font-size=\"14.00\">b=</text>\n",
       "</g>\n",
       "<!-- b&#45;&gt;this_ -->\n",
       "<g id=\"edge3\" class=\"edge\">\n",
       "<title>b&#45;&gt;this_</title>\n",
       "<path fill=\"none\" stroke=\"black\" d=\"M101.3,-287.7C99.4,-279.9 97.12,-270.51 95.02,-261.83\"/>\n",
       "<polygon fill=\"black\" stroke=\"black\" points=\"98.42,-261 92.65,-252.1 91.61,-262.65 98.42,-261\"/>\n",
       "</g>\n",
       "<!-- that_ -->\n",
       "<g id=\"node8\" class=\"node\">\n",
       "<title>that_</title>\n",
       "<polygon fill=\"none\" stroke=\"black\" points=\"187.5,-252 133.5,-252 133.5,-216 187.5,-216 187.5,-252\"/>\n",
       "<text text-anchor=\"middle\" x=\"160.5\" y=\"-230.3\" font-family=\"Times,serif\" font-size=\"14.00\">that_</text>\n",
       "</g>\n",
       "<!-- b&#45;&gt;that_ -->\n",
       "<g id=\"edge9\" class=\"edge\">\n",
       "<title>b&#45;&gt;that_</title>\n",
       "<path fill=\"none\" stroke=\"black\" d=\"M119.1,-287.7C125.62,-279.39 133.57,-269.28 140.75,-260.14\"/>\n",
       "<polygon fill=\"black\" stroke=\"black\" points=\"143.63,-262.13 147.06,-252.1 138.13,-257.81 143.63,-262.13\"/>\n",
       "</g>\n",
       "<!-- lambda_001 -->\n",
       "<g id=\"node5\" class=\"node\">\n",
       "<title>lambda_001</title>\n",
       "<text text-anchor=\"middle\" x=\"46.5\" y=\"-14.3\" font-family=\"Times,serif\" font-size=\"14.00\">lambda_001</text>\n",
       "</g>\n",
       "<!-- lambda_001_&#45;&gt;lambda_001 -->\n",
       "<g id=\"edge4\" class=\"edge\">\n",
       "<title>lambda_001_&#45;&gt;lambda_001</title>\n",
       "<path fill=\"none\" stroke=\"black\" d=\"M46.5,-71.7C46.5,-63.98 46.5,-54.71 46.5,-46.11\"/>\n",
       "<polygon fill=\"black\" stroke=\"black\" points=\"50,-46.1 46.5,-36.1 43,-46.1 50,-46.1\"/>\n",
       "</g>\n",
       "<!-- that -->\n",
       "<g id=\"node7\" class=\"node\">\n",
       "<title>that</title>\n",
       "<text text-anchor=\"middle\" x=\"160.5\" y=\"-158.3\" font-family=\"Times,serif\" font-size=\"14.00\">that</text>\n",
       "</g>\n",
       "<!-- that&#45;&gt;combine_ -->\n",
       "<g id=\"edge12\" class=\"edge\">\n",
       "<title>that&#45;&gt;combine_</title>\n",
       "<path fill=\"none\" stroke=\"black\" d=\"M158.77,-143.7C158,-135.98 157.07,-126.71 156.21,-118.11\"/>\n",
       "<polygon fill=\"black\" stroke=\"black\" points=\"159.69,-117.71 155.21,-108.1 152.72,-118.4 159.69,-117.71\"/>\n",
       "</g>\n",
       "<!-- that_&#45;&gt;that -->\n",
       "<g id=\"edge7\" class=\"edge\">\n",
       "<title>that_&#45;&gt;that</title>\n",
       "<path fill=\"none\" stroke=\"black\" d=\"M160.5,-215.7C160.5,-207.98 160.5,-198.71 160.5,-190.11\"/>\n",
       "<polygon fill=\"black\" stroke=\"black\" points=\"164,-190.1 160.5,-180.1 157,-190.1 164,-190.1\"/>\n",
       "</g>\n",
       "<!-- x -->\n",
       "<g id=\"node9\" class=\"node\">\n",
       "<title>x</title>\n",
       "<text text-anchor=\"middle\" x=\"177.5\" y=\"-302.3\" font-family=\"Times,serif\" font-size=\"14.00\">x</text>\n",
       "</g>\n",
       "<!-- x&#45;&gt;that_ -->\n",
       "<g id=\"edge8\" class=\"edge\">\n",
       "<title>x&#45;&gt;that_</title>\n",
       "<path fill=\"none\" stroke=\"black\" d=\"M173.3,-287.7C171.4,-279.9 169.12,-270.51 167.02,-261.83\"/>\n",
       "<polygon fill=\"black\" stroke=\"black\" points=\"170.42,-261 164.65,-252.1 163.61,-262.65 170.42,-261\"/>\n",
       "</g>\n",
       "<!-- combine -->\n",
       "<g id=\"node10\" class=\"node\">\n",
       "<title>combine</title>\n",
       "<text text-anchor=\"middle\" x=\"153.5\" y=\"-14.3\" font-family=\"Times,serif\" font-size=\"14.00\">combine</text>\n",
       "</g>\n",
       "<!-- combine_&#45;&gt;combine -->\n",
       "<g id=\"edge10\" class=\"edge\">\n",
       "<title>combine_&#45;&gt;combine</title>\n",
       "<path fill=\"none\" stroke=\"black\" d=\"M153.5,-71.7C153.5,-63.98 153.5,-54.71 153.5,-46.11\"/>\n",
       "<polygon fill=\"black\" stroke=\"black\" points=\"157,-46.1 153.5,-36.1 150,-46.1 157,-46.1\"/>\n",
       "</g>\n",
       "</g>\n",
       "</svg>\n"
      ],
      "text/plain": [
       "<graphviz.dot.Digraph at 0x12ea242e0>"
      ]
     },
     "execution_count": 117,
     "metadata": {},
     "output_type": "execute_result"
    }
   ],
   "source": [
    "dag2 = DAG([*dag, lambda this, a: this + a])\n",
    "dag2.dot_digraph()"
   ]
  },
  {
   "cell_type": "markdown",
   "metadata": {},
   "source": [
    "You can get a sub-dag by specifying desired input(s) and outputs."
   ]
  },
  {
   "cell_type": "code",
   "execution_count": 126,
   "metadata": {
    "ExecuteTime": {
     "end_time": "2021-08-01T17:15:14.446411Z",
     "start_time": "2021-08-01T17:15:14.160722Z"
    }
   },
   "outputs": [
    {
     "data": {
      "image/svg+xml": [
       "<?xml version=\"1.0\" encoding=\"UTF-8\" standalone=\"no\"?>\n",
       "<!DOCTYPE svg PUBLIC \"-//W3C//DTD SVG 1.1//EN\"\n",
       " \"http://www.w3.org/Graphics/SVG/1.1/DTD/svg11.dtd\">\n",
       "<!-- Generated by graphviz version 2.48.0 (20210717.1556)\n",
       " -->\n",
       "<!-- Pages: 1 -->\n",
       "<svg width=\"134pt\" height=\"188pt\"\n",
       " viewBox=\"0.00 0.00 134.00 188.00\" xmlns=\"http://www.w3.org/2000/svg\" xmlns:xlink=\"http://www.w3.org/1999/xlink\">\n",
       "<g id=\"graph0\" class=\"graph\" transform=\"scale(1 1) rotate(0) translate(4 184)\">\n",
       "<polygon fill=\"white\" stroke=\"transparent\" points=\"-4,4 -4,-184 130,-184 130,4 -4,4\"/>\n",
       "<!-- combine -->\n",
       "<g id=\"node1\" class=\"node\">\n",
       "<title>combine</title>\n",
       "<text text-anchor=\"middle\" x=\"63\" y=\"-14.3\" font-family=\"Times,serif\" font-size=\"14.00\">combine</text>\n",
       "</g>\n",
       "<!-- combine_ -->\n",
       "<g id=\"node2\" class=\"node\">\n",
       "<title>combine_</title>\n",
       "<polygon fill=\"none\" stroke=\"black\" points=\"99,-108 27,-108 27,-72 99,-72 99,-108\"/>\n",
       "<text text-anchor=\"middle\" x=\"63\" y=\"-86.3\" font-family=\"Times,serif\" font-size=\"14.00\">combine_</text>\n",
       "</g>\n",
       "<!-- combine_&#45;&gt;combine -->\n",
       "<g id=\"edge1\" class=\"edge\">\n",
       "<title>combine_&#45;&gt;combine</title>\n",
       "<path fill=\"none\" stroke=\"black\" d=\"M63,-71.7C63,-63.98 63,-54.71 63,-46.11\"/>\n",
       "<polygon fill=\"black\" stroke=\"black\" points=\"66.5,-46.1 63,-36.1 59.5,-46.1 66.5,-46.1\"/>\n",
       "</g>\n",
       "<!-- this -->\n",
       "<g id=\"node3\" class=\"node\">\n",
       "<title>this</title>\n",
       "<text text-anchor=\"middle\" x=\"27\" y=\"-158.3\" font-family=\"Times,serif\" font-size=\"14.00\">this</text>\n",
       "</g>\n",
       "<!-- this&#45;&gt;combine_ -->\n",
       "<g id=\"edge2\" class=\"edge\">\n",
       "<title>this&#45;&gt;combine_</title>\n",
       "<path fill=\"none\" stroke=\"black\" d=\"M35.9,-143.7C40,-135.73 44.95,-126.1 49.49,-117.26\"/>\n",
       "<polygon fill=\"black\" stroke=\"black\" points=\"52.74,-118.6 54.2,-108.1 46.52,-115.4 52.74,-118.6\"/>\n",
       "</g>\n",
       "<!-- that -->\n",
       "<g id=\"node4\" class=\"node\">\n",
       "<title>that</title>\n",
       "<text text-anchor=\"middle\" x=\"99\" y=\"-158.3\" font-family=\"Times,serif\" font-size=\"14.00\">that</text>\n",
       "</g>\n",
       "<!-- that&#45;&gt;combine_ -->\n",
       "<g id=\"edge3\" class=\"edge\">\n",
       "<title>that&#45;&gt;combine_</title>\n",
       "<path fill=\"none\" stroke=\"black\" d=\"M90.1,-143.7C86,-135.73 81.05,-126.1 76.51,-117.26\"/>\n",
       "<polygon fill=\"black\" stroke=\"black\" points=\"79.48,-115.4 71.8,-108.1 73.26,-118.6 79.48,-115.4\"/>\n",
       "</g>\n",
       "</g>\n",
       "</svg>\n"
      ],
      "text/plain": [
       "<graphviz.dot.Digraph at 0x12ea246d0>"
      ]
     },
     "execution_count": 126,
     "metadata": {},
     "output_type": "execute_result"
    }
   ],
   "source": [
    "dag2[['that', 'this'], 'combine'].dot_digraph()"
   ]
  },
  {
   "cell_type": "code",
   "execution_count": null,
   "metadata": {},
   "outputs": [],
   "source": []
  },
  {
   "cell_type": "markdown",
   "metadata": {},
   "source": [
    "# FuncNode"
   ]
  },
  {
   "cell_type": "code",
   "execution_count": 1,
   "metadata": {
    "ExecuteTime": {
     "end_time": "2021-08-01T14:47:43.657430Z",
     "start_time": "2021-08-01T14:47:43.562796Z"
    }
   },
   "outputs": [],
   "source": [
    "from meshed import FuncNode"
   ]
  },
  {
   "cell_type": "markdown",
   "metadata": {},
   "source": [
    "## What for?"
   ]
  },
  {
   "cell_type": "markdown",
   "metadata": {},
   "source": [
    "Say you have a function to multiply numbers"
   ]
  },
  {
   "cell_type": "code",
   "execution_count": 2,
   "metadata": {
    "ExecuteTime": {
     "end_time": "2021-08-01T14:47:43.680086Z",
     "start_time": "2021-08-01T14:47:43.659533Z"
    }
   },
   "outputs": [],
   "source": [
    "def multiply(x, y):\n",
    "    return x * y"
   ]
  },
  {
   "cell_type": "markdown",
   "metadata": {},
   "source": [
    "And you use it in some code like this:"
   ]
  },
  {
   "cell_type": "code",
   "execution_count": 3,
   "metadata": {
    "ExecuteTime": {
     "end_time": "2021-08-01T14:47:43.703718Z",
     "start_time": "2021-08-01T14:47:43.681947Z"
    }
   },
   "outputs": [],
   "source": [
    "item_price = 3.5\n",
    "num_of_items = 2\n",
    "total_price = multiply(item_price, num_of_items)"
   ]
  },
  {
   "cell_type": "markdown",
   "metadata": {},
   "source": [
    "What the execution of `total_price = multiply(item_price, num_of_items)` does is\n",
    "- grab the values (in the locals scope -- a dict), of ``item_price`` and ``num_of_items``,\n",
    "- call the multiply function on these, and then\n",
    "- write the result to a variable (in locals) named ``total_price``"
   ]
  },
  {
   "cell_type": "markdown",
   "metadata": {},
   "source": [
    "`FuncNode` is a function wrapper that specification of such a `output = function(...inputs...)` assignment statement \n",
    "in such a way that it can carry it out on a `scope`. A `scope` is a `dict` where the function can find it's input values and write it's output values \n",
    "(if the user so chooses). \n",
    "\n",
    "For example, the `FuncNode` form of the above statement would be:"
   ]
  },
  {
   "cell_type": "code",
   "execution_count": 4,
   "metadata": {
    "ExecuteTime": {
     "end_time": "2021-08-01T14:47:43.729619Z",
     "start_time": "2021-08-01T14:47:43.705924Z"
    }
   },
   "outputs": [
    {
     "data": {
      "text/plain": [
       "FuncNode(item_price,num_of_items -> multiply_ -> multiply)"
      ]
     },
     "execution_count": 4,
     "metadata": {},
     "output_type": "execute_result"
    }
   ],
   "source": [
    "func_node = FuncNode(\n",
    "    func=multiply, \n",
    "    bind={'x': 'item_price', 'y': 'num_of_items'}, \n",
    ")\n",
    "func_node"
   ]
  },
  {
   "cell_type": "markdown",
   "metadata": {
    "ExecuteTime": {
     "end_time": "2021-07-31T13:52:37.549962Z",
     "start_time": "2021-07-31T13:52:37.408573Z"
    }
   },
   "source": [
    "Note the `bind` is a mapping **from** the variable names of the wrapped function **to** the names of the scope.\n",
    "\n",
    "That is, when it's time to execute, it tells the `FuncNode` where to find the values of its inputs. \n",
    "\n",
    "If an input is not specified in this `bind` mapping, the scope (external) name is supposed to be the same as the function's (internal) name."
   ]
  },
  {
   "cell_type": "markdown",
   "metadata": {},
   "source": [
    "## What can `FuncNode` do?"
   ]
  },
  {
   "cell_type": "markdown",
   "metadata": {},
   "source": [
    "The purpose of a `FuncNode` is to source some inputs somewhere, compute something\n",
    "with these, and write the result somewhere. That somewhere is what we call a\n",
    "scope. \n",
    "\n",
    "A scope is a dictionary (or any mutuable mapping to be precise) and it works\n",
    "like this:"
   ]
  },
  {
   "cell_type": "code",
   "execution_count": 5,
   "metadata": {
    "ExecuteTime": {
     "end_time": "2021-08-01T14:47:44.717985Z",
     "start_time": "2021-08-01T14:47:44.693560Z"
    }
   },
   "outputs": [
    {
     "data": {
      "text/plain": [
       "7.0"
      ]
     },
     "execution_count": 5,
     "metadata": {},
     "output_type": "execute_result"
    }
   ],
   "source": [
    "scope = {'item_price': 3.5, 'num_of_items': 2}\n",
    "func_node(scope)  # returns 7.0"
   ]
  },
  {
   "cell_type": "code",
   "execution_count": 6,
   "metadata": {
    "ExecuteTime": {
     "end_time": "2021-08-01T14:47:45.133384Z",
     "start_time": "2021-08-01T14:47:45.109213Z"
    }
   },
   "outputs": [
    {
     "data": {
      "text/plain": [
       "{'item_price': 3.5, 'num_of_items': 2, 'multiply': 7.0}"
      ]
     },
     "execution_count": 6,
     "metadata": {},
     "output_type": "execute_result"
    }
   ],
   "source": [
    "scope  # and 7.0 was written in the scope"
   ]
  },
  {
   "cell_type": "markdown",
   "metadata": {},
   "source": [
    "## What's with the names?"
   ]
  },
  {
   "cell_type": "markdown",
   "metadata": {},
   "source": [
    "Consider ``item_price,num_of_items -> multiply_ -> multiply``.\n",
    "\n",
    "See that the name of the function is used for the name of its output,\n",
    "and an underscore-suffixed name for its function name.\n",
    "\n",
    "That's the default behavior if you don't specify either a name (of the function)\n",
    "for the `FuncNode`, or a `output_name`.\n",
    "\n",
    "The underscore is to distinguish from the name of the function itself.\n",
    "\n",
    "The function gets the underscore because this favors particular naming style. "
   ]
  },
  {
   "cell_type": "markdown",
   "metadata": {},
   "source": [
    "The\n",
    "\n",
    "```\n",
    "item_price,num_of_items -> multiply_ -> total_price\n",
    "```\n",
    "\n",
    "shows you what the `FuncNode` node looks like on the outside. Note the `multiply_` with the underscore. \n",
    "That's the default name the `FuncNode` gave to the function. The underscore is to distinguish from the name of the function itself. \n",
    "\n",
    "You can give it a custom name as well:"
   ]
  },
  {
   "cell_type": "code",
   "execution_count": 9,
   "metadata": {
    "ExecuteTime": {
     "end_time": "2021-08-01T14:47:54.120610Z",
     "start_time": "2021-08-01T14:47:54.096147Z"
    }
   },
   "outputs": [
    {
     "data": {
      "text/plain": [
       "FuncNode(item_price,num_of_items -> multiply -> daily_expense)"
      ]
     },
     "execution_count": 9,
     "metadata": {},
     "output_type": "execute_result"
    }
   ],
   "source": [
    "FuncNode(\n",
    "    func=multiply, \n",
    "    bind={'x': 'item_price', 'y': 'num_of_items'}, \n",
    "    out='daily_expense'\n",
    ")"
   ]
  },
  {
   "cell_type": "code",
   "execution_count": 11,
   "metadata": {
    "ExecuteTime": {
     "end_time": "2021-08-01T14:47:59.629497Z",
     "start_time": "2021-08-01T14:47:59.604909Z"
    }
   },
   "outputs": [
    {
     "data": {
      "text/plain": [
       "FuncNode(item_price,num_of_items -> total_price -> _total_price)"
      ]
     },
     "execution_count": 11,
     "metadata": {},
     "output_type": "execute_result"
    }
   ],
   "source": [
    "FuncNode(\n",
    "    func=multiply, \n",
    "    name='total_price',\n",
    "    bind={'x': 'item_price', 'y': 'num_of_items'}, \n",
    ")"
   ]
  },
  {
   "cell_type": "code",
   "execution_count": 12,
   "metadata": {
    "ExecuteTime": {
     "end_time": "2021-08-01T14:47:59.913881Z",
     "start_time": "2021-08-01T14:47:59.889231Z"
    }
   },
   "outputs": [
    {
     "data": {
      "text/plain": [
       "FuncNode(item_price,num_of_items -> total_price -> daily_expense)"
      ]
     },
     "execution_count": 12,
     "metadata": {},
     "output_type": "execute_result"
    }
   ],
   "source": [
    "FuncNode(\n",
    "    func=multiply, \n",
    "    name='total_price',\n",
    "    bind={'x': 'item_price', 'y': 'num_of_items'}, \n",
    "    out='daily_expense'\n",
    ")"
   ]
  },
  {
   "cell_type": "markdown",
   "metadata": {},
   "source": [
    "Note: In the context of networks if you want to reuse a same function (say, `multiply`) in multiple places \n",
    "you'll **need** to give it a custom name because the functions are identified by this name in the network. "
   ]
  },
  {
   "cell_type": "markdown",
   "metadata": {},
   "source": [
    "Note: These default name rules are determined by (and therefore can be changed through) the `names_maker` argument of `FuncNode`."
   ]
  },
  {
   "cell_type": "markdown",
   "metadata": {},
   "source": [
    "# A DAG"
   ]
  },
  {
   "cell_type": "markdown",
   "metadata": {},
   "source": [
    "A DAG (Direct Acyclic Graph) is determined by a bunch of `FuncNode`s. \n",
    "\n",
    "The `FuncNode`s alone determine what computations can take place and how these computation units interact with each other, \n",
    "and even what names are used by the interface of the DAG.\n",
    "\n",
    "Therefore you can control all those aspects by specifying what you want in the `FuncNode`s. "
   ]
  },
  {
   "cell_type": "code",
   "execution_count": 13,
   "metadata": {
    "ExecuteTime": {
     "end_time": "2021-08-01T14:48:03.576405Z",
     "start_time": "2021-08-01T14:48:03.553315Z"
    }
   },
   "outputs": [],
   "source": [
    "def add(x, y):\n",
    "    return x * y\n",
    "\n",
    "def mul(x, y):\n",
    "    return x * y"
   ]
  },
  {
   "cell_type": "code",
   "execution_count": 14,
   "metadata": {
    "ExecuteTime": {
     "end_time": "2021-08-01T14:48:04.994208Z",
     "start_time": "2021-08-01T14:48:04.130308Z"
    }
   },
   "outputs": [
    {
     "data": {
      "image/svg+xml": [
       "<?xml version=\"1.0\" encoding=\"UTF-8\" standalone=\"no\"?>\n",
       "<!DOCTYPE svg PUBLIC \"-//W3C//DTD SVG 1.1//EN\"\n",
       " \"http://www.w3.org/Graphics/SVG/1.1/DTD/svg11.dtd\">\n",
       "<!-- Generated by graphviz version 2.48.0 (20210717.1556)\n",
       " -->\n",
       "<!-- Pages: 1 -->\n",
       "<svg width=\"170pt\" height=\"476pt\"\n",
       " viewBox=\"0.00 0.00 170.00 476.00\" xmlns=\"http://www.w3.org/2000/svg\" xmlns:xlink=\"http://www.w3.org/1999/xlink\">\n",
       "<g id=\"graph0\" class=\"graph\" transform=\"scale(1 1) rotate(0) translate(4 472)\">\n",
       "<polygon fill=\"white\" stroke=\"transparent\" points=\"-4,4 -4,-472 166,-472 166,4 -4,4\"/>\n",
       "<!-- c -->\n",
       "<g id=\"node1\" class=\"node\">\n",
       "<title>c</title>\n",
       "<text text-anchor=\"middle\" x=\"99\" y=\"-302.3\" font-family=\"Times,serif\" font-size=\"14.00\">c</text>\n",
       "</g>\n",
       "<!-- times -->\n",
       "<g id=\"node6\" class=\"node\">\n",
       "<title>times</title>\n",
       "<polygon fill=\"none\" stroke=\"black\" points=\"71,-252 17,-252 17,-216 71,-216 71,-252\"/>\n",
       "<text text-anchor=\"middle\" x=\"44\" y=\"-230.3\" font-family=\"Times,serif\" font-size=\"14.00\">times</text>\n",
       "</g>\n",
       "<!-- c&#45;&gt;times -->\n",
       "<g id=\"edge5\" class=\"edge\">\n",
       "<title>c&#45;&gt;times</title>\n",
       "<path fill=\"none\" stroke=\"black\" d=\"M85.4,-287.7C78.88,-279.39 70.93,-269.28 63.75,-260.14\"/>\n",
       "<polygon fill=\"black\" stroke=\"black\" points=\"66.37,-257.81 57.44,-252.1 60.87,-262.13 66.37,-257.81\"/>\n",
       "</g>\n",
       "<!-- plus -->\n",
       "<g id=\"node9\" class=\"node\">\n",
       "<title>plus</title>\n",
       "<polygon fill=\"none\" stroke=\"black\" points=\"98,-108 44,-108 44,-72 98,-72 98,-108\"/>\n",
       "<text text-anchor=\"middle\" x=\"71\" y=\"-86.3\" font-family=\"Times,serif\" font-size=\"14.00\">plus</text>\n",
       "</g>\n",
       "<!-- c&#45;&gt;plus -->\n",
       "<g id=\"edge8\" class=\"edge\">\n",
       "<title>c&#45;&gt;plus</title>\n",
       "<path fill=\"none\" stroke=\"black\" d=\"M97.24,-287.57C94.18,-257.99 87.49,-196.1 80,-144 78.79,-135.56 77.29,-126.38 75.87,-118.08\"/>\n",
       "<polygon fill=\"black\" stroke=\"black\" points=\"79.31,-117.4 74.14,-108.15 72.41,-118.6 79.31,-117.4\"/>\n",
       "</g>\n",
       "<!-- sum -->\n",
       "<g id=\"node2\" class=\"node\">\n",
       "<title>sum</title>\n",
       "<polygon fill=\"none\" stroke=\"black\" points=\"126,-396 72,-396 72,-360 126,-360 126,-396\"/>\n",
       "<text text-anchor=\"middle\" x=\"99\" y=\"-374.3\" font-family=\"Times,serif\" font-size=\"14.00\">sum</text>\n",
       "</g>\n",
       "<!-- sum&#45;&gt;c -->\n",
       "<g id=\"edge1\" class=\"edge\">\n",
       "<title>sum&#45;&gt;c</title>\n",
       "<path fill=\"none\" stroke=\"black\" d=\"M99,-359.7C99,-351.98 99,-342.71 99,-334.11\"/>\n",
       "<polygon fill=\"black\" stroke=\"black\" points=\"102.5,-334.1 99,-324.1 95.5,-334.1 102.5,-334.1\"/>\n",
       "</g>\n",
       "<!-- a -->\n",
       "<g id=\"node3\" class=\"node\">\n",
       "<title>a</title>\n",
       "<text text-anchor=\"middle\" x=\"63\" y=\"-446.3\" font-family=\"Times,serif\" font-size=\"14.00\">a</text>\n",
       "</g>\n",
       "<!-- a&#45;&gt;sum -->\n",
       "<g id=\"edge2\" class=\"edge\">\n",
       "<title>a&#45;&gt;sum</title>\n",
       "<path fill=\"none\" stroke=\"black\" d=\"M71.9,-431.7C76,-423.73 80.95,-414.1 85.49,-405.26\"/>\n",
       "<polygon fill=\"black\" stroke=\"black\" points=\"88.74,-406.6 90.2,-396.1 82.52,-403.4 88.74,-406.6\"/>\n",
       "</g>\n",
       "<!-- b -->\n",
       "<g id=\"node4\" class=\"node\">\n",
       "<title>b</title>\n",
       "<text text-anchor=\"middle\" x=\"135\" y=\"-446.3\" font-family=\"Times,serif\" font-size=\"14.00\">b</text>\n",
       "</g>\n",
       "<!-- b&#45;&gt;sum -->\n",
       "<g id=\"edge3\" class=\"edge\">\n",
       "<title>b&#45;&gt;sum</title>\n",
       "<path fill=\"none\" stroke=\"black\" d=\"M126.1,-431.7C122,-423.73 117.05,-414.1 112.51,-405.26\"/>\n",
       "<polygon fill=\"black\" stroke=\"black\" points=\"115.48,-403.4 107.8,-396.1 109.26,-406.6 115.48,-403.4\"/>\n",
       "</g>\n",
       "<!-- e -->\n",
       "<g id=\"node5\" class=\"node\">\n",
       "<title>e</title>\n",
       "<text text-anchor=\"middle\" x=\"44\" y=\"-158.3\" font-family=\"Times,serif\" font-size=\"14.00\">e</text>\n",
       "</g>\n",
       "<!-- e&#45;&gt;plus -->\n",
       "<g id=\"edge9\" class=\"edge\">\n",
       "<title>e&#45;&gt;plus</title>\n",
       "<path fill=\"none\" stroke=\"black\" d=\"M50.67,-143.7C53.71,-135.81 57.38,-126.3 60.76,-117.55\"/>\n",
       "<polygon fill=\"black\" stroke=\"black\" points=\"64.07,-118.69 64.4,-108.1 57.54,-116.17 64.07,-118.69\"/>\n",
       "</g>\n",
       "<!-- times&#45;&gt;e -->\n",
       "<g id=\"edge4\" class=\"edge\">\n",
       "<title>times&#45;&gt;e</title>\n",
       "<path fill=\"none\" stroke=\"black\" d=\"M44,-215.7C44,-207.98 44,-198.71 44,-190.11\"/>\n",
       "<polygon fill=\"black\" stroke=\"black\" points=\"47.5,-190.1 44,-180.1 40.5,-190.1 47.5,-190.1\"/>\n",
       "</g>\n",
       "<!-- d -->\n",
       "<g id=\"node7\" class=\"node\">\n",
       "<title>d</title>\n",
       "<text text-anchor=\"middle\" x=\"27\" y=\"-302.3\" font-family=\"Times,serif\" font-size=\"14.00\">d</text>\n",
       "</g>\n",
       "<!-- d&#45;&gt;times -->\n",
       "<g id=\"edge6\" class=\"edge\">\n",
       "<title>d&#45;&gt;times</title>\n",
       "<path fill=\"none\" stroke=\"black\" d=\"M31.2,-287.7C33.1,-279.9 35.38,-270.51 37.48,-261.83\"/>\n",
       "<polygon fill=\"black\" stroke=\"black\" points=\"40.89,-262.65 39.85,-252.1 34.08,-261 40.89,-262.65\"/>\n",
       "</g>\n",
       "<!-- f -->\n",
       "<g id=\"node8\" class=\"node\">\n",
       "<title>f</title>\n",
       "<text text-anchor=\"middle\" x=\"71\" y=\"-14.3\" font-family=\"Times,serif\" font-size=\"14.00\">f</text>\n",
       "</g>\n",
       "<!-- plus&#45;&gt;f -->\n",
       "<g id=\"edge7\" class=\"edge\">\n",
       "<title>plus&#45;&gt;f</title>\n",
       "<path fill=\"none\" stroke=\"black\" d=\"M71,-71.7C71,-63.98 71,-54.71 71,-46.11\"/>\n",
       "<polygon fill=\"black\" stroke=\"black\" points=\"74.5,-46.1 71,-36.1 67.5,-46.1 74.5,-46.1\"/>\n",
       "</g>\n",
       "</g>\n",
       "</svg>\n"
      ],
      "text/plain": [
       "<graphviz.dot.Digraph at 0x11c1dd310>"
      ]
     },
     "execution_count": 14,
     "metadata": {},
     "output_type": "execute_result"
    }
   ],
   "source": [
    "from meshed import DAG, FuncNode\n",
    "\n",
    "dag = DAG(\n",
    "    [\n",
    "        FuncNode(add, 'sum',   {'x': 'a', 'y': 'b'}, 'c'),\n",
    "        FuncNode(mul, 'times', {'x': 'c', 'y': 'd'}, 'e'),\n",
    "        FuncNode(add, 'plus',  {'x': 'c', 'y': 'e'}, 'f'),\n",
    "    ]\n",
    ")\n",
    "dag.dot_digraph()"
   ]
  },
  {
   "cell_type": "code",
   "execution_count": 15,
   "metadata": {
    "ExecuteTime": {
     "end_time": "2021-08-01T14:48:05.020721Z",
     "start_time": "2021-08-01T14:48:04.996601Z"
    }
   },
   "outputs": [
    {
     "data": {
      "text/plain": [
       "12"
      ]
     },
     "execution_count": 15,
     "metadata": {},
     "output_type": "execute_result"
    }
   ],
   "source": [
    "dag(a=1, b=2, d=3)  # ((a + b) * d) + (a + b) = ((1 + 2) * 3) + (1 + 2) = 12"
   ]
  },
  {
   "cell_type": "markdown",
   "metadata": {},
   "source": [
    "Note two things in the example above.\n",
    "\n",
    "We reused `add` twice, but gave it a different name both times.\n",
    "\n",
    "The functions all had the same input names (`x` and `y`), \n",
    "but these were mapped to other names which determined the dag's argument names (`a`, `b` and `d`) \n",
    "and computational flow (the `c` routing the output of `sum` to `times` and `plus`).\n",
    "\n",
    "But as long as there are no name conflicts, there's a same bag of functions will result in the same unique `DAG`."
   ]
  },
  {
   "cell_type": "code",
   "execution_count": 16,
   "metadata": {
    "ExecuteTime": {
     "end_time": "2021-08-01T14:48:06.760251Z",
     "start_time": "2021-08-01T14:48:06.455070Z"
    }
   },
   "outputs": [
    {
     "data": {
      "image/svg+xml": [
       "<?xml version=\"1.0\" encoding=\"UTF-8\" standalone=\"no\"?>\n",
       "<!DOCTYPE svg PUBLIC \"-//W3C//DTD SVG 1.1//EN\"\n",
       " \"http://www.w3.org/Graphics/SVG/1.1/DTD/svg11.dtd\">\n",
       "<!-- Generated by graphviz version 2.48.0 (20210717.1556)\n",
       " -->\n",
       "<!-- Pages: 1 -->\n",
       "<svg width=\"134pt\" height=\"188pt\"\n",
       " viewBox=\"0.00 0.00 134.00 188.00\" xmlns=\"http://www.w3.org/2000/svg\" xmlns:xlink=\"http://www.w3.org/1999/xlink\">\n",
       "<g id=\"graph0\" class=\"graph\" transform=\"scale(1 1) rotate(0) translate(4 184)\">\n",
       "<polygon fill=\"white\" stroke=\"transparent\" points=\"-4,4 -4,-184 130,-184 130,4 -4,4\"/>\n",
       "<!-- mul -->\n",
       "<g id=\"node1\" class=\"node\">\n",
       "<title>mul</title>\n",
       "<text text-anchor=\"middle\" x=\"27\" y=\"-14.3\" font-family=\"Times,serif\" font-size=\"14.00\">mul</text>\n",
       "</g>\n",
       "<!-- mul_ -->\n",
       "<g id=\"node2\" class=\"node\">\n",
       "<title>mul_</title>\n",
       "<polygon fill=\"none\" stroke=\"black\" points=\"54,-108 0,-108 0,-72 54,-72 54,-108\"/>\n",
       "<text text-anchor=\"middle\" x=\"27\" y=\"-86.3\" font-family=\"Times,serif\" font-size=\"14.00\">mul_</text>\n",
       "</g>\n",
       "<!-- mul_&#45;&gt;mul -->\n",
       "<g id=\"edge1\" class=\"edge\">\n",
       "<title>mul_&#45;&gt;mul</title>\n",
       "<path fill=\"none\" stroke=\"black\" d=\"M27,-71.7C27,-63.98 27,-54.71 27,-46.11\"/>\n",
       "<polygon fill=\"black\" stroke=\"black\" points=\"30.5,-46.1 27,-36.1 23.5,-46.1 30.5,-46.1\"/>\n",
       "</g>\n",
       "<!-- x -->\n",
       "<g id=\"node3\" class=\"node\">\n",
       "<title>x</title>\n",
       "<text text-anchor=\"middle\" x=\"27\" y=\"-158.3\" font-family=\"Times,serif\" font-size=\"14.00\">x</text>\n",
       "</g>\n",
       "<!-- x&#45;&gt;mul_ -->\n",
       "<g id=\"edge2\" class=\"edge\">\n",
       "<title>x&#45;&gt;mul_</title>\n",
       "<path fill=\"none\" stroke=\"black\" d=\"M27,-143.7C27,-135.98 27,-126.71 27,-118.11\"/>\n",
       "<polygon fill=\"black\" stroke=\"black\" points=\"30.5,-118.1 27,-108.1 23.5,-118.1 30.5,-118.1\"/>\n",
       "</g>\n",
       "<!-- add_ -->\n",
       "<g id=\"node6\" class=\"node\">\n",
       "<title>add_</title>\n",
       "<polygon fill=\"none\" stroke=\"black\" points=\"126,-108 72,-108 72,-72 126,-72 126,-108\"/>\n",
       "<text text-anchor=\"middle\" x=\"99\" y=\"-86.3\" font-family=\"Times,serif\" font-size=\"14.00\">add_</text>\n",
       "</g>\n",
       "<!-- x&#45;&gt;add_ -->\n",
       "<g id=\"edge5\" class=\"edge\">\n",
       "<title>x&#45;&gt;add_</title>\n",
       "<path fill=\"none\" stroke=\"black\" d=\"M44.8,-143.7C53.6,-135.14 64.38,-124.66 74,-115.3\"/>\n",
       "<polygon fill=\"black\" stroke=\"black\" points=\"76.68,-117.58 81.41,-108.1 71.8,-112.57 76.68,-117.58\"/>\n",
       "</g>\n",
       "<!-- y -->\n",
       "<g id=\"node4\" class=\"node\">\n",
       "<title>y</title>\n",
       "<text text-anchor=\"middle\" x=\"99\" y=\"-158.3\" font-family=\"Times,serif\" font-size=\"14.00\">y</text>\n",
       "</g>\n",
       "<!-- y&#45;&gt;mul_ -->\n",
       "<g id=\"edge3\" class=\"edge\">\n",
       "<title>y&#45;&gt;mul_</title>\n",
       "<path fill=\"none\" stroke=\"black\" d=\"M81.2,-143.7C72.4,-135.14 61.62,-124.66 52,-115.3\"/>\n",
       "<polygon fill=\"black\" stroke=\"black\" points=\"54.2,-112.57 44.59,-108.1 49.32,-117.58 54.2,-112.57\"/>\n",
       "</g>\n",
       "<!-- y&#45;&gt;add_ -->\n",
       "<g id=\"edge6\" class=\"edge\">\n",
       "<title>y&#45;&gt;add_</title>\n",
       "<path fill=\"none\" stroke=\"black\" d=\"M99,-143.7C99,-135.98 99,-126.71 99,-118.11\"/>\n",
       "<polygon fill=\"black\" stroke=\"black\" points=\"102.5,-118.1 99,-108.1 95.5,-118.1 102.5,-118.1\"/>\n",
       "</g>\n",
       "<!-- add -->\n",
       "<g id=\"node5\" class=\"node\">\n",
       "<title>add</title>\n",
       "<text text-anchor=\"middle\" x=\"99\" y=\"-14.3\" font-family=\"Times,serif\" font-size=\"14.00\">add</text>\n",
       "</g>\n",
       "<!-- add_&#45;&gt;add -->\n",
       "<g id=\"edge4\" class=\"edge\">\n",
       "<title>add_&#45;&gt;add</title>\n",
       "<path fill=\"none\" stroke=\"black\" d=\"M99,-71.7C99,-63.98 99,-54.71 99,-46.11\"/>\n",
       "<polygon fill=\"black\" stroke=\"black\" points=\"102.5,-46.1 99,-36.1 95.5,-46.1 102.5,-46.1\"/>\n",
       "</g>\n",
       "</g>\n",
       "</svg>\n"
      ],
      "text/plain": [
       "<graphviz.dot.Digraph at 0x11c1dd190>"
      ]
     },
     "execution_count": 16,
     "metadata": {},
     "output_type": "execute_result"
    }
   ],
   "source": [
    "DAG([add, mul]).dot_digraph()"
   ]
  },
  {
   "cell_type": "markdown",
   "metadata": {},
   "source": [
    "## Extending an existing dag"
   ]
  },
  {
   "cell_type": "code",
   "execution_count": 17,
   "metadata": {
    "ExecuteTime": {
     "end_time": "2021-08-01T14:48:08.012884Z",
     "start_time": "2021-08-01T14:48:07.732646Z"
    }
   },
   "outputs": [
    {
     "data": {
      "image/svg+xml": [
       "<?xml version=\"1.0\" encoding=\"UTF-8\" standalone=\"no\"?>\n",
       "<!DOCTYPE svg PUBLIC \"-//W3C//DTD SVG 1.1//EN\"\n",
       " \"http://www.w3.org/Graphics/SVG/1.1/DTD/svg11.dtd\">\n",
       "<!-- Generated by graphviz version 2.48.0 (20210717.1556)\n",
       " -->\n",
       "<!-- Pages: 1 -->\n",
       "<svg width=\"134pt\" height=\"332pt\"\n",
       " viewBox=\"0.00 0.00 134.00 332.00\" xmlns=\"http://www.w3.org/2000/svg\" xmlns:xlink=\"http://www.w3.org/1999/xlink\">\n",
       "<g id=\"graph0\" class=\"graph\" transform=\"scale(1 1) rotate(0) translate(4 328)\">\n",
       "<polygon fill=\"white\" stroke=\"transparent\" points=\"-4,4 -4,-328 130,-328 130,4 -4,4\"/>\n",
       "<!-- f -->\n",
       "<g id=\"node1\" class=\"node\">\n",
       "<title>f</title>\n",
       "<text text-anchor=\"middle\" x=\"99\" y=\"-158.3\" font-family=\"Times,serif\" font-size=\"14.00\">f</text>\n",
       "</g>\n",
       "<!-- g_ -->\n",
       "<g id=\"node5\" class=\"node\">\n",
       "<title>g_</title>\n",
       "<polygon fill=\"none\" stroke=\"black\" points=\"90,-108 36,-108 36,-72 90,-72 90,-108\"/>\n",
       "<text text-anchor=\"middle\" x=\"63\" y=\"-86.3\" font-family=\"Times,serif\" font-size=\"14.00\">g_</text>\n",
       "</g>\n",
       "<!-- f&#45;&gt;g_ -->\n",
       "<g id=\"edge4\" class=\"edge\">\n",
       "<title>f&#45;&gt;g_</title>\n",
       "<path fill=\"none\" stroke=\"black\" d=\"M90.1,-143.7C86,-135.73 81.05,-126.1 76.51,-117.26\"/>\n",
       "<polygon fill=\"black\" stroke=\"black\" points=\"79.48,-115.4 71.8,-108.1 73.26,-118.6 79.48,-115.4\"/>\n",
       "</g>\n",
       "<!-- f_ -->\n",
       "<g id=\"node2\" class=\"node\">\n",
       "<title>f_</title>\n",
       "<polygon fill=\"none\" stroke=\"black\" points=\"126,-252 72,-252 72,-216 126,-216 126,-252\"/>\n",
       "<text text-anchor=\"middle\" x=\"99\" y=\"-230.3\" font-family=\"Times,serif\" font-size=\"14.00\">f_</text>\n",
       "</g>\n",
       "<!-- f_&#45;&gt;f -->\n",
       "<g id=\"edge1\" class=\"edge\">\n",
       "<title>f_&#45;&gt;f</title>\n",
       "<path fill=\"none\" stroke=\"black\" d=\"M99,-215.7C99,-207.98 99,-198.71 99,-190.11\"/>\n",
       "<polygon fill=\"black\" stroke=\"black\" points=\"102.5,-190.1 99,-180.1 95.5,-190.1 102.5,-190.1\"/>\n",
       "</g>\n",
       "<!-- a -->\n",
       "<g id=\"node3\" class=\"node\">\n",
       "<title>a</title>\n",
       "<text text-anchor=\"middle\" x=\"99\" y=\"-302.3\" font-family=\"Times,serif\" font-size=\"14.00\">a</text>\n",
       "</g>\n",
       "<!-- a&#45;&gt;f_ -->\n",
       "<g id=\"edge2\" class=\"edge\">\n",
       "<title>a&#45;&gt;f_</title>\n",
       "<path fill=\"none\" stroke=\"black\" d=\"M99,-287.7C99,-279.98 99,-270.71 99,-262.11\"/>\n",
       "<polygon fill=\"black\" stroke=\"black\" points=\"102.5,-262.1 99,-252.1 95.5,-262.1 102.5,-262.1\"/>\n",
       "</g>\n",
       "<!-- g -->\n",
       "<g id=\"node4\" class=\"node\">\n",
       "<title>g</title>\n",
       "<text text-anchor=\"middle\" x=\"63\" y=\"-14.3\" font-family=\"Times,serif\" font-size=\"14.00\">g</text>\n",
       "</g>\n",
       "<!-- g_&#45;&gt;g -->\n",
       "<g id=\"edge3\" class=\"edge\">\n",
       "<title>g_&#45;&gt;g</title>\n",
       "<path fill=\"none\" stroke=\"black\" d=\"M63,-71.7C63,-63.98 63,-54.71 63,-46.11\"/>\n",
       "<polygon fill=\"black\" stroke=\"black\" points=\"66.5,-46.1 63,-36.1 59.5,-46.1 66.5,-46.1\"/>\n",
       "</g>\n",
       "<!-- b -->\n",
       "<g id=\"node6\" class=\"node\">\n",
       "<title>b</title>\n",
       "<text text-anchor=\"middle\" x=\"27\" y=\"-158.3\" font-family=\"Times,serif\" font-size=\"14.00\">b</text>\n",
       "</g>\n",
       "<!-- b&#45;&gt;g_ -->\n",
       "<g id=\"edge5\" class=\"edge\">\n",
       "<title>b&#45;&gt;g_</title>\n",
       "<path fill=\"none\" stroke=\"black\" d=\"M35.9,-143.7C40,-135.73 44.95,-126.1 49.49,-117.26\"/>\n",
       "<polygon fill=\"black\" stroke=\"black\" points=\"52.74,-118.6 54.2,-108.1 46.52,-115.4 52.74,-118.6\"/>\n",
       "</g>\n",
       "</g>\n",
       "</svg>\n"
      ],
      "text/plain": [
       "<graphviz.dot.Digraph at 0x11c11a9d0>"
      ]
     },
     "execution_count": 17,
     "metadata": {},
     "output_type": "execute_result"
    }
   ],
   "source": [
    "def f(a): return a * 2\n",
    "def g(f, b): return f + b\n",
    "    \n",
    "dag = DAG([f, g])\n",
    "dag.dot_digraph()"
   ]
  },
  {
   "cell_type": "code",
   "execution_count": 18,
   "metadata": {
    "ExecuteTime": {
     "end_time": "2021-08-01T14:48:08.668702Z",
     "start_time": "2021-08-01T14:48:08.640948Z"
    }
   },
   "outputs": [
    {
     "data": {
      "text/plain": [
       "7"
      ]
     },
     "execution_count": 18,
     "metadata": {},
     "output_type": "execute_result"
    }
   ],
   "source": [
    "assert dag(2, 3) == 7\n",
    "dag(a=2, b=3)  # a * 2 + b = 2 * 2 + 3 = 7"
   ]
  },
  {
   "cell_type": "code",
   "execution_count": 19,
   "metadata": {
    "ExecuteTime": {
     "end_time": "2021-08-01T14:48:09.191606Z",
     "start_time": "2021-08-01T14:48:09.164508Z"
    }
   },
   "outputs": [
    {
     "data": {
      "text/plain": [
       "'a=2 b=3 g=7'"
      ]
     },
     "execution_count": 19,
     "metadata": {},
     "output_type": "execute_result"
    }
   ],
   "source": [
    "def h(a, b, g): return f\"{a=} {b=} {g=}\"\n",
    "extended_dag = DAG([*dag, h])\n",
    "assert extended_dag(a=2, b=3) == 'a=2 b=3 g=7'\n",
    "extended_dag(a=2, b=3)"
   ]
  },
  {
   "cell_type": "code",
   "execution_count": null,
   "metadata": {},
   "outputs": [],
   "source": []
  },
  {
   "cell_type": "code",
   "execution_count": null,
   "metadata": {},
   "outputs": [],
   "source": []
  },
  {
   "cell_type": "markdown",
   "metadata": {},
   "source": [
    "# Example: Evaluating a classifier"
   ]
  },
  {
   "cell_type": "markdown",
   "metadata": {},
   "source": [
    "We'd like to develop some tools that will help a user to make a domain-specific metric (DSM) to evaluate binary classifiers.\n",
    "\n",
    "Often, off-the-shelf metrics are used, such as accuracy, precision, recall, false-positive-rate, etc. \n",
    "\n",
    "The number these produce may not be directly interpretable in the domain they're being applied to. \n",
    "\n",
    "It can be helpful to see what false negative, false positive, etc. mean in the given context, \n",
    "and associate a value (penalty or reward) to these \n",
    "that reflects how much they contribute towards or contravene the actual objective of the classifier. \n",
    "\n",
    "If a COVID test turns out positive, what actions will be taken and what value do their consequences have depending on whether the positive test \n",
    "was true or false? Same question for true/false negative test results. Doing this valuation then allows us to produce a formula that\n",
    "evaluates the worth of a test that has more meaning that flat false positive and false negative rates. \n"
   ]
  },
  {
   "cell_type": "markdown",
   "metadata": {},
   "source": [
    "##  classifier_score"
   ]
  },
  {
   "cell_type": "code",
   "execution_count": 20,
   "metadata": {
    "ExecuteTime": {
     "end_time": "2021-08-01T14:48:13.008273Z",
     "start_time": "2021-08-01T14:48:12.983656Z"
    }
   },
   "outputs": [],
   "source": [
    "def _aligned_items(a, b):\n",
    "    \"\"\"Yield (k, a_value, b_value) triples for all k that are both a key of a and of b\"\"\"\n",
    "    # reason for casting to dict is to make sure things like pd.Series use the right keys.\n",
    "    # could also use k in a.keys() etc. to solve this.\n",
    "    a = dict(a)\n",
    "    b = dict(b)\n",
    "    for k in a:\n",
    "        if k in b:\n",
    "            yield k, a[k], b[k]\n",
    "            \n",
    "def dot_product(a, b):\n",
    "    \"\"\"\n",
    "    >>> dot_product({'a': 1, 'b': 2, 'c': 3}, {'b': 4, 'c': -1, 'd': 'whatever'})\n",
    "    5\n",
    "    \"\"\"\n",
    "    return sum(ak * bk for _, ak, bk in _aligned_items(a, b))\n",
    "\n",
    "\n",
    "def classifier_score(confusion_count, confusion_value):\n",
    "    \"\"\"Compute a score for a classifier that produced the `confusion_count`, based on the given `confusion_value`.\n",
    "    Meant to be curried by fixing the confusion_value dict.\n",
    "    \n",
    "    The function is purposely general -- it is not specific to binary classifier outcomes, or even any classifier outcomes. \n",
    "    It simply computes a normalized dot product, depending on the inputs keys to align values to multiply and \n",
    "    considering a missing key as an expression of a null value. \n",
    "    \"\"\"\n",
    "    return dot_product(confusion_count, confusion_value) / sum(confusion_count.values())\n"
   ]
  },
  {
   "cell_type": "code",
   "execution_count": 21,
   "metadata": {
    "ExecuteTime": {
     "end_time": "2021-08-01T14:48:13.292020Z",
     "start_time": "2021-08-01T14:48:13.267112Z"
    }
   },
   "outputs": [
    {
     "data": {
      "text/plain": [
       "5"
      ]
     },
     "execution_count": 21,
     "metadata": {},
     "output_type": "execute_result"
    }
   ],
   "source": [
    "dot_product({'a': 1, 'b': 2, 'c': 3}, {'b': 4, 'c': -1, 'd': 'whatever'})"
   ]
  },
  {
   "cell_type": "code",
   "execution_count": 22,
   "metadata": {
    "ExecuteTime": {
     "end_time": "2021-08-01T14:48:13.816549Z",
     "start_time": "2021-08-01T14:48:13.788674Z"
    }
   },
   "outputs": [
    {
     "name": "stdout",
     "output_type": "stream",
     "text": [
      "dot_product(confusion_count, confusion_value)=-20, sum(confusion_count.values())=50\n"
     ]
    },
    {
     "data": {
      "text/plain": [
       "-0.4"
      ]
     },
     "execution_count": 22,
     "metadata": {},
     "output_type": "execute_result"
    }
   ],
   "source": [
    "# tp, fp, fn, tn shorthands for true positive, false positive, false nagative and true nagative\n",
    "confusion_count = {'tp': 30, 'fp': 10, 'fn': 2, 'tn': 8}\n",
    "confusion_value = {'tp': 0, 'fp': -1, 'fn': -5, 'tn': 0}\n",
    "\n",
    "print(f\"{dot_product(confusion_count, confusion_value)=}, {sum(confusion_count.values())=}\")\n",
    "classifier_score(confusion_count, confusion_value)"
   ]
  },
  {
   "cell_type": "markdown",
   "metadata": {},
   "source": [
    "See how accuracy can be expressed by setting values of true positive and negative to 1, and zero for all errors:"
   ]
  },
  {
   "cell_type": "code",
   "execution_count": 23,
   "metadata": {
    "ExecuteTime": {
     "end_time": "2021-08-01T14:48:14.683690Z",
     "start_time": "2021-08-01T14:48:14.659256Z"
    }
   },
   "outputs": [
    {
     "data": {
      "text/plain": [
       "0.76"
      ]
     },
     "execution_count": 23,
     "metadata": {},
     "output_type": "execute_result"
    }
   ],
   "source": [
    "confusion_value = {'tp': 1, 'fp': 0, 'fn': 0, 'tn': 1}  # this corresponds to the accuracy metric!\n",
    "classifier_score(confusion_count, confusion_value)"
   ]
  },
  {
   "cell_type": "markdown",
   "metadata": {},
   "source": [
    "## Making it more useful"
   ]
  },
  {
   "cell_type": "markdown",
   "metadata": {},
   "source": [
    "To make it more readily usable, we should offer ways to easily get a `confusion_count` dict from various common situations. \n",
    "\n",
    "For example, how do we get these `confusion_count`? Possibly from an array of predictions and corresponding truths.\n",
    "\n",
    "```\n",
    "truth, prediction -> confusion_count\n",
    "```\n",
    "\n",
    "These predictions might come from an array `predict_prob` of scores that were thresholded to become a binary value that we call our prediction.\n",
    "\n",
    "```\n",
    "predict_proba, threshold -> prediction\n",
    "```\n",
    "\n",
    "And those `predict_proba` scores themselves might come from a trained model who is fed `test_X` inputs, the `test_y` array being this `truth` \n",
    "that we're talking about. \n",
    "\n",
    "```\n",
    "model, test_X -> predict_proba\n",
    "test_y -> truth\n",
    "```"
   ]
  },
  {
   "cell_type": "markdown",
   "metadata": {},
   "source": [
    "Providing the user with a few util tools \n",
    "to get from where they are (e.g. they have a model and some test data) \n",
    "to where they want to get to (e.g. getting a classifier_score)\n",
    "is nice.\n",
    "\n",
    "Making it clear on how to use these functions to get from A to B is also nice.\n",
    "This can be done through documentation, examples, and (Uncle Bob style) through careful function and variable naming, as below."
   ]
  },
  {
   "cell_type": "code",
   "execution_count": 24,
   "metadata": {
    "ExecuteTime": {
     "end_time": "2021-08-01T14:48:17.534385Z",
     "start_time": "2021-08-01T14:48:17.510301Z"
    }
   },
   "outputs": [],
   "source": [
    "from collections import Counter\n",
    "import numpy as np\n",
    "\n",
    "\n",
    "def confusion_count(prediction, truth):\n",
    "    \"\"\"Get a dict containing the counts of all combinations of predicction and corresponding truth values.\n",
    "\n",
    "    >>> confusion_count(\n",
    "    ... [0, 0, 1, 0, 1, 1, 1], \n",
    "    ... [0, 0, 0, 1, 1, 1, 1]\n",
    "    ... )\n",
    "    Counter({(0, 0): 2, (1, 0): 1, (0, 1): 1, (1, 1): 3})\n",
    "    \"\"\"\n",
    "    return Counter(zip(prediction, truth))\n",
    "\n",
    "\n",
    "def prediction(predict_proba, threshold):\n",
    "    \"\"\"Get an array of predictions from thresholding the scores of predict_proba array.\n",
    "\n",
    "    >>> prediction([0.3, 0.4, 0.5, 0.6, 0.7, 0.8], threshold=0.5)\n",
    "    array([False, False,  True,  True,  True,  True])\n",
    "\n",
    "    \"\"\"\n",
    "    return np.array(predict_proba) >= threshold\n",
    "\n",
    "\n",
    "def predict_proba(model, test_X):\n",
    "    \"\"\"Get the prediction_proba scores of a model given some test data\"\"\"\n",
    "    return model.predict_proba(test_X)"
   ]
  },
  {
   "cell_type": "markdown",
   "metadata": {},
   "source": [
    "Conveniently, if we use names of functions and arguments as we did above, these can be used to indicate how they all relate to each other. \n",
    "\n",
    "That is to say, we need nothing further to make a DAG."
   ]
  },
  {
   "cell_type": "code",
   "execution_count": 25,
   "metadata": {
    "ExecuteTime": {
     "end_time": "2021-08-01T14:48:19.257135Z",
     "start_time": "2021-08-01T14:48:18.981835Z"
    }
   },
   "outputs": [
    {
     "data": {
      "image/svg+xml": [
       "<?xml version=\"1.0\" encoding=\"UTF-8\" standalone=\"no\"?>\n",
       "<!DOCTYPE svg PUBLIC \"-//W3C//DTD SVG 1.1//EN\"\n",
       " \"http://www.w3.org/Graphics/SVG/1.1/DTD/svg11.dtd\">\n",
       "<!-- Generated by graphviz version 2.48.0 (20210717.1556)\n",
       " -->\n",
       "<!-- Pages: 1 -->\n",
       "<svg width=\"345pt\" height=\"620pt\"\n",
       " viewBox=\"0.00 0.00 344.50 620.00\" xmlns=\"http://www.w3.org/2000/svg\" xmlns:xlink=\"http://www.w3.org/1999/xlink\">\n",
       "<g id=\"graph0\" class=\"graph\" transform=\"scale(1 1) rotate(0) translate(4 616)\">\n",
       "<polygon fill=\"white\" stroke=\"transparent\" points=\"-4,4 -4,-616 340.5,-616 340.5,4 -4,4\"/>\n",
       "<!-- predict_proba -->\n",
       "<g id=\"node1\" class=\"node\">\n",
       "<title>predict_proba</title>\n",
       "<text text-anchor=\"middle\" x=\"273.5\" y=\"-446.3\" font-family=\"Times,serif\" font-size=\"14.00\">predict_proba</text>\n",
       "</g>\n",
       "<!-- prediction_ -->\n",
       "<g id=\"node6\" class=\"node\">\n",
       "<title>prediction_</title>\n",
       "<polygon fill=\"none\" stroke=\"black\" points=\"263.5,-396 183.5,-396 183.5,-360 263.5,-360 263.5,-396\"/>\n",
       "<text text-anchor=\"middle\" x=\"223.5\" y=\"-374.3\" font-family=\"Times,serif\" font-size=\"14.00\">prediction_</text>\n",
       "</g>\n",
       "<!-- predict_proba&#45;&gt;prediction_ -->\n",
       "<g id=\"edge5\" class=\"edge\">\n",
       "<title>predict_proba&#45;&gt;prediction_</title>\n",
       "<path fill=\"none\" stroke=\"black\" d=\"M261.14,-431.7C255.27,-423.47 248.13,-413.48 241.66,-404.42\"/>\n",
       "<polygon fill=\"black\" stroke=\"black\" points=\"244.38,-402.21 235.72,-396.1 238.68,-406.28 244.38,-402.21\"/>\n",
       "</g>\n",
       "<!-- predict_proba_ -->\n",
       "<g id=\"node2\" class=\"node\">\n",
       "<title>predict_proba_</title>\n",
       "<polygon fill=\"none\" stroke=\"black\" points=\"324,-540 223,-540 223,-504 324,-504 324,-540\"/>\n",
       "<text text-anchor=\"middle\" x=\"273.5\" y=\"-518.3\" font-family=\"Times,serif\" font-size=\"14.00\">predict_proba_</text>\n",
       "</g>\n",
       "<!-- predict_proba_&#45;&gt;predict_proba -->\n",
       "<g id=\"edge1\" class=\"edge\">\n",
       "<title>predict_proba_&#45;&gt;predict_proba</title>\n",
       "<path fill=\"none\" stroke=\"black\" d=\"M273.5,-503.7C273.5,-495.98 273.5,-486.71 273.5,-478.11\"/>\n",
       "<polygon fill=\"black\" stroke=\"black\" points=\"277,-478.1 273.5,-468.1 270,-478.1 277,-478.1\"/>\n",
       "</g>\n",
       "<!-- model -->\n",
       "<g id=\"node3\" class=\"node\">\n",
       "<title>model</title>\n",
       "<text text-anchor=\"middle\" x=\"237.5\" y=\"-590.3\" font-family=\"Times,serif\" font-size=\"14.00\">model</text>\n",
       "</g>\n",
       "<!-- model&#45;&gt;predict_proba_ -->\n",
       "<g id=\"edge2\" class=\"edge\">\n",
       "<title>model&#45;&gt;predict_proba_</title>\n",
       "<path fill=\"none\" stroke=\"black\" d=\"M246.4,-575.7C250.5,-567.73 255.45,-558.1 259.99,-549.26\"/>\n",
       "<polygon fill=\"black\" stroke=\"black\" points=\"263.24,-550.6 264.7,-540.1 257.02,-547.4 263.24,-550.6\"/>\n",
       "</g>\n",
       "<!-- test_X -->\n",
       "<g id=\"node4\" class=\"node\">\n",
       "<title>test_X</title>\n",
       "<text text-anchor=\"middle\" x=\"309.5\" y=\"-590.3\" font-family=\"Times,serif\" font-size=\"14.00\">test_X</text>\n",
       "</g>\n",
       "<!-- test_X&#45;&gt;predict_proba_ -->\n",
       "<g id=\"edge3\" class=\"edge\">\n",
       "<title>test_X&#45;&gt;predict_proba_</title>\n",
       "<path fill=\"none\" stroke=\"black\" d=\"M300.6,-575.7C296.5,-567.73 291.55,-558.1 287.01,-549.26\"/>\n",
       "<polygon fill=\"black\" stroke=\"black\" points=\"289.98,-547.4 282.3,-540.1 283.76,-550.6 289.98,-547.4\"/>\n",
       "</g>\n",
       "<!-- prediction -->\n",
       "<g id=\"node5\" class=\"node\">\n",
       "<title>prediction</title>\n",
       "<text text-anchor=\"middle\" x=\"223.5\" y=\"-302.3\" font-family=\"Times,serif\" font-size=\"14.00\">prediction</text>\n",
       "</g>\n",
       "<!-- confusion_count_ -->\n",
       "<g id=\"node9\" class=\"node\">\n",
       "<title>confusion_count_</title>\n",
       "<polygon fill=\"none\" stroke=\"black\" points=\"241,-252 124,-252 124,-216 241,-216 241,-252\"/>\n",
       "<text text-anchor=\"middle\" x=\"182.5\" y=\"-230.3\" font-family=\"Times,serif\" font-size=\"14.00\">confusion_count_</text>\n",
       "</g>\n",
       "<!-- prediction&#45;&gt;confusion_count_ -->\n",
       "<g id=\"edge8\" class=\"edge\">\n",
       "<title>prediction&#45;&gt;confusion_count_</title>\n",
       "<path fill=\"none\" stroke=\"black\" d=\"M213.37,-287.7C208.65,-279.64 202.94,-269.89 197.72,-260.98\"/>\n",
       "<polygon fill=\"black\" stroke=\"black\" points=\"200.59,-258.96 192.52,-252.1 194.55,-262.5 200.59,-258.96\"/>\n",
       "</g>\n",
       "<!-- prediction_&#45;&gt;prediction -->\n",
       "<g id=\"edge4\" class=\"edge\">\n",
       "<title>prediction_&#45;&gt;prediction</title>\n",
       "<path fill=\"none\" stroke=\"black\" d=\"M223.5,-359.7C223.5,-351.98 223.5,-342.71 223.5,-334.11\"/>\n",
       "<polygon fill=\"black\" stroke=\"black\" points=\"227,-334.1 223.5,-324.1 220,-334.1 227,-334.1\"/>\n",
       "</g>\n",
       "<!-- threshold -->\n",
       "<g id=\"node7\" class=\"node\">\n",
       "<title>threshold</title>\n",
       "<text text-anchor=\"middle\" x=\"173.5\" y=\"-446.3\" font-family=\"Times,serif\" font-size=\"14.00\">threshold</text>\n",
       "</g>\n",
       "<!-- threshold&#45;&gt;prediction_ -->\n",
       "<g id=\"edge6\" class=\"edge\">\n",
       "<title>threshold&#45;&gt;prediction_</title>\n",
       "<path fill=\"none\" stroke=\"black\" d=\"M185.86,-431.7C191.73,-423.47 198.87,-413.48 205.34,-404.42\"/>\n",
       "<polygon fill=\"black\" stroke=\"black\" points=\"208.32,-406.28 211.28,-396.1 202.62,-402.21 208.32,-406.28\"/>\n",
       "</g>\n",
       "<!-- confusion_count -->\n",
       "<g id=\"node8\" class=\"node\">\n",
       "<title>confusion_count</title>\n",
       "<text text-anchor=\"middle\" x=\"182.5\" y=\"-158.3\" font-family=\"Times,serif\" font-size=\"14.00\">confusion_count</text>\n",
       "</g>\n",
       "<!-- classifier_score_ -->\n",
       "<g id=\"node12\" class=\"node\">\n",
       "<title>classifier_score_</title>\n",
       "<polygon fill=\"none\" stroke=\"black\" points=\"173.5,-108 63.5,-108 63.5,-72 173.5,-72 173.5,-108\"/>\n",
       "<text text-anchor=\"middle\" x=\"118.5\" y=\"-86.3\" font-family=\"Times,serif\" font-size=\"14.00\">classifier_score_</text>\n",
       "</g>\n",
       "<!-- confusion_count&#45;&gt;classifier_score_ -->\n",
       "<g id=\"edge11\" class=\"edge\">\n",
       "<title>confusion_count&#45;&gt;classifier_score_</title>\n",
       "<path fill=\"none\" stroke=\"black\" d=\"M166.68,-143.7C158.93,-135.22 149.46,-124.86 140.98,-115.58\"/>\n",
       "<polygon fill=\"black\" stroke=\"black\" points=\"143.47,-113.12 134.14,-108.1 138.3,-117.85 143.47,-113.12\"/>\n",
       "</g>\n",
       "<!-- confusion_count_&#45;&gt;confusion_count -->\n",
       "<g id=\"edge7\" class=\"edge\">\n",
       "<title>confusion_count_&#45;&gt;confusion_count</title>\n",
       "<path fill=\"none\" stroke=\"black\" d=\"M182.5,-215.7C182.5,-207.98 182.5,-198.71 182.5,-190.11\"/>\n",
       "<polygon fill=\"black\" stroke=\"black\" points=\"186,-190.1 182.5,-180.1 179,-190.1 186,-190.1\"/>\n",
       "</g>\n",
       "<!-- truth -->\n",
       "<g id=\"node10\" class=\"node\">\n",
       "<title>truth</title>\n",
       "<text text-anchor=\"middle\" x=\"141.5\" y=\"-302.3\" font-family=\"Times,serif\" font-size=\"14.00\">truth</text>\n",
       "</g>\n",
       "<!-- truth&#45;&gt;confusion_count_ -->\n",
       "<g id=\"edge9\" class=\"edge\">\n",
       "<title>truth&#45;&gt;confusion_count_</title>\n",
       "<path fill=\"none\" stroke=\"black\" d=\"M151.63,-287.7C156.35,-279.64 162.06,-269.89 167.28,-260.98\"/>\n",
       "<polygon fill=\"black\" stroke=\"black\" points=\"170.45,-262.5 172.48,-252.1 164.41,-258.96 170.45,-262.5\"/>\n",
       "</g>\n",
       "<!-- classifier_score -->\n",
       "<g id=\"node11\" class=\"node\">\n",
       "<title>classifier_score</title>\n",
       "<text text-anchor=\"middle\" x=\"118.5\" y=\"-14.3\" font-family=\"Times,serif\" font-size=\"14.00\">classifier_score</text>\n",
       "</g>\n",
       "<!-- classifier_score_&#45;&gt;classifier_score -->\n",
       "<g id=\"edge10\" class=\"edge\">\n",
       "<title>classifier_score_&#45;&gt;classifier_score</title>\n",
       "<path fill=\"none\" stroke=\"black\" d=\"M118.5,-71.7C118.5,-63.98 118.5,-54.71 118.5,-46.11\"/>\n",
       "<polygon fill=\"black\" stroke=\"black\" points=\"122,-46.1 118.5,-36.1 115,-46.1 122,-46.1\"/>\n",
       "</g>\n",
       "<!-- confusion_value -->\n",
       "<g id=\"node13\" class=\"node\">\n",
       "<title>confusion_value</title>\n",
       "<text text-anchor=\"middle\" x=\"54.5\" y=\"-158.3\" font-family=\"Times,serif\" font-size=\"14.00\">confusion_value</text>\n",
       "</g>\n",
       "<!-- confusion_value&#45;&gt;classifier_score_ -->\n",
       "<g id=\"edge12\" class=\"edge\">\n",
       "<title>confusion_value&#45;&gt;classifier_score_</title>\n",
       "<path fill=\"none\" stroke=\"black\" d=\"M70.32,-143.7C78.07,-135.22 87.54,-124.86 96.02,-115.58\"/>\n",
       "<polygon fill=\"black\" stroke=\"black\" points=\"98.7,-117.85 102.86,-108.1 93.53,-113.12 98.7,-117.85\"/>\n",
       "</g>\n",
       "</g>\n",
       "</svg>\n"
      ],
      "text/plain": [
       "<graphviz.dot.Digraph at 0x11c1dd070>"
      ]
     },
     "execution_count": 25,
     "metadata": {},
     "output_type": "execute_result"
    }
   ],
   "source": [
    "from meshed import DAG\n",
    "\n",
    "dag = DAG([classifier_score, confusion_count, prediction, predict_proba])\n",
    "dag.dot_digraph()"
   ]
  },
  {
   "cell_type": "markdown",
   "metadata": {},
   "source": [
    "## Making the DAG bigger"
   ]
  },
  {
   "cell_type": "markdown",
   "metadata": {},
   "source": [
    "And how did we get those top inputs (`model`, `test_X` and `test_y`)? \n",
    "\n",
    "Well, we trained a learner on some `train_X` and `train_y` that we get by splitting some `(X, y)` arrays..."
   ]
  },
  {
   "cell_type": "code",
   "execution_count": 26,
   "metadata": {
    "ExecuteTime": {
     "end_time": "2021-08-01T14:48:25.089841Z",
     "start_time": "2021-08-01T14:48:21.346831Z"
    }
   },
   "outputs": [
    {
     "data": {
      "image/svg+xml": [
       "<?xml version=\"1.0\" encoding=\"UTF-8\" standalone=\"no\"?>\n",
       "<!DOCTYPE svg PUBLIC \"-//W3C//DTD SVG 1.1//EN\"\n",
       " \"http://www.w3.org/Graphics/SVG/1.1/DTD/svg11.dtd\">\n",
       "<!-- Generated by graphviz version 2.48.0 (20210717.1556)\n",
       " -->\n",
       "<!-- Pages: 1 -->\n",
       "<svg width=\"282pt\" height=\"908pt\"\n",
       " viewBox=\"0.00 0.00 281.50 908.00\" xmlns=\"http://www.w3.org/2000/svg\" xmlns:xlink=\"http://www.w3.org/1999/xlink\">\n",
       "<g id=\"graph0\" class=\"graph\" transform=\"scale(1 1) rotate(0) translate(4 904)\">\n",
       "<polygon fill=\"white\" stroke=\"transparent\" points=\"-4,4 -4,-904 277.5,-904 277.5,4 -4,4\"/>\n",
       "<!-- train_test_split -->\n",
       "<g id=\"node1\" class=\"node\">\n",
       "<title>train_test_split</title>\n",
       "<text text-anchor=\"middle\" x=\"195.5\" y=\"-734.3\" font-family=\"Times,serif\" font-size=\"14.00\">train_test_split</text>\n",
       "</g>\n",
       "<!-- test_y_ -->\n",
       "<g id=\"node6\" class=\"node\">\n",
       "<title>test_y_</title>\n",
       "<polygon fill=\"none\" stroke=\"black\" points=\"263,-684 206,-684 206,-648 263,-648 263,-684\"/>\n",
       "<text text-anchor=\"middle\" x=\"234.5\" y=\"-662.3\" font-family=\"Times,serif\" font-size=\"14.00\">test_y_</text>\n",
       "</g>\n",
       "<!-- train_test_split&#45;&gt;test_y_ -->\n",
       "<g id=\"edge5\" class=\"edge\">\n",
       "<title>train_test_split&#45;&gt;test_y_</title>\n",
       "<path fill=\"none\" stroke=\"black\" d=\"M205.14,-719.7C209.63,-711.64 215.06,-701.89 220.02,-692.98\"/>\n",
       "<polygon fill=\"black\" stroke=\"black\" points=\"223.16,-694.54 224.97,-684.1 217.05,-691.14 223.16,-694.54\"/>\n",
       "</g>\n",
       "<!-- test_X_ -->\n",
       "<g id=\"node10\" class=\"node\">\n",
       "<title>test_X_</title>\n",
       "<polygon fill=\"none\" stroke=\"black\" points=\"187.5,-684 127.5,-684 127.5,-648 187.5,-648 187.5,-684\"/>\n",
       "<text text-anchor=\"middle\" x=\"157.5\" y=\"-662.3\" font-family=\"Times,serif\" font-size=\"14.00\">test_X_</text>\n",
       "</g>\n",
       "<!-- train_test_split&#45;&gt;test_X_ -->\n",
       "<g id=\"edge9\" class=\"edge\">\n",
       "<title>train_test_split&#45;&gt;test_X_</title>\n",
       "<path fill=\"none\" stroke=\"black\" d=\"M186.11,-719.7C181.74,-711.64 176.44,-701.89 171.6,-692.98\"/>\n",
       "<polygon fill=\"black\" stroke=\"black\" points=\"174.63,-691.22 166.79,-684.1 168.48,-694.56 174.63,-691.22\"/>\n",
       "</g>\n",
       "<!-- train_test_split_ -->\n",
       "<g id=\"node2\" class=\"node\">\n",
       "<title>train_test_split_</title>\n",
       "<polygon fill=\"none\" stroke=\"black\" points=\"249,-828 142,-828 142,-792 249,-792 249,-828\"/>\n",
       "<text text-anchor=\"middle\" x=\"195.5\" y=\"-806.3\" font-family=\"Times,serif\" font-size=\"14.00\">train_test_split_</text>\n",
       "</g>\n",
       "<!-- train_test_split_&#45;&gt;train_test_split -->\n",
       "<g id=\"edge1\" class=\"edge\">\n",
       "<title>train_test_split_&#45;&gt;train_test_split</title>\n",
       "<path fill=\"none\" stroke=\"black\" d=\"M195.5,-791.7C195.5,-783.98 195.5,-774.71 195.5,-766.11\"/>\n",
       "<polygon fill=\"black\" stroke=\"black\" points=\"199,-766.1 195.5,-756.1 192,-766.1 199,-766.1\"/>\n",
       "</g>\n",
       "<!-- arrays -->\n",
       "<g id=\"node3\" class=\"node\">\n",
       "<title>arrays</title>\n",
       "<text text-anchor=\"middle\" x=\"154.5\" y=\"-878.3\" font-family=\"Times,serif\" font-size=\"14.00\">*arrays</text>\n",
       "</g>\n",
       "<!-- arrays&#45;&gt;train_test_split_ -->\n",
       "<g id=\"edge2\" class=\"edge\">\n",
       "<title>arrays&#45;&gt;train_test_split_</title>\n",
       "<path fill=\"none\" stroke=\"black\" d=\"M164.63,-863.7C169.35,-855.64 175.06,-845.89 180.28,-836.98\"/>\n",
       "<polygon fill=\"black\" stroke=\"black\" points=\"183.45,-838.5 185.48,-828.1 177.41,-834.96 183.45,-838.5\"/>\n",
       "</g>\n",
       "<!-- options -->\n",
       "<g id=\"node4\" class=\"node\">\n",
       "<title>options</title>\n",
       "<text text-anchor=\"middle\" x=\"237.5\" y=\"-878.3\" font-family=\"Times,serif\" font-size=\"14.00\">**options</text>\n",
       "</g>\n",
       "<!-- options&#45;&gt;train_test_split_ -->\n",
       "<g id=\"edge3\" class=\"edge\">\n",
       "<title>options&#45;&gt;train_test_split_</title>\n",
       "<path fill=\"none\" stroke=\"black\" d=\"M227.12,-863.7C222.24,-855.56 216.31,-845.69 210.92,-836.7\"/>\n",
       "<polygon fill=\"black\" stroke=\"black\" points=\"213.91,-834.88 205.76,-828.1 207.91,-838.48 213.91,-834.88\"/>\n",
       "</g>\n",
       "<!-- test_y -->\n",
       "<g id=\"node5\" class=\"node\">\n",
       "<title>test_y</title>\n",
       "<text text-anchor=\"middle\" x=\"234.5\" y=\"-590.3\" font-family=\"Times,serif\" font-size=\"14.00\">test_y</text>\n",
       "</g>\n",
       "<!-- truth_ -->\n",
       "<g id=\"node8\" class=\"node\">\n",
       "<title>truth_</title>\n",
       "<polygon fill=\"none\" stroke=\"black\" points=\"261.5,-540 207.5,-540 207.5,-504 261.5,-504 261.5,-540\"/>\n",
       "<text text-anchor=\"middle\" x=\"234.5\" y=\"-518.3\" font-family=\"Times,serif\" font-size=\"14.00\">truth_</text>\n",
       "</g>\n",
       "<!-- test_y&#45;&gt;truth_ -->\n",
       "<g id=\"edge7\" class=\"edge\">\n",
       "<title>test_y&#45;&gt;truth_</title>\n",
       "<path fill=\"none\" stroke=\"black\" d=\"M234.5,-575.7C234.5,-567.98 234.5,-558.71 234.5,-550.11\"/>\n",
       "<polygon fill=\"black\" stroke=\"black\" points=\"238,-550.1 234.5,-540.1 231,-550.1 238,-550.1\"/>\n",
       "</g>\n",
       "<!-- test_y_&#45;&gt;test_y -->\n",
       "<g id=\"edge4\" class=\"edge\">\n",
       "<title>test_y_&#45;&gt;test_y</title>\n",
       "<path fill=\"none\" stroke=\"black\" d=\"M234.5,-647.7C234.5,-639.98 234.5,-630.71 234.5,-622.11\"/>\n",
       "<polygon fill=\"black\" stroke=\"black\" points=\"238,-622.1 234.5,-612.1 231,-622.1 238,-622.1\"/>\n",
       "</g>\n",
       "<!-- truth -->\n",
       "<g id=\"node7\" class=\"node\">\n",
       "<title>truth</title>\n",
       "<text text-anchor=\"middle\" x=\"228.5\" y=\"-374.3\" font-family=\"Times,serif\" font-size=\"14.00\">truth</text>\n",
       "</g>\n",
       "<!-- confusion_count_ -->\n",
       "<g id=\"node18\" class=\"node\">\n",
       "<title>confusion_count_</title>\n",
       "<polygon fill=\"none\" stroke=\"black\" points=\"241,-252 124,-252 124,-216 241,-216 241,-252\"/>\n",
       "<text text-anchor=\"middle\" x=\"182.5\" y=\"-230.3\" font-family=\"Times,serif\" font-size=\"14.00\">confusion_count_</text>\n",
       "</g>\n",
       "<!-- truth&#45;&gt;confusion_count_ -->\n",
       "<g id=\"edge18\" class=\"edge\">\n",
       "<title>truth&#45;&gt;confusion_count_</title>\n",
       "<path fill=\"none\" stroke=\"black\" d=\"M222.95,-359.87C215.08,-335.56 200.58,-290.82 191.25,-262.01\"/>\n",
       "<polygon fill=\"black\" stroke=\"black\" points=\"194.48,-260.62 188.07,-252.19 187.82,-262.78 194.48,-260.62\"/>\n",
       "</g>\n",
       "<!-- truth_&#45;&gt;truth -->\n",
       "<g id=\"edge6\" class=\"edge\">\n",
       "<title>truth_&#45;&gt;truth</title>\n",
       "<path fill=\"none\" stroke=\"black\" d=\"M233.78,-503.87C232.75,-479.67 230.88,-435.21 229.66,-406.39\"/>\n",
       "<polygon fill=\"black\" stroke=\"black\" points=\"233.15,-406.03 229.23,-396.19 226.15,-406.33 233.15,-406.03\"/>\n",
       "</g>\n",
       "<!-- test_X -->\n",
       "<g id=\"node9\" class=\"node\">\n",
       "<title>test_X</title>\n",
       "<text text-anchor=\"middle\" x=\"157.5\" y=\"-590.3\" font-family=\"Times,serif\" font-size=\"14.00\">test_X</text>\n",
       "</g>\n",
       "<!-- predict_proba_ -->\n",
       "<g id=\"node12\" class=\"node\">\n",
       "<title>predict_proba_</title>\n",
       "<polygon fill=\"none\" stroke=\"black\" points=\"189,-540 88,-540 88,-504 189,-504 189,-540\"/>\n",
       "<text text-anchor=\"middle\" x=\"138.5\" y=\"-518.3\" font-family=\"Times,serif\" font-size=\"14.00\">predict_proba_</text>\n",
       "</g>\n",
       "<!-- test_X&#45;&gt;predict_proba_ -->\n",
       "<g id=\"edge12\" class=\"edge\">\n",
       "<title>test_X&#45;&gt;predict_proba_</title>\n",
       "<path fill=\"none\" stroke=\"black\" d=\"M152.8,-575.7C150.69,-567.9 148.14,-558.51 145.78,-549.83\"/>\n",
       "<polygon fill=\"black\" stroke=\"black\" points=\"149.14,-548.84 143.14,-540.1 142.38,-550.67 149.14,-548.84\"/>\n",
       "</g>\n",
       "<!-- test_X_&#45;&gt;test_X -->\n",
       "<g id=\"edge8\" class=\"edge\">\n",
       "<title>test_X_&#45;&gt;test_X</title>\n",
       "<path fill=\"none\" stroke=\"black\" d=\"M157.5,-647.7C157.5,-639.98 157.5,-630.71 157.5,-622.11\"/>\n",
       "<polygon fill=\"black\" stroke=\"black\" points=\"161,-622.1 157.5,-612.1 154,-622.1 161,-622.1\"/>\n",
       "</g>\n",
       "<!-- predict_proba -->\n",
       "<g id=\"node11\" class=\"node\">\n",
       "<title>predict_proba</title>\n",
       "<text text-anchor=\"middle\" x=\"140.5\" y=\"-446.3\" font-family=\"Times,serif\" font-size=\"14.00\">predict_proba</text>\n",
       "</g>\n",
       "<!-- prediction_ -->\n",
       "<g id=\"node15\" class=\"node\">\n",
       "<title>prediction_</title>\n",
       "<polygon fill=\"none\" stroke=\"black\" points=\"180.5,-396 100.5,-396 100.5,-360 180.5,-360 180.5,-396\"/>\n",
       "<text text-anchor=\"middle\" x=\"140.5\" y=\"-374.3\" font-family=\"Times,serif\" font-size=\"14.00\">prediction_</text>\n",
       "</g>\n",
       "<!-- predict_proba&#45;&gt;prediction_ -->\n",
       "<g id=\"edge14\" class=\"edge\">\n",
       "<title>predict_proba&#45;&gt;prediction_</title>\n",
       "<path fill=\"none\" stroke=\"black\" d=\"M140.5,-431.7C140.5,-423.98 140.5,-414.71 140.5,-406.11\"/>\n",
       "<polygon fill=\"black\" stroke=\"black\" points=\"144,-406.1 140.5,-396.1 137,-406.1 144,-406.1\"/>\n",
       "</g>\n",
       "<!-- predict_proba_&#45;&gt;predict_proba -->\n",
       "<g id=\"edge10\" class=\"edge\">\n",
       "<title>predict_proba_&#45;&gt;predict_proba</title>\n",
       "<path fill=\"none\" stroke=\"black\" d=\"M138.99,-503.7C139.21,-495.98 139.48,-486.71 139.73,-478.11\"/>\n",
       "<polygon fill=\"black\" stroke=\"black\" points=\"143.22,-478.2 140.01,-468.1 136.23,-478 143.22,-478.2\"/>\n",
       "</g>\n",
       "<!-- model -->\n",
       "<g id=\"node13\" class=\"node\">\n",
       "<title>model</title>\n",
       "<text text-anchor=\"middle\" x=\"85.5\" y=\"-590.3\" font-family=\"Times,serif\" font-size=\"14.00\">model</text>\n",
       "</g>\n",
       "<!-- model&#45;&gt;predict_proba_ -->\n",
       "<g id=\"edge11\" class=\"edge\">\n",
       "<title>model&#45;&gt;predict_proba_</title>\n",
       "<path fill=\"none\" stroke=\"black\" d=\"M98.6,-575.7C104.89,-567.39 112.55,-557.28 119.46,-548.14\"/>\n",
       "<polygon fill=\"black\" stroke=\"black\" points=\"122.3,-550.19 125.55,-540.1 116.72,-545.96 122.3,-550.19\"/>\n",
       "</g>\n",
       "<!-- prediction -->\n",
       "<g id=\"node14\" class=\"node\">\n",
       "<title>prediction</title>\n",
       "<text text-anchor=\"middle\" x=\"150.5\" y=\"-302.3\" font-family=\"Times,serif\" font-size=\"14.00\">prediction</text>\n",
       "</g>\n",
       "<!-- prediction&#45;&gt;confusion_count_ -->\n",
       "<g id=\"edge17\" class=\"edge\">\n",
       "<title>prediction&#45;&gt;confusion_count_</title>\n",
       "<path fill=\"none\" stroke=\"black\" d=\"M158.41,-287.7C162.05,-279.73 166.45,-270.1 170.49,-261.26\"/>\n",
       "<polygon fill=\"black\" stroke=\"black\" points=\"173.71,-262.65 174.68,-252.1 167.34,-259.74 173.71,-262.65\"/>\n",
       "</g>\n",
       "<!-- prediction_&#45;&gt;prediction -->\n",
       "<g id=\"edge13\" class=\"edge\">\n",
       "<title>prediction_&#45;&gt;prediction</title>\n",
       "<path fill=\"none\" stroke=\"black\" d=\"M142.97,-359.7C144.07,-351.98 145.4,-342.71 146.63,-334.11\"/>\n",
       "<polygon fill=\"black\" stroke=\"black\" points=\"150.11,-334.5 148.06,-324.1 143.18,-333.51 150.11,-334.5\"/>\n",
       "</g>\n",
       "<!-- threshold -->\n",
       "<g id=\"node16\" class=\"node\">\n",
       "<title>threshold</title>\n",
       "<text text-anchor=\"middle\" x=\"40.5\" y=\"-446.3\" font-family=\"Times,serif\" font-size=\"14.00\">threshold</text>\n",
       "</g>\n",
       "<!-- threshold&#45;&gt;prediction_ -->\n",
       "<g id=\"edge15\" class=\"edge\">\n",
       "<title>threshold&#45;&gt;prediction_</title>\n",
       "<path fill=\"none\" stroke=\"black\" d=\"M64.96,-431.88C77.8,-422.89 93.7,-411.76 107.59,-402.03\"/>\n",
       "<polygon fill=\"black\" stroke=\"black\" points=\"109.76,-404.79 115.94,-396.19 105.74,-399.06 109.76,-404.79\"/>\n",
       "</g>\n",
       "<!-- confusion_count -->\n",
       "<g id=\"node17\" class=\"node\">\n",
       "<title>confusion_count</title>\n",
       "<text text-anchor=\"middle\" x=\"182.5\" y=\"-158.3\" font-family=\"Times,serif\" font-size=\"14.00\">confusion_count</text>\n",
       "</g>\n",
       "<!-- classifier_score_ -->\n",
       "<g id=\"node20\" class=\"node\">\n",
       "<title>classifier_score_</title>\n",
       "<polygon fill=\"none\" stroke=\"black\" points=\"173.5,-108 63.5,-108 63.5,-72 173.5,-72 173.5,-108\"/>\n",
       "<text text-anchor=\"middle\" x=\"118.5\" y=\"-86.3\" font-family=\"Times,serif\" font-size=\"14.00\">classifier_score_</text>\n",
       "</g>\n",
       "<!-- confusion_count&#45;&gt;classifier_score_ -->\n",
       "<g id=\"edge20\" class=\"edge\">\n",
       "<title>confusion_count&#45;&gt;classifier_score_</title>\n",
       "<path fill=\"none\" stroke=\"black\" d=\"M166.68,-143.7C158.93,-135.22 149.46,-124.86 140.98,-115.58\"/>\n",
       "<polygon fill=\"black\" stroke=\"black\" points=\"143.47,-113.12 134.14,-108.1 138.3,-117.85 143.47,-113.12\"/>\n",
       "</g>\n",
       "<!-- confusion_count_&#45;&gt;confusion_count -->\n",
       "<g id=\"edge16\" class=\"edge\">\n",
       "<title>confusion_count_&#45;&gt;confusion_count</title>\n",
       "<path fill=\"none\" stroke=\"black\" d=\"M182.5,-215.7C182.5,-207.98 182.5,-198.71 182.5,-190.11\"/>\n",
       "<polygon fill=\"black\" stroke=\"black\" points=\"186,-190.1 182.5,-180.1 179,-190.1 186,-190.1\"/>\n",
       "</g>\n",
       "<!-- classifier_score -->\n",
       "<g id=\"node19\" class=\"node\">\n",
       "<title>classifier_score</title>\n",
       "<text text-anchor=\"middle\" x=\"118.5\" y=\"-14.3\" font-family=\"Times,serif\" font-size=\"14.00\">classifier_score</text>\n",
       "</g>\n",
       "<!-- classifier_score_&#45;&gt;classifier_score -->\n",
       "<g id=\"edge19\" class=\"edge\">\n",
       "<title>classifier_score_&#45;&gt;classifier_score</title>\n",
       "<path fill=\"none\" stroke=\"black\" d=\"M118.5,-71.7C118.5,-63.98 118.5,-54.71 118.5,-46.11\"/>\n",
       "<polygon fill=\"black\" stroke=\"black\" points=\"122,-46.1 118.5,-36.1 115,-46.1 122,-46.1\"/>\n",
       "</g>\n",
       "<!-- confusion_value -->\n",
       "<g id=\"node21\" class=\"node\">\n",
       "<title>confusion_value</title>\n",
       "<text text-anchor=\"middle\" x=\"54.5\" y=\"-158.3\" font-family=\"Times,serif\" font-size=\"14.00\">confusion_value</text>\n",
       "</g>\n",
       "<!-- confusion_value&#45;&gt;classifier_score_ -->\n",
       "<g id=\"edge21\" class=\"edge\">\n",
       "<title>confusion_value&#45;&gt;classifier_score_</title>\n",
       "<path fill=\"none\" stroke=\"black\" d=\"M70.32,-143.7C78.07,-135.22 87.54,-124.86 96.02,-115.58\"/>\n",
       "<polygon fill=\"black\" stroke=\"black\" points=\"98.7,-117.85 102.86,-108.1 93.53,-113.12 98.7,-117.85\"/>\n",
       "</g>\n",
       "</g>\n",
       "</svg>\n"
      ],
      "text/plain": [
       "<graphviz.dot.Digraph at 0x11c203220>"
      ]
     },
     "execution_count": 26,
     "metadata": {},
     "output_type": "execute_result"
    }
   ],
   "source": [
    "from sklearn.model_selection import train_test_split\n",
    "from meshed import FuncNode\n",
    "# from operator import itemgetter\n",
    "\n",
    "# train_X, test_X, train_y, test_y = train_test_split(...)\n",
    "\n",
    "def test_X(train_test_split):\n",
    "    return train_test_split[1]\n",
    "\n",
    "def test_y(train_test_split):\n",
    "    return train_test_split[3]\n",
    "\n",
    "def truth(test_y):  # to link up truth and test_y\n",
    "    return test_y\n",
    "\n",
    "# Note how we extend the existing dag by adding a few functions:\n",
    "bigger_dag = DAG([*dag,  train_test_split, test_X, test_y, truth])\n",
    "bigger_dag.dot_digraph()"
   ]
  },
  {
   "cell_type": "markdown",
   "metadata": {},
   "source": [
    "## Getting a sub-dag"
   ]
  },
  {
   "cell_type": "markdown",
   "metadata": {},
   "source": [
    "The current `bigger_dag` will get you `classifier_score` from input `model`, `threshold`, `confusion_value`, `arrays` and (optional) `options`. \n",
    "\n",
    "But what if you just wanted the `confusion_count`, and you already had the `predict_proba` and `truth` arrays?\n",
    "\n",
    "Well, you can ask for `bigger_dag` to give you a sub-dag of your choice. We chose to use brackets `[...]` as the interface to get sub-dags, \n",
    "reminiscent of getting a sub-array of a numpy array or a sub-dataframe from a pandas dataframe. "
   ]
  },
  {
   "cell_type": "code",
   "execution_count": 27,
   "metadata": {
    "ExecuteTime": {
     "end_time": "2021-08-01T14:48:30.606277Z",
     "start_time": "2021-08-01T14:48:30.317384Z"
    }
   },
   "outputs": [
    {
     "data": {
      "image/svg+xml": [
       "<?xml version=\"1.0\" encoding=\"UTF-8\" standalone=\"no\"?>\n",
       "<!DOCTYPE svg PUBLIC \"-//W3C//DTD SVG 1.1//EN\"\n",
       " \"http://www.w3.org/Graphics/SVG/1.1/DTD/svg11.dtd\">\n",
       "<!-- Generated by graphviz version 2.48.0 (20210717.1556)\n",
       " -->\n",
       "<!-- Pages: 1 -->\n",
       "<svg width=\"202pt\" height=\"332pt\"\n",
       " viewBox=\"0.00 0.00 201.50 332.00\" xmlns=\"http://www.w3.org/2000/svg\" xmlns:xlink=\"http://www.w3.org/1999/xlink\">\n",
       "<g id=\"graph0\" class=\"graph\" transform=\"scale(1 1) rotate(0) translate(4 328)\">\n",
       "<polygon fill=\"white\" stroke=\"transparent\" points=\"-4,4 -4,-328 197.5,-328 197.5,4 -4,4\"/>\n",
       "<!-- prediction -->\n",
       "<g id=\"node1\" class=\"node\">\n",
       "<title>prediction</title>\n",
       "<text text-anchor=\"middle\" x=\"109\" y=\"-158.3\" font-family=\"Times,serif\" font-size=\"14.00\">prediction</text>\n",
       "</g>\n",
       "<!-- confusion_count_ -->\n",
       "<g id=\"node6\" class=\"node\">\n",
       "<title>confusion_count_</title>\n",
       "<polygon fill=\"none\" stroke=\"black\" points=\"126.5,-108 9.5,-108 9.5,-72 126.5,-72 126.5,-108\"/>\n",
       "<text text-anchor=\"middle\" x=\"68\" y=\"-86.3\" font-family=\"Times,serif\" font-size=\"14.00\">confusion_count_</text>\n",
       "</g>\n",
       "<!-- prediction&#45;&gt;confusion_count_ -->\n",
       "<g id=\"edge5\" class=\"edge\">\n",
       "<title>prediction&#45;&gt;confusion_count_</title>\n",
       "<path fill=\"none\" stroke=\"black\" d=\"M98.87,-143.7C94.15,-135.64 88.44,-125.89 83.22,-116.98\"/>\n",
       "<polygon fill=\"black\" stroke=\"black\" points=\"86.09,-114.96 78.02,-108.1 80.05,-118.5 86.09,-114.96\"/>\n",
       "</g>\n",
       "<!-- prediction_ -->\n",
       "<g id=\"node2\" class=\"node\">\n",
       "<title>prediction_</title>\n",
       "<polygon fill=\"none\" stroke=\"black\" points=\"149,-252 69,-252 69,-216 149,-216 149,-252\"/>\n",
       "<text text-anchor=\"middle\" x=\"109\" y=\"-230.3\" font-family=\"Times,serif\" font-size=\"14.00\">prediction_</text>\n",
       "</g>\n",
       "<!-- prediction_&#45;&gt;prediction -->\n",
       "<g id=\"edge1\" class=\"edge\">\n",
       "<title>prediction_&#45;&gt;prediction</title>\n",
       "<path fill=\"none\" stroke=\"black\" d=\"M109,-215.7C109,-207.98 109,-198.71 109,-190.11\"/>\n",
       "<polygon fill=\"black\" stroke=\"black\" points=\"112.5,-190.1 109,-180.1 105.5,-190.1 112.5,-190.1\"/>\n",
       "</g>\n",
       "<!-- predict_proba -->\n",
       "<g id=\"node3\" class=\"node\">\n",
       "<title>predict_proba</title>\n",
       "<text text-anchor=\"middle\" x=\"59\" y=\"-302.3\" font-family=\"Times,serif\" font-size=\"14.00\">predict_proba</text>\n",
       "</g>\n",
       "<!-- predict_proba&#45;&gt;prediction_ -->\n",
       "<g id=\"edge2\" class=\"edge\">\n",
       "<title>predict_proba&#45;&gt;prediction_</title>\n",
       "<path fill=\"none\" stroke=\"black\" d=\"M71.36,-287.7C77.23,-279.47 84.37,-269.48 90.84,-260.42\"/>\n",
       "<polygon fill=\"black\" stroke=\"black\" points=\"93.82,-262.28 96.78,-252.1 88.12,-258.21 93.82,-262.28\"/>\n",
       "</g>\n",
       "<!-- threshold -->\n",
       "<g id=\"node4\" class=\"node\">\n",
       "<title>threshold</title>\n",
       "<text text-anchor=\"middle\" x=\"159\" y=\"-302.3\" font-family=\"Times,serif\" font-size=\"14.00\">threshold</text>\n",
       "</g>\n",
       "<!-- threshold&#45;&gt;prediction_ -->\n",
       "<g id=\"edge3\" class=\"edge\">\n",
       "<title>threshold&#45;&gt;prediction_</title>\n",
       "<path fill=\"none\" stroke=\"black\" d=\"M146.64,-287.7C140.77,-279.47 133.63,-269.48 127.16,-260.42\"/>\n",
       "<polygon fill=\"black\" stroke=\"black\" points=\"129.88,-258.21 121.22,-252.1 124.18,-262.28 129.88,-258.21\"/>\n",
       "</g>\n",
       "<!-- confusion_count -->\n",
       "<g id=\"node5\" class=\"node\">\n",
       "<title>confusion_count</title>\n",
       "<text text-anchor=\"middle\" x=\"68\" y=\"-14.3\" font-family=\"Times,serif\" font-size=\"14.00\">confusion_count</text>\n",
       "</g>\n",
       "<!-- confusion_count_&#45;&gt;confusion_count -->\n",
       "<g id=\"edge4\" class=\"edge\">\n",
       "<title>confusion_count_&#45;&gt;confusion_count</title>\n",
       "<path fill=\"none\" stroke=\"black\" d=\"M68,-71.7C68,-63.98 68,-54.71 68,-46.11\"/>\n",
       "<polygon fill=\"black\" stroke=\"black\" points=\"71.5,-46.1 68,-36.1 64.5,-46.1 71.5,-46.1\"/>\n",
       "</g>\n",
       "<!-- truth -->\n",
       "<g id=\"node7\" class=\"node\">\n",
       "<title>truth</title>\n",
       "<text text-anchor=\"middle\" x=\"27\" y=\"-158.3\" font-family=\"Times,serif\" font-size=\"14.00\">truth</text>\n",
       "</g>\n",
       "<!-- truth&#45;&gt;confusion_count_ -->\n",
       "<g id=\"edge6\" class=\"edge\">\n",
       "<title>truth&#45;&gt;confusion_count_</title>\n",
       "<path fill=\"none\" stroke=\"black\" d=\"M37.13,-143.7C41.85,-135.64 47.56,-125.89 52.78,-116.98\"/>\n",
       "<polygon fill=\"black\" stroke=\"black\" points=\"55.95,-118.5 57.98,-108.1 49.91,-114.96 55.95,-118.5\"/>\n",
       "</g>\n",
       "</g>\n",
       "</svg>\n"
      ],
      "text/plain": [
       "<graphviz.dot.Digraph at 0x12ccc6880>"
      ]
     },
     "execution_count": 27,
     "metadata": {},
     "output_type": "execute_result"
    }
   ],
   "source": [
    "f = bigger_dag[['threshold', 'predict_proba'], 'confusion_count']\n",
    "f.dot_digraph()"
   ]
  },
  {
   "cell_type": "markdown",
   "metadata": {},
   "source": [
    "Let's see what `bigger_dag[['threshold', 'predict_proba'], 'confusion_count']` means.\n",
    "\n",
    "Here we're asking to get a function (a dag really) that will get us from `threshold` and `predict_proba` inputs to the value of `confusion_count`. \n",
    "\n",
    "But you'll notice that you get a function that has three arguments, not two:"
   ]
  },
  {
   "cell_type": "code",
   "execution_count": 29,
   "metadata": {
    "ExecuteTime": {
     "end_time": "2021-08-01T14:48:43.547618Z",
     "start_time": "2021-08-01T14:48:43.515041Z"
    }
   },
   "outputs": [
    {
     "data": {
      "text/plain": [
       "<Sig (predict_proba, threshold, truth)>"
      ]
     },
     "execution_count": 29,
     "metadata": {},
     "output_type": "execute_result"
    }
   ],
   "source": [
    "from i2 import Sig  # i2 comes with meshed\n",
    "Sig(f)"
   ]
  },
  {
   "cell_type": "markdown",
   "metadata": {},
   "source": [
    "That's because `threshold` and `predict_proba` are not sufficient to get you the `confusion_count`.\n",
    "\n",
    "What you actually get is smallest set of input arguments containing the ones you requested that will actually get you to the outputs you requested"
   ]
  },
  {
   "cell_type": "markdown",
   "metadata": {},
   "source": [
    "So to get a sub-dag, you say `dag[input_args, output_args]`.\n",
    "\n",
    "Both `input_args` and `output_args` can be \n",
    "- a single argument\n",
    "- a list of arguments\n",
    "- an empty slice (i.e. `:`), which means \"no condition\", i.e. \"all possible\" (inputs or outputs)"
   ]
  },
  {
   "cell_type": "code",
   "execution_count": 30,
   "metadata": {
    "ExecuteTime": {
     "end_time": "2021-08-01T14:48:47.165764Z",
     "start_time": "2021-08-01T14:48:46.896412Z"
    }
   },
   "outputs": [
    {
     "data": {
      "image/svg+xml": [
       "<?xml version=\"1.0\" encoding=\"UTF-8\" standalone=\"no\"?>\n",
       "<!DOCTYPE svg PUBLIC \"-//W3C//DTD SVG 1.1//EN\"\n",
       " \"http://www.w3.org/Graphics/SVG/1.1/DTD/svg11.dtd\">\n",
       "<!-- Generated by graphviz version 2.48.0 (20210717.1556)\n",
       " -->\n",
       "<!-- Pages: 1 -->\n",
       "<svg width=\"156pt\" height=\"332pt\"\n",
       " viewBox=\"0.00 0.00 156.00 332.00\" xmlns=\"http://www.w3.org/2000/svg\" xmlns:xlink=\"http://www.w3.org/1999/xlink\">\n",
       "<g id=\"graph0\" class=\"graph\" transform=\"scale(1 1) rotate(0) translate(4 328)\">\n",
       "<polygon fill=\"white\" stroke=\"transparent\" points=\"-4,4 -4,-328 152,-328 152,4 -4,4\"/>\n",
       "<!-- train_test_split -->\n",
       "<g id=\"node1\" class=\"node\">\n",
       "<title>train_test_split</title>\n",
       "<text text-anchor=\"middle\" x=\"70\" y=\"-158.3\" font-family=\"Times,serif\" font-size=\"14.00\">train_test_split</text>\n",
       "</g>\n",
       "<!-- test_y_ -->\n",
       "<g id=\"node6\" class=\"node\">\n",
       "<title>test_y_</title>\n",
       "<polygon fill=\"none\" stroke=\"black\" points=\"60.5,-108 3.5,-108 3.5,-72 60.5,-72 60.5,-108\"/>\n",
       "<text text-anchor=\"middle\" x=\"32\" y=\"-86.3\" font-family=\"Times,serif\" font-size=\"14.00\">test_y_</text>\n",
       "</g>\n",
       "<!-- train_test_split&#45;&gt;test_y_ -->\n",
       "<g id=\"edge5\" class=\"edge\">\n",
       "<title>train_test_split&#45;&gt;test_y_</title>\n",
       "<path fill=\"none\" stroke=\"black\" d=\"M60.61,-143.7C56.24,-135.64 50.94,-125.89 46.1,-116.98\"/>\n",
       "<polygon fill=\"black\" stroke=\"black\" points=\"49.13,-115.22 41.29,-108.1 42.98,-118.56 49.13,-115.22\"/>\n",
       "</g>\n",
       "<!-- test_X_ -->\n",
       "<g id=\"node8\" class=\"node\">\n",
       "<title>test_X_</title>\n",
       "<polygon fill=\"none\" stroke=\"black\" points=\"139,-108 79,-108 79,-72 139,-72 139,-108\"/>\n",
       "<text text-anchor=\"middle\" x=\"109\" y=\"-86.3\" font-family=\"Times,serif\" font-size=\"14.00\">test_X_</text>\n",
       "</g>\n",
       "<!-- train_test_split&#45;&gt;test_X_ -->\n",
       "<g id=\"edge7\" class=\"edge\">\n",
       "<title>train_test_split&#45;&gt;test_X_</title>\n",
       "<path fill=\"none\" stroke=\"black\" d=\"M79.64,-143.7C84.13,-135.64 89.56,-125.89 94.52,-116.98\"/>\n",
       "<polygon fill=\"black\" stroke=\"black\" points=\"97.66,-118.54 99.47,-108.1 91.55,-115.14 97.66,-118.54\"/>\n",
       "</g>\n",
       "<!-- train_test_split_ -->\n",
       "<g id=\"node2\" class=\"node\">\n",
       "<title>train_test_split_</title>\n",
       "<polygon fill=\"none\" stroke=\"black\" points=\"123.5,-252 16.5,-252 16.5,-216 123.5,-216 123.5,-252\"/>\n",
       "<text text-anchor=\"middle\" x=\"70\" y=\"-230.3\" font-family=\"Times,serif\" font-size=\"14.00\">train_test_split_</text>\n",
       "</g>\n",
       "<!-- train_test_split_&#45;&gt;train_test_split -->\n",
       "<g id=\"edge1\" class=\"edge\">\n",
       "<title>train_test_split_&#45;&gt;train_test_split</title>\n",
       "<path fill=\"none\" stroke=\"black\" d=\"M70,-215.7C70,-207.98 70,-198.71 70,-190.11\"/>\n",
       "<polygon fill=\"black\" stroke=\"black\" points=\"73.5,-190.1 70,-180.1 66.5,-190.1 73.5,-190.1\"/>\n",
       "</g>\n",
       "<!-- arrays -->\n",
       "<g id=\"node3\" class=\"node\">\n",
       "<title>arrays</title>\n",
       "<text text-anchor=\"middle\" x=\"29\" y=\"-302.3\" font-family=\"Times,serif\" font-size=\"14.00\">*arrays</text>\n",
       "</g>\n",
       "<!-- arrays&#45;&gt;train_test_split_ -->\n",
       "<g id=\"edge2\" class=\"edge\">\n",
       "<title>arrays&#45;&gt;train_test_split_</title>\n",
       "<path fill=\"none\" stroke=\"black\" d=\"M39.13,-287.7C43.85,-279.64 49.56,-269.89 54.78,-260.98\"/>\n",
       "<polygon fill=\"black\" stroke=\"black\" points=\"57.95,-262.5 59.98,-252.1 51.91,-258.96 57.95,-262.5\"/>\n",
       "</g>\n",
       "<!-- options -->\n",
       "<g id=\"node4\" class=\"node\">\n",
       "<title>options</title>\n",
       "<text text-anchor=\"middle\" x=\"112\" y=\"-302.3\" font-family=\"Times,serif\" font-size=\"14.00\">**options</text>\n",
       "</g>\n",
       "<!-- options&#45;&gt;train_test_split_ -->\n",
       "<g id=\"edge3\" class=\"edge\">\n",
       "<title>options&#45;&gt;train_test_split_</title>\n",
       "<path fill=\"none\" stroke=\"black\" d=\"M101.62,-287.7C96.74,-279.56 90.81,-269.69 85.42,-260.7\"/>\n",
       "<polygon fill=\"black\" stroke=\"black\" points=\"88.41,-258.88 80.26,-252.1 82.41,-262.48 88.41,-258.88\"/>\n",
       "</g>\n",
       "<!-- test_y -->\n",
       "<g id=\"node5\" class=\"node\">\n",
       "<title>test_y</title>\n",
       "<text text-anchor=\"middle\" x=\"32\" y=\"-14.3\" font-family=\"Times,serif\" font-size=\"14.00\">test_y</text>\n",
       "</g>\n",
       "<!-- test_y_&#45;&gt;test_y -->\n",
       "<g id=\"edge4\" class=\"edge\">\n",
       "<title>test_y_&#45;&gt;test_y</title>\n",
       "<path fill=\"none\" stroke=\"black\" d=\"M32,-71.7C32,-63.98 32,-54.71 32,-46.11\"/>\n",
       "<polygon fill=\"black\" stroke=\"black\" points=\"35.5,-46.1 32,-36.1 28.5,-46.1 35.5,-46.1\"/>\n",
       "</g>\n",
       "<!-- test_X -->\n",
       "<g id=\"node7\" class=\"node\">\n",
       "<title>test_X</title>\n",
       "<text text-anchor=\"middle\" x=\"109\" y=\"-14.3\" font-family=\"Times,serif\" font-size=\"14.00\">test_X</text>\n",
       "</g>\n",
       "<!-- test_X_&#45;&gt;test_X -->\n",
       "<g id=\"edge6\" class=\"edge\">\n",
       "<title>test_X_&#45;&gt;test_X</title>\n",
       "<path fill=\"none\" stroke=\"black\" d=\"M109,-71.7C109,-63.98 109,-54.71 109,-46.11\"/>\n",
       "<polygon fill=\"black\" stroke=\"black\" points=\"112.5,-46.1 109,-36.1 105.5,-46.1 112.5,-46.1\"/>\n",
       "</g>\n",
       "</g>\n",
       "</svg>\n"
      ],
      "text/plain": [
       "<graphviz.dot.Digraph at 0x11c1e3df0>"
      ]
     },
     "execution_count": 30,
     "metadata": {},
     "output_type": "execute_result"
    }
   ],
   "source": [
    "f = bigger_dag[:, ['test_X', 'test_y']]\n",
    "f.dot_digraph()"
   ]
  },
  {
   "cell_type": "code",
   "execution_count": 31,
   "metadata": {
    "ExecuteTime": {
     "end_time": "2021-08-01T14:48:48.325014Z",
     "start_time": "2021-08-01T14:48:48.052366Z"
    }
   },
   "outputs": [
    {
     "data": {
      "image/svg+xml": [
       "<?xml version=\"1.0\" encoding=\"UTF-8\" standalone=\"no\"?>\n",
       "<!DOCTYPE svg PUBLIC \"-//W3C//DTD SVG 1.1//EN\"\n",
       " \"http://www.w3.org/Graphics/SVG/1.1/DTD/svg11.dtd\">\n",
       "<!-- Generated by graphviz version 2.48.0 (20210717.1556)\n",
       " -->\n",
       "<!-- Pages: 1 -->\n",
       "<svg width=\"259pt\" height=\"332pt\"\n",
       " viewBox=\"0.00 0.00 258.50 332.00\" xmlns=\"http://www.w3.org/2000/svg\" xmlns:xlink=\"http://www.w3.org/1999/xlink\">\n",
       "<g id=\"graph0\" class=\"graph\" transform=\"scale(1 1) rotate(0) translate(4 328)\">\n",
       "<polygon fill=\"white\" stroke=\"transparent\" points=\"-4,4 -4,-328 254.5,-328 254.5,4 -4,4\"/>\n",
       "<!-- confusion_count -->\n",
       "<g id=\"node1\" class=\"node\">\n",
       "<title>confusion_count</title>\n",
       "<text text-anchor=\"middle\" x=\"182.5\" y=\"-158.3\" font-family=\"Times,serif\" font-size=\"14.00\">confusion_count</text>\n",
       "</g>\n",
       "<!-- classifier_score_ -->\n",
       "<g id=\"node6\" class=\"node\">\n",
       "<title>classifier_score_</title>\n",
       "<polygon fill=\"none\" stroke=\"black\" points=\"173.5,-108 63.5,-108 63.5,-72 173.5,-72 173.5,-108\"/>\n",
       "<text text-anchor=\"middle\" x=\"118.5\" y=\"-86.3\" font-family=\"Times,serif\" font-size=\"14.00\">classifier_score_</text>\n",
       "</g>\n",
       "<!-- confusion_count&#45;&gt;classifier_score_ -->\n",
       "<g id=\"edge5\" class=\"edge\">\n",
       "<title>confusion_count&#45;&gt;classifier_score_</title>\n",
       "<path fill=\"none\" stroke=\"black\" d=\"M166.68,-143.7C158.93,-135.22 149.46,-124.86 140.98,-115.58\"/>\n",
       "<polygon fill=\"black\" stroke=\"black\" points=\"143.47,-113.12 134.14,-108.1 138.3,-117.85 143.47,-113.12\"/>\n",
       "</g>\n",
       "<!-- confusion_count_ -->\n",
       "<g id=\"node2\" class=\"node\">\n",
       "<title>confusion_count_</title>\n",
       "<polygon fill=\"none\" stroke=\"black\" points=\"241,-252 124,-252 124,-216 241,-216 241,-252\"/>\n",
       "<text text-anchor=\"middle\" x=\"182.5\" y=\"-230.3\" font-family=\"Times,serif\" font-size=\"14.00\">confusion_count_</text>\n",
       "</g>\n",
       "<!-- confusion_count_&#45;&gt;confusion_count -->\n",
       "<g id=\"edge1\" class=\"edge\">\n",
       "<title>confusion_count_&#45;&gt;confusion_count</title>\n",
       "<path fill=\"none\" stroke=\"black\" d=\"M182.5,-215.7C182.5,-207.98 182.5,-198.71 182.5,-190.11\"/>\n",
       "<polygon fill=\"black\" stroke=\"black\" points=\"186,-190.1 182.5,-180.1 179,-190.1 186,-190.1\"/>\n",
       "</g>\n",
       "<!-- prediction -->\n",
       "<g id=\"node3\" class=\"node\">\n",
       "<title>prediction</title>\n",
       "<text text-anchor=\"middle\" x=\"141.5\" y=\"-302.3\" font-family=\"Times,serif\" font-size=\"14.00\">prediction</text>\n",
       "</g>\n",
       "<!-- prediction&#45;&gt;confusion_count_ -->\n",
       "<g id=\"edge2\" class=\"edge\">\n",
       "<title>prediction&#45;&gt;confusion_count_</title>\n",
       "<path fill=\"none\" stroke=\"black\" d=\"M151.63,-287.7C156.35,-279.64 162.06,-269.89 167.28,-260.98\"/>\n",
       "<polygon fill=\"black\" stroke=\"black\" points=\"170.45,-262.5 172.48,-252.1 164.41,-258.96 170.45,-262.5\"/>\n",
       "</g>\n",
       "<!-- truth -->\n",
       "<g id=\"node4\" class=\"node\">\n",
       "<title>truth</title>\n",
       "<text text-anchor=\"middle\" x=\"223.5\" y=\"-302.3\" font-family=\"Times,serif\" font-size=\"14.00\">truth</text>\n",
       "</g>\n",
       "<!-- truth&#45;&gt;confusion_count_ -->\n",
       "<g id=\"edge3\" class=\"edge\">\n",
       "<title>truth&#45;&gt;confusion_count_</title>\n",
       "<path fill=\"none\" stroke=\"black\" d=\"M213.37,-287.7C208.65,-279.64 202.94,-269.89 197.72,-260.98\"/>\n",
       "<polygon fill=\"black\" stroke=\"black\" points=\"200.59,-258.96 192.52,-252.1 194.55,-262.5 200.59,-258.96\"/>\n",
       "</g>\n",
       "<!-- classifier_score -->\n",
       "<g id=\"node5\" class=\"node\">\n",
       "<title>classifier_score</title>\n",
       "<text text-anchor=\"middle\" x=\"118.5\" y=\"-14.3\" font-family=\"Times,serif\" font-size=\"14.00\">classifier_score</text>\n",
       "</g>\n",
       "<!-- classifier_score_&#45;&gt;classifier_score -->\n",
       "<g id=\"edge4\" class=\"edge\">\n",
       "<title>classifier_score_&#45;&gt;classifier_score</title>\n",
       "<path fill=\"none\" stroke=\"black\" d=\"M118.5,-71.7C118.5,-63.98 118.5,-54.71 118.5,-46.11\"/>\n",
       "<polygon fill=\"black\" stroke=\"black\" points=\"122,-46.1 118.5,-36.1 115,-46.1 122,-46.1\"/>\n",
       "</g>\n",
       "<!-- confusion_value -->\n",
       "<g id=\"node7\" class=\"node\">\n",
       "<title>confusion_value</title>\n",
       "<text text-anchor=\"middle\" x=\"54.5\" y=\"-158.3\" font-family=\"Times,serif\" font-size=\"14.00\">confusion_value</text>\n",
       "</g>\n",
       "<!-- confusion_value&#45;&gt;classifier_score_ -->\n",
       "<g id=\"edge6\" class=\"edge\">\n",
       "<title>confusion_value&#45;&gt;classifier_score_</title>\n",
       "<path fill=\"none\" stroke=\"black\" d=\"M70.32,-143.7C78.07,-135.22 87.54,-124.86 96.02,-115.58\"/>\n",
       "<polygon fill=\"black\" stroke=\"black\" points=\"98.7,-117.85 102.86,-108.1 93.53,-113.12 98.7,-117.85\"/>\n",
       "</g>\n",
       "</g>\n",
       "</svg>\n"
      ],
      "text/plain": [
       "<graphviz.dot.Digraph at 0x12ccc6cd0>"
      ]
     },
     "execution_count": 31,
     "metadata": {},
     "output_type": "execute_result"
    }
   ],
   "source": [
    "f = bigger_dag['prediction', :]\n",
    "f.dot_digraph()"
   ]
  },
  {
   "cell_type": "markdown",
   "metadata": {},
   "source": [
    "You can also specify your desired inputs and outputs as functions (if only used by a unique node) or func_node name. "
   ]
  },
  {
   "cell_type": "code",
   "execution_count": 84,
   "metadata": {
    "ExecuteTime": {
     "end_time": "2021-08-01T15:27:07.736178Z",
     "start_time": "2021-08-01T15:27:07.465325Z"
    }
   },
   "outputs": [
    {
     "data": {
      "image/svg+xml": [
       "<?xml version=\"1.0\" encoding=\"UTF-8\" standalone=\"no\"?>\n",
       "<!DOCTYPE svg PUBLIC \"-//W3C//DTD SVG 1.1//EN\"\n",
       " \"http://www.w3.org/Graphics/SVG/1.1/DTD/svg11.dtd\">\n",
       "<!-- Generated by graphviz version 2.48.0 (20210717.1556)\n",
       " -->\n",
       "<!-- Pages: 1 -->\n",
       "<svg width=\"202pt\" height=\"332pt\"\n",
       " viewBox=\"0.00 0.00 201.50 332.00\" xmlns=\"http://www.w3.org/2000/svg\" xmlns:xlink=\"http://www.w3.org/1999/xlink\">\n",
       "<g id=\"graph0\" class=\"graph\" transform=\"scale(1 1) rotate(0) translate(4 328)\">\n",
       "<polygon fill=\"white\" stroke=\"transparent\" points=\"-4,4 -4,-328 197.5,-328 197.5,4 -4,4\"/>\n",
       "<!-- prediction -->\n",
       "<g id=\"node1\" class=\"node\">\n",
       "<title>prediction</title>\n",
       "<text text-anchor=\"middle\" x=\"109\" y=\"-158.3\" font-family=\"Times,serif\" font-size=\"14.00\">prediction</text>\n",
       "</g>\n",
       "<!-- confusion_count_ -->\n",
       "<g id=\"node6\" class=\"node\">\n",
       "<title>confusion_count_</title>\n",
       "<polygon fill=\"none\" stroke=\"black\" points=\"126.5,-108 9.5,-108 9.5,-72 126.5,-72 126.5,-108\"/>\n",
       "<text text-anchor=\"middle\" x=\"68\" y=\"-86.3\" font-family=\"Times,serif\" font-size=\"14.00\">confusion_count_</text>\n",
       "</g>\n",
       "<!-- prediction&#45;&gt;confusion_count_ -->\n",
       "<g id=\"edge5\" class=\"edge\">\n",
       "<title>prediction&#45;&gt;confusion_count_</title>\n",
       "<path fill=\"none\" stroke=\"black\" d=\"M98.87,-143.7C94.15,-135.64 88.44,-125.89 83.22,-116.98\"/>\n",
       "<polygon fill=\"black\" stroke=\"black\" points=\"86.09,-114.96 78.02,-108.1 80.05,-118.5 86.09,-114.96\"/>\n",
       "</g>\n",
       "<!-- prediction_ -->\n",
       "<g id=\"node2\" class=\"node\">\n",
       "<title>prediction_</title>\n",
       "<polygon fill=\"none\" stroke=\"black\" points=\"149,-252 69,-252 69,-216 149,-216 149,-252\"/>\n",
       "<text text-anchor=\"middle\" x=\"109\" y=\"-230.3\" font-family=\"Times,serif\" font-size=\"14.00\">prediction_</text>\n",
       "</g>\n",
       "<!-- prediction_&#45;&gt;prediction -->\n",
       "<g id=\"edge1\" class=\"edge\">\n",
       "<title>prediction_&#45;&gt;prediction</title>\n",
       "<path fill=\"none\" stroke=\"black\" d=\"M109,-215.7C109,-207.98 109,-198.71 109,-190.11\"/>\n",
       "<polygon fill=\"black\" stroke=\"black\" points=\"112.5,-190.1 109,-180.1 105.5,-190.1 112.5,-190.1\"/>\n",
       "</g>\n",
       "<!-- predict_proba -->\n",
       "<g id=\"node3\" class=\"node\">\n",
       "<title>predict_proba</title>\n",
       "<text text-anchor=\"middle\" x=\"59\" y=\"-302.3\" font-family=\"Times,serif\" font-size=\"14.00\">predict_proba</text>\n",
       "</g>\n",
       "<!-- predict_proba&#45;&gt;prediction_ -->\n",
       "<g id=\"edge2\" class=\"edge\">\n",
       "<title>predict_proba&#45;&gt;prediction_</title>\n",
       "<path fill=\"none\" stroke=\"black\" d=\"M71.36,-287.7C77.23,-279.47 84.37,-269.48 90.84,-260.42\"/>\n",
       "<polygon fill=\"black\" stroke=\"black\" points=\"93.82,-262.28 96.78,-252.1 88.12,-258.21 93.82,-262.28\"/>\n",
       "</g>\n",
       "<!-- threshold -->\n",
       "<g id=\"node4\" class=\"node\">\n",
       "<title>threshold</title>\n",
       "<text text-anchor=\"middle\" x=\"159\" y=\"-302.3\" font-family=\"Times,serif\" font-size=\"14.00\">threshold</text>\n",
       "</g>\n",
       "<!-- threshold&#45;&gt;prediction_ -->\n",
       "<g id=\"edge3\" class=\"edge\">\n",
       "<title>threshold&#45;&gt;prediction_</title>\n",
       "<path fill=\"none\" stroke=\"black\" d=\"M146.64,-287.7C140.77,-279.47 133.63,-269.48 127.16,-260.42\"/>\n",
       "<polygon fill=\"black\" stroke=\"black\" points=\"129.88,-258.21 121.22,-252.1 124.18,-262.28 129.88,-258.21\"/>\n",
       "</g>\n",
       "<!-- confusion_count -->\n",
       "<g id=\"node5\" class=\"node\">\n",
       "<title>confusion_count</title>\n",
       "<text text-anchor=\"middle\" x=\"68\" y=\"-14.3\" font-family=\"Times,serif\" font-size=\"14.00\">confusion_count</text>\n",
       "</g>\n",
       "<!-- confusion_count_&#45;&gt;confusion_count -->\n",
       "<g id=\"edge4\" class=\"edge\">\n",
       "<title>confusion_count_&#45;&gt;confusion_count</title>\n",
       "<path fill=\"none\" stroke=\"black\" d=\"M68,-71.7C68,-63.98 68,-54.71 68,-46.11\"/>\n",
       "<polygon fill=\"black\" stroke=\"black\" points=\"71.5,-46.1 68,-36.1 64.5,-46.1 71.5,-46.1\"/>\n",
       "</g>\n",
       "<!-- truth -->\n",
       "<g id=\"node7\" class=\"node\">\n",
       "<title>truth</title>\n",
       "<text text-anchor=\"middle\" x=\"27\" y=\"-158.3\" font-family=\"Times,serif\" font-size=\"14.00\">truth</text>\n",
       "</g>\n",
       "<!-- truth&#45;&gt;confusion_count_ -->\n",
       "<g id=\"edge6\" class=\"edge\">\n",
       "<title>truth&#45;&gt;confusion_count_</title>\n",
       "<path fill=\"none\" stroke=\"black\" d=\"M37.13,-143.7C41.85,-135.64 47.56,-125.89 52.78,-116.98\"/>\n",
       "<polygon fill=\"black\" stroke=\"black\" points=\"55.95,-118.5 57.98,-108.1 49.91,-114.96 55.95,-118.5\"/>\n",
       "</g>\n",
       "</g>\n",
       "</svg>\n"
      ],
      "text/plain": [
       "<graphviz.dot.Digraph at 0x12ddd6820>"
      ]
     },
     "execution_count": 84,
     "metadata": {},
     "output_type": "execute_result"
    }
   ],
   "source": [
    "bigger_dag['prediction_', confusion_count].dot_digraph()"
   ]
  },
  {
   "cell_type": "markdown",
   "metadata": {
    "ExecuteTime": {
     "end_time": "2021-08-01T15:15:54.622130Z",
     "start_time": "2021-08-01T15:15:54.589735Z"
    }
   },
   "source": [
    "Make sure you understand the difference/equivalent between the above and the two following:"
   ]
  },
  {
   "cell_type": "code",
   "execution_count": 87,
   "metadata": {
    "ExecuteTime": {
     "end_time": "2021-08-01T15:28:03.227330Z",
     "start_time": "2021-08-01T15:28:02.945924Z"
    }
   },
   "outputs": [
    {
     "data": {
      "image/svg+xml": [
       "<?xml version=\"1.0\" encoding=\"UTF-8\" standalone=\"no\"?>\n",
       "<!DOCTYPE svg PUBLIC \"-//W3C//DTD SVG 1.1//EN\"\n",
       " \"http://www.w3.org/Graphics/SVG/1.1/DTD/svg11.dtd\">\n",
       "<!-- Generated by graphviz version 2.48.0 (20210717.1556)\n",
       " -->\n",
       "<!-- Pages: 1 -->\n",
       "<svg width=\"154pt\" height=\"188pt\"\n",
       " viewBox=\"0.00 0.00 153.50 188.00\" xmlns=\"http://www.w3.org/2000/svg\" xmlns:xlink=\"http://www.w3.org/1999/xlink\">\n",
       "<g id=\"graph0\" class=\"graph\" transform=\"scale(1 1) rotate(0) translate(4 184)\">\n",
       "<polygon fill=\"white\" stroke=\"transparent\" points=\"-4,4 -4,-184 149.5,-184 149.5,4 -4,4\"/>\n",
       "<!-- confusion_count -->\n",
       "<g id=\"node1\" class=\"node\">\n",
       "<title>confusion_count</title>\n",
       "<text text-anchor=\"middle\" x=\"77.5\" y=\"-14.3\" font-family=\"Times,serif\" font-size=\"14.00\">confusion_count</text>\n",
       "</g>\n",
       "<!-- confusion_count_ -->\n",
       "<g id=\"node2\" class=\"node\">\n",
       "<title>confusion_count_</title>\n",
       "<polygon fill=\"none\" stroke=\"black\" points=\"136,-108 19,-108 19,-72 136,-72 136,-108\"/>\n",
       "<text text-anchor=\"middle\" x=\"77.5\" y=\"-86.3\" font-family=\"Times,serif\" font-size=\"14.00\">confusion_count_</text>\n",
       "</g>\n",
       "<!-- confusion_count_&#45;&gt;confusion_count -->\n",
       "<g id=\"edge1\" class=\"edge\">\n",
       "<title>confusion_count_&#45;&gt;confusion_count</title>\n",
       "<path fill=\"none\" stroke=\"black\" d=\"M77.5,-71.7C77.5,-63.98 77.5,-54.71 77.5,-46.11\"/>\n",
       "<polygon fill=\"black\" stroke=\"black\" points=\"81,-46.1 77.5,-36.1 74,-46.1 81,-46.1\"/>\n",
       "</g>\n",
       "<!-- prediction -->\n",
       "<g id=\"node3\" class=\"node\">\n",
       "<title>prediction</title>\n",
       "<text text-anchor=\"middle\" x=\"36.5\" y=\"-158.3\" font-family=\"Times,serif\" font-size=\"14.00\">prediction</text>\n",
       "</g>\n",
       "<!-- prediction&#45;&gt;confusion_count_ -->\n",
       "<g id=\"edge2\" class=\"edge\">\n",
       "<title>prediction&#45;&gt;confusion_count_</title>\n",
       "<path fill=\"none\" stroke=\"black\" d=\"M46.63,-143.7C51.35,-135.64 57.06,-125.89 62.28,-116.98\"/>\n",
       "<polygon fill=\"black\" stroke=\"black\" points=\"65.45,-118.5 67.48,-108.1 59.41,-114.96 65.45,-118.5\"/>\n",
       "</g>\n",
       "<!-- truth -->\n",
       "<g id=\"node4\" class=\"node\">\n",
       "<title>truth</title>\n",
       "<text text-anchor=\"middle\" x=\"118.5\" y=\"-158.3\" font-family=\"Times,serif\" font-size=\"14.00\">truth</text>\n",
       "</g>\n",
       "<!-- truth&#45;&gt;confusion_count_ -->\n",
       "<g id=\"edge3\" class=\"edge\">\n",
       "<title>truth&#45;&gt;confusion_count_</title>\n",
       "<path fill=\"none\" stroke=\"black\" d=\"M108.37,-143.7C103.65,-135.64 97.94,-125.89 92.72,-116.98\"/>\n",
       "<polygon fill=\"black\" stroke=\"black\" points=\"95.59,-114.96 87.52,-108.1 89.55,-118.5 95.59,-114.96\"/>\n",
       "</g>\n",
       "</g>\n",
       "</svg>\n"
      ],
      "text/plain": [
       "<graphviz.dot.Digraph at 0x12dd440d0>"
      ]
     },
     "execution_count": 87,
     "metadata": {},
     "output_type": "execute_result"
    }
   ],
   "source": [
    "bigger_dag['prediction', confusion_count].dot_digraph()"
   ]
  },
  {
   "cell_type": "code",
   "execution_count": 90,
   "metadata": {
    "ExecuteTime": {
     "end_time": "2021-08-01T15:29:33.808186Z",
     "start_time": "2021-08-01T15:29:33.528440Z"
    }
   },
   "outputs": [
    {
     "data": {
      "image/svg+xml": [
       "<?xml version=\"1.0\" encoding=\"UTF-8\" standalone=\"no\"?>\n",
       "<!DOCTYPE svg PUBLIC \"-//W3C//DTD SVG 1.1//EN\"\n",
       " \"http://www.w3.org/Graphics/SVG/1.1/DTD/svg11.dtd\">\n",
       "<!-- Generated by graphviz version 2.48.0 (20210717.1556)\n",
       " -->\n",
       "<!-- Pages: 1 -->\n",
       "<svg width=\"202pt\" height=\"332pt\"\n",
       " viewBox=\"0.00 0.00 201.50 332.00\" xmlns=\"http://www.w3.org/2000/svg\" xmlns:xlink=\"http://www.w3.org/1999/xlink\">\n",
       "<g id=\"graph0\" class=\"graph\" transform=\"scale(1 1) rotate(0) translate(4 328)\">\n",
       "<polygon fill=\"white\" stroke=\"transparent\" points=\"-4,4 -4,-328 197.5,-328 197.5,4 -4,4\"/>\n",
       "<!-- prediction -->\n",
       "<g id=\"node1\" class=\"node\">\n",
       "<title>prediction</title>\n",
       "<text text-anchor=\"middle\" x=\"109\" y=\"-158.3\" font-family=\"Times,serif\" font-size=\"14.00\">prediction</text>\n",
       "</g>\n",
       "<!-- confusion_count_ -->\n",
       "<g id=\"node6\" class=\"node\">\n",
       "<title>confusion_count_</title>\n",
       "<polygon fill=\"none\" stroke=\"black\" points=\"126.5,-108 9.5,-108 9.5,-72 126.5,-72 126.5,-108\"/>\n",
       "<text text-anchor=\"middle\" x=\"68\" y=\"-86.3\" font-family=\"Times,serif\" font-size=\"14.00\">confusion_count_</text>\n",
       "</g>\n",
       "<!-- prediction&#45;&gt;confusion_count_ -->\n",
       "<g id=\"edge5\" class=\"edge\">\n",
       "<title>prediction&#45;&gt;confusion_count_</title>\n",
       "<path fill=\"none\" stroke=\"black\" d=\"M98.87,-143.7C94.15,-135.64 88.44,-125.89 83.22,-116.98\"/>\n",
       "<polygon fill=\"black\" stroke=\"black\" points=\"86.09,-114.96 78.02,-108.1 80.05,-118.5 86.09,-114.96\"/>\n",
       "</g>\n",
       "<!-- prediction_ -->\n",
       "<g id=\"node2\" class=\"node\">\n",
       "<title>prediction_</title>\n",
       "<polygon fill=\"none\" stroke=\"black\" points=\"149,-252 69,-252 69,-216 149,-216 149,-252\"/>\n",
       "<text text-anchor=\"middle\" x=\"109\" y=\"-230.3\" font-family=\"Times,serif\" font-size=\"14.00\">prediction_</text>\n",
       "</g>\n",
       "<!-- prediction_&#45;&gt;prediction -->\n",
       "<g id=\"edge1\" class=\"edge\">\n",
       "<title>prediction_&#45;&gt;prediction</title>\n",
       "<path fill=\"none\" stroke=\"black\" d=\"M109,-215.7C109,-207.98 109,-198.71 109,-190.11\"/>\n",
       "<polygon fill=\"black\" stroke=\"black\" points=\"112.5,-190.1 109,-180.1 105.5,-190.1 112.5,-190.1\"/>\n",
       "</g>\n",
       "<!-- predict_proba -->\n",
       "<g id=\"node3\" class=\"node\">\n",
       "<title>predict_proba</title>\n",
       "<text text-anchor=\"middle\" x=\"59\" y=\"-302.3\" font-family=\"Times,serif\" font-size=\"14.00\">predict_proba</text>\n",
       "</g>\n",
       "<!-- predict_proba&#45;&gt;prediction_ -->\n",
       "<g id=\"edge2\" class=\"edge\">\n",
       "<title>predict_proba&#45;&gt;prediction_</title>\n",
       "<path fill=\"none\" stroke=\"black\" d=\"M71.36,-287.7C77.23,-279.47 84.37,-269.48 90.84,-260.42\"/>\n",
       "<polygon fill=\"black\" stroke=\"black\" points=\"93.82,-262.28 96.78,-252.1 88.12,-258.21 93.82,-262.28\"/>\n",
       "</g>\n",
       "<!-- threshold -->\n",
       "<g id=\"node4\" class=\"node\">\n",
       "<title>threshold</title>\n",
       "<text text-anchor=\"middle\" x=\"159\" y=\"-302.3\" font-family=\"Times,serif\" font-size=\"14.00\">threshold</text>\n",
       "</g>\n",
       "<!-- threshold&#45;&gt;prediction_ -->\n",
       "<g id=\"edge3\" class=\"edge\">\n",
       "<title>threshold&#45;&gt;prediction_</title>\n",
       "<path fill=\"none\" stroke=\"black\" d=\"M146.64,-287.7C140.77,-279.47 133.63,-269.48 127.16,-260.42\"/>\n",
       "<polygon fill=\"black\" stroke=\"black\" points=\"129.88,-258.21 121.22,-252.1 124.18,-262.28 129.88,-258.21\"/>\n",
       "</g>\n",
       "<!-- confusion_count -->\n",
       "<g id=\"node5\" class=\"node\">\n",
       "<title>confusion_count</title>\n",
       "<text text-anchor=\"middle\" x=\"68\" y=\"-14.3\" font-family=\"Times,serif\" font-size=\"14.00\">confusion_count</text>\n",
       "</g>\n",
       "<!-- confusion_count_&#45;&gt;confusion_count -->\n",
       "<g id=\"edge4\" class=\"edge\">\n",
       "<title>confusion_count_&#45;&gt;confusion_count</title>\n",
       "<path fill=\"none\" stroke=\"black\" d=\"M68,-71.7C68,-63.98 68,-54.71 68,-46.11\"/>\n",
       "<polygon fill=\"black\" stroke=\"black\" points=\"71.5,-46.1 68,-36.1 64.5,-46.1 71.5,-46.1\"/>\n",
       "</g>\n",
       "<!-- truth -->\n",
       "<g id=\"node7\" class=\"node\">\n",
       "<title>truth</title>\n",
       "<text text-anchor=\"middle\" x=\"27\" y=\"-158.3\" font-family=\"Times,serif\" font-size=\"14.00\">truth</text>\n",
       "</g>\n",
       "<!-- truth&#45;&gt;confusion_count_ -->\n",
       "<g id=\"edge6\" class=\"edge\">\n",
       "<title>truth&#45;&gt;confusion_count_</title>\n",
       "<path fill=\"none\" stroke=\"black\" d=\"M37.13,-143.7C41.85,-135.64 47.56,-125.89 52.78,-116.98\"/>\n",
       "<polygon fill=\"black\" stroke=\"black\" points=\"55.95,-118.5 57.98,-108.1 49.91,-114.96 55.95,-118.5\"/>\n",
       "</g>\n",
       "</g>\n",
       "</svg>\n"
      ],
      "text/plain": [
       "<graphviz.dot.Digraph at 0x12da927f0>"
      ]
     },
     "execution_count": 90,
     "metadata": {},
     "output_type": "execute_result"
    }
   ],
   "source": [
    "bigger_dag[prediction, confusion_count].dot_digraph()  "
   ]
  },
  {
   "cell_type": "markdown",
   "metadata": {},
   "source": [
    "Above we used `prediction`, the function -- not `'prediction'`, the string, which indicates the output of `prediction`.\n",
    "\n",
    "If we wanted to specify the `prediction` function we a string, we should use the func_node name:  `'prediction_'`."
   ]
  },
  {
   "cell_type": "code",
   "execution_count": 57,
   "metadata": {
    "ExecuteTime": {
     "end_time": "2021-08-01T14:58:22.323482Z",
     "start_time": "2021-08-01T14:58:21.852768Z"
    }
   },
   "outputs": [
    {
     "data": {
      "image/svg+xml": [
       "<?xml version=\"1.0\" encoding=\"UTF-8\" standalone=\"no\"?>\n",
       "<!DOCTYPE svg PUBLIC \"-//W3C//DTD SVG 1.1//EN\"\n",
       " \"http://www.w3.org/Graphics/SVG/1.1/DTD/svg11.dtd\">\n",
       "<!-- Generated by graphviz version 2.48.0 (20210717.1556)\n",
       " -->\n",
       "<!-- Pages: 1 -->\n",
       "<svg width=\"8pt\" height=\"8pt\"\n",
       " viewBox=\"0.00 0.00 8.00 8.00\" xmlns=\"http://www.w3.org/2000/svg\" xmlns:xlink=\"http://www.w3.org/1999/xlink\">\n",
       "<g id=\"graph0\" class=\"graph\" transform=\"scale(1 1) rotate(0) translate(4 4)\">\n",
       "<polygon fill=\"white\" stroke=\"transparent\" points=\"-4,4 -4,-4 4,-4 4,4 -4,4\"/>\n",
       "</g>\n",
       "</svg>\n"
      ],
      "text/plain": [
       "<graphviz.dot.Digraph at 0x12dd46400>"
      ]
     },
     "execution_count": 57,
     "metadata": {},
     "output_type": "execute_result"
    }
   ],
   "source": [
    "bigger_dag[:, 'classifier_score_'].dot_digraph()"
   ]
  },
  {
   "cell_type": "code",
   "execution_count": 35,
   "metadata": {
    "ExecuteTime": {
     "end_time": "2021-08-01T14:49:08.060225Z",
     "start_time": "2021-08-01T14:49:07.767752Z"
    }
   },
   "outputs": [
    {
     "data": {
      "image/svg+xml": [
       "<?xml version=\"1.0\" encoding=\"UTF-8\" standalone=\"no\"?>\n",
       "<!DOCTYPE svg PUBLIC \"-//W3C//DTD SVG 1.1//EN\"\n",
       " \"http://www.w3.org/Graphics/SVG/1.1/DTD/svg11.dtd\">\n",
       "<!-- Generated by graphviz version 2.48.0 (20210717.1556)\n",
       " -->\n",
       "<!-- Pages: 1 -->\n",
       "<svg width=\"316pt\" height=\"476pt\"\n",
       " viewBox=\"0.00 0.00 316.00 476.00\" xmlns=\"http://www.w3.org/2000/svg\" xmlns:xlink=\"http://www.w3.org/1999/xlink\">\n",
       "<g id=\"graph0\" class=\"graph\" transform=\"scale(1 1) rotate(0) translate(4 472)\">\n",
       "<polygon fill=\"white\" stroke=\"transparent\" points=\"-4,4 -4,-472 312,-472 312,4 -4,4\"/>\n",
       "<!-- prediction -->\n",
       "<g id=\"node1\" class=\"node\">\n",
       "<title>prediction</title>\n",
       "<text text-anchor=\"middle\" x=\"223.5\" y=\"-302.3\" font-family=\"Times,serif\" font-size=\"14.00\">prediction</text>\n",
       "</g>\n",
       "<!-- confusion_count_ -->\n",
       "<g id=\"node6\" class=\"node\">\n",
       "<title>confusion_count_</title>\n",
       "<polygon fill=\"none\" stroke=\"black\" points=\"241,-252 124,-252 124,-216 241,-216 241,-252\"/>\n",
       "<text text-anchor=\"middle\" x=\"182.5\" y=\"-230.3\" font-family=\"Times,serif\" font-size=\"14.00\">confusion_count_</text>\n",
       "</g>\n",
       "<!-- prediction&#45;&gt;confusion_count_ -->\n",
       "<g id=\"edge5\" class=\"edge\">\n",
       "<title>prediction&#45;&gt;confusion_count_</title>\n",
       "<path fill=\"none\" stroke=\"black\" d=\"M213.37,-287.7C208.65,-279.64 202.94,-269.89 197.72,-260.98\"/>\n",
       "<polygon fill=\"black\" stroke=\"black\" points=\"200.59,-258.96 192.52,-252.1 194.55,-262.5 200.59,-258.96\"/>\n",
       "</g>\n",
       "<!-- prediction_ -->\n",
       "<g id=\"node2\" class=\"node\">\n",
       "<title>prediction_</title>\n",
       "<polygon fill=\"none\" stroke=\"black\" points=\"263.5,-396 183.5,-396 183.5,-360 263.5,-360 263.5,-396\"/>\n",
       "<text text-anchor=\"middle\" x=\"223.5\" y=\"-374.3\" font-family=\"Times,serif\" font-size=\"14.00\">prediction_</text>\n",
       "</g>\n",
       "<!-- prediction_&#45;&gt;prediction -->\n",
       "<g id=\"edge1\" class=\"edge\">\n",
       "<title>prediction_&#45;&gt;prediction</title>\n",
       "<path fill=\"none\" stroke=\"black\" d=\"M223.5,-359.7C223.5,-351.98 223.5,-342.71 223.5,-334.11\"/>\n",
       "<polygon fill=\"black\" stroke=\"black\" points=\"227,-334.1 223.5,-324.1 220,-334.1 227,-334.1\"/>\n",
       "</g>\n",
       "<!-- predict_proba -->\n",
       "<g id=\"node3\" class=\"node\">\n",
       "<title>predict_proba</title>\n",
       "<text text-anchor=\"middle\" x=\"173.5\" y=\"-446.3\" font-family=\"Times,serif\" font-size=\"14.00\">predict_proba</text>\n",
       "</g>\n",
       "<!-- predict_proba&#45;&gt;prediction_ -->\n",
       "<g id=\"edge2\" class=\"edge\">\n",
       "<title>predict_proba&#45;&gt;prediction_</title>\n",
       "<path fill=\"none\" stroke=\"black\" d=\"M185.86,-431.7C191.73,-423.47 198.87,-413.48 205.34,-404.42\"/>\n",
       "<polygon fill=\"black\" stroke=\"black\" points=\"208.32,-406.28 211.28,-396.1 202.62,-402.21 208.32,-406.28\"/>\n",
       "</g>\n",
       "<!-- threshold -->\n",
       "<g id=\"node4\" class=\"node\">\n",
       "<title>threshold</title>\n",
       "<text text-anchor=\"middle\" x=\"273.5\" y=\"-446.3\" font-family=\"Times,serif\" font-size=\"14.00\">threshold</text>\n",
       "</g>\n",
       "<!-- threshold&#45;&gt;prediction_ -->\n",
       "<g id=\"edge3\" class=\"edge\">\n",
       "<title>threshold&#45;&gt;prediction_</title>\n",
       "<path fill=\"none\" stroke=\"black\" d=\"M261.14,-431.7C255.27,-423.47 248.13,-413.48 241.66,-404.42\"/>\n",
       "<polygon fill=\"black\" stroke=\"black\" points=\"244.38,-402.21 235.72,-396.1 238.68,-406.28 244.38,-402.21\"/>\n",
       "</g>\n",
       "<!-- confusion_count -->\n",
       "<g id=\"node5\" class=\"node\">\n",
       "<title>confusion_count</title>\n",
       "<text text-anchor=\"middle\" x=\"182.5\" y=\"-158.3\" font-family=\"Times,serif\" font-size=\"14.00\">confusion_count</text>\n",
       "</g>\n",
       "<!-- classifier_score_ -->\n",
       "<g id=\"node9\" class=\"node\">\n",
       "<title>classifier_score_</title>\n",
       "<polygon fill=\"none\" stroke=\"black\" points=\"173.5,-108 63.5,-108 63.5,-72 173.5,-72 173.5,-108\"/>\n",
       "<text text-anchor=\"middle\" x=\"118.5\" y=\"-86.3\" font-family=\"Times,serif\" font-size=\"14.00\">classifier_score_</text>\n",
       "</g>\n",
       "<!-- confusion_count&#45;&gt;classifier_score_ -->\n",
       "<g id=\"edge8\" class=\"edge\">\n",
       "<title>confusion_count&#45;&gt;classifier_score_</title>\n",
       "<path fill=\"none\" stroke=\"black\" d=\"M166.68,-143.7C158.93,-135.22 149.46,-124.86 140.98,-115.58\"/>\n",
       "<polygon fill=\"black\" stroke=\"black\" points=\"143.47,-113.12 134.14,-108.1 138.3,-117.85 143.47,-113.12\"/>\n",
       "</g>\n",
       "<!-- confusion_count_&#45;&gt;confusion_count -->\n",
       "<g id=\"edge4\" class=\"edge\">\n",
       "<title>confusion_count_&#45;&gt;confusion_count</title>\n",
       "<path fill=\"none\" stroke=\"black\" d=\"M182.5,-215.7C182.5,-207.98 182.5,-198.71 182.5,-190.11\"/>\n",
       "<polygon fill=\"black\" stroke=\"black\" points=\"186,-190.1 182.5,-180.1 179,-190.1 186,-190.1\"/>\n",
       "</g>\n",
       "<!-- truth -->\n",
       "<g id=\"node7\" class=\"node\">\n",
       "<title>truth</title>\n",
       "<text text-anchor=\"middle\" x=\"141.5\" y=\"-302.3\" font-family=\"Times,serif\" font-size=\"14.00\">truth</text>\n",
       "</g>\n",
       "<!-- truth&#45;&gt;confusion_count_ -->\n",
       "<g id=\"edge6\" class=\"edge\">\n",
       "<title>truth&#45;&gt;confusion_count_</title>\n",
       "<path fill=\"none\" stroke=\"black\" d=\"M151.63,-287.7C156.35,-279.64 162.06,-269.89 167.28,-260.98\"/>\n",
       "<polygon fill=\"black\" stroke=\"black\" points=\"170.45,-262.5 172.48,-252.1 164.41,-258.96 170.45,-262.5\"/>\n",
       "</g>\n",
       "<!-- classifier_score -->\n",
       "<g id=\"node8\" class=\"node\">\n",
       "<title>classifier_score</title>\n",
       "<text text-anchor=\"middle\" x=\"118.5\" y=\"-14.3\" font-family=\"Times,serif\" font-size=\"14.00\">classifier_score</text>\n",
       "</g>\n",
       "<!-- classifier_score_&#45;&gt;classifier_score -->\n",
       "<g id=\"edge7\" class=\"edge\">\n",
       "<title>classifier_score_&#45;&gt;classifier_score</title>\n",
       "<path fill=\"none\" stroke=\"black\" d=\"M118.5,-71.7C118.5,-63.98 118.5,-54.71 118.5,-46.11\"/>\n",
       "<polygon fill=\"black\" stroke=\"black\" points=\"122,-46.1 118.5,-36.1 115,-46.1 122,-46.1\"/>\n",
       "</g>\n",
       "<!-- confusion_value -->\n",
       "<g id=\"node10\" class=\"node\">\n",
       "<title>confusion_value</title>\n",
       "<text text-anchor=\"middle\" x=\"54.5\" y=\"-158.3\" font-family=\"Times,serif\" font-size=\"14.00\">confusion_value</text>\n",
       "</g>\n",
       "<!-- confusion_value&#45;&gt;classifier_score_ -->\n",
       "<g id=\"edge9\" class=\"edge\">\n",
       "<title>confusion_value&#45;&gt;classifier_score_</title>\n",
       "<path fill=\"none\" stroke=\"black\" d=\"M70.32,-143.7C78.07,-135.22 87.54,-124.86 96.02,-115.58\"/>\n",
       "<polygon fill=\"black\" stroke=\"black\" points=\"98.7,-117.85 102.86,-108.1 93.53,-113.12 98.7,-117.85\"/>\n",
       "</g>\n",
       "</g>\n",
       "</svg>\n"
      ],
      "text/plain": [
       "<graphviz.dot.Digraph at 0x12ccc6910>"
      ]
     },
     "execution_count": 35,
     "metadata": {},
     "output_type": "execute_result"
    }
   ],
   "source": [
    "f = bigger_dag[['threshold', 'predict_proba', 'truth'], :]\n",
    "f.dot_digraph()"
   ]
  },
  {
   "cell_type": "code",
   "execution_count": null,
   "metadata": {},
   "outputs": [],
   "source": []
  },
  {
   "cell_type": "code",
   "execution_count": null,
   "metadata": {},
   "outputs": [],
   "source": []
  },
  {
   "cell_type": "code",
   "execution_count": null,
   "metadata": {},
   "outputs": [],
   "source": []
  },
  {
   "cell_type": "code",
   "execution_count": null,
   "metadata": {},
   "outputs": [],
   "source": []
  },
  {
   "cell_type": "code",
   "execution_count": null,
   "metadata": {},
   "outputs": [],
   "source": []
  },
  {
   "cell_type": "code",
   "execution_count": null,
   "metadata": {},
   "outputs": [],
   "source": []
  },
  {
   "cell_type": "markdown",
   "metadata": {},
   "source": [
    "# Scrap"
   ]
  },
  {
   "cell_type": "code",
   "execution_count": 35,
   "metadata": {
    "ExecuteTime": {
     "end_time": "2021-07-31T08:53:53.175545Z",
     "start_time": "2021-07-31T08:53:53.115629Z"
    }
   },
   "outputs": [],
   "source": [
    "from typing import Any, Mapping, Sized, MutableMapping, Iterable\n",
    "from meshed.itools import children, parents\n",
    "\n",
    "\n",
    "def coparents_sets(g: Mapping, source: Iterable):\n",
    "    res = []\n",
    "    for node in source:\n",
    "        for kid in children(g, [node]):\n",
    "            res.append(frozenset(parents(g, [kid])))\n",
    "    return set(res)\n",
    "\n",
    "\n",
    "def known_parents(g: Mapping, kid, source):\n",
    "    return parents(g, [kid]).issubset(set(source))\n",
    "\n",
    "\n",
    "def list_coparents(g: Mapping, coparent):\n",
    "    all_kids = children(g, [coparent])\n",
    "    result = [parents(g, [kid]) for kid in all_kids]\n",
    "\n",
    "    return result\n",
    "\n",
    "\n",
    "def kids_of_united_family(g: Mapping, source: Iterable):\n",
    "    res = set()\n",
    "    for coparent in source:\n",
    "        for kid in children(g, [coparent]):\n",
    "            if known_parents(g, kid, source):\n",
    "                res.add(kid)\n",
    "    return res\n",
    "\n",
    "\n",
    "def extended_family(g: Mapping, source: Iterable):\n",
    "    res = set(source)\n",
    "    while True:\n",
    "        allowed_kids = kids_of_united_family(g, res)\n",
    "        if allowed_kids.issubset(res):\n",
    "            return res\n",
    "        res = res.union(allowed_kids)\n",
    "\n",
    "\n",
    "def funcnode_only(source: Iterable):\n",
    "    return [item for item in source if isinstance(item, FuncNode)]\n",
    "\n",
    "\n",
    "def dag_from_funcnodes(dag, input_names):\n",
    "    kids = extended_family(g=dag.graph, source=input_names)\n",
    "    fnodes = funcnode_only(kids)\n",
    "\n",
    "    return DAG(fnodes)"
   ]
  },
  {
   "cell_type": "code",
   "execution_count": 36,
   "metadata": {
    "ExecuteTime": {
     "end_time": "2021-07-31T08:54:21.141263Z",
     "start_time": "2021-07-31T08:54:21.109850Z"
    }
   },
   "outputs": [],
   "source": [
    "d = bigger_dag"
   ]
  },
  {
   "cell_type": "code",
   "execution_count": 37,
   "metadata": {
    "ExecuteTime": {
     "end_time": "2021-07-31T08:54:26.699801Z",
     "start_time": "2021-07-31T08:54:25.836771Z"
    }
   },
   "outputs": [
    {
     "data": {
      "image/svg+xml": [
       "<?xml version=\"1.0\" encoding=\"UTF-8\" standalone=\"no\"?>\n",
       "<!DOCTYPE svg PUBLIC \"-//W3C//DTD SVG 1.1//EN\"\n",
       " \"http://www.w3.org/Graphics/SVG/1.1/DTD/svg11.dtd\">\n",
       "<!-- Generated by graphviz version 2.48.0 (20210717.1556)\n",
       " -->\n",
       "<!-- Pages: 1 -->\n",
       "<svg width=\"271pt\" height=\"908pt\"\n",
       " viewBox=\"0.00 0.00 271.00 908.00\" xmlns=\"http://www.w3.org/2000/svg\" xmlns:xlink=\"http://www.w3.org/1999/xlink\">\n",
       "<g id=\"graph0\" class=\"graph\" transform=\"scale(1 1) rotate(0) translate(4 904)\">\n",
       "<polygon fill=\"white\" stroke=\"transparent\" points=\"-4,4 -4,-904 267,-904 267,4 -4,4\"/>\n",
       "<!-- train_test_split -->\n",
       "<g id=\"node1\" class=\"node\">\n",
       "<title>train_test_split</title>\n",
       "<text text-anchor=\"middle\" x=\"195.5\" y=\"-734.3\" font-family=\"Times,serif\" font-size=\"14.00\">train_test_split</text>\n",
       "</g>\n",
       "<!-- test_y_ -->\n",
       "<g id=\"node6\" class=\"node\">\n",
       "<title>test_y_</title>\n",
       "<polygon fill=\"none\" stroke=\"black\" points=\"263,-684 206,-684 206,-648 263,-648 263,-684\"/>\n",
       "<text text-anchor=\"middle\" x=\"234.5\" y=\"-662.3\" font-family=\"Times,serif\" font-size=\"14.00\">test_y_</text>\n",
       "</g>\n",
       "<!-- train_test_split&#45;&gt;test_y_ -->\n",
       "<g id=\"edge5\" class=\"edge\">\n",
       "<title>train_test_split&#45;&gt;test_y_</title>\n",
       "<path fill=\"none\" stroke=\"black\" d=\"M205.14,-719.7C209.63,-711.64 215.06,-701.89 220.02,-692.98\"/>\n",
       "<polygon fill=\"black\" stroke=\"black\" points=\"223.16,-694.54 224.97,-684.1 217.05,-691.14 223.16,-694.54\"/>\n",
       "</g>\n",
       "<!-- test_X_ -->\n",
       "<g id=\"node10\" class=\"node\">\n",
       "<title>test_X_</title>\n",
       "<polygon fill=\"none\" stroke=\"black\" points=\"187.5,-684 127.5,-684 127.5,-648 187.5,-648 187.5,-684\"/>\n",
       "<text text-anchor=\"middle\" x=\"157.5\" y=\"-662.3\" font-family=\"Times,serif\" font-size=\"14.00\">test_X_</text>\n",
       "</g>\n",
       "<!-- train_test_split&#45;&gt;test_X_ -->\n",
       "<g id=\"edge9\" class=\"edge\">\n",
       "<title>train_test_split&#45;&gt;test_X_</title>\n",
       "<path fill=\"none\" stroke=\"black\" d=\"M186.11,-719.7C181.74,-711.64 176.44,-701.89 171.6,-692.98\"/>\n",
       "<polygon fill=\"black\" stroke=\"black\" points=\"174.63,-691.22 166.79,-684.1 168.48,-694.56 174.63,-691.22\"/>\n",
       "</g>\n",
       "<!-- train_test_split_ -->\n",
       "<g id=\"node2\" class=\"node\">\n",
       "<title>train_test_split_</title>\n",
       "<polygon fill=\"none\" stroke=\"black\" points=\"249,-828 142,-828 142,-792 249,-792 249,-828\"/>\n",
       "<text text-anchor=\"middle\" x=\"195.5\" y=\"-806.3\" font-family=\"Times,serif\" font-size=\"14.00\">train_test_split_</text>\n",
       "</g>\n",
       "<!-- train_test_split_&#45;&gt;train_test_split -->\n",
       "<g id=\"edge1\" class=\"edge\">\n",
       "<title>train_test_split_&#45;&gt;train_test_split</title>\n",
       "<path fill=\"none\" stroke=\"black\" d=\"M195.5,-791.7C195.5,-783.98 195.5,-774.71 195.5,-766.11\"/>\n",
       "<polygon fill=\"black\" stroke=\"black\" points=\"199,-766.1 195.5,-756.1 192,-766.1 199,-766.1\"/>\n",
       "</g>\n",
       "<!-- arrays -->\n",
       "<g id=\"node3\" class=\"node\">\n",
       "<title>arrays</title>\n",
       "<text text-anchor=\"middle\" x=\"158.5\" y=\"-878.3\" font-family=\"Times,serif\" font-size=\"14.00\">arrays</text>\n",
       "</g>\n",
       "<!-- arrays&#45;&gt;train_test_split_ -->\n",
       "<g id=\"edge2\" class=\"edge\">\n",
       "<title>arrays&#45;&gt;train_test_split_</title>\n",
       "<path fill=\"none\" stroke=\"black\" d=\"M167.65,-863.7C171.9,-855.64 177.06,-845.89 181.77,-836.98\"/>\n",
       "<polygon fill=\"black\" stroke=\"black\" points=\"184.88,-838.58 186.46,-828.1 178.69,-835.31 184.88,-838.58\"/>\n",
       "</g>\n",
       "<!-- options -->\n",
       "<g id=\"node4\" class=\"node\">\n",
       "<title>options</title>\n",
       "<text text-anchor=\"middle\" x=\"232.5\" y=\"-878.3\" font-family=\"Times,serif\" font-size=\"14.00\">options</text>\n",
       "</g>\n",
       "<!-- options&#45;&gt;train_test_split_ -->\n",
       "<g id=\"edge3\" class=\"edge\">\n",
       "<title>options&#45;&gt;train_test_split_</title>\n",
       "<path fill=\"none\" stroke=\"black\" d=\"M223.35,-863.7C219.1,-855.64 213.94,-845.89 209.23,-836.98\"/>\n",
       "<polygon fill=\"black\" stroke=\"black\" points=\"212.31,-835.31 204.54,-828.1 206.12,-838.58 212.31,-835.31\"/>\n",
       "</g>\n",
       "<!-- test_y -->\n",
       "<g id=\"node5\" class=\"node\">\n",
       "<title>test_y</title>\n",
       "<text text-anchor=\"middle\" x=\"234.5\" y=\"-590.3\" font-family=\"Times,serif\" font-size=\"14.00\">test_y</text>\n",
       "</g>\n",
       "<!-- truth_ -->\n",
       "<g id=\"node8\" class=\"node\">\n",
       "<title>truth_</title>\n",
       "<polygon fill=\"none\" stroke=\"black\" points=\"261.5,-540 207.5,-540 207.5,-504 261.5,-504 261.5,-540\"/>\n",
       "<text text-anchor=\"middle\" x=\"234.5\" y=\"-518.3\" font-family=\"Times,serif\" font-size=\"14.00\">truth_</text>\n",
       "</g>\n",
       "<!-- test_y&#45;&gt;truth_ -->\n",
       "<g id=\"edge7\" class=\"edge\">\n",
       "<title>test_y&#45;&gt;truth_</title>\n",
       "<path fill=\"none\" stroke=\"black\" d=\"M234.5,-575.7C234.5,-567.98 234.5,-558.71 234.5,-550.11\"/>\n",
       "<polygon fill=\"black\" stroke=\"black\" points=\"238,-550.1 234.5,-540.1 231,-550.1 238,-550.1\"/>\n",
       "</g>\n",
       "<!-- test_y_&#45;&gt;test_y -->\n",
       "<g id=\"edge4\" class=\"edge\">\n",
       "<title>test_y_&#45;&gt;test_y</title>\n",
       "<path fill=\"none\" stroke=\"black\" d=\"M234.5,-647.7C234.5,-639.98 234.5,-630.71 234.5,-622.11\"/>\n",
       "<polygon fill=\"black\" stroke=\"black\" points=\"238,-622.1 234.5,-612.1 231,-622.1 238,-622.1\"/>\n",
       "</g>\n",
       "<!-- truth -->\n",
       "<g id=\"node7\" class=\"node\">\n",
       "<title>truth</title>\n",
       "<text text-anchor=\"middle\" x=\"228.5\" y=\"-374.3\" font-family=\"Times,serif\" font-size=\"14.00\">truth</text>\n",
       "</g>\n",
       "<!-- confusion_count_ -->\n",
       "<g id=\"node18\" class=\"node\">\n",
       "<title>confusion_count_</title>\n",
       "<polygon fill=\"none\" stroke=\"black\" points=\"241,-252 124,-252 124,-216 241,-216 241,-252\"/>\n",
       "<text text-anchor=\"middle\" x=\"182.5\" y=\"-230.3\" font-family=\"Times,serif\" font-size=\"14.00\">confusion_count_</text>\n",
       "</g>\n",
       "<!-- truth&#45;&gt;confusion_count_ -->\n",
       "<g id=\"edge18\" class=\"edge\">\n",
       "<title>truth&#45;&gt;confusion_count_</title>\n",
       "<path fill=\"none\" stroke=\"black\" d=\"M222.95,-359.87C215.08,-335.56 200.58,-290.82 191.25,-262.01\"/>\n",
       "<polygon fill=\"black\" stroke=\"black\" points=\"194.48,-260.62 188.07,-252.19 187.82,-262.78 194.48,-260.62\"/>\n",
       "</g>\n",
       "<!-- truth_&#45;&gt;truth -->\n",
       "<g id=\"edge6\" class=\"edge\">\n",
       "<title>truth_&#45;&gt;truth</title>\n",
       "<path fill=\"none\" stroke=\"black\" d=\"M233.78,-503.87C232.75,-479.67 230.88,-435.21 229.66,-406.39\"/>\n",
       "<polygon fill=\"black\" stroke=\"black\" points=\"233.15,-406.03 229.23,-396.19 226.15,-406.33 233.15,-406.03\"/>\n",
       "</g>\n",
       "<!-- test_X -->\n",
       "<g id=\"node9\" class=\"node\">\n",
       "<title>test_X</title>\n",
       "<text text-anchor=\"middle\" x=\"157.5\" y=\"-590.3\" font-family=\"Times,serif\" font-size=\"14.00\">test_X</text>\n",
       "</g>\n",
       "<!-- predict_proba_ -->\n",
       "<g id=\"node12\" class=\"node\">\n",
       "<title>predict_proba_</title>\n",
       "<polygon fill=\"none\" stroke=\"black\" points=\"189,-540 88,-540 88,-504 189,-504 189,-540\"/>\n",
       "<text text-anchor=\"middle\" x=\"138.5\" y=\"-518.3\" font-family=\"Times,serif\" font-size=\"14.00\">predict_proba_</text>\n",
       "</g>\n",
       "<!-- test_X&#45;&gt;predict_proba_ -->\n",
       "<g id=\"edge12\" class=\"edge\">\n",
       "<title>test_X&#45;&gt;predict_proba_</title>\n",
       "<path fill=\"none\" stroke=\"black\" d=\"M152.8,-575.7C150.69,-567.9 148.14,-558.51 145.78,-549.83\"/>\n",
       "<polygon fill=\"black\" stroke=\"black\" points=\"149.14,-548.84 143.14,-540.1 142.38,-550.67 149.14,-548.84\"/>\n",
       "</g>\n",
       "<!-- test_X_&#45;&gt;test_X -->\n",
       "<g id=\"edge8\" class=\"edge\">\n",
       "<title>test_X_&#45;&gt;test_X</title>\n",
       "<path fill=\"none\" stroke=\"black\" d=\"M157.5,-647.7C157.5,-639.98 157.5,-630.71 157.5,-622.11\"/>\n",
       "<polygon fill=\"black\" stroke=\"black\" points=\"161,-622.1 157.5,-612.1 154,-622.1 161,-622.1\"/>\n",
       "</g>\n",
       "<!-- predict_proba -->\n",
       "<g id=\"node11\" class=\"node\">\n",
       "<title>predict_proba</title>\n",
       "<text text-anchor=\"middle\" x=\"140.5\" y=\"-446.3\" font-family=\"Times,serif\" font-size=\"14.00\">predict_proba</text>\n",
       "</g>\n",
       "<!-- prediction_ -->\n",
       "<g id=\"node15\" class=\"node\">\n",
       "<title>prediction_</title>\n",
       "<polygon fill=\"none\" stroke=\"black\" points=\"180.5,-396 100.5,-396 100.5,-360 180.5,-360 180.5,-396\"/>\n",
       "<text text-anchor=\"middle\" x=\"140.5\" y=\"-374.3\" font-family=\"Times,serif\" font-size=\"14.00\">prediction_</text>\n",
       "</g>\n",
       "<!-- predict_proba&#45;&gt;prediction_ -->\n",
       "<g id=\"edge14\" class=\"edge\">\n",
       "<title>predict_proba&#45;&gt;prediction_</title>\n",
       "<path fill=\"none\" stroke=\"black\" d=\"M140.5,-431.7C140.5,-423.98 140.5,-414.71 140.5,-406.11\"/>\n",
       "<polygon fill=\"black\" stroke=\"black\" points=\"144,-406.1 140.5,-396.1 137,-406.1 144,-406.1\"/>\n",
       "</g>\n",
       "<!-- predict_proba_&#45;&gt;predict_proba -->\n",
       "<g id=\"edge10\" class=\"edge\">\n",
       "<title>predict_proba_&#45;&gt;predict_proba</title>\n",
       "<path fill=\"none\" stroke=\"black\" d=\"M138.99,-503.7C139.21,-495.98 139.48,-486.71 139.73,-478.11\"/>\n",
       "<polygon fill=\"black\" stroke=\"black\" points=\"143.22,-478.2 140.01,-468.1 136.23,-478 143.22,-478.2\"/>\n",
       "</g>\n",
       "<!-- model -->\n",
       "<g id=\"node13\" class=\"node\">\n",
       "<title>model</title>\n",
       "<text text-anchor=\"middle\" x=\"85.5\" y=\"-590.3\" font-family=\"Times,serif\" font-size=\"14.00\">model</text>\n",
       "</g>\n",
       "<!-- model&#45;&gt;predict_proba_ -->\n",
       "<g id=\"edge11\" class=\"edge\">\n",
       "<title>model&#45;&gt;predict_proba_</title>\n",
       "<path fill=\"none\" stroke=\"black\" d=\"M98.6,-575.7C104.89,-567.39 112.55,-557.28 119.46,-548.14\"/>\n",
       "<polygon fill=\"black\" stroke=\"black\" points=\"122.3,-550.19 125.55,-540.1 116.72,-545.96 122.3,-550.19\"/>\n",
       "</g>\n",
       "<!-- prediction -->\n",
       "<g id=\"node14\" class=\"node\">\n",
       "<title>prediction</title>\n",
       "<text text-anchor=\"middle\" x=\"150.5\" y=\"-302.3\" font-family=\"Times,serif\" font-size=\"14.00\">prediction</text>\n",
       "</g>\n",
       "<!-- prediction&#45;&gt;confusion_count_ -->\n",
       "<g id=\"edge17\" class=\"edge\">\n",
       "<title>prediction&#45;&gt;confusion_count_</title>\n",
       "<path fill=\"none\" stroke=\"black\" d=\"M158.41,-287.7C162.05,-279.73 166.45,-270.1 170.49,-261.26\"/>\n",
       "<polygon fill=\"black\" stroke=\"black\" points=\"173.71,-262.65 174.68,-252.1 167.34,-259.74 173.71,-262.65\"/>\n",
       "</g>\n",
       "<!-- prediction_&#45;&gt;prediction -->\n",
       "<g id=\"edge13\" class=\"edge\">\n",
       "<title>prediction_&#45;&gt;prediction</title>\n",
       "<path fill=\"none\" stroke=\"black\" d=\"M142.97,-359.7C144.07,-351.98 145.4,-342.71 146.63,-334.11\"/>\n",
       "<polygon fill=\"black\" stroke=\"black\" points=\"150.11,-334.5 148.06,-324.1 143.18,-333.51 150.11,-334.5\"/>\n",
       "</g>\n",
       "<!-- threshold -->\n",
       "<g id=\"node16\" class=\"node\">\n",
       "<title>threshold</title>\n",
       "<text text-anchor=\"middle\" x=\"40.5\" y=\"-446.3\" font-family=\"Times,serif\" font-size=\"14.00\">threshold</text>\n",
       "</g>\n",
       "<!-- threshold&#45;&gt;prediction_ -->\n",
       "<g id=\"edge15\" class=\"edge\">\n",
       "<title>threshold&#45;&gt;prediction_</title>\n",
       "<path fill=\"none\" stroke=\"black\" d=\"M64.96,-431.88C77.8,-422.89 93.7,-411.76 107.59,-402.03\"/>\n",
       "<polygon fill=\"black\" stroke=\"black\" points=\"109.76,-404.79 115.94,-396.19 105.74,-399.06 109.76,-404.79\"/>\n",
       "</g>\n",
       "<!-- confusion_count -->\n",
       "<g id=\"node17\" class=\"node\">\n",
       "<title>confusion_count</title>\n",
       "<text text-anchor=\"middle\" x=\"182.5\" y=\"-158.3\" font-family=\"Times,serif\" font-size=\"14.00\">confusion_count</text>\n",
       "</g>\n",
       "<!-- classifier_score_ -->\n",
       "<g id=\"node20\" class=\"node\">\n",
       "<title>classifier_score_</title>\n",
       "<polygon fill=\"none\" stroke=\"black\" points=\"173.5,-108 63.5,-108 63.5,-72 173.5,-72 173.5,-108\"/>\n",
       "<text text-anchor=\"middle\" x=\"118.5\" y=\"-86.3\" font-family=\"Times,serif\" font-size=\"14.00\">classifier_score_</text>\n",
       "</g>\n",
       "<!-- confusion_count&#45;&gt;classifier_score_ -->\n",
       "<g id=\"edge20\" class=\"edge\">\n",
       "<title>confusion_count&#45;&gt;classifier_score_</title>\n",
       "<path fill=\"none\" stroke=\"black\" d=\"M166.68,-143.7C158.93,-135.22 149.46,-124.86 140.98,-115.58\"/>\n",
       "<polygon fill=\"black\" stroke=\"black\" points=\"143.47,-113.12 134.14,-108.1 138.3,-117.85 143.47,-113.12\"/>\n",
       "</g>\n",
       "<!-- confusion_count_&#45;&gt;confusion_count -->\n",
       "<g id=\"edge16\" class=\"edge\">\n",
       "<title>confusion_count_&#45;&gt;confusion_count</title>\n",
       "<path fill=\"none\" stroke=\"black\" d=\"M182.5,-215.7C182.5,-207.98 182.5,-198.71 182.5,-190.11\"/>\n",
       "<polygon fill=\"black\" stroke=\"black\" points=\"186,-190.1 182.5,-180.1 179,-190.1 186,-190.1\"/>\n",
       "</g>\n",
       "<!-- classifier_score -->\n",
       "<g id=\"node19\" class=\"node\">\n",
       "<title>classifier_score</title>\n",
       "<text text-anchor=\"middle\" x=\"118.5\" y=\"-14.3\" font-family=\"Times,serif\" font-size=\"14.00\">classifier_score</text>\n",
       "</g>\n",
       "<!-- classifier_score_&#45;&gt;classifier_score -->\n",
       "<g id=\"edge19\" class=\"edge\">\n",
       "<title>classifier_score_&#45;&gt;classifier_score</title>\n",
       "<path fill=\"none\" stroke=\"black\" d=\"M118.5,-71.7C118.5,-63.98 118.5,-54.71 118.5,-46.11\"/>\n",
       "<polygon fill=\"black\" stroke=\"black\" points=\"122,-46.1 118.5,-36.1 115,-46.1 122,-46.1\"/>\n",
       "</g>\n",
       "<!-- confusion_value -->\n",
       "<g id=\"node21\" class=\"node\">\n",
       "<title>confusion_value</title>\n",
       "<text text-anchor=\"middle\" x=\"54.5\" y=\"-158.3\" font-family=\"Times,serif\" font-size=\"14.00\">confusion_value</text>\n",
       "</g>\n",
       "<!-- confusion_value&#45;&gt;classifier_score_ -->\n",
       "<g id=\"edge21\" class=\"edge\">\n",
       "<title>confusion_value&#45;&gt;classifier_score_</title>\n",
       "<path fill=\"none\" stroke=\"black\" d=\"M70.32,-143.7C78.07,-135.22 87.54,-124.86 96.02,-115.58\"/>\n",
       "<polygon fill=\"black\" stroke=\"black\" points=\"98.7,-117.85 102.86,-108.1 93.53,-113.12 98.7,-117.85\"/>\n",
       "</g>\n",
       "</g>\n",
       "</svg>\n"
      ],
      "text/plain": [
       "<graphviz.dot.Digraph at 0x12b78b580>"
      ]
     },
     "execution_count": 37,
     "metadata": {},
     "output_type": "execute_result"
    }
   ],
   "source": [
    "d.dot_digraph()"
   ]
  },
  {
   "cell_type": "code",
   "execution_count": 43,
   "metadata": {
    "ExecuteTime": {
     "end_time": "2021-07-31T08:58:30.882866Z",
     "start_time": "2021-07-31T08:58:30.808752Z"
    }
   },
   "outputs": [
    {
     "data": {
      "image/svg+xml": [
       "<?xml version=\"1.0\" encoding=\"UTF-8\" standalone=\"no\"?>\n",
       "<!DOCTYPE svg PUBLIC \"-//W3C//DTD SVG 1.1//EN\"\n",
       " \"http://www.w3.org/Graphics/SVG/1.1/DTD/svg11.dtd\">\n",
       "<!-- Generated by graphviz version 2.48.0 (20210717.1556)\n",
       " -->\n",
       "<!-- Pages: 1 -->\n",
       "<svg width=\"8pt\" height=\"8pt\"\n",
       " viewBox=\"0.00 0.00 8.00 8.00\" xmlns=\"http://www.w3.org/2000/svg\" xmlns:xlink=\"http://www.w3.org/1999/xlink\">\n",
       "<g id=\"graph0\" class=\"graph\" transform=\"scale(1 1) rotate(0) translate(4 4)\">\n",
       "<polygon fill=\"white\" stroke=\"transparent\" points=\"-4,4 -4,-4 4,-4 4,4 -4,4\"/>\n",
       "</g>\n",
       "</svg>\n"
      ],
      "text/plain": [
       "<graphviz.dot.Digraph at 0x12b478130>"
      ]
     },
     "execution_count": 43,
     "metadata": {},
     "output_type": "execute_result"
    }
   ],
   "source": [
    "dd = dag_from_funcnodes(d, ['theshold', 'predict_proba', 'truth'])\n",
    "dd.dot_digraph()"
   ]
  },
  {
   "cell_type": "code",
   "execution_count": 41,
   "metadata": {
    "ExecuteTime": {
     "end_time": "2021-07-31T08:56:15.256367Z",
     "start_time": "2021-07-31T08:56:15.224161Z"
    }
   },
   "outputs": [
    {
     "data": {
      "text/plain": [
       "{FuncNode(prediction,truth -> confusion_count_ -> confusion_count),\n",
       " 'confusion_count',\n",
       " 'prediction',\n",
       " 'truth'}"
      ]
     },
     "execution_count": 41,
     "metadata": {},
     "output_type": "execute_result"
    }
   ],
   "source": [
    "extended_family(d.graph, ['prediction', 'truth'])"
   ]
  },
  {
   "cell_type": "code",
   "execution_count": 47,
   "metadata": {
    "ExecuteTime": {
     "end_time": "2021-07-31T09:03:58.218681Z",
     "start_time": "2021-07-31T09:03:58.168039Z"
    }
   },
   "outputs": [],
   "source": [
    "g = d.graph"
   ]
  },
  {
   "cell_type": "code",
   "execution_count": 59,
   "metadata": {
    "ExecuteTime": {
     "end_time": "2021-07-31T09:10:45.939053Z",
     "start_time": "2021-07-31T09:10:45.903997Z"
    }
   },
   "outputs": [
    {
     "data": {
      "text/plain": [
       "[FuncNode(train_test_split -> test_X_ -> test_X),\n",
       " FuncNode(train_test_split -> test_y_ -> test_y),\n",
       " FuncNode(prediction,truth -> confusion_count_ -> confusion_count),\n",
       " FuncNode(test_y -> truth_ -> truth),\n",
       " FuncNode(predict_proba,threshold -> prediction_ -> prediction),\n",
       " FuncNode(confusion_count,confusion_value -> classifier_score_ -> classifier_score),\n",
       " FuncNode(model,test_X -> predict_proba_ -> predict_proba)]"
      ]
     },
     "execution_count": 59,
     "metadata": {},
     "output_type": "execute_result"
    }
   ],
   "source": [
    "from functools import partial\n",
    "is_func_node = lambda x: isinstance(x, FuncNode)\n",
    "t = list(filter(is_func_node, descendants(g, ['train_test_split'])))\n",
    "t"
   ]
  },
  {
   "cell_type": "code",
   "execution_count": 60,
   "metadata": {
    "ExecuteTime": {
     "end_time": "2021-07-31T09:10:50.558129Z",
     "start_time": "2021-07-31T09:10:50.526074Z"
    }
   },
   "outputs": [
    {
     "data": {
      "text/plain": [
       "[FuncNode(train_test_split -> test_X_ -> test_X),\n",
       " FuncNode(arrays,options -> train_test_split_ -> train_test_split),\n",
       " FuncNode(predict_proba,threshold -> prediction_ -> prediction),\n",
       " FuncNode(model,test_X -> predict_proba_ -> predict_proba)]"
      ]
     },
     "execution_count": 60,
     "metadata": {},
     "output_type": "execute_result"
    }
   ],
   "source": [
    "tt = list(filter(is_func_node, ancestors(g, ['prediction'])))\n",
    "tt"
   ]
  },
  {
   "cell_type": "code",
   "execution_count": 64,
   "metadata": {
    "ExecuteTime": {
     "end_time": "2021-07-31T09:11:54.043830Z",
     "start_time": "2021-07-31T09:11:53.785258Z"
    }
   },
   "outputs": [
    {
     "data": {
      "image/svg+xml": [
       "<?xml version=\"1.0\" encoding=\"UTF-8\" standalone=\"no\"?>\n",
       "<!DOCTYPE svg PUBLIC \"-//W3C//DTD SVG 1.1//EN\"\n",
       " \"http://www.w3.org/Graphics/SVG/1.1/DTD/svg11.dtd\">\n",
       "<!-- Generated by graphviz version 2.48.0 (20210717.1556)\n",
       " -->\n",
       "<!-- Pages: 1 -->\n",
       "<svg width=\"229pt\" height=\"476pt\"\n",
       " viewBox=\"0.00 0.00 228.50 476.00\" xmlns=\"http://www.w3.org/2000/svg\" xmlns:xlink=\"http://www.w3.org/1999/xlink\">\n",
       "<g id=\"graph0\" class=\"graph\" transform=\"scale(1 1) rotate(0) translate(4 472)\">\n",
       "<polygon fill=\"white\" stroke=\"transparent\" points=\"-4,4 -4,-472 224.5,-472 224.5,4 -4,4\"/>\n",
       "<!-- test_X -->\n",
       "<g id=\"node1\" class=\"node\">\n",
       "<title>test_X</title>\n",
       "<text text-anchor=\"middle\" x=\"170.5\" y=\"-302.3\" font-family=\"Times,serif\" font-size=\"14.00\">test_X</text>\n",
       "</g>\n",
       "<!-- predict_proba_ -->\n",
       "<g id=\"node5\" class=\"node\">\n",
       "<title>predict_proba_</title>\n",
       "<polygon fill=\"none\" stroke=\"black\" points=\"185,-252 84,-252 84,-216 185,-216 185,-252\"/>\n",
       "<text text-anchor=\"middle\" x=\"134.5\" y=\"-230.3\" font-family=\"Times,serif\" font-size=\"14.00\">predict_proba_</text>\n",
       "</g>\n",
       "<!-- test_X&#45;&gt;predict_proba_ -->\n",
       "<g id=\"edge5\" class=\"edge\">\n",
       "<title>test_X&#45;&gt;predict_proba_</title>\n",
       "<path fill=\"none\" stroke=\"black\" d=\"M161.6,-287.7C157.5,-279.73 152.55,-270.1 148.01,-261.26\"/>\n",
       "<polygon fill=\"black\" stroke=\"black\" points=\"150.98,-259.4 143.3,-252.1 144.76,-262.6 150.98,-259.4\"/>\n",
       "</g>\n",
       "<!-- test_X_ -->\n",
       "<g id=\"node2\" class=\"node\">\n",
       "<title>test_X_</title>\n",
       "<polygon fill=\"none\" stroke=\"black\" points=\"200.5,-396 140.5,-396 140.5,-360 200.5,-360 200.5,-396\"/>\n",
       "<text text-anchor=\"middle\" x=\"170.5\" y=\"-374.3\" font-family=\"Times,serif\" font-size=\"14.00\">test_X_</text>\n",
       "</g>\n",
       "<!-- test_X_&#45;&gt;test_X -->\n",
       "<g id=\"edge1\" class=\"edge\">\n",
       "<title>test_X_&#45;&gt;test_X</title>\n",
       "<path fill=\"none\" stroke=\"black\" d=\"M170.5,-359.7C170.5,-351.98 170.5,-342.71 170.5,-334.11\"/>\n",
       "<polygon fill=\"black\" stroke=\"black\" points=\"174,-334.1 170.5,-324.1 167,-334.1 174,-334.1\"/>\n",
       "</g>\n",
       "<!-- train_test_split -->\n",
       "<g id=\"node3\" class=\"node\">\n",
       "<title>train_test_split</title>\n",
       "<text text-anchor=\"middle\" x=\"170.5\" y=\"-446.3\" font-family=\"Times,serif\" font-size=\"14.00\">train_test_split</text>\n",
       "</g>\n",
       "<!-- train_test_split&#45;&gt;test_X_ -->\n",
       "<g id=\"edge2\" class=\"edge\">\n",
       "<title>train_test_split&#45;&gt;test_X_</title>\n",
       "<path fill=\"none\" stroke=\"black\" d=\"M170.5,-431.7C170.5,-423.98 170.5,-414.71 170.5,-406.11\"/>\n",
       "<polygon fill=\"black\" stroke=\"black\" points=\"174,-406.1 170.5,-396.1 167,-406.1 174,-406.1\"/>\n",
       "</g>\n",
       "<!-- predict_proba -->\n",
       "<g id=\"node4\" class=\"node\">\n",
       "<title>predict_proba</title>\n",
       "<text text-anchor=\"middle\" x=\"134.5\" y=\"-158.3\" font-family=\"Times,serif\" font-size=\"14.00\">predict_proba</text>\n",
       "</g>\n",
       "<!-- prediction_ -->\n",
       "<g id=\"node8\" class=\"node\">\n",
       "<title>prediction_</title>\n",
       "<polygon fill=\"none\" stroke=\"black\" points=\"124.5,-108 44.5,-108 44.5,-72 124.5,-72 124.5,-108\"/>\n",
       "<text text-anchor=\"middle\" x=\"84.5\" y=\"-86.3\" font-family=\"Times,serif\" font-size=\"14.00\">prediction_</text>\n",
       "</g>\n",
       "<!-- predict_proba&#45;&gt;prediction_ -->\n",
       "<g id=\"edge7\" class=\"edge\">\n",
       "<title>predict_proba&#45;&gt;prediction_</title>\n",
       "<path fill=\"none\" stroke=\"black\" d=\"M122.14,-143.7C116.27,-135.47 109.13,-125.48 102.66,-116.42\"/>\n",
       "<polygon fill=\"black\" stroke=\"black\" points=\"105.38,-114.21 96.72,-108.1 99.68,-118.28 105.38,-114.21\"/>\n",
       "</g>\n",
       "<!-- predict_proba_&#45;&gt;predict_proba -->\n",
       "<g id=\"edge3\" class=\"edge\">\n",
       "<title>predict_proba_&#45;&gt;predict_proba</title>\n",
       "<path fill=\"none\" stroke=\"black\" d=\"M134.5,-215.7C134.5,-207.98 134.5,-198.71 134.5,-190.11\"/>\n",
       "<polygon fill=\"black\" stroke=\"black\" points=\"138,-190.1 134.5,-180.1 131,-190.1 138,-190.1\"/>\n",
       "</g>\n",
       "<!-- model -->\n",
       "<g id=\"node6\" class=\"node\">\n",
       "<title>model</title>\n",
       "<text text-anchor=\"middle\" x=\"98.5\" y=\"-302.3\" font-family=\"Times,serif\" font-size=\"14.00\">model</text>\n",
       "</g>\n",
       "<!-- model&#45;&gt;predict_proba_ -->\n",
       "<g id=\"edge4\" class=\"edge\">\n",
       "<title>model&#45;&gt;predict_proba_</title>\n",
       "<path fill=\"none\" stroke=\"black\" d=\"M107.4,-287.7C111.5,-279.73 116.45,-270.1 120.99,-261.26\"/>\n",
       "<polygon fill=\"black\" stroke=\"black\" points=\"124.24,-262.6 125.7,-252.1 118.02,-259.4 124.24,-262.6\"/>\n",
       "</g>\n",
       "<!-- prediction -->\n",
       "<g id=\"node7\" class=\"node\">\n",
       "<title>prediction</title>\n",
       "<text text-anchor=\"middle\" x=\"84.5\" y=\"-14.3\" font-family=\"Times,serif\" font-size=\"14.00\">prediction</text>\n",
       "</g>\n",
       "<!-- prediction_&#45;&gt;prediction -->\n",
       "<g id=\"edge6\" class=\"edge\">\n",
       "<title>prediction_&#45;&gt;prediction</title>\n",
       "<path fill=\"none\" stroke=\"black\" d=\"M84.5,-71.7C84.5,-63.98 84.5,-54.71 84.5,-46.11\"/>\n",
       "<polygon fill=\"black\" stroke=\"black\" points=\"88,-46.1 84.5,-36.1 81,-46.1 88,-46.1\"/>\n",
       "</g>\n",
       "<!-- threshold -->\n",
       "<g id=\"node9\" class=\"node\">\n",
       "<title>threshold</title>\n",
       "<text text-anchor=\"middle\" x=\"34.5\" y=\"-158.3\" font-family=\"Times,serif\" font-size=\"14.00\">threshold</text>\n",
       "</g>\n",
       "<!-- threshold&#45;&gt;prediction_ -->\n",
       "<g id=\"edge8\" class=\"edge\">\n",
       "<title>threshold&#45;&gt;prediction_</title>\n",
       "<path fill=\"none\" stroke=\"black\" d=\"M46.86,-143.7C52.73,-135.47 59.87,-125.48 66.34,-116.42\"/>\n",
       "<polygon fill=\"black\" stroke=\"black\" points=\"69.32,-118.28 72.28,-108.1 63.62,-114.21 69.32,-118.28\"/>\n",
       "</g>\n",
       "</g>\n",
       "</svg>\n"
      ],
      "text/plain": [
       "<graphviz.dot.Digraph at 0x12b899340>"
      ]
     },
     "execution_count": 64,
     "metadata": {},
     "output_type": "execute_result"
    }
   ],
   "source": [
    "DAG(set(t).intersection(tt)).dot_digraph()"
   ]
  },
  {
   "cell_type": "code",
   "execution_count": 81,
   "metadata": {
    "ExecuteTime": {
     "end_time": "2021-07-31T09:30:23.314694Z",
     "start_time": "2021-07-31T09:30:23.127365Z"
    }
   },
   "outputs": [
    {
     "data": {
      "text/plain": [
       "[FuncNode(arrays,options -> train_test_split_ -> train_test_split),\n",
       " FuncNode(train_test_split -> test_y_ -> test_y),\n",
       " FuncNode(test_y -> truth_ -> truth),\n",
       " FuncNode(train_test_split -> test_X_ -> test_X),\n",
       " FuncNode(model,test_X -> predict_proba_ -> predict_proba),\n",
       " FuncNode(predict_proba,threshold -> prediction_ -> prediction),\n",
       " FuncNode(prediction,truth -> confusion_count_ -> confusion_count),\n",
       " FuncNode(confusion_count,confusion_value -> classifier_score_ -> classifier_score)]"
      ]
     },
     "execution_count": 81,
     "metadata": {},
     "output_type": "execute_result"
    }
   ],
   "source": [
    "list(d)"
   ]
  },
  {
   "cell_type": "code",
   "execution_count": 70,
   "metadata": {
    "ExecuteTime": {
     "end_time": "2021-07-31T09:22:40.222757Z",
     "start_time": "2021-07-31T09:22:39.818627Z"
    }
   },
   "outputs": [
    {
     "data": {
      "image/svg+xml": [
       "<?xml version=\"1.0\" encoding=\"UTF-8\" standalone=\"no\"?>\n",
       "<!DOCTYPE svg PUBLIC \"-//W3C//DTD SVG 1.1//EN\"\n",
       " \"http://www.w3.org/Graphics/SVG/1.1/DTD/svg11.dtd\">\n",
       "<!-- Generated by graphviz version 2.48.0 (20210717.1556)\n",
       " -->\n",
       "<!-- Pages: 1 -->\n",
       "<svg width=\"229pt\" height=\"476pt\"\n",
       " viewBox=\"0.00 0.00 228.50 476.00\" xmlns=\"http://www.w3.org/2000/svg\" xmlns:xlink=\"http://www.w3.org/1999/xlink\">\n",
       "<g id=\"graph0\" class=\"graph\" transform=\"scale(1 1) rotate(0) translate(4 472)\">\n",
       "<polygon fill=\"white\" stroke=\"transparent\" points=\"-4,4 -4,-472 224.5,-472 224.5,4 -4,4\"/>\n",
       "<!-- test_X -->\n",
       "<g id=\"node1\" class=\"node\">\n",
       "<title>test_X</title>\n",
       "<text text-anchor=\"middle\" x=\"170.5\" y=\"-302.3\" font-family=\"Times,serif\" font-size=\"14.00\">test_X</text>\n",
       "</g>\n",
       "<!-- predict_proba_ -->\n",
       "<g id=\"node5\" class=\"node\">\n",
       "<title>predict_proba_</title>\n",
       "<polygon fill=\"none\" stroke=\"black\" points=\"185,-252 84,-252 84,-216 185,-216 185,-252\"/>\n",
       "<text text-anchor=\"middle\" x=\"134.5\" y=\"-230.3\" font-family=\"Times,serif\" font-size=\"14.00\">predict_proba_</text>\n",
       "</g>\n",
       "<!-- test_X&#45;&gt;predict_proba_ -->\n",
       "<g id=\"edge5\" class=\"edge\">\n",
       "<title>test_X&#45;&gt;predict_proba_</title>\n",
       "<path fill=\"none\" stroke=\"black\" d=\"M161.6,-287.7C157.5,-279.73 152.55,-270.1 148.01,-261.26\"/>\n",
       "<polygon fill=\"black\" stroke=\"black\" points=\"150.98,-259.4 143.3,-252.1 144.76,-262.6 150.98,-259.4\"/>\n",
       "</g>\n",
       "<!-- test_X_ -->\n",
       "<g id=\"node2\" class=\"node\">\n",
       "<title>test_X_</title>\n",
       "<polygon fill=\"none\" stroke=\"black\" points=\"200.5,-396 140.5,-396 140.5,-360 200.5,-360 200.5,-396\"/>\n",
       "<text text-anchor=\"middle\" x=\"170.5\" y=\"-374.3\" font-family=\"Times,serif\" font-size=\"14.00\">test_X_</text>\n",
       "</g>\n",
       "<!-- test_X_&#45;&gt;test_X -->\n",
       "<g id=\"edge1\" class=\"edge\">\n",
       "<title>test_X_&#45;&gt;test_X</title>\n",
       "<path fill=\"none\" stroke=\"black\" d=\"M170.5,-359.7C170.5,-351.98 170.5,-342.71 170.5,-334.11\"/>\n",
       "<polygon fill=\"black\" stroke=\"black\" points=\"174,-334.1 170.5,-324.1 167,-334.1 174,-334.1\"/>\n",
       "</g>\n",
       "<!-- train_test_split -->\n",
       "<g id=\"node3\" class=\"node\">\n",
       "<title>train_test_split</title>\n",
       "<text text-anchor=\"middle\" x=\"170.5\" y=\"-446.3\" font-family=\"Times,serif\" font-size=\"14.00\">train_test_split</text>\n",
       "</g>\n",
       "<!-- train_test_split&#45;&gt;test_X_ -->\n",
       "<g id=\"edge2\" class=\"edge\">\n",
       "<title>train_test_split&#45;&gt;test_X_</title>\n",
       "<path fill=\"none\" stroke=\"black\" d=\"M170.5,-431.7C170.5,-423.98 170.5,-414.71 170.5,-406.11\"/>\n",
       "<polygon fill=\"black\" stroke=\"black\" points=\"174,-406.1 170.5,-396.1 167,-406.1 174,-406.1\"/>\n",
       "</g>\n",
       "<!-- predict_proba -->\n",
       "<g id=\"node4\" class=\"node\">\n",
       "<title>predict_proba</title>\n",
       "<text text-anchor=\"middle\" x=\"134.5\" y=\"-158.3\" font-family=\"Times,serif\" font-size=\"14.00\">predict_proba</text>\n",
       "</g>\n",
       "<!-- prediction_ -->\n",
       "<g id=\"node8\" class=\"node\">\n",
       "<title>prediction_</title>\n",
       "<polygon fill=\"none\" stroke=\"black\" points=\"124.5,-108 44.5,-108 44.5,-72 124.5,-72 124.5,-108\"/>\n",
       "<text text-anchor=\"middle\" x=\"84.5\" y=\"-86.3\" font-family=\"Times,serif\" font-size=\"14.00\">prediction_</text>\n",
       "</g>\n",
       "<!-- predict_proba&#45;&gt;prediction_ -->\n",
       "<g id=\"edge7\" class=\"edge\">\n",
       "<title>predict_proba&#45;&gt;prediction_</title>\n",
       "<path fill=\"none\" stroke=\"black\" d=\"M122.14,-143.7C116.27,-135.47 109.13,-125.48 102.66,-116.42\"/>\n",
       "<polygon fill=\"black\" stroke=\"black\" points=\"105.38,-114.21 96.72,-108.1 99.68,-118.28 105.38,-114.21\"/>\n",
       "</g>\n",
       "<!-- predict_proba_&#45;&gt;predict_proba -->\n",
       "<g id=\"edge3\" class=\"edge\">\n",
       "<title>predict_proba_&#45;&gt;predict_proba</title>\n",
       "<path fill=\"none\" stroke=\"black\" d=\"M134.5,-215.7C134.5,-207.98 134.5,-198.71 134.5,-190.11\"/>\n",
       "<polygon fill=\"black\" stroke=\"black\" points=\"138,-190.1 134.5,-180.1 131,-190.1 138,-190.1\"/>\n",
       "</g>\n",
       "<!-- model -->\n",
       "<g id=\"node6\" class=\"node\">\n",
       "<title>model</title>\n",
       "<text text-anchor=\"middle\" x=\"98.5\" y=\"-302.3\" font-family=\"Times,serif\" font-size=\"14.00\">model</text>\n",
       "</g>\n",
       "<!-- model&#45;&gt;predict_proba_ -->\n",
       "<g id=\"edge4\" class=\"edge\">\n",
       "<title>model&#45;&gt;predict_proba_</title>\n",
       "<path fill=\"none\" stroke=\"black\" d=\"M107.4,-287.7C111.5,-279.73 116.45,-270.1 120.99,-261.26\"/>\n",
       "<polygon fill=\"black\" stroke=\"black\" points=\"124.24,-262.6 125.7,-252.1 118.02,-259.4 124.24,-262.6\"/>\n",
       "</g>\n",
       "<!-- prediction -->\n",
       "<g id=\"node7\" class=\"node\">\n",
       "<title>prediction</title>\n",
       "<text text-anchor=\"middle\" x=\"84.5\" y=\"-14.3\" font-family=\"Times,serif\" font-size=\"14.00\">prediction</text>\n",
       "</g>\n",
       "<!-- prediction_&#45;&gt;prediction -->\n",
       "<g id=\"edge6\" class=\"edge\">\n",
       "<title>prediction_&#45;&gt;prediction</title>\n",
       "<path fill=\"none\" stroke=\"black\" d=\"M84.5,-71.7C84.5,-63.98 84.5,-54.71 84.5,-46.11\"/>\n",
       "<polygon fill=\"black\" stroke=\"black\" points=\"88,-46.1 84.5,-36.1 81,-46.1 88,-46.1\"/>\n",
       "</g>\n",
       "<!-- threshold -->\n",
       "<g id=\"node9\" class=\"node\">\n",
       "<title>threshold</title>\n",
       "<text text-anchor=\"middle\" x=\"34.5\" y=\"-158.3\" font-family=\"Times,serif\" font-size=\"14.00\">threshold</text>\n",
       "</g>\n",
       "<!-- threshold&#45;&gt;prediction_ -->\n",
       "<g id=\"edge8\" class=\"edge\">\n",
       "<title>threshold&#45;&gt;prediction_</title>\n",
       "<path fill=\"none\" stroke=\"black\" d=\"M46.86,-143.7C52.73,-135.47 59.87,-125.48 66.34,-116.42\"/>\n",
       "<polygon fill=\"black\" stroke=\"black\" points=\"69.32,-118.28 72.28,-108.1 63.62,-114.21 69.32,-118.28\"/>\n",
       "</g>\n",
       "</g>\n",
       "</svg>\n"
      ],
      "text/plain": [
       "<graphviz.dot.Digraph at 0x12ba99d60>"
      ]
     },
     "execution_count": 70,
     "metadata": {},
     "output_type": "execute_result"
    }
   ],
   "source": [
    "dd = d['train_test_split', 'prediction']\n",
    "dd.dot_digraph()"
   ]
  },
  {
   "cell_type": "code",
   "execution_count": 72,
   "metadata": {
    "ExecuteTime": {
     "end_time": "2021-07-31T09:24:08.004063Z",
     "start_time": "2021-07-31T09:24:07.972093Z"
    }
   },
   "outputs": [
    {
     "data": {
      "text/plain": [
       "<Sig (train_test_split, model, threshold)>"
      ]
     },
     "execution_count": 72,
     "metadata": {},
     "output_type": "execute_result"
    }
   ],
   "source": [
    "Sig(dd)"
   ]
  },
  {
   "cell_type": "code",
   "execution_count": 84,
   "metadata": {
    "ExecuteTime": {
     "end_time": "2021-07-31T09:53:07.547956Z",
     "start_time": "2021-07-31T09:53:07.516422Z"
    }
   },
   "outputs": [
    {
     "data": {
      "text/plain": [
       "['train_test_split_',\n",
       " 'test_y_',\n",
       " 'truth_',\n",
       " 'test_X_',\n",
       " 'predict_proba_',\n",
       " 'prediction_',\n",
       " 'confusion_count_',\n",
       " 'classifier_score_']"
      ]
     },
     "execution_count": 84,
     "metadata": {},
     "output_type": "execute_result"
    }
   ],
   "source": [
    "[x.name for x in d]"
   ]
  },
  {
   "cell_type": "code",
   "execution_count": 85,
   "metadata": {
    "ExecuteTime": {
     "end_time": "2021-07-31T10:36:29.312512Z",
     "start_time": "2021-07-31T10:36:29.276274Z"
    }
   },
   "outputs": [
    {
     "data": {
      "text/plain": [
       "FuncNode(x,y -> <lambda>_ -> <lambda>)"
      ]
     },
     "execution_count": 85,
     "metadata": {},
     "output_type": "execute_result"
    }
   ],
   "source": [
    "FuncNode(lambda x, y: x + y)"
   ]
  },
  {
   "cell_type": "code",
   "execution_count": null,
   "metadata": {},
   "outputs": [],
   "source": []
  },
  {
   "cell_type": "code",
   "execution_count": null,
   "metadata": {},
   "outputs": [],
   "source": []
  },
  {
   "cell_type": "code",
   "execution_count": null,
   "metadata": {},
   "outputs": [],
   "source": []
  },
  {
   "cell_type": "code",
   "execution_count": null,
   "metadata": {},
   "outputs": [],
   "source": []
  },
  {
   "cell_type": "code",
   "execution_count": null,
   "metadata": {},
   "outputs": [],
   "source": []
  },
  {
   "cell_type": "code",
   "execution_count": null,
   "metadata": {},
   "outputs": [],
   "source": []
  },
  {
   "cell_type": "code",
   "execution_count": null,
   "metadata": {},
   "outputs": [],
   "source": []
  },
  {
   "cell_type": "code",
   "execution_count": null,
   "metadata": {},
   "outputs": [],
   "source": []
  },
  {
   "cell_type": "code",
   "execution_count": null,
   "metadata": {},
   "outputs": [],
   "source": []
  }
 ],
 "metadata": {
  "kernelspec": {
   "display_name": "Python 3",
   "language": "python",
   "name": "python3"
  },
  "language_info": {
   "codemirror_mode": {
    "name": "ipython",
    "version": 3
   },
   "file_extension": ".py",
   "mimetype": "text/x-python",
   "name": "python",
   "nbconvert_exporter": "python",
   "pygments_lexer": "ipython3",
   "version": "3.8.6"
  },
  "latex_envs": {
   "LaTeX_envs_menu_present": true,
   "autoclose": false,
   "autocomplete": true,
   "bibliofile": "biblio.bib",
   "cite_by": "apalike",
   "current_citInitial": 1,
   "eqLabelWithNumbers": true,
   "eqNumInitial": 1,
   "hotkeys": {
    "equation": "Ctrl-E",
    "itemize": "Ctrl-I"
   },
   "labels_anchors": false,
   "latex_user_defs": false,
   "report_style_numbering": false,
   "user_envs_cfg": false
  },
  "toc": {
   "base_numbering": 1,
   "nav_menu": {},
   "number_sections": true,
   "sideBar": true,
   "skip_h1_title": false,
   "title_cell": "Table of Contents",
   "title_sidebar": "Contents",
   "toc_cell": true,
   "toc_position": {
    "height": "calc(100% - 180px)",
    "left": "10px",
    "top": "150px",
    "width": "191.319px"
   },
   "toc_section_display": true,
   "toc_window_display": true
  }
 },
 "nbformat": 4,
 "nbformat_minor": 4
}
