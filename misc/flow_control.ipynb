{
 "cells": [
  {
   "attachments": {},
   "cell_type": "markdown",
   "metadata": {},
   "source": [
    "# Control Flow"
   ]
  },
  {
   "attachments": {},
   "cell_type": "markdown",
   "metadata": {},
   "source": [
    "In this notebook we'll look at a few tricks to deal with different [control flow](https://en.wikipedia.org/wiki/Control_flow) types in meshed. \n",
    "\n",
    "There are arguments against introducing (more than the strict necessary) control-flow types as well as alternatives to solve problems where they show up (see [this dicussion](https://github.com/i2mint/meshed/discussions/59#:~:text=Appendix%3A%20Why%20should%20control%20flow%20constructs%20like%20if%2Dthen%2Delse%20and%20switch%2Dcase%20be%20avoided%20when%20possible%3F)).\n",
    "\n",
    "Problem patterns often show up where control flow would be useful to solve the problem easily, so we should address these, in one way or another.\n",
    "\n"
   ]
  },
  {
   "attachments": {},
   "cell_type": "markdown",
   "metadata": {},
   "source": [
    "<img src=\"https://www.scientecheasy.com/wp-content/uploads/2019/10/control-flow.png\" alt=\"Three types of control flow\" width=400/>"
   ]
  },
  {
   "attachments": {},
   "cell_type": "markdown",
   "metadata": {},
   "source": [
    "Some links:\n",
    "* [Multi-channel based segmenter](https://github.com/i2mint/creek/discussions/8)\n",
    "* [DAGX, with CondNodes](https://github.com/i2mint/meshed/discussions/59)"
   ]
  },
  {
   "attachments": {},
   "cell_type": "markdown",
   "metadata": {},
   "source": [
    "# Examples"
   ]
  },
  {
   "attachments": {},
   "cell_type": "markdown",
   "metadata": {},
   "source": [
    "Here we'll look at concrete examples that represent frequent problem patterns pop up in \"real life\". In reality, these problem patterns are really solution patterns that one is used to applying to problems when writing software. Namely:\n",
    "* Conditional execution, which includes:\n",
    "  * only executing something if specific conditions are met\n",
    "  * chosing what to execute according to conditions (which is really a generalization of the previous case)\n",
    "* changing (and maintaining) states\n",
    "\n",
    "Look out for both these themes in the following example."
   ]
  },
  {
   "attachments": {},
   "cell_type": "markdown",
   "metadata": {},
   "source": [
    "## Turning a recording on and off\n"
   ]
  },
  {
   "attachments": {},
   "cell_type": "markdown",
   "metadata": {},
   "source": [
    "We have two streams:\n",
    "* `audio`, an audio stream\n",
    "* `plc`, a stream that indicates whether some [momentary switch (button)](https://learn.sparkfun.com/tutorials/button-and-switch-basics/momentary-switches) was pressed\n",
    "\n",
    "What we want to do is write a program that will take these two streams, start recording the audio when the `plc` \"button\" is pressed, then stop the recording when the button is pressed again, and so on continuously. \n"
   ]
  },
  {
   "attachments": {},
   "cell_type": "markdown",
   "metadata": {},
   "source": [
    "This is a take on the [Multi-channel based segmenter](https://github.com/i2mint/creek/discussions/8) problem, but in the segmenter problem, we boiled it down to creating a stream of tagged intervals, assuming these could be used, via a sufficiently large buffer, to extract and store the signals of interest. \n",
    "\n",
    "Here, though, we will not take the \"buffer+segment\" approach, but instead use some recording state that will be toggled by the `plc`. "
   ]
  },
  {
   "attachments": {},
   "cell_type": "markdown",
   "metadata": {},
   "source": [
    "Let's first take a simple form of the problem, assuming the audio and plc streams are in sync; `audio` is a stream of chunks and `plc` an (aligned) stream of `0`s and `1`s (the latter indicating a button was pressed). \n",
    "This means we need no timestamp (for now). \n",
    "\n",
    "Also, we'll add another object: a `store`, our facade to our storage backend.\n"
   ]
  },
  {
   "attachments": {},
   "cell_type": "markdown",
   "metadata": {},
   "source": [
    "### A simple solution"
   ]
  },
  {
   "cell_type": "code",
   "execution_count": 6,
   "metadata": {},
   "outputs": [
    {
     "name": "stderr",
     "output_type": "stream",
     "text": [
      "/Users/thorwhalen/Dropbox/py/proj/o/slang/slang/util.py:95: RuntimeWarning: invalid value encountered in cast\n",
      "  snip_of_unichr_code = (nan * ones(unichr_code_of_snip.max() + 1)).astype(int)\n"
     ]
    },
    {
     "name": "stdout",
     "output_type": "stream",
     "text": [
      "[[5, 6, 7, 8, 9],\n",
      " [10, 11, 12, 13, 14],\n",
      " [15, 16, 17, 18, 19],\n",
      " [20, 21, 22, 23, 24],\n",
      " [25, 26, 27, 28, 29],\n",
      " [30, 31, 32, 33, 34],\n",
      " [35, 36, 37, 38, 39],\n",
      " [50, 51, 52, 53, 54],\n",
      " [55, 56, 57, 58, 59]]\n"
     ]
    }
   ],
   "source": [
    "def mk_test_objects():\n",
    "    import itertools\n",
    "    from typing import Callable\n",
    "    from functools import partial\n",
    "    from slang import fixed_step_chunker\n",
    "    audio = range(100)\n",
    "    audio_chk_size = 5\n",
    "    audio_chks = list(fixed_step_chunker(audio, chk_size=audio_chk_size))\n",
    "    plc_values = [0, 1, 0, 0, 1, 1, 0, 1, 0, 0, 1, 1, 0, 0]\n",
    "\n",
    "    return audio_chks, plc_values\n",
    "\n",
    "def conditional_recording_1(audio_chks, plc_values, chks_store):\n",
    "    is_recording = False\n",
    "    for chk, plc in zip(audio_chks, plc_values):\n",
    "        if plc == 1:\n",
    "            chks_store.append(chk)  # no matter what, record this chunk\n",
    "            is_recording = not is_recording  # toggle recording state\n",
    "        elif is_recording:\n",
    "            chks_store.append(chk)  # continue recording\n",
    "        # else:  # do nothing (neither record, nor toggle recording state)\n",
    "\n",
    "# Test this:\n",
    "\n",
    "from pprint import pprint\n",
    "\n",
    "audio_chks, plc_values = mk_test_objects()\n",
    "\n",
    "chks_store = []\n",
    "conditional_recording_1(audio_chks, plc_values, chks_store)\n",
    "pprint(chks_store)\n",
    "\n"
   ]
  },
  {
   "attachments": {},
   "cell_type": "markdown",
   "metadata": {},
   "source": [
    "This is indeed what we'd expect:\n",
    "* The first `[0-4]` chunk wasn't recorded.\n",
    "* The next four chunks are recorded (from `5` to `24`)\n",
    "* The next recording starts right after the first one stops, so we actually continue recording (from `25` to `39`)\n",
    "* Then theres a gap of two chunks, between `40` and `49`\n",
    "* Then there's a short recording of two chunks, from `50` to `59`.\n"
   ]
  },
  {
   "attachments": {},
   "cell_type": "markdown",
   "metadata": {},
   "source": [
    "### Using a more realistic store facade"
   ]
  },
  {
   "attachments": {},
   "cell_type": "markdown",
   "metadata": {},
   "source": [
    "Technically speaking, `conditional_recording_1` solves our problem, as stated. \n",
    "All we need to do is make `audio_chks`, `plc_values`, and `chks_store` facades to our actual real life streams source and storage (probably persistent) backend. \n",
    "\n",
    "In fact, if what we meant by \"record\" is to store chunks of audio, then it would be hard to find a cleaner solution than this \"builtin-like facades\" one. \n",
    "\n",
    "But you probably don't consider a list of lists as properly \"recording\". \n",
    "You probably were thinking of a persistent recoding; some you were probably thinking of a file system, data base, or cloud blob storage service.\n",
    "\n",
    "It's fine to think of that, **but make sure you're not thinking of that** when you're writing (the business logic, the domain specific) code! You still want to \"facade away\" your storage concern. \n",
    "\n",
    "If you're thinking of eventually targeting something like a file-system, you'll probably get everything you need with a key-value abstraction. \n",
    "For this purpose, the [dol](https://github.com/i2mint/dol) package enables you to map any storage system to a `Mapping` (or `MutableMapping`) interface, so you can just assume that your storage facade is a `dict`. \n"
   ]
  },
  {
   "attachments": {},
   "cell_type": "markdown",
   "metadata": {},
   "source": [
    "First, let's see how we could still use our very simple `conditional_recording_1` solution with a storage key-value facade. \n",
    "All we need, from our `chks_store` object is that it has an `append` method (that does what we want). \n",
    "\n",
    "We could write a class to do this, but below we'll show how you can use the `appendable` tool to endow a dict (or any `MutableMapping`) with an append method that will use the current timestamp as the key it'll use to store the chunk under. "
   ]
  },
  {
   "cell_type": "code",
   "execution_count": 7,
   "metadata": {},
   "outputs": [
    {
     "data": {
      "text/plain": [
       "{1688138392067172: [5, 6, 7, 8, 9],\n",
       " 1688138392067174: [10, 11, 12, 13, 14],\n",
       " 1688138392067175: [35, 36, 37, 38, 39],\n",
       " 1688138392067177: [55, 56, 57, 58, 59]}"
      ]
     },
     "execution_count": 7,
     "metadata": {},
     "output_type": "execute_result"
    }
   ],
   "source": [
    "from dol import appendable\n",
    "\n",
    "AppendableDict = appendable(\n",
    "    dict, \n",
    "    item2kv=appendable.mk_item2kv_for.utc_key(0, 1e6, time_postproc=int)\n",
    ")\n",
    "\n",
    "appendable_dict = AppendableDict()\n",
    "conditional_recording_1(audio_chks, plc_values, appendable_dict)\n",
    "appendable_dict\n"
   ]
  },
  {
   "attachments": {},
   "cell_type": "markdown",
   "metadata": {},
   "source": [
    "You'll observe, above, that not all the chunks are stored; this is because we're consuming the \"audio\" chunks too fast for their to be significant time differences, so some of the keys will be reused. \n",
    "\n",
    "With real live sound, chunks won't be streaming faster than the clock, and an actual file system would be used instead of a dict (which will slow things down further). \n",
    "\n",
    "Below is an implementation using actual files to persist our chunks."
   ]
  },
  {
   "cell_type": "code",
   "execution_count": 8,
   "metadata": {},
   "outputs": [
    {
     "name": "stdout",
     "output_type": "stream",
     "text": [
      "chunks will be saved in folder (go check them out):\n",
      "\t/var/folders/s0/6rhqzsnx0lxbjs8r5rhld9km0000gn/T/flow_control\n"
     ]
    },
    {
     "data": {
      "text/plain": [
       "{1688138392776203: [5, 6, 7, 8, 9],\n",
       " 1688138392776684: [10, 11, 12, 13, 14],\n",
       " 1688138392779447: [15, 16, 17, 18, 19],\n",
       " 1688138392779968: [20, 21, 22, 23, 24],\n",
       " 1688138392780637: [25, 26, 27, 28, 29],\n",
       " 1688138392780888: [30, 31, 32, 33, 34],\n",
       " 1688138392781422: [35, 36, 37, 38, 39],\n",
       " 1688138392781705: [50, 51, 52, 53, 54],\n",
       " 1688138392781920: [55, 56, 57, 58, 59]}"
      ]
     },
     "execution_count": 8,
     "metadata": {},
     "output_type": "execute_result"
    }
   ],
   "source": [
    "from dol import temp_dir, Files, wrap_kvs, Pipe\n",
    "import json\n",
    "\n",
    "JsonFiles = wrap_kvs(\n",
    "    Files, \n",
    "    id_of_key=str, \n",
    "    key_of_id=int, \n",
    "    data_of_obj=Pipe(json.dumps, str.encode), \n",
    "    obj_of_data=json.loads\n",
    ")\n",
    "\n",
    "AppendableJsonFiles = appendable(\n",
    "    JsonFiles, \n",
    "    item2kv=appendable.mk_item2kv_for.utc_key(0, 1e6, time_postproc=int)\n",
    ")\n",
    "\n",
    "tmp_folder = temp_dir('flow_control')\n",
    "json_files = AppendableJsonFiles(tmp_folder)\n",
    "# delete all files in that directory\n",
    "if 'flow_control' in json_files.rootdir:  # safety check\n",
    "    for k in json_files:\n",
    "        del json_files[k]\n",
    "\n",
    "print(f\"chunks will be saved in folder (go check them out):\\n\\t{tmp_folder}\")\n",
    "conditional_recording_1(audio_chks, plc_values, json_files)\n",
    "# retrieve the file names and decoded contents into a dict\n",
    "dict(sorted(json_files.items(), key=lambda kv: kv[0]))\n"
   ]
  },
  {
   "cell_type": "code",
   "execution_count": 106,
   "metadata": {},
   "outputs": [
    {
     "data": {
      "text/plain": [
       "True"
      ]
     },
     "execution_count": 106,
     "metadata": {},
     "output_type": "execute_result"
    }
   ],
   "source": []
  },
  {
   "attachments": {},
   "cell_type": "markdown",
   "metadata": {},
   "source": [
    "### Storing aggregations"
   ]
  },
  {
   "attachments": {},
   "cell_type": "markdown",
   "metadata": {},
   "source": [
    "Okay, so that's still not what you were thinking of probably.\n",
    "\n",
    "You probably interpretted \"start and stop recording\" as \"aggregate everything between the start and the stop into one file/blob/whatever\". Essentially, aggregating all the audio of a same recording \"session\" into one blob/file.\n",
    "\n",
    "So let's do what the TDD grown ups do and write a test to express what we actually mean.\n"
   ]
  },
  {
   "cell_type": "code",
   "execution_count": 9,
   "metadata": {},
   "outputs": [],
   "source": [
    "audio_chks, plc_values = mk_test_objects()\n",
    "keys = range(max(len(audio_chks), len(plc_values)))  # need some source of keys now!\n",
    "expected_store = {\n",
    "    1: [5, 6, 7, 8, 9, 10, 11, 12, 13, 14, 15, 16, 17, 18, 19, 20, 21, 22, 23, 24],\n",
    "    5: [25, 26, 27, 28, 29, 30, 31, 32, 33, 34, 35, 36, 37, 38, 39],\n",
    "    10: [50, 51, 52, 53, 54, 55, 56, 57, 58, 59]\n",
    "}\n",
    "\n",
    "def test_conditional_recording(\n",
    "    test_func, \n",
    "    store_factory=dict,\n",
    "):\n",
    "    store = store_factory()\n",
    "    test_func(audio_chks, plc_values, keys, store)\n",
    "    assert dict(store) == expected_store\n",
    "\n"
   ]
  },
  {
   "attachments": {},
   "cell_type": "markdown",
   "metadata": {},
   "source": [
    "Now (and only now) do we have a problem with our simple `conditional_recording_1` solution. \n",
    "We need some more flow control and state here. \n",
    "What is needed is for the storage concern to know when it add the `chk` to an already on going recording, or start a new recording. \n",
    "\n",
    "You could do this in the logic of your new `conditional_recording` itself, \n",
    "using three different storage methods (one to create a new key-value pair, the other to extend the current one, and a third to close up). \n",
    "\n",
    "Alternatively, you could continue using a single `chks_store.append` method, but would have to pass on some extra information that would indicate whether it should create a new item, or extend an existing one. Note, in both cases we may also want to have a third method: Stop the current recording (after appending the last chunk). This will be useful to place any \"context management\" logic such as closing files or data base connections. "
   ]
  },
  {
   "cell_type": "code",
   "execution_count": 10,
   "metadata": {},
   "outputs": [],
   "source": [
    "from typing import Literal, MutableMapping, Any, Callable\n",
    "from dataclasses import dataclass\n",
    "\n",
    "RecordingCommands = Literal[\"start\", \"resume\", \"stop\"]\n",
    "\n",
    "@dataclass\n",
    "class RecordingSwitchBoard:\n",
    "    store: MutableMapping = None\n",
    "    _current_key = None\n",
    "\n",
    "    def start(self, key, chk):\n",
    "        self._current_key = key\n",
    "        self.store[key] = []\n",
    "        self._append(chk)\n",
    "\n",
    "    def resume(self, key, chk):\n",
    "        self._append(chk)\n",
    "\n",
    "    def stop(self, key, chk):\n",
    "        self._append(chk)\n",
    "        self._current_key = None\n",
    "\n",
    "    def _append(self, chk):\n",
    "        if self._current_key is None:\n",
    "            raise ValueError(\"Cannot append without first starting recording.\")\n",
    "        self.store[self._current_key].extend(chk)\n",
    "\n",
    "    @property\n",
    "    def is_recording(self):\n",
    "        return self._current_key is not None\n",
    "\n",
    "\n"
   ]
  },
  {
   "cell_type": "code",
   "execution_count": 11,
   "metadata": {},
   "outputs": [
    {
     "name": "stdout",
     "output_type": "stream",
     "text": [
      "{1: [5, 6, 7, 8, 9, 10, 11, 12, 13, 14, 15, 16, 17, 18, 19, 20, 21, 22, 23, 24],\n",
      " 5: [25, 26, 27, 28, 29, 30, 31, 32, 33, 34, 35, 36, 37, 38, 39],\n",
      " 10: [50, 51, 52, 53, 54, 55, 56, 57, 58, 59]}\n"
     ]
    }
   ],
   "source": [
    "def conditional_recording_2(\n",
    "    audio_chks, plc_values, keys, store, \n",
    "    mk_recorder: Callable[[MutableMapping], Any] = RecordingSwitchBoard,\n",
    "):\n",
    "    recorder = mk_recorder(store)\n",
    "    for chk, plc, key in zip(audio_chks, plc_values, keys):\n",
    "        if plc == 1:\n",
    "            if not recorder.is_recording:\n",
    "                recorder.start(key, chk)\n",
    "            else:\n",
    "                recorder.stop(key, chk)\n",
    "        elif recorder.is_recording:\n",
    "            recorder.resume(key, chk) \n",
    "        # else:  # do nothing (neither record, nor toggle recording state)\n",
    "\n",
    "# Example usage:\n",
    "\n",
    "store = dict()\n",
    "test_conditional_recording(conditional_recording_2, store_factory=lambda: store)\n",
    "pprint(store)\n"
   ]
  },
  {
   "attachments": {},
   "cell_type": "markdown",
   "metadata": {},
   "source": [
    "You might have been thinking why we included the `key` in the `resume` and `stop` methods, since they don't use it anyway. There's a reason: Consistency. Flatness. Which will give us more power to make the interface simpler and more general (comming up next).\n",
    "\n",
    "Because, you see, we care for more than the \"what\" expressed by our `test_conditional_recording`: We care for the \"how\" here too. What we're going for are components that can be combined to solve our problem, and many others ressembling it."
   ]
  },
  {
   "attachments": {},
   "cell_type": "markdown",
   "metadata": {},
   "source": [
    "### Automatas"
   ]
  },
  {
   "attachments": {},
   "cell_type": "markdown",
   "metadata": {},
   "source": [
    "There's still too much flow-control in our code, if not more.\n",
    "Let's try to squeeze some out. \n",
    "Why? Because we'd like to solve not only our current problem, but a general problem pattern. We'd like to create some parametrizable components that will enable a user to solve their flow control needs.\n",
    "\n",
    "Let's see what automatas can do for us.\n",
    "\n",
    "Lot's of really interesting, and sometimes useful, stuff in [Automata theory](https://en.wikipedia.org/wiki/Automata_theory), but let's not go there. Here, we'll use something like a finite-state machine (a popular kind of automata -- except we won't restrict it to having finite states or alphabets). "
   ]
  },
  {
   "cell_type": "code",
   "execution_count": 13,
   "metadata": {},
   "outputs": [
    {
     "data": {
      "text/plain": [
       "['waiting',\n",
       " 'start',\n",
       " 'resume',\n",
       " 'resume',\n",
       " 'stop',\n",
       " 'start',\n",
       " 'resume',\n",
       " 'stop',\n",
       " 'waiting',\n",
       " 'waiting',\n",
       " 'start',\n",
       " 'stop',\n",
       " 'waiting',\n",
       " 'waiting']"
      ]
     },
     "execution_count": 13,
     "metadata": {},
     "output_type": "execute_result"
    }
   ],
   "source": [
    "from creek.automatas import BasicAutomata, mapping_to_transition_func\n",
    "\n",
    "recording_state_transition_func = mapping_to_transition_func(\n",
    "    {\n",
    "        (\"waiting\", 1): \"start\",\n",
    "        (\"start\", 0): \"resume\",\n",
    "        (\"start\", 1): \"stop\",\n",
    "        (\"resume\", 1): \"stop\",\n",
    "        (\"stop\", 0): \"waiting\",\n",
    "        (\"stop\", 1): \"start\",\n",
    "    },\n",
    "    strict=False,\n",
    ")\n",
    "\n",
    "transitioner = BasicAutomata(\n",
    "    transition_func=recording_state_transition_func,\n",
    "    state=\"waiting\",\n",
    ")\n",
    "\n",
    "state_sequence = list(transitioner('waiting', plc_values))\n",
    "state_sequence\n"
   ]
  },
  {
   "attachments": {},
   "cell_type": "markdown",
   "metadata": {},
   "source": [
    "We'll start with `conditional_recording_3` to show how the logic will work with the automata."
   ]
  },
  {
   "cell_type": "code",
   "execution_count": 14,
   "metadata": {},
   "outputs": [
    {
     "name": "stdout",
     "output_type": "stream",
     "text": [
      "{1: [5, 6, 7, 8, 9, 10, 11, 12, 13, 14, 15, 16, 17, 18, 19, 20, 21, 22, 23, 24],\n",
      " 5: [25, 26, 27, 28, 29, 30, 31, 32, 33, 34, 35, 36, 37, 38, 39],\n",
      " 10: [50, 51, 52, 53, 54, 55, 56, 57, 58, 59]}\n"
     ]
    }
   ],
   "source": [
    "def conditional_recording_3(\n",
    "    audio_chks, plc_values, keys, store, \n",
    "    mk_recorder: Callable[[MutableMapping], Any] = RecordingSwitchBoard,\n",
    "):\n",
    "\n",
    "    recorder = mk_recorder(store)\n",
    "    transition = transitioner.reset().transition\n",
    "\n",
    "    get_state_func = lambda state: getattr(recorder, state, None)\n",
    "\n",
    "    for chk, plc, key in zip(audio_chks, plc_values, keys):\n",
    "        state = transition(plc)\n",
    "        state_func = get_state_func(state)\n",
    "        if state_func is not None:\n",
    "            state_func(key, chk)\n",
    "\n",
    "# Example usage:\n",
    "store = dict()\n",
    "test_conditional_recording(conditional_recording_3, store_factory=lambda: store)\n",
    "pprint(store)"
   ]
  },
  {
   "attachments": {},
   "cell_type": "markdown",
   "metadata": {},
   "source": [
    "### The slabs+automata solution"
   ]
  },
  {
   "attachments": {},
   "cell_type": "markdown",
   "metadata": {},
   "source": [
    "But really, our goal here is to be able to make components that work with slabs, so here's a version using slabs:"
   ]
  },
  {
   "cell_type": "code",
   "execution_count": 39,
   "metadata": {},
   "outputs": [
    {
     "data": {
      "image/svg+xml": [
       "<?xml version=\"1.0\" encoding=\"UTF-8\" standalone=\"no\"?>\n",
       "<!DOCTYPE svg PUBLIC \"-//W3C//DTD SVG 1.1//EN\"\n",
       " \"http://www.w3.org/Graphics/SVG/1.1/DTD/svg11.dtd\">\n",
       "<!-- Generated by graphviz version 7.1.0 (20230121.1956)\n",
       " -->\n",
       "<!-- Pages: 1 -->\n",
       "<svg width=\"232pt\" height=\"548pt\"\n",
       " viewBox=\"0.00 0.00 232.00 548.00\" xmlns=\"http://www.w3.org/2000/svg\" xmlns:xlink=\"http://www.w3.org/1999/xlink\">\n",
       "<g id=\"graph0\" class=\"graph\" transform=\"scale(1 1) rotate(0) translate(4 544)\">\n",
       "<polygon fill=\"white\" stroke=\"none\" points=\"-4,4 -4,-544 228,-544 228,4 -4,4\"/>\n",
       "<!-- chk -->\n",
       "<g id=\"node1\" class=\"node\">\n",
       "<title>chk</title>\n",
       "<text text-anchor=\"middle\" x=\"195\" y=\"-158.3\" font-family=\"Times,serif\" font-size=\"14.00\">chk</text>\n",
       "</g>\n",
       "<!-- output_ -->\n",
       "<g id=\"node12\" class=\"node\">\n",
       "<title>output_</title>\n",
       "<polygon fill=\"none\" stroke=\"black\" points=\"141,-108 83,-108 83,-72 141,-72 141,-108\"/>\n",
       "<text text-anchor=\"middle\" x=\"112\" y=\"-86.3\" font-family=\"Times,serif\" font-size=\"14.00\">output_</text>\n",
       "</g>\n",
       "<!-- chk&#45;&gt;output_ -->\n",
       "<g id=\"edge11\" class=\"edge\">\n",
       "<title>chk&#45;&gt;output_</title>\n",
       "<path fill=\"none\" stroke=\"black\" d=\"M174.91,-144.05C164.76,-135.5 152.27,-124.96 141.09,-115.54\"/>\n",
       "<polygon fill=\"black\" stroke=\"black\" points=\"143.54,-113.02 133.64,-109.25 139.03,-118.37 143.54,-113.02\"/>\n",
       "</g>\n",
       "<!-- chk_ -->\n",
       "<g id=\"node2\" class=\"node\">\n",
       "<title>chk_</title>\n",
       "<polygon fill=\"none\" stroke=\"black\" points=\"224,-252 170,-252 170,-216 224,-216 224,-252\"/>\n",
       "<text text-anchor=\"middle\" x=\"197\" y=\"-230.3\" font-family=\"Times,serif\" font-size=\"14.00\">chk_</text>\n",
       "</g>\n",
       "<!-- chk_&#45;&gt;chk -->\n",
       "<g id=\"edge1\" class=\"edge\">\n",
       "<title>chk_&#45;&gt;chk</title>\n",
       "<path fill=\"none\" stroke=\"black\" d=\"M196.51,-215.7C196.29,-208.21 196.04,-199.26 195.8,-190.88\"/>\n",
       "<polygon fill=\"black\" stroke=\"black\" points=\"199.3,-191.03 195.52,-181.14 192.31,-191.23 199.3,-191.03\"/>\n",
       "</g>\n",
       "<!-- plc -->\n",
       "<g id=\"node3\" class=\"node\">\n",
       "<title>plc</title>\n",
       "<text text-anchor=\"middle\" x=\"112\" y=\"-446.3\" font-family=\"Times,serif\" font-size=\"14.00\">plc</text>\n",
       "</g>\n",
       "<!-- state_ -->\n",
       "<g id=\"node8\" class=\"node\">\n",
       "<title>state_</title>\n",
       "<polygon fill=\"none\" stroke=\"black\" points=\"139,-396 85,-396 85,-360 139,-360 139,-396\"/>\n",
       "<text text-anchor=\"middle\" x=\"112\" y=\"-374.3\" font-family=\"Times,serif\" font-size=\"14.00\">state_</text>\n",
       "</g>\n",
       "<!-- plc&#45;&gt;state_ -->\n",
       "<g id=\"edge5\" class=\"edge\">\n",
       "<title>plc&#45;&gt;state_</title>\n",
       "<path fill=\"none\" stroke=\"black\" d=\"M112,-432.05C112,-424.68 112,-415.84 112,-407.51\"/>\n",
       "<polygon fill=\"black\" stroke=\"black\" points=\"115.5,-407.79 112,-397.79 108.5,-407.79 115.5,-407.79\"/>\n",
       "</g>\n",
       "<!-- plc_ -->\n",
       "<g id=\"node4\" class=\"node\">\n",
       "<title>plc_</title>\n",
       "<polygon fill=\"none\" stroke=\"black\" points=\"139,-540 85,-540 85,-504 139,-504 139,-540\"/>\n",
       "<text text-anchor=\"middle\" x=\"112\" y=\"-518.3\" font-family=\"Times,serif\" font-size=\"14.00\">plc_</text>\n",
       "</g>\n",
       "<!-- plc_&#45;&gt;plc -->\n",
       "<g id=\"edge2\" class=\"edge\">\n",
       "<title>plc_&#45;&gt;plc</title>\n",
       "<path fill=\"none\" stroke=\"black\" d=\"M112,-503.7C112,-496.21 112,-487.26 112,-478.88\"/>\n",
       "<polygon fill=\"black\" stroke=\"black\" points=\"115.5,-479.14 112,-469.14 108.5,-479.14 115.5,-479.14\"/>\n",
       "</g>\n",
       "<!-- key -->\n",
       "<g id=\"node5\" class=\"node\">\n",
       "<title>key</title>\n",
       "<text text-anchor=\"middle\" x=\"29\" y=\"-158.3\" font-family=\"Times,serif\" font-size=\"14.00\">key</text>\n",
       "</g>\n",
       "<!-- key&#45;&gt;output_ -->\n",
       "<g id=\"edge10\" class=\"edge\">\n",
       "<title>key&#45;&gt;output_</title>\n",
       "<path fill=\"none\" stroke=\"black\" d=\"M49.09,-144.05C59.24,-135.5 71.73,-124.96 82.91,-115.54\"/>\n",
       "<polygon fill=\"black\" stroke=\"black\" points=\"84.97,-118.37 90.36,-109.25 80.46,-113.02 84.97,-118.37\"/>\n",
       "</g>\n",
       "<!-- key_ -->\n",
       "<g id=\"node6\" class=\"node\">\n",
       "<title>key_</title>\n",
       "<polygon fill=\"none\" stroke=\"black\" points=\"54,-252 0,-252 0,-216 54,-216 54,-252\"/>\n",
       "<text text-anchor=\"middle\" x=\"27\" y=\"-230.3\" font-family=\"Times,serif\" font-size=\"14.00\">key_</text>\n",
       "</g>\n",
       "<!-- key_&#45;&gt;key -->\n",
       "<g id=\"edge3\" class=\"edge\">\n",
       "<title>key_&#45;&gt;key</title>\n",
       "<path fill=\"none\" stroke=\"black\" d=\"M27.49,-215.7C27.71,-208.21 27.96,-199.26 28.2,-190.88\"/>\n",
       "<polygon fill=\"black\" stroke=\"black\" points=\"31.69,-191.23 28.48,-181.14 24.7,-191.03 31.69,-191.23\"/>\n",
       "</g>\n",
       "<!-- state -->\n",
       "<g id=\"node7\" class=\"node\">\n",
       "<title>state</title>\n",
       "<text text-anchor=\"middle\" x=\"112\" y=\"-302.3\" font-family=\"Times,serif\" font-size=\"14.00\">state</text>\n",
       "</g>\n",
       "<!-- state_func_ -->\n",
       "<g id=\"node10\" class=\"node\">\n",
       "<title>state_func_</title>\n",
       "<polygon fill=\"none\" stroke=\"black\" points=\"151.5,-252 72.5,-252 72.5,-216 151.5,-216 151.5,-252\"/>\n",
       "<text text-anchor=\"middle\" x=\"112\" y=\"-230.3\" font-family=\"Times,serif\" font-size=\"14.00\">state_func_</text>\n",
       "</g>\n",
       "<!-- state&#45;&gt;state_func_ -->\n",
       "<g id=\"edge7\" class=\"edge\">\n",
       "<title>state&#45;&gt;state_func_</title>\n",
       "<path fill=\"none\" stroke=\"black\" d=\"M112,-288.05C112,-280.68 112,-271.84 112,-263.51\"/>\n",
       "<polygon fill=\"black\" stroke=\"black\" points=\"115.5,-263.79 112,-253.79 108.5,-263.79 115.5,-263.79\"/>\n",
       "</g>\n",
       "<!-- state_&#45;&gt;state -->\n",
       "<g id=\"edge4\" class=\"edge\">\n",
       "<title>state_&#45;&gt;state</title>\n",
       "<path fill=\"none\" stroke=\"black\" d=\"M112,-359.7C112,-352.21 112,-343.26 112,-334.88\"/>\n",
       "<polygon fill=\"black\" stroke=\"black\" points=\"115.5,-335.14 112,-325.14 108.5,-335.14 115.5,-335.14\"/>\n",
       "</g>\n",
       "<!-- state_func -->\n",
       "<g id=\"node9\" class=\"node\">\n",
       "<title>state_func</title>\n",
       "<text text-anchor=\"middle\" x=\"112\" y=\"-158.3\" font-family=\"Times,serif\" font-size=\"14.00\">state_func</text>\n",
       "</g>\n",
       "<!-- state_func&#45;&gt;output_ -->\n",
       "<g id=\"edge9\" class=\"edge\">\n",
       "<title>state_func&#45;&gt;output_</title>\n",
       "<path fill=\"none\" stroke=\"black\" d=\"M112,-144.05C112,-136.68 112,-127.84 112,-119.51\"/>\n",
       "<polygon fill=\"black\" stroke=\"black\" points=\"115.5,-119.79 112,-109.79 108.5,-119.79 115.5,-119.79\"/>\n",
       "</g>\n",
       "<!-- state_func_&#45;&gt;state_func -->\n",
       "<g id=\"edge6\" class=\"edge\">\n",
       "<title>state_func_&#45;&gt;state_func</title>\n",
       "<path fill=\"none\" stroke=\"black\" d=\"M112,-215.7C112,-208.21 112,-199.26 112,-190.88\"/>\n",
       "<polygon fill=\"black\" stroke=\"black\" points=\"115.5,-191.14 112,-181.14 108.5,-191.14 115.5,-191.14\"/>\n",
       "</g>\n",
       "<!-- output -->\n",
       "<g id=\"node11\" class=\"node\">\n",
       "<title>output</title>\n",
       "<text text-anchor=\"middle\" x=\"112\" y=\"-14.3\" font-family=\"Times,serif\" font-size=\"14.00\">output</text>\n",
       "</g>\n",
       "<!-- output_&#45;&gt;output -->\n",
       "<g id=\"edge8\" class=\"edge\">\n",
       "<title>output_&#45;&gt;output</title>\n",
       "<path fill=\"none\" stroke=\"black\" d=\"M112,-71.7C112,-64.21 112,-55.26 112,-46.88\"/>\n",
       "<polygon fill=\"black\" stroke=\"black\" points=\"115.5,-47.14 112,-37.14 108.5,-47.14 115.5,-47.14\"/>\n",
       "</g>\n",
       "</g>\n",
       "</svg>\n"
      ],
      "text/plain": [
       "<graphviz.graphs.Digraph at 0x15b748eb0>"
      ]
     },
     "execution_count": 39,
     "metadata": {},
     "output_type": "execute_result"
    }
   ],
   "source": [
    "def consume_iterable(iterable):\n",
    "    for _ in iterable:\n",
    "        pass\n",
    "\n",
    "\n",
    "def mk_iterable_reader(iterable):\n",
    "    return iter(iterable).__next__\n",
    "\n",
    "\n",
    "def mk_slabs_solution(\n",
    "    chks_reader, plc_reader, keys_reader, store,\n",
    "    mk_recorder: Callable[[MutableMapping], Any] = RecordingSwitchBoard,\n",
    "):\n",
    "    mk_recorder = RecordingSwitchBoard\n",
    "\n",
    "    recorder = mk_recorder(store)\n",
    "    transition = transitioner.reset().transition\n",
    "\n",
    "    from meshed import Slabs\n",
    "\n",
    "    return Slabs(\n",
    "        chk=chks_reader,\n",
    "        plc=plc_reader,\n",
    "        key=keys_reader,\n",
    "        state = lambda plc: transition(plc),\n",
    "        state_func = lambda state: getattr(recorder, state, None),\n",
    "        output=lambda state_func, key, chk: state_func(key, chk) if state_func is not None else None,\n",
    "    )\n",
    "\n",
    "\n",
    "slabs = mk_slabs_solution(\n",
    "    *map(mk_iterable_reader, [audio_chks, plc_values, keys]), \n",
    "    store, mk_recorder=RecordingSwitchBoard\n",
    ")\n",
    "slabs.dot_digraph()"
   ]
  },
  {
   "cell_type": "code",
   "execution_count": 16,
   "metadata": {},
   "outputs": [
    {
     "name": "stdout",
     "output_type": "stream",
     "text": [
      "{1: [5, 6, 7, 8, 9, 10, 11, 12, 13, 14, 15, 16, 17, 18, 19, 20, 21, 22, 23, 24],\n",
      " 5: [25, 26, 27, 28, 29, 30, 31, 32, 33, 34, 35, 36, 37, 38, 39],\n",
      " 10: [50, 51, 52, 53, 54, 55, 56, 57, 58, 59]}\n"
     ]
    }
   ],
   "source": [
    "def conditional_recording_4(\n",
    "    audio_chks, plc_values, keys, store, \n",
    "    mk_recorder: Callable[[MutableMapping], Any] = RecordingSwitchBoard,\n",
    "):\n",
    "\n",
    "    slabs = mk_slabs_solution(\n",
    "        *map(mk_iterable_reader, [audio_chks, plc_values, keys]), \n",
    "        store, mk_recorder\n",
    "    )\n",
    "    consume_iterable(slabs)\n",
    "\n",
    "\n",
    "# Example usage:\n",
    "store = dict()\n",
    "test_conditional_recording(conditional_recording_4, store_factory=lambda: store)\n",
    "pprint(store)\n"
   ]
  },
  {
   "attachments": {},
   "cell_type": "markdown",
   "metadata": {},
   "source": [
    "### Reusable component: SwitchCase"
   ]
  },
  {
   "cell_type": "code",
   "execution_count": 42,
   "metadata": {},
   "outputs": [],
   "source": [
    "from dataclasses import dataclass\n",
    "from typing import Mapping, Callable, Any\n",
    "\n",
    "from i2 import Sig, ch_names\n",
    "\n",
    "Case = Any\n",
    "Cases = Mapping[Case, Callable]\n",
    "\n",
    "@dataclass\n",
    "class SimpleSwitchCase:\n",
    "    \"\"\"A functional implementation of thw switch-case control flow.\n",
    "    Makes a callable that takes two arguments, a case and an input.\n",
    "    \n",
    "    >>> f = SimpleSwitchCase({'plus_one': lambda x: x + 1, 'times_two': lambda x: x * 2})\n",
    "    >>> f('plus_one', 2)\n",
    "    3\n",
    "    >>> f('times_two', 2)\n",
    "    4\n",
    "    \"\"\"\n",
    "    cases: Mapping[Case, Callable]\n",
    "\n",
    "    def __call__(self, case, input):\n",
    "        func = self.cases.get(case, None)\n",
    "        if func is None: \n",
    "            raise ValueError(f\"Case {case} not found.\")\n",
    "        return func(input)\n",
    "    \n",
    "\n",
    "def mk_simple_switch_case(\n",
    "        cases: Cases, *, name: str = None, case_name: str = None, input_name: str = None\n",
    "    ):\n",
    "    \"\"\"\n",
    "    Makes a simple switch-case function, with optional naming control.\n",
    "    \"\"\"\n",
    "    switch_case_func = SimpleSwitchCase(cases)\n",
    "    switch_case_func = ch_names(\n",
    "        switch_case_func, **dict(case=case_name, input=input_name)\n",
    "    )\n",
    "    if name is not None:\n",
    "        switch_case_func.__name__ = name\n",
    "    return switch_case_func\n",
    "\n"
   ]
  },
  {
   "cell_type": "code",
   "execution_count": 188,
   "metadata": {},
   "outputs": [],
   "source": [
    "def mk_recorder_switch(\n",
    "        store, \n",
    "        *,\n",
    "        mk_recorder: Callable[[MutableMapping], Any] = RecordingSwitchBoard\n",
    "):\n",
    "    recorder = mk_recorder(store)\n",
    "    return mk_simple_switch_case(\n",
    "        {\n",
    "            \"start\": recorder.start,\n",
    "            \"resume\": recorder.resume,\n",
    "            \"stop\": recorder.stop,\n",
    "            \"waiting\": lambda x: None,\n",
    "        },\n",
    "        name=\"recorder_switch\",\n",
    "        case_name=\"state\",\n",
    "        input_name=\"chk\",\n",
    "    )\n",
    "\n"
   ]
  },
  {
   "cell_type": "code",
   "execution_count": 196,
   "metadata": {},
   "outputs": [
    {
     "data": {
      "text/plain": [
       "<Sig (key, chk)>"
      ]
     },
     "execution_count": 196,
     "metadata": {},
     "output_type": "execute_result"
    }
   ],
   "source": [
    "store = dict()\n",
    "# f = mk_recorder_switch(store)\n",
    "# f\n",
    "# i2.Sig(f.start)\n",
    "g = RecordingSwitchBoard({}).stop\n",
    "i2.Sig(g)\n",
    "# f.func('start', 1)"
   ]
  },
  {
   "cell_type": "code",
   "execution_count": 77,
   "metadata": {},
   "outputs": [
    {
     "data": {
      "image/svg+xml": [
       "<?xml version=\"1.0\" encoding=\"UTF-8\" standalone=\"no\"?>\n",
       "<!DOCTYPE svg PUBLIC \"-//W3C//DTD SVG 1.1//EN\"\n",
       " \"http://www.w3.org/Graphics/SVG/1.1/DTD/svg11.dtd\">\n",
       "<!-- Generated by graphviz version 7.1.0 (20230121.1956)\n",
       " -->\n",
       "<!-- Pages: 1 -->\n",
       "<svg width=\"458pt\" height=\"620pt\"\n",
       " viewBox=\"0.00 0.00 458.00 620.00\" xmlns=\"http://www.w3.org/2000/svg\" xmlns:xlink=\"http://www.w3.org/1999/xlink\">\n",
       "<g id=\"graph0\" class=\"graph\" transform=\"scale(1 1) rotate(0) translate(4 616)\">\n",
       "<polygon fill=\"white\" stroke=\"none\" points=\"-4,4 -4,-616 454,-616 454,4 -4,4\"/>\n",
       "<!-- recorder_switch -->\n",
       "<g id=\"node1\" class=\"node\">\n",
       "<title>recorder_switch</title>\n",
       "<text text-anchor=\"middle\" x=\"254\" y=\"-302.3\" font-family=\"Times,serif\" font-size=\"14.00\">recorder_switch</text>\n",
       "</g>\n",
       "<!-- state_func_ -->\n",
       "<g id=\"node14\" class=\"node\">\n",
       "<title>state_func_</title>\n",
       "<polygon fill=\"none\" stroke=\"black\" points=\"293.5,-252 214.5,-252 214.5,-216 293.5,-216 293.5,-252\"/>\n",
       "<text text-anchor=\"middle\" x=\"254\" y=\"-230.3\" font-family=\"Times,serif\" font-size=\"14.00\">state_func_</text>\n",
       "</g>\n",
       "<!-- recorder_switch&#45;&gt;state_func_ -->\n",
       "<g id=\"edge11\" class=\"edge\">\n",
       "<title>recorder_switch&#45;&gt;state_func_</title>\n",
       "<path fill=\"none\" stroke=\"black\" d=\"M254,-288.05C254,-280.68 254,-271.84 254,-263.51\"/>\n",
       "<polygon fill=\"black\" stroke=\"black\" points=\"257.5,-263.79 254,-253.79 250.5,-263.79 257.5,-263.79\"/>\n",
       "</g>\n",
       "<!-- store -->\n",
       "<g id=\"node2\" class=\"node\">\n",
       "<title>store</title>\n",
       "<text text-anchor=\"middle\" x=\"255\" y=\"-446.3\" font-family=\"Times,serif\" font-size=\"14.00\">store</text>\n",
       "</g>\n",
       "<!-- recorder_switch_ -->\n",
       "<g id=\"node3\" class=\"node\">\n",
       "<title>recorder_switch_</title>\n",
       "<polygon fill=\"none\" stroke=\"black\" points=\"310,-396 200,-396 200,-360 310,-360 310,-396\"/>\n",
       "<text text-anchor=\"middle\" x=\"255\" y=\"-374.3\" font-family=\"Times,serif\" font-size=\"14.00\">recorder_switch_</text>\n",
       "</g>\n",
       "<!-- store&#45;&gt;recorder_switch_ -->\n",
       "<g id=\"edge2\" class=\"edge\">\n",
       "<title>store&#45;&gt;recorder_switch_</title>\n",
       "<path fill=\"none\" stroke=\"black\" d=\"M255,-432.05C255,-424.68 255,-415.84 255,-407.51\"/>\n",
       "<polygon fill=\"black\" stroke=\"black\" points=\"258.5,-407.79 255,-397.79 251.5,-407.79 258.5,-407.79\"/>\n",
       "</g>\n",
       "<!-- recorder_switch_&#45;&gt;recorder_switch -->\n",
       "<g id=\"edge1\" class=\"edge\">\n",
       "<title>recorder_switch_&#45;&gt;recorder_switch</title>\n",
       "<path fill=\"none\" stroke=\"black\" d=\"M254.75,-359.7C254.65,-352.21 254.52,-343.26 254.4,-334.88\"/>\n",
       "<polygon fill=\"black\" stroke=\"black\" points=\"257.9,-335.08 254.26,-325.14 250.9,-335.18 257.9,-335.08\"/>\n",
       "</g>\n",
       "<!-- transition_func -->\n",
       "<g id=\"node4\" class=\"node\">\n",
       "<title>transition_func</title>\n",
       "<text text-anchor=\"middle\" x=\"70\" y=\"-446.3\" font-family=\"Times,serif\" font-size=\"14.00\">transition_func</text>\n",
       "</g>\n",
       "<!-- state_ -->\n",
       "<g id=\"node11\" class=\"node\">\n",
       "<title>state_</title>\n",
       "<polygon fill=\"none\" stroke=\"black\" points=\"182,-396 128,-396 128,-360 182,-360 182,-396\"/>\n",
       "<text text-anchor=\"middle\" x=\"155\" y=\"-374.3\" font-family=\"Times,serif\" font-size=\"14.00\">state_</text>\n",
       "</g>\n",
       "<!-- transition_func&#45;&gt;state_ -->\n",
       "<g id=\"edge8\" class=\"edge\">\n",
       "<title>transition_func&#45;&gt;state_</title>\n",
       "<path fill=\"none\" stroke=\"black\" d=\"M90.58,-432.05C100.97,-423.5 113.76,-412.96 125.21,-403.54\"/>\n",
       "<polygon fill=\"black\" stroke=\"black\" points=\"127.36,-406.3 132.85,-397.24 122.91,-400.89 127.36,-406.3\"/>\n",
       "</g>\n",
       "<!-- trans_func_mapping -->\n",
       "<g id=\"node5\" class=\"node\">\n",
       "<title>trans_func_mapping</title>\n",
       "<text text-anchor=\"middle\" x=\"64\" y=\"-590.3\" font-family=\"Times,serif\" font-size=\"14.00\">trans_func_mapping</text>\n",
       "</g>\n",
       "<!-- transition_func_ -->\n",
       "<g id=\"node6\" class=\"node\">\n",
       "<title>transition_func_</title>\n",
       "<polygon fill=\"none\" stroke=\"black\" points=\"119.5,-540 14.5,-540 14.5,-504 119.5,-504 119.5,-540\"/>\n",
       "<text text-anchor=\"middle\" x=\"67\" y=\"-518.3\" font-family=\"Times,serif\" font-size=\"14.00\">transition_func_</text>\n",
       "</g>\n",
       "<!-- trans_func_mapping&#45;&gt;transition_func_ -->\n",
       "<g id=\"edge4\" class=\"edge\">\n",
       "<title>trans_func_mapping&#45;&gt;transition_func_</title>\n",
       "<path fill=\"none\" stroke=\"black\" d=\"M64.73,-576.05C65.04,-568.68 65.42,-559.84 65.78,-551.51\"/>\n",
       "<polygon fill=\"black\" stroke=\"black\" points=\"69.26,-551.93 66.19,-541.79 62.27,-551.63 69.26,-551.93\"/>\n",
       "</g>\n",
       "<!-- transition_func_&#45;&gt;transition_func -->\n",
       "<g id=\"edge3\" class=\"edge\">\n",
       "<title>transition_func_&#45;&gt;transition_func</title>\n",
       "<path fill=\"none\" stroke=\"black\" d=\"M67.74,-503.7C68.06,-496.21 68.45,-487.26 68.81,-478.88\"/>\n",
       "<polygon fill=\"black\" stroke=\"black\" points=\"72.29,-479.28 69.22,-469.13 65.3,-478.98 72.29,-479.28\"/>\n",
       "</g>\n",
       "<!-- symbol -->\n",
       "<g id=\"node7\" class=\"node\">\n",
       "<title>symbol</title>\n",
       "<text text-anchor=\"middle\" x=\"168\" y=\"-446.3\" font-family=\"Times,serif\" font-size=\"14.00\">symbol</text>\n",
       "</g>\n",
       "<!-- symbol&#45;&gt;state_ -->\n",
       "<g id=\"edge9\" class=\"edge\">\n",
       "<title>symbol&#45;&gt;state_</title>\n",
       "<path fill=\"none\" stroke=\"black\" d=\"M164.85,-432.05C163.48,-424.68 161.84,-415.84 160.29,-407.51\"/>\n",
       "<polygon fill=\"black\" stroke=\"black\" points=\"163.75,-406.96 158.48,-397.76 156.87,-408.23 163.75,-406.96\"/>\n",
       "</g>\n",
       "<!-- plc -->\n",
       "<g id=\"node8\" class=\"node\">\n",
       "<title>plc</title>\n",
       "<text text-anchor=\"middle\" x=\"173\" y=\"-590.3\" font-family=\"Times,serif\" font-size=\"14.00\">plc</text>\n",
       "</g>\n",
       "<!-- symbol_ -->\n",
       "<g id=\"node9\" class=\"node\">\n",
       "<title>symbol_</title>\n",
       "<polygon fill=\"none\" stroke=\"black\" points=\"203,-540 139,-540 139,-504 203,-504 203,-540\"/>\n",
       "<text text-anchor=\"middle\" x=\"171\" y=\"-518.3\" font-family=\"Times,serif\" font-size=\"14.00\">symbol_</text>\n",
       "</g>\n",
       "<!-- plc&#45;&gt;symbol_ -->\n",
       "<g id=\"edge6\" class=\"edge\">\n",
       "<title>plc&#45;&gt;symbol_</title>\n",
       "<path fill=\"none\" stroke=\"black\" d=\"M172.52,-576.05C172.31,-568.68 172.05,-559.84 171.81,-551.51\"/>\n",
       "<polygon fill=\"black\" stroke=\"black\" points=\"175.32,-551.68 171.54,-541.79 168.32,-551.88 175.32,-551.68\"/>\n",
       "</g>\n",
       "<!-- symbol_&#45;&gt;symbol -->\n",
       "<g id=\"edge5\" class=\"edge\">\n",
       "<title>symbol_&#45;&gt;symbol</title>\n",
       "<path fill=\"none\" stroke=\"black\" d=\"M170.26,-503.7C169.94,-496.21 169.55,-487.26 169.19,-478.88\"/>\n",
       "<polygon fill=\"black\" stroke=\"black\" points=\"172.7,-478.98 168.78,-469.13 165.71,-479.28 172.7,-478.98\"/>\n",
       "</g>\n",
       "<!-- state -->\n",
       "<g id=\"node10\" class=\"node\">\n",
       "<title>state</title>\n",
       "<text text-anchor=\"middle\" x=\"156\" y=\"-302.3\" font-family=\"Times,serif\" font-size=\"14.00\">state</text>\n",
       "</g>\n",
       "<!-- state&#45;&gt;state_func_ -->\n",
       "<g id=\"edge12\" class=\"edge\">\n",
       "<title>state&#45;&gt;state_func_</title>\n",
       "<path fill=\"none\" stroke=\"black\" d=\"M179.72,-288.05C192.06,-279.24 207.34,-268.33 220.82,-258.7\"/>\n",
       "<polygon fill=\"black\" stroke=\"black\" points=\"222.48,-261.82 228.58,-253.16 218.41,-256.12 222.48,-261.82\"/>\n",
       "</g>\n",
       "<!-- state_&#45;&gt;state -->\n",
       "<g id=\"edge7\" class=\"edge\">\n",
       "<title>state_&#45;&gt;state</title>\n",
       "<path fill=\"none\" stroke=\"black\" d=\"M155.25,-359.7C155.35,-352.21 155.48,-343.26 155.6,-334.88\"/>\n",
       "<polygon fill=\"black\" stroke=\"black\" points=\"159.1,-335.18 155.74,-325.14 152.1,-335.08 159.1,-335.18\"/>\n",
       "</g>\n",
       "<!-- state_func -->\n",
       "<g id=\"node12\" class=\"node\">\n",
       "<title>state_func</title>\n",
       "<text text-anchor=\"middle\" x=\"257\" y=\"-158.3\" font-family=\"Times,serif\" font-size=\"14.00\">state_func</text>\n",
       "</g>\n",
       "<!-- output_ -->\n",
       "<g id=\"node19\" class=\"node\">\n",
       "<title>output_</title>\n",
       "<polygon fill=\"none\" stroke=\"black\" points=\"335,-108 277,-108 277,-72 335,-72 335,-108\"/>\n",
       "<text text-anchor=\"middle\" x=\"306\" y=\"-86.3\" font-family=\"Times,serif\" font-size=\"14.00\">output_</text>\n",
       "</g>\n",
       "<!-- state_func&#45;&gt;output_ -->\n",
       "<g id=\"edge18\" class=\"edge\">\n",
       "<title>state_func&#45;&gt;output_</title>\n",
       "<path fill=\"none\" stroke=\"black\" d=\"M268.86,-144.05C274.44,-136.09 281.21,-126.41 287.44,-117.51\"/>\n",
       "<polygon fill=\"black\" stroke=\"black\" points=\"290.17,-119.71 293.04,-109.52 284.44,-115.7 290.17,-119.71\"/>\n",
       "</g>\n",
       "<!-- chk -->\n",
       "<g id=\"node13\" class=\"node\">\n",
       "<title>chk</title>\n",
       "<text text-anchor=\"middle\" x=\"351\" y=\"-302.3\" font-family=\"Times,serif\" font-size=\"14.00\">chk</text>\n",
       "</g>\n",
       "<!-- chk&#45;&gt;state_func_ -->\n",
       "<g id=\"edge13\" class=\"edge\">\n",
       "<title>chk&#45;&gt;state_func_</title>\n",
       "<path fill=\"none\" stroke=\"black\" d=\"M327.52,-288.05C315.43,-279.33 300.48,-268.54 287.22,-258.98\"/>\n",
       "<polygon fill=\"black\" stroke=\"black\" points=\"289.32,-256.17 279.17,-253.16 285.23,-261.85 289.32,-256.17\"/>\n",
       "</g>\n",
       "<!-- key_and_chk_ -->\n",
       "<g id=\"node17\" class=\"node\">\n",
       "<title>key_and_chk_</title>\n",
       "<polygon fill=\"none\" stroke=\"black\" points=\"406.5,-252 311.5,-252 311.5,-216 406.5,-216 406.5,-252\"/>\n",
       "<text text-anchor=\"middle\" x=\"359\" y=\"-230.3\" font-family=\"Times,serif\" font-size=\"14.00\">key_and_chk_</text>\n",
       "</g>\n",
       "<!-- chk&#45;&gt;key_and_chk_ -->\n",
       "<g id=\"edge16\" class=\"edge\">\n",
       "<title>chk&#45;&gt;key_and_chk_</title>\n",
       "<path fill=\"none\" stroke=\"black\" d=\"M352.94,-288.05C353.78,-280.68 354.79,-271.84 355.74,-263.51\"/>\n",
       "<polygon fill=\"black\" stroke=\"black\" points=\"359.2,-264.11 356.85,-253.78 352.24,-263.32 359.2,-264.11\"/>\n",
       "</g>\n",
       "<!-- state_func_&#45;&gt;state_func -->\n",
       "<g id=\"edge10\" class=\"edge\">\n",
       "<title>state_func_&#45;&gt;state_func</title>\n",
       "<path fill=\"none\" stroke=\"black\" d=\"M254.74,-215.7C255.06,-208.21 255.45,-199.26 255.81,-190.88\"/>\n",
       "<polygon fill=\"black\" stroke=\"black\" points=\"259.29,-191.28 256.22,-181.13 252.3,-190.98 259.29,-191.28\"/>\n",
       "</g>\n",
       "<!-- key_and_chk -->\n",
       "<g id=\"node15\" class=\"node\">\n",
       "<title>key_and_chk</title>\n",
       "<text text-anchor=\"middle\" x=\"357\" y=\"-158.3\" font-family=\"Times,serif\" font-size=\"14.00\">key_and_chk</text>\n",
       "</g>\n",
       "<!-- key_and_chk&#45;&gt;output_ -->\n",
       "<g id=\"edge19\" class=\"edge\">\n",
       "<title>key_and_chk&#45;&gt;output_</title>\n",
       "<path fill=\"none\" stroke=\"black\" d=\"M344.65,-144.05C338.85,-136.09 331.8,-126.41 325.31,-117.51\"/>\n",
       "<polygon fill=\"black\" stroke=\"black\" points=\"328.2,-115.52 319.48,-109.5 322.54,-119.64 328.2,-115.52\"/>\n",
       "</g>\n",
       "<!-- key -->\n",
       "<g id=\"node16\" class=\"node\">\n",
       "<title>key</title>\n",
       "<text text-anchor=\"middle\" x=\"423\" y=\"-302.3\" font-family=\"Times,serif\" font-size=\"14.00\">key</text>\n",
       "</g>\n",
       "<!-- key&#45;&gt;key_and_chk_ -->\n",
       "<g id=\"edge15\" class=\"edge\">\n",
       "<title>key&#45;&gt;key_and_chk_</title>\n",
       "<path fill=\"none\" stroke=\"black\" d=\"M407.51,-288.05C399.99,-279.84 390.81,-269.79 382.46,-260.66\"/>\n",
       "<polygon fill=\"black\" stroke=\"black\" points=\"385.15,-258.41 375.82,-253.39 379.98,-263.13 385.15,-258.41\"/>\n",
       "</g>\n",
       "<!-- key_and_chk_&#45;&gt;key_and_chk -->\n",
       "<g id=\"edge14\" class=\"edge\">\n",
       "<title>key_and_chk_&#45;&gt;key_and_chk</title>\n",
       "<path fill=\"none\" stroke=\"black\" d=\"M358.51,-215.7C358.29,-208.21 358.04,-199.26 357.8,-190.88\"/>\n",
       "<polygon fill=\"black\" stroke=\"black\" points=\"361.3,-191.03 357.52,-181.14 354.31,-191.23 361.3,-191.03\"/>\n",
       "</g>\n",
       "<!-- output -->\n",
       "<g id=\"node18\" class=\"node\">\n",
       "<title>output</title>\n",
       "<text text-anchor=\"middle\" x=\"306\" y=\"-14.3\" font-family=\"Times,serif\" font-size=\"14.00\">output</text>\n",
       "</g>\n",
       "<!-- output_&#45;&gt;output -->\n",
       "<g id=\"edge17\" class=\"edge\">\n",
       "<title>output_&#45;&gt;output</title>\n",
       "<path fill=\"none\" stroke=\"black\" d=\"M306,-71.7C306,-64.21 306,-55.26 306,-46.88\"/>\n",
       "<polygon fill=\"black\" stroke=\"black\" points=\"309.5,-47.14 306,-37.14 302.5,-47.14 309.5,-47.14\"/>\n",
       "</g>\n",
       "</g>\n",
       "</svg>\n"
      ],
      "text/plain": [
       "<graphviz.graphs.Digraph at 0x16d441150>"
      ]
     },
     "execution_count": 77,
     "metadata": {},
     "output_type": "execute_result"
    }
   ],
   "source": [
    "import i2\n",
    "\n",
    "def mk_transition_func(\n",
    "        trans_func_mapping, initial_state, #symbol_var_name: str,\n",
    "    ):\n",
    "    recording_state_transition_func = mapping_to_transition_func(\n",
    "        trans_func_mapping,\n",
    "        strict=False,\n",
    "    )\n",
    "    transitioner = BasicAutomata(\n",
    "        transition_func=recording_state_transition_func,\n",
    "        state=initial_state,\n",
    "    )\n",
    "\n",
    "    # @i2.ch_names(symbol=symbol_var_name)\n",
    "    def transition(symbol):\n",
    "        return transitioner.transition(symbol)\n",
    "    \n",
    "    return transition\n",
    "\n",
    "from meshed import DAG\n",
    "\n",
    "dag = DAG.from_funcs(\n",
    "    recorder_switch = lambda store: mk_recorder_switch(store),\n",
    "    transition_func=lambda trans_func_mapping: mk_transition_func(trans_func_mapping, \"waiting\"),\n",
    "    symbol=lambda plc: plc,\n",
    "    state=lambda transition_func, symbol: transition_func(symbol),\n",
    "    key_and_chk=lambda key, chk: (key, chk),\n",
    "    state_func=lambda recorder_switch, state, key_and_chk: recorder_switch(state, key_and_chk),\n",
    "    output=lambda state_func, key_and_chk: state_func(*key_and_chk) if state_func is not None else None,\n",
    ")\n",
    "\n",
    "dag.dot_digraph()\n"
   ]
  },
  {
   "cell_type": "code",
   "execution_count": null,
   "metadata": {},
   "outputs": [],
   "source": [
    "import creek.multi_streams"
   ]
  },
  {
   "cell_type": "code",
   "execution_count": 79,
   "metadata": {},
   "outputs": [
    {
     "name": "stdout",
     "output_type": "stream",
     "text": [
      "(plc, chk, key, store={}, trans_func_mapping={('waiting', 1): 'start', ('start', 0): 'resume', ('start', 1): 'stop', ('resume', 1): 'stop', ('stop', 0): 'waiting', ('stop', 1): 'start'})\n"
     ]
    },
    {
     "ename": "TypeError",
     "evalue": "RecordingSwitchBoard.start() missing 1 required positional argument: 'chk'",
     "output_type": "error",
     "traceback": [
      "\u001b[0;31m---------------------------------------------------------------------------\u001b[0m",
      "\u001b[0;31mTypeError\u001b[0m                                 Traceback (most recent call last)",
      "Cell \u001b[0;32mIn[79], line 16\u001b[0m\n\u001b[1;32m     13\u001b[0m \u001b[39mprint\u001b[39m(i2\u001b[39m.\u001b[39mSig(my_dag))\n\u001b[1;32m     15\u001b[0m \u001b[39mfor\u001b[39;00m chk, plc, key \u001b[39min\u001b[39;00m \u001b[39mzip\u001b[39m(audio_chks, plc_values, keys):\n\u001b[0;32m---> 16\u001b[0m     my_dag(chk\u001b[39m=\u001b[39;49mchk, plc\u001b[39m=\u001b[39;49mplc, key\u001b[39m=\u001b[39;49mkey)  \u001b[39m# Careful: use keyword arguments! (Order not consistent.)\u001b[39;00m\n",
      "File \u001b[0;32m~/Dropbox/py/proj/i/meshed/meshed/dag.py:576\u001b[0m, in \u001b[0;36mDAG.__call__\u001b[0;34m(self, *args, **kwargs)\u001b[0m\n\u001b[1;32m    575\u001b[0m \u001b[39mdef\u001b[39;00m \u001b[39m__call__\u001b[39m(\u001b[39mself\u001b[39m, \u001b[39m*\u001b[39margs, \u001b[39m*\u001b[39m\u001b[39m*\u001b[39mkwargs):\n\u001b[0;32m--> 576\u001b[0m     \u001b[39mreturn\u001b[39;00m \u001b[39mself\u001b[39;49m\u001b[39m.\u001b[39;49m_call(\u001b[39m*\u001b[39;49margs, \u001b[39m*\u001b[39;49m\u001b[39m*\u001b[39;49mkwargs)\n",
      "File \u001b[0;32m~/Dropbox/py/proj/i/meshed/meshed/dag.py:594\u001b[0m, in \u001b[0;36mDAG._call\u001b[0;34m(self, *args, **kwargs)\u001b[0m\n\u001b[1;32m    591\u001b[0m scope \u001b[39m=\u001b[39m \u001b[39mself\u001b[39m\u001b[39m.\u001b[39m_get_kwargs(\u001b[39m*\u001b[39margs, \u001b[39m*\u001b[39m\u001b[39m*\u001b[39mkwargs)\n\u001b[1;32m    592\u001b[0m \u001b[39m# Go through self.func_nodes in order and call them on scope (performing said\u001b[39;00m\n\u001b[1;32m    593\u001b[0m \u001b[39m# read_input -> call_func -> write_output operations)\u001b[39;00m\n\u001b[0;32m--> 594\u001b[0m \u001b[39mself\u001b[39;49m\u001b[39m.\u001b[39;49mcall_on_scope(scope)\n\u001b[1;32m    595\u001b[0m \u001b[39m# From the scope, that may contain all intermediary results,\u001b[39;00m\n\u001b[1;32m    596\u001b[0m \u001b[39m# extract the desired final output and return it\u001b[39;00m\n\u001b[1;32m    597\u001b[0m \u001b[39mreturn\u001b[39;00m \u001b[39mself\u001b[39m\u001b[39m.\u001b[39mextract_output_from_scope(scope, \u001b[39mself\u001b[39m\u001b[39m.\u001b[39mleafs)\n",
      "File \u001b[0;32m~/Dropbox/py/proj/i/meshed/meshed/dag.py:634\u001b[0m, in \u001b[0;36mDAG.call_on_scope\u001b[0;34m(self, scope)\u001b[0m\n\u001b[1;32m    624\u001b[0m \u001b[39m\"\"\"Calls the func_nodes using scope (a dict or MutableMapping) both to\u001b[39;00m\n\u001b[1;32m    625\u001b[0m \u001b[39msource it's arguments and write it's results.\u001b[39;00m\n\u001b[1;32m    626\u001b[0m \n\u001b[0;32m   (...)\u001b[0m\n\u001b[1;32m    631\u001b[0m \u001b[39mkey (useful for pipeline sanity), etc.\u001b[39;00m\n\u001b[1;32m    632\u001b[0m \u001b[39m\"\"\"\u001b[39;00m\n\u001b[1;32m    633\u001b[0m scope \u001b[39m=\u001b[39m \u001b[39mself\u001b[39m\u001b[39m.\u001b[39m_preprocess_scope(scope)\n\u001b[0;32m--> 634\u001b[0m \u001b[39mself\u001b[39;49m\u001b[39m.\u001b[39;49m_call_func_nodes_on_scope(scope)\n",
      "File \u001b[0;32m~/Dropbox/py/proj/i/meshed/meshed/dag.py:620\u001b[0m, in \u001b[0;36mDAG._call_func_nodes_on_scope\u001b[0;34m(self, scope)\u001b[0m\n\u001b[1;32m    618\u001b[0m \u001b[39mdef\u001b[39;00m \u001b[39m_call_func_nodes_on_scope\u001b[39m(\u001b[39mself\u001b[39m, scope):\n\u001b[1;32m    619\u001b[0m     \u001b[39m\"\"\"Loop over ``func_nodes`` calling func_node.call_on_scope on scope.\"\"\"\u001b[39;00m\n\u001b[0;32m--> 620\u001b[0m     \u001b[39mfor\u001b[39;00m _ \u001b[39min\u001b[39;00m \u001b[39mself\u001b[39m\u001b[39m.\u001b[39m_call_func_nodes_on_scope_gen(scope):\n\u001b[1;32m    621\u001b[0m         \u001b[39mpass\u001b[39;00m\n",
      "File \u001b[0;32m~/Dropbox/py/proj/i/meshed/meshed/dag.py:616\u001b[0m, in \u001b[0;36mDAG._call_func_nodes_on_scope_gen\u001b[0;34m(self, scope)\u001b[0m\n\u001b[1;32m    614\u001b[0m \u001b[39m\"\"\"Loop over ``func_nodes`` yielding ``func_node.call_on_scope(scope)``.\"\"\"\u001b[39;00m\n\u001b[1;32m    615\u001b[0m \u001b[39mfor\u001b[39;00m func_node \u001b[39min\u001b[39;00m \u001b[39mself\u001b[39m\u001b[39m.\u001b[39mfunc_nodes:\n\u001b[0;32m--> 616\u001b[0m     \u001b[39myield\u001b[39;00m func_node\u001b[39m.\u001b[39;49mcall_on_scope(scope)\n",
      "File \u001b[0;32m~/Dropbox/py/proj/i/meshed/meshed/base.py:306\u001b[0m, in \u001b[0;36mFuncNode.call_on_scope\u001b[0;34m(self, scope, write_output_into_scope)\u001b[0m\n\u001b[1;32m    304\u001b[0m relevant_kwargs \u001b[39m=\u001b[39m \u001b[39mdict\u001b[39m(\u001b[39mself\u001b[39m\u001b[39m.\u001b[39mextractor(scope))\n\u001b[1;32m    305\u001b[0m args, kwargs \u001b[39m=\u001b[39m \u001b[39mself\u001b[39m\u001b[39m.\u001b[39msig\u001b[39m.\u001b[39margs_and_kwargs_from_kwargs(relevant_kwargs)\n\u001b[0;32m--> 306\u001b[0m output \u001b[39m=\u001b[39m call_somewhat_forgivingly(\n\u001b[1;32m    307\u001b[0m     \u001b[39mself\u001b[39;49m\u001b[39m.\u001b[39;49mfunc, args, kwargs, enforce_sig\u001b[39m=\u001b[39;49m\u001b[39mself\u001b[39;49m\u001b[39m.\u001b[39;49msig\n\u001b[1;32m    308\u001b[0m )\n\u001b[1;32m    309\u001b[0m \u001b[39mif\u001b[39;00m write_output_into_scope:\n\u001b[1;32m    310\u001b[0m     scope[\u001b[39mself\u001b[39m\u001b[39m.\u001b[39mout] \u001b[39m=\u001b[39m output\n",
      "File \u001b[0;32m~/Dropbox/py/proj/i/i2/i2/signatures.py:3143\u001b[0m, in \u001b[0;36mcall_somewhat_forgivingly\u001b[0;34m(func, args, kwargs, enforce_sig)\u001b[0m\n\u001b[1;32m   3141\u001b[0m         enforce_sig \u001b[39m=\u001b[39m Sig(enforce_sig)\n\u001b[1;32m   3142\u001b[0m     _kwargs \u001b[39m=\u001b[39m enforce_sig\u001b[39m.\u001b[39mbind(\u001b[39m*\u001b[39margs, \u001b[39m*\u001b[39m\u001b[39m*\u001b[39mkwargs)\u001b[39m.\u001b[39marguments\n\u001b[0;32m-> 3143\u001b[0m     \u001b[39mreturn\u001b[39;00m _call_forgivingly(func, (), _kwargs)\n\u001b[1;32m   3144\u001b[0m \u001b[39melse\u001b[39;00m:\n\u001b[1;32m   3145\u001b[0m     \u001b[39mreturn\u001b[39;00m _call_forgivingly(func, args, kwargs)\n",
      "File \u001b[0;32m~/Dropbox/py/proj/i/i2/i2/signatures.py:3071\u001b[0m, in \u001b[0;36m_call_forgivingly\u001b[0;34m(func, args, kwargs)\u001b[0m\n\u001b[1;32m   3069\u001b[0m     \u001b[39melif\u001b[39;00m VK \u001b[39min\u001b[39;00m variadic_kinds\u001b[39m.\u001b[39mvalues():\n\u001b[1;32m   3070\u001b[0m         _kwargs \u001b[39m=\u001b[39m \u001b[39mdict\u001b[39m(_kwargs, \u001b[39m*\u001b[39m\u001b[39m*\u001b[39mkwargs)\n\u001b[0;32m-> 3071\u001b[0m \u001b[39mreturn\u001b[39;00m func(\u001b[39m*\u001b[39;49m_args, \u001b[39m*\u001b[39;49m\u001b[39m*\u001b[39;49m_kwargs)\n",
      "Cell \u001b[0;32mIn[77], line 28\u001b[0m, in \u001b[0;36m<lambda>\u001b[0;34m(recorder_switch, state, chk)\u001b[0m\n\u001b[1;32m     19\u001b[0m     \u001b[39mreturn\u001b[39;00m transition\n\u001b[1;32m     21\u001b[0m \u001b[39mfrom\u001b[39;00m \u001b[39mmeshed\u001b[39;00m \u001b[39mimport\u001b[39;00m DAG\n\u001b[1;32m     23\u001b[0m dag \u001b[39m=\u001b[39m DAG\u001b[39m.\u001b[39mfrom_funcs(\n\u001b[1;32m     24\u001b[0m     recorder_switch \u001b[39m=\u001b[39m \u001b[39mlambda\u001b[39;00m store: mk_recorder_switch(store),\n\u001b[1;32m     25\u001b[0m     transition_func\u001b[39m=\u001b[39m\u001b[39mlambda\u001b[39;00m trans_func_mapping: mk_transition_func(trans_func_mapping, \u001b[39m\"\u001b[39m\u001b[39mwaiting\u001b[39m\u001b[39m\"\u001b[39m),\n\u001b[1;32m     26\u001b[0m     symbol\u001b[39m=\u001b[39m\u001b[39mlambda\u001b[39;00m plc: plc,\n\u001b[1;32m     27\u001b[0m     state\u001b[39m=\u001b[39m\u001b[39mlambda\u001b[39;00m transition_func, symbol: transition_func(symbol),\n\u001b[0;32m---> 28\u001b[0m     state_func\u001b[39m=\u001b[39m\u001b[39mlambda\u001b[39;00m recorder_switch, state, chk: recorder_switch(state, chk),\n\u001b[1;32m     29\u001b[0m     key_and_chk\u001b[39m=\u001b[39m\u001b[39mlambda\u001b[39;00m key, chk: (key, chk),\n\u001b[1;32m     30\u001b[0m     output\u001b[39m=\u001b[39m\u001b[39mlambda\u001b[39;00m state_func, key_and_chk: state_func(\u001b[39m*\u001b[39mkey_and_chk) \u001b[39mif\u001b[39;00m state_func \u001b[39mis\u001b[39;00m \u001b[39mnot\u001b[39;00m \u001b[39mNone\u001b[39;00m \u001b[39melse\u001b[39;00m \u001b[39mNone\u001b[39;00m,\n\u001b[1;32m     31\u001b[0m )\n\u001b[1;32m     33\u001b[0m dag\u001b[39m.\u001b[39mdot_digraph()\n",
      "File \u001b[0;32m~/Dropbox/py/proj/i/i2/i2/wrapper.py:347\u001b[0m, in \u001b[0;36mWrap.__call__\u001b[0;34m(self, *ingress_args, **ingress_kwargs)\u001b[0m\n\u001b[1;32m    345\u001b[0m \u001b[39mdef\u001b[39;00m \u001b[39m__call__\u001b[39m(\u001b[39mself\u001b[39m, \u001b[39m*\u001b[39mingress_args, \u001b[39m*\u001b[39m\u001b[39m*\u001b[39mingress_kwargs):\n\u001b[1;32m    346\u001b[0m     func_args, func_kwargs \u001b[39m=\u001b[39m \u001b[39mself\u001b[39m\u001b[39m.\u001b[39mingress(\u001b[39m*\u001b[39mingress_args, \u001b[39m*\u001b[39m\u001b[39m*\u001b[39mingress_kwargs)\n\u001b[0;32m--> 347\u001b[0m     \u001b[39mreturn\u001b[39;00m \u001b[39mself\u001b[39m\u001b[39m.\u001b[39megress(\u001b[39mself\u001b[39;49m\u001b[39m.\u001b[39;49mfunc(\u001b[39m*\u001b[39;49mfunc_args, \u001b[39m*\u001b[39;49m\u001b[39m*\u001b[39;49mfunc_kwargs))\n",
      "Cell \u001b[0;32mIn[42], line 26\u001b[0m, in \u001b[0;36mSimpleSwitchCase.__call__\u001b[0;34m(self, case, input)\u001b[0m\n\u001b[1;32m     24\u001b[0m \u001b[39mif\u001b[39;00m func \u001b[39mis\u001b[39;00m \u001b[39mNone\u001b[39;00m: \n\u001b[1;32m     25\u001b[0m     \u001b[39mraise\u001b[39;00m \u001b[39mValueError\u001b[39;00m(\u001b[39mf\u001b[39m\u001b[39m\"\u001b[39m\u001b[39mCase \u001b[39m\u001b[39m{\u001b[39;00mcase\u001b[39m}\u001b[39;00m\u001b[39m not found.\u001b[39m\u001b[39m\"\u001b[39m)\n\u001b[0;32m---> 26\u001b[0m \u001b[39mreturn\u001b[39;00m func(\u001b[39minput\u001b[39;49m)\n",
      "\u001b[0;31mTypeError\u001b[0m: RecordingSwitchBoard.start() missing 1 required positional argument: 'chk'"
     ]
    }
   ],
   "source": [
    "store = dict()\n",
    "trans_func_mapping = {\n",
    "        (\"waiting\", 1): \"start\",\n",
    "        (\"start\", 0): \"resume\",\n",
    "        (\"start\", 1): \"stop\",\n",
    "        (\"resume\", 1): \"stop\",\n",
    "        (\"stop\", 0): \"waiting\",\n",
    "        (\"stop\", 1): \"start\",\n",
    "}\n",
    "\n",
    "my_dag = dag.partial(store=store, trans_func_mapping=trans_func_mapping)\n",
    "my_dag.dot_digraph()\n",
    "print(i2.Sig(my_dag))\n",
    "\n",
    "for chk, plc, key in zip(audio_chks, plc_values, keys):\n",
    "    my_dag(chk=chk, plc=plc, key=key)  # Careful: use keyword arguments! (Order not consistent.)"
   ]
  },
  {
   "cell_type": "code",
   "execution_count": 80,
   "metadata": {},
   "outputs": [
    {
     "data": {
      "text/plain": [
       "([5, 6, 7, 8, 9], 1, 1)"
      ]
     },
     "execution_count": 80,
     "metadata": {},
     "output_type": "execute_result"
    }
   ],
   "source": [
    "chk, plc, key"
   ]
  },
  {
   "cell_type": "code",
   "execution_count": 145,
   "metadata": {},
   "outputs": [],
   "source": [
    "def mk_node_container(dag, scope=()):\n",
    "    from types import SimpleNamespace\n",
    "    return SimpleNamespace(\n",
    "        **{f.name: f.func for f in dag.func_nodes}, **dict(scope)\n",
    "    )\n",
    "\n",
    "scope = {}\n",
    "n = mk_node_container(my_dag, scope)\n"
   ]
  },
  {
   "cell_type": "code",
   "execution_count": 146,
   "metadata": {},
   "outputs": [],
   "source": [
    "scope = dict(chk=chk, plc=plc, key=key)\n",
    "n = mk_node_container(my_dag)\n",
    "it = enumerate(my_dag.call_on_scope_iteratively(scope))"
   ]
  },
  {
   "cell_type": "code",
   "execution_count": 150,
   "metadata": {},
   "outputs": [
    {
     "name": "stdout",
     "output_type": "stream",
     "text": [
      "i = 3\n",
      "FuncNode(transition_func,symbol -> state_ -> state)\n",
      "['chk', 'plc', 'key', 'recorder_switch', 'transition_func', 'symbol', 'state']\n",
      "Next: FuncNode(recorder_switch,state,chk -> state_func_ -> state_func)\n"
     ]
    }
   ],
   "source": [
    "i, _ = next(it)\n",
    "print(f\"i = {i}\")\n",
    "print(f\"{my_dag.func_nodes[i]}\")\n",
    "print(f\"{list(scope)}\")\n",
    "print(f\"Next: {my_dag.func_nodes[i + 1]}\")\n"
   ]
  },
  {
   "cell_type": "code",
   "execution_count": 172,
   "metadata": {},
   "outputs": [
    {
     "ename": "TypeError",
     "evalue": "RecordingSwitchBoard.start() missing 1 required positional argument: 'chk'",
     "output_type": "error",
     "traceback": [
      "\u001b[0;31m---------------------------------------------------------------------------\u001b[0m",
      "\u001b[0;31mTypeError\u001b[0m                                 Traceback (most recent call last)",
      "Cell \u001b[0;32mIn[172], line 3\u001b[0m\n\u001b[1;32m      1\u001b[0m n \u001b[39m=\u001b[39m mk_node_container(my_dag, scope)\n\u001b[1;32m      2\u001b[0m i2\u001b[39m.\u001b[39mSig(n\u001b[39m.\u001b[39mrecorder_switch)\n\u001b[0;32m----> 3\u001b[0m n\u001b[39m.\u001b[39;49mrecorder_switch(n\u001b[39m.\u001b[39;49mstate, n\u001b[39m.\u001b[39;49mchk)\n\u001b[1;32m      4\u001b[0m \u001b[39m# n.state_func_(n.recorder_switch, n.state, n.chk)  # recorder_switch, state, chk\u001b[39;00m\n",
      "File \u001b[0;32m~/Dropbox/py/proj/i/i2/i2/wrapper.py:347\u001b[0m, in \u001b[0;36mWrap.__call__\u001b[0;34m(self, *ingress_args, **ingress_kwargs)\u001b[0m\n\u001b[1;32m    345\u001b[0m \u001b[39mdef\u001b[39;00m \u001b[39m__call__\u001b[39m(\u001b[39mself\u001b[39m, \u001b[39m*\u001b[39mingress_args, \u001b[39m*\u001b[39m\u001b[39m*\u001b[39mingress_kwargs):\n\u001b[1;32m    346\u001b[0m     func_args, func_kwargs \u001b[39m=\u001b[39m \u001b[39mself\u001b[39m\u001b[39m.\u001b[39mingress(\u001b[39m*\u001b[39mingress_args, \u001b[39m*\u001b[39m\u001b[39m*\u001b[39mingress_kwargs)\n\u001b[0;32m--> 347\u001b[0m     \u001b[39mreturn\u001b[39;00m \u001b[39mself\u001b[39m\u001b[39m.\u001b[39megress(\u001b[39mself\u001b[39;49m\u001b[39m.\u001b[39;49mfunc(\u001b[39m*\u001b[39;49mfunc_args, \u001b[39m*\u001b[39;49m\u001b[39m*\u001b[39;49mfunc_kwargs))\n",
      "Cell \u001b[0;32mIn[42], line 26\u001b[0m, in \u001b[0;36mSimpleSwitchCase.__call__\u001b[0;34m(self, case, input)\u001b[0m\n\u001b[1;32m     24\u001b[0m \u001b[39mif\u001b[39;00m func \u001b[39mis\u001b[39;00m \u001b[39mNone\u001b[39;00m: \n\u001b[1;32m     25\u001b[0m     \u001b[39mraise\u001b[39;00m \u001b[39mValueError\u001b[39;00m(\u001b[39mf\u001b[39m\u001b[39m\"\u001b[39m\u001b[39mCase \u001b[39m\u001b[39m{\u001b[39;00mcase\u001b[39m}\u001b[39;00m\u001b[39m not found.\u001b[39m\u001b[39m\"\u001b[39m)\n\u001b[0;32m---> 26\u001b[0m \u001b[39mreturn\u001b[39;00m func(\u001b[39minput\u001b[39;49m)\n",
      "\u001b[0;31mTypeError\u001b[0m: RecordingSwitchBoard.start() missing 1 required positional argument: 'chk'"
     ]
    }
   ],
   "source": [
    "n = mk_node_container(my_dag, scope)\n",
    "i2.Sig(n.recorder_switch)\n",
    "n.recorder_switch\n",
    "# n.state_func_(n.recorder_switch, n.state, n.chk)  # recorder_switch, state, chk\n"
   ]
  },
  {
   "cell_type": "code",
   "execution_count": 165,
   "metadata": {},
   "outputs": [
    {
     "name": "stdout",
     "output_type": "stream",
     "text": [
      "Automatic pdb calling has been turned OFF\n"
     ]
    }
   ],
   "source": [
    "%pdb"
   ]
  },
  {
   "cell_type": "code",
   "execution_count": 156,
   "metadata": {},
   "outputs": [
    {
     "data": {
      "text/plain": [
       "'start'"
      ]
     },
     "execution_count": 156,
     "metadata": {},
     "output_type": "execute_result"
    }
   ],
   "source": [
    "n.state"
   ]
  },
  {
   "cell_type": "code",
   "execution_count": 161,
   "metadata": {},
   "outputs": [
    {
     "data": {
      "text/plain": [
       "<Sig (case, input)>"
      ]
     },
     "execution_count": 161,
     "metadata": {},
     "output_type": "execute_result"
    }
   ],
   "source": [
    "i2.Sig(n.recorder_switch.func)\n",
    "n.recorder_switch.func('start', )"
   ]
  },
  {
   "cell_type": "code",
   "execution_count": 154,
   "metadata": {},
   "outputs": [
    {
     "data": {
      "text/plain": [
       "<i2.Wrap recorder_switch(state, chk)>"
      ]
     },
     "execution_count": 154,
     "metadata": {},
     "output_type": "execute_result"
    }
   ],
   "source": [
    "n.recorder_switch"
   ]
  },
  {
   "cell_type": "code",
   "execution_count": 84,
   "metadata": {},
   "outputs": [
    {
     "data": {
      "text/plain": [
       "<i2.Wrap recorder_switch(state, chk)>"
      ]
     },
     "execution_count": 84,
     "metadata": {},
     "output_type": "execute_result"
    }
   ],
   "source": [
    "scope['recorder_switch']"
   ]
  },
  {
   "cell_type": "code",
   "execution_count": 63,
   "metadata": {},
   "outputs": [],
   "source": [
    "f = my_dag.debugger()\n",
    "it = f(chk=chk, plc=plc, key=key)  # Careful: use keyword arguments! (Order not consistent.)"
   ]
  },
  {
   "cell_type": "code",
   "execution_count": 67,
   "metadata": {},
   "outputs": [
    {
     "name": "stdout",
     "output_type": "stream",
     "text": [
      "3 --------------------------------------------------------------\n",
      "\tfunc_node=FuncNode(transition_func,symbol -> state_ -> state)\n",
      "\tscope={'plc': 1, 'chk': [5, 6, 7, 8, 9], 'key': 1, 'store': {}, 'trans_func_mapping': {('waiting', 1): 'start', ('start', 0): 'resume', ('start', 1): 'stop', ('resume', 1): 'stop', ('stop', 0): 'waiting', ('stop', 1): 'start'}, 'recorder_switch': <i2.Wrap recorder_switch(state, chk)>, 'transition_func': <function mk_transition_func.<locals>.transition at 0x16d767010>, 'symbol': 1, 'state': 'start'}\n"
     ]
    },
    {
     "data": {
      "text/plain": [
       "'start'"
      ]
     },
     "execution_count": 67,
     "metadata": {},
     "output_type": "execute_result"
    }
   ],
   "source": [
    "t = next(it)\n",
    "t"
   ]
  },
  {
   "cell_type": "code",
   "execution_count": 72,
   "metadata": {},
   "outputs": [],
   "source": [
    "tf = mk_transition_func(trans_func_mapping, \"waiting\")\n"
   ]
  },
  {
   "cell_type": "code",
   "execution_count": 75,
   "metadata": {},
   "outputs": [
    {
     "data": {
      "text/plain": [
       "[FuncNode(store -> recorder_switch_ -> recorder_switch),\n",
       " FuncNode(trans_func_mapping -> transition_func_ -> transition_func),\n",
       " FuncNode(plc -> symbol_ -> symbol),\n",
       " FuncNode(transition_func,symbol -> state_ -> state),\n",
       " FuncNode(recorder_switch,state,chk -> state_func_ -> state_func),\n",
       " FuncNode(key,chk -> key_and_chk_ -> key_and_chk),\n",
       " FuncNode(state_func,key_and_chk -> output_ -> output)]"
      ]
     },
     "execution_count": 75,
     "metadata": {},
     "output_type": "execute_result"
    }
   ],
   "source": [
    "my_dag.func_nodes"
   ]
  },
  {
   "cell_type": "code",
   "execution_count": 74,
   "metadata": {},
   "outputs": [
    {
     "data": {
      "text/plain": [
       "'start'"
      ]
     },
     "execution_count": 74,
     "metadata": {},
     "output_type": "execute_result"
    }
   ],
   "source": [
    "my_dag.func_nodes[3].func(tf, 1)"
   ]
  },
  {
   "cell_type": "code",
   "execution_count": 51,
   "metadata": {},
   "outputs": [
    {
     "name": "stdout",
     "output_type": "stream",
     "text": [
      "Automatic pdb calling has been turned OFF\n"
     ]
    }
   ],
   "source": [
    "%pdb"
   ]
  },
  {
   "cell_type": "code",
   "execution_count": 28,
   "metadata": {},
   "outputs": [
    {
     "data": {
      "text/plain": [
       "<Sig (store, trans_func_mapping, chks_reader, plc_reader, keys_reader)>"
      ]
     },
     "execution_count": 28,
     "metadata": {},
     "output_type": "execute_result"
    }
   ],
   "source": [
    "dag_with_readers = dag + DAG.from_funcs(\n",
    "    chk = lambda chks_reader: chks_reader(),\n",
    "    plc = lambda plc_reader: plc_reader(),\n",
    "    key = lambda keys_reader: keys_reader(),\n",
    ")\n",
    "dag_with_readers.dot_digraph()\n",
    "\n",
    "i2.Sig(dag_with_readers)"
   ]
  },
  {
   "cell_type": "code",
   "execution_count": 30,
   "metadata": {},
   "outputs": [],
   "source": [
    "from meshed import Slabs\n",
    "\n",
    "store = dict()\n",
    "trans_func_mapping = {\n",
    "        (\"waiting\", 1): \"start\",\n",
    "        (\"start\", 0): \"resume\",\n",
    "        (\"start\", 1): \"stop\",\n",
    "        (\"resume\", 1): \"stop\",\n",
    "        (\"stop\", 0): \"waiting\",\n",
    "        (\"stop\", 1): \"start\",\n",
    "}\n",
    "\n",
    "\n",
    "\n",
    "chks_reader = mk_iterable_reader(audio_chks)\n",
    "plc_reader = mk_iterable_reader(plc_values)\n",
    "keys_reader = mk_iterable_reader(keys)\n",
    "\n",
    "slabs = Slabs.from_func_nodes(\n",
    "    dag_with_readers\n",
    ")\n"
   ]
  },
  {
   "cell_type": "code",
   "execution_count": 31,
   "metadata": {},
   "outputs": [
    {
     "ename": "TypeError",
     "evalue": "missing a required argument: 'store'",
     "output_type": "error",
     "traceback": [
      "\u001b[0;31m---------------------------------------------------------------------------\u001b[0m",
      "\u001b[0;31mTypeError\u001b[0m                                 Traceback (most recent call last)",
      "Cell \u001b[0;32mIn[31], line 1\u001b[0m\n\u001b[0;32m----> 1\u001b[0m \u001b[39mnext\u001b[39;49m(slabs)\n",
      "File \u001b[0;32m~/Dropbox/py/proj/i/meshed/meshed/slabs.py:407\u001b[0m, in \u001b[0;36mSlabs.__next__\u001b[0;34m(self)\u001b[0m\n\u001b[1;32m    402\u001b[0m \u001b[39mdef\u001b[39;00m \u001b[39m__next__\u001b[39m(\u001b[39mself\u001b[39m):\n\u001b[1;32m    403\u001b[0m     \u001b[39m\"\"\"Get the next slab by calling _call_on_scope on an new empty scope.\u001b[39;00m\n\u001b[1;32m    404\u001b[0m \u001b[39m    At least one of the components will have to be argument-less and provide\u001b[39;00m\n\u001b[1;32m    405\u001b[0m \u001b[39m    some data for other components to get their inputs from, if any are needed.\u001b[39;00m\n\u001b[1;32m    406\u001b[0m \u001b[39m    \"\"\"\u001b[39;00m\n\u001b[0;32m--> 407\u001b[0m     \u001b[39mreturn\u001b[39;00m \u001b[39mself\u001b[39;49m\u001b[39m.\u001b[39;49m_call_on_scope(scope\u001b[39m=\u001b[39;49m\u001b[39mself\u001b[39;49m\u001b[39m.\u001b[39;49mscope_factory())\n",
      "File \u001b[0;32m~/Dropbox/py/proj/i/meshed/meshed/slabs.py:399\u001b[0m, in \u001b[0;36mSlabs._call_on_scope\u001b[0;34m(self, scope)\u001b[0m\n\u001b[1;32m    395\u001b[0m \u001b[39m# for each component\u001b[39;00m\n\u001b[1;32m    396\u001b[0m \u001b[39mfor\u001b[39;00m name, component \u001b[39min\u001b[39;00m \u001b[39mself\u001b[39m\u001b[39m.\u001b[39mcomponents\u001b[39m.\u001b[39mitems():\n\u001b[1;32m    397\u001b[0m     \u001b[39m# call the component using scope to source any arguments it needs\u001b[39;00m\n\u001b[1;32m    398\u001b[0m     \u001b[39m# and write the result in scope, under the component's name.\u001b[39;00m\n\u001b[0;32m--> 399\u001b[0m     scope[name] \u001b[39m=\u001b[39m _call_from_dict(scope, component, \u001b[39mself\u001b[39;49m\u001b[39m.\u001b[39;49msigs[name])\n\u001b[1;32m    400\u001b[0m \u001b[39mreturn\u001b[39;00m scope\n",
      "File \u001b[0;32m~/Dropbox/py/proj/i/meshed/meshed/slabs.py:188\u001b[0m, in \u001b[0;36m_call_from_dict\u001b[0;34m(kwargs, func, sig)\u001b[0m\n\u001b[1;32m    168\u001b[0m \u001b[39mdef\u001b[39;00m \u001b[39m_call_from_dict\u001b[39m(kwargs: MutableMapping, func: Callable, sig: Sig):\n\u001b[1;32m    169\u001b[0m     \u001b[39m\"\"\"A i2.call_forgivingly optimized for our purpose\u001b[39;00m\n\u001b[1;32m    170\u001b[0m \n\u001b[1;32m    171\u001b[0m \u001b[39m    The sig argument needs to be the Sig(func) to work correctly.\u001b[39;00m\n\u001b[0;32m   (...)\u001b[0m\n\u001b[1;32m    186\u001b[0m \n\u001b[1;32m    187\u001b[0m \u001b[39m    \"\"\"\u001b[39;00m\n\u001b[0;32m--> 188\u001b[0m     args, kwargs \u001b[39m=\u001b[39m sig\u001b[39m.\u001b[39;49margs_and_kwargs_from_kwargs(\n\u001b[1;32m    189\u001b[0m         kwargs,\n\u001b[1;32m    190\u001b[0m         allow_excess\u001b[39m=\u001b[39;49m\u001b[39mTrue\u001b[39;49;00m,\n\u001b[1;32m    191\u001b[0m         ignore_kind\u001b[39m=\u001b[39;49m\u001b[39mTrue\u001b[39;49;00m,\n\u001b[1;32m    192\u001b[0m         allow_partial\u001b[39m=\u001b[39;49m\u001b[39mFalse\u001b[39;49;00m,\n\u001b[1;32m    193\u001b[0m         apply_defaults\u001b[39m=\u001b[39;49m\u001b[39mTrue\u001b[39;49;00m,\n\u001b[1;32m    194\u001b[0m     )\n\u001b[1;32m    195\u001b[0m     \u001b[39mreturn\u001b[39;00m func(\u001b[39m*\u001b[39margs, \u001b[39m*\u001b[39m\u001b[39m*\u001b[39mkwargs)\n",
      "File \u001b[0;32m~/Dropbox/py/proj/i/i2/i2/signatures.py:2513\u001b[0m, in \u001b[0;36mSig.args_and_kwargs_from_kwargs\u001b[0;34m(self, kwargs, apply_defaults, allow_partial, allow_excess, ignore_kind, args_limit)\u001b[0m\n\u001b[1;32m   2510\u001b[0m args \u001b[39m=\u001b[39m \u001b[39mtuple\u001b[39m(kwargs[name] \u001b[39mfor\u001b[39;00m name \u001b[39min\u001b[39;00m names_for_args \u001b[39mif\u001b[39;00m name \u001b[39min\u001b[39;00m kwargs)\n\u001b[1;32m   2511\u001b[0m kwargs \u001b[39m=\u001b[39m {name: kwargs[name] \u001b[39mfor\u001b[39;00m name \u001b[39min\u001b[39;00m kwargs \u001b[39mif\u001b[39;00m name \u001b[39mnot\u001b[39;00m \u001b[39min\u001b[39;00m names_for_args}\n\u001b[0;32m-> 2513\u001b[0m kwargs \u001b[39m=\u001b[39m \u001b[39mself\u001b[39;49m\u001b[39m.\u001b[39;49mkwargs_from_args_and_kwargs(\n\u001b[1;32m   2514\u001b[0m     args,\n\u001b[1;32m   2515\u001b[0m     kwargs,\n\u001b[1;32m   2516\u001b[0m     apply_defaults\u001b[39m=\u001b[39;49mapply_defaults,\n\u001b[1;32m   2517\u001b[0m     allow_partial\u001b[39m=\u001b[39;49mallow_partial,\n\u001b[1;32m   2518\u001b[0m     allow_excess\u001b[39m=\u001b[39;49mallow_excess,\n\u001b[1;32m   2519\u001b[0m     ignore_kind\u001b[39m=\u001b[39;49mignore_kind,\n\u001b[1;32m   2520\u001b[0m )\n\u001b[1;32m   2521\u001b[0m kwargs \u001b[39m=\u001b[39m {name: kwargs[name] \u001b[39mfor\u001b[39;00m name \u001b[39min\u001b[39;00m kwargs \u001b[39mif\u001b[39;00m name \u001b[39mnot\u001b[39;00m \u001b[39min\u001b[39;00m names_for_args}\n\u001b[1;32m   2523\u001b[0m \u001b[39mreturn\u001b[39;00m args, kwargs\n",
      "File \u001b[0;32m~/Dropbox/py/proj/i/i2/i2/signatures.py:2352\u001b[0m, in \u001b[0;36mSig.kwargs_from_args_and_kwargs\u001b[0;34m(self, args, kwargs, apply_defaults, allow_partial, allow_excess, ignore_kind, debug)\u001b[0m\n\u001b[1;32m   2347\u001b[0m     max_allowed_num_of_posisional_args \u001b[39m=\u001b[39m \u001b[39msum\u001b[39m(\n\u001b[1;32m   2348\u001b[0m         k \u001b[39m<\u001b[39m\u001b[39m=\u001b[39m PK \u001b[39mfor\u001b[39;00m k \u001b[39min\u001b[39;00m \u001b[39mself\u001b[39m\u001b[39m.\u001b[39mkinds\u001b[39m.\u001b[39mvalues()\n\u001b[1;32m   2349\u001b[0m     )\n\u001b[1;32m   2350\u001b[0m     args \u001b[39m=\u001b[39m args[:max_allowed_num_of_posisional_args]\n\u001b[0;32m-> 2352\u001b[0m b \u001b[39m=\u001b[39m binder(\u001b[39m*\u001b[39;49margs, \u001b[39m*\u001b[39;49m\u001b[39m*\u001b[39;49msig_relevant_kwargs)\n\u001b[1;32m   2353\u001b[0m \u001b[39mif\u001b[39;00m apply_defaults:\n\u001b[1;32m   2354\u001b[0m     b\u001b[39m.\u001b[39mapply_defaults()\n",
      "File \u001b[0;32m~/.pyenv/versions/3.10.8/lib/python3.10/inspect.py:3182\u001b[0m, in \u001b[0;36mSignature.bind\u001b[0;34m(self, *args, **kwargs)\u001b[0m\n\u001b[1;32m   3177\u001b[0m \u001b[39mdef\u001b[39;00m \u001b[39mbind\u001b[39m(\u001b[39mself\u001b[39m, \u001b[39m/\u001b[39m, \u001b[39m*\u001b[39margs, \u001b[39m*\u001b[39m\u001b[39m*\u001b[39mkwargs):\n\u001b[1;32m   3178\u001b[0m     \u001b[39m\"\"\"Get a BoundArguments object, that maps the passed `args`\u001b[39;00m\n\u001b[1;32m   3179\u001b[0m \u001b[39m    and `kwargs` to the function's signature.  Raises `TypeError`\u001b[39;00m\n\u001b[1;32m   3180\u001b[0m \u001b[39m    if the passed arguments can not be bound.\u001b[39;00m\n\u001b[1;32m   3181\u001b[0m \u001b[39m    \"\"\"\u001b[39;00m\n\u001b[0;32m-> 3182\u001b[0m     \u001b[39mreturn\u001b[39;00m \u001b[39mself\u001b[39;49m\u001b[39m.\u001b[39;49m_bind(args, kwargs)\n",
      "File \u001b[0;32m~/.pyenv/versions/3.10.8/lib/python3.10/inspect.py:3097\u001b[0m, in \u001b[0;36mSignature._bind\u001b[0;34m(self, args, kwargs, partial)\u001b[0m\n\u001b[1;32m   3095\u001b[0m                 msg \u001b[39m=\u001b[39m \u001b[39m'\u001b[39m\u001b[39mmissing a required argument: \u001b[39m\u001b[39m{arg!r}\u001b[39;00m\u001b[39m'\u001b[39m\n\u001b[1;32m   3096\u001b[0m                 msg \u001b[39m=\u001b[39m msg\u001b[39m.\u001b[39mformat(arg\u001b[39m=\u001b[39mparam\u001b[39m.\u001b[39mname)\n\u001b[0;32m-> 3097\u001b[0m                 \u001b[39mraise\u001b[39;00m \u001b[39mTypeError\u001b[39;00m(msg) \u001b[39mfrom\u001b[39;00m \u001b[39mNone\u001b[39m\n\u001b[1;32m   3098\u001b[0m \u001b[39melse\u001b[39;00m:\n\u001b[1;32m   3099\u001b[0m     \u001b[39m# We have a positional argument to process\u001b[39;00m\n\u001b[1;32m   3100\u001b[0m     \u001b[39mtry\u001b[39;00m:\n",
      "\u001b[0;31mTypeError\u001b[0m: missing a required argument: 'store'"
     ]
    }
   ],
   "source": [
    "next(slabs)"
   ]
  },
  {
   "cell_type": "code",
   "execution_count": null,
   "metadata": {},
   "outputs": [],
   "source": [
    "from creek.automatas import BasicAutomata, MappingTransitionFunc\n",
    "\n",
    "store = dict()\n",
    "mk_recorder = RecordingSwitchBoard\n",
    "recorder = mk_recorder(store)\n",
    "\n",
    "def waiting(key, chk):\n",
    "    pass\n",
    "\n",
    "trans_func = MappingTransitionFunc(\n",
    "    {\n",
    "        (waiting, 1): recorder.start,\n",
    "        (\"start\", 0): \"resume\",\n",
    "        (\"start\", 1): \"stop\",\n",
    "        (\"resume\", 1): \"stop\",\n",
    "        (\"stop\", 0): \"waiting\",\n",
    "        (\"stop\", 1): \"start\",\n",
    "    },\n",
    "    strict=False,\n",
    ")\n",
    "\n",
    "trans_func = trans_func.map_states(\n",
    "    {\n",
    "        \"waiting\": lambda key, chk: None,\n",
    "        \"start\": recorder.start,\n",
    "        \"resume\": recorder.resume,\n",
    "        \"stop\": recorder.stop,\n",
    "    }\n",
    ")\n",
    "\n",
    "transitioner = BasicAutomata(\n",
    "    transition_func=trans_func,\n",
    "    state=\"waiting\",\n",
    ")\n",
    "\n",
    "state_sequence = list(transitioner('waiting', plc_values))\n",
    "state_sequence"
   ]
  },
  {
   "cell_type": "code",
   "execution_count": null,
   "metadata": {},
   "outputs": [],
   "source": []
  },
  {
   "cell_type": "code",
   "execution_count": null,
   "metadata": {},
   "outputs": [],
   "source": []
  },
  {
   "attachments": {},
   "cell_type": "markdown",
   "metadata": {},
   "source": [
    "# Appendices"
   ]
  },
  {
   "cell_type": "code",
   "execution_count": null,
   "metadata": {},
   "outputs": [],
   "source": []
  },
  {
   "attachments": {},
   "cell_type": "markdown",
   "metadata": {},
   "source": [
    "## Diagrams"
   ]
  },
  {
   "cell_type": "code",
   "execution_count": 15,
   "metadata": {},
   "outputs": [],
   "source": [
    "# pip install kroki\n",
    "%load_ext kroki"
   ]
  },
  {
   "cell_type": "code",
   "execution_count": 46,
   "metadata": {},
   "outputs": [
    {
     "data": {
      "image/svg+xml": [
       "<svg xmlns=\"http://www.w3.org/2000/svg\" aria-roledescription=\"flowchart-v2\" role=\"graphics-document document\" viewBox=\"-8 -8 294.25 359\" height=\"359\" width=\"294.25\" id=\"container\"><style>#container{font-family:&quot;trebuchet ms&quot;,verdana,arial,sans-serif;font-size:16px;fill:#333;}#container .error-icon{fill:#552222;}#container .error-text{fill:#552222;stroke:#552222;}#container .edge-thickness-normal{stroke-width:2px;}#container .edge-thickness-thick{stroke-width:3.5px;}#container .edge-pattern-solid{stroke-dasharray:0;}#container .edge-pattern-dashed{stroke-dasharray:3;}#container .edge-pattern-dotted{stroke-dasharray:2;}#container .marker{fill:#333333;stroke:#333333;}#container .marker.cross{stroke:#333333;}#container svg{font-family:&quot;trebuchet ms&quot;,verdana,arial,sans-serif;font-size:16px;}#container .label{font-family:&quot;trebuchet ms&quot;,verdana,arial,sans-serif;color:#333;}#container .cluster-label text{fill:#333;}#container .cluster-label span,#container p{color:#333;}#container .label text,#container span,#container p{fill:#333;color:#333;}#container .node rect,#container .node circle,#container .node ellipse,#container .node polygon,#container .node path{fill:#ECECFF;stroke:#9370DB;stroke-width:1px;}#container .flowchart-label text{text-anchor:middle;}#container .node .label{text-align:center;}#container .node.clickable{cursor:pointer;}#container .arrowheadPath{fill:#333333;}#container .edgePath .path{stroke:#333333;stroke-width:2.0px;}#container .flowchart-link{stroke:#333333;fill:none;}#container .edgeLabel{background-color:#e8e8e8;text-align:center;}#container .edgeLabel rect{opacity:0.5;background-color:#e8e8e8;fill:#e8e8e8;}#container .cluster rect{fill:#ffffde;stroke:#aaaa33;stroke-width:1px;}#container .cluster text{fill:#333;}#container .cluster span,#container p{color:#333;}#container div.mermaidTooltip{position:absolute;text-align:center;max-width:200px;padding:2px;font-family:&quot;trebuchet ms&quot;,verdana,arial,sans-serif;font-size:12px;background:hsl(80, 100%, 96.2745098039%);border:1px solid #aaaa33;border-radius:2px;pointer-events:none;z-index:100;}#container .flowchartTitleText{text-anchor:middle;font-size:18px;fill:#333;}#container :root{--mermaid-font-family:&quot;trebuchet ms&quot;,verdana,arial,sans-serif;}</style><g><marker orient=\"auto\" markerHeight=\"12\" markerWidth=\"12\" markerUnits=\"userSpaceOnUse\" refY=\"5\" refX=\"10\" viewBox=\"0 0 12 20\" class=\"marker flowchart\" id=\"flowchart-pointEnd\"><path style=\"stroke-width: 1; stroke-dasharray: 1, 0;\" class=\"arrowMarkerPath\" d=\"M 0 0 L 10 5 L 0 10 z\"/></marker><marker orient=\"auto\" markerHeight=\"12\" markerWidth=\"12\" markerUnits=\"userSpaceOnUse\" refY=\"5\" refX=\"0\" viewBox=\"0 0 10 10\" class=\"marker flowchart\" id=\"flowchart-pointStart\"><path style=\"stroke-width: 1; stroke-dasharray: 1, 0;\" class=\"arrowMarkerPath\" d=\"M 0 5 L 10 10 L 10 0 z\"/></marker><marker orient=\"auto\" markerHeight=\"11\" markerWidth=\"11\" markerUnits=\"userSpaceOnUse\" refY=\"5\" refX=\"11\" viewBox=\"0 0 10 10\" class=\"marker flowchart\" id=\"flowchart-circleEnd\"><circle style=\"stroke-width: 1; stroke-dasharray: 1, 0;\" class=\"arrowMarkerPath\" r=\"5\" cy=\"5\" cx=\"5\"/></marker><marker orient=\"auto\" markerHeight=\"11\" markerWidth=\"11\" markerUnits=\"userSpaceOnUse\" refY=\"5\" refX=\"-1\" viewBox=\"0 0 10 10\" class=\"marker flowchart\" id=\"flowchart-circleStart\"><circle style=\"stroke-width: 1; stroke-dasharray: 1, 0;\" class=\"arrowMarkerPath\" r=\"5\" cy=\"5\" cx=\"5\"/></marker><marker orient=\"auto\" markerHeight=\"11\" markerWidth=\"11\" markerUnits=\"userSpaceOnUse\" refY=\"5.2\" refX=\"12\" viewBox=\"0 0 11 11\" class=\"marker cross flowchart\" id=\"flowchart-crossEnd\"><path style=\"stroke-width: 2; stroke-dasharray: 1, 0;\" class=\"arrowMarkerPath\" d=\"M 1,1 l 9,9 M 10,1 l -9,9\"/></marker><marker orient=\"auto\" markerHeight=\"11\" markerWidth=\"11\" markerUnits=\"userSpaceOnUse\" refY=\"5.2\" refX=\"-1\" viewBox=\"0 0 11 11\" class=\"marker cross flowchart\" id=\"flowchart-crossStart\"><path style=\"stroke-width: 2; stroke-dasharray: 1, 0;\" class=\"arrowMarkerPath\" d=\"M 1,1 l 9,9 M 10,1 l -9,9\"/></marker><g class=\"root\"><g class=\"clusters\"/><g class=\"edgePaths\"><path marker-end=\"url(#flowchart-pointEnd)\" style=\"fill:none;\" class=\"edge-thickness-normal edge-pattern-solid flowchart-link LS-nothing LE-start_recording\" id=\"L-nothing-start_recording-0\" d=\"M218.88971480582524,34L210.83517900485435,39.75C202.7806432038835,45.5,186.67157160194174,57,178.61703580097085,68.5C170.5625,80,170.5625,91.5,170.5625,97.25L170.5625,103\"/><path marker-end=\"url(#flowchart-pointEnd)\" style=\"fill:none;\" class=\"edge-thickness-normal edge-pattern-solid flowchart-link LS-start_recording LE-continue_recording\" id=\"L-start_recording-continue_recording-0\" d=\"M139.89441747572815,137L129.5213895631068,142.75C119.14836165048543,148.5,98.4023058252427,160,88.02927791262135,171.5C77.65625,183,77.65625,194.5,77.65625,200.25L77.65625,206\"/><path marker-end=\"url(#flowchart-pointEnd)\" style=\"fill:none;\" class=\"edge-thickness-normal edge-pattern-solid flowchart-link LS-start_recording LE-end_recording\" id=\"L-start_recording-end_recording-0\" d=\"M178.22694174757282,137L180.81932645631068,142.75C183.41171116504856,148.5,188.59648058252426,160,191.18886529126212,174.33333333333334C193.78125,188.66666666666666,193.78125,205.83333333333334,193.78125,223C193.78125,240.16666666666666,193.78125,257.3333333333333,193.78125,271.6666666666667C193.78125,286,193.78125,297.5,193.78125,303.25L193.78125,309\"/><path marker-end=\"url(#flowchart-pointEnd)\" style=\"fill:none;\" class=\"edge-thickness-normal edge-pattern-solid flowchart-link LS-continue_recording LE-end_recording\" id=\"L-continue_recording-end_recording-0\" d=\"M77.65625,240L77.65625,245.75C77.65625,251.5,77.65625,263,90.62166262135922,274.5C103.58707524271846,286,129.5179004854369,297.5,142.48331310679612,303.25L155.44872572815535,309\"/><path marker-end=\"url(#flowchart-pointEnd)\" style=\"fill:none;\" class=\"edge-thickness-normal edge-pattern-solid flowchart-link LS-end_recording LE-nothing\" id=\"L-end_recording-nothing-0\" d=\"M218.41474514563106,309L226.7466626213592,303.25C235.07858009708738,297.5,251.74241504854368,286,260.0743325242718,271.6666666666667C268.40625,257.3333333333333,268.40625,240.16666666666666,268.40625,223C268.40625,205.83333333333334,268.40625,188.66666666666666,268.40625,171.5C268.40625,154.33333333333334,268.40625,137.16666666666666,268.40625,120C268.40625,102.83333333333333,268.40625,85.66666666666667,265.5364836165049,71.33333333333333C262.6667172330097,57,256.9271844660194,45.5,254.05741808252426,39.75L251.18765169902912,34\"/><path marker-end=\"url(#flowchart-pointEnd)\" style=\"fill:none;\" class=\"edge-thickness-normal edge-pattern-solid flowchart-link LS-end_recording LE-start_recording\" id=\"L-end_recording-start_recording-0\" d=\"M202.67324029126215,309L205.68082524271844,303.25C208.68841019417474,297.5,214.70358009708738,286,217.71116504854368,271.6666666666667C220.71875,257.3333333333333,220.71875,240.16666666666666,220.71875,223C220.71875,205.83333333333334,220.71875,188.66666666666666,215.1187803398058,174.33333333333334C209.51881067961165,160,198.3188713592233,148.5,192.7189016990291,142.75L187.11893203883494,137\"/></g><g class=\"edgeLabels\"><g transform=\"translate(170.5625, 68.5)\" class=\"edgeLabel\"><g transform=\"translate(-3.46875, -9.5)\" class=\"label\"><foreignObject height=\"19\" width=\"6.9375\"><div xmlns=\"http://www.w3.org/1999/xhtml\" style=\"display: inline-block; white-space: nowrap;\"><span class=\"edgeLabel\">1</span></div></foreignObject></g></g><g transform=\"translate(77.65625, 171.5)\" class=\"edgeLabel\"><g transform=\"translate(-4.46875, -9.5)\" class=\"label\"><foreignObject height=\"19\" width=\"8.9375\"><div xmlns=\"http://www.w3.org/1999/xhtml\" style=\"display: inline-block; white-space: nowrap;\"><span class=\"edgeLabel\">0</span></div></foreignObject></g></g><g transform=\"translate(193.78125, 223)\" class=\"edgeLabel\"><g transform=\"translate(-3.46875, -9.5)\" class=\"label\"><foreignObject height=\"19\" width=\"6.9375\"><div xmlns=\"http://www.w3.org/1999/xhtml\" style=\"display: inline-block; white-space: nowrap;\"><span class=\"edgeLabel\">1</span></div></foreignObject></g></g><g transform=\"translate(77.65625, 274.5)\" class=\"edgeLabel\"><g transform=\"translate(-3.46875, -9.5)\" class=\"label\"><foreignObject height=\"19\" width=\"6.9375\"><div xmlns=\"http://www.w3.org/1999/xhtml\" style=\"display: inline-block; white-space: nowrap;\"><span class=\"edgeLabel\">1</span></div></foreignObject></g></g><g transform=\"translate(268.40625, 171.5)\" class=\"edgeLabel\"><g transform=\"translate(-4.46875, -9.5)\" class=\"label\"><foreignObject height=\"19\" width=\"8.9375\"><div xmlns=\"http://www.w3.org/1999/xhtml\" style=\"display: inline-block; white-space: nowrap;\"><span class=\"edgeLabel\">0</span></div></foreignObject></g></g><g transform=\"translate(220.71875, 223)\" class=\"edgeLabel\"><g transform=\"translate(-3.46875, -9.5)\" class=\"label\"><foreignObject height=\"19\" width=\"6.9375\"><div xmlns=\"http://www.w3.org/1999/xhtml\" style=\"display: inline-block; white-space: nowrap;\"><span class=\"edgeLabel\">1</span></div></foreignObject></g></g></g><g class=\"nodes\"><g transform=\"translate(242.703125, 17)\" id=\"flowchart-nothing-24\" class=\"node default default flowchart-label\"><rect height=\"34\" width=\"71.09375\" y=\"-17\" x=\"-35.546875\" ry=\"0\" rx=\"0\" style=\"\" class=\"basic label-container\"/><g transform=\"translate(-28.046875, -9.5)\" style=\"\" class=\"label\"><rect/><foreignObject height=\"19\" width=\"56.09375\"><div xmlns=\"http://www.w3.org/1999/xhtml\" style=\"display: inline-block; white-space: nowrap;\"><span class=\"nodeLabel\">nothing</span></div></foreignObject></g></g><g transform=\"translate(170.5625, 120)\" id=\"flowchart-start_recording-25\" class=\"node default default flowchart-label\"><rect height=\"34\" width=\"125.6875\" y=\"-17\" x=\"-62.84375\" ry=\"0\" rx=\"0\" style=\"\" class=\"basic label-container\"/><g transform=\"translate(-55.34375, -9.5)\" style=\"\" class=\"label\"><rect/><foreignObject height=\"19\" width=\"110.6875\"><div xmlns=\"http://www.w3.org/1999/xhtml\" style=\"display: inline-block; white-space: nowrap;\"><span class=\"nodeLabel\">start_recording</span></div></foreignObject></g></g><g transform=\"translate(77.65625, 223)\" id=\"flowchart-continue_recording-27\" class=\"node default default flowchart-label\"><rect height=\"34\" width=\"155.3125\" y=\"-17\" x=\"-77.65625\" ry=\"0\" rx=\"0\" style=\"\" class=\"basic label-container\"/><g transform=\"translate(-70.15625, -9.5)\" style=\"\" class=\"label\"><rect/><foreignObject height=\"19\" width=\"140.3125\"><div xmlns=\"http://www.w3.org/1999/xhtml\" style=\"display: inline-block; white-space: nowrap;\"><span class=\"nodeLabel\">continue_recording</span></div></foreignObject></g></g><g transform=\"translate(193.78125, 326)\" id=\"flowchart-end_recording-29\" class=\"node default default flowchart-label\"><rect height=\"34\" width=\"119.546875\" y=\"-17\" x=\"-59.7734375\" ry=\"0\" rx=\"0\" style=\"\" class=\"basic label-container\"/><g transform=\"translate(-52.2734375, -9.5)\" style=\"\" class=\"label\"><rect/><foreignObject height=\"19\" width=\"104.546875\"><div xmlns=\"http://www.w3.org/1999/xhtml\" style=\"display: inline-block; white-space: nowrap;\"><span class=\"nodeLabel\">end_recording</span></div></foreignObject></g></g></g></g></g></svg>"
      ],
      "text/plain": [
       "<IPython.core.display.SVG object>"
      ]
     },
     "execution_count": 46,
     "metadata": {},
     "output_type": "execute_result"
    }
   ],
   "source": [
    "%%kroki mermaid\n",
    "flowchart TD\n",
    "   nothing -->|1| start_recording\n",
    "   start_recording -->|0| continue_recording\n",
    "   start_recording -->|1| end_recording\n",
    "   continue_recording -->|1| end_recording\n",
    "   end_recording -->|0| nothing\n",
    "   end_recording -->|1| start_recording"
   ]
  },
  {
   "cell_type": "code",
   "execution_count": 48,
   "metadata": {},
   "outputs": [
    {
     "data": {
      "image/svg+xml": [
       "<svg xmlns=\"http://www.w3.org/2000/svg\" aria-roledescription=\"flowchart-v2\" role=\"graphics-document document\" viewBox=\"-8 -8 355.3203125 359\" height=\"359\" width=\"355.3203125\" id=\"container\"><style>#container{font-family:&quot;trebuchet ms&quot;,verdana,arial,sans-serif;font-size:16px;fill:#333;}#container .error-icon{fill:#552222;}#container .error-text{fill:#552222;stroke:#552222;}#container .edge-thickness-normal{stroke-width:2px;}#container .edge-thickness-thick{stroke-width:3.5px;}#container .edge-pattern-solid{stroke-dasharray:0;}#container .edge-pattern-dashed{stroke-dasharray:3;}#container .edge-pattern-dotted{stroke-dasharray:2;}#container .marker{fill:#333333;stroke:#333333;}#container .marker.cross{stroke:#333333;}#container svg{font-family:&quot;trebuchet ms&quot;,verdana,arial,sans-serif;font-size:16px;}#container .label{font-family:&quot;trebuchet ms&quot;,verdana,arial,sans-serif;color:#333;}#container .cluster-label text{fill:#333;}#container .cluster-label span,#container p{color:#333;}#container .label text,#container span,#container p{fill:#333;color:#333;}#container .node rect,#container .node circle,#container .node ellipse,#container .node polygon,#container .node path{fill:#ECECFF;stroke:#9370DB;stroke-width:1px;}#container .flowchart-label text{text-anchor:middle;}#container .node .label{text-align:center;}#container .node.clickable{cursor:pointer;}#container .arrowheadPath{fill:#333333;}#container .edgePath .path{stroke:#333333;stroke-width:2.0px;}#container .flowchart-link{stroke:#333333;fill:none;}#container .edgeLabel{background-color:#e8e8e8;text-align:center;}#container .edgeLabel rect{opacity:0.5;background-color:#e8e8e8;fill:#e8e8e8;}#container .cluster rect{fill:#ffffde;stroke:#aaaa33;stroke-width:1px;}#container .cluster text{fill:#333;}#container .cluster span,#container p{color:#333;}#container div.mermaidTooltip{position:absolute;text-align:center;max-width:200px;padding:2px;font-family:&quot;trebuchet ms&quot;,verdana,arial,sans-serif;font-size:12px;background:hsl(80, 100%, 96.2745098039%);border:1px solid #aaaa33;border-radius:2px;pointer-events:none;z-index:100;}#container .flowchartTitleText{text-anchor:middle;font-size:18px;fill:#333;}#container :root{--mermaid-font-family:&quot;trebuchet ms&quot;,verdana,arial,sans-serif;}</style><g><marker orient=\"auto\" markerHeight=\"12\" markerWidth=\"12\" markerUnits=\"userSpaceOnUse\" refY=\"5\" refX=\"10\" viewBox=\"0 0 12 20\" class=\"marker flowchart\" id=\"flowchart-pointEnd\"><path style=\"stroke-width: 1; stroke-dasharray: 1, 0;\" class=\"arrowMarkerPath\" d=\"M 0 0 L 10 5 L 0 10 z\"/></marker><marker orient=\"auto\" markerHeight=\"12\" markerWidth=\"12\" markerUnits=\"userSpaceOnUse\" refY=\"5\" refX=\"0\" viewBox=\"0 0 10 10\" class=\"marker flowchart\" id=\"flowchart-pointStart\"><path style=\"stroke-width: 1; stroke-dasharray: 1, 0;\" class=\"arrowMarkerPath\" d=\"M 0 5 L 10 10 L 10 0 z\"/></marker><marker orient=\"auto\" markerHeight=\"11\" markerWidth=\"11\" markerUnits=\"userSpaceOnUse\" refY=\"5\" refX=\"11\" viewBox=\"0 0 10 10\" class=\"marker flowchart\" id=\"flowchart-circleEnd\"><circle style=\"stroke-width: 1; stroke-dasharray: 1, 0;\" class=\"arrowMarkerPath\" r=\"5\" cy=\"5\" cx=\"5\"/></marker><marker orient=\"auto\" markerHeight=\"11\" markerWidth=\"11\" markerUnits=\"userSpaceOnUse\" refY=\"5\" refX=\"-1\" viewBox=\"0 0 10 10\" class=\"marker flowchart\" id=\"flowchart-circleStart\"><circle style=\"stroke-width: 1; stroke-dasharray: 1, 0;\" class=\"arrowMarkerPath\" r=\"5\" cy=\"5\" cx=\"5\"/></marker><marker orient=\"auto\" markerHeight=\"11\" markerWidth=\"11\" markerUnits=\"userSpaceOnUse\" refY=\"5.2\" refX=\"12\" viewBox=\"0 0 11 11\" class=\"marker cross flowchart\" id=\"flowchart-crossEnd\"><path style=\"stroke-width: 2; stroke-dasharray: 1, 0;\" class=\"arrowMarkerPath\" d=\"M 1,1 l 9,9 M 10,1 l -9,9\"/></marker><marker orient=\"auto\" markerHeight=\"11\" markerWidth=\"11\" markerUnits=\"userSpaceOnUse\" refY=\"5.2\" refX=\"-1\" viewBox=\"0 0 11 11\" class=\"marker cross flowchart\" id=\"flowchart-crossStart\"><path style=\"stroke-width: 2; stroke-dasharray: 1, 0;\" class=\"arrowMarkerPath\" d=\"M 1,1 l 9,9 M 10,1 l -9,9\"/></marker><g class=\"root\"><g class=\"clusters\"/><g class=\"edgePaths\"><path marker-end=\"url(#flowchart-pointEnd)\" style=\"fill:none;\" class=\"edge-thickness-normal edge-pattern-solid flowchart-link LS-nothing LE-nothing\" id=\"L-nothing-nothing-0\" d=\"M295.3828125,7.231118969436727L299.7682291666667,6.025932474530606C304.1536458333333,4.820745979624484,312.9244791666667,2.410372989812242,318.40625,1.205186494906121C323.8880208333333,0,326.0807291666667,0,328.2734375,2.8333333333333335C330.4661458333333,5.666666666666667,332.6588541666667,11.333333333333334,332.6588541666667,17C332.6588541666667,22.666666666666668,330.4661458333333,28.333333333333332,328.2734375,31.166666666666668C326.0807291666667,34,323.8880208333333,34,318.40625,32.79481350509388C312.9244791666667,31.58962701018776,304.1536458333333,29.179254020375513,299.7682291666667,27.974067525469394L295.3828125,26.76888103056327\"/><path marker-end=\"url(#flowchart-pointEnd)\" style=\"fill:none;\" class=\"edge-thickness-normal edge-pattern-solid flowchart-link LS-nothing LE-start_recording\" id=\"L-nothing-start_recording-0\" d=\"M227.53800060679612,34L216.61369842233012,39.75C205.6893962378641,45.5,183.84079186893203,57,172.91648968446603,68.5C161.9921875,80,161.9921875,91.5,161.9921875,97.25L161.9921875,103\"/><path marker-end=\"url(#flowchart-pointEnd)\" style=\"fill:none;\" class=\"edge-thickness-normal edge-pattern-solid flowchart-link LS-start_recording LE-continue_recording\" id=\"L-start_recording-continue_recording-0\" d=\"M134.1531401699029,137L124.73699180825243,142.75C115.32084344660194,148.5,96.48854672330098,160,87.07239836165049,171.5C77.65625,183,77.65625,194.5,77.65625,200.25L77.65625,206\"/><path marker-end=\"url(#flowchart-pointEnd)\" style=\"fill:none;\" class=\"edge-thickness-normal edge-pattern-solid flowchart-link LS-start_recording LE-end_recording\" id=\"L-start_recording-end_recording-0\" d=\"M182.037848907767,137L188.81799908980585,142.75C195.59814927184468,148.5,209.15844963592235,160,215.93859981796118,174.33333333333334C222.71875,188.66666666666666,222.71875,205.83333333333334,222.71875,223C222.71875,240.16666666666666,222.71875,257.3333333333333,221.4007509101942,271.6666666666667C220.08275182038835,286,217.4467536407767,297.5,216.1287545509709,303.25L214.81075546116506,309\"/><path marker-end=\"url(#flowchart-pointEnd)\" style=\"fill:none;\" class=\"edge-thickness-normal edge-pattern-solid flowchart-link LS-continue_recording LE-continue_recording\" id=\"L-continue_recording-continue_recording-0\" d=\"M155.3125,210.302374511572L159.69791666666666,209.58531209297666C164.08333333333334,208.86824967438133,172.85416666666666,207.43412483719067,178.3359375,206.71706241859533C183.81770833333334,206,186.01041666666666,206,188.203125,208.83333333333334C190.39583333333334,211.66666666666666,192.58854166666666,217.33333333333334,192.58854166666666,223C192.58854166666666,228.66666666666666,190.39583333333334,234.33333333333334,188.203125,237.16666666666666C186.01041666666666,240,183.81770833333334,240,178.3359375,239.28293758140467C172.85416666666666,238.56587516280933,164.08333333333334,237.13175032561867,159.69791666666666,236.41468790702334L155.3125,235.697625488428\"/><path marker-end=\"url(#flowchart-pointEnd)\" style=\"fill:none;\" class=\"edge-thickness-normal edge-pattern-solid flowchart-link LS-continue_recording LE-end_recording\" id=\"L-continue_recording-end_recording-0\" d=\"M77.65625,240L77.65625,245.75C77.65625,251.5,77.65625,263,92.53454945388349,274.5C107.41284890776699,286,137.16944781553397,297.5,152.04774726941747,303.25L166.92604672330097,309\"/><path marker-end=\"url(#flowchart-pointEnd)\" style=\"fill:none;\" class=\"edge-thickness-normal edge-pattern-solid flowchart-link LS-end_recording LE-nothing\" id=\"L-end_recording-nothing-0\" d=\"M239.44425060679612,309L249.09416717233012,303.25C258.74408373786406,297.5,278.04391686893206,286,287.69383343446606,271.6666666666667C297.34375,257.3333333333333,297.34375,240.16666666666666,297.34375,223C297.34375,205.83333333333334,297.34375,188.66666666666666,297.34375,171.5C297.34375,154.33333333333334,297.34375,137.16666666666666,297.34375,120C297.34375,102.83333333333333,297.34375,85.66666666666667,293.155984526699,71.33333333333333C288.96821905339806,57,280.5926881067961,45.5,276.4049226334951,39.75L272.2171571601942,34\"/><path marker-end=\"url(#flowchart-pointEnd)\" style=\"fill:none;\" class=\"edge-thickness-normal edge-pattern-solid flowchart-link LS-end_recording LE-start_recording\" id=\"L-end_recording-start_recording-0\" d=\"M223.70274575242718,309L228.02832979368932,303.25C232.35391383495144,297.5,241.00508191747574,286,245.33066595873788,271.6666666666667C249.65625,257.3333333333333,249.65625,240.16666666666666,249.65625,223C249.65625,205.83333333333334,249.65625,188.66666666666666,239.86851486650485,174.33333333333334C230.08077973300973,160,210.5053094660194,148.5,200.71757433252426,142.75L190.92983919902912,137\"/></g><g class=\"edgeLabels\"><g transform=\"translate(334.8515625, 17)\" class=\"edgeLabel\"><g transform=\"translate(-4.46875, -9.5)\" class=\"label\"><foreignObject height=\"19\" width=\"8.9375\"><div xmlns=\"http://www.w3.org/1999/xhtml\" style=\"display: inline-block; white-space: nowrap;\"><span class=\"edgeLabel\">0</span></div></foreignObject></g></g><g transform=\"translate(161.9921875, 68.5)\" class=\"edgeLabel\"><g transform=\"translate(-3.46875, -9.5)\" class=\"label\"><foreignObject height=\"19\" width=\"6.9375\"><div xmlns=\"http://www.w3.org/1999/xhtml\" style=\"display: inline-block; white-space: nowrap;\"><span class=\"edgeLabel\">1</span></div></foreignObject></g></g><g transform=\"translate(77.65625, 171.5)\" class=\"edgeLabel\"><g transform=\"translate(-4.46875, -9.5)\" class=\"label\"><foreignObject height=\"19\" width=\"8.9375\"><div xmlns=\"http://www.w3.org/1999/xhtml\" style=\"display: inline-block; white-space: nowrap;\"><span class=\"edgeLabel\">0</span></div></foreignObject></g></g><g transform=\"translate(222.71875, 223)\" class=\"edgeLabel\"><g transform=\"translate(-3.46875, -9.5)\" class=\"label\"><foreignObject height=\"19\" width=\"6.9375\"><div xmlns=\"http://www.w3.org/1999/xhtml\" style=\"display: inline-block; white-space: nowrap;\"><span class=\"edgeLabel\">1</span></div></foreignObject></g></g><g transform=\"translate(194.78125, 223)\" class=\"edgeLabel\"><g transform=\"translate(-4.46875, -9.5)\" class=\"label\"><foreignObject height=\"19\" width=\"8.9375\"><div xmlns=\"http://www.w3.org/1999/xhtml\" style=\"display: inline-block; white-space: nowrap;\"><span class=\"edgeLabel\">0</span></div></foreignObject></g></g><g transform=\"translate(77.65625, 274.5)\" class=\"edgeLabel\"><g transform=\"translate(-3.46875, -9.5)\" class=\"label\"><foreignObject height=\"19\" width=\"6.9375\"><div xmlns=\"http://www.w3.org/1999/xhtml\" style=\"display: inline-block; white-space: nowrap;\"><span class=\"edgeLabel\">1</span></div></foreignObject></g></g><g transform=\"translate(297.34375, 171.5)\" class=\"edgeLabel\"><g transform=\"translate(-4.46875, -9.5)\" class=\"label\"><foreignObject height=\"19\" width=\"8.9375\"><div xmlns=\"http://www.w3.org/1999/xhtml\" style=\"display: inline-block; white-space: nowrap;\"><span class=\"edgeLabel\">0</span></div></foreignObject></g></g><g transform=\"translate(249.65625, 223)\" class=\"edgeLabel\"><g transform=\"translate(-3.46875, -9.5)\" class=\"label\"><foreignObject height=\"19\" width=\"6.9375\"><div xmlns=\"http://www.w3.org/1999/xhtml\" style=\"display: inline-block; white-space: nowrap;\"><span class=\"edgeLabel\">1</span></div></foreignObject></g></g></g><g class=\"nodes\"><g transform=\"translate(259.8359375, 17)\" id=\"flowchart-nothing-32\" class=\"node default default flowchart-label\"><rect height=\"34\" width=\"71.09375\" y=\"-17\" x=\"-35.546875\" ry=\"0\" rx=\"0\" style=\"\" class=\"basic label-container\"/><g transform=\"translate(-28.046875, -9.5)\" style=\"\" class=\"label\"><rect/><foreignObject height=\"19\" width=\"56.09375\"><div xmlns=\"http://www.w3.org/1999/xhtml\" style=\"display: inline-block; white-space: nowrap;\"><span class=\"nodeLabel\">nothing</span></div></foreignObject></g></g><g transform=\"translate(161.9921875, 120)\" id=\"flowchart-start_recording-35\" class=\"node default default flowchart-label\"><rect height=\"34\" width=\"125.6875\" y=\"-17\" x=\"-62.84375\" ry=\"0\" rx=\"0\" style=\"\" class=\"basic label-container\"/><g transform=\"translate(-55.34375, -9.5)\" style=\"\" class=\"label\"><rect/><foreignObject height=\"19\" width=\"110.6875\"><div xmlns=\"http://www.w3.org/1999/xhtml\" style=\"display: inline-block; white-space: nowrap;\"><span class=\"nodeLabel\">start_recording</span></div></foreignObject></g></g><g transform=\"translate(77.65625, 223)\" id=\"flowchart-continue_recording-37\" class=\"node default default flowchart-label\"><rect height=\"34\" width=\"155.3125\" y=\"-17\" x=\"-77.65625\" ry=\"0\" rx=\"0\" style=\"\" class=\"basic label-container\"/><g transform=\"translate(-70.15625, -9.5)\" style=\"\" class=\"label\"><rect/><foreignObject height=\"19\" width=\"140.3125\"><div xmlns=\"http://www.w3.org/1999/xhtml\" style=\"display: inline-block; white-space: nowrap;\"><span class=\"nodeLabel\">continue_recording</span></div></foreignObject></g></g><g transform=\"translate(210.9140625, 326)\" id=\"flowchart-end_recording-39\" class=\"node default default flowchart-label\"><rect height=\"34\" width=\"119.546875\" y=\"-17\" x=\"-59.7734375\" ry=\"0\" rx=\"0\" style=\"\" class=\"basic label-container\"/><g transform=\"translate(-52.2734375, -9.5)\" style=\"\" class=\"label\"><rect/><foreignObject height=\"19\" width=\"104.546875\"><div xmlns=\"http://www.w3.org/1999/xhtml\" style=\"display: inline-block; white-space: nowrap;\"><span class=\"nodeLabel\">end_recording</span></div></foreignObject></g></g></g></g></g></svg>"
      ],
      "text/plain": [
       "<IPython.core.display.SVG object>"
      ]
     },
     "execution_count": 48,
     "metadata": {},
     "output_type": "execute_result"
    }
   ],
   "source": [
    "%%kroki mermaid\n",
    "flowchart TD\n",
    "   nothing -->|0| nothing\n",
    "   nothing -->|1| start_recording\n",
    "   start_recording -->|0| continue_recording\n",
    "   start_recording -->|1| end_recording\n",
    "   continue_recording -->|0| continue_recording\n",
    "   continue_recording -->|1| end_recording\n",
    "   end_recording -->|0| nothing\n",
    "   end_recording -->|1| start_recording"
   ]
  },
  {
   "attachments": {},
   "cell_type": "markdown",
   "metadata": {},
   "source": [
    "<script src=\"https://cdn.jsdelivr.net/npm/mermaid/dist/mermaid.min.js\">\n",
    "\n",
    "This \n",
    "```html\n",
    "<div class=\"mermaid\">\n",
    "graph TD;\n",
    "A-->B;\n",
    "A-->C;\n",
    "B-->D;\n",
    "C-->D;\n",
    "</div>\n",
    "```"
   ]
  },
  {
   "cell_type": "code",
   "execution_count": 17,
   "metadata": {},
   "outputs": [
    {
     "data": {
      "image/svg+xml": [
       "<svg xmlns=\"http://www.w3.org/2000/svg\" aria-roledescription=\"flowchart-v2\" role=\"graphics-document document\" viewBox=\"-8 -8 397.12109375 662.078125\" height=\"662.078125\" width=\"397.12109375\" id=\"container\"><style>#container{font-family:&quot;trebuchet ms&quot;,verdana,arial,sans-serif;font-size:16px;fill:#333;}#container .error-icon{fill:#552222;}#container .error-text{fill:#552222;stroke:#552222;}#container .edge-thickness-normal{stroke-width:2px;}#container .edge-thickness-thick{stroke-width:3.5px;}#container .edge-pattern-solid{stroke-dasharray:0;}#container .edge-pattern-dashed{stroke-dasharray:3;}#container .edge-pattern-dotted{stroke-dasharray:2;}#container .marker{fill:#333333;stroke:#333333;}#container .marker.cross{stroke:#333333;}#container svg{font-family:&quot;trebuchet ms&quot;,verdana,arial,sans-serif;font-size:16px;}#container .label{font-family:&quot;trebuchet ms&quot;,verdana,arial,sans-serif;color:#333;}#container .cluster-label text{fill:#333;}#container .cluster-label span,#container p{color:#333;}#container .label text,#container span,#container p{fill:#333;color:#333;}#container .node rect,#container .node circle,#container .node ellipse,#container .node polygon,#container .node path{fill:#ECECFF;stroke:#9370DB;stroke-width:1px;}#container .flowchart-label text{text-anchor:middle;}#container .node .label{text-align:center;}#container .node.clickable{cursor:pointer;}#container .arrowheadPath{fill:#333333;}#container .edgePath .path{stroke:#333333;stroke-width:2.0px;}#container .flowchart-link{stroke:#333333;fill:none;}#container .edgeLabel{background-color:#e8e8e8;text-align:center;}#container .edgeLabel rect{opacity:0.5;background-color:#e8e8e8;fill:#e8e8e8;}#container .cluster rect{fill:#ffffde;stroke:#aaaa33;stroke-width:1px;}#container .cluster text{fill:#333;}#container .cluster span,#container p{color:#333;}#container div.mermaidTooltip{position:absolute;text-align:center;max-width:200px;padding:2px;font-family:&quot;trebuchet ms&quot;,verdana,arial,sans-serif;font-size:12px;background:hsl(80, 100%, 96.2745098039%);border:1px solid #aaaa33;border-radius:2px;pointer-events:none;z-index:100;}#container .flowchartTitleText{text-anchor:middle;font-size:18px;fill:#333;}#container :root{--mermaid-font-family:&quot;trebuchet ms&quot;,verdana,arial,sans-serif;}</style><g><marker orient=\"auto\" markerHeight=\"12\" markerWidth=\"12\" markerUnits=\"userSpaceOnUse\" refY=\"5\" refX=\"10\" viewBox=\"0 0 12 20\" class=\"marker flowchart\" id=\"flowchart-pointEnd\"><path style=\"stroke-width: 1; stroke-dasharray: 1, 0;\" class=\"arrowMarkerPath\" d=\"M 0 0 L 10 5 L 0 10 z\"/></marker><marker orient=\"auto\" markerHeight=\"12\" markerWidth=\"12\" markerUnits=\"userSpaceOnUse\" refY=\"5\" refX=\"0\" viewBox=\"0 0 10 10\" class=\"marker flowchart\" id=\"flowchart-pointStart\"><path style=\"stroke-width: 1; stroke-dasharray: 1, 0;\" class=\"arrowMarkerPath\" d=\"M 0 5 L 10 10 L 10 0 z\"/></marker><marker orient=\"auto\" markerHeight=\"11\" markerWidth=\"11\" markerUnits=\"userSpaceOnUse\" refY=\"5\" refX=\"11\" viewBox=\"0 0 10 10\" class=\"marker flowchart\" id=\"flowchart-circleEnd\"><circle style=\"stroke-width: 1; stroke-dasharray: 1, 0;\" class=\"arrowMarkerPath\" r=\"5\" cy=\"5\" cx=\"5\"/></marker><marker orient=\"auto\" markerHeight=\"11\" markerWidth=\"11\" markerUnits=\"userSpaceOnUse\" refY=\"5\" refX=\"-1\" viewBox=\"0 0 10 10\" class=\"marker flowchart\" id=\"flowchart-circleStart\"><circle style=\"stroke-width: 1; stroke-dasharray: 1, 0;\" class=\"arrowMarkerPath\" r=\"5\" cy=\"5\" cx=\"5\"/></marker><marker orient=\"auto\" markerHeight=\"11\" markerWidth=\"11\" markerUnits=\"userSpaceOnUse\" refY=\"5.2\" refX=\"12\" viewBox=\"0 0 11 11\" class=\"marker cross flowchart\" id=\"flowchart-crossEnd\"><path style=\"stroke-width: 2; stroke-dasharray: 1, 0;\" class=\"arrowMarkerPath\" d=\"M 1,1 l 9,9 M 10,1 l -9,9\"/></marker><marker orient=\"auto\" markerHeight=\"11\" markerWidth=\"11\" markerUnits=\"userSpaceOnUse\" refY=\"5.2\" refX=\"-1\" viewBox=\"0 0 11 11\" class=\"marker cross flowchart\" id=\"flowchart-crossStart\"><path style=\"stroke-width: 2; stroke-dasharray: 1, 0;\" class=\"arrowMarkerPath\" d=\"M 1,1 l 9,9 M 10,1 l -9,9\"/></marker><g class=\"root\"><g class=\"clusters\"/><g class=\"edgePaths\"><path marker-end=\"url(#flowchart-pointEnd)\" style=\"fill:none;\" class=\"edge-thickness-normal edge-pattern-solid flowchart-link LS-* LE-key\" id=\"L-*-key-0\" d=\"M127.12890625,26.638671875L120.96484375,32.0322265625C114.80078125,37.42578125,102.47265625,48.212890625,96.30859375,65.00227864583333C90.14453125,81.79166666666667,90.14453125,104.58333333333333,90.14453125,127.375C90.14453125,150.16666666666666,90.14453125,172.95833333333334,90.14453125,192.31510416666666C90.14453125,211.671875,90.14453125,227.59375,90.14453125,235.5546875L90.14453125,243.515625\"/><path marker-end=\"url(#flowchart-pointEnd)\" style=\"fill:none;\" class=\"edge-thickness-normal edge-pattern-solid flowchart-link LS-* LE-chk\" id=\"L-*-chk-0\" d=\"M127.12890625,21.096143869963687L110.13997395833333,27.41345322496974C93.15104166666667,33.73076257997579,59.173177083333336,46.3653812899879,42.184244791666664,64.07852397832728C25.1953125,81.79166666666667,25.1953125,104.58333333333333,25.1953125,127.375C25.1953125,150.16666666666666,25.1953125,172.95833333333334,25.1953125,195.61328125C25.1953125,218.26822916666666,25.1953125,240.78645833333334,25.1953125,264.8880208333333C25.1953125,288.9895833333333,25.1953125,314.6744791666667,25.1953125,336.1002604166667C25.1953125,357.5260416666667,25.1953125,374.6927083333333,25.1953125,391.859375C25.1953125,409.0260416666667,25.1953125,426.1927083333333,25.1953125,444.1927083333333C25.1953125,462.1927083333333,25.1953125,481.0260416666667,25.1953125,490.4427083333333L25.1953125,499.859375\"/><path marker-end=\"url(#flowchart-pointEnd)\" style=\"fill:none;\" class=\"edge-thickness-normal edge-pattern-solid flowchart-link LS-* LE-command\" id=\"L-*-command-0\" d=\"M149.16015625,19.784988713318285L175.01171875,26.320823927765236C200.86328125,32.85665914221219,252.56640625,45.9283295711061,278.41796875,56.63083145221972C304.26953125,67.33333333333333,304.26953125,75.66666666666667,304.26953125,79.83333333333333L304.26953125,84\"/><path marker-end=\"url(#flowchart-pointEnd)\" style=\"fill:none;\" class=\"edge-thickness-normal edge-pattern-solid flowchart-link LS-* LE-store\" id=\"L-*-store-0\" d=\"M149.16015625,26.703424545305587L155.27083333333334,32.08618712108799C161.38151041666666,37.46894969687039,173.60286458333334,48.23447484843519,179.71354166666666,65.01307075755093C185.82421875,81.79166666666667,185.82421875,104.58333333333333,185.82421875,127.375C185.82421875,150.16666666666666,185.82421875,172.95833333333334,185.82421875,191.29817708333334C185.82421875,209.63802083333334,185.82421875,223.52604166666666,185.82421875,230.47005208333334L185.82421875,237.4140625\"/><path marker-end=\"url(#flowchart-pointEnd)\" style=\"fill:none;\" class=\"edge-thickness-normal edge-pattern-solid flowchart-link LS-command LE-state\" id=\"L-command-state-0\" d=\"M304.26953125,170.75L304.26953125,174.91666666666666C304.26953125,179.08333333333334,304.26953125,187.41666666666666,304.3528645833333,195.83333333333334C304.4361979166667,204.25,304.6028645833333,212.75,304.6861979166667,217L304.76953125,221.25\"/><path marker-end=\"url(#flowchart-pointEnd)\" style=\"fill:none;\" class=\"edge-thickness-normal edge-pattern-solid flowchart-link LS-state LE-create\" id=\"L-state-create-0\" d=\"M304.85779665130013,306.27110959869987L304.78644512608344,311.95248716558325C304.71509360086674,317.6338647324666,304.57239055043334,328.9966198662333,294.7006559851681,340.4279974331167C284.8289214199029,351.859375,265.2281553398058,363.359375,255.42777229975727,369.109375L245.62738925970874,374.859375\"/><path marker-end=\"url(#flowchart-pointEnd)\" style=\"fill:none;\" class=\"edge-thickness-normal edge-pattern-solid flowchart-link LS-state LE-append\" id=\"L-state-append-0\" d=\"M273.10795136117815,274.69779511117815L240.97407405098178,285.6413917593151C208.84019674078544,296.5849884074521,144.5724421203927,318.47218170372605,112.43856481019635,337.99911168519634C80.3046875,357.5260416666667,80.3046875,374.6927083333333,80.3046875,391.859375C80.3046875,409.0260416666667,80.3046875,426.1927083333333,80.3046875,447.5442708333333C80.3046875,468.8958333333333,80.3046875,494.4322916666667,80.3046875,518.3854166666666C80.3046875,542.3385416666666,80.3046875,564.7083333333334,75.82955109126983,580.0598958333334C71.35441468253968,595.4114583333334,62.40414186507937,603.7447916666666,57.92900545634921,607.9114583333334L53.45386904761905,612.078125\"/><path marker-end=\"url(#flowchart-pointEnd)\" style=\"fill:none;\" class=\"edge-thickness-normal edge-pattern-solid flowchart-link LS-state LE-close\" id=\"L-state-close-0\" d=\"M323.03645283295236,288.09245341704764L329.56748673579364,296.80360701420636C336.0985206386349,305.5147606113651,349.16058844431745,322.93706780568255,355.6916223471587,340.2315547361746C362.22265625,357.5260416666667,362.22265625,374.6927083333333,362.22265625,391.859375C362.22265625,409.0260416666667,362.22265625,426.1927083333333,362.22265625,447.5442708333333C362.22265625,468.8958333333333,362.22265625,494.4322916666667,362.22265625,518.3854166666666C362.22265625,542.3385416666666,362.22265625,564.7083333333334,357.48129030257934,580.0598958333334C352.73992435515873,595.4114583333334,343.2571924603174,603.7447916666666,338.5158265128968,607.9114583333334L333.7744605654762,612.078125\"/><path marker-end=\"url(#flowchart-pointEnd)\" style=\"fill:none;\" class=\"edge-thickness-normal edge-pattern-solid flowchart-link LS-store LE-create\" id=\"L-store-create-0\" d=\"M197.44787199565613,286.4394048770369L201.96307041304678,295.4260665641974C206.4782688304374,304.4127282513579,215.5086656652187,322.38605162567893,219.14330810566761,337.1227133128395C222.7779505461165,351.859375,221.01683859223303,363.359375,220.1362826152913,369.109375L219.25572663834953,374.859375\"/><path marker-end=\"url(#flowchart-pointEnd)\" style=\"fill:none;\" class=\"edge-thickness-normal edge-pattern-solid flowchart-link LS-key LE-create\" id=\"L-key-create-0\" d=\"M99.02887454247042,280.9873184945789L104.00062461872535,290.88266124548244C108.97237469498027,300.77800399638596,118.91587484749014,320.56868949819295,133.68975250262858,336.2140322490965C148.46363015776697,351.859375,168.06788531553397,363.359375,177.8700128944175,369.109375L187.67214047330097,374.859375\"/><path marker-end=\"url(#flowchart-pointEnd)\" style=\"fill:none;\" class=\"edge-thickness-normal edge-pattern-solid flowchart-link LS-create LE-sequence\" id=\"L-create-sequence-0\" d=\"M216.65234375,408.859375L216.65234375,414.609375C216.65234375,420.359375,216.65234375,431.859375,216.65234375,443.359375C216.65234375,454.859375,216.65234375,466.359375,216.65234375,472.109375L216.65234375,477.859375\"/><path marker-end=\"url(#flowchart-pointEnd)\" style=\"fill:none;\" class=\"edge-thickness-normal edge-pattern-solid flowchart-link LS-sequence LE-append\" id=\"L-sequence-append-0\" d=\"M177.68300900379828,535.9246395812519L156.86084083649857,544.4502204843766C136.03867266919886,552.9758013875013,94.39433633459942,570.0269631937507,71.83063170896638,582.719210763542C49.266927083333336,595.4114583333334,45.783854166666664,603.7447916666666,44.042317708333336,607.9114583333334L42.30078125,612.078125\"/><path marker-end=\"url(#flowchart-pointEnd)\" style=\"fill:none;\" class=\"edge-thickness-normal edge-pattern-solid flowchart-link LS-chk LE-append\" id=\"L-chk-append-0\" d=\"M25.1953125,540.078125L25.1953125,547.9114583333334C25.1953125,555.7447916666666,25.1953125,571.4114583333334,26.187375992063494,583.4114583333334C27.179439484126984,595.4114583333334,29.163566468253965,603.7447916666666,30.15562996031746,607.9114583333334L31.147693452380953,612.078125\"/><path marker-end=\"url(#flowchart-pointEnd)\" style=\"fill:none;\" class=\"edge-thickness-normal edge-pattern-solid flowchart-link LS-sequence LE-close\" id=\"L-sequence-close-0\" d=\"M216.65234375,562.078125L216.65234375,566.2447916666666C216.65234375,570.4114583333334,216.65234375,578.7447916666666,228.548828125,588.0215618050285C240.4453125,597.2983319433902,264.23828125,607.5185388867804,276.134765625,612.6286423584755L288.03125,617.7387458301706\"/></g><g class=\"edgeLabels\"><g class=\"edgeLabel\"><g transform=\"translate(0, 0)\" class=\"label\"><foreignObject height=\"0\" width=\"0\"><div xmlns=\"http://www.w3.org/1999/xhtml\" style=\"display: inline-block; white-space: nowrap;\"><span class=\"edgeLabel\"/></div></foreignObject></g></g><g class=\"edgeLabel\"><g transform=\"translate(0, 0)\" class=\"label\"><foreignObject height=\"0\" width=\"0\"><div xmlns=\"http://www.w3.org/1999/xhtml\" style=\"display: inline-block; white-space: nowrap;\"><span class=\"edgeLabel\"/></div></foreignObject></g></g><g class=\"edgeLabel\"><g transform=\"translate(0, 0)\" class=\"label\"><foreignObject height=\"0\" width=\"0\"><div xmlns=\"http://www.w3.org/1999/xhtml\" style=\"display: inline-block; white-space: nowrap;\"><span class=\"edgeLabel\"/></div></foreignObject></g></g><g class=\"edgeLabel\"><g transform=\"translate(0, 0)\" class=\"label\"><foreignObject height=\"0\" width=\"0\"><div xmlns=\"http://www.w3.org/1999/xhtml\" style=\"display: inline-block; white-space: nowrap;\"><span class=\"edgeLabel\"/></div></foreignObject></g></g><g class=\"edgeLabel\"><g transform=\"translate(0, 0)\" class=\"label\"><foreignObject height=\"0\" width=\"0\"><div xmlns=\"http://www.w3.org/1999/xhtml\" style=\"display: inline-block; white-space: nowrap;\"><span class=\"edgeLabel\"/></div></foreignObject></g></g><g transform=\"translate(304.4296875, 340.359375)\" class=\"edgeLabel\"><g transform=\"translate(-18.4765625, -9.5)\" class=\"label\"><foreignObject height=\"19\" width=\"36.953125\"><div xmlns=\"http://www.w3.org/1999/xhtml\" style=\"display: inline-block; white-space: nowrap;\"><span class=\"edgeLabel\">open</span></div></foreignObject></g></g><g transform=\"translate(80.3046875, 443.359375)\" class=\"edgeLabel\"><g transform=\"translate(-31.875, -9.5)\" class=\"label\"><foreignObject height=\"19\" width=\"63.75\"><div xmlns=\"http://www.w3.org/1999/xhtml\" style=\"display: inline-block; white-space: nowrap;\"><span class=\"edgeLabel\">continue</span></div></foreignObject></g></g><g transform=\"translate(362.22265625, 443.359375)\" class=\"edgeLabel\"><g transform=\"translate(-18.8984375, -9.5)\" class=\"label\"><foreignObject height=\"19\" width=\"37.796875\"><div xmlns=\"http://www.w3.org/1999/xhtml\" style=\"display: inline-block; white-space: nowrap;\"><span class=\"edgeLabel\">close</span></div></foreignObject></g></g><g class=\"edgeLabel\"><g transform=\"translate(0, 0)\" class=\"label\"><foreignObject height=\"0\" width=\"0\"><div xmlns=\"http://www.w3.org/1999/xhtml\" style=\"display: inline-block; white-space: nowrap;\"><span class=\"edgeLabel\"/></div></foreignObject></g></g><g class=\"edgeLabel\"><g transform=\"translate(0, 0)\" class=\"label\"><foreignObject height=\"0\" width=\"0\"><div xmlns=\"http://www.w3.org/1999/xhtml\" style=\"display: inline-block; white-space: nowrap;\"><span class=\"edgeLabel\"/></div></foreignObject></g></g><g class=\"edgeLabel\"><g transform=\"translate(0, 0)\" class=\"label\"><foreignObject height=\"0\" width=\"0\"><div xmlns=\"http://www.w3.org/1999/xhtml\" style=\"display: inline-block; white-space: nowrap;\"><span class=\"edgeLabel\"/></div></foreignObject></g></g><g class=\"edgeLabel\"><g transform=\"translate(0, 0)\" class=\"label\"><foreignObject height=\"0\" width=\"0\"><div xmlns=\"http://www.w3.org/1999/xhtml\" style=\"display: inline-block; white-space: nowrap;\"><span class=\"edgeLabel\"/></div></foreignObject></g></g><g class=\"edgeLabel\"><g transform=\"translate(0, 0)\" class=\"label\"><foreignObject height=\"0\" width=\"0\"><div xmlns=\"http://www.w3.org/1999/xhtml\" style=\"display: inline-block; white-space: nowrap;\"><span class=\"edgeLabel\"/></div></foreignObject></g></g><g class=\"edgeLabel\"><g transform=\"translate(0, 0)\" class=\"label\"><foreignObject height=\"0\" width=\"0\"><div xmlns=\"http://www.w3.org/1999/xhtml\" style=\"display: inline-block; white-space: nowrap;\"><span class=\"edgeLabel\"/></div></foreignObject></g></g></g><g class=\"nodes\"><g transform=\"translate(138.14453125, 17)\" id=\"flowchart-*-56\" class=\"node default default flowchart-label\"><rect height=\"34\" width=\"22.03125\" y=\"-17\" x=\"-11.015625\" ry=\"0\" rx=\"0\" style=\"\" class=\"basic label-container\"/><g transform=\"translate(-3.515625, -9.5)\" style=\"\" class=\"label\"><rect/><foreignObject height=\"19\" width=\"7.03125\"><div xmlns=\"http://www.w3.org/1999/xhtml\" style=\"display: inline-block; white-space: nowrap;\"><span class=\"nodeLabel\">*</span></div></foreignObject></g></g><g transform=\"translate(90.14453125, 263.3046875)\" id=\"flowchart-key-57\" class=\"node default default flowchart-label\"><circle height=\"34\" width=\"39.578125\" r=\"19.7890625\" ry=\"0\" rx=\"0\" style=\"\"/><g transform=\"translate(-12.2890625, -9.5)\" style=\"\" class=\"label\"><rect/><foreignObject height=\"19\" width=\"24.578125\"><div xmlns=\"http://www.w3.org/1999/xhtml\" style=\"display: inline-block; white-space: nowrap;\"><span class=\"nodeLabel\">key</span></div></foreignObject></g></g><g transform=\"translate(25.1953125, 519.96875)\" id=\"flowchart-chk-59\" class=\"node default default flowchart-label\"><circle height=\"34\" width=\"40.21875\" r=\"20.109375\" ry=\"0\" rx=\"0\" style=\"\"/><g transform=\"translate(-12.609375, -9.5)\" style=\"\" class=\"label\"><rect/><foreignObject height=\"19\" width=\"25.21875\"><div xmlns=\"http://www.w3.org/1999/xhtml\" style=\"display: inline-block; white-space: nowrap;\"><span class=\"nodeLabel\">chk</span></div></foreignObject></g></g><g transform=\"translate(304.26953125, 127.375)\" id=\"flowchart-command-61\" class=\"node default default flowchart-label\"><circle height=\"34\" width=\"86.75\" r=\"43.375\" ry=\"0\" rx=\"0\" style=\"\"/><g transform=\"translate(-35.875, -9.5)\" style=\"\" class=\"label\"><rect/><foreignObject height=\"19\" width=\"71.75\"><div xmlns=\"http://www.w3.org/1999/xhtml\" style=\"display: inline-block; white-space: nowrap;\"><span class=\"nodeLabel\">command</span></div></foreignObject></g></g><g transform=\"translate(185.82421875, 263.3046875)\" id=\"flowchart-store-63\" class=\"node default default flowchart-label\"><circle height=\"34\" width=\"51.78125\" r=\"25.890625\" ry=\"0\" rx=\"0\" style=\"\"/><g transform=\"translate(-18.390625, -9.5)\" style=\"\" class=\"label\"><rect/><foreignObject height=\"19\" width=\"36.78125\"><div xmlns=\"http://www.w3.org/1999/xhtml\" style=\"display: inline-block; white-space: nowrap;\"><span class=\"nodeLabel\">store</span></div></foreignObject></g></g><g transform=\"translate(304.26953125, 263.3046875)\" id=\"flowchart-state-65\" class=\"node default default flowchart-label\"><polygon style=\"\" transform=\"translate(-42.5546875,42.5546875)\" class=\"label-container\" points=\"42.5546875,0 85.109375,-42.5546875 42.5546875,-85.109375 0,-42.5546875\"/><g transform=\"translate(-18.0546875, -9.5)\" style=\"\" class=\"label\"><rect/><foreignObject height=\"19\" width=\"36.109375\"><div xmlns=\"http://www.w3.org/1999/xhtml\" style=\"display: inline-block; white-space: nowrap;\"><span class=\"nodeLabel\">state</span></div></foreignObject></g></g><g transform=\"translate(216.65234375, 391.859375)\" id=\"flowchart-create-67\" class=\"node default default flowchart-label\"><rect height=\"34\" width=\"59.875\" y=\"-17\" x=\"-29.9375\" ry=\"0\" rx=\"0\" style=\"\" class=\"basic label-container\"/><g transform=\"translate(-22.4375, -9.5)\" style=\"\" class=\"label\"><rect/><foreignObject height=\"19\" width=\"44.875\"><div xmlns=\"http://www.w3.org/1999/xhtml\" style=\"display: inline-block; white-space: nowrap;\"><span class=\"nodeLabel\">create</span></div></foreignObject></g></g><g transform=\"translate(35.1953125, 629.078125)\" id=\"flowchart-append-69\" class=\"node default default flowchart-label\"><rect height=\"34\" width=\"70.390625\" y=\"-17\" x=\"-35.1953125\" ry=\"0\" rx=\"0\" style=\"\" class=\"basic label-container\"/><g transform=\"translate(-27.6953125, -9.5)\" style=\"\" class=\"label\"><rect/><foreignObject height=\"19\" width=\"55.390625\"><div xmlns=\"http://www.w3.org/1999/xhtml\" style=\"display: inline-block; white-space: nowrap;\"><span class=\"nodeLabel\">append</span></div></foreignObject></g></g><g transform=\"translate(314.4296875, 629.078125)\" id=\"flowchart-close-71\" class=\"node default default flowchart-label\"><rect height=\"34\" width=\"52.796875\" y=\"-17\" x=\"-26.3984375\" ry=\"0\" rx=\"0\" style=\"\" class=\"basic label-container\"/><g transform=\"translate(-18.8984375, -9.5)\" style=\"\" class=\"label\"><rect/><foreignObject height=\"19\" width=\"37.796875\"><div xmlns=\"http://www.w3.org/1999/xhtml\" style=\"display: inline-block; white-space: nowrap;\"><span class=\"nodeLabel\">close</span></div></foreignObject></g></g><g transform=\"translate(216.65234375, 519.96875)\" id=\"flowchart-sequence-77\" class=\"node default default flowchart-label\"><circle height=\"34\" width=\"84.21875\" r=\"42.109375\" ry=\"0\" rx=\"0\" style=\"\"/><g transform=\"translate(-34.609375, -9.5)\" style=\"\" class=\"label\"><rect/><foreignObject height=\"19\" width=\"69.21875\"><div xmlns=\"http://www.w3.org/1999/xhtml\" style=\"display: inline-block; white-space: nowrap;\"><span class=\"nodeLabel\">sequence</span></div></foreignObject></g></g></g></g></g></svg>"
      ],
      "text/plain": [
       "<IPython.core.display.SVG object>"
      ]
     },
     "execution_count": 17,
     "metadata": {},
     "output_type": "execute_result"
    }
   ],
   "source": [
    "%%kroki mermaid\n",
    "flowchart TD\n",
    "    * --> key((key))\n",
    "    * --> chk((chk))\n",
    "    * --> command((command))\n",
    "    * --> store((store))\n",
    "\n",
    "    command --> state{state}\n",
    "    state -->|open| create\n",
    "    state -->|resume| append\n",
    "    state -->|close| close\n",
    "\n",
    "    store --> create\n",
    "    key --> create\n",
    "    create --> sequence((sequence))\n",
    "    \n",
    "    sequence --> append\n",
    "    chk --> append\n",
    "    sequence --> close\n",
    "    "
   ]
  },
  {
   "cell_type": "code",
   "execution_count": null,
   "metadata": {},
   "outputs": [],
   "source": [
    "\n",
    "\n"
   ]
  }
 ],
 "metadata": {
  "kernelspec": {
   "display_name": "Python 3",
   "language": "python",
   "name": "python3"
  },
  "language_info": {
   "codemirror_mode": {
    "name": "ipython",
    "version": 3
   },
   "file_extension": ".py",
   "mimetype": "text/x-python",
   "name": "python",
   "nbconvert_exporter": "python",
   "pygments_lexer": "ipython3",
   "version": "3.10.8"
  },
  "orig_nbformat": 4
 },
 "nbformat": 4,
 "nbformat_minor": 2
}
